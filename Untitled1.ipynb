{
 "cells": [
  {
   "cell_type": "markdown",
   "metadata": {},
   "source": [
    "# Justification for Barcode Readers\n",
    "\n",
    "We **really need *bar code*** scanners. \n",
    "\n",
    "> \"Bar code readers are the best.\"\n",
    "\n",
    "[Report on barcode readers](www.google.com)\n"
   ]
  },
  {
   "cell_type": "code",
   "execution_count": null,
   "metadata": {},
   "outputs": [],
   "source": [
    "import sqlite3\n",
    "\n",
    "print(\"this many cars....\")"
   ]
  },
  {
   "cell_type": "markdown",
   "metadata": {},
   "source": [
    "Top three reasons we need bar code scanners:\n",
    "* cool\n",
    "* fast\n",
    "* i like them\n",
    "\n",
    "Next actions:\n",
    "- [ ] Buy scanners\n",
    "- [x] Get training\n"
   ]
  },
  {
   "cell_type": "markdown",
   "metadata": {},
   "source": [
    "# How to use f strings\n"
   ]
  },
  {
   "cell_type": "code",
   "execution_count": null,
   "metadata": {},
   "outputs": [],
   "source": [
    "a = \"\"\"apple's\"\"\"\n",
    "print(f\"I like an {a}.\\nThey are the best!\")"
   ]
  },
  {
   "cell_type": "code",
   "execution_count": null,
   "metadata": {},
   "outputs": [],
   "source": []
  },
  {
   "cell_type": "code",
   "execution_count": 4,
   "metadata": {},
   "outputs": [],
   "source": [
    "alpha1 = {\"a\":1,\"b\":2,\"c\":\"3\",\"d\":4,\"e\":5}\n",
    "alpha2 = {\"c\":\"4\",\"f\":6,\"g\":7,\"h\":8}"
   ]
  },
  {
   "cell_type": "code",
   "execution_count": 5,
   "metadata": {},
   "outputs": [],
   "source": [
    "def joinDicts(dict1, dict2):\n",
    "    for key in dict2.keys():\n",
    "        if key in dict1:\n",
    "            dict1[key] = dict1[key] + dict2[key]\n",
    "        #else:\n",
    "        #    dict1[key] = dict2[key]"
   ]
  },
  {
   "cell_type": "code",
   "execution_count": 6,
   "metadata": {},
   "outputs": [
    {
     "name": "stdout",
     "output_type": "stream",
     "text": [
      "alpha1 = {'a': 1, 'b': 2, 'c': '34', 'd': 4, 'e': 5}\n",
      "alpha2 = {'c': '4', 'f': 6, 'g': 7, 'h': 8}\n"
     ]
    }
   ],
   "source": [
    "joinDicts(alpha1,alpha2)\n",
    "print(\"alpha1 =\",alpha1)\n",
    "print(\"alpha2 =\", alpha2)"
   ]
  },
  {
   "cell_type": "code",
   "execution_count": null,
   "metadata": {},
   "outputs": [],
   "source": []
  }
 ],
 "metadata": {
  "kernelspec": {
   "display_name": "Python 3",
   "language": "python",
   "name": "python3"
  },
  "language_info": {
   "codemirror_mode": {
    "name": "ipython",
    "version": 3
   },
   "file_extension": ".py",
   "mimetype": "text/x-python",
   "name": "python",
   "nbconvert_exporter": "python",
   "pygments_lexer": "ipython3",
   "version": "3.7.3"
  }
 },
 "nbformat": 4,
 "nbformat_minor": 2
}
