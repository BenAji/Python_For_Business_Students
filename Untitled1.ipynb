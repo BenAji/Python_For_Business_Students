{
 "cells": [
  {
   "cell_type": "markdown",
   "metadata": {},
   "source": [
    "# Justification for Barcode Readers\n",
    "\n",
    "We **really need *bar code*** scanners. \n",
    "\n",
    "> \"Bar code readers are the best.\"\n",
    "\n",
    "[Report on barcode readers](www.google.com)\n"
   ]
  },
  {
   "cell_type": "code",
   "execution_count": null,
   "metadata": {},
   "outputs": [],
   "source": [
    "import sqlite3\n",
    "\n",
    "print(\"this many cars....\")"
   ]
  },
  {
   "cell_type": "markdown",
   "metadata": {},
   "source": [
    "Top three reasons we need bar code scanners:\n",
    "* cool\n",
    "* fast\n",
    "* i like them\n",
    "\n",
    "Next actions:\n",
    "- [ ] Buy scanners\n",
    "- [x] Get training\n"
   ]
  },
  {
   "cell_type": "markdown",
   "metadata": {},
   "source": [
    "# How to use f strings\n"
   ]
  },
  {
   "cell_type": "code",
   "execution_count": null,
   "metadata": {},
   "outputs": [],
   "source": [
    "a = \"\"\"apple's\"\"\"\n",
    "print(f\"I like an {a}.\\nThey are the best!\")"
   ]
  },
  {
   "cell_type": "code",
   "execution_count": null,
   "metadata": {},
   "outputs": [],
   "source": []
  },
  {
   "cell_type": "code",
   "execution_count": 4,
   "metadata": {},
   "outputs": [],
   "source": [
    "alpha1 = {\"a\":1,\"b\":2,\"c\":\"3\",\"d\":4,\"e\":5}\n",
    "alpha2 = {\"c\":\"4\",\"f\":6,\"g\":7,\"h\":8}"
   ]
  },
  {
   "cell_type": "code",
   "execution_count": 5,
   "metadata": {},
   "outputs": [],
   "source": [
    "def joinDicts(dict1, dict2):\n",
    "    for key in dict2.keys():\n",
    "        if key in dict1:\n",
    "            dict1[key] = dict1[key] + dict2[key]\n",
    "        #else:\n",
    "        #    dict1[key] = dict2[key]"
   ]
  },
  {
   "cell_type": "code",
   "execution_count": 6,
   "metadata": {},
   "outputs": [
    {
     "name": "stdout",
     "output_type": "stream",
     "text": [
      "alpha1 = {'a': 1, 'b': 2, 'c': '34', 'd': 4, 'e': 5}\n",
      "alpha2 = {'c': '4', 'f': 6, 'g': 7, 'h': 8}\n"
     ]
    }
   ],
   "source": [
    "joinDicts(alpha1,alpha2)\n",
    "print(\"alpha1 =\",alpha1)\n",
    "print(\"alpha2 =\", alpha2)"
   ]
  },
  {
   "cell_type": "code",
   "execution_count": 3,
   "metadata": {},
   "outputs": [],
   "source": [
    "from win32api import *\n",
    "from win32gui import *\n",
    "import win32con\n",
    "import sys, os\n",
    "import struct\n",
    "import time\n",
    "\n",
    "class WindowsBalloonTip:\n",
    "    def __init__(self, title, msg):\n",
    "        message_map = {\n",
    "                win32con.WM_DESTROY: self.OnDestroy,\n",
    "        }\n",
    "        # Register the Window class.\n",
    "        wc = WNDCLASS()\n",
    "        hinst = wc.hInstance = GetModuleHandle(None)\n",
    "        wc.lpszClassName = \"PythonTaskbar\"\n",
    "        wc.lpfnWndProc = message_map # could also specify a wndproc.\n",
    "        classAtom = RegisterClass(wc)\n",
    "        # Create the Window.\n",
    "        style = win32con.WS_OVERLAPPED | win32con.WS_SYSMENU\n",
    "        self.hwnd = CreateWindow( classAtom, \"Taskbar\", style, \\\n",
    "                0, 0, win32con.CW_USEDEFAULT, win32con.CW_USEDEFAULT, \\\n",
    "                0, 0, hinst, None)\n",
    "        UpdateWindow(self.hwnd)\n",
    "        iconPathName = os.path.abspath(os.path.join( sys.path[0], \"balloontip.ico\" ))\n",
    "        icon_flags = win32con.LR_LOADFROMFILE | win32con.LR_DEFAULTSIZE\n",
    "        try:\n",
    "           hicon = LoadImage(hinst, iconPathName, \\\n",
    "                    win32con.IMAGE_ICON, 0, 0, icon_flags)\n",
    "        except:\n",
    "          hicon = LoadIcon(0, win32con.IDI_APPLICATION)\n",
    "        flags = NIF_ICON | NIF_MESSAGE | NIF_TIP\n",
    "        nid = (self.hwnd, 0, flags, win32con.WM_USER+20, hicon, \"tooltip\")\n",
    "        Shell_NotifyIcon(NIM_ADD, nid)\n",
    "        Shell_NotifyIcon(NIM_MODIFY, \\\n",
    "                         (self.hwnd, 0, NIF_INFO, win32con.WM_USER+20,\\\n",
    "                          hicon, \"Balloon  tooltip\",msg,200,title))\n",
    "        # self.show_balloon(title, msg)\n",
    "        time.sleep(10)\n",
    "        DestroyWindow(self.hwnd)\n",
    "    def OnDestroy(self, hwnd, msg, wparam, lparam):\n",
    "        nid = (self.hwnd, 0)\n",
    "        Shell_NotifyIcon(NIM_DELETE, nid)\n",
    "        PostQuitMessage(0) # Terminate the app."
   ]
  },
  {
   "cell_type": "code",
   "execution_count": 4,
   "metadata": {},
   "outputs": [],
   "source": [
    "def balloon_tip(title, msg):\n",
    "    w=WindowsBalloonTip(title, msg)"
   ]
  },
  {
   "cell_type": "code",
   "execution_count": 5,
   "metadata": {},
   "outputs": [
    {
     "ename": "error",
     "evalue": "(1410, 'RegisterClass', 'Class already exists.')",
     "output_type": "error",
     "traceback": [
      "\u001b[1;31m---------------------------------------------------------------------------\u001b[0m",
      "\u001b[1;31merror\u001b[0m                                     Traceback (most recent call last)",
      "\u001b[1;32m<ipython-input-5-a8e7f60340dc>\u001b[0m in \u001b[0;36m<module>\u001b[1;34m\u001b[0m\n\u001b[1;32m----> 1\u001b[1;33m \u001b[0mballoon_tip\u001b[0m\u001b[1;33m(\u001b[0m\u001b[1;34m\"Title for popup\"\u001b[0m\u001b[1;33m,\u001b[0m \u001b[1;34m\"This is the popup's message\"\u001b[0m\u001b[1;33m)\u001b[0m\u001b[1;33m\u001b[0m\u001b[1;33m\u001b[0m\u001b[0m\n\u001b[0m",
      "\u001b[1;32m<ipython-input-4-6d493e89a3e7>\u001b[0m in \u001b[0;36mballoon_tip\u001b[1;34m(title, msg)\u001b[0m\n\u001b[0;32m      1\u001b[0m \u001b[1;32mdef\u001b[0m \u001b[0mballoon_tip\u001b[0m\u001b[1;33m(\u001b[0m\u001b[0mtitle\u001b[0m\u001b[1;33m,\u001b[0m \u001b[0mmsg\u001b[0m\u001b[1;33m)\u001b[0m\u001b[1;33m:\u001b[0m\u001b[1;33m\u001b[0m\u001b[1;33m\u001b[0m\u001b[0m\n\u001b[1;32m----> 2\u001b[1;33m     \u001b[0mw\u001b[0m\u001b[1;33m=\u001b[0m\u001b[0mWindowsBalloonTip\u001b[0m\u001b[1;33m(\u001b[0m\u001b[0mtitle\u001b[0m\u001b[1;33m,\u001b[0m \u001b[0mmsg\u001b[0m\u001b[1;33m)\u001b[0m\u001b[1;33m\u001b[0m\u001b[1;33m\u001b[0m\u001b[0m\n\u001b[0m\u001b[0;32m      3\u001b[0m \u001b[1;33m\u001b[0m\u001b[0m\n\u001b[0;32m      4\u001b[0m \u001b[0mballoon_tip\u001b[0m\u001b[1;33m(\u001b[0m\u001b[1;34m\"Title for popup\"\u001b[0m\u001b[1;33m,\u001b[0m \u001b[1;34m\"This is the popup's message\"\u001b[0m\u001b[1;33m)\u001b[0m\u001b[1;33m\u001b[0m\u001b[1;33m\u001b[0m\u001b[0m\n",
      "\u001b[1;32m<ipython-input-3-bd9b994b916c>\u001b[0m in \u001b[0;36m__init__\u001b[1;34m(self, title, msg)\u001b[0m\n\u001b[0;32m     16\u001b[0m         \u001b[0mwc\u001b[0m\u001b[1;33m.\u001b[0m\u001b[0mlpszClassName\u001b[0m \u001b[1;33m=\u001b[0m \u001b[1;34m\"PythonTaskbar\"\u001b[0m\u001b[1;33m\u001b[0m\u001b[1;33m\u001b[0m\u001b[0m\n\u001b[0;32m     17\u001b[0m         \u001b[0mwc\u001b[0m\u001b[1;33m.\u001b[0m\u001b[0mlpfnWndProc\u001b[0m \u001b[1;33m=\u001b[0m \u001b[0mmessage_map\u001b[0m \u001b[1;31m# could also specify a wndproc.\u001b[0m\u001b[1;33m\u001b[0m\u001b[1;33m\u001b[0m\u001b[0m\n\u001b[1;32m---> 18\u001b[1;33m         \u001b[0mclassAtom\u001b[0m \u001b[1;33m=\u001b[0m \u001b[0mRegisterClass\u001b[0m\u001b[1;33m(\u001b[0m\u001b[0mwc\u001b[0m\u001b[1;33m)\u001b[0m\u001b[1;33m\u001b[0m\u001b[1;33m\u001b[0m\u001b[0m\n\u001b[0m\u001b[0;32m     19\u001b[0m         \u001b[1;31m# Create the Window.\u001b[0m\u001b[1;33m\u001b[0m\u001b[1;33m\u001b[0m\u001b[1;33m\u001b[0m\u001b[0m\n\u001b[0;32m     20\u001b[0m         \u001b[0mstyle\u001b[0m \u001b[1;33m=\u001b[0m \u001b[0mwin32con\u001b[0m\u001b[1;33m.\u001b[0m\u001b[0mWS_OVERLAPPED\u001b[0m \u001b[1;33m|\u001b[0m \u001b[0mwin32con\u001b[0m\u001b[1;33m.\u001b[0m\u001b[0mWS_SYSMENU\u001b[0m\u001b[1;33m\u001b[0m\u001b[1;33m\u001b[0m\u001b[0m\n",
      "\u001b[1;31merror\u001b[0m: (1410, 'RegisterClass', 'Class already exists.')"
     ]
    }
   ],
   "source": [
    "balloon_tip(\"Title for popup\", \"This is the popup's message\")"
   ]
  },
  {
   "cell_type": "code",
   "execution_count": 12,
   "metadata": {},
   "outputs": [
    {
     "data": {
      "text/plain": [
       "True"
      ]
     },
     "execution_count": 12,
     "metadata": {},
     "output_type": "execute_result"
    }
   ],
   "source": [
    "from win10toast import ToastNotifier\n",
    "toaster = ToastNotifier()\n",
    "toaster.show_toast(\"IP Bouncer\",\n",
    "                   \"Alert: Unknown network connection detected. Click to open IP Bouncer to report.\",\n",
    "                   duration=10, icon_path=r'C:\\Program Files\\Bitdefender\\Bitdefender Device Management\\skin\\ltr\\images\\common\\blocked.ico')"
   ]
  },
  {
   "cell_type": "code",
   "execution_count": 4,
   "metadata": {},
   "outputs": [
    {
     "name": "stdout",
     "output_type": "stream",
     "text": [
      "Help on method show_toast in module win10toast:\n",
      "\n",
      "show_toast(title='Notification', msg='Here comes the message', icon_path=None, duration=5, threaded=False) method of win10toast.ToastNotifier instance\n",
      "    Notification settings.\n",
      "    \n",
      "    :title: notification title\n",
      "    :msg: notification message\n",
      "    :icon_path: path to the .ico file to custom notification\n",
      "    :duration: delay in seconds before notification self-destruction\n",
      "\n"
     ]
    }
   ],
   "source": [
    "help(toaster.show_toast)"
   ]
  },
  {
   "cell_type": "code",
   "execution_count": 5,
   "metadata": {},
   "outputs": [
    {
     "name": "stdout",
     "output_type": "stream",
     "text": [
      " Volume in drive C is Acer\n",
      " Volume Serial Number is 98BA-95A2\n",
      "\n",
      " Directory of C:\\Users\\gregb\\Documents\\GitHub\\Python_For_Business_Students\n",
      "\n",
      "09/27/2019  01:49 PM    <DIR>          .\n",
      "09/27/2019  01:49 PM    <DIR>          ..\n",
      "09/19/2019  08:38 AM               444 .gitignore\n",
      "09/24/2019  07:58 AM    <DIR>          .ipynb_checkpoints\n",
      "09/19/2019  09:59 AM                26 demofile.txt\n",
      "09/27/2019  01:48 PM            15,292 Exceptions.ipynb\n",
      "09/19/2019  08:42 AM            15,384 fake_customer_list.txt\n",
      "09/19/2019  08:42 AM             1,582 gettysburg.txt\n",
      "09/12/2019  09:32 AM    <DIR>          images\n",
      "09/19/2019  10:11 AM                44 NewCar.txt\n",
      "09/17/2019  09:11 AM            20,009 people_data.csv\n",
      "09/27/2019  01:48 PM           129,329 Python fundamentals.ipynb\n",
      "09/27/2019  01:49 PM            11,158 Untitled1.ipynb\n",
      "               9 File(s)        193,268 bytes\n",
      "               4 Dir(s)  100,858,621,952 bytes free\n"
     ]
    }
   ],
   "source": [
    "%ls"
   ]
  },
  {
   "cell_type": "code",
   "execution_count": null,
   "metadata": {},
   "outputs": [],
   "source": []
  }
 ],
 "metadata": {
  "kernelspec": {
   "display_name": "Python 3",
   "language": "python",
   "name": "python3"
  },
  "language_info": {
   "codemirror_mode": {
    "name": "ipython",
    "version": 3
   },
   "file_extension": ".py",
   "mimetype": "text/x-python",
   "name": "python",
   "nbconvert_exporter": "python",
   "pygments_lexer": "ipython3",
   "version": "3.7.3"
  }
 },
 "nbformat": 4,
 "nbformat_minor": 4
}
