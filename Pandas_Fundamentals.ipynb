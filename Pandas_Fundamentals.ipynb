{
 "cells": [
  {
   "cell_type": "markdown",
   "metadata": {
    "toc-hr-collapsed": true,
    "toc-nb-collapsed": true
   },
   "source": [
    "# Pandas Fundamentals\n",
    "\n",
    "This notebook provides an introduction to the `pandas` package. This notebook also borrows heavily from the book *Data Science Handbook*, which was written by Jake VanderPlas and is available at https://jakevdp.github.io/PythonDataScienceHandbook/ (accessed 12/17/2019) and from the pandas documentation."
   ]
  },
  {
   "cell_type": "markdown",
   "metadata": {
    "toc-hr-collapsed": true,
    "toc-nb-collapsed": true
   },
   "source": [
    "# What is Pandas?\n",
    "<a id=\"pandas\"> </a>\n",
    "\n",
    "The `pandas` package is one of the most popular Python tools for data management and manipulation. `pandas` is built *on top* of `numpy`. Thus, much of the functionality and methods that are available in `numpy` are also available in `pandas`. \n",
    "\n",
    "From https://en.wikipedia.org/wiki/Pandas_(software) (accessed 1/7/2018):\n",
    "\n",
    ">Pandas is a software library written for the Python programming language for data manipulation and analysis. In particular, it offers data structures and operations for manipulating numerical tables and time series. It is free software released under the three-clause BSD license. The name is derived from the term \"panel data\", an econometrics term for multidimensional, structured data sets. Major features of the library are:\n",
    "\n",
    "> - DataFrame object for data manipulation with integrated indexing.\n",
    "> - Tools for reading and writing data between in-memory data structures and different file formats.\n",
    "> - Data alignment and integrated handling of missing data.\n",
    "> - Reshaping and pivoting of data sets.\n",
    "> - Label-based slicing, fancy indexing, and subsetting of large data sets.\n",
    "> - Data structure column insertion and deletion.\n",
    "> - Group by engine allowing split-apply-combine operations on data sets.\n",
    "> - Data set merging and joining.\n",
    "> - Hierarchical axis indexing to work with high-dimensional data in a lower-dimensional data structure.\n",
    "> - Time series-functionality: Date range generation and frequency conversion, moving window statistics, moving window linear regressions, date shifting and lagging.\n",
    "> The library is highly optimized for performance, with critical code paths written in Cython or C.\n",
    "\n",
    "The following code block uses the *import - as* approach to import Pandas. The alias *pd* is a standard convention. We also import NumPy."
   ]
  },
  {
   "cell_type": "code",
   "execution_count": null,
   "metadata": {},
   "outputs": [],
   "source": [
    "%conda list | grep pandas"
   ]
  },
  {
   "cell_type": "code",
   "execution_count": 1,
   "metadata": {},
   "outputs": [],
   "source": [
    "import pandas as pd\n",
    "import numpy as np\n",
    "from pathlib import Path\n",
    "import pprint as pp"
   ]
  },
  {
   "cell_type": "markdown",
   "metadata": {
    "toc-hr-collapsed": true,
    "toc-nb-collapsed": true
   },
   "source": [
    "# Pandas Objects\n",
    "<a id=\"Pandas_Objects\"> </a>\n",
    "\n",
    "Pandas objects can be thought of as enhanced NumPy arrays. The two main Pandas objects are:\n",
    "1. The Pandas `Series`, which is a one-dimensional array of indexed data. Accessing a single column of a DataFrame results in a `Series` object.\n",
    "2. The Pandas `DataFrame`, which is two-dimensional array of indexed data. A `DataFrame` is a container for multiple series objects. \n",
    "\n",
    "The fact that Pandas objects are indexed allows us to lookup and access values by the index. Also, in contrast to NumPy arrays which are for storing numeric data, Pandas objects can store pretty much any Python data type."
   ]
  },
  {
   "cell_type": "markdown",
   "metadata": {},
   "source": [
    "## Pandas `Series` Object\n",
    "To demonstrate the Pandas `Series` object, suppose we have the following 24 data points for sales over a 24 month period stored in a list object named `sales`. Also, we have a list object named `month` that stores the month that the sales occured in using the date format YYYY-MM."
   ]
  },
  {
   "cell_type": "code",
   "execution_count": null,
   "metadata": {},
   "outputs": [],
   "source": [
    "month = ['2015-01-31', '2015-02-28', '2015-03-31', '2015-04-30',\n",
    "         '2015-05-31', '2015-06-30', '2015-07-31', '2015-08-31',\n",
    "         '2015-09-30', '2015-10-31', '2015-11-30', '2015-12-31',\n",
    "         '2016-01-31', '2016-02-29', '2016-03-31', '2016-04-30',\n",
    "         '2016-05-31', '2016-06-30', '2016-07-31', '2016-08-31',\n",
    "         '2016-09-30', '2016-10-31', '2016-11-30', '2016-12-31']\n",
    "\n",
    "sales = [ 872,  873,  990, 1129, \n",
    "          969,  964, 1148,  614,\n",
    "         1068, 1138, 1057,  748,\n",
    "         1255, 1016, 1058, 1064, \n",
    "         1229, 1060, 1144, 1119, \n",
    "         1188,  817,  638, 1205]"
   ]
  },
  {
   "cell_type": "markdown",
   "metadata": {},
   "source": [
    "Similar capabilities are found in NumPy (remember that Pandas is based on NumPy), but in many cases you may find NumPy limitations to be cumbersome. For example, it would be much easier to use month names AS the index rather than be limited to the integer index provided by NumPy."
   ]
  },
  {
   "cell_type": "code",
   "execution_count": null,
   "metadata": {},
   "outputs": [],
   "source": [
    "# What type of object is month? sales?\n",
    "sales_data = [month, sales]\n",
    "np_sales = np.array(sales_data)\n",
    "print(np_sales.shape)"
   ]
  },
  {
   "cell_type": "code",
   "execution_count": null,
   "metadata": {},
   "outputs": [],
   "source": [
    "# Using numpy, if you want sales (row 1) for April, 2015 you have to know which column is April (column 3)\n",
    "print(np_sales)\n",
    "print(\"April 2015 sales: \",np_sales[1,3])\n",
    "\n",
    "# If you want to format it for currency, you can use the format method\n",
    "print(\"April 2015 sales: ${:0,.2f}\".format(float(np_sales[1,3])).replace('$-','-$'))"
   ]
  },
  {
   "cell_type": "markdown",
   "metadata": {},
   "source": [
    "The following code block uses the two lists to create a Pandas `Series` that is stored in a variable named `sales_series`."
   ]
  },
  {
   "cell_type": "code",
   "execution_count": null,
   "metadata": {},
   "outputs": [],
   "source": [
    "sales_series = pd.Series(sales, index = month)\n",
    "\n",
    "print(f'The sales_series series is\\n{sales_series}')"
   ]
  },
  {
   "cell_type": "markdown",
   "metadata": {},
   "source": [
    "The following code block shows how we can access individual values, or a range of values, in the series."
   ]
  },
  {
   "cell_type": "code",
   "execution_count": null,
   "metadata": {},
   "outputs": [],
   "source": [
    "# Get the sales for April 2015\n",
    "print(\"April sales:\", sales_series['2015-04-30'])"
   ]
  },
  {
   "cell_type": "code",
   "execution_count": null,
   "metadata": {},
   "outputs": [],
   "source": [
    "# Get the sales for April 2015 through December 2015 \n",
    "sales_series['2015-04-30':'2015-12-31']"
   ]
  },
  {
   "cell_type": "code",
   "execution_count": null,
   "metadata": {},
   "outputs": [],
   "source": [
    "# Slice the Series object using Integers\n",
    "# Get the first five rows (Index 0 - 4, not including 5)\n",
    "sales_series[0:5]"
   ]
  },
  {
   "cell_type": "markdown",
   "metadata": {},
   "source": [
    "Using NumPy-like syntax, we can do computations on `Series` objects. The following code blocks provides examples.\n",
    "\n",
    "[Back to Table of Contents](#Table_of_Contents)<br>"
   ]
  },
  {
   "cell_type": "code",
   "execution_count": null,
   "metadata": {},
   "outputs": [],
   "source": [
    "# Compute the total sales for June 2015 through December 2015 \n",
    "sales_series['2015-06-30':'2015-12-31'].sum()"
   ]
  },
  {
   "cell_type": "code",
   "execution_count": null,
   "metadata": {},
   "outputs": [],
   "source": [
    "# Compute the mean sales for June 2015 through December 2015 \n",
    "sales_series['2015-06-30':'2015-12-31'].mean()"
   ]
  },
  {
   "cell_type": "code",
   "execution_count": null,
   "metadata": {},
   "outputs": [],
   "source": [
    "# Compute the maximum sales for June 2015 through December 2015 \n",
    "sales_series['2015-06-30':'2015-12-31'].max()"
   ]
  },
  {
   "cell_type": "markdown",
   "metadata": {},
   "source": [
    "## Pandas `DataFrame` Object\n",
    "\n",
    "We will now look at Pandas `DataFrame` object. "
   ]
  },
  {
   "cell_type": "code",
   "execution_count": null,
   "metadata": {},
   "outputs": [],
   "source": [
    "# Use the date_range function to populate a dataframe with a certain number of periods\n",
    "dates = pd.date_range('20200101', periods=12,freq='M')\n",
    "print(dates)"
   ]
  },
  {
   "cell_type": "code",
   "execution_count": null,
   "metadata": {},
   "outputs": [],
   "source": [
    "# Fill the DataFrame with random numbers and assign them to columns (A, B, C, D)\n",
    "df_random = pd.DataFrame(np.random.randn(12, 4), index=dates, columns=list('ABCD'))\n",
    "df_random.head(12)"
   ]
  },
  {
   "cell_type": "code",
   "execution_count": null,
   "metadata": {},
   "outputs": [],
   "source": [
    "# Display a basic description of your DataFrame\n",
    "df_random.describe()"
   ]
  },
  {
   "cell_type": "code",
   "execution_count": null,
   "metadata": {},
   "outputs": [],
   "source": [
    "# Sort the DataFrame by values\n",
    "df_random.sort_values(by='B')"
   ]
  },
  {
   "cell_type": "code",
   "execution_count": null,
   "metadata": {},
   "outputs": [],
   "source": [
    "# To display only the values, use the to_numpy() function\n",
    "df_random.to_numpy()"
   ]
  },
  {
   "cell_type": "code",
   "execution_count": null,
   "metadata": {},
   "outputs": [],
   "source": [
    "# The following code provides four lists that provide information on the sales of two products, A and B,\n",
    "#   in three stores, W1, E1, and E2, over 10 years.\n",
    "\n",
    "stores_list = ['W1', 'W1', 'W1', 'W1', 'W1', 'W1', 'W1', 'W1', 'W1', 'W1', \n",
    "               'W1', 'W1', 'W1', 'W1', 'W1', 'W1', 'W1', 'W1', 'W1', 'W1', \n",
    "               'E1', 'E1', 'E1', 'E1', 'E1', 'E1', 'E1', 'E1', 'E1', 'E1', \n",
    "               'E1', 'E1', 'E1', 'E1', 'E1', 'E1', 'E1', 'E1', 'E1', 'E1', \n",
    "               'E2', 'E2', 'E2', 'E2', 'E2', 'E2', 'E2', 'E2', 'E2', 'E2', \n",
    "               'E2', 'E2', 'E2', 'E2', 'E2', 'E2', 'E2', 'E2', 'E2', 'E2']\n",
    "\n",
    "dates_list = ['12/31/2007', '12/31/2008', '12/31/2009', '12/31/2010', '12/31/2011', '12/31/2012', \n",
    "              '12/31/2013', '12/31/2014', '12/31/2015', '12/31/2016', '12/31/2007', '12/31/2008', \n",
    "              '12/31/2009', '12/31/2010', '12/31/2011', '12/31/2012', '12/31/2013', '12/31/2014', \n",
    "              '12/31/2015', '12/31/2016', '12/31/2007', '12/31/2008', '12/31/2009', '12/31/2010', \n",
    "              '12/31/2011', '12/31/2012', '12/31/2013', '12/31/2014', '12/31/2015', '12/31/2016', \n",
    "              '12/31/2007', '12/31/2008', '12/31/2009', '12/31/2010', '12/31/2011', '12/31/2012', \n",
    "              '12/31/2013', '12/31/2014', '12/31/2015', '12/31/2016', '12/31/2007', '12/31/2008', \n",
    "              '12/31/2009', '12/31/2010', '12/31/2011', '12/31/2012', '12/31/2013', '12/31/2014', \n",
    "              '12/31/2015', '12/31/2016', '12/31/2007', '12/31/2008', '12/31/2009', '12/31/2010', \n",
    "              '12/31/2011', '12/31/2012', '12/31/2013', '12/31/2014', '12/31/2015', '12/31/2016']\n",
    "\n",
    "product_list = ['A', 'A', 'A', 'A', 'A', 'A', 'A', 'A', 'A', 'A', \n",
    "                'B', 'B', 'B', 'B', 'B', 'B', 'B', 'B', 'B', 'B', \n",
    "                'A', 'A', 'A', 'A', 'A', 'A', 'A', 'A', 'A', 'A', \n",
    "                'B', 'B', 'B', 'B', 'B', 'B', 'B', 'B', 'B', 'B', \n",
    "                'A', 'A', 'A', 'A', 'A', 'A', 'A', 'A', 'A', 'A', \n",
    "                'B', 'B', 'B', 'B', 'B', 'B', 'B', 'B', 'B', 'B']\n",
    "\n",
    "sales_list = [1957, 1968, 1983, 2001, 1894, 1850, 2045, 1860, 1784, 1856, \n",
    "              1891, 1822, 1846, 1903, 1924, 1897, 1890, 1858, 1871, 1880, \n",
    "              1858, 1909, 1977, 1717, 1751, 1797, 1804, 1845, 1895, 1713, \n",
    "              1904, 1812, 1733, 1868, 1872, 1909, 2034, 1856, 1813, 1806, \n",
    "              1862, 1800, 1840, 1882, 1819, 1854, 1716, 1845, 1877, 1879, \n",
    "              1696, 1783, 1799, 1852, 1793, 1877, 1687, 1824, 1839, 1889]"
   ]
  },
  {
   "cell_type": "markdown",
   "metadata": {},
   "source": [
    "The following code block first uses the list to construct a Python dictionary, uses the dictionary to define a Pandas `DataFrame` object named `sales_data`, and uses the `head()` method to print the first 10 rows of the `DataFrame`.\n",
    "\n",
    "<div class=\"alert alert-block alert-info\">\n",
    "    <b>The <i>head()</i> function:</b> The <i>head()</i> function is a Pandas object method that prints the first five rows of a Pandas object by default. Specifying an integer argument instructs Pandas to return the specified number of rows from the beginning of the object. Similar to the <i>head()</i> method, the <i>tail()</i> method returns records from the end of a Pandas object.</div>"
   ]
  },
  {
   "cell_type": "code",
   "execution_count": null,
   "metadata": {},
   "outputs": [],
   "source": [
    "sales_dictionary = {'Store': stores_list,\n",
    "                    'Product': product_list,\n",
    "                    'Sales': sales_list,\n",
    "                    'Year': dates_list}\n",
    "# Although a dictionary is useful, it's hard to visualize and less convenient than a DataFrame\n",
    "print(sales_dictionary)"
   ]
  },
  {
   "cell_type": "code",
   "execution_count": null,
   "metadata": {},
   "outputs": [],
   "source": [
    "sales_data = pd.DataFrame.from_dict(sales_dictionary)\n",
    "\n",
    "sales_data.head(10)"
   ]
  },
  {
   "cell_type": "markdown",
   "metadata": {},
   "source": [
    "A key thing to note is that the format of the `DataFrame` object is very similar to what you would see when working with Microsoft Excel worksheets. \n",
    "\n",
    "There are many other ways to create Pandas objects from scratch. However, for the sake of space, we will stop here. See https://jakevdp.github.io/PythonDataScienceHandbook/03.01-introducing-pandas-objects.html or use Google to find other examples. "
   ]
  },
  {
   "cell_type": "markdown",
   "metadata": {
    "tags": [],
    "toc-nb-collapsed": true
   },
   "source": [
    "# Importing Data\n",
    "\n",
    "One of the most useful applications of Pandas is that it provides users with an easy way to import data from other sources. The following table was copied from https://pandas.pydata.org/pandas-docs/stable/io.html. Note that the hyperlinks will take you to sites descibing the different file formats or methods.\n",
    "\n",
    "<table border=\"1\" class=\"colwidths-given docutils\">\n",
    "<colgroup>\n",
    "<col width=\"12%\" />\n",
    "<col width=\"40%\" />\n",
    "<col width=\"24%\" />\n",
    "<col width=\"24%\" />\n",
    "</colgroup>\n",
    "<thead valign=\"bottom\">\n",
    "<tr class=\"row-odd\"><th class=\"head\">Format Type</th>\n",
    "<th class=\"head\">Data Description</th>\n",
    "<th class=\"head\">Reader</th>\n",
    "<th class=\"head\">Writer</th>\n",
    "</tr>\n",
    "</thead>\n",
    "<tbody valign=\"top\">\n",
    "<tr class=\"row-even\"><td>text</td>\n",
    "<td><a class=\"reference external\" href=\"https://en.wikipedia.org/wiki/Comma-separated_values\">CSV</a></td>\n",
    "<td><a class=\"reference internal\" href=\"https://pandas.pydata.org/pandas-docs/stable/io.html#io-read-csv-table\"><span class=\"std std-ref\">read_csv</span></a></td>\n",
    "<td><a class=\"reference internal\" href=\"https://pandas.pydata.org/pandas-docs/stable/io.html#io-store-in-csv\"><span class=\"std std-ref\">to_csv</span></a></td>\n",
    "</tr>\n",
    "<tr class=\"row-odd\"><td>text</td>\n",
    "<td><a class=\"reference external\" href=\"http://www.json.org/\">JSON</a></td>\n",
    "<td><a class=\"reference internal\" href=\"https://pandas.pydata.org/pandas-docs/stable/io.html#io-json-reader\"><span class=\"std std-ref\">read_json</span></a></td>\n",
    "<td><a class=\"reference internal\" href=\"https://pandas.pydata.org/pandas-docs/stable/io.html#io-json-writer\"><span class=\"std std-ref\">to_json</span></a></td>\n",
    "</tr>\n",
    "<tr class=\"row-even\"><td>text</td>\n",
    "<td><a class=\"reference external\" href=\"https://en.wikipedia.org/wiki/HTML\">HTML</a></td>\n",
    "<td><a class=\"reference internal\" href=\"https://pandas.pydata.org/pandas-docs/stable/io.html#io-read-html\"><span class=\"std std-ref\">read_html</span></a></td>\n",
    "<td><a class=\"reference internal\" href=\"https://pandas.pydata.org/pandas-docs/stable/io.html#io-html\"><span class=\"std std-ref\">to_html</span></a></td>\n",
    "</tr>\n",
    "<tr class=\"row-odd\"><td>text</td>\n",
    "<td>Local clipboard</td>\n",
    "<td><a class=\"reference internal\" href=\"https://pandas.pydata.org/pandas-docs/stable/io.html#io-clipboard\"><span class=\"std std-ref\">read_clipboard</span></a></td>\n",
    "<td><a class=\"reference internal\" href=\"https://pandas.pydata.org/pandas-docs/stable/io.html#io-clipboard\"><span class=\"std std-ref\">to_clipboard</span></a></td>\n",
    "</tr>\n",
    "<tr class=\"row-even\"><td>binary</td>\n",
    "<td><a class=\"reference external\" href=\"https://en.wikipedia.org/wiki/Microsoft_Excel\">MS Excel</a></td>\n",
    "<td><a class=\"reference internal\" href=\"https://pandas.pydata.org/pandas-docs/stable/io.html#io-excel-reader\"><span class=\"std std-ref\">read_excel</span></a></td>\n",
    "<td><a class=\"reference internal\" href=\"https://pandas.pydata.org/pandas-docs/stable/io.html#io-excel-writer\"><span class=\"std std-ref\">to_excel</span></a></td>\n",
    "</tr>\n",
    "<tr class=\"row-odd\"><td>binary</td>\n",
    "<td><a class=\"reference external\" href=\"https://support.hdfgroup.org/HDF5/whatishdf5.html\">HDF5 Format</a></td>\n",
    "<td><a class=\"reference internal\" href=\"https://pandas.pydata.org/pandas-docs/stable/io.html#io-hdf5\"><span class=\"std std-ref\">read_hdf</span></a></td>\n",
    "<td><a class=\"reference internal\" href=\"https://pandas.pydata.org/pandas-docs/stable/io.html#io-hdf5\"><span class=\"std std-ref\">to_hdf</span></a></td>\n",
    "</tr>\n",
    "<tr class=\"row-even\"><td>binary</td>\n",
    "<td><a class=\"reference external\" href=\"https://github.com/wesm/feather\">Feather Format</a></td>\n",
    "<td><a class=\"reference internal\" href=\"https://pandas.pydata.org/pandas-docs/stable/io.html#io-feather\"><span class=\"std std-ref\">read_feather</span></a></td>\n",
    "<td><a class=\"reference internal\" href=\"https://pandas.pydata.org/pandas-docs/stable/io.html#io-feather\"><span class=\"std std-ref\">to_feather</span></a></td>\n",
    "</tr>\n",
    "<tr class=\"row-odd\"><td>binary</td>\n",
    "<td><a class=\"reference external\" href=\"https://parquet.apache.org/\">Parquet Format</a></td>\n",
    "<td><a class=\"reference internal\" href=\"https://pandas.pydata.org/pandas-docs/stable/io.html#io-parquet\"><span class=\"std std-ref\">read_parquet</span></a></td>\n",
    "<td><a class=\"reference internal\" href=\"https://pandas.pydata.org/pandas-docs/stable/io.html#io-parquet\"><span class=\"std std-ref\">to_parquet</span></a></td>\n",
    "</tr>\n",
    "<tr class=\"row-even\"><td>binary</td>\n",
    "<td><a class=\"reference external\" href=\"http://msgpack.org/index.html\">Msgpack</a></td>\n",
    "<td><a class=\"reference internal\" href=\"https://pandas.pydata.org/pandas-docs/stable/io.html#io-msgpack\"><span class=\"std std-ref\">read_msgpack</span></a></td>\n",
    "<td><a class=\"reference internal\" href=\"https://pandas.pydata.org/pandas-docs/stable/io.html#io-msgpack\"><span class=\"std std-ref\">to_msgpack</span></a></td>\n",
    "</tr>\n",
    "<tr class=\"row-odd\"><td>binary</td>\n",
    "<td><a class=\"reference external\" href=\"https://en.wikipedia.org/wiki/Stata\">Stata</a></td>\n",
    "<td><a class=\"reference internal\" href=\"https://pandas.pydata.org/pandas-docs/stable/io.html#io-stata-reader\"><span class=\"std std-ref\">read_stata</span></a></td>\n",
    "<td><a class=\"reference internal\" href=\"https://pandas.pydata.org/pandas-docs/stable/io.html#io-stata-writer\"><span class=\"std std-ref\">to_stata</span></a></td>\n",
    "</tr>\n",
    "<tr class=\"row-even\"><td>binary</td>\n",
    "<td><a class=\"reference external\" href=\"https://en.wikipedia.org/wiki/SAS_(software)\">SAS</a></td>\n",
    "<td><a class=\"reference internal\" href=\"https://pandas.pydata.org/pandas-docs/stable/io.html#io-sas-reader\"><span class=\"std std-ref\">read_sas</span></a></td>\n",
    "<td>&#160;</td>\n",
    "</tr>\n",
    "<tr class=\"row-odd\"><td>binary</td>\n",
    "<td><a class=\"reference external\" href=\"https://docs.python.org/3/library/pickle.html\">Python Pickle Format</a></td>\n",
    "<td><a class=\"reference internal\" href=\"https://pandas.pydata.org/pandas-docs/stable/io.html#io-pickle\"><span class=\"std std-ref\">read_pickle</span></a></td>\n",
    "<td><a class=\"reference internal\" href=\"https://pandas.pydata.org/pandas-docs/stable/io.html#io-pickle\"><span class=\"std std-ref\">to_pickle</span></a></td>\n",
    "</tr>\n",
    "<tr class=\"row-even\"><td>SQL</td>\n",
    "<td><a class=\"reference external\" href=\"https://en.wikipedia.org/wiki/SQL\">SQL</a></td>\n",
    "<td><a class=\"reference internal\" href=\"https://pandas.pydata.org/pandas-docs/stable/io.html#io-sql\"><span class=\"std std-ref\">read_sql</span></a></td>\n",
    "<td><a class=\"reference internal\" href=\"https://pandas.pydata.org/pandas-docs/stable/io.html#io-sql\"><span class=\"std std-ref\">to_sql</span></a></td>\n",
    "</tr>\n",
    "<tr class=\"row-odd\"><td>SQL</td>\n",
    "<td><a class=\"reference external\" href=\"https://en.wikipedia.org/wiki/BigQuery\">Google Big Query</a></td>\n",
    "<td><a class=\"reference internal\" href=\"https://pandas.pydata.org/pandas-docs/stable/io.html#io-bigquery\"><span class=\"std std-ref\">read_gbq</span></a></td>\n",
    "<td><a class=\"reference internal\" href=\"https://pandas.pydata.org/pandas-docs/stable/io.html#io-bigquery\"><span class=\"std std-ref\">to_gbq</span></a></td>\n",
    "</tr>\n",
    "</tbody>\n",
    "</table>"
   ]
  },
  {
   "cell_type": "markdown",
   "metadata": {},
   "source": [
    "The following code block shows how the `read_csv` method that is available in Pandas can be used to read a file from the Internet that uses semi-colon delimiters, store it in an object named `my_data`, and use the `head()` method to print the first fives rows of the `DataFrame` object."
   ]
  },
  {
   "cell_type": "code",
   "execution_count": null,
   "metadata": {
    "scrolled": true
   },
   "outputs": [],
   "source": [
    "my_data = pd.read_csv('https://archive.ics.uci.edu/ml/machine-learning-databases/00409/Daily_Demand_Forecasting_Orders.csv',\n",
    "           delimiter = ';')\n",
    "\n",
    "my_data.head()"
   ]
  },
  {
   "cell_type": "code",
   "execution_count": null,
   "metadata": {},
   "outputs": [],
   "source": [
    "# After importing the data, it may be helpful to view the column data types\n",
    "#   Use the dtypes attribute\n",
    "my_data.dtypes"
   ]
  },
  {
   "cell_type": "markdown",
   "metadata": {},
   "source": [
    "## Importing data from the clipboard\n",
    "\n",
    "Another method of obtaining data is to read it in from the clipboard. The clipboard is a location in memory where recently copied data can be accessed. It is where data are stored after cutting or copying."
   ]
  },
  {
   "cell_type": "code",
   "execution_count": null,
   "metadata": {},
   "outputs": [],
   "source": [
    "# Copy some table data \n",
    "import pandas as pd\n",
    "df = pd.read_clipboard(header=None)\n",
    "df"
   ]
  },
  {
   "cell_type": "markdown",
   "metadata": {},
   "source": [
    "# Indexing and Selecting Data\n",
    "\n",
    "Although we have already seen some ways to access data in Pandas objects, this section will look at such methods in more detail."
   ]
  },
  {
   "cell_type": "markdown",
   "metadata": {},
   "source": [
    "## Indexing and Selecting Data in Pandas `Series` Objects\n",
    "\n",
    "Recall the `sales_series` object that we created earlier."
   ]
  },
  {
   "cell_type": "code",
   "execution_count": null,
   "metadata": {},
   "outputs": [],
   "source": [
    "# To increase the number of columns Jupyter Lab will display at a time use set_option\n",
    "pd.set_option('display.max_columns', 100)\n",
    "pd.set_option('display.max_rows', 100)"
   ]
  },
  {
   "cell_type": "code",
   "execution_count": null,
   "metadata": {},
   "outputs": [],
   "source": [
    "sales_series"
   ]
  },
  {
   "cell_type": "markdown",
   "metadata": {},
   "source": [
    "It's interesting to note that the Pandas `Series` object acts like both a one-dimensional NumPy array and a standard Python dictionary. For example, to get index values for a `Series` object, you can use the `keys()` method as shown below."
   ]
  },
  {
   "cell_type": "code",
   "execution_count": null,
   "metadata": {},
   "outputs": [],
   "source": [
    "sales_series.keys()"
   ]
  },
  {
   "cell_type": "markdown",
   "metadata": {},
   "source": [
    "We can also display its values."
   ]
  },
  {
   "cell_type": "code",
   "execution_count": null,
   "metadata": {},
   "outputs": [],
   "source": [
    "sales_series.values"
   ]
  },
  {
   "cell_type": "markdown",
   "metadata": {},
   "source": [
    "Also, as shown earlier, we can use NumPy-like slicing as is demonstrated in the following code block."
   ]
  },
  {
   "cell_type": "code",
   "execution_count": null,
   "metadata": {},
   "outputs": [],
   "source": [
    "# Get the sales for June 2015 through December 2015 \n",
    "sales_series['2015-06-30':'2015-12-31']"
   ]
  },
  {
   "cell_type": "markdown",
   "metadata": {},
   "source": [
    "Finally, we can use the boolean array capabilities of NumPy to get subsets of the `Series` object that satisfy a specified condition. As an example, the following code block identifies the months with sales greater than or equal to 1,000."
   ]
  },
  {
   "cell_type": "code",
   "execution_count": null,
   "metadata": {},
   "outputs": [],
   "source": [
    "# Which months had sales greater than $1,000? Show only the months, not the values by using keys().\n",
    "big_sales = sales_series[(sales_series > 1000)].keys()\n",
    "print(\"Number of months > $1,000: \", len(big_sales))\n",
    "print(big_sales)"
   ]
  },
  {
   "cell_type": "markdown",
   "metadata": {},
   "source": [
    "## Indexing and Selecting Data in Pandas `DataFrame` Objects\n",
    "\n",
    "We will now look at accessing data stored in a Pandas `DataFrame` object. Just as a reminder, the following code block prints the first five rows of the `sales_data` object that we created earlier."
   ]
  },
  {
   "cell_type": "code",
   "execution_count": null,
   "metadata": {},
   "outputs": [],
   "source": [
    "sales_data.head()"
   ]
  },
  {
   "cell_type": "markdown",
   "metadata": {},
   "source": [
    "As shown in the following code block, we can select an entire column of the `DataFrame` object, resulting in a `Series`, by providing the column name in brackets."
   ]
  },
  {
   "cell_type": "code",
   "execution_count": null,
   "metadata": {},
   "outputs": [],
   "source": [
    "sales_data['Sales'][:5] #limit to the first 5 rows"
   ]
  },
  {
   "cell_type": "markdown",
   "metadata": {},
   "source": [
    "Moreover, we can return multiple columns by providing the names of the desired columns as a list. Since we are returning multiple columns, the resulting object is a `DataFrame`."
   ]
  },
  {
   "cell_type": "code",
   "execution_count": null,
   "metadata": {},
   "outputs": [],
   "source": [
    "sales_data[['Product','Sales']][:5]"
   ]
  },
  {
   "cell_type": "markdown",
   "metadata": {},
   "source": [
    "Similar to NumPy, we can perform calculations using entire columns."
   ]
  },
  {
   "cell_type": "code",
   "execution_count": null,
   "metadata": {},
   "outputs": [],
   "source": [
    "(sales_data['Sales']/365).apply(lambda x: \"${:.2f}\".format(x))[:5]"
   ]
  },
  {
   "cell_type": "markdown",
   "metadata": {},
   "source": [
    "We can extract a subset of the available records by providing a boolean expression in brackets."
   ]
  },
  {
   "cell_type": "code",
   "execution_count": null,
   "metadata": {},
   "outputs": [],
   "source": [
    "sales_data[sales_data['Product']=='B']"
   ]
  },
  {
   "cell_type": "code",
   "execution_count": null,
   "metadata": {},
   "outputs": [],
   "source": [
    "# Viewing the data does not change the underlying dataset\n",
    "sales_data.head(15)"
   ]
  },
  {
   "cell_type": "markdown",
   "metadata": {},
   "source": [
    "Being build on top of NumPy, we can create more complicated boolean expressions to select subsets of records. The following code block shows how we can define and use multi-condition boolean expression to select records where the store is *E1* and the sales is greater than 1,850."
   ]
  },
  {
   "cell_type": "code",
   "execution_count": null,
   "metadata": {},
   "outputs": [],
   "source": [
    "my_condition = (sales_data['Store'] == 'E1') & (sales_data['Sales'] > 1850)\n",
    "\n",
    "sales_data[my_condition]"
   ]
  },
  {
   "cell_type": "markdown",
   "metadata": {},
   "source": [
    "## Using iloc (integer location) to access data\n",
    "Use `iloc` to access data within a DataFrame by passing an integer or list of integers.\n",
    "\n",
    "For example, if you want the first two rows of data pass an inner list to your DataFrame."
   ]
  },
  {
   "cell_type": "code",
   "execution_count": null,
   "metadata": {},
   "outputs": [],
   "source": [
    "sales_data.head()"
   ]
  },
  {
   "cell_type": "code",
   "execution_count": null,
   "metadata": {},
   "outputs": [],
   "source": [
    "# Use integer location (iloc) to display the first and third rows--row 0 and row 2)\n",
    "sales_data.iloc[[0,2]]"
   ]
  },
  {
   "cell_type": "code",
   "execution_count": null,
   "metadata": {},
   "outputs": [],
   "source": [
    "# Display row index 2 and 3 and only the first (index 0) and third (index 2) columns\n",
    "sales_data.iloc[[2,3],[0,2]]"
   ]
  },
  {
   "cell_type": "markdown",
   "metadata": {},
   "source": [
    "## Using loc to access and change data\n",
    "Using the `.loc` *indexer* method for Pandas, we can use this boolean expression to return a subset of the available columns."
   ]
  },
  {
   "cell_type": "code",
   "execution_count": null,
   "metadata": {},
   "outputs": [],
   "source": [
    "my_condition = (sales_data['Store'] == 'E1') & (sales_data['Sales'] > 1850)\n",
    "\n",
    "## The following loc expression uses the boolean expression to filter the rows,\n",
    "## and then uses the list of column names to define the subset of columns to return\n",
    "sales_data.loc[my_condition,['Product','Year']]"
   ]
  },
  {
   "cell_type": "markdown",
   "metadata": {},
   "source": [
    "Please see https://jakevdp.github.io/PythonDataScienceHandbook/03.02-data-indexing-and-selection.html for more discussion on indexing and selecting with Pandas objects."
   ]
  },
  {
   "cell_type": "markdown",
   "metadata": {
    "toc-hr-collapsed": true,
    "toc-nb-collapsed": true
   },
   "source": [
    "# Handling Missing Data\n",
    "\n",
    "In this section, we will look at a few capabilities built into Pandas for the purpose of handling missing data. For this demonstration, we will use a subset of the data contained in the `sales_data` object. The following code block creates and prints the data subset."
   ]
  },
  {
   "cell_type": "code",
   "execution_count": null,
   "metadata": {},
   "outputs": [],
   "source": [
    "my_subset = sales_data.copy()\n",
    "my_condition = (my_subset['Product']=='A') & (my_subset['Store']=='W1')\n",
    "my_subset = my_subset[my_condition]\n",
    "my_subset"
   ]
  },
  {
   "cell_type": "markdown",
   "metadata": {},
   "source": [
    "## Using NaN\n",
    "For the sake of demonstration, assume that we were missing sales for the years 2011 and 2014. The following code block uses the `None` value to delete these sales values from the `my_subset` object. Note that in the resulting DatafFrame, the sales values are replaced with `NaN`, which stands for __Not a Number__."
   ]
  },
  {
   "cell_type": "code",
   "execution_count": null,
   "metadata": {},
   "outputs": [],
   "source": [
    "my_subset.loc[my_subset['Year']=='12/31/2011', 'Sales'] = None\n",
    "\n",
    "my_subset.loc[my_subset['Year']=='12/31/2014', 'Sales'] = None\n",
    "\n",
    "my_subset"
   ]
  },
  {
   "cell_type": "markdown",
   "metadata": {},
   "source": [
    "## Forward Fill Values\n",
    "In some situations, it may be reasonable to *forward fill* values whenever missing values are encountered. Essentially, the *forward filling* method use a preceding value in the DataFrame, and can be accomplished using the `fillna` Pandas method as shown in the following code block. **Note that this function can take an *axis* argument, specifying the direction of filling. In this case, we want to fill across the rows, or axis 0.**"
   ]
  },
  {
   "cell_type": "code",
   "execution_count": null,
   "metadata": {},
   "outputs": [],
   "source": [
    "my_subset.fillna(axis = 0, method = 'ffill')"
   ]
  },
  {
   "cell_type": "markdown",
   "metadata": {},
   "source": [
    "## Back Fill Values\n",
    "In contrast, it is also possible to *back fill* values, using values that follow in the DataFrame. This approach can be accomplished as shown in the following code block."
   ]
  },
  {
   "cell_type": "code",
   "execution_count": null,
   "metadata": {},
   "outputs": [],
   "source": [
    "my_subset.fillna(axis = 0, method = 'bfill')"
   ]
  },
  {
   "cell_type": "markdown",
   "metadata": {},
   "source": [
    "## Interpolate Values\n",
    "Instead of forward or back filling missing values, we may also use the `interpolate` method to take the average of preceding and following values. This approach is demonstrated below."
   ]
  },
  {
   "cell_type": "code",
   "execution_count": null,
   "metadata": {},
   "outputs": [],
   "source": [
    "my_subset.interpolate(axis = 0)"
   ]
  },
  {
   "cell_type": "markdown",
   "metadata": {},
   "source": [
    "## Drop Values \n",
    "The final approach to handling missing values that we will cover is to drop the values. This can be done using the `dropna` method shown in the following code block."
   ]
  },
  {
   "cell_type": "code",
   "execution_count": null,
   "metadata": {},
   "outputs": [],
   "source": [
    "my_subset.dropna(axis = 0)"
   ]
  },
  {
   "cell_type": "markdown",
   "metadata": {},
   "source": [
    "We can also drop missing values by specifying a condition that the records with missing values will fail. For example, the following code block uses the condition `my_subset['Sales']>0` to effectively drop the records with missing sales values (i.e., 2011 and 2014 sales). \n",
    "\n",
    "[Back to Table of Contents](#Table_of_Contents)<br>"
   ]
  },
  {
   "cell_type": "code",
   "execution_count": null,
   "metadata": {},
   "outputs": [],
   "source": [
    "my_subset[my_subset['Sales']>0]"
   ]
  },
  {
   "cell_type": "markdown",
   "metadata": {
    "tags": [],
    "toc-hr-collapsed": true
   },
   "source": [
    "# Working with Dates and times in Pandas\n",
    "Pandas offers power and convenient featurs to handle dates and times. \n",
    "\n",
    "Properly read \n",
    "Filter by date time\n",
    "Group date time\n",
    "Plot using timeseries data"
   ]
  },
  {
   "cell_type": "code",
   "execution_count": null,
   "metadata": {},
   "outputs": [],
   "source": [
    "ms_store_file = Path.cwd() / 'files' / 'Microsoft_Store.csv'"
   ]
  },
  {
   "cell_type": "code",
   "execution_count": 3,
   "metadata": {},
   "outputs": [],
   "source": [
    "# Load Microsoft Store rating data\n",
    "import pandas as pd\n",
    "try:\n",
    "    df_ms = pd.read_csv('files/Microsoft_Store.csv')\n",
    "except Exception as e:\n",
    "    print(e)"
   ]
  },
  {
   "cell_type": "code",
   "execution_count": 5,
   "metadata": {},
   "outputs": [
    {
     "data": {
      "text/html": [
       "<div>\n",
       "<style scoped>\n",
       "    .dataframe tbody tr th:only-of-type {\n",
       "        vertical-align: middle;\n",
       "    }\n",
       "\n",
       "    .dataframe tbody tr th {\n",
       "        vertical-align: top;\n",
       "    }\n",
       "\n",
       "    .dataframe thead th {\n",
       "        text-align: right;\n",
       "    }\n",
       "</style>\n",
       "<table border=\"1\" class=\"dataframe\">\n",
       "  <thead>\n",
       "    <tr style=\"text-align: right;\">\n",
       "      <th></th>\n",
       "      <th>Name</th>\n",
       "      <th>Rating</th>\n",
       "      <th>No of people Rated</th>\n",
       "      <th>Category</th>\n",
       "      <th>Date</th>\n",
       "      <th>Price</th>\n",
       "    </tr>\n",
       "  </thead>\n",
       "  <tbody>\n",
       "    <tr>\n",
       "      <th>0</th>\n",
       "      <td>Dynamic Reader</td>\n",
       "      <td>3.5</td>\n",
       "      <td>268</td>\n",
       "      <td>Books</td>\n",
       "      <td>07-01-2014</td>\n",
       "      <td>Free</td>\n",
       "    </tr>\n",
       "    <tr>\n",
       "      <th>1</th>\n",
       "      <td>Chemistry, Organic Chemistry and Biochemistry-...</td>\n",
       "      <td>3.0</td>\n",
       "      <td>627</td>\n",
       "      <td>Books</td>\n",
       "      <td>08-01-2014</td>\n",
       "      <td>Free</td>\n",
       "    </tr>\n",
       "    <tr>\n",
       "      <th>2</th>\n",
       "      <td>BookViewer</td>\n",
       "      <td>3.5</td>\n",
       "      <td>593</td>\n",
       "      <td>Books</td>\n",
       "      <td>29-02-2016</td>\n",
       "      <td>free</td>\n",
       "    </tr>\n",
       "    <tr>\n",
       "      <th>3</th>\n",
       "      <td>Brick Instructions</td>\n",
       "      <td>3.5</td>\n",
       "      <td>684</td>\n",
       "      <td>Books</td>\n",
       "      <td>30-01-2018</td>\n",
       "      <td>free</td>\n",
       "    </tr>\n",
       "    <tr>\n",
       "      <th>4</th>\n",
       "      <td>Introduction to Python Programming by GoLearni...</td>\n",
       "      <td>2.0</td>\n",
       "      <td>634</td>\n",
       "      <td>Books</td>\n",
       "      <td>30-01-2018</td>\n",
       "      <td>Free</td>\n",
       "    </tr>\n",
       "    <tr>\n",
       "      <th>5</th>\n",
       "      <td>Gurbani Reader</td>\n",
       "      <td>4.5</td>\n",
       "      <td>399</td>\n",
       "      <td>Books</td>\n",
       "      <td>18-01-2017</td>\n",
       "      <td>Free</td>\n",
       "    </tr>\n",
       "    <tr>\n",
       "      <th>6</th>\n",
       "      <td>NFO Viewer</td>\n",
       "      <td>4.5</td>\n",
       "      <td>566</td>\n",
       "      <td>Books</td>\n",
       "      <td>13-11-2012</td>\n",
       "      <td>Free</td>\n",
       "    </tr>\n",
       "    <tr>\n",
       "      <th>7</th>\n",
       "      <td>Text to Speech TTS</td>\n",
       "      <td>3.0</td>\n",
       "      <td>175</td>\n",
       "      <td>Books</td>\n",
       "      <td>17-10-2013</td>\n",
       "      <td>Free</td>\n",
       "    </tr>\n",
       "    <tr>\n",
       "      <th>8</th>\n",
       "      <td>ACK Comics</td>\n",
       "      <td>4.0</td>\n",
       "      <td>460</td>\n",
       "      <td>Books</td>\n",
       "      <td>20-12-2012</td>\n",
       "      <td>Free</td>\n",
       "    </tr>\n",
       "    <tr>\n",
       "      <th>9</th>\n",
       "      <td>Learn Biology and Human Body Anatomy by GoLear...</td>\n",
       "      <td>3.5</td>\n",
       "      <td>363</td>\n",
       "      <td>Books</td>\n",
       "      <td>25-11-2013</td>\n",
       "      <td>Free</td>\n",
       "    </tr>\n",
       "  </tbody>\n",
       "</table>\n",
       "</div>"
      ],
      "text/plain": [
       "                                                Name  Rating  \\\n",
       "0                                     Dynamic Reader     3.5   \n",
       "1  Chemistry, Organic Chemistry and Biochemistry-...     3.0   \n",
       "2                                         BookViewer     3.5   \n",
       "3                                 Brick Instructions     3.5   \n",
       "4  Introduction to Python Programming by GoLearni...     2.0   \n",
       "5                                     Gurbani Reader     4.5   \n",
       "6                                         NFO Viewer     4.5   \n",
       "7                                 Text to Speech TTS     3.0   \n",
       "8                                         ACK Comics     4.0   \n",
       "9  Learn Biology and Human Body Anatomy by GoLear...     3.5   \n",
       "\n",
       "   No of people Rated Category        Date Price  \n",
       "0                 268    Books  07-01-2014  Free  \n",
       "1                 627    Books  08-01-2014  Free  \n",
       "2                 593    Books  29-02-2016  free  \n",
       "3                 684    Books  30-01-2018  free  \n",
       "4                 634    Books  30-01-2018  Free  \n",
       "5                 399    Books  18-01-2017  Free  \n",
       "6                 566    Books  13-11-2012  Free  \n",
       "7                 175    Books  17-10-2013  Free  \n",
       "8                 460    Books  20-12-2012  Free  \n",
       "9                 363    Books  25-11-2013  Free  "
      ]
     },
     "execution_count": 5,
     "metadata": {},
     "output_type": "execute_result"
    }
   ],
   "source": [
    "# View first 5 rows\n",
    "df_ms.head(10)"
   ]
  },
  {
   "cell_type": "code",
   "execution_count": 6,
   "metadata": {},
   "outputs": [
    {
     "data": {
      "text/plain": [
       "Name                   object\n",
       "Rating                float64\n",
       "No of people Rated      int64\n",
       "Category               object\n",
       "Date                   object\n",
       "Price                  object\n",
       "dtype: object"
      ]
     },
     "execution_count": 6,
     "metadata": {},
     "output_type": "execute_result"
    }
   ],
   "source": [
    "df_ms.dtypes"
   ]
  },
  {
   "cell_type": "code",
   "execution_count": 7,
   "metadata": {},
   "outputs": [
    {
     "data": {
      "text/html": [
       "<div>\n",
       "<style scoped>\n",
       "    .dataframe tbody tr th:only-of-type {\n",
       "        vertical-align: middle;\n",
       "    }\n",
       "\n",
       "    .dataframe tbody tr th {\n",
       "        vertical-align: top;\n",
       "    }\n",
       "\n",
       "    .dataframe thead th {\n",
       "        text-align: right;\n",
       "    }\n",
       "</style>\n",
       "<table border=\"1\" class=\"dataframe\">\n",
       "  <thead>\n",
       "    <tr style=\"text-align: right;\">\n",
       "      <th></th>\n",
       "      <th>Name</th>\n",
       "      <th>Category</th>\n",
       "    </tr>\n",
       "  </thead>\n",
       "  <tbody>\n",
       "    <tr>\n",
       "      <th>0</th>\n",
       "      <td>Dynamic Reader</td>\n",
       "      <td>Books</td>\n",
       "    </tr>\n",
       "    <tr>\n",
       "      <th>1</th>\n",
       "      <td>Chemistry, Organic Chemistry and Biochemistry-...</td>\n",
       "      <td>Books</td>\n",
       "    </tr>\n",
       "    <tr>\n",
       "      <th>2</th>\n",
       "      <td>BookViewer</td>\n",
       "      <td>Books</td>\n",
       "    </tr>\n",
       "    <tr>\n",
       "      <th>3</th>\n",
       "      <td>Brick Instructions</td>\n",
       "      <td>Books</td>\n",
       "    </tr>\n",
       "    <tr>\n",
       "      <th>4</th>\n",
       "      <td>Introduction to Python Programming by GoLearni...</td>\n",
       "      <td>Books</td>\n",
       "    </tr>\n",
       "    <tr>\n",
       "      <th>...</th>\n",
       "      <td>...</td>\n",
       "      <td>...</td>\n",
       "    </tr>\n",
       "    <tr>\n",
       "      <th>5317</th>\n",
       "      <td>JS King</td>\n",
       "      <td>Developer Tools</td>\n",
       "    </tr>\n",
       "    <tr>\n",
       "      <th>5318</th>\n",
       "      <td>MQTTSniffer</td>\n",
       "      <td>Developer Tools</td>\n",
       "    </tr>\n",
       "    <tr>\n",
       "      <th>5319</th>\n",
       "      <td>Dev Utils - JSON, CSV and XML</td>\n",
       "      <td>Developer Tools</td>\n",
       "    </tr>\n",
       "    <tr>\n",
       "      <th>5320</th>\n",
       "      <td>Simply Text</td>\n",
       "      <td>Developer Tools</td>\n",
       "    </tr>\n",
       "    <tr>\n",
       "      <th>5321</th>\n",
       "      <td>NaN</td>\n",
       "      <td>NaN</td>\n",
       "    </tr>\n",
       "  </tbody>\n",
       "</table>\n",
       "<p>5322 rows × 2 columns</p>\n",
       "</div>"
      ],
      "text/plain": [
       "                                                   Name         Category\n",
       "0                                        Dynamic Reader            Books\n",
       "1     Chemistry, Organic Chemistry and Biochemistry-...            Books\n",
       "2                                            BookViewer            Books\n",
       "3                                    Brick Instructions            Books\n",
       "4     Introduction to Python Programming by GoLearni...            Books\n",
       "...                                                 ...              ...\n",
       "5317                                            JS King  Developer Tools\n",
       "5318                                        MQTTSniffer  Developer Tools\n",
       "5319                      Dev Utils - JSON, CSV and XML  Developer Tools\n",
       "5320                                        Simply Text  Developer Tools\n",
       "5321                                                NaN              NaN\n",
       "\n",
       "[5322 rows x 2 columns]"
      ]
     },
     "execution_count": 7,
     "metadata": {},
     "output_type": "execute_result"
    }
   ],
   "source": [
    "df_ms[['Name','Category']]"
   ]
  },
  {
   "cell_type": "code",
   "execution_count": null,
   "metadata": {},
   "outputs": [],
   "source": [
    "df_ms.head(5)"
   ]
  },
  {
   "cell_type": "code",
   "execution_count": 11,
   "metadata": {},
   "outputs": [
    {
     "data": {
      "text/html": [
       "<div>\n",
       "<style scoped>\n",
       "    .dataframe tbody tr th:only-of-type {\n",
       "        vertical-align: middle;\n",
       "    }\n",
       "\n",
       "    .dataframe tbody tr th {\n",
       "        vertical-align: top;\n",
       "    }\n",
       "\n",
       "    .dataframe thead th {\n",
       "        text-align: right;\n",
       "    }\n",
       "</style>\n",
       "<table border=\"1\" class=\"dataframe\">\n",
       "  <thead>\n",
       "    <tr style=\"text-align: right;\">\n",
       "      <th></th>\n",
       "      <th>Date</th>\n",
       "      <th>Name</th>\n",
       "      <th>Price</th>\n",
       "    </tr>\n",
       "  </thead>\n",
       "  <tbody>\n",
       "    <tr>\n",
       "      <th>5</th>\n",
       "      <td>18-01-2017</td>\n",
       "      <td>Gurbani Reader</td>\n",
       "      <td>Free</td>\n",
       "    </tr>\n",
       "    <tr>\n",
       "      <th>6</th>\n",
       "      <td>13-11-2012</td>\n",
       "      <td>NFO Viewer</td>\n",
       "      <td>Free</td>\n",
       "    </tr>\n",
       "    <tr>\n",
       "      <th>7</th>\n",
       "      <td>17-10-2013</td>\n",
       "      <td>Text to Speech TTS</td>\n",
       "      <td>Free</td>\n",
       "    </tr>\n",
       "    <tr>\n",
       "      <th>8</th>\n",
       "      <td>20-12-2012</td>\n",
       "      <td>ACK Comics</td>\n",
       "      <td>Free</td>\n",
       "    </tr>\n",
       "    <tr>\n",
       "      <th>9</th>\n",
       "      <td>25-11-2013</td>\n",
       "      <td>Learn Biology and Human Body Anatomy by GoLear...</td>\n",
       "      <td>Free</td>\n",
       "    </tr>\n",
       "    <tr>\n",
       "      <th>10</th>\n",
       "      <td>30-01-2018</td>\n",
       "      <td>Coding Made Easy - SQL</td>\n",
       "      <td>Free</td>\n",
       "    </tr>\n",
       "  </tbody>\n",
       "</table>\n",
       "</div>"
      ],
      "text/plain": [
       "          Date                                               Name Price\n",
       "5   18-01-2017                                     Gurbani Reader  Free\n",
       "6   13-11-2012                                         NFO Viewer  Free\n",
       "7   17-10-2013                                 Text to Speech TTS  Free\n",
       "8   20-12-2012                                         ACK Comics  Free\n",
       "9   25-11-2013  Learn Biology and Human Body Anatomy by GoLear...  Free\n",
       "10  30-01-2018                             Coding Made Easy - SQL  Free"
      ]
     },
     "execution_count": 11,
     "metadata": {},
     "output_type": "execute_result"
    }
   ],
   "source": [
    "df_ms.loc[5:10, ['Date', 'Name', 'Price']]"
   ]
  },
  {
   "cell_type": "code",
   "execution_count": 12,
   "metadata": {},
   "outputs": [
    {
     "ename": "ValueError",
     "evalue": "Cannot mask with non-boolean array containing NA / NaN values",
     "output_type": "error",
     "traceback": [
      "\u001b[0;31m---------------------------------------------------------------------------\u001b[0m",
      "\u001b[0;31mValueError\u001b[0m                                Traceback (most recent call last)",
      "\u001b[0;32m/tmp/ipykernel_21577/1021722646.py\u001b[0m in \u001b[0;36m<module>\u001b[0;34m\u001b[0m\n\u001b[1;32m      1\u001b[0m \u001b[0;31m# Error: Name contains NA/NaN values\u001b[0m\u001b[0;34m\u001b[0m\u001b[0;34m\u001b[0m\u001b[0m\n\u001b[0;32m----> 2\u001b[0;31m \u001b[0mpython_books\u001b[0m \u001b[0;34m=\u001b[0m \u001b[0mdf_ms\u001b[0m\u001b[0;34m.\u001b[0m\u001b[0mloc\u001b[0m\u001b[0;34m[\u001b[0m\u001b[0mdf_ms\u001b[0m\u001b[0;34m[\u001b[0m\u001b[0;34m'Name'\u001b[0m\u001b[0;34m]\u001b[0m\u001b[0;34m.\u001b[0m\u001b[0mstr\u001b[0m\u001b[0;34m.\u001b[0m\u001b[0mcontains\u001b[0m\u001b[0;34m(\u001b[0m\u001b[0;34m\"Python\"\u001b[0m\u001b[0;34m,\u001b[0m \u001b[0mcase\u001b[0m\u001b[0;34m=\u001b[0m\u001b[0;32mFalse\u001b[0m\u001b[0;34m)\u001b[0m\u001b[0;34m]\u001b[0m\u001b[0;34m\u001b[0m\u001b[0;34m\u001b[0m\u001b[0m\n\u001b[0m",
      "\u001b[0;32m~/anaconda3/envs/primary/lib/python3.9/site-packages/pandas/core/indexing.py\u001b[0m in \u001b[0;36m__getitem__\u001b[0;34m(self, key)\u001b[0m\n\u001b[1;32m    929\u001b[0m \u001b[0;34m\u001b[0m\u001b[0m\n\u001b[1;32m    930\u001b[0m             \u001b[0mmaybe_callable\u001b[0m \u001b[0;34m=\u001b[0m \u001b[0mcom\u001b[0m\u001b[0;34m.\u001b[0m\u001b[0mapply_if_callable\u001b[0m\u001b[0;34m(\u001b[0m\u001b[0mkey\u001b[0m\u001b[0;34m,\u001b[0m \u001b[0mself\u001b[0m\u001b[0;34m.\u001b[0m\u001b[0mobj\u001b[0m\u001b[0;34m)\u001b[0m\u001b[0;34m\u001b[0m\u001b[0;34m\u001b[0m\u001b[0m\n\u001b[0;32m--> 931\u001b[0;31m             \u001b[0;32mreturn\u001b[0m \u001b[0mself\u001b[0m\u001b[0;34m.\u001b[0m\u001b[0m_getitem_axis\u001b[0m\u001b[0;34m(\u001b[0m\u001b[0mmaybe_callable\u001b[0m\u001b[0;34m,\u001b[0m \u001b[0maxis\u001b[0m\u001b[0;34m=\u001b[0m\u001b[0maxis\u001b[0m\u001b[0;34m)\u001b[0m\u001b[0;34m\u001b[0m\u001b[0;34m\u001b[0m\u001b[0m\n\u001b[0m\u001b[1;32m    932\u001b[0m \u001b[0;34m\u001b[0m\u001b[0m\n\u001b[1;32m    933\u001b[0m     \u001b[0;32mdef\u001b[0m \u001b[0m_is_scalar_access\u001b[0m\u001b[0;34m(\u001b[0m\u001b[0mself\u001b[0m\u001b[0;34m,\u001b[0m \u001b[0mkey\u001b[0m\u001b[0;34m:\u001b[0m \u001b[0mtuple\u001b[0m\u001b[0;34m)\u001b[0m\u001b[0;34m:\u001b[0m\u001b[0;34m\u001b[0m\u001b[0;34m\u001b[0m\u001b[0m\n",
      "\u001b[0;32m~/anaconda3/envs/primary/lib/python3.9/site-packages/pandas/core/indexing.py\u001b[0m in \u001b[0;36m_getitem_axis\u001b[0;34m(self, key, axis)\u001b[0m\n\u001b[1;32m   1141\u001b[0m             \u001b[0mself\u001b[0m\u001b[0;34m.\u001b[0m\u001b[0m_validate_key\u001b[0m\u001b[0;34m(\u001b[0m\u001b[0mkey\u001b[0m\u001b[0;34m,\u001b[0m \u001b[0maxis\u001b[0m\u001b[0;34m)\u001b[0m\u001b[0;34m\u001b[0m\u001b[0;34m\u001b[0m\u001b[0m\n\u001b[1;32m   1142\u001b[0m             \u001b[0;32mreturn\u001b[0m \u001b[0mself\u001b[0m\u001b[0;34m.\u001b[0m\u001b[0m_get_slice_axis\u001b[0m\u001b[0;34m(\u001b[0m\u001b[0mkey\u001b[0m\u001b[0;34m,\u001b[0m \u001b[0maxis\u001b[0m\u001b[0;34m=\u001b[0m\u001b[0maxis\u001b[0m\u001b[0;34m)\u001b[0m\u001b[0;34m\u001b[0m\u001b[0;34m\u001b[0m\u001b[0m\n\u001b[0;32m-> 1143\u001b[0;31m         \u001b[0;32melif\u001b[0m \u001b[0mcom\u001b[0m\u001b[0;34m.\u001b[0m\u001b[0mis_bool_indexer\u001b[0m\u001b[0;34m(\u001b[0m\u001b[0mkey\u001b[0m\u001b[0;34m)\u001b[0m\u001b[0;34m:\u001b[0m\u001b[0;34m\u001b[0m\u001b[0;34m\u001b[0m\u001b[0m\n\u001b[0m\u001b[1;32m   1144\u001b[0m             \u001b[0;32mreturn\u001b[0m \u001b[0mself\u001b[0m\u001b[0;34m.\u001b[0m\u001b[0m_getbool_axis\u001b[0m\u001b[0;34m(\u001b[0m\u001b[0mkey\u001b[0m\u001b[0;34m,\u001b[0m \u001b[0maxis\u001b[0m\u001b[0;34m=\u001b[0m\u001b[0maxis\u001b[0m\u001b[0;34m)\u001b[0m\u001b[0;34m\u001b[0m\u001b[0;34m\u001b[0m\u001b[0m\n\u001b[1;32m   1145\u001b[0m         \u001b[0;32melif\u001b[0m \u001b[0mis_list_like_indexer\u001b[0m\u001b[0;34m(\u001b[0m\u001b[0mkey\u001b[0m\u001b[0;34m)\u001b[0m\u001b[0;34m:\u001b[0m\u001b[0;34m\u001b[0m\u001b[0;34m\u001b[0m\u001b[0m\n",
      "\u001b[0;32m~/anaconda3/envs/primary/lib/python3.9/site-packages/pandas/core/common.py\u001b[0m in \u001b[0;36mis_bool_indexer\u001b[0;34m(key)\u001b[0m\n\u001b[1;32m    137\u001b[0m                     \u001b[0;31m# Don't raise on e.g. [\"A\", \"B\", np.nan], see\u001b[0m\u001b[0;34m\u001b[0m\u001b[0;34m\u001b[0m\u001b[0m\n\u001b[1;32m    138\u001b[0m                     \u001b[0;31m#  test_loc_getitem_list_of_labels_categoricalindex_with_na\u001b[0m\u001b[0;34m\u001b[0m\u001b[0;34m\u001b[0m\u001b[0m\n\u001b[0;32m--> 139\u001b[0;31m                     \u001b[0;32mraise\u001b[0m \u001b[0mValueError\u001b[0m\u001b[0;34m(\u001b[0m\u001b[0mna_msg\u001b[0m\u001b[0;34m)\u001b[0m\u001b[0;34m\u001b[0m\u001b[0;34m\u001b[0m\u001b[0m\n\u001b[0m\u001b[1;32m    140\u001b[0m                 \u001b[0;32mreturn\u001b[0m \u001b[0;32mFalse\u001b[0m\u001b[0;34m\u001b[0m\u001b[0;34m\u001b[0m\u001b[0m\n\u001b[1;32m    141\u001b[0m             \u001b[0;32mreturn\u001b[0m \u001b[0;32mTrue\u001b[0m\u001b[0;34m\u001b[0m\u001b[0;34m\u001b[0m\u001b[0m\n",
      "\u001b[0;31mValueError\u001b[0m: Cannot mask with non-boolean array containing NA / NaN values"
     ]
    }
   ],
   "source": [
    "# Error: Name contains NA/NaN values\n",
    "python_books = df_ms.loc[df_ms['Name'].str.contains(\"Python\", case=False)]"
   ]
  },
  {
   "cell_type": "code",
   "execution_count": 13,
   "metadata": {},
   "outputs": [
    {
     "data": {
      "text/html": [
       "<div>\n",
       "<style scoped>\n",
       "    .dataframe tbody tr th:only-of-type {\n",
       "        vertical-align: middle;\n",
       "    }\n",
       "\n",
       "    .dataframe tbody tr th {\n",
       "        vertical-align: top;\n",
       "    }\n",
       "\n",
       "    .dataframe thead th {\n",
       "        text-align: right;\n",
       "    }\n",
       "</style>\n",
       "<table border=\"1\" class=\"dataframe\">\n",
       "  <thead>\n",
       "    <tr style=\"text-align: right;\">\n",
       "      <th></th>\n",
       "      <th>Name</th>\n",
       "      <th>Rating</th>\n",
       "      <th>No of people Rated</th>\n",
       "      <th>Category</th>\n",
       "      <th>Date</th>\n",
       "      <th>Price</th>\n",
       "    </tr>\n",
       "  </thead>\n",
       "  <tbody>\n",
       "    <tr>\n",
       "      <th>4</th>\n",
       "      <td>Introduction to Python Programming by GoLearni...</td>\n",
       "      <td>2.0</td>\n",
       "      <td>634</td>\n",
       "      <td>Books</td>\n",
       "      <td>30-01-2018</td>\n",
       "      <td>Free</td>\n",
       "    </tr>\n",
       "    <tr>\n",
       "      <th>358</th>\n",
       "      <td>Learn Django and Python by GoLearningBus</td>\n",
       "      <td>3.0</td>\n",
       "      <td>711</td>\n",
       "      <td>Books</td>\n",
       "      <td>12-06-2014</td>\n",
       "      <td>Free</td>\n",
       "    </tr>\n",
       "    <tr>\n",
       "      <th>1278</th>\n",
       "      <td>Python 3.8</td>\n",
       "      <td>3.5</td>\n",
       "      <td>697</td>\n",
       "      <td>Developer Tools</td>\n",
       "      <td>18-12-2018</td>\n",
       "      <td>Free</td>\n",
       "    </tr>\n",
       "    <tr>\n",
       "      <th>1283</th>\n",
       "      <td>Python 3.7</td>\n",
       "      <td>3.5</td>\n",
       "      <td>804</td>\n",
       "      <td>Developer Tools</td>\n",
       "      <td>12-12-2018</td>\n",
       "      <td>Free</td>\n",
       "    </tr>\n",
       "    <tr>\n",
       "      <th>1295</th>\n",
       "      <td>Python 3.9 (Beta)</td>\n",
       "      <td>5.0</td>\n",
       "      <td>100</td>\n",
       "      <td>Developer Tools</td>\n",
       "      <td>19-11-2019</td>\n",
       "      <td>Free</td>\n",
       "    </tr>\n",
       "    <tr>\n",
       "      <th>1404</th>\n",
       "      <td>InstantPython</td>\n",
       "      <td>5.0</td>\n",
       "      <td>414</td>\n",
       "      <td>Developer Tools</td>\n",
       "      <td>20-04-2020</td>\n",
       "      <td>Free</td>\n",
       "    </tr>\n",
       "    <tr>\n",
       "      <th>5290</th>\n",
       "      <td>Python Playground</td>\n",
       "      <td>3.0</td>\n",
       "      <td>457</td>\n",
       "      <td>Developer Tools</td>\n",
       "      <td>23-08-2018</td>\n",
       "      <td>₹ 54.00</td>\n",
       "    </tr>\n",
       "  </tbody>\n",
       "</table>\n",
       "</div>"
      ],
      "text/plain": [
       "                                                   Name  Rating  \\\n",
       "4     Introduction to Python Programming by GoLearni...     2.0   \n",
       "358            Learn Django and Python by GoLearningBus     3.0   \n",
       "1278                                         Python 3.8     3.5   \n",
       "1283                                         Python 3.7     3.5   \n",
       "1295                                  Python 3.9 (Beta)     5.0   \n",
       "1404                                      InstantPython     5.0   \n",
       "5290                                  Python Playground     3.0   \n",
       "\n",
       "      No of people Rated         Category        Date    Price  \n",
       "4                    634            Books  30-01-2018     Free  \n",
       "358                  711            Books  12-06-2014     Free  \n",
       "1278                 697  Developer Tools  18-12-2018     Free  \n",
       "1283                 804  Developer Tools  12-12-2018     Free  \n",
       "1295                 100  Developer Tools  19-11-2019     Free  \n",
       "1404                 414  Developer Tools  20-04-2020     Free  \n",
       "5290                 457  Developer Tools  23-08-2018  ₹ 54.00  "
      ]
     },
     "execution_count": 13,
     "metadata": {},
     "output_type": "execute_result"
    }
   ],
   "source": [
    "# Ignore NA values by setting na = False\n",
    "python_books = df_ms.loc[df_ms['Name'].str.contains(\"Python\", case=False, na=False)]\n",
    "python_books"
   ]
  },
  {
   "cell_type": "markdown",
   "metadata": {},
   "source": [
    "## Replacing Data\n",
    "Often when using a data set you will need to make values consistent. For example, in the ms_df DataFrame, one of the categoris is Deveoper Tools. In all other data sets within your organization a different term is used for that category. Instead of \"Developer Tools\", your organization has standardized on \"DevTools\". Consequently, you'll want to change every occurrence of \"Developer Tools\" to \"DevTools\". This is easily accomplished in Pandas."
   ]
  },
  {
   "cell_type": "code",
   "execution_count": 17,
   "metadata": {},
   "outputs": [],
   "source": [
    "df_ms[\"Category\"].replace(\"Developer Tools\",\"DevTools\", inplace=True)"
   ]
  },
  {
   "cell_type": "code",
   "execution_count": 18,
   "metadata": {},
   "outputs": [
    {
     "data": {
      "text/html": [
       "<div>\n",
       "<style scoped>\n",
       "    .dataframe tbody tr th:only-of-type {\n",
       "        vertical-align: middle;\n",
       "    }\n",
       "\n",
       "    .dataframe tbody tr th {\n",
       "        vertical-align: top;\n",
       "    }\n",
       "\n",
       "    .dataframe thead th {\n",
       "        text-align: right;\n",
       "    }\n",
       "</style>\n",
       "<table border=\"1\" class=\"dataframe\">\n",
       "  <thead>\n",
       "    <tr style=\"text-align: right;\">\n",
       "      <th></th>\n",
       "      <th>Name</th>\n",
       "      <th>Rating</th>\n",
       "      <th>No of people Rated</th>\n",
       "      <th>Category</th>\n",
       "      <th>Date</th>\n",
       "      <th>Price</th>\n",
       "    </tr>\n",
       "  </thead>\n",
       "  <tbody>\n",
       "    <tr>\n",
       "      <th>4</th>\n",
       "      <td>Introduction to Python Programming by GoLearni...</td>\n",
       "      <td>2.0</td>\n",
       "      <td>634</td>\n",
       "      <td>Books</td>\n",
       "      <td>30-01-2018</td>\n",
       "      <td>Free</td>\n",
       "    </tr>\n",
       "    <tr>\n",
       "      <th>358</th>\n",
       "      <td>Learn Django and Python by GoLearningBus</td>\n",
       "      <td>3.0</td>\n",
       "      <td>711</td>\n",
       "      <td>Books</td>\n",
       "      <td>12-06-2014</td>\n",
       "      <td>Free</td>\n",
       "    </tr>\n",
       "    <tr>\n",
       "      <th>1278</th>\n",
       "      <td>Python 3.8</td>\n",
       "      <td>3.5</td>\n",
       "      <td>697</td>\n",
       "      <td>DevTools</td>\n",
       "      <td>18-12-2018</td>\n",
       "      <td>Free</td>\n",
       "    </tr>\n",
       "    <tr>\n",
       "      <th>1283</th>\n",
       "      <td>Python 3.7</td>\n",
       "      <td>3.5</td>\n",
       "      <td>804</td>\n",
       "      <td>DevTools</td>\n",
       "      <td>12-12-2018</td>\n",
       "      <td>Free</td>\n",
       "    </tr>\n",
       "    <tr>\n",
       "      <th>1295</th>\n",
       "      <td>Python 3.9 (Beta)</td>\n",
       "      <td>5.0</td>\n",
       "      <td>100</td>\n",
       "      <td>DevTools</td>\n",
       "      <td>19-11-2019</td>\n",
       "      <td>Free</td>\n",
       "    </tr>\n",
       "    <tr>\n",
       "      <th>1404</th>\n",
       "      <td>InstantPython</td>\n",
       "      <td>5.0</td>\n",
       "      <td>414</td>\n",
       "      <td>DevTools</td>\n",
       "      <td>20-04-2020</td>\n",
       "      <td>Free</td>\n",
       "    </tr>\n",
       "    <tr>\n",
       "      <th>5290</th>\n",
       "      <td>Python Playground</td>\n",
       "      <td>3.0</td>\n",
       "      <td>457</td>\n",
       "      <td>DevTools</td>\n",
       "      <td>23-08-2018</td>\n",
       "      <td>₹ 54.00</td>\n",
       "    </tr>\n",
       "  </tbody>\n",
       "</table>\n",
       "</div>"
      ],
      "text/plain": [
       "                                                   Name  Rating  \\\n",
       "4     Introduction to Python Programming by GoLearni...     2.0   \n",
       "358            Learn Django and Python by GoLearningBus     3.0   \n",
       "1278                                         Python 3.8     3.5   \n",
       "1283                                         Python 3.7     3.5   \n",
       "1295                                  Python 3.9 (Beta)     5.0   \n",
       "1404                                      InstantPython     5.0   \n",
       "5290                                  Python Playground     3.0   \n",
       "\n",
       "      No of people Rated  Category        Date    Price  \n",
       "4                    634     Books  30-01-2018     Free  \n",
       "358                  711     Books  12-06-2014     Free  \n",
       "1278                 697  DevTools  18-12-2018     Free  \n",
       "1283                 804  DevTools  12-12-2018     Free  \n",
       "1295                 100  DevTools  19-11-2019     Free  \n",
       "1404                 414  DevTools  20-04-2020     Free  \n",
       "5290                 457  DevTools  23-08-2018  ₹ 54.00  "
      ]
     },
     "execution_count": 18,
     "metadata": {},
     "output_type": "execute_result"
    }
   ],
   "source": [
    "# Examine the Python books (which are in the modified category)\n",
    "df_ms.loc[df_ms['Name'].str.contains(\"Python\", case=False, na=False)]"
   ]
  },
  {
   "cell_type": "markdown",
   "metadata": {},
   "source": [
    "# Changing Data Types\n",
    "Call pandas.DataFrame.astype(dtype) with dtype as a dictionary containing mappings of column names to values to change the type of each column in pandas.DataFrame.\n"
   ]
  },
  {
   "cell_type": "code",
   "execution_count": 19,
   "metadata": {},
   "outputs": [
    {
     "name": "stdout",
     "output_type": "stream",
     "text": [
      "29-02-2016\n",
      "'str' object has no attribute 'day_name'\n"
     ]
    }
   ],
   "source": [
    "# Get date and day name of BookViewer entry\n",
    "# ERROR: This fails because .day_name is not a method for a string. \n",
    "try:\n",
    "    print(df_ms.loc[2, 'Date'])\n",
    "    print(df_ms.loc[2, 'Date'].day_name())\n",
    "except Exception as e:\n",
    "    print(e)"
   ]
  },
  {
   "cell_type": "code",
   "execution_count": 20,
   "metadata": {},
   "outputs": [
    {
     "data": {
      "text/plain": [
       "Name                   object\n",
       "Rating                float64\n",
       "No of people Rated      int64\n",
       "Category               object\n",
       "Date                   object\n",
       "Price                  object\n",
       "dtype: object"
      ]
     },
     "execution_count": 20,
     "metadata": {},
     "output_type": "execute_result"
    }
   ],
   "source": [
    "df_ms.dtypes"
   ]
  },
  {
   "cell_type": "markdown",
   "metadata": {},
   "source": [
    "## Converting columns to other data types\n",
    "If the date/time column is in a standard format the Pandas understand, it will convert it automatically. If not, you must provide the string format for Pandas to properly interpret and convert the data. See (https://pandas.pydata.org/pandas-docs/stable/user_guide/timeseries.html#providing-a-format-argument) for details."
   ]
  },
  {
   "cell_type": "markdown",
   "metadata": {},
   "source": [
    "### Convert String to datetime object"
   ]
  },
  {
   "cell_type": "code",
   "execution_count": 21,
   "metadata": {},
   "outputs": [],
   "source": [
    "# Convert the date string to a datetime object.\n",
    "\n",
    "# With formatting string (unnecessary for this example because date format is recognized by Pandas)\n",
    "df_ms['Date'] = pd.to_datetime(df_ms['Date'], format='%d-%m-%Y')\n",
    "\n",
    "# No formatting string provides, so Pandas will make its best attempt at conversion.\n",
    "#df_ms['Date'] = pd.to_datetime(df_ms['Date'])\n"
   ]
  },
  {
   "cell_type": "code",
   "execution_count": 22,
   "metadata": {},
   "outputs": [
    {
     "data": {
      "text/plain": [
       "Name                          object\n",
       "Rating                       float64\n",
       "No of people Rated             int64\n",
       "Category                      object\n",
       "Date                  datetime64[ns]\n",
       "Price                         object\n",
       "dtype: object"
      ]
     },
     "execution_count": 22,
     "metadata": {},
     "output_type": "execute_result"
    }
   ],
   "source": [
    "df_ms.dtypes"
   ]
  },
  {
   "cell_type": "code",
   "execution_count": 23,
   "metadata": {},
   "outputs": [
    {
     "name": "stdout",
     "output_type": "stream",
     "text": [
      "2016-02-29 00:00:00\n",
      "Monday\n"
     ]
    }
   ],
   "source": [
    "# Get date of Bookviewer entry\n",
    "# This succeeds because 'Date' was converted from a string to a datetime object \n",
    "try:\n",
    "    print(df_ms.loc[2, 'Date'])\n",
    "    print(df_ms.loc[2, 'Date'].day_name())\n",
    "except Exception as e:\n",
    "    print(e)"
   ]
  },
  {
   "cell_type": "code",
   "execution_count": null,
   "metadata": {},
   "outputs": [],
   "source": [
    "# You can also perform date/time conversions when you load a dataset\n",
    "# Use the parse_dates parameter and pass the datetime columns of your dataset\n",
    "\n",
    "df_ms = pd.read_csv(ms_store_file, parse_dates=['Date'])\n",
    "print(df_ms.loc[2, 'Date'].day_name())"
   ]
  },
  {
   "cell_type": "markdown",
   "metadata": {},
   "source": [
    "### Convert string or object to float\n",
    "\n",
    "Syntax: \n",
    "```Python\n",
    "pandas.to_numeric(arg, errors=’raise’, downcast=None)\n",
    "```\n",
    "Parameters:\n",
    "\n",
    "arg : list, tuple, 1-d array, or Series\n",
    "\n",
    "errors : {‘ignore’, ‘raise’, ‘coerce’}, default ‘raise’\n",
    "* If ‘raise’, then invalid parsing will raise an exception\n",
    "* If ‘coerce’, then invalid parsing will be set as NaN\n",
    "* If ‘ignore’, then invalid parsing will return the input\n",
    "\n",
    "\n",
    "downcast : [default None] If not None, and if the data has been successfully cast to a numerical dtype downcast that resulting data to the smallest numerical dtype possible according to the following rules:\n",
    "* ‘integer’ or ‘signed’: smallest signed int dtype (min.: np.int8)\n",
    "* ‘unsigned’: smallest unsigned int dtype (min.: np.uint8)\n",
    "* ‘float’: smallest float dtype (min.: np.float32)\n",
    "\n",
    "Returns: numeric if parsing succeeded. Note that return type depends on input. Series if Series, otherwise ndarray."
   ]
  },
  {
   "cell_type": "code",
   "execution_count": 24,
   "metadata": {},
   "outputs": [
    {
     "data": {
      "text/plain": [
       "Name                          object\n",
       "Rating                       float64\n",
       "No of people Rated             int64\n",
       "Category                      object\n",
       "Date                  datetime64[ns]\n",
       "Price                         object\n",
       "dtype: object"
      ]
     },
     "execution_count": 24,
     "metadata": {},
     "output_type": "execute_result"
    }
   ],
   "source": [
    "# Check data types before conversion\n",
    "df_ms.dtypes"
   ]
  },
  {
   "cell_type": "code",
   "execution_count": 25,
   "metadata": {},
   "outputs": [
    {
     "data": {
      "text/html": [
       "<div>\n",
       "<style scoped>\n",
       "    .dataframe tbody tr th:only-of-type {\n",
       "        vertical-align: middle;\n",
       "    }\n",
       "\n",
       "    .dataframe tbody tr th {\n",
       "        vertical-align: top;\n",
       "    }\n",
       "\n",
       "    .dataframe thead th {\n",
       "        text-align: right;\n",
       "    }\n",
       "</style>\n",
       "<table border=\"1\" class=\"dataframe\">\n",
       "  <thead>\n",
       "    <tr style=\"text-align: right;\">\n",
       "      <th></th>\n",
       "      <th>Name</th>\n",
       "      <th>Rating</th>\n",
       "      <th>No of people Rated</th>\n",
       "      <th>Category</th>\n",
       "      <th>Date</th>\n",
       "      <th>Price</th>\n",
       "    </tr>\n",
       "  </thead>\n",
       "  <tbody>\n",
       "    <tr>\n",
       "      <th>0</th>\n",
       "      <td>Dynamic Reader</td>\n",
       "      <td>3.5</td>\n",
       "      <td>268</td>\n",
       "      <td>Books</td>\n",
       "      <td>2014-01-07</td>\n",
       "      <td>Free</td>\n",
       "    </tr>\n",
       "    <tr>\n",
       "      <th>1</th>\n",
       "      <td>Chemistry, Organic Chemistry and Biochemistry-...</td>\n",
       "      <td>3.0</td>\n",
       "      <td>627</td>\n",
       "      <td>Books</td>\n",
       "      <td>2014-01-08</td>\n",
       "      <td>Free</td>\n",
       "    </tr>\n",
       "    <tr>\n",
       "      <th>2</th>\n",
       "      <td>BookViewer</td>\n",
       "      <td>3.5</td>\n",
       "      <td>593</td>\n",
       "      <td>Books</td>\n",
       "      <td>2016-02-29</td>\n",
       "      <td>free</td>\n",
       "    </tr>\n",
       "    <tr>\n",
       "      <th>3</th>\n",
       "      <td>Brick Instructions</td>\n",
       "      <td>3.5</td>\n",
       "      <td>684</td>\n",
       "      <td>Books</td>\n",
       "      <td>2018-01-30</td>\n",
       "      <td>free</td>\n",
       "    </tr>\n",
       "    <tr>\n",
       "      <th>4</th>\n",
       "      <td>Introduction to Python Programming by GoLearni...</td>\n",
       "      <td>2.0</td>\n",
       "      <td>634</td>\n",
       "      <td>Books</td>\n",
       "      <td>2018-01-30</td>\n",
       "      <td>Free</td>\n",
       "    </tr>\n",
       "    <tr>\n",
       "      <th>5</th>\n",
       "      <td>Gurbani Reader</td>\n",
       "      <td>4.5</td>\n",
       "      <td>399</td>\n",
       "      <td>Books</td>\n",
       "      <td>2017-01-18</td>\n",
       "      <td>Free</td>\n",
       "    </tr>\n",
       "    <tr>\n",
       "      <th>6</th>\n",
       "      <td>NFO Viewer</td>\n",
       "      <td>4.5</td>\n",
       "      <td>566</td>\n",
       "      <td>Books</td>\n",
       "      <td>2012-11-13</td>\n",
       "      <td>Free</td>\n",
       "    </tr>\n",
       "    <tr>\n",
       "      <th>7</th>\n",
       "      <td>Text to Speech TTS</td>\n",
       "      <td>3.0</td>\n",
       "      <td>175</td>\n",
       "      <td>Books</td>\n",
       "      <td>2013-10-17</td>\n",
       "      <td>Free</td>\n",
       "    </tr>\n",
       "    <tr>\n",
       "      <th>8</th>\n",
       "      <td>ACK Comics</td>\n",
       "      <td>4.0</td>\n",
       "      <td>460</td>\n",
       "      <td>Books</td>\n",
       "      <td>2012-12-20</td>\n",
       "      <td>Free</td>\n",
       "    </tr>\n",
       "    <tr>\n",
       "      <th>9</th>\n",
       "      <td>Learn Biology and Human Body Anatomy by GoLear...</td>\n",
       "      <td>3.5</td>\n",
       "      <td>363</td>\n",
       "      <td>Books</td>\n",
       "      <td>2013-11-25</td>\n",
       "      <td>Free</td>\n",
       "    </tr>\n",
       "    <tr>\n",
       "      <th>10</th>\n",
       "      <td>Coding Made Easy - SQL</td>\n",
       "      <td>4.0</td>\n",
       "      <td>774</td>\n",
       "      <td>Books</td>\n",
       "      <td>2018-01-30</td>\n",
       "      <td>Free</td>\n",
       "    </tr>\n",
       "    <tr>\n",
       "      <th>11</th>\n",
       "      <td>Baani : Nitnem</td>\n",
       "      <td>4.0</td>\n",
       "      <td>533</td>\n",
       "      <td>Books</td>\n",
       "      <td>2014-08-29</td>\n",
       "      <td>Free</td>\n",
       "    </tr>\n",
       "    <tr>\n",
       "      <th>12</th>\n",
       "      <td>iMac® 101</td>\n",
       "      <td>4.0</td>\n",
       "      <td>707</td>\n",
       "      <td>Books</td>\n",
       "      <td>2014-03-28</td>\n",
       "      <td>Free</td>\n",
       "    </tr>\n",
       "    <tr>\n",
       "      <th>13</th>\n",
       "      <td>Complete C Programs</td>\n",
       "      <td>4.0</td>\n",
       "      <td>687</td>\n",
       "      <td>Books</td>\n",
       "      <td>2012-12-07</td>\n",
       "      <td>Free</td>\n",
       "    </tr>\n",
       "    <tr>\n",
       "      <th>14</th>\n",
       "      <td>Historical Places in India</td>\n",
       "      <td>4.5</td>\n",
       "      <td>825</td>\n",
       "      <td>Books</td>\n",
       "      <td>2018-02-18</td>\n",
       "      <td>Free</td>\n",
       "    </tr>\n",
       "  </tbody>\n",
       "</table>\n",
       "</div>"
      ],
      "text/plain": [
       "                                                 Name  Rating  \\\n",
       "0                                      Dynamic Reader     3.5   \n",
       "1   Chemistry, Organic Chemistry and Biochemistry-...     3.0   \n",
       "2                                          BookViewer     3.5   \n",
       "3                                  Brick Instructions     3.5   \n",
       "4   Introduction to Python Programming by GoLearni...     2.0   \n",
       "5                                      Gurbani Reader     4.5   \n",
       "6                                          NFO Viewer     4.5   \n",
       "7                                  Text to Speech TTS     3.0   \n",
       "8                                          ACK Comics     4.0   \n",
       "9   Learn Biology and Human Body Anatomy by GoLear...     3.5   \n",
       "10                             Coding Made Easy - SQL     4.0   \n",
       "11                                     Baani : Nitnem     4.0   \n",
       "12                                          iMac® 101     4.0   \n",
       "13                                Complete C Programs     4.0   \n",
       "14                         Historical Places in India     4.5   \n",
       "\n",
       "    No of people Rated Category       Date Price  \n",
       "0                  268    Books 2014-01-07  Free  \n",
       "1                  627    Books 2014-01-08  Free  \n",
       "2                  593    Books 2016-02-29  free  \n",
       "3                  684    Books 2018-01-30  free  \n",
       "4                  634    Books 2018-01-30  Free  \n",
       "5                  399    Books 2017-01-18  Free  \n",
       "6                  566    Books 2012-11-13  Free  \n",
       "7                  175    Books 2013-10-17  Free  \n",
       "8                  460    Books 2012-12-20  Free  \n",
       "9                  363    Books 2013-11-25  Free  \n",
       "10                 774    Books 2018-01-30  Free  \n",
       "11                 533    Books 2014-08-29  Free  \n",
       "12                 707    Books 2014-03-28  Free  \n",
       "13                 687    Books 2012-12-07  Free  \n",
       "14                 825    Books 2018-02-18  Free  "
      ]
     },
     "execution_count": 25,
     "metadata": {},
     "output_type": "execute_result"
    }
   ],
   "source": [
    "# Check the first few rows\n",
    "df_ms.head(15)"
   ]
  },
  {
   "cell_type": "code",
   "execution_count": 26,
   "metadata": {},
   "outputs": [
    {
     "data": {
      "text/html": [
       "<div>\n",
       "<style scoped>\n",
       "    .dataframe tbody tr th:only-of-type {\n",
       "        vertical-align: middle;\n",
       "    }\n",
       "\n",
       "    .dataframe tbody tr th {\n",
       "        vertical-align: top;\n",
       "    }\n",
       "\n",
       "    .dataframe thead th {\n",
       "        text-align: right;\n",
       "    }\n",
       "</style>\n",
       "<table border=\"1\" class=\"dataframe\">\n",
       "  <thead>\n",
       "    <tr style=\"text-align: right;\">\n",
       "      <th></th>\n",
       "      <th>Name</th>\n",
       "      <th>Rating</th>\n",
       "      <th>No of people Rated</th>\n",
       "      <th>Category</th>\n",
       "      <th>Date</th>\n",
       "      <th>Price</th>\n",
       "    </tr>\n",
       "  </thead>\n",
       "  <tbody>\n",
       "    <tr>\n",
       "      <th>5307</th>\n",
       "      <td>IpTray</td>\n",
       "      <td>1.5</td>\n",
       "      <td>848</td>\n",
       "      <td>DevTools</td>\n",
       "      <td>2019-03-04</td>\n",
       "      <td>₹ 209.00</td>\n",
       "    </tr>\n",
       "    <tr>\n",
       "      <th>5308</th>\n",
       "      <td>Database Designer SDK</td>\n",
       "      <td>3.5</td>\n",
       "      <td>502</td>\n",
       "      <td>DevTools</td>\n",
       "      <td>2018-01-16</td>\n",
       "      <td>₹ 699.00</td>\n",
       "    </tr>\n",
       "    <tr>\n",
       "      <th>5309</th>\n",
       "      <td>TPipingHMI</td>\n",
       "      <td>5.0</td>\n",
       "      <td>546</td>\n",
       "      <td>DevTools</td>\n",
       "      <td>2017-10-18</td>\n",
       "      <td>₹ 269.00</td>\n",
       "    </tr>\n",
       "    <tr>\n",
       "      <th>5310</th>\n",
       "      <td>EditPlus</td>\n",
       "      <td>4.0</td>\n",
       "      <td>778</td>\n",
       "      <td>DevTools</td>\n",
       "      <td>2016-09-27</td>\n",
       "      <td>₹ 1,899.00</td>\n",
       "    </tr>\n",
       "    <tr>\n",
       "      <th>5311</th>\n",
       "      <td>0x Hex Viewer</td>\n",
       "      <td>4.0</td>\n",
       "      <td>211</td>\n",
       "      <td>DevTools</td>\n",
       "      <td>2016-02-20</td>\n",
       "      <td>₹ 54.00</td>\n",
       "    </tr>\n",
       "    <tr>\n",
       "      <th>5312</th>\n",
       "      <td>Assets Resizer for Windows Store</td>\n",
       "      <td>3.5</td>\n",
       "      <td>566</td>\n",
       "      <td>DevTools</td>\n",
       "      <td>2015-09-22</td>\n",
       "      <td>₹ 54.00</td>\n",
       "    </tr>\n",
       "    <tr>\n",
       "      <th>5313</th>\n",
       "      <td>WWWmaster</td>\n",
       "      <td>3.5</td>\n",
       "      <td>150</td>\n",
       "      <td>DevTools</td>\n",
       "      <td>2018-01-12</td>\n",
       "      <td>₹ 489.00</td>\n",
       "    </tr>\n",
       "    <tr>\n",
       "      <th>5314</th>\n",
       "      <td>HexToolkit</td>\n",
       "      <td>3.5</td>\n",
       "      <td>214</td>\n",
       "      <td>DevTools</td>\n",
       "      <td>2017-09-25</td>\n",
       "      <td>₹ 54.00</td>\n",
       "    </tr>\n",
       "    <tr>\n",
       "      <th>5315</th>\n",
       "      <td>Visual Studio Image Scaler</td>\n",
       "      <td>1.0</td>\n",
       "      <td>756</td>\n",
       "      <td>DevTools</td>\n",
       "      <td>2017-05-15</td>\n",
       "      <td>₹ 54.00</td>\n",
       "    </tr>\n",
       "    <tr>\n",
       "      <th>5316</th>\n",
       "      <td>Get Color</td>\n",
       "      <td>3.0</td>\n",
       "      <td>785</td>\n",
       "      <td>DevTools</td>\n",
       "      <td>2019-08-08</td>\n",
       "      <td>₹ 54.50</td>\n",
       "    </tr>\n",
       "    <tr>\n",
       "      <th>5317</th>\n",
       "      <td>JS King</td>\n",
       "      <td>1.0</td>\n",
       "      <td>720</td>\n",
       "      <td>DevTools</td>\n",
       "      <td>2018-07-19</td>\n",
       "      <td>₹ 269.00</td>\n",
       "    </tr>\n",
       "    <tr>\n",
       "      <th>5318</th>\n",
       "      <td>MQTTSniffer</td>\n",
       "      <td>2.5</td>\n",
       "      <td>500</td>\n",
       "      <td>DevTools</td>\n",
       "      <td>2017-04-10</td>\n",
       "      <td>₹ 64.00</td>\n",
       "    </tr>\n",
       "    <tr>\n",
       "      <th>5319</th>\n",
       "      <td>Dev Utils - JSON, CSV and XML</td>\n",
       "      <td>4.0</td>\n",
       "      <td>862</td>\n",
       "      <td>DevTools</td>\n",
       "      <td>2019-11-18</td>\n",
       "      <td>₹ 269.00</td>\n",
       "    </tr>\n",
       "    <tr>\n",
       "      <th>5320</th>\n",
       "      <td>Simply Text</td>\n",
       "      <td>4.0</td>\n",
       "      <td>386</td>\n",
       "      <td>DevTools</td>\n",
       "      <td>2014-01-23</td>\n",
       "      <td>₹ 219.00</td>\n",
       "    </tr>\n",
       "    <tr>\n",
       "      <th>5321</th>\n",
       "      <td>NaN</td>\n",
       "      <td>NaN</td>\n",
       "      <td>948</td>\n",
       "      <td>NaN</td>\n",
       "      <td>NaT</td>\n",
       "      <td>NaN</td>\n",
       "    </tr>\n",
       "  </tbody>\n",
       "</table>\n",
       "</div>"
      ],
      "text/plain": [
       "                                  Name  Rating  No of people Rated  Category  \\\n",
       "5307                            IpTray     1.5                 848  DevTools   \n",
       "5308             Database Designer SDK     3.5                 502  DevTools   \n",
       "5309                        TPipingHMI     5.0                 546  DevTools   \n",
       "5310                          EditPlus     4.0                 778  DevTools   \n",
       "5311                     0x Hex Viewer     4.0                 211  DevTools   \n",
       "5312  Assets Resizer for Windows Store     3.5                 566  DevTools   \n",
       "5313                         WWWmaster     3.5                 150  DevTools   \n",
       "5314                        HexToolkit     3.5                 214  DevTools   \n",
       "5315        Visual Studio Image Scaler     1.0                 756  DevTools   \n",
       "5316                         Get Color     3.0                 785  DevTools   \n",
       "5317                           JS King     1.0                 720  DevTools   \n",
       "5318                       MQTTSniffer     2.5                 500  DevTools   \n",
       "5319     Dev Utils - JSON, CSV and XML     4.0                 862  DevTools   \n",
       "5320                       Simply Text     4.0                 386  DevTools   \n",
       "5321                               NaN     NaN                 948       NaN   \n",
       "\n",
       "           Date       Price  \n",
       "5307 2019-03-04    ₹ 209.00  \n",
       "5308 2018-01-16    ₹ 699.00  \n",
       "5309 2017-10-18    ₹ 269.00  \n",
       "5310 2016-09-27  ₹ 1,899.00  \n",
       "5311 2016-02-20     ₹ 54.00  \n",
       "5312 2015-09-22     ₹ 54.00  \n",
       "5313 2018-01-12    ₹ 489.00  \n",
       "5314 2017-09-25     ₹ 54.00  \n",
       "5315 2017-05-15     ₹ 54.00  \n",
       "5316 2019-08-08     ₹ 54.50  \n",
       "5317 2018-07-19    ₹ 269.00  \n",
       "5318 2017-04-10     ₹ 64.00  \n",
       "5319 2019-11-18    ₹ 269.00  \n",
       "5320 2014-01-23    ₹ 219.00  \n",
       "5321        NaT         NaN  "
      ]
     },
     "execution_count": 26,
     "metadata": {},
     "output_type": "execute_result"
    }
   ],
   "source": [
    "# Check the last few rows\n",
    "df_ms.tail(15)"
   ]
  },
  {
   "cell_type": "code",
   "execution_count": 27,
   "metadata": {},
   "outputs": [
    {
     "data": {
      "text/html": [
       "<div>\n",
       "<style scoped>\n",
       "    .dataframe tbody tr th:only-of-type {\n",
       "        vertical-align: middle;\n",
       "    }\n",
       "\n",
       "    .dataframe tbody tr th {\n",
       "        vertical-align: top;\n",
       "    }\n",
       "\n",
       "    .dataframe thead th {\n",
       "        text-align: right;\n",
       "    }\n",
       "</style>\n",
       "<table border=\"1\" class=\"dataframe\">\n",
       "  <thead>\n",
       "    <tr style=\"text-align: right;\">\n",
       "      <th></th>\n",
       "      <th>Name</th>\n",
       "      <th>Rating</th>\n",
       "      <th>No of people Rated</th>\n",
       "      <th>Category</th>\n",
       "      <th>Date</th>\n",
       "      <th>Price</th>\n",
       "    </tr>\n",
       "  </thead>\n",
       "  <tbody>\n",
       "    <tr>\n",
       "      <th>2</th>\n",
       "      <td>BookViewer</td>\n",
       "      <td>3.5</td>\n",
       "      <td>593</td>\n",
       "      <td>Books</td>\n",
       "      <td>2016-02-29</td>\n",
       "      <td>free</td>\n",
       "    </tr>\n",
       "    <tr>\n",
       "      <th>3</th>\n",
       "      <td>Brick Instructions</td>\n",
       "      <td>3.5</td>\n",
       "      <td>684</td>\n",
       "      <td>Books</td>\n",
       "      <td>2018-01-30</td>\n",
       "      <td>free</td>\n",
       "    </tr>\n",
       "    <tr>\n",
       "      <th>5163</th>\n",
       "      <td>Bluestacks app player: guide</td>\n",
       "      <td>1.5</td>\n",
       "      <td>760</td>\n",
       "      <td>Books</td>\n",
       "      <td>2019-12-16</td>\n",
       "      <td>₹ 144.00</td>\n",
       "    </tr>\n",
       "    <tr>\n",
       "      <th>5164</th>\n",
       "      <td>Adobe Acrobat Reader DC PC Guide</td>\n",
       "      <td>2.0</td>\n",
       "      <td>163</td>\n",
       "      <td>Books</td>\n",
       "      <td>2020-06-28</td>\n",
       "      <td>₹ 144.00</td>\n",
       "    </tr>\n",
       "    <tr>\n",
       "      <th>5165</th>\n",
       "      <td>Play Books Online (Client For Google Books)</td>\n",
       "      <td>2.5</td>\n",
       "      <td>292</td>\n",
       "      <td>Books</td>\n",
       "      <td>2016-01-14</td>\n",
       "      <td>₹ 54.00</td>\n",
       "    </tr>\n",
       "    <tr>\n",
       "      <th>...</th>\n",
       "      <td>...</td>\n",
       "      <td>...</td>\n",
       "      <td>...</td>\n",
       "      <td>...</td>\n",
       "      <td>...</td>\n",
       "      <td>...</td>\n",
       "    </tr>\n",
       "    <tr>\n",
       "      <th>5317</th>\n",
       "      <td>JS King</td>\n",
       "      <td>1.0</td>\n",
       "      <td>720</td>\n",
       "      <td>DevTools</td>\n",
       "      <td>2018-07-19</td>\n",
       "      <td>₹ 269.00</td>\n",
       "    </tr>\n",
       "    <tr>\n",
       "      <th>5318</th>\n",
       "      <td>MQTTSniffer</td>\n",
       "      <td>2.5</td>\n",
       "      <td>500</td>\n",
       "      <td>DevTools</td>\n",
       "      <td>2017-04-10</td>\n",
       "      <td>₹ 64.00</td>\n",
       "    </tr>\n",
       "    <tr>\n",
       "      <th>5319</th>\n",
       "      <td>Dev Utils - JSON, CSV and XML</td>\n",
       "      <td>4.0</td>\n",
       "      <td>862</td>\n",
       "      <td>DevTools</td>\n",
       "      <td>2019-11-18</td>\n",
       "      <td>₹ 269.00</td>\n",
       "    </tr>\n",
       "    <tr>\n",
       "      <th>5320</th>\n",
       "      <td>Simply Text</td>\n",
       "      <td>4.0</td>\n",
       "      <td>386</td>\n",
       "      <td>DevTools</td>\n",
       "      <td>2014-01-23</td>\n",
       "      <td>₹ 219.00</td>\n",
       "    </tr>\n",
       "    <tr>\n",
       "      <th>5321</th>\n",
       "      <td>NaN</td>\n",
       "      <td>NaN</td>\n",
       "      <td>948</td>\n",
       "      <td>NaN</td>\n",
       "      <td>NaT</td>\n",
       "      <td>NaN</td>\n",
       "    </tr>\n",
       "  </tbody>\n",
       "</table>\n",
       "<p>161 rows × 6 columns</p>\n",
       "</div>"
      ],
      "text/plain": [
       "                                             Name  Rating  No of people Rated  \\\n",
       "2                                      BookViewer     3.5                 593   \n",
       "3                              Brick Instructions     3.5                 684   \n",
       "5163                 Bluestacks app player: guide     1.5                 760   \n",
       "5164             Adobe Acrobat Reader DC PC Guide     2.0                 163   \n",
       "5165  Play Books Online (Client For Google Books)     2.5                 292   \n",
       "...                                           ...     ...                 ...   \n",
       "5317                                      JS King     1.0                 720   \n",
       "5318                                  MQTTSniffer     2.5                 500   \n",
       "5319                Dev Utils - JSON, CSV and XML     4.0                 862   \n",
       "5320                                  Simply Text     4.0                 386   \n",
       "5321                                          NaN     NaN                 948   \n",
       "\n",
       "      Category       Date     Price  \n",
       "2        Books 2016-02-29      free  \n",
       "3        Books 2018-01-30      free  \n",
       "5163     Books 2019-12-16  ₹ 144.00  \n",
       "5164     Books 2020-06-28  ₹ 144.00  \n",
       "5165     Books 2016-01-14   ₹ 54.00  \n",
       "...        ...        ...       ...  \n",
       "5317  DevTools 2018-07-19  ₹ 269.00  \n",
       "5318  DevTools 2017-04-10   ₹ 64.00  \n",
       "5319  DevTools 2019-11-18  ₹ 269.00  \n",
       "5320  DevTools 2014-01-23  ₹ 219.00  \n",
       "5321       NaN        NaT       NaN  \n",
       "\n",
       "[161 rows x 6 columns]"
      ]
     },
     "execution_count": 27,
     "metadata": {},
     "output_type": "execute_result"
    }
   ],
   "source": [
    "# Check items that aren't free\n",
    "df_ms[df_ms['Price']!='Free']"
   ]
  },
  {
   "cell_type": "code",
   "execution_count": 28,
   "metadata": {},
   "outputs": [
    {
     "data": {
      "text/plain": [
       "True"
      ]
     },
     "execution_count": 28,
     "metadata": {},
     "output_type": "execute_result"
    }
   ],
   "source": [
    "# Does a particular column have any NaN values?\n",
    "df_ms['Price'].isnull().values.any()"
   ]
  },
  {
   "cell_type": "code",
   "execution_count": 29,
   "metadata": {},
   "outputs": [
    {
     "data": {
      "text/plain": [
       "True"
      ]
     },
     "execution_count": 29,
     "metadata": {},
     "output_type": "execute_result"
    }
   ],
   "source": [
    "# Does the DataFrame have any NaN values?\n",
    "df_ms.isnull().values.any()"
   ]
  },
  {
   "cell_type": "code",
   "execution_count": 30,
   "metadata": {},
   "outputs": [
    {
     "data": {
      "text/plain": [
       "Name                  1\n",
       "Rating                1\n",
       "No of people Rated    0\n",
       "Category              1\n",
       "Date                  1\n",
       "Price                 1\n",
       "dtype: int64"
      ]
     },
     "execution_count": 30,
     "metadata": {},
     "output_type": "execute_result"
    }
   ],
   "source": [
    "# How many NaN values are in the DataFrame (by column)?\n",
    "df_ms.isnull().sum()"
   ]
  },
  {
   "cell_type": "code",
   "execution_count": 34,
   "metadata": {},
   "outputs": [
    {
     "data": {
      "text/plain": [
       "0"
      ]
     },
     "execution_count": 34,
     "metadata": {},
     "output_type": "execute_result"
    }
   ],
   "source": [
    "# How many NaN values are in the DataFrame (entire DataFrame)?\n",
    "df_ms.isnull().sum().sum()"
   ]
  },
  {
   "cell_type": "code",
   "execution_count": 32,
   "metadata": {},
   "outputs": [
    {
     "data": {
      "text/html": [
       "<div>\n",
       "<style scoped>\n",
       "    .dataframe tbody tr th:only-of-type {\n",
       "        vertical-align: middle;\n",
       "    }\n",
       "\n",
       "    .dataframe tbody tr th {\n",
       "        vertical-align: top;\n",
       "    }\n",
       "\n",
       "    .dataframe thead th {\n",
       "        text-align: right;\n",
       "    }\n",
       "</style>\n",
       "<table border=\"1\" class=\"dataframe\">\n",
       "  <thead>\n",
       "    <tr style=\"text-align: right;\">\n",
       "      <th></th>\n",
       "      <th>Name</th>\n",
       "      <th>Rating</th>\n",
       "      <th>No of people Rated</th>\n",
       "      <th>Category</th>\n",
       "      <th>Date</th>\n",
       "      <th>Price</th>\n",
       "    </tr>\n",
       "  </thead>\n",
       "  <tbody>\n",
       "    <tr>\n",
       "      <th>5321</th>\n",
       "      <td>NaN</td>\n",
       "      <td>NaN</td>\n",
       "      <td>948</td>\n",
       "      <td>NaN</td>\n",
       "      <td>NaT</td>\n",
       "      <td>NaN</td>\n",
       "    </tr>\n",
       "  </tbody>\n",
       "</table>\n",
       "</div>"
      ],
      "text/plain": [
       "     Name  Rating  No of people Rated Category Date Price\n",
       "5321  NaN     NaN                 948      NaN  NaT   NaN"
      ]
     },
     "execution_count": 32,
     "metadata": {},
     "output_type": "execute_result"
    }
   ],
   "source": [
    "# Return the NaN rows\n",
    "df_ms[df_ms['Price'].isnull()]"
   ]
  },
  {
   "cell_type": "code",
   "execution_count": 33,
   "metadata": {},
   "outputs": [],
   "source": [
    "# Delete (drop) the row using its index number\n",
    "df_ms.drop(5321, inplace=True)"
   ]
  },
  {
   "cell_type": "code",
   "execution_count": 43,
   "metadata": {},
   "outputs": [
    {
     "data": {
      "text/plain": [
       "array([0, '₹ 144.00', '₹ 54.00', '₹ 99.00', '₹ 219.00', '₹ 269.00',\n",
       "       '₹ 134.00', '₹ 164.00', '₹ 109.00', '₹ 1,624.00', '₹ 1,099.00',\n",
       "       '₹ 1,349.00', '₹ 59.00', '₹ 154.00', '₹ 119.00', '₹ 94.00',\n",
       "       '₹ 69.00', '₹ 139.00', '₹ 189.00', '₹ 549.00', '₹ 79.00',\n",
       "       '₹ 2,599.00', '₹ 299.00', '₹ 574.00', '₹ 329.40', '₹ 1,521.80',\n",
       "       '₹ 324.00', '₹ 824.00', '₹ 5,449.00', '₹ 89.50', '₹ 114.00',\n",
       "       '₹ 194.00', '₹ 319.00', '₹ 624.00', '₹ 2,149.00', '₹ 1,149.00',\n",
       "       '₹ 434.00', '₹ 279.00', '₹ 209.00', '₹ 699.00', '₹ 1,899.00',\n",
       "       '₹ 489.00', '₹ 54.50', '₹ 64.00'], dtype=object)"
      ]
     },
     "execution_count": 43,
     "metadata": {},
     "output_type": "execute_result"
    }
   ],
   "source": [
    "# Get all unique prices \n",
    "#   (not feasible to display all unique prices for a large data set)\n",
    "df_ms['Price'].unique()"
   ]
  },
  {
   "cell_type": "code",
   "execution_count": 40,
   "metadata": {},
   "outputs": [],
   "source": [
    "# Carefully consider (and test) the error parameter. \n",
    "#   What if we used 'ignore'? Valid? Ideal output? 'coerce'?\n",
    "df_ms['Price'] = pd.to_numeric(df_ms['Price'], downcast='float', errors='ignore')"
   ]
  },
  {
   "cell_type": "code",
   "execution_count": 41,
   "metadata": {},
   "outputs": [],
   "source": [
    "# We'll assume that null prices are Free apps and replace NaN with Zero\n",
    "df_ms['Price'] = df_ms['Price'].replace([np.nan], 0)"
   ]
  },
  {
   "cell_type": "code",
   "execution_count": 42,
   "metadata": {},
   "outputs": [],
   "source": [
    "# Since we want the column to be a float, let's replace all the 'Free' prices with Zero\n",
    "df_ms['Price'] = df_ms['Price'].replace('[F|f]ree', 0, regex=True)"
   ]
  },
  {
   "cell_type": "code",
   "execution_count": 44,
   "metadata": {},
   "outputs": [],
   "source": [
    "# Conversion failed earlier because of the symbol. Let's remove it.\n",
    "df_ms['Price'] = df_ms['Price'].str.replace('₹ ', '')"
   ]
  },
  {
   "cell_type": "code",
   "execution_count": 47,
   "metadata": {},
   "outputs": [
    {
     "data": {
      "text/plain": [
       "array([  nan, 144. ,  54. ,  99. , 219. , 269. , 134. , 164. , 109. ,\n",
       "        59. , 154. , 119. ,  94. ,  69. , 139. , 189. , 549. ,  79. ,\n",
       "       299. , 574. , 329.4, 324. , 824. ,  89.5, 114. , 194. , 319. ,\n",
       "       624. , 434. , 279. , 209. , 699. , 489. ,  54.5,  64. ],\n",
       "      dtype=float32)"
      ]
     },
     "execution_count": 47,
     "metadata": {},
     "output_type": "execute_result"
    }
   ],
   "source": [
    "# Get all unique prices\n",
    "df_ms['Price'].unique()"
   ]
  },
  {
   "cell_type": "code",
   "execution_count": 46,
   "metadata": {},
   "outputs": [],
   "source": [
    "# Carefully consider (and test) the error parameter. \n",
    "#   What if we used 'ignore'? Valid? Ideal output? 'coerce'?\n",
    "df_ms['Price'] = pd.to_numeric(df_ms['Price'], downcast='float', errors='coerce')"
   ]
  },
  {
   "cell_type": "code",
   "execution_count": 48,
   "metadata": {},
   "outputs": [
    {
     "data": {
      "text/plain": [
       "Name                          object\n",
       "Rating                       float64\n",
       "No of people Rated             int64\n",
       "Category                      object\n",
       "Date                  datetime64[ns]\n",
       "Price                        float32\n",
       "dtype: object"
      ]
     },
     "execution_count": 48,
     "metadata": {},
     "output_type": "execute_result"
    }
   ],
   "source": [
    "# Confirm Price is a float. What type of float is it? Why?\n",
    "df_ms.dtypes"
   ]
  },
  {
   "cell_type": "markdown",
   "metadata": {},
   "source": [
    "## Using the `dt` class\n",
    "The `dt` class on the Series object provides useful date and time features."
   ]
  },
  {
   "cell_type": "code",
   "execution_count": 49,
   "metadata": {},
   "outputs": [
    {
     "data": {
      "text/plain": [
       "Index(['Name', 'Rating', 'No of people Rated', 'Category', 'Date', 'Price'], dtype='object')"
      ]
     },
     "execution_count": 49,
     "metadata": {},
     "output_type": "execute_result"
    }
   ],
   "source": [
    "df_ms.columns"
   ]
  },
  {
   "cell_type": "code",
   "execution_count": 50,
   "metadata": {},
   "outputs": [
    {
     "data": {
      "text/html": [
       "<div>\n",
       "<style scoped>\n",
       "    .dataframe tbody tr th:only-of-type {\n",
       "        vertical-align: middle;\n",
       "    }\n",
       "\n",
       "    .dataframe tbody tr th {\n",
       "        vertical-align: top;\n",
       "    }\n",
       "\n",
       "    .dataframe thead th {\n",
       "        text-align: right;\n",
       "    }\n",
       "</style>\n",
       "<table border=\"1\" class=\"dataframe\">\n",
       "  <thead>\n",
       "    <tr style=\"text-align: right;\">\n",
       "      <th></th>\n",
       "      <th>Name</th>\n",
       "      <th>Rating</th>\n",
       "      <th>No of people Rated</th>\n",
       "      <th>Category</th>\n",
       "      <th>Date</th>\n",
       "      <th>Price</th>\n",
       "      <th>DayOfWeek</th>\n",
       "    </tr>\n",
       "  </thead>\n",
       "  <tbody>\n",
       "    <tr>\n",
       "      <th>0</th>\n",
       "      <td>Dynamic Reader</td>\n",
       "      <td>3.5</td>\n",
       "      <td>268</td>\n",
       "      <td>Books</td>\n",
       "      <td>2014-01-07</td>\n",
       "      <td>NaN</td>\n",
       "      <td>Tuesday</td>\n",
       "    </tr>\n",
       "    <tr>\n",
       "      <th>1</th>\n",
       "      <td>Chemistry, Organic Chemistry and Biochemistry-...</td>\n",
       "      <td>3.0</td>\n",
       "      <td>627</td>\n",
       "      <td>Books</td>\n",
       "      <td>2014-01-08</td>\n",
       "      <td>NaN</td>\n",
       "      <td>Wednesday</td>\n",
       "    </tr>\n",
       "    <tr>\n",
       "      <th>2</th>\n",
       "      <td>BookViewer</td>\n",
       "      <td>3.5</td>\n",
       "      <td>593</td>\n",
       "      <td>Books</td>\n",
       "      <td>2016-02-29</td>\n",
       "      <td>NaN</td>\n",
       "      <td>Monday</td>\n",
       "    </tr>\n",
       "    <tr>\n",
       "      <th>3</th>\n",
       "      <td>Brick Instructions</td>\n",
       "      <td>3.5</td>\n",
       "      <td>684</td>\n",
       "      <td>Books</td>\n",
       "      <td>2018-01-30</td>\n",
       "      <td>NaN</td>\n",
       "      <td>Tuesday</td>\n",
       "    </tr>\n",
       "    <tr>\n",
       "      <th>4</th>\n",
       "      <td>Introduction to Python Programming by GoLearni...</td>\n",
       "      <td>2.0</td>\n",
       "      <td>634</td>\n",
       "      <td>Books</td>\n",
       "      <td>2018-01-30</td>\n",
       "      <td>NaN</td>\n",
       "      <td>Tuesday</td>\n",
       "    </tr>\n",
       "  </tbody>\n",
       "</table>\n",
       "</div>"
      ],
      "text/plain": [
       "                                                Name  Rating  \\\n",
       "0                                     Dynamic Reader     3.5   \n",
       "1  Chemistry, Organic Chemistry and Biochemistry-...     3.0   \n",
       "2                                         BookViewer     3.5   \n",
       "3                                 Brick Instructions     3.5   \n",
       "4  Introduction to Python Programming by GoLearni...     2.0   \n",
       "\n",
       "   No of people Rated Category       Date  Price  DayOfWeek  \n",
       "0                 268    Books 2014-01-07    NaN    Tuesday  \n",
       "1                 627    Books 2014-01-08    NaN  Wednesday  \n",
       "2                 593    Books 2016-02-29    NaN     Monday  \n",
       "3                 684    Books 2018-01-30    NaN    Tuesday  \n",
       "4                 634    Books 2018-01-30    NaN    Tuesday  "
      ]
     },
     "execution_count": 50,
     "metadata": {},
     "output_type": "execute_result"
    }
   ],
   "source": [
    "# Create a DayOfWeek column and store the named day\n",
    "df_ms['DayOfWeek'] = df_ms['Date'].dt.day_name()\n",
    "df_ms.head()"
   ]
  },
  {
   "cell_type": "code",
   "execution_count": 51,
   "metadata": {},
   "outputs": [
    {
     "name": "stdout",
     "output_type": "stream",
     "text": [
      "Earlist date: ; 2010-11-04 00:00:00\n",
      "Latest date:  2020-07-03 00:00:00\n",
      "3529 days 00:00:00\n"
     ]
    }
   ],
   "source": [
    "# Get earliest date\n",
    "print('Earlist date: ;', df_ms['Date'].min())\n",
    "\n",
    "# Get latest date\n",
    "print('Latest date: ', df_ms['Date'].max())\n",
    "\n",
    "# Get number of days between earliest and latest date\n",
    "print(df_ms['Date'].max() - df_ms['Date'].min())"
   ]
  },
  {
   "cell_type": "code",
   "execution_count": 52,
   "metadata": {},
   "outputs": [
    {
     "data": {
      "text/html": [
       "<div>\n",
       "<style scoped>\n",
       "    .dataframe tbody tr th:only-of-type {\n",
       "        vertical-align: middle;\n",
       "    }\n",
       "\n",
       "    .dataframe tbody tr th {\n",
       "        vertical-align: top;\n",
       "    }\n",
       "\n",
       "    .dataframe thead th {\n",
       "        text-align: right;\n",
       "    }\n",
       "</style>\n",
       "<table border=\"1\" class=\"dataframe\">\n",
       "  <thead>\n",
       "    <tr style=\"text-align: right;\">\n",
       "      <th></th>\n",
       "      <th>Name</th>\n",
       "      <th>Rating</th>\n",
       "      <th>No of people Rated</th>\n",
       "      <th>Category</th>\n",
       "      <th>Date</th>\n",
       "      <th>Price</th>\n",
       "      <th>DayOfWeek</th>\n",
       "    </tr>\n",
       "  </thead>\n",
       "  <tbody>\n",
       "    <tr>\n",
       "      <th>3</th>\n",
       "      <td>Brick Instructions</td>\n",
       "      <td>3.5</td>\n",
       "      <td>684</td>\n",
       "      <td>Books</td>\n",
       "      <td>2018-01-30</td>\n",
       "      <td>NaN</td>\n",
       "      <td>Tuesday</td>\n",
       "    </tr>\n",
       "    <tr>\n",
       "      <th>4</th>\n",
       "      <td>Introduction to Python Programming by GoLearni...</td>\n",
       "      <td>2.0</td>\n",
       "      <td>634</td>\n",
       "      <td>Books</td>\n",
       "      <td>2018-01-30</td>\n",
       "      <td>NaN</td>\n",
       "      <td>Tuesday</td>\n",
       "    </tr>\n",
       "    <tr>\n",
       "      <th>10</th>\n",
       "      <td>Coding Made Easy - SQL</td>\n",
       "      <td>4.0</td>\n",
       "      <td>774</td>\n",
       "      <td>Books</td>\n",
       "      <td>2018-01-30</td>\n",
       "      <td>NaN</td>\n",
       "      <td>Tuesday</td>\n",
       "    </tr>\n",
       "    <tr>\n",
       "      <th>14</th>\n",
       "      <td>Historical Places in India</td>\n",
       "      <td>4.5</td>\n",
       "      <td>825</td>\n",
       "      <td>Books</td>\n",
       "      <td>2018-02-18</td>\n",
       "      <td>NaN</td>\n",
       "      <td>Sunday</td>\n",
       "    </tr>\n",
       "    <tr>\n",
       "      <th>20</th>\n",
       "      <td>GRE Vocabulary Lists - Collection</td>\n",
       "      <td>4.5</td>\n",
       "      <td>224</td>\n",
       "      <td>Books</td>\n",
       "      <td>2019-05-02</td>\n",
       "      <td>NaN</td>\n",
       "      <td>Thursday</td>\n",
       "    </tr>\n",
       "    <tr>\n",
       "      <th>...</th>\n",
       "      <td>...</td>\n",
       "      <td>...</td>\n",
       "      <td>...</td>\n",
       "      <td>...</td>\n",
       "      <td>...</td>\n",
       "      <td>...</td>\n",
       "      <td>...</td>\n",
       "    </tr>\n",
       "    <tr>\n",
       "      <th>5308</th>\n",
       "      <td>Database Designer SDK</td>\n",
       "      <td>3.5</td>\n",
       "      <td>502</td>\n",
       "      <td>DevTools</td>\n",
       "      <td>2018-01-16</td>\n",
       "      <td>699.0</td>\n",
       "      <td>Tuesday</td>\n",
       "    </tr>\n",
       "    <tr>\n",
       "      <th>5313</th>\n",
       "      <td>WWWmaster</td>\n",
       "      <td>3.5</td>\n",
       "      <td>150</td>\n",
       "      <td>DevTools</td>\n",
       "      <td>2018-01-12</td>\n",
       "      <td>489.0</td>\n",
       "      <td>Friday</td>\n",
       "    </tr>\n",
       "    <tr>\n",
       "      <th>5316</th>\n",
       "      <td>Get Color</td>\n",
       "      <td>3.0</td>\n",
       "      <td>785</td>\n",
       "      <td>DevTools</td>\n",
       "      <td>2019-08-08</td>\n",
       "      <td>54.5</td>\n",
       "      <td>Thursday</td>\n",
       "    </tr>\n",
       "    <tr>\n",
       "      <th>5317</th>\n",
       "      <td>JS King</td>\n",
       "      <td>1.0</td>\n",
       "      <td>720</td>\n",
       "      <td>DevTools</td>\n",
       "      <td>2018-07-19</td>\n",
       "      <td>269.0</td>\n",
       "      <td>Thursday</td>\n",
       "    </tr>\n",
       "    <tr>\n",
       "      <th>5319</th>\n",
       "      <td>Dev Utils - JSON, CSV and XML</td>\n",
       "      <td>4.0</td>\n",
       "      <td>862</td>\n",
       "      <td>DevTools</td>\n",
       "      <td>2019-11-18</td>\n",
       "      <td>269.0</td>\n",
       "      <td>Monday</td>\n",
       "    </tr>\n",
       "  </tbody>\n",
       "</table>\n",
       "<p>1450 rows × 7 columns</p>\n",
       "</div>"
      ],
      "text/plain": [
       "                                                   Name  Rating  \\\n",
       "3                                    Brick Instructions     3.5   \n",
       "4     Introduction to Python Programming by GoLearni...     2.0   \n",
       "10                               Coding Made Easy - SQL     4.0   \n",
       "14                           Historical Places in India     4.5   \n",
       "20                    GRE Vocabulary Lists - Collection     4.5   \n",
       "...                                                 ...     ...   \n",
       "5308                              Database Designer SDK     3.5   \n",
       "5313                                          WWWmaster     3.5   \n",
       "5316                                          Get Color     3.0   \n",
       "5317                                            JS King     1.0   \n",
       "5319                      Dev Utils - JSON, CSV and XML     4.0   \n",
       "\n",
       "      No of people Rated  Category       Date  Price DayOfWeek  \n",
       "3                    684     Books 2018-01-30    NaN   Tuesday  \n",
       "4                    634     Books 2018-01-30    NaN   Tuesday  \n",
       "10                   774     Books 2018-01-30    NaN   Tuesday  \n",
       "14                   825     Books 2018-02-18    NaN    Sunday  \n",
       "20                   224     Books 2019-05-02    NaN  Thursday  \n",
       "...                  ...       ...        ...    ...       ...  \n",
       "5308                 502  DevTools 2018-01-16  699.0   Tuesday  \n",
       "5313                 150  DevTools 2018-01-12  489.0    Friday  \n",
       "5316                 785  DevTools 2019-08-08   54.5  Thursday  \n",
       "5317                 720  DevTools 2018-07-19  269.0  Thursday  \n",
       "5319                 862  DevTools 2019-11-18  269.0    Monday  \n",
       "\n",
       "[1450 rows x 7 columns]"
      ]
     },
     "execution_count": 52,
     "metadata": {},
     "output_type": "execute_result"
    }
   ],
   "source": [
    "# Filter Microsoft Store records by date\n",
    "# Show only records after 2018\n",
    "date_filter = (df_ms['Date'] >= '2018')\n",
    "df_ms.loc[date_filter]"
   ]
  },
  {
   "cell_type": "code",
   "execution_count": null,
   "metadata": {},
   "outputs": [],
   "source": [
    "# Filter Microsoft Store records by date\n",
    "# Show only records in 2018\n",
    "date_filter = (df_ms['Date'] >= '2018') & (df_ms['Date'] < '2019')\n",
    "df_ms.loc[date_filter]"
   ]
  },
  {
   "cell_type": "code",
   "execution_count": 54,
   "metadata": {},
   "outputs": [
    {
     "data": {
      "text/html": [
       "<div>\n",
       "<style scoped>\n",
       "    .dataframe tbody tr th:only-of-type {\n",
       "        vertical-align: middle;\n",
       "    }\n",
       "\n",
       "    .dataframe tbody tr th {\n",
       "        vertical-align: top;\n",
       "    }\n",
       "\n",
       "    .dataframe thead th {\n",
       "        text-align: right;\n",
       "    }\n",
       "</style>\n",
       "<table border=\"1\" class=\"dataframe\">\n",
       "  <thead>\n",
       "    <tr style=\"text-align: right;\">\n",
       "      <th></th>\n",
       "      <th>Name</th>\n",
       "      <th>Rating</th>\n",
       "      <th>No of people Rated</th>\n",
       "      <th>Category</th>\n",
       "      <th>Date</th>\n",
       "      <th>Price</th>\n",
       "      <th>DayOfWeek</th>\n",
       "    </tr>\n",
       "  </thead>\n",
       "  <tbody>\n",
       "    <tr>\n",
       "      <th>404</th>\n",
       "      <td>Bibliotecas BA</td>\n",
       "      <td>2.5</td>\n",
       "      <td>437</td>\n",
       "      <td>Books</td>\n",
       "      <td>2018-12-11</td>\n",
       "      <td>NaN</td>\n",
       "      <td>Tuesday</td>\n",
       "    </tr>\n",
       "    <tr>\n",
       "      <th>412</th>\n",
       "      <td>My Board Game Collection</td>\n",
       "      <td>3.0</td>\n",
       "      <td>826</td>\n",
       "      <td>Books</td>\n",
       "      <td>2018-12-24</td>\n",
       "      <td>NaN</td>\n",
       "      <td>Monday</td>\n",
       "    </tr>\n",
       "    <tr>\n",
       "      <th>598</th>\n",
       "      <td>LaParola</td>\n",
       "      <td>4.5</td>\n",
       "      <td>259</td>\n",
       "      <td>Books</td>\n",
       "      <td>2018-12-31</td>\n",
       "      <td>NaN</td>\n",
       "      <td>Monday</td>\n",
       "    </tr>\n",
       "    <tr>\n",
       "      <th>683</th>\n",
       "      <td>Free Unlimited Proxy - Proxy Master for Telegram</td>\n",
       "      <td>3.5</td>\n",
       "      <td>151</td>\n",
       "      <td>Business</td>\n",
       "      <td>2018-12-18</td>\n",
       "      <td>NaN</td>\n",
       "      <td>Tuesday</td>\n",
       "    </tr>\n",
       "    <tr>\n",
       "      <th>1145</th>\n",
       "      <td>Orders Manager</td>\n",
       "      <td>5.0</td>\n",
       "      <td>585</td>\n",
       "      <td>Business</td>\n",
       "      <td>2018-12-19</td>\n",
       "      <td>NaN</td>\n",
       "      <td>Wednesday</td>\n",
       "    </tr>\n",
       "    <tr>\n",
       "      <th>1180</th>\n",
       "      <td>Osprey Approach Case Management App</td>\n",
       "      <td>5.0</td>\n",
       "      <td>768</td>\n",
       "      <td>Business</td>\n",
       "      <td>2018-12-07</td>\n",
       "      <td>NaN</td>\n",
       "      <td>Friday</td>\n",
       "    </tr>\n",
       "    <tr>\n",
       "      <th>1278</th>\n",
       "      <td>Python 3.8</td>\n",
       "      <td>3.5</td>\n",
       "      <td>697</td>\n",
       "      <td>DevTools</td>\n",
       "      <td>2018-12-18</td>\n",
       "      <td>NaN</td>\n",
       "      <td>Tuesday</td>\n",
       "    </tr>\n",
       "    <tr>\n",
       "      <th>1283</th>\n",
       "      <td>Python 3.7</td>\n",
       "      <td>3.5</td>\n",
       "      <td>804</td>\n",
       "      <td>DevTools</td>\n",
       "      <td>2018-12-12</td>\n",
       "      <td>NaN</td>\n",
       "      <td>Wednesday</td>\n",
       "    </tr>\n",
       "    <tr>\n",
       "      <th>1340</th>\n",
       "      <td>Cookie-Editor</td>\n",
       "      <td>2.0</td>\n",
       "      <td>854</td>\n",
       "      <td>DevTools</td>\n",
       "      <td>2018-12-26</td>\n",
       "      <td>NaN</td>\n",
       "      <td>Wednesday</td>\n",
       "    </tr>\n",
       "    <tr>\n",
       "      <th>1371</th>\n",
       "      <td>Lottie Viewer</td>\n",
       "      <td>4.5</td>\n",
       "      <td>693</td>\n",
       "      <td>DevTools</td>\n",
       "      <td>2018-12-13</td>\n",
       "      <td>NaN</td>\n",
       "      <td>Thursday</td>\n",
       "    </tr>\n",
       "    <tr>\n",
       "      <th>1414</th>\n",
       "      <td>Windows Mixed Reality OpenXR Developer Tools</td>\n",
       "      <td>4.0</td>\n",
       "      <td>509</td>\n",
       "      <td>DevTools</td>\n",
       "      <td>2018-12-05</td>\n",
       "      <td>NaN</td>\n",
       "      <td>Wednesday</td>\n",
       "    </tr>\n",
       "    <tr>\n",
       "      <th>1440</th>\n",
       "      <td>RPG Maker MV Cook Tool</td>\n",
       "      <td>1.0</td>\n",
       "      <td>586</td>\n",
       "      <td>DevTools</td>\n",
       "      <td>2018-12-05</td>\n",
       "      <td>NaN</td>\n",
       "      <td>Wednesday</td>\n",
       "    </tr>\n",
       "    <tr>\n",
       "      <th>1463</th>\n",
       "      <td>.NET Developer</td>\n",
       "      <td>5.0</td>\n",
       "      <td>291</td>\n",
       "      <td>DevTools</td>\n",
       "      <td>2018-12-04</td>\n",
       "      <td>NaN</td>\n",
       "      <td>Tuesday</td>\n",
       "    </tr>\n",
       "    <tr>\n",
       "      <th>1482</th>\n",
       "      <td>Converting Colors - Color Blender</td>\n",
       "      <td>4.0</td>\n",
       "      <td>747</td>\n",
       "      <td>DevTools</td>\n",
       "      <td>2018-12-10</td>\n",
       "      <td>NaN</td>\n",
       "      <td>Monday</td>\n",
       "    </tr>\n",
       "    <tr>\n",
       "      <th>1616</th>\n",
       "      <td>Ghostly</td>\n",
       "      <td>4.5</td>\n",
       "      <td>200</td>\n",
       "      <td>DevTools</td>\n",
       "      <td>2018-12-02</td>\n",
       "      <td>NaN</td>\n",
       "      <td>Sunday</td>\n",
       "    </tr>\n",
       "    <tr>\n",
       "      <th>1686</th>\n",
       "      <td>Web Server Health Monitor</td>\n",
       "      <td>4.0</td>\n",
       "      <td>157</td>\n",
       "      <td>DevTools</td>\n",
       "      <td>2018-12-31</td>\n",
       "      <td>NaN</td>\n",
       "      <td>Monday</td>\n",
       "    </tr>\n",
       "    <tr>\n",
       "      <th>1747</th>\n",
       "      <td>DVD player - TrueDVD Streamer support VLC and ...</td>\n",
       "      <td>1.5</td>\n",
       "      <td>677</td>\n",
       "      <td>Social</td>\n",
       "      <td>2018-12-17</td>\n",
       "      <td>NaN</td>\n",
       "      <td>Monday</td>\n",
       "    </tr>\n",
       "    <tr>\n",
       "      <th>1779</th>\n",
       "      <td>AltspaceVR</td>\n",
       "      <td>4.5</td>\n",
       "      <td>562</td>\n",
       "      <td>Social</td>\n",
       "      <td>2018-12-12</td>\n",
       "      <td>NaN</td>\n",
       "      <td>Wednesday</td>\n",
       "    </tr>\n",
       "    <tr>\n",
       "      <th>2316</th>\n",
       "      <td>Break Reminder 10</td>\n",
       "      <td>3.0</td>\n",
       "      <td>512</td>\n",
       "      <td>Health and Fitness</td>\n",
       "      <td>2018-12-20</td>\n",
       "      <td>NaN</td>\n",
       "      <td>Thursday</td>\n",
       "    </tr>\n",
       "    <tr>\n",
       "      <th>3155</th>\n",
       "      <td>The Tale Of Benjamin Bunny, by Beatrix Potter ...</td>\n",
       "      <td>4.5</td>\n",
       "      <td>917</td>\n",
       "      <td>Kids and Family</td>\n",
       "      <td>2018-12-28</td>\n",
       "      <td>NaN</td>\n",
       "      <td>Friday</td>\n",
       "    </tr>\n",
       "    <tr>\n",
       "      <th>3183</th>\n",
       "      <td>Tally Diary</td>\n",
       "      <td>4.5</td>\n",
       "      <td>995</td>\n",
       "      <td>Lifestyle</td>\n",
       "      <td>2018-12-03</td>\n",
       "      <td>NaN</td>\n",
       "      <td>Monday</td>\n",
       "    </tr>\n",
       "    <tr>\n",
       "      <th>3210</th>\n",
       "      <td>Horoscope &amp; Astrology</td>\n",
       "      <td>5.0</td>\n",
       "      <td>110</td>\n",
       "      <td>Lifestyle</td>\n",
       "      <td>2018-12-02</td>\n",
       "      <td>NaN</td>\n",
       "      <td>Sunday</td>\n",
       "    </tr>\n",
       "    <tr>\n",
       "      <th>3232</th>\n",
       "      <td>Thermo ICE</td>\n",
       "      <td>4.5</td>\n",
       "      <td>894</td>\n",
       "      <td>Lifestyle</td>\n",
       "      <td>2018-12-19</td>\n",
       "      <td>NaN</td>\n",
       "      <td>Wednesday</td>\n",
       "    </tr>\n",
       "    <tr>\n",
       "      <th>3425</th>\n",
       "      <td>MOT History Check</td>\n",
       "      <td>4.0</td>\n",
       "      <td>503</td>\n",
       "      <td>Lifestyle</td>\n",
       "      <td>2018-12-12</td>\n",
       "      <td>NaN</td>\n",
       "      <td>Wednesday</td>\n",
       "    </tr>\n",
       "    <tr>\n",
       "      <th>3430</th>\n",
       "      <td>Open Vehicle Monitoring System</td>\n",
       "      <td>5.0</td>\n",
       "      <td>452</td>\n",
       "      <td>Lifestyle</td>\n",
       "      <td>2018-12-13</td>\n",
       "      <td>NaN</td>\n",
       "      <td>Thursday</td>\n",
       "    </tr>\n",
       "    <tr>\n",
       "      <th>3479</th>\n",
       "      <td>JXCirrus Prayer Lite</td>\n",
       "      <td>4.0</td>\n",
       "      <td>685</td>\n",
       "      <td>Lifestyle</td>\n",
       "      <td>2018-12-21</td>\n",
       "      <td>NaN</td>\n",
       "      <td>Friday</td>\n",
       "    </tr>\n",
       "    <tr>\n",
       "      <th>3540</th>\n",
       "      <td>Aries horoscope 2019 - supernatural birth chart</td>\n",
       "      <td>5.0</td>\n",
       "      <td>169</td>\n",
       "      <td>Lifestyle</td>\n",
       "      <td>2018-12-25</td>\n",
       "      <td>NaN</td>\n",
       "      <td>Tuesday</td>\n",
       "    </tr>\n",
       "    <tr>\n",
       "      <th>3542</th>\n",
       "      <td>Aquarius Horoscope 2019 supernatural star chart</td>\n",
       "      <td>4.5</td>\n",
       "      <td>284</td>\n",
       "      <td>Lifestyle</td>\n",
       "      <td>2018-12-26</td>\n",
       "      <td>NaN</td>\n",
       "      <td>Wednesday</td>\n",
       "    </tr>\n",
       "    <tr>\n",
       "      <th>3797</th>\n",
       "      <td>Free MP3 MUSIC Downloader SIMPLE Songily</td>\n",
       "      <td>4.5</td>\n",
       "      <td>480</td>\n",
       "      <td>Music</td>\n",
       "      <td>2018-12-11</td>\n",
       "      <td>NaN</td>\n",
       "      <td>Tuesday</td>\n",
       "    </tr>\n",
       "    <tr>\n",
       "      <th>3936</th>\n",
       "      <td>Whats New Course For Cubase 10</td>\n",
       "      <td>2.5</td>\n",
       "      <td>398</td>\n",
       "      <td>Music</td>\n",
       "      <td>2018-12-14</td>\n",
       "      <td>NaN</td>\n",
       "      <td>Friday</td>\n",
       "    </tr>\n",
       "    <tr>\n",
       "      <th>4130</th>\n",
       "      <td>MIDI Player for Microsoft Edge</td>\n",
       "      <td>5.0</td>\n",
       "      <td>631</td>\n",
       "      <td>Music</td>\n",
       "      <td>2018-12-21</td>\n",
       "      <td>NaN</td>\n",
       "      <td>Friday</td>\n",
       "    </tr>\n",
       "    <tr>\n",
       "      <th>4352</th>\n",
       "      <td>Constanta Tuner Express</td>\n",
       "      <td>4.0</td>\n",
       "      <td>166</td>\n",
       "      <td>Music</td>\n",
       "      <td>2018-12-31</td>\n",
       "      <td>NaN</td>\n",
       "      <td>Monday</td>\n",
       "    </tr>\n",
       "    <tr>\n",
       "      <th>4442</th>\n",
       "      <td>UCG Hymnal App</td>\n",
       "      <td>5.0</td>\n",
       "      <td>217</td>\n",
       "      <td>Music</td>\n",
       "      <td>2018-12-01</td>\n",
       "      <td>NaN</td>\n",
       "      <td>Saturday</td>\n",
       "    </tr>\n",
       "    <tr>\n",
       "      <th>4443</th>\n",
       "      <td>Midi Processor</td>\n",
       "      <td>5.0</td>\n",
       "      <td>425</td>\n",
       "      <td>Music</td>\n",
       "      <td>2018-12-10</td>\n",
       "      <td>NaN</td>\n",
       "      <td>Monday</td>\n",
       "    </tr>\n",
       "    <tr>\n",
       "      <th>4464</th>\n",
       "      <td>Unjammit!</td>\n",
       "      <td>2.0</td>\n",
       "      <td>282</td>\n",
       "      <td>Music</td>\n",
       "      <td>2018-12-03</td>\n",
       "      <td>NaN</td>\n",
       "      <td>Monday</td>\n",
       "    </tr>\n",
       "    <tr>\n",
       "      <th>4718</th>\n",
       "      <td>News Reader for CNN TV News</td>\n",
       "      <td>3.0</td>\n",
       "      <td>988</td>\n",
       "      <td>News and Weather</td>\n",
       "      <td>2018-12-05</td>\n",
       "      <td>NaN</td>\n",
       "      <td>Wednesday</td>\n",
       "    </tr>\n",
       "    <tr>\n",
       "      <th>4801</th>\n",
       "      <td>News Reader for USA TODAY</td>\n",
       "      <td>4.0</td>\n",
       "      <td>534</td>\n",
       "      <td>News and Weather</td>\n",
       "      <td>2018-12-10</td>\n",
       "      <td>NaN</td>\n",
       "      <td>Monday</td>\n",
       "    </tr>\n",
       "    <tr>\n",
       "      <th>4936</th>\n",
       "      <td>drudge report reader</td>\n",
       "      <td>5.0</td>\n",
       "      <td>697</td>\n",
       "      <td>News and Weather</td>\n",
       "      <td>2018-12-06</td>\n",
       "      <td>NaN</td>\n",
       "      <td>Thursday</td>\n",
       "    </tr>\n",
       "    <tr>\n",
       "      <th>5273</th>\n",
       "      <td>Fedora Remix for WSL</td>\n",
       "      <td>3.5</td>\n",
       "      <td>955</td>\n",
       "      <td>DevTools</td>\n",
       "      <td>2018-12-11</td>\n",
       "      <td>549.0</td>\n",
       "      <td>Tuesday</td>\n",
       "    </tr>\n",
       "  </tbody>\n",
       "</table>\n",
       "</div>"
      ],
      "text/plain": [
       "                                                   Name  Rating  \\\n",
       "404                                      Bibliotecas BA     2.5   \n",
       "412                            My Board Game Collection     3.0   \n",
       "598                                            LaParola     4.5   \n",
       "683    Free Unlimited Proxy - Proxy Master for Telegram     3.5   \n",
       "1145                                     Orders Manager     5.0   \n",
       "1180                Osprey Approach Case Management App     5.0   \n",
       "1278                                         Python 3.8     3.5   \n",
       "1283                                         Python 3.7     3.5   \n",
       "1340                                      Cookie-Editor     2.0   \n",
       "1371                                      Lottie Viewer     4.5   \n",
       "1414       Windows Mixed Reality OpenXR Developer Tools     4.0   \n",
       "1440                             RPG Maker MV Cook Tool     1.0   \n",
       "1463                                     .NET Developer     5.0   \n",
       "1482                  Converting Colors - Color Blender     4.0   \n",
       "1616                                            Ghostly     4.5   \n",
       "1686                          Web Server Health Monitor     4.0   \n",
       "1747  DVD player - TrueDVD Streamer support VLC and ...     1.5   \n",
       "1779                                         AltspaceVR     4.5   \n",
       "2316                                  Break Reminder 10     3.0   \n",
       "3155  The Tale Of Benjamin Bunny, by Beatrix Potter ...     4.5   \n",
       "3183                                        Tally Diary     4.5   \n",
       "3210                              Horoscope & Astrology     5.0   \n",
       "3232                                         Thermo ICE     4.5   \n",
       "3425                                  MOT History Check     4.0   \n",
       "3430                     Open Vehicle Monitoring System     5.0   \n",
       "3479                               JXCirrus Prayer Lite     4.0   \n",
       "3540    Aries horoscope 2019 - supernatural birth chart     5.0   \n",
       "3542    Aquarius Horoscope 2019 supernatural star chart     4.5   \n",
       "3797           Free MP3 MUSIC Downloader SIMPLE Songily     4.5   \n",
       "3936                     Whats New Course For Cubase 10     2.5   \n",
       "4130                     MIDI Player for Microsoft Edge     5.0   \n",
       "4352                            Constanta Tuner Express     4.0   \n",
       "4442                                     UCG Hymnal App     5.0   \n",
       "4443                                     Midi Processor     5.0   \n",
       "4464                                          Unjammit!     2.0   \n",
       "4718                        News Reader for CNN TV News     3.0   \n",
       "4801                          News Reader for USA TODAY     4.0   \n",
       "4936                               drudge report reader     5.0   \n",
       "5273                               Fedora Remix for WSL     3.5   \n",
       "\n",
       "      No of people Rated            Category       Date  Price  DayOfWeek  \n",
       "404                  437               Books 2018-12-11    NaN    Tuesday  \n",
       "412                  826               Books 2018-12-24    NaN     Monday  \n",
       "598                  259               Books 2018-12-31    NaN     Monday  \n",
       "683                  151            Business 2018-12-18    NaN    Tuesday  \n",
       "1145                 585            Business 2018-12-19    NaN  Wednesday  \n",
       "1180                 768            Business 2018-12-07    NaN     Friday  \n",
       "1278                 697            DevTools 2018-12-18    NaN    Tuesday  \n",
       "1283                 804            DevTools 2018-12-12    NaN  Wednesday  \n",
       "1340                 854            DevTools 2018-12-26    NaN  Wednesday  \n",
       "1371                 693            DevTools 2018-12-13    NaN   Thursday  \n",
       "1414                 509            DevTools 2018-12-05    NaN  Wednesday  \n",
       "1440                 586            DevTools 2018-12-05    NaN  Wednesday  \n",
       "1463                 291            DevTools 2018-12-04    NaN    Tuesday  \n",
       "1482                 747            DevTools 2018-12-10    NaN     Monday  \n",
       "1616                 200            DevTools 2018-12-02    NaN     Sunday  \n",
       "1686                 157            DevTools 2018-12-31    NaN     Monday  \n",
       "1747                 677              Social 2018-12-17    NaN     Monday  \n",
       "1779                 562              Social 2018-12-12    NaN  Wednesday  \n",
       "2316                 512  Health and Fitness 2018-12-20    NaN   Thursday  \n",
       "3155                 917     Kids and Family 2018-12-28    NaN     Friday  \n",
       "3183                 995           Lifestyle 2018-12-03    NaN     Monday  \n",
       "3210                 110           Lifestyle 2018-12-02    NaN     Sunday  \n",
       "3232                 894           Lifestyle 2018-12-19    NaN  Wednesday  \n",
       "3425                 503           Lifestyle 2018-12-12    NaN  Wednesday  \n",
       "3430                 452           Lifestyle 2018-12-13    NaN   Thursday  \n",
       "3479                 685           Lifestyle 2018-12-21    NaN     Friday  \n",
       "3540                 169           Lifestyle 2018-12-25    NaN    Tuesday  \n",
       "3542                 284           Lifestyle 2018-12-26    NaN  Wednesday  \n",
       "3797                 480               Music 2018-12-11    NaN    Tuesday  \n",
       "3936                 398               Music 2018-12-14    NaN     Friday  \n",
       "4130                 631               Music 2018-12-21    NaN     Friday  \n",
       "4352                 166               Music 2018-12-31    NaN     Monday  \n",
       "4442                 217               Music 2018-12-01    NaN   Saturday  \n",
       "4443                 425               Music 2018-12-10    NaN     Monday  \n",
       "4464                 282               Music 2018-12-03    NaN     Monday  \n",
       "4718                 988    News and Weather 2018-12-05    NaN  Wednesday  \n",
       "4801                 534    News and Weather 2018-12-10    NaN     Monday  \n",
       "4936                 697    News and Weather 2018-12-06    NaN   Thursday  \n",
       "5273                 955            DevTools 2018-12-11  549.0    Tuesday  "
      ]
     },
     "execution_count": 54,
     "metadata": {},
     "output_type": "execute_result"
    }
   ],
   "source": [
    "# Filter Microsoft Store records by date\n",
    "# Show only records in December of 2018\n",
    "date_filter = (df_ms['Date'] >= pd.to_datetime('2018-12-01')) & (df_ms['Date'] <= pd.to_datetime('2018-12-31'))\n",
    "df_dec_2018 = df_ms.loc[date_filter]\n",
    "df_dec_2018"
   ]
  },
  {
   "cell_type": "code",
   "execution_count": 55,
   "metadata": {},
   "outputs": [
    {
     "name": "stdout",
     "output_type": "stream",
     "text": [
      "Average item rating in Dec 2018:  3.923076923076923\n"
     ]
    }
   ],
   "source": [
    "# Get average item rating for December\n",
    "print(\"Average item rating in Dec 2018: \", df_dec_2018['Rating'].mean())"
   ]
  },
  {
   "cell_type": "code",
   "execution_count": 56,
   "metadata": {},
   "outputs": [
    {
     "data": {
      "text/html": [
       "<div>\n",
       "<style scoped>\n",
       "    .dataframe tbody tr th:only-of-type {\n",
       "        vertical-align: middle;\n",
       "    }\n",
       "\n",
       "    .dataframe tbody tr th {\n",
       "        vertical-align: top;\n",
       "    }\n",
       "\n",
       "    .dataframe thead th {\n",
       "        text-align: right;\n",
       "    }\n",
       "</style>\n",
       "<table border=\"1\" class=\"dataframe\">\n",
       "  <thead>\n",
       "    <tr style=\"text-align: right;\">\n",
       "      <th></th>\n",
       "      <th>Name</th>\n",
       "      <th>Rating</th>\n",
       "      <th>No of people Rated</th>\n",
       "      <th>Category</th>\n",
       "      <th>Date</th>\n",
       "      <th>Price</th>\n",
       "      <th>DayOfWeek</th>\n",
       "      <th>Quarter</th>\n",
       "      <th>WeekOfYear</th>\n",
       "    </tr>\n",
       "  </thead>\n",
       "  <tbody>\n",
       "    <tr>\n",
       "      <th>0</th>\n",
       "      <td>Dynamic Reader</td>\n",
       "      <td>3.5</td>\n",
       "      <td>268</td>\n",
       "      <td>Books</td>\n",
       "      <td>2014-01-07</td>\n",
       "      <td>NaN</td>\n",
       "      <td>Tuesday</td>\n",
       "      <td>2014Q1</td>\n",
       "      <td>2014-01-06/2014-01-12</td>\n",
       "    </tr>\n",
       "    <tr>\n",
       "      <th>1</th>\n",
       "      <td>Chemistry, Organic Chemistry and Biochemistry-...</td>\n",
       "      <td>3.0</td>\n",
       "      <td>627</td>\n",
       "      <td>Books</td>\n",
       "      <td>2014-01-08</td>\n",
       "      <td>NaN</td>\n",
       "      <td>Wednesday</td>\n",
       "      <td>2014Q1</td>\n",
       "      <td>2014-01-06/2014-01-12</td>\n",
       "    </tr>\n",
       "    <tr>\n",
       "      <th>2</th>\n",
       "      <td>BookViewer</td>\n",
       "      <td>3.5</td>\n",
       "      <td>593</td>\n",
       "      <td>Books</td>\n",
       "      <td>2016-02-29</td>\n",
       "      <td>NaN</td>\n",
       "      <td>Monday</td>\n",
       "      <td>2016Q1</td>\n",
       "      <td>2016-02-29/2016-03-06</td>\n",
       "    </tr>\n",
       "    <tr>\n",
       "      <th>3</th>\n",
       "      <td>Brick Instructions</td>\n",
       "      <td>3.5</td>\n",
       "      <td>684</td>\n",
       "      <td>Books</td>\n",
       "      <td>2018-01-30</td>\n",
       "      <td>NaN</td>\n",
       "      <td>Tuesday</td>\n",
       "      <td>2018Q1</td>\n",
       "      <td>2018-01-29/2018-02-04</td>\n",
       "    </tr>\n",
       "    <tr>\n",
       "      <th>4</th>\n",
       "      <td>Introduction to Python Programming by GoLearni...</td>\n",
       "      <td>2.0</td>\n",
       "      <td>634</td>\n",
       "      <td>Books</td>\n",
       "      <td>2018-01-30</td>\n",
       "      <td>NaN</td>\n",
       "      <td>Tuesday</td>\n",
       "      <td>2018Q1</td>\n",
       "      <td>2018-01-29/2018-02-04</td>\n",
       "    </tr>\n",
       "    <tr>\n",
       "      <th>...</th>\n",
       "      <td>...</td>\n",
       "      <td>...</td>\n",
       "      <td>...</td>\n",
       "      <td>...</td>\n",
       "      <td>...</td>\n",
       "      <td>...</td>\n",
       "      <td>...</td>\n",
       "      <td>...</td>\n",
       "      <td>...</td>\n",
       "    </tr>\n",
       "    <tr>\n",
       "      <th>5316</th>\n",
       "      <td>Get Color</td>\n",
       "      <td>3.0</td>\n",
       "      <td>785</td>\n",
       "      <td>DevTools</td>\n",
       "      <td>2019-08-08</td>\n",
       "      <td>54.5</td>\n",
       "      <td>Thursday</td>\n",
       "      <td>2019Q3</td>\n",
       "      <td>2019-08-05/2019-08-11</td>\n",
       "    </tr>\n",
       "    <tr>\n",
       "      <th>5317</th>\n",
       "      <td>JS King</td>\n",
       "      <td>1.0</td>\n",
       "      <td>720</td>\n",
       "      <td>DevTools</td>\n",
       "      <td>2018-07-19</td>\n",
       "      <td>269.0</td>\n",
       "      <td>Thursday</td>\n",
       "      <td>2018Q3</td>\n",
       "      <td>2018-07-16/2018-07-22</td>\n",
       "    </tr>\n",
       "    <tr>\n",
       "      <th>5318</th>\n",
       "      <td>MQTTSniffer</td>\n",
       "      <td>2.5</td>\n",
       "      <td>500</td>\n",
       "      <td>DevTools</td>\n",
       "      <td>2017-04-10</td>\n",
       "      <td>64.0</td>\n",
       "      <td>Monday</td>\n",
       "      <td>2017Q2</td>\n",
       "      <td>2017-04-10/2017-04-16</td>\n",
       "    </tr>\n",
       "    <tr>\n",
       "      <th>5319</th>\n",
       "      <td>Dev Utils - JSON, CSV and XML</td>\n",
       "      <td>4.0</td>\n",
       "      <td>862</td>\n",
       "      <td>DevTools</td>\n",
       "      <td>2019-11-18</td>\n",
       "      <td>269.0</td>\n",
       "      <td>Monday</td>\n",
       "      <td>2019Q4</td>\n",
       "      <td>2019-11-18/2019-11-24</td>\n",
       "    </tr>\n",
       "    <tr>\n",
       "      <th>5320</th>\n",
       "      <td>Simply Text</td>\n",
       "      <td>4.0</td>\n",
       "      <td>386</td>\n",
       "      <td>DevTools</td>\n",
       "      <td>2014-01-23</td>\n",
       "      <td>219.0</td>\n",
       "      <td>Thursday</td>\n",
       "      <td>2014Q1</td>\n",
       "      <td>2014-01-20/2014-01-26</td>\n",
       "    </tr>\n",
       "  </tbody>\n",
       "</table>\n",
       "<p>5321 rows × 9 columns</p>\n",
       "</div>"
      ],
      "text/plain": [
       "                                                   Name  Rating  \\\n",
       "0                                        Dynamic Reader     3.5   \n",
       "1     Chemistry, Organic Chemistry and Biochemistry-...     3.0   \n",
       "2                                            BookViewer     3.5   \n",
       "3                                    Brick Instructions     3.5   \n",
       "4     Introduction to Python Programming by GoLearni...     2.0   \n",
       "...                                                 ...     ...   \n",
       "5316                                          Get Color     3.0   \n",
       "5317                                            JS King     1.0   \n",
       "5318                                        MQTTSniffer     2.5   \n",
       "5319                      Dev Utils - JSON, CSV and XML     4.0   \n",
       "5320                                        Simply Text     4.0   \n",
       "\n",
       "      No of people Rated  Category       Date  Price  DayOfWeek Quarter  \\\n",
       "0                    268     Books 2014-01-07    NaN    Tuesday  2014Q1   \n",
       "1                    627     Books 2014-01-08    NaN  Wednesday  2014Q1   \n",
       "2                    593     Books 2016-02-29    NaN     Monday  2016Q1   \n",
       "3                    684     Books 2018-01-30    NaN    Tuesday  2018Q1   \n",
       "4                    634     Books 2018-01-30    NaN    Tuesday  2018Q1   \n",
       "...                  ...       ...        ...    ...        ...     ...   \n",
       "5316                 785  DevTools 2019-08-08   54.5   Thursday  2019Q3   \n",
       "5317                 720  DevTools 2018-07-19  269.0   Thursday  2018Q3   \n",
       "5318                 500  DevTools 2017-04-10   64.0     Monday  2017Q2   \n",
       "5319                 862  DevTools 2019-11-18  269.0     Monday  2019Q4   \n",
       "5320                 386  DevTools 2014-01-23  219.0   Thursday  2014Q1   \n",
       "\n",
       "                 WeekOfYear  \n",
       "0     2014-01-06/2014-01-12  \n",
       "1     2014-01-06/2014-01-12  \n",
       "2     2016-02-29/2016-03-06  \n",
       "3     2018-01-29/2018-02-04  \n",
       "4     2018-01-29/2018-02-04  \n",
       "...                     ...  \n",
       "5316  2019-08-05/2019-08-11  \n",
       "5317  2018-07-16/2018-07-22  \n",
       "5318  2017-04-10/2017-04-16  \n",
       "5319  2019-11-18/2019-11-24  \n",
       "5320  2014-01-20/2014-01-26  \n",
       "\n",
       "[5321 rows x 9 columns]"
      ]
     },
     "execution_count": 56,
     "metadata": {},
     "output_type": "execute_result"
    }
   ],
   "source": [
    "# Add a Quarter column and a week column using dt.to_period\n",
    "df_ms['Quarter'] = df_ms['Date'].dt.to_period('Q')\n",
    "df_ms['WeekOfYear'] = df_ms['Date'].dt.to_period('W')\n",
    "df_ms\n",
    "\n",
    "# See https://pandas.pydata.org/pandas-docs/stable/user_guide/timeseries.html#dateoffset-objects for more objects"
   ]
  },
  {
   "cell_type": "markdown",
   "metadata": {},
   "source": [
    "# Filtering Data"
   ]
  },
  {
   "cell_type": "code",
   "execution_count": 59,
   "metadata": {},
   "outputs": [
    {
     "data": {
      "text/plain": [
       "Index(['Name', 'Rating', 'No of people Rated', 'Category', 'Date', 'Price',\n",
       "       'DayOfWeek', 'Quarter', 'WeekOfYear'],\n",
       "      dtype='object')"
      ]
     },
     "execution_count": 59,
     "metadata": {},
     "output_type": "execute_result"
    }
   ],
   "source": [
    "# Review the columsn contained the the Microsoft Store Dataset\n",
    "df_ms.columns"
   ]
  },
  {
   "cell_type": "code",
   "execution_count": 60,
   "metadata": {},
   "outputs": [
    {
     "data": {
      "text/plain": [
       "Name                          object\n",
       "Rating                       float64\n",
       "No of people Rated             int64\n",
       "Category                      object\n",
       "Date                  datetime64[ns]\n",
       "Price                        float32\n",
       "DayOfWeek                     object\n",
       "Quarter                period[Q-DEC]\n",
       "WeekOfYear             period[W-SUN]\n",
       "dtype: object"
      ]
     },
     "execution_count": 60,
     "metadata": {},
     "output_type": "execute_result"
    }
   ],
   "source": [
    "df_ms.dtypes"
   ]
  },
  {
   "cell_type": "code",
   "execution_count": 61,
   "metadata": {},
   "outputs": [
    {
     "data": {
      "text/html": [
       "<div>\n",
       "<style scoped>\n",
       "    .dataframe tbody tr th:only-of-type {\n",
       "        vertical-align: middle;\n",
       "    }\n",
       "\n",
       "    .dataframe tbody tr th {\n",
       "        vertical-align: top;\n",
       "    }\n",
       "\n",
       "    .dataframe thead th {\n",
       "        text-align: right;\n",
       "    }\n",
       "</style>\n",
       "<table border=\"1\" class=\"dataframe\">\n",
       "  <thead>\n",
       "    <tr style=\"text-align: right;\">\n",
       "      <th></th>\n",
       "      <th>Name</th>\n",
       "      <th>No of people Rated</th>\n",
       "      <th>Category</th>\n",
       "    </tr>\n",
       "  </thead>\n",
       "  <tbody>\n",
       "    <tr>\n",
       "      <th>560</th>\n",
       "      <td>CDBS Facility Query</td>\n",
       "      <td>1000</td>\n",
       "      <td>Books</td>\n",
       "    </tr>\n",
       "    <tr>\n",
       "      <th>1929</th>\n",
       "      <td>Psychic Reader Paranormal</td>\n",
       "      <td>1000</td>\n",
       "      <td>Social</td>\n",
       "    </tr>\n",
       "    <tr>\n",
       "      <th>3260</th>\n",
       "      <td>Daily Panchang</td>\n",
       "      <td>1000</td>\n",
       "      <td>Lifestyle</td>\n",
       "    </tr>\n",
       "    <tr>\n",
       "      <th>3940</th>\n",
       "      <td>Guitar Lessons Beginners #1</td>\n",
       "      <td>1000</td>\n",
       "      <td>Music</td>\n",
       "    </tr>\n",
       "  </tbody>\n",
       "</table>\n",
       "</div>"
      ],
      "text/plain": [
       "                             Name  No of people Rated   Category\n",
       "560           CDBS Facility Query                1000      Books\n",
       "1929    Psychic Reader Paranormal                1000     Social\n",
       "3260               Daily Panchang                1000  Lifestyle\n",
       "3940  Guitar Lessons Beginners #1                1000      Music"
      ]
     },
     "execution_count": 61,
     "metadata": {},
     "output_type": "execute_result"
    }
   ],
   "source": [
    "high_num_ratings = (df_ms['No of people Rated'] > 999)\n",
    "\n",
    "# To include multiple columns in the result, use a list.\n",
    "df_ms.loc[high_num_ratings,['Name', 'No of people Rated','Category']]"
   ]
  },
  {
   "cell_type": "code",
   "execution_count": 62,
   "metadata": {},
   "outputs": [
    {
     "data": {
      "text/html": [
       "<div>\n",
       "<style scoped>\n",
       "    .dataframe tbody tr th:only-of-type {\n",
       "        vertical-align: middle;\n",
       "    }\n",
       "\n",
       "    .dataframe tbody tr th {\n",
       "        vertical-align: top;\n",
       "    }\n",
       "\n",
       "    .dataframe thead th {\n",
       "        text-align: right;\n",
       "    }\n",
       "</style>\n",
       "<table border=\"1\" class=\"dataframe\">\n",
       "  <thead>\n",
       "    <tr style=\"text-align: right;\">\n",
       "      <th></th>\n",
       "      <th>Name</th>\n",
       "      <th>No of people Rated</th>\n",
       "      <th>Category</th>\n",
       "      <th>Price</th>\n",
       "    </tr>\n",
       "  </thead>\n",
       "  <tbody>\n",
       "    <tr>\n",
       "      <th>688</th>\n",
       "      <td>Mediabyte Whiteboard</td>\n",
       "      <td>999</td>\n",
       "      <td>Business</td>\n",
       "      <td>NaN</td>\n",
       "    </tr>\n",
       "    <tr>\n",
       "      <th>1511</th>\n",
       "      <td>Nextsense XML Signing Component</td>\n",
       "      <td>999</td>\n",
       "      <td>DevTools</td>\n",
       "      <td>NaN</td>\n",
       "    </tr>\n",
       "    <tr>\n",
       "      <th>1785</th>\n",
       "      <td>ChatAdda</td>\n",
       "      <td>998</td>\n",
       "      <td>Social</td>\n",
       "      <td>NaN</td>\n",
       "    </tr>\n",
       "    <tr>\n",
       "      <th>1798</th>\n",
       "      <td>TVMovieNow</td>\n",
       "      <td>999</td>\n",
       "      <td>Social</td>\n",
       "      <td>NaN</td>\n",
       "    </tr>\n",
       "    <tr>\n",
       "      <th>1883</th>\n",
       "      <td>ILN</td>\n",
       "      <td>999</td>\n",
       "      <td>Social</td>\n",
       "      <td>NaN</td>\n",
       "    </tr>\n",
       "    <tr>\n",
       "      <th>1929</th>\n",
       "      <td>Psychic Reader Paranormal</td>\n",
       "      <td>1000</td>\n",
       "      <td>Social</td>\n",
       "      <td>NaN</td>\n",
       "    </tr>\n",
       "    <tr>\n",
       "      <th>2470</th>\n",
       "      <td>Stravalyzer</td>\n",
       "      <td>998</td>\n",
       "      <td>Health and Fitness</td>\n",
       "      <td>NaN</td>\n",
       "    </tr>\n",
       "    <tr>\n",
       "      <th>3260</th>\n",
       "      <td>Daily Panchang</td>\n",
       "      <td>1000</td>\n",
       "      <td>Lifestyle</td>\n",
       "      <td>NaN</td>\n",
       "    </tr>\n",
       "    <tr>\n",
       "      <th>3380</th>\n",
       "      <td>Celtic Cross Tarot</td>\n",
       "      <td>998</td>\n",
       "      <td>Lifestyle</td>\n",
       "      <td>NaN</td>\n",
       "    </tr>\n",
       "    <tr>\n",
       "      <th>3406</th>\n",
       "      <td>Contemplatio - Rosary with images</td>\n",
       "      <td>998</td>\n",
       "      <td>Lifestyle</td>\n",
       "      <td>NaN</td>\n",
       "    </tr>\n",
       "    <tr>\n",
       "      <th>3499</th>\n",
       "      <td>Pisces daily horoscope Astrology psychic reading</td>\n",
       "      <td>998</td>\n",
       "      <td>Lifestyle</td>\n",
       "      <td>NaN</td>\n",
       "    </tr>\n",
       "    <tr>\n",
       "      <th>3940</th>\n",
       "      <td>Guitar Lessons Beginners #1</td>\n",
       "      <td>1000</td>\n",
       "      <td>Music</td>\n",
       "      <td>NaN</td>\n",
       "    </tr>\n",
       "    <tr>\n",
       "      <th>4010</th>\n",
       "      <td>MIDI Player Pro</td>\n",
       "      <td>998</td>\n",
       "      <td>Music</td>\n",
       "      <td>NaN</td>\n",
       "    </tr>\n",
       "    <tr>\n",
       "      <th>4143</th>\n",
       "      <td>Colossus Music Player</td>\n",
       "      <td>998</td>\n",
       "      <td>Music</td>\n",
       "      <td>NaN</td>\n",
       "    </tr>\n",
       "    <tr>\n",
       "      <th>4306</th>\n",
       "      <td>Vinyl Player</td>\n",
       "      <td>999</td>\n",
       "      <td>Music</td>\n",
       "      <td>NaN</td>\n",
       "    </tr>\n",
       "    <tr>\n",
       "      <th>5153</th>\n",
       "      <td>AN Numérique</td>\n",
       "      <td>998</td>\n",
       "      <td>News and Weather</td>\n",
       "      <td>NaN</td>\n",
       "    </tr>\n",
       "  </tbody>\n",
       "</table>\n",
       "</div>"
      ],
      "text/plain": [
       "                                                  Name  No of people Rated  \\\n",
       "688                               Mediabyte Whiteboard                 999   \n",
       "1511                   Nextsense XML Signing Component                 999   \n",
       "1785                                          ChatAdda                 998   \n",
       "1798                                        TVMovieNow                 999   \n",
       "1883                                               ILN                 999   \n",
       "1929                         Psychic Reader Paranormal                1000   \n",
       "2470                                       Stravalyzer                 998   \n",
       "3260                                    Daily Panchang                1000   \n",
       "3380                                Celtic Cross Tarot                 998   \n",
       "3406                 Contemplatio - Rosary with images                 998   \n",
       "3499  Pisces daily horoscope Astrology psychic reading                 998   \n",
       "3940                       Guitar Lessons Beginners #1                1000   \n",
       "4010                                   MIDI Player Pro                 998   \n",
       "4143                             Colossus Music Player                 998   \n",
       "4306                                      Vinyl Player                 999   \n",
       "5153                                      AN Numérique                 998   \n",
       "\n",
       "                Category  Price  \n",
       "688             Business    NaN  \n",
       "1511            DevTools    NaN  \n",
       "1785              Social    NaN  \n",
       "1798              Social    NaN  \n",
       "1883              Social    NaN  \n",
       "1929              Social    NaN  \n",
       "2470  Health and Fitness    NaN  \n",
       "3260           Lifestyle    NaN  \n",
       "3380           Lifestyle    NaN  \n",
       "3406           Lifestyle    NaN  \n",
       "3499           Lifestyle    NaN  \n",
       "3940               Music    NaN  \n",
       "4010               Music    NaN  \n",
       "4143               Music    NaN  \n",
       "4306               Music    NaN  \n",
       "5153    News and Weather    NaN  "
      ]
     },
     "execution_count": 62,
     "metadata": {},
     "output_type": "execute_result"
    }
   ],
   "source": [
    "# Exclude the 'Books' category using the tilde character\n",
    "high_num_ratings = (df_ms['No of people Rated'] > 997) & ~(df_ms['Category'] =='Books')\n",
    "\n",
    "# To include multiple columns in the result, use a list.\n",
    "df_ms.loc[high_num_ratings,['Name', 'No of people Rated','Category','Price']]"
   ]
  },
  {
   "cell_type": "code",
   "execution_count": null,
   "metadata": {},
   "outputs": [],
   "source": [
    "# Only include certain categories. Use isin() instead of multiple OR statements\n",
    "include_categories = ['Books', 'Lifestyle', 'Social', 'Music']\n",
    "high_num_ratings = (df_ms['No of people Rated'] > 997) & (df_ms['Category'].isin(include_categories))\n",
    "                                                          \n",
    "# To include multiple columns in the result, use a list.\n",
    "df_ms.loc[high_num_ratings,['Name', 'No of people Rated','Category']]"
   ]
  },
  {
   "cell_type": "code",
   "execution_count": 63,
   "metadata": {},
   "outputs": [
    {
     "data": {
      "text/html": [
       "<div>\n",
       "<style scoped>\n",
       "    .dataframe tbody tr th:only-of-type {\n",
       "        vertical-align: middle;\n",
       "    }\n",
       "\n",
       "    .dataframe tbody tr th {\n",
       "        vertical-align: top;\n",
       "    }\n",
       "\n",
       "    .dataframe thead th {\n",
       "        text-align: right;\n",
       "    }\n",
       "</style>\n",
       "<table border=\"1\" class=\"dataframe\">\n",
       "  <thead>\n",
       "    <tr style=\"text-align: right;\">\n",
       "      <th></th>\n",
       "      <th>Name</th>\n",
       "      <th>Rating</th>\n",
       "      <th>No of people Rated</th>\n",
       "      <th>Category</th>\n",
       "      <th>Date</th>\n",
       "      <th>Price</th>\n",
       "      <th>DayOfWeek</th>\n",
       "      <th>Quarter</th>\n",
       "      <th>WeekOfYear</th>\n",
       "    </tr>\n",
       "  </thead>\n",
       "  <tbody>\n",
       "    <tr>\n",
       "      <th>560</th>\n",
       "      <td>CDBS Facility Query</td>\n",
       "      <td>3.0</td>\n",
       "      <td>1000</td>\n",
       "      <td>Books</td>\n",
       "      <td>2016-12-06</td>\n",
       "      <td>NaN</td>\n",
       "      <td>Tuesday</td>\n",
       "      <td>2016Q4</td>\n",
       "      <td>2016-12-05/2016-12-11</td>\n",
       "    </tr>\n",
       "    <tr>\n",
       "      <th>1929</th>\n",
       "      <td>Psychic Reader Paranormal</td>\n",
       "      <td>3.5</td>\n",
       "      <td>1000</td>\n",
       "      <td>Social</td>\n",
       "      <td>2014-10-02</td>\n",
       "      <td>NaN</td>\n",
       "      <td>Thursday</td>\n",
       "      <td>2014Q4</td>\n",
       "      <td>2014-09-29/2014-10-05</td>\n",
       "    </tr>\n",
       "    <tr>\n",
       "      <th>3260</th>\n",
       "      <td>Daily Panchang</td>\n",
       "      <td>3.5</td>\n",
       "      <td>1000</td>\n",
       "      <td>Lifestyle</td>\n",
       "      <td>2016-01-20</td>\n",
       "      <td>NaN</td>\n",
       "      <td>Wednesday</td>\n",
       "      <td>2016Q1</td>\n",
       "      <td>2016-01-18/2016-01-24</td>\n",
       "    </tr>\n",
       "    <tr>\n",
       "      <th>3940</th>\n",
       "      <td>Guitar Lessons Beginners #1</td>\n",
       "      <td>3.5</td>\n",
       "      <td>1000</td>\n",
       "      <td>Music</td>\n",
       "      <td>2013-01-06</td>\n",
       "      <td>NaN</td>\n",
       "      <td>Sunday</td>\n",
       "      <td>2013Q1</td>\n",
       "      <td>2012-12-31/2013-01-06</td>\n",
       "    </tr>\n",
       "    <tr>\n",
       "      <th>688</th>\n",
       "      <td>Mediabyte Whiteboard</td>\n",
       "      <td>4.0</td>\n",
       "      <td>999</td>\n",
       "      <td>Business</td>\n",
       "      <td>2017-05-08</td>\n",
       "      <td>NaN</td>\n",
       "      <td>Monday</td>\n",
       "      <td>2017Q2</td>\n",
       "      <td>2017-05-08/2017-05-14</td>\n",
       "    </tr>\n",
       "    <tr>\n",
       "      <th>1511</th>\n",
       "      <td>Nextsense XML Signing Component</td>\n",
       "      <td>4.0</td>\n",
       "      <td>999</td>\n",
       "      <td>DevTools</td>\n",
       "      <td>2018-02-02</td>\n",
       "      <td>NaN</td>\n",
       "      <td>Friday</td>\n",
       "      <td>2018Q1</td>\n",
       "      <td>2018-01-29/2018-02-04</td>\n",
       "    </tr>\n",
       "    <tr>\n",
       "      <th>1798</th>\n",
       "      <td>TVMovieNow</td>\n",
       "      <td>3.0</td>\n",
       "      <td>999</td>\n",
       "      <td>Social</td>\n",
       "      <td>2013-05-24</td>\n",
       "      <td>NaN</td>\n",
       "      <td>Friday</td>\n",
       "      <td>2013Q2</td>\n",
       "      <td>2013-05-20/2013-05-26</td>\n",
       "    </tr>\n",
       "    <tr>\n",
       "      <th>1883</th>\n",
       "      <td>ILN</td>\n",
       "      <td>5.0</td>\n",
       "      <td>999</td>\n",
       "      <td>Social</td>\n",
       "      <td>2019-12-05</td>\n",
       "      <td>NaN</td>\n",
       "      <td>Thursday</td>\n",
       "      <td>2019Q4</td>\n",
       "      <td>2019-12-02/2019-12-08</td>\n",
       "    </tr>\n",
       "    <tr>\n",
       "      <th>4306</th>\n",
       "      <td>Vinyl Player</td>\n",
       "      <td>4.0</td>\n",
       "      <td>999</td>\n",
       "      <td>Music</td>\n",
       "      <td>2014-11-07</td>\n",
       "      <td>NaN</td>\n",
       "      <td>Friday</td>\n",
       "      <td>2014Q4</td>\n",
       "      <td>2014-11-03/2014-11-09</td>\n",
       "    </tr>\n",
       "    <tr>\n",
       "      <th>237</th>\n",
       "      <td>Comic Land</td>\n",
       "      <td>4.0</td>\n",
       "      <td>998</td>\n",
       "      <td>Books</td>\n",
       "      <td>2017-10-26</td>\n",
       "      <td>NaN</td>\n",
       "      <td>Thursday</td>\n",
       "      <td>2017Q4</td>\n",
       "      <td>2017-10-23/2017-10-29</td>\n",
       "    </tr>\n",
       "    <tr>\n",
       "      <th>319</th>\n",
       "      <td>TookBook</td>\n",
       "      <td>5.0</td>\n",
       "      <td>998</td>\n",
       "      <td>Books</td>\n",
       "      <td>2018-06-26</td>\n",
       "      <td>NaN</td>\n",
       "      <td>Tuesday</td>\n",
       "      <td>2018Q2</td>\n",
       "      <td>2018-06-25/2018-07-01</td>\n",
       "    </tr>\n",
       "    <tr>\n",
       "      <th>1785</th>\n",
       "      <td>ChatAdda</td>\n",
       "      <td>2.5</td>\n",
       "      <td>998</td>\n",
       "      <td>Social</td>\n",
       "      <td>2017-06-26</td>\n",
       "      <td>NaN</td>\n",
       "      <td>Monday</td>\n",
       "      <td>2017Q2</td>\n",
       "      <td>2017-06-26/2017-07-02</td>\n",
       "    </tr>\n",
       "    <tr>\n",
       "      <th>2470</th>\n",
       "      <td>Stravalyzer</td>\n",
       "      <td>2.0</td>\n",
       "      <td>998</td>\n",
       "      <td>Health and Fitness</td>\n",
       "      <td>2017-03-21</td>\n",
       "      <td>NaN</td>\n",
       "      <td>Tuesday</td>\n",
       "      <td>2017Q1</td>\n",
       "      <td>2017-03-20/2017-03-26</td>\n",
       "    </tr>\n",
       "    <tr>\n",
       "      <th>3380</th>\n",
       "      <td>Celtic Cross Tarot</td>\n",
       "      <td>4.0</td>\n",
       "      <td>998</td>\n",
       "      <td>Lifestyle</td>\n",
       "      <td>2013-07-03</td>\n",
       "      <td>NaN</td>\n",
       "      <td>Wednesday</td>\n",
       "      <td>2013Q3</td>\n",
       "      <td>2013-07-01/2013-07-07</td>\n",
       "    </tr>\n",
       "    <tr>\n",
       "      <th>3406</th>\n",
       "      <td>Contemplatio - Rosary with images</td>\n",
       "      <td>5.0</td>\n",
       "      <td>998</td>\n",
       "      <td>Lifestyle</td>\n",
       "      <td>2018-08-13</td>\n",
       "      <td>NaN</td>\n",
       "      <td>Monday</td>\n",
       "      <td>2018Q3</td>\n",
       "      <td>2018-08-13/2018-08-19</td>\n",
       "    </tr>\n",
       "    <tr>\n",
       "      <th>3499</th>\n",
       "      <td>Pisces daily horoscope Astrology psychic reading</td>\n",
       "      <td>4.5</td>\n",
       "      <td>998</td>\n",
       "      <td>Lifestyle</td>\n",
       "      <td>2018-02-28</td>\n",
       "      <td>NaN</td>\n",
       "      <td>Wednesday</td>\n",
       "      <td>2018Q1</td>\n",
       "      <td>2018-02-26/2018-03-04</td>\n",
       "    </tr>\n",
       "    <tr>\n",
       "      <th>4010</th>\n",
       "      <td>MIDI Player Pro</td>\n",
       "      <td>2.0</td>\n",
       "      <td>998</td>\n",
       "      <td>Music</td>\n",
       "      <td>2016-01-24</td>\n",
       "      <td>NaN</td>\n",
       "      <td>Sunday</td>\n",
       "      <td>2016Q1</td>\n",
       "      <td>2016-01-18/2016-01-24</td>\n",
       "    </tr>\n",
       "    <tr>\n",
       "      <th>4143</th>\n",
       "      <td>Colossus Music Player</td>\n",
       "      <td>3.5</td>\n",
       "      <td>998</td>\n",
       "      <td>Music</td>\n",
       "      <td>2015-08-21</td>\n",
       "      <td>NaN</td>\n",
       "      <td>Friday</td>\n",
       "      <td>2015Q3</td>\n",
       "      <td>2015-08-17/2015-08-23</td>\n",
       "    </tr>\n",
       "    <tr>\n",
       "      <th>5153</th>\n",
       "      <td>AN Numérique</td>\n",
       "      <td>3.5</td>\n",
       "      <td>998</td>\n",
       "      <td>News and Weather</td>\n",
       "      <td>2013-06-25</td>\n",
       "      <td>NaN</td>\n",
       "      <td>Tuesday</td>\n",
       "      <td>2013Q2</td>\n",
       "      <td>2013-06-24/2013-06-30</td>\n",
       "    </tr>\n",
       "    <tr>\n",
       "      <th>156</th>\n",
       "      <td>God's Sword</td>\n",
       "      <td>4.0</td>\n",
       "      <td>997</td>\n",
       "      <td>Books</td>\n",
       "      <td>2013-10-25</td>\n",
       "      <td>NaN</td>\n",
       "      <td>Friday</td>\n",
       "      <td>2013Q4</td>\n",
       "      <td>2013-10-21/2013-10-27</td>\n",
       "    </tr>\n",
       "  </tbody>\n",
       "</table>\n",
       "</div>"
      ],
      "text/plain": [
       "                                                  Name  Rating  \\\n",
       "560                                CDBS Facility Query     3.0   \n",
       "1929                         Psychic Reader Paranormal     3.5   \n",
       "3260                                    Daily Panchang     3.5   \n",
       "3940                       Guitar Lessons Beginners #1     3.5   \n",
       "688                               Mediabyte Whiteboard     4.0   \n",
       "1511                   Nextsense XML Signing Component     4.0   \n",
       "1798                                        TVMovieNow     3.0   \n",
       "1883                                               ILN     5.0   \n",
       "4306                                      Vinyl Player     4.0   \n",
       "237                                         Comic Land     4.0   \n",
       "319                                           TookBook     5.0   \n",
       "1785                                          ChatAdda     2.5   \n",
       "2470                                       Stravalyzer     2.0   \n",
       "3380                                Celtic Cross Tarot     4.0   \n",
       "3406                 Contemplatio - Rosary with images     5.0   \n",
       "3499  Pisces daily horoscope Astrology psychic reading     4.5   \n",
       "4010                                   MIDI Player Pro     2.0   \n",
       "4143                             Colossus Music Player     3.5   \n",
       "5153                                      AN Numérique     3.5   \n",
       "156                                        God's Sword     4.0   \n",
       "\n",
       "      No of people Rated            Category       Date  Price  DayOfWeek  \\\n",
       "560                 1000               Books 2016-12-06    NaN    Tuesday   \n",
       "1929                1000              Social 2014-10-02    NaN   Thursday   \n",
       "3260                1000           Lifestyle 2016-01-20    NaN  Wednesday   \n",
       "3940                1000               Music 2013-01-06    NaN     Sunday   \n",
       "688                  999            Business 2017-05-08    NaN     Monday   \n",
       "1511                 999            DevTools 2018-02-02    NaN     Friday   \n",
       "1798                 999              Social 2013-05-24    NaN     Friday   \n",
       "1883                 999              Social 2019-12-05    NaN   Thursday   \n",
       "4306                 999               Music 2014-11-07    NaN     Friday   \n",
       "237                  998               Books 2017-10-26    NaN   Thursday   \n",
       "319                  998               Books 2018-06-26    NaN    Tuesday   \n",
       "1785                 998              Social 2017-06-26    NaN     Monday   \n",
       "2470                 998  Health and Fitness 2017-03-21    NaN    Tuesday   \n",
       "3380                 998           Lifestyle 2013-07-03    NaN  Wednesday   \n",
       "3406                 998           Lifestyle 2018-08-13    NaN     Monday   \n",
       "3499                 998           Lifestyle 2018-02-28    NaN  Wednesday   \n",
       "4010                 998               Music 2016-01-24    NaN     Sunday   \n",
       "4143                 998               Music 2015-08-21    NaN     Friday   \n",
       "5153                 998    News and Weather 2013-06-25    NaN    Tuesday   \n",
       "156                  997               Books 2013-10-25    NaN     Friday   \n",
       "\n",
       "     Quarter             WeekOfYear  \n",
       "560   2016Q4  2016-12-05/2016-12-11  \n",
       "1929  2014Q4  2014-09-29/2014-10-05  \n",
       "3260  2016Q1  2016-01-18/2016-01-24  \n",
       "3940  2013Q1  2012-12-31/2013-01-06  \n",
       "688   2017Q2  2017-05-08/2017-05-14  \n",
       "1511  2018Q1  2018-01-29/2018-02-04  \n",
       "1798  2013Q2  2013-05-20/2013-05-26  \n",
       "1883  2019Q4  2019-12-02/2019-12-08  \n",
       "4306  2014Q4  2014-11-03/2014-11-09  \n",
       "237   2017Q4  2017-10-23/2017-10-29  \n",
       "319   2018Q2  2018-06-25/2018-07-01  \n",
       "1785  2017Q2  2017-06-26/2017-07-02  \n",
       "2470  2017Q1  2017-03-20/2017-03-26  \n",
       "3380  2013Q3  2013-07-01/2013-07-07  \n",
       "3406  2018Q3  2018-08-13/2018-08-19  \n",
       "3499  2018Q1  2018-02-26/2018-03-04  \n",
       "4010  2016Q1  2016-01-18/2016-01-24  \n",
       "4143  2015Q3  2015-08-17/2015-08-23  \n",
       "5153  2013Q2  2013-06-24/2013-06-30  \n",
       "156   2013Q4  2013-10-21/2013-10-27  "
      ]
     },
     "execution_count": 63,
     "metadata": {},
     "output_type": "execute_result"
    }
   ],
   "source": [
    "# Find the Top 20 items by # of people rated\n",
    "df_ms.nlargest(20, ['No of people Rated'])"
   ]
  },
  {
   "cell_type": "code",
   "execution_count": null,
   "metadata": {},
   "outputs": [],
   "source": [
    "# Search for partial string within a column\n",
    "#   To avoid None (NaN) errors, set na=False\n",
    "string_filter = df_ms['Name'].str.contains('Psyc'.title(),na=False)\n",
    "df_ms.loc[string_filter, \"Name\"]"
   ]
  },
  {
   "cell_type": "code",
   "execution_count": 64,
   "metadata": {},
   "outputs": [
    {
     "data": {
      "text/html": [
       "<div>\n",
       "<style scoped>\n",
       "    .dataframe tbody tr th:only-of-type {\n",
       "        vertical-align: middle;\n",
       "    }\n",
       "\n",
       "    .dataframe tbody tr th {\n",
       "        vertical-align: top;\n",
       "    }\n",
       "\n",
       "    .dataframe thead th {\n",
       "        text-align: right;\n",
       "    }\n",
       "</style>\n",
       "<table border=\"1\" class=\"dataframe\">\n",
       "  <thead>\n",
       "    <tr style=\"text-align: right;\">\n",
       "      <th></th>\n",
       "      <th>Rating</th>\n",
       "      <th>No of people Rated</th>\n",
       "      <th>Price</th>\n",
       "    </tr>\n",
       "  </thead>\n",
       "  <tbody>\n",
       "    <tr>\n",
       "      <th>count</th>\n",
       "      <td>5321.000000</td>\n",
       "      <td>5321.000000</td>\n",
       "      <td>144.000000</td>\n",
       "    </tr>\n",
       "    <tr>\n",
       "      <th>mean</th>\n",
       "      <td>3.792708</td>\n",
       "      <td>551.798722</td>\n",
       "      <td>230.641663</td>\n",
       "    </tr>\n",
       "    <tr>\n",
       "      <th>std</th>\n",
       "      <td>0.991681</td>\n",
       "      <td>259.787733</td>\n",
       "      <td>149.437210</td>\n",
       "    </tr>\n",
       "    <tr>\n",
       "      <th>min</th>\n",
       "      <td>1.000000</td>\n",
       "      <td>100.000000</td>\n",
       "      <td>54.000000</td>\n",
       "    </tr>\n",
       "    <tr>\n",
       "      <th>25%</th>\n",
       "      <td>3.500000</td>\n",
       "      <td>327.000000</td>\n",
       "      <td>109.000000</td>\n",
       "    </tr>\n",
       "    <tr>\n",
       "      <th>50%</th>\n",
       "      <td>4.000000</td>\n",
       "      <td>548.000000</td>\n",
       "      <td>269.000000</td>\n",
       "    </tr>\n",
       "    <tr>\n",
       "      <th>75%</th>\n",
       "      <td>4.500000</td>\n",
       "      <td>779.000000</td>\n",
       "      <td>269.000000</td>\n",
       "    </tr>\n",
       "    <tr>\n",
       "      <th>max</th>\n",
       "      <td>5.000000</td>\n",
       "      <td>1000.000000</td>\n",
       "      <td>824.000000</td>\n",
       "    </tr>\n",
       "  </tbody>\n",
       "</table>\n",
       "</div>"
      ],
      "text/plain": [
       "            Rating  No of people Rated       Price\n",
       "count  5321.000000         5321.000000  144.000000\n",
       "mean      3.792708          551.798722  230.641663\n",
       "std       0.991681          259.787733  149.437210\n",
       "min       1.000000          100.000000   54.000000\n",
       "25%       3.500000          327.000000  109.000000\n",
       "50%       4.000000          548.000000  269.000000\n",
       "75%       4.500000          779.000000  269.000000\n",
       "max       5.000000         1000.000000  824.000000"
      ]
     },
     "execution_count": 64,
     "metadata": {},
     "output_type": "execute_result"
    }
   ],
   "source": [
    "df_ms.describe()"
   ]
  },
  {
   "cell_type": "code",
   "execution_count": 66,
   "metadata": {},
   "outputs": [
    {
     "data": {
      "text/plain": [
       "array(['Dynamic Reader',\n",
       "       'Chemistry, Organic Chemistry and Biochemistry-simpleNeasyApp by WAGmob',\n",
       "       'BookViewer', ..., 'MQTTSniffer', 'Dev Utils - JSON, CSV and XML',\n",
       "       'Simply Text'], dtype=object)"
      ]
     },
     "execution_count": 66,
     "metadata": {},
     "output_type": "execute_result"
    }
   ],
   "source": [
    "df_ms['Name'].unique()"
   ]
  },
  {
   "cell_type": "code",
   "execution_count": null,
   "metadata": {},
   "outputs": [],
   "source": [
    "# What's happening? The filter results in a True/False 'mask' applied to the data\n",
    "#   Since only 5 of more than 5,000 app names contain the string 'Pysc' all visible mask items are False\n",
    "print(string_filter)"
   ]
  },
  {
   "cell_type": "markdown",
   "metadata": {},
   "source": [
    "# Grouping and Aggregating Data\n",
    "\n",
    "In this section, we will look at how to use the `groupby` Pandas method to aggregate data that resides in a Pandas DataFrame object. Essentiall, the `groupby` method allows us to define a subset of the columns in a DataFrame to aggregate on. We can then use defined and user-specifed functions to compute aggregate statistics for the aggregated data. The following table, modified from that found at https://jakevdp.github.io/PythonDataScienceHandbook/03.08-aggregation-and-grouping.html, describes some of the defined aggregations.\n",
    "\n",
    "<table>\n",
    "<thead><tr>\n",
    "<th>Aggregation</th>\n",
    "<th>Description</th>\n",
    "</tr>\n",
    "</thead>\n",
    "<tbody>\n",
    "<tr>\n",
    "<td><code>count()</code></td>\n",
    "<td>Total number of items</td>\n",
    "</tr>\n",
    "<tr>\n",
    "<td><code>first()</code>, <code>last()</code></td>\n",
    "<td>First and last item</td>\n",
    "</tr>\n",
    "<tr>\n",
    "<td><code>mean()</code>, <code>median()</code></td>\n",
    "<td>Mean and median</td>\n",
    "</tr>\n",
    "<tr>\n",
    "<td><code>min()</code>, <code>max()</code></td>\n",
    "<td>Minimum and maximum</td>\n",
    "</tr>\n",
    "<tr>\n",
    "<td><code>std()</code>, <code>var()</code></td>\n",
    "<td>Standard deviation and variance</td>\n",
    "</tr>\n",
    "<tr>\n",
    "<td><code>mad()</code></td>\n",
    "<td>Mean absolute deviation</td>\n",
    "</tr>\n",
    "<tr>\n",
    "<td><code>prod()</code></td>\n",
    "<td>Product of all items</td>\n",
    "</tr>\n",
    "<tr>\n",
    "<td><code>sum()</code></td>\n",
    "<td>Sum of all items</td>\n",
    "</tr>\n",
    "<tr>\n",
    "<td><code>unique()</code></td>\n",
    "<td>Unique values</td>\n",
    "</tr>\n",
    "<tr>\n",
    "<td><code>nunique()</code></td>\n",
    "<td>Number of unique values</td>\n",
    "</tr>\n",
    "</tbody>\n",
    "</table>\n",
    "\n",
    "The following code block demonstrates how to use the `groupby` method to compute the total sales for each of the stores included in the DataFrame. "
   ]
  },
  {
   "cell_type": "code",
   "execution_count": null,
   "metadata": {},
   "outputs": [],
   "source": [
    "sales_data.groupby(['Store'])['Sales'].sum()"
   ]
  },
  {
   "cell_type": "code",
   "execution_count": null,
   "metadata": {},
   "outputs": [],
   "source": [
    "# How would you group by product and display the total sales for each product?\n",
    "sales_data.groupby(['Product'])['Sales'].sum()"
   ]
  },
  {
   "cell_type": "markdown",
   "metadata": {},
   "source": [
    "The following code block provides a closer look at how the `groupby` method works. Specifically, if we convert the grouped object to a list, we see that we get a list of tuples. The first value in the tuple specifies the grouping, and the second item specifies the data that belongs to the associated group.\n",
    "\n",
    "[Back to Table of Contents](#Table_of_Contents)<br>"
   ]
  },
  {
   "cell_type": "code",
   "execution_count": null,
   "metadata": {},
   "outputs": [],
   "source": [
    "list(sales_data.groupby(['Store']))"
   ]
  },
  {
   "cell_type": "markdown",
   "metadata": {},
   "source": [
    "If a single column is specified for grouping, any aggregations are returned as a `Series` object. Thus, we can access the values using the indexing and selection methods for `Series` objects. For example, the following code block shows how to get the total sales for store *E1*."
   ]
  },
  {
   "cell_type": "code",
   "execution_count": null,
   "metadata": {},
   "outputs": [],
   "source": [
    "sales_data.groupby(['Store'])['Sales'].sum()['E1']"
   ]
  },
  {
   "cell_type": "markdown",
   "metadata": {},
   "source": [
    "If more than one column is specified for grouping, aggregated data is again returned as a `Series` object. However, this object will utilize a *multi-level* index as shown below."
   ]
  },
  {
   "cell_type": "code",
   "execution_count": null,
   "metadata": {},
   "outputs": [],
   "source": [
    "sales_data.groupby(['Store','Year'])['Sales'].sum()"
   ]
  },
  {
   "cell_type": "markdown",
   "metadata": {},
   "source": [
    "To access the total sales for store *E1* during 2007, we first need to get the data for store *E1*, as shown below."
   ]
  },
  {
   "cell_type": "code",
   "execution_count": null,
   "metadata": {},
   "outputs": [],
   "source": [
    "sales_data.groupby(['Store','Year'])['Sales'].sum()['E1']"
   ]
  },
  {
   "cell_type": "markdown",
   "metadata": {},
   "source": [
    "Then, we can index into the resulting `Series` to get the 2007 sales."
   ]
  },
  {
   "cell_type": "code",
   "execution_count": null,
   "metadata": {},
   "outputs": [],
   "source": [
    "sales_data.groupby(['Store','Year'])['Sales'].sum()['E1']['12/31/2007']"
   ]
  },
  {
   "cell_type": "markdown",
   "metadata": {},
   "source": [
    "Essentially, when multiple columns are grouped on, the resulting aggregations can be accessed in a manner that is similar to a multi-level dictionary. If we would like the object returned to resemble a DataFrame instead, we can set the optional `as_index` argument to `False`. This is demonstrated below. "
   ]
  },
  {
   "cell_type": "code",
   "execution_count": null,
   "metadata": {},
   "outputs": [],
   "source": [
    "sales_data.groupby(['Store','Year'], as_index = False)['Sales'].sum()"
   ]
  },
  {
   "cell_type": "markdown",
   "metadata": {},
   "source": [
    "In addition to grouping on several columns, we can also perform several aggregations using the `agg` method. The following code block shows an example where we group the `sales_data` object by *Store* and *Year*, and then determine the *mean*, *total*, and *maximum* sales for each grouping. "
   ]
  },
  {
   "cell_type": "code",
   "execution_count": null,
   "metadata": {},
   "outputs": [],
   "source": [
    "sales_data.groupby(['Store','Year'], as_index = False)['Sales'].agg({'mean','sum','max'})"
   ]
  },
  {
   "cell_type": "markdown",
   "metadata": {},
   "source": [
    "As you can see in the previous code block, even though we specified `as_index = False`, the returned object still utilizes a multi-level index. However, by *chaining* the expression with the `reset_index()` method, we can obtain a standard DataFrame object as shown below."
   ]
  },
  {
   "cell_type": "code",
   "execution_count": null,
   "metadata": {},
   "outputs": [],
   "source": [
    "sales_data.groupby(['Store','Year'], as_index = False)['Sales'].agg({'mean','sum','max'}).reset_index()"
   ]
  },
  {
   "cell_type": "markdown",
   "metadata": {},
   "source": [
    "We can also customize the column names as shown below."
   ]
  },
  {
   "cell_type": "code",
   "execution_count": null,
   "metadata": {},
   "outputs": [],
   "source": [
    "sales_data.groupby(['Store','Year'], as_index = False)['Sales'].agg({'Mean Sales':'mean',\n",
    "                                                                     'Total Sales':'sum',\n",
    "                                                                     'Maximum Sales':'max'}).reset_index()"
   ]
  },
  {
   "cell_type": "markdown",
   "metadata": {},
   "source": [
    "Finally, in addition to using the defined aggregations, a user can specify custom aggregations using a *lambda function*. A *lambda function* is essentially a function without a defined name. To apply a lambda function, we use the syntax `lambda my_var: my_func(my_var)`, where `my_var` represents a variable that will be passed as an argument and `myfunc()` represents a function that receives `my_var` as an argument. In the case of our groupby object, the values belonging to each group will be passed as the variable.\n",
    "\n",
    "The following code block shows how to use a lambda function to compute the $90^{th}$ percentile of the sales for each store, using NumPy's `percentile` method, along with the *mean*, *total*, and *maximum* sales for each store."
   ]
  },
  {
   "cell_type": "code",
   "execution_count": null,
   "metadata": {},
   "outputs": [],
   "source": [
    "sales_data.groupby(['Store','Year'], as_index = False)['Sales'].agg({'Mean Sales':'mean',\n",
    "                                                                     'Total Sales':'sum',\n",
    "                                                                     'Maximum Sales':'max',\n",
    "                                                                     '90% Sales': lambda x: np.percentile(x, 90)}).reset_index()"
   ]
  },
  {
   "cell_type": "markdown",
   "metadata": {},
   "source": [
    "It is also possible to perform different aggregations for different variables. However, it becomes quite complex to work with the returned objects. FOr more information, see https://pandas.pydata.org/pandas-docs/stable/groupby.html."
   ]
  },
  {
   "cell_type": "markdown",
   "metadata": {},
   "source": [
    "# Pivot Tables\n",
    "\n",
    "The previous section showed how the `groupby` functionality available in Pandas allows you to aggregate data that resides in a `DataFrame` object in a very flexible manner. However, many users are very familiar with the aggregation capabilities made available by Microsoft Excel's pivot table functionality. Noting this, the Pandas package comes with a builtin `pivot_table` method that attempts to replicate this functionality in a simple fashion.\n",
    "\n",
    "The following code block shows how to use this function to compute the `mean` sales for each store, by year. "
   ]
  },
  {
   "cell_type": "code",
   "execution_count": null,
   "metadata": {
    "scrolled": true
   },
   "outputs": [],
   "source": [
    "pd.pivot_table(sales_data, values = 'Sales', columns = 'Store', index = 'Year', aggfunc = 'mean')"
   ]
  },
  {
   "cell_type": "markdown",
   "metadata": {},
   "source": [
    "The following code block shows how to use this function to compute the total sales for each store, by year."
   ]
  },
  {
   "cell_type": "code",
   "execution_count": null,
   "metadata": {},
   "outputs": [],
   "source": [
    "pd.pivot_table(sales_data, values = 'Sales', columns = 'Store', index = 'Year', aggfunc = 'sum')"
   ]
  },
  {
   "cell_type": "code",
   "execution_count": null,
   "metadata": {},
   "outputs": [],
   "source": [
    "format_mapping = {\"Sales\": \"${:,.2f}\", \"E2\": \"{:,.0f}\", \"W1\": \"{:.2f}%\"}\n",
    "\n",
    "sales_data.style.format(format_mapping)"
   ]
  },
  {
   "cell_type": "code",
   "execution_count": null,
   "metadata": {},
   "outputs": [],
   "source": [
    "sales_data['Store'].unique()"
   ]
  },
  {
   "cell_type": "markdown",
   "metadata": {},
   "source": [
    "# Combining Datasets\n",
    "\n",
    "The final thing that we consider in this notebook is how to merge DataFrame objects. In particular, let's assume that we have another DataFrame object that includes information on each of the stores. The following code block creates such an object."
   ]
  },
  {
   "cell_type": "code",
   "execution_count": null,
   "metadata": {},
   "outputs": [],
   "source": [
    "stores_list = ['W1', 'E1', 'E2']\n",
    "\n",
    "city_list = ['City A', 'City B', 'City C',]\n",
    "\n",
    "state_list = ['State 1', 'State 2', 'State 2']\n",
    "\n",
    "my_dict = {'Store': stores_list,\n",
    "           'City': city_list,\n",
    "           'State': state_list}\n",
    "\n",
    "store_info = pd.DataFrame.from_dict(my_dict)\n",
    "\n",
    "store_info"
   ]
  },
  {
   "cell_type": "markdown",
   "metadata": {},
   "source": [
    "Let's assume that we want the total sales by state. To calculate this quantity, we first need to group the data in the `sales_data` object by store. This grouping is performed in the following code block, and the resulting object is stored in a new object called `grouped_data`."
   ]
  },
  {
   "cell_type": "code",
   "execution_count": null,
   "metadata": {},
   "outputs": [],
   "source": [
    "grouped_data = sales_data.groupby('Store', as_index = False)['Sales'].sum()\n",
    "grouped_data"
   ]
  },
  {
   "cell_type": "markdown",
   "metadata": {},
   "source": [
    "We can now use Pandas `merge` method to merge the `grouped_data` object with the `store_info` object. Since they both have a column that is named *Store*, the method will merge on this common column. This is shown below."
   ]
  },
  {
   "cell_type": "code",
   "execution_count": null,
   "metadata": {},
   "outputs": [],
   "source": [
    "grouped_data.merge(store_info)"
   ]
  },
  {
   "cell_type": "markdown",
   "metadata": {},
   "source": [
    "We can now *chain* the `groupby` method to the end of the merged data to obtain the total sales by store as is shown in the following code block."
   ]
  },
  {
   "cell_type": "code",
   "execution_count": null,
   "metadata": {},
   "outputs": [],
   "source": [
    "grouped_data.merge(store_info).groupby('State', as_index = False)['Sales'].sum()"
   ]
  },
  {
   "cell_type": "markdown",
   "metadata": {},
   "source": [
    "**Note that we could have performed the merging and aggregation in a single, *chained* statement as follows.**"
   ]
  },
  {
   "cell_type": "code",
   "execution_count": null,
   "metadata": {},
   "outputs": [],
   "source": [
    "sales_data.groupby('Store', as_index = False)['Sales'].sum()\\\n",
    ".merge(store_info).groupby('State', as_index = False)['Sales'].sum()"
   ]
  },
  {
   "cell_type": "markdown",
   "metadata": {},
   "source": [
    "Let's now consider the case where we don't have nformation for all of the stores. The following code block creates a new version of the `store_info` object where we only have information for stores *E1* and *W1*."
   ]
  },
  {
   "cell_type": "code",
   "execution_count": null,
   "metadata": {},
   "outputs": [],
   "source": [
    "stores_list = ['W1', 'E1', ]\n",
    "\n",
    "city_list = ['City A', 'City B',]\n",
    "\n",
    "state_list = ['State 1', 'State 2']\n",
    "\n",
    "my_dict = {'Store': stores_list,\n",
    "           'City': city_list,\n",
    "           'State': state_list}\n",
    "\n",
    "store_info2 = pd.DataFrame.from_dict(my_dict)\n",
    "\n",
    "store_info2"
   ]
  },
  {
   "cell_type": "markdown",
   "metadata": {},
   "source": [
    "The following code block shows the result of using the `merge` method to combine the `grouped_data` object with our new `store_info2` object. As you can see, with the default arguments, the returned object only includes records for stores included in both objects. Actually, the `method` is performing what is known as a *inner* where only records in both DataFrame objects are returned."
   ]
  },
  {
   "cell_type": "code",
   "execution_count": null,
   "metadata": {},
   "outputs": [],
   "source": [
    "grouped_data.merge(store_info2)"
   ]
  },
  {
   "cell_type": "markdown",
   "metadata": {},
   "source": [
    "If we wanted the object returned to include records for all stores, even if one is missing in one of the DataFrames being joined, we can specify an *outer* join using the `how` argument. This is shown in the following code block. Since he `store_info2` object does not include any information for store *E2*, we will get a `NaN` value for the *City* and *State* columns of the associated row in the returned object."
   ]
  },
  {
   "cell_type": "code",
   "execution_count": null,
   "metadata": {},
   "outputs": [],
   "source": [
    "grouped_data.merge(store_info2, how = 'outer')"
   ]
  },
  {
   "cell_type": "markdown",
   "metadata": {},
   "source": [
    "The Pandas package includes additional capabilities for joining DataFrame objects. For more info, see https://jakevdp.github.io/PythonDataScienceHandbook/03.07-merge-and-join.html."
   ]
  }
 ],
 "metadata": {
  "kernelspec": {
   "display_name": "Python 3 (ipykernel)",
   "language": "python",
   "name": "python3"
  },
  "language_info": {
   "codemirror_mode": {
    "name": "ipython",
    "version": 3
   },
   "file_extension": ".py",
   "mimetype": "text/x-python",
   "name": "python",
   "nbconvert_exporter": "python",
   "pygments_lexer": "ipython3",
   "version": "3.9.7"
  },
  "toc-autonumbering": true,
  "toc-showmarkdowntxt": false
 },
 "nbformat": 4,
 "nbformat_minor": 4
}
