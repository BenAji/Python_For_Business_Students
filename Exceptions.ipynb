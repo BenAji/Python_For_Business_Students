{
 "cells": [
  {
   "cell_type": "markdown",
   "metadata": {},
   "source": [
    "# Exception handling and Debugging\n",
    "As you progress in your programming skills, you will create errors that are more difficult to find. Understanding how to use the debugging tools and methods can significantly reduce the amount of time you spend fixing your code."
   ]
  },
  {
   "cell_type": "markdown",
   "metadata": {},
   "source": [
    "# Types of Errors\n",
    "There are three broad categories of programming errors.\n",
    "1. Syntax Errors\n",
    "2. Runtime Errors\n",
    "3. Logic Errors"
   ]
  },
  {
   "cell_type": "markdown",
   "metadata": {},
   "source": [
    "## Syntax Errors\n",
    "A syntax error is an error in the syntax of a sequence of characters in a program. It also applies to the English language.\n",
    "\n",
    ">*hit boy ball the the* <- correct words, syntax error.\n",
    ">\n",
    ">*The ball the boy hit.* <- correct syntax, but possibly wrong subject.\n",
    ">\n",
    ">*The boy hit the ball.* <- correct\n",
    "\n",
    "Syntax matters in English and it matters in programming."
   ]
  },
  {
   "cell_type": "code",
   "execution_count": null,
   "metadata": {},
   "outputs": [],
   "source": [
    "# ERROR: Syntax problem\n",
    "print(\"hi')"
   ]
  },
  {
   "cell_type": "code",
   "execution_count": null,
   "metadata": {},
   "outputs": [],
   "source": [
    "# No error handling results in unexpected termination of a program. \n",
    "x = int(input(\"Enter number\"))\n",
    "y = int(input(\"Enter another number\"))\n",
    "print(\"answer:\" + \" \" + x/y)\n",
    "print(\"Can't divide by zero!\")"
   ]
  },
  {
   "cell_type": "code",
   "execution_count": null,
   "metadata": {},
   "outputs": [],
   "source": [
    "# A non-specific except statement handles the error, but does not\n",
    "#   help the user resolve the problem.\n",
    "x = input(\"Enter number\")\n",
    "y = input(\"Enter another number\")\n",
    "\n",
    "try:\n",
    "    print(\"answer:\",int(x)/int(y))\n",
    "except:\n",
    "    print(\"Error! But no indication of what to do to fix it!\")"
   ]
  },
  {
   "cell_type": "code",
   "execution_count": null,
   "metadata": {},
   "outputs": [],
   "source": [
    "# Catch the exception and instruct the user (i.e., \"Don't divide by zero.\")\n",
    "# If an exception occurs that isn't caught, program will crash (e.g., a ValueError)\n",
    "x = input(\"Enter number\")\n",
    "y = input(\"Enter another number\")\n",
    "\n",
    "try:\n",
    "    print(\"answer:\",int(x)/int(y))\n",
    "except ZeroDivisionError:\n",
    "    print(\"Can't divide by zero!\")"
   ]
  },
  {
   "cell_type": "code",
   "execution_count": null,
   "metadata": {},
   "outputs": [],
   "source": [
    "x = input(\"Enter number\")\n",
    "y = input(\"Enter another number\")\n",
    "\n",
    "try:\n",
    "    print(\"answer:\",int(x)/int(y))\n",
    "except ZeroDivisionError:\n",
    "    print(\"Can't divide by zero!\")\n",
    "except ValueError:\n",
    "    print(\"Value Error -- maybe you entered a non-number?\")"
   ]
  },
  {
   "cell_type": "markdown",
   "metadata": {},
   "source": [
    "## Runtime Errors\n",
    "A run-time error happens when Python understands your instructions, but cannot execute them when the program is run."
   ]
  },
  {
   "cell_type": "code",
   "execution_count": null,
   "metadata": {},
   "outputs": [],
   "source": [
    "# The next line is syntactically and logically correct.\n",
    "my_file = \"lincoln's speech.txt\"\n",
    "#my_file = \"gettysburg.txt\"\n",
    "\n",
    "# Runtime error if file does not exist\n",
    "file_content = open(my_file, 'r')\n",
    "print(file_content.read())"
   ]
  },
  {
   "cell_type": "markdown",
   "metadata": {},
   "source": [
    "## Logic Errors\n",
    "Logic errors generally do not produce an error message because they do not violate Python syntax. Conseqauently, they are often more difficult to find."
   ]
  },
  {
   "cell_type": "code",
   "execution_count": null,
   "metadata": {},
   "outputs": [],
   "source": [
    "# Example of a logic error\n",
    "\n",
    "grades_average = 88 + 87 + 80 + 100 + 93 / 2\n",
    "print(grades_average)"
   ]
  },
  {
   "cell_type": "markdown",
   "metadata": {},
   "source": [
    "# Raising Exceptions\n",
    "Python raises exceptions when it encounters an error (e.g., ValueError, TypeError, etc.). You can also raise exceptions to handle custom errors in your programs."
   ]
  },
  {
   "cell_type": "code",
   "execution_count": null,
   "metadata": {},
   "outputs": [],
   "source": [
    "# boxPrint (Source: ATBS, p. 216)\n",
    "\n",
    "def boxPrint(symbol, width, height):\n",
    "    if len(symbol) != 1:\n",
    "        raise Exception('Symbol must be a single character string.')\n",
    "    if width <=2:\n",
    "        raise Exception('Width must be greater than 2.')\n",
    "    if height <=2:\n",
    "        raise Exception('Height must be greater than 2.')\n",
    "    print(symbol * width)\n",
    "    for i in range(height - 2):\n",
    "        print(symbol + (' ' * (width - 2)) + symbol)\n",
    "    print(symbol * width)\n",
    "    \n",
    "for sym, w, h in (('*', 4, 4), ('0', 20, 5), ('x', 1, 3), ('ZZ', 3, 3), ('^',45,5)):\n",
    "    try:\n",
    "        boxPrint(sym, w, h)\n",
    "    except Exception as err:\n",
    "        print('An exception happened: ' + str(err))"
   ]
  },
  {
   "cell_type": "markdown",
   "metadata": {},
   "source": [
    "# Using Assertion Statements\n",
    "What's the problem with this code?"
   ]
  },
  {
   "cell_type": "code",
   "execution_count": null,
   "metadata": {},
   "outputs": [],
   "source": [
    "# Source: ATBS, p. 220\n",
    "\n",
    "# The stoplight at MacFarland and 15th Street\n",
    "MacFarland = {'ns': 'red', 'ew': 'yellow'}\n",
    "\n",
    "\n",
    "def switchLights(intersection):\n",
    "    ''' Changes traffic lights from green to yellow, yellow to red \n",
    "        and red to Green. Accepts a dictionary with ns (north-south) and \n",
    "        ew (east-west) light states (red, green, yellow).'''\n",
    "    \n",
    "    for key in intersection.keys():\n",
    "        if intersection[key] == 'green':\n",
    "            intersection[key] = 'yellow'\n",
    "        elif intersection[key] == 'yellow':\n",
    "            intersection[key] = 'red'\n",
    "        elif intersection[key] == 'red':\n",
    "            intersection[key] = 'green'\n",
    "\n",
    "# Print current light state\n",
    "print(MacFarland)\n",
    "\n",
    "# Cycle the lights\n",
    "switchLights(MacFarland)\n",
    "\n",
    "# Print current light state\n",
    "print(MacFarland)"
   ]
  },
  {
   "cell_type": "code",
   "execution_count": null,
   "metadata": {},
   "outputs": [],
   "source": [
    "# Cycle the lights\n",
    "switchLights(MacFarland)\n",
    "\n",
    "# Print current light state\n",
    "print(MacFarland)"
   ]
  },
  {
   "cell_type": "markdown",
   "metadata": {},
   "source": [
    "\n",
    "The problem is that no light is red!!\n",
    "\n",
    "Your program must prevent this situation from happening."
   ]
  },
  {
   "cell_type": "code",
   "execution_count": null,
   "metadata": {},
   "outputs": [],
   "source": [
    "# Source: ATBS, p. 220\n",
    "\n",
    "# The stoplight at MacFarland and 15th Street\n",
    "MacFarland = {'ns': 'red', 'ew': 'yellow'}\n",
    "\n",
    "\n",
    "def switchLights(intersection):\n",
    "    ''' Changes traffic lights from green to yellow, yellow to red \n",
    "        and red to Green. Accepts a dictionary with ns (north-south) and \n",
    "        ew (east-west) light states (red, green, yellow).'''\n",
    "    \n",
    "    for key in intersection.keys():\n",
    "        if intersection[key] == 'green':\n",
    "            intersection[key] = 'yellow'\n",
    "        elif intersection[key] == 'yellow':\n",
    "            intersection[key] = 'red'\n",
    "        elif intersection[key] == 'red':\n",
    "            intersection[key] = 'green'\n",
    "    assert 'red' in intersection.values(), 'Neither light is red!' + str(intersection)\n",
    "    \n",
    "# Print current light state\n",
    "print(MacFarland)\n",
    "try:\n",
    "    # Cycle the lights\n",
    "    switchLights(MacFarland)\n",
    "\n",
    "    # Print current light state\n",
    "    print(MacFarland)\n",
    "\n",
    "    # Cycle the lights\n",
    "    switchLights(MacFarland)\n",
    "except AssertionError:\n",
    "    print(\"Set both direction red flashing lights\")\n",
    "# Print current light state\n",
    "print(MacFarland)"
   ]
  },
  {
   "cell_type": "markdown",
   "metadata": {},
   "source": [
    "## Efficient Use of Assertion Errors\n",
    "The previous example triggers the assertation statement and results in an AssertionError, which is good. However, the program simply exits ungracefully and does nothing to resolve the issue.\n",
    "\n",
    "How could you improve this program to respond more effectively to an Assertion error. What should the traffic lights do if this situation occurs? "
   ]
  },
  {
   "cell_type": "markdown",
   "metadata": {},
   "source": [
    "# Logging\n",
    "When a program does not operate as expected, it's tempting to pepper it with print() statements to monitor changes in variables, states, objects, etc. Although using print() is actually a form of logging, you should generally avoid inserting multiple print() statements within your code because you'll only have to take them out again. Instead of using print(), consider logging."
   ]
  },
  {
   "cell_type": "markdown",
   "metadata": {},
   "source": [
    "## Logging Levels\n",
    "Logging has 5 standard levels ordered by severity, starting with the least severe.\n",
    "1. DEBUG\n",
    "2. INFO\n",
    "3. WARNING\n",
    "4. ERROR\n",
    "5. CRITICAL"
   ]
  },
  {
   "cell_type": "code",
   "execution_count": 2,
   "metadata": {},
   "outputs": [
    {
     "name": "stderr",
     "output_type": "stream",
     "text": [
      " 2019-09-24 10:18:00,940 - DEBUG - This is a debug message\n",
      " 2019-09-24 10:18:00,940 - INFO - This is an info message\n",
      " 2019-09-24 10:18:00,940 - WARNING - This is a warning message\n",
      " 2019-09-24 10:18:00,940 - ERROR - This is an error message\n",
      " 2019-09-24 10:18:00,940 - CRITICAL - This is a critical message\n"
     ]
    }
   ],
   "source": [
    "import logging\n",
    "\n",
    "logging.debug('This is a debug message')\n",
    "logging.info('This is an info message')\n",
    "logging.warning('This is a warning message')\n",
    "logging.error('This is an error message')\n",
    "logging.critical('This is a critical message')"
   ]
  },
  {
   "cell_type": "markdown",
   "metadata": {},
   "source": [
    "### Default Logging Configuration\n",
    "By default, the logging level is WARNING, which means that only WARNING and higher level messages will be printed. To print debug messages, configure the logging level to debug as illustrated below. \n",
    "\n",
    "NOTE: Once logging is configured, it may not be reconfigured. (Restart the kernel of this notebook and run the next code cell to set the logging level to debug.)"
   ]
  },
  {
   "cell_type": "code",
   "execution_count": 1,
   "metadata": {},
   "outputs": [
    {
     "name": "stderr",
     "output_type": "stream",
     "text": [
      " 2019-09-24 10:17:54,838 - DEBUG - Start of program\n",
      " 2019-09-24 10:17:54,838 - DEBUG - before remove -- item = 1\n",
      " 2019-09-24 10:17:54,842 - DEBUG - list contains [1, 2, 3, 4, 5, 7, 8, 9, 10]\n",
      " 2019-09-24 10:17:54,842 - DEBUG - after remove -- item = 1\n",
      " 2019-09-24 10:17:54,842 - DEBUG - list contains [1, 2, 3, 4, 5, 7, 8, 9, 10]\n",
      " 2019-09-24 10:17:54,842 - DEBUG - before remove -- item = 2\n",
      " 2019-09-24 10:17:54,842 - DEBUG - list contains [1, 2, 3, 4, 5, 7, 8, 9, 10]\n",
      " 2019-09-24 10:17:54,842 - DEBUG - after remove -- item = 2\n",
      " 2019-09-24 10:17:54,846 - DEBUG - list contains [1, 2, 3, 4, 5, 7, 8, 9, 10]\n",
      " 2019-09-24 10:17:54,846 - DEBUG - before remove -- item = 3\n",
      " 2019-09-24 10:17:54,846 - DEBUG - list contains [1, 2, 3, 4, 5, 7, 8, 9, 10]\n",
      " 2019-09-24 10:17:54,846 - DEBUG - after remove -- item = 3\n",
      " 2019-09-24 10:17:54,846 - DEBUG - list contains [1, 2, 3, 4, 5, 7, 8, 9, 10]\n",
      " 2019-09-24 10:17:54,850 - DEBUG - before remove -- item = 4\n",
      " 2019-09-24 10:17:54,850 - DEBUG - list contains [1, 2, 3, 4, 5, 7, 8, 9, 10]\n",
      " 2019-09-24 10:17:54,850 - DEBUG - after remove -- item = 4\n",
      " 2019-09-24 10:17:54,850 - DEBUG - list contains [1, 2, 3, 4, 5, 7, 8, 9, 10]\n",
      " 2019-09-24 10:17:54,850 - DEBUG - before remove -- item = 5\n",
      " 2019-09-24 10:17:54,854 - DEBUG - list contains [1, 2, 3, 4, 5, 7, 8, 9, 10]\n",
      " 2019-09-24 10:17:54,854 - DEBUG - after remove -- item = 5\n",
      " 2019-09-24 10:17:54,854 - DEBUG - list contains [1, 2, 3, 4, 5, 7, 8, 9, 10]\n",
      " 2019-09-24 10:17:54,854 - DEBUG - before remove -- item = 7\n",
      " 2019-09-24 10:17:54,854 - DEBUG - list contains [1, 2, 3, 4, 5, 7, 8, 9, 10]\n",
      " 2019-09-24 10:17:54,858 - DEBUG - after remove -- item = 7\n",
      " 2019-09-24 10:17:54,858 - DEBUG - list contains [1, 2, 3, 4, 5, 8, 9, 10]\n",
      " 2019-09-24 10:17:54,858 - DEBUG - before remove -- item = 9\n",
      " 2019-09-24 10:17:54,858 - DEBUG - list contains [1, 2, 3, 4, 5, 8, 9, 10]\n",
      " 2019-09-24 10:17:54,862 - DEBUG - after remove -- item = 9\n",
      " 2019-09-24 10:17:54,862 - DEBUG - list contains [1, 2, 3, 4, 5, 8, 10]\n"
     ]
    },
    {
     "name": "stdout",
     "output_type": "stream",
     "text": [
      "8\n",
      "[1, 2, 3, 4, 5, 8, 10]\n"
     ]
    }
   ],
   "source": [
    "import logging\n",
    "logging.basicConfig(level=logging.DEBUG, format=' %(asctime)s - %(levelname)s - %(message)s')\n",
    "logging.debug('Start of program')\n",
    "# The intent of this code is to remove numbers greater than 5 from my list.\n",
    "my_list = [1,2,3,4,5,7,8,9,10]\n",
    "print(my_list[6])\n",
    "\n",
    "for item in my_list:\n",
    "    logging.debug(f'before remove -- item = {item}')\n",
    "    logging.debug(f'list contains {my_list}')\n",
    "    if item > 5:\n",
    "        my_list.remove(item)\n",
    "    logging.debug(f'after remove -- item = {item}')\n",
    "    logging.debug(f'list contains {my_list}')\n",
    "# ERROR: However, 7 and 9 remain because they were skipped as items were removed.\n",
    "print(my_list)"
   ]
  },
  {
   "cell_type": "code",
   "execution_count": null,
   "metadata": {},
   "outputs": [],
   "source": []
  }
 ],
 "metadata": {
  "kernelspec": {
   "display_name": "Python 3",
   "language": "python",
   "name": "python3"
  },
  "language_info": {
   "codemirror_mode": {
    "name": "ipython",
    "version": 3
   },
   "file_extension": ".py",
   "mimetype": "text/x-python",
   "name": "python",
   "nbconvert_exporter": "python",
   "pygments_lexer": "ipython3",
   "version": "3.7.4"
  }
 },
 "nbformat": 4,
 "nbformat_minor": 4
}
