{
 "cells": [
  {
   "cell_type": "markdown",
   "metadata": {
    "toc-hr-collapsed": true
   },
   "source": [
    "# Python Fundamentals\n",
    "\n",
    "Prepared by:Gregory J. Bott, Ph.D.\n",
    "(Sources: Python for Everyone, Charles Severance; A Whirlwind Tour of Python, Jake Vanderplas)\n"
   ]
  },
  {
   "cell_type": "markdown",
   "metadata": {},
   "source": [
    "## Why should a business student learn Python?\n",
    "\n",
    "Information is the lifeblood of <del>nearly</del> every organization. The purpose of this notebook is the help business students master the fundamental concepts and skills required to effectively use Python. Python skills are in high demand. One reason for this demand is Python's ability to efficiently acquire, manipulate, analyze and visual data. However, prior to performing data analytic tasks, business students must learn the fundamentals."
   ]
  },
  {
   "cell_type": "markdown",
   "metadata": {},
   "source": [
    "## Data Analysis is Part of *Every* Job\n",
    "It's not just data scientists or data analytics that need analysis skills. Nearly every job intersects with data. It's highly likely that even if your job doesn't have \"analyst\" or \"scientst\" in the title, you'll still benefit from understanding how to acquire, handle, manipulate, and report data.\n",
    "\n",
    "> ### Deloitte: \"...skills that were highly appreciated in Deloitte and projects were Java, Python/R...\"\n"
   ]
  },
  {
   "cell_type": "markdown",
   "metadata": {},
   "source": [
    "## Python skills are in high demand\n",
    "\n",
    "2018 Developer Survey by StackOverflow\n",
    "\n",
    "![](\\images\\2018MostWantedLanguages.jpg)\n",
    "\n",
    "TODO: Add Github stats showing Python as /#3 overall.\n",
    "\n",
    "[] task"
   ]
  },
  {
   "cell_type": "markdown",
   "metadata": {
    "toc-hr-collapsed": false
   },
   "source": [
    "## Programming Teaches Problem solving\n",
    "\n",
    "The ability to think critically and solve problems is a general life skill. Proble solving applies to the all facets of life. In this course you'll learn Python syntax and structures, but more importantly you'll learn to abstract a problem and code a solution. "
   ]
  },
  {
   "cell_type": "markdown",
   "metadata": {},
   "source": [
    "## Python is the new Excel\n",
    "Business rightly assume that you have solid Excel skills. However, the new expectation is that you already possess the skills necessary to handle data acquisition, analysis, and visualization. And alothough this can arguably still be done in Excel, Python's tools and libraries are exponentially more efficient. \n",
    "\n",
    "Python is the new Excel. (see https://www.fincad.com/blog/python-new-excel)"
   ]
  },
  {
   "cell_type": "markdown",
   "metadata": {
    "toc-hr-collapsed": false
   },
   "source": [
    "## About the Python language\n",
    "(Sources: Wikipedia, Dr. Nickolas K. Freeman)\n",
    "\n",
    ">Python is an interpreted high-level programming language for general-purpose programming. Created by Guido van Rossum and first released in 1991, Python has a design philosophy that emphasizes code readability, and a syntax that allows programmers to express concepts in fewer lines of code, notably using significant whitespace. It provides constructs that enable clear programming on both small and large scales.\n",
    "\n",
    ">Python is a multi-paradigm programming language. Object-oriented programming and structured programming are fully supported, and many of its features support functional programming and aspect-oriented programming (including by metaprogramming and metaobjects (magic methods)). Many other paradigms are supported via extensions, including design by contract and logic programming.\n",
    "\n",
    ">The language's core philosophy is summarized in the document The Zen of Python (PEP 20), which includes aphorisms such as:\n",
    "\n",
    "> - Beautiful is better than ugly\n",
    "> - Explicit is better than implicit\n",
    "> - Simple is better than complex\n",
    "> - Complex is better than complicated\n",
    "> - Readability counts\n",
    "\n",
    "> Rather than having all of its functionality built into its core, Python was designed to be highly extensible. This compact modularity has made it particularly popular as a means of adding programmable interfaces to existing applications. Van Rossum's vision of a small core language with a large standard library and easily extensible interpreter stemmed from his frustrations with ABC, another programming language that espoused the opposite approach.\n",
    "\n",
    "> While offering choice in coding methodology, the Python philosophy rejects exuberant syntax (such as that of Perl) in favor of a simpler, less-cluttered grammar. As Alex Martelli put it: \"To describe something as 'clever' is not considered a compliment in the Python culture.\" Python's philosophy rejects the Perl \"there is more than one way to do it\" approach to language design in favor of \"there should be one—and preferably only one—obvious way to do it\".\n",
    "\n",
    ">Python's developers strive to avoid premature optimization, and reject patches to non-critical parts of CPython that would offer marginal increases in speed at the cost of clarity. When speed is important, a Python programmer can move time-critical functions to extension modules written in languages such as C, or use PyPy, a just-in-time compiler. Cython is also available, which translates a Python script into C and makes direct C-level API calls into the Python interpreter.\n",
    "\n",
    ">An important goal of Python's developers is keeping it fun to use. This is reflected in the language's name—a tribute to the British comedy group Monty Python—and in occasionally playful approaches to tutorials and reference materials, such as examples that refer to spam and eggs (from a famous Monty Python sketch) instead of the standard foo and bar.\n",
    "\n",
    ">A common neologism in the Python community is *pythonic*, which can have a wide range of meanings related to program style. To say that code is pythonic is to say that it uses Python idioms well, that it is natural or shows fluency in the language, that it conforms with Python's minimalist philosophy and emphasis on readability. In contrast, code that is difficult to understand or reads like a rough transcription from another programming language is called unpythonic.\n",
    "\n",
    ">Users and admirers of Python, especially those considered knowledgeable or experienced, are often referred to as Pythonists, Pythonistas, and Pythoneers\n",
    "# What is a Program?\n",
    "\n",
    "> ## A program is a sequence of instructions that specified how to perform a computation. \n",
    "\n",
    "## Building Blocks of Nearly Every Language\n",
    "* **input** - get data--from user via keyboard, from sensors, from other programs, from databases, etc.\n",
    "* **output** - display results in the console on the screen, on paper, to another program, a web page, etc.\n",
    "* **math** - perform mathematical operations (addition, multiplication, etc.)\n",
    "* **conditional execution** - check for certain values or states and run the appropriate code\n",
    "* **repetition** - repeatedly perform some action a certain number of times"
   ]
  },
  {
   "cell_type": "markdown",
   "metadata": {},
   "source": [
    "### Python is interpreted, not compiled.\n",
    "Programming languages generally fall into one of two categories: Compiled or Interpreted. With a compiled language, code you enter is reduced to a set of machine-specific instructions before being saved as an executable file. With interpreted languages, the code is saved in the same format that you entered. Compiled programs generally run faster than interpreted ones because interpreted programs must be reduced to machine instructions at runtime. However, with an interpreted language you can do things that cannot be done in a compiled language. For example, interpreted programs can modify themselves by adding or changing functions at runtime. It is also usually easier to develop applications in an interpreted environment because you don't have to recompile your application each time you want to test a small section. (source: http://www.vanguardsw.com/dphelp4/dph00296.htm)\n",
    "<br>\n",
    "\n",
    "![image](images/python_interpreted.png)\n"
   ]
  },
  {
   "cell_type": "markdown",
   "metadata": {
    "toc-hr-collapsed": true
   },
   "source": [
    "# Setting Up Your Environment\n",
    "<a id=\"Setting_up_your_environment\"> </a>\n",
    "\n"
   ]
  },
  {
   "cell_type": "markdown",
   "metadata": {},
   "source": [
    "## Installing Anaconda\n",
    "Anaconda is a free and open-source distribution of the Python and R programming languages for scientific computing that aims to simplify package management and deployment. Package versions are managed by the package management system conda. (source: Wikipedia) The Spyder IDE is one of packages included in Anaconda.\n",
    "\n",
    "Watch a [video](https://vimeo.com/309189712)  that explains how to install Anaconda in a Windows environment.\n",
    "\n",
    "**Miniconda** provides the Python interpreter and the conda package manager. If you don't want the preinstalled packages that come with Anaconda, you can install Miniconda and install the packages you want yourself.\n"
   ]
  },
  {
   "cell_type": "markdown",
   "metadata": {},
   "source": [
    "## Start Jupyter Lab in specific directory\n",
    "\n",
    "If you wish to control the starting folder (home folder) of Jupyter Lab, then following these instructions.\n",
    "\n",
    "1. Open Anaconda Prompt\n",
    "2. Navigate to starting folder (e.g., cd G:).\n",
    "3. Type *jupyter lab* and press ENTER\n",
    "    * The Home Folder is the starting folder of the Anaconda prompt."
   ]
  },
  {
   "cell_type": "markdown",
   "metadata": {},
   "source": [
    "## Loading the TOC plugin for Jupyter Lab\n",
    "\n",
    "### Install dependencies\n",
    "1. Right-click the Anaconda prompt icon and then click Run as Administrator.\n",
    "2. In the console window, type the following commands:\n",
    "  * conda udpate conda\n",
    "  * conda install nodejs\n",
    "  * pip install npm\n",
    "  * jupyter labextension install @jupyterlab/toc\n",
    "1. Then to start Jupyter Lab, type:\n",
    "  * jupyter lab --watch\n",
    "  \n",
    "  \n",
    "  (Source: https://github.com/jupyterlab/jupyterlab-toc)"
   ]
  },
  {
   "cell_type": "markdown",
   "metadata": {},
   "source": [
    "## Choosing a Python IDE\n",
    "\n",
    "### Jupyter Notebook and Jupyter Lab\n",
    "Jupyer Notebook and Lab are the best IDEs for learning and documenting Python code. They are also a solid method to provide Python code and results to non-Python programmers. We will make extensive use of Jupyter Lab in this course.\n",
    "\n",
    "### Spyder\n",
    "Spyder is a simple IDE that is useful for learning Python. It is included with the install of Anaconda and supported in this course. You may find Spyder the best choice for completing assignments. If an automatic grading environment is being used, you may find it faster to write, debug, and test code in Spyder and then paste it into the automatic grading environment.\n",
    "\n",
    "### VS Code\n",
    "Visual Studio Code is also available with Anaconda, though it is not installed by default. VS Code is perhaps the best overall choice for an IDE, however, Spyder offers a more straightforward initial user experience for the beginner. \n",
    "\n",
    "### Sublime Text\n",
    "A highly functional and extensible text editor often used by Pythonistas.\n",
    "\n",
    "### PyCharm\n",
    "If you would like an IDE with a deep feature set, Pycharm is a good choice. They offer special licensing for academia.\n",
    "\n",
    "You are welcome to use any of these IDEs for this class. You are also welcome to use a different IDE, but we cannot support all IDEs, so if you choose an IDE besides these two, we'll give you best effort support, but you may be on your own making a different IDE work."
   ]
  },
  {
   "cell_type": "markdown",
   "metadata": {
    "toc-hr-collapsed": true
   },
   "source": [
    "# Why should a business student learn Python?\n",
    "\n",
    "### Data Analysis is Part of *Every* Job\n",
    "It's not just data scientists or data analytics that need analysis skills. Nearly every job intersects with data. It's highly likely that even if your job doesn't have \"analyst\" or \"scientst\" in the title, you'll still benefit from understanding how to acquire, handle, manipulate, and report data.\n",
    "\n",
    "> ### Deloitte: \"...skills that were highly appreciated in Deloitte and projects were Java, Python/R...\"\n",
    "\n"
   ]
  },
  {
   "cell_type": "markdown",
   "metadata": {},
   "source": [
    "## Python Coding basics\n"
   ]
  },
  {
   "cell_type": "markdown",
   "metadata": {},
   "source": [
    "### Indentation\n",
    "White space in many languages has little or no meaning. However, using Python, improper indentation will generate a syntax error:"
   ]
  },
  {
   "cell_type": "code",
   "execution_count": null,
   "metadata": {},
   "outputs": [],
   "source": [
    "# Error: statements following an if statement must be indented.\n",
    "if 4 > 1:\n",
    "print(\"4 is greater than 1\")"
   ]
  },
  {
   "cell_type": "markdown",
   "metadata": {},
   "source": [
    "### Comments\n",
    "\n",
    "Make a habit of clearly commenting your code...even if the purpose of the code seems obvious. Even for code you have written yourself, it is often difficult to remember why you chose to implement something in a specific way. \n",
    "\n",
    "Start a comment using the hash (#) symbol "
   ]
  },
  {
   "cell_type": "markdown",
   "metadata": {
    "toc-hr-collapsed": true
   },
   "source": [
    "# Variables, Expressions, and Types\n",
    "\n",
    "Python is a *dynamically typed* language. A programming language is said to be dynamically typed, or just 'dynamic', when the majority of its type checking is performed at run-time as opposed to at compile-time. \n",
    "\n",
    "Python is also *strongly typed* as the interpreter keeps track of all variables types. It's also very dynamic as it rarely uses what it knows to limit variable usage. In Python, it's the program's responsibility to use built-in functions like isinstance() and issubclass() to test variable types and correct usage. Python tries to stay out of your way while giving you all you need to implement strong type checking.\n",
    "\n",
    "The difference between a strongly typed language and a weakly typed language is basically that a strongly typed language checks the type of a variable before performing an operation on it, whereas a weakly typed language does not.\n",
    "[Source: Wiki.Python.org](https://wiki.python.org/moin/Why%20is%20Python%20a%20dynamic%20language%20and%20also%20a%20strongly%20typed%20language)"
   ]
  },
  {
   "cell_type": "code",
   "execution_count": null,
   "metadata": {},
   "outputs": [],
   "source": [
    "#Store a float in a\n",
    "a = 3.141\n",
    "print(a, type(a))\n",
    "\n",
    "#Store a list in a\n",
    "a = [\"apple\", 3.141, \"banana\"]\n",
    "print(a, type(a))"
   ]
  },
  {
   "cell_type": "code",
   "execution_count": null,
   "metadata": {},
   "outputs": [],
   "source": [
    "#Store a string in a\n",
    "a = \"apple\"\n",
    "print(a, type(a))"
   ]
  },
  {
   "cell_type": "markdown",
   "metadata": {},
   "source": [
    "## Variables in Python\n",
    "Variables store values. Variable names can be as long as you want, can contain letters and numbers, but must not begin with a number or be a Python keyword (e.g., true, for, from, lambda).\n",
    "\n",
    "> **Python is case-sensitive.** unit_cost is not the same as Unit_cost. \n",
    "\n",
    "By convention variable names are lower case and use the underscore character to separate words. \n",
    "\n",
    "earnings_after_tax <br>\n",
    "default_gateway"
   ]
  },
  {
   "cell_type": "code",
   "execution_count": null,
   "metadata": {},
   "outputs": [],
   "source": [
    "# Variables are case-sensitive --> Error\n",
    "Fruit = \"apple\"\n",
    "print(fruit)"
   ]
  },
  {
   "cell_type": "code",
   "execution_count": null,
   "metadata": {},
   "outputs": [],
   "source": [
    "# illegal -- must not start with a number\n",
    "76trombones = 0"
   ]
  },
  {
   "cell_type": "code",
   "execution_count": null,
   "metadata": {},
   "outputs": [],
   "source": [
    "although_difficult_to_use_this_is_a_valid_variable = 1"
   ]
  },
  {
   "cell_type": "markdown",
   "metadata": {},
   "source": [
    "## Using Variables to Store User Input\n",
    "\n",
    "Use variables to store input from users. To get input from the user Python provides a built-in function **input** that captures input from keyboard as a string."
   ]
  },
  {
   "cell_type": "code",
   "execution_count": null,
   "metadata": {},
   "outputs": [],
   "source": [
    "# Get card total from user and store in CardTotal \n",
    "card_total = input(\"Card total?\")\n",
    "print(\"CardTotal type is: {}\".format(type(card_total)))"
   ]
  },
  {
   "cell_type": "code",
   "execution_count": null,
   "metadata": {},
   "outputs": [],
   "source": [
    "list = [\"hi\",6,7]\n",
    "print(type(list))"
   ]
  },
  {
   "cell_type": "markdown",
   "metadata": {},
   "source": [
    "### input() function\n",
    "Used to get data from the user. Always returns a string, so you must cast if you are working with numbers."
   ]
  },
  {
   "cell_type": "code",
   "execution_count": null,
   "metadata": {},
   "outputs": [],
   "source": [
    "# Error -- CardTotal is str\n",
    "if card_total > 21:\n",
    "    print(\"Busted\")\n",
    "else:\n",
    "    print(\"Hit me\")"
   ]
  },
  {
   "cell_type": "markdown",
   "metadata": {},
   "source": [
    "### Comparison operators\n",
    "\n",
    "You are probably already familiar with the comparison operators.\n",
    "* x and y are variable names\n",
    "```Python\n",
    "x > y\n",
    "x >= y\n",
    "x < y\n",
    "x <= y\n",
    "x == y # Use double-equal to test for equality (single equal sign is for assignment), True if x is same as y\n",
    "x != y # test for inequality, True if x is different than y\n",
    "```"
   ]
  },
  {
   "cell_type": "code",
   "execution_count": null,
   "metadata": {},
   "outputs": [],
   "source": [
    "# Must cast to appropriate value type (int)\n",
    "if int(card_total) > 21:\n",
    "    print(\"Busted\")\n",
    "else:\n",
    "    print(\"Hit me\")"
   ]
  },
  {
   "cell_type": "code",
   "execution_count": null,
   "metadata": {},
   "outputs": [],
   "source": [
    "print(\"Hello\", \"how are you?\", sep=\" ---\") "
   ]
  },
  {
   "cell_type": "markdown",
   "metadata": {
    "toc-hr-collapsed": false
   },
   "source": [
    "## Basic Data Types in Python\n",
    "\n",
    "### Integers\n",
    "---\n",
    "A number with no fractional part. \n",
    "\n",
    "![image](\\images\\int-number-line.svg)\n",
    "\n",
    "#### Includes: \n",
    "* the counting numbers {1, 2, 3, ...}, \n",
    "* zero {0}, \n",
    "* and the negative of the counting numbers {-1, -2, -3, ...}\n",
    "\n",
    "We can write them all down like this: {..., -3, -2, -1, 0, 1, 2, 3, ...}\n",
    "\n",
    "Examples of integers: -16, -3, 0, 1, 198\n",
    "\n",
    "Integer size is limited only by your machine."
   ]
  },
  {
   "cell_type": "code",
   "execution_count": null,
   "metadata": {},
   "outputs": [],
   "source": [
    "bigInt = 1234568901234568901234568901234568901234564568901234568901234568901234568901234568901234568901234568900\n",
    "\n",
    "print(bigInt + 1)\n",
    "\n",
    "print(type(bigInt))"
   ]
  },
  {
   "cell_type": "markdown",
   "metadata": {},
   "source": [
    "### Float type\n",
    "* Platform dependent\n",
    "* Typically equivalent to IEEE754 64-bit C double\n",
    "* Smallest float is effectively 2.225 x 10^-308"
   ]
  },
  {
   "cell_type": "code",
   "execution_count": null,
   "metadata": {},
   "outputs": [],
   "source": [
    "type(1.0)"
   ]
  },
  {
   "cell_type": "code",
   "execution_count": null,
   "metadata": {},
   "outputs": [],
   "source": [
    "b = 2\n",
    "\n",
    "print(\"b = {} and is type {}\".format(b, type(b)))"
   ]
  },
  {
   "cell_type": "code",
   "execution_count": null,
   "metadata": {},
   "outputs": [],
   "source": [
    "b = 2 * 1.1\n",
    "\n",
    "print(\"b = {} and is type {}\".format(b, type(b)))"
   ]
  },
  {
   "cell_type": "markdown",
   "metadata": {},
   "source": [
    "### Boolean type\n",
    "---"
   ]
  },
  {
   "cell_type": "code",
   "execution_count": null,
   "metadata": {},
   "outputs": [],
   "source": [
    "is_fte = 1\n",
    "\n",
    "# Boolean values indicate True or False and must be title-case\n",
    "is_fte == True\n",
    "\n",
    "\n",
    "# Reminder: do comparisons with double = sign (x == 5)\n",
    "#    single = is assignment, let x = 5.\n",
    "is_fte == False\n"
   ]
  },
  {
   "cell_type": "code",
   "execution_count": null,
   "metadata": {},
   "outputs": [],
   "source": [
    "# Error = the boolean value must be capitalized (True, not true or TRUE)\n",
    "if is_fte = true"
   ]
  },
  {
   "cell_type": "markdown",
   "metadata": {},
   "source": [
    "#### Logic Operators on boolean values\n",
    "a and b are boolean values\n",
    "\n",
    "```Python\n",
    "not a # True if a is False, False if a is True\n",
    "a and b # Both a and b must be True for statement to be True\n",
    "a or b # Either a or b must be True for statement to be True\n",
    "```"
   ]
  },
  {
   "cell_type": "markdown",
   "metadata": {},
   "source": [
    "### String Type\n",
    "A string is a sequence of characters. \n",
    "\n",
    "Values enclosed within quotation marks (single, double, or triple-double) are strings."
   ]
  },
  {
   "cell_type": "code",
   "execution_count": null,
   "metadata": {},
   "outputs": [],
   "source": [
    "s = 'Monty Python'"
   ]
  },
  {
   "cell_type": "code",
   "execution_count": null,
   "metadata": {},
   "outputs": [],
   "source": [
    "# use len() function to get the length of a string\n",
    "print(len(s))\n",
    "\n",
    "# Print part of a string, a slice\n",
    "print(s[0:5])\n",
    "\n",
    "print(s[6])"
   ]
  },
  {
   "cell_type": "code",
   "execution_count": null,
   "metadata": {},
   "outputs": [],
   "source": [
    "# Strings are immutable (Can't change 'Python' to 'Jython')\n",
    "s[6] = \"J\""
   ]
  },
  {
   "cell_type": "markdown",
   "metadata": {},
   "source": [
    "### None type\n",
    "\n",
    "The null keyword is available in languages such as C++ and Java. Null means empty. It is not equivalent to a zero-length string nor is it equivalent to zero (0). In Python, the None type  is the keyword equivalent to Null. None (the type) is not equivalent to the string, \"None\". In my humble opinion, None is more logical than null. None means the object is nothing, non-existent. \n",
    "\n",
    "#### Why use None?\n",
    "\n",
    "When instantiating (creating) an object, you may need to check to see if the instantiation was successful or not. If the creation of the new object failed, the object will return a None type.\n",
    "\n",
    "---"
   ]
  },
  {
   "cell_type": "code",
   "execution_count": null,
   "metadata": {},
   "outputs": [],
   "source": [
    "# None is not the \"None\" string. It is a class type.\n",
    "print(None == \"None\")\n",
    "print(type(None))"
   ]
  },
  {
   "cell_type": "code",
   "execution_count": null,
   "metadata": {},
   "outputs": [],
   "source": [
    "#Source: https://www.pythoncentral.io/python-null-equivalent-none/\n",
    "database_connection = None\n",
    " \n",
    "# Try to connect (none of the variables for the connect have values...)\n",
    "try:\n",
    "    database = MyDatabase(db_host, db_user, db_password, db_database)\n",
    "    database_connection = database.connect()\n",
    "except:\n",
    "    pass\n",
    " \n",
    "if database_connection is None:\n",
    "    print('The database could not connect')\n",
    "else:\n",
    "    print('The database could connect')"
   ]
  },
  {
   "cell_type": "markdown",
   "metadata": {},
   "source": [
    "### Complex numbers\n",
    "---\n",
    "A Complex Number is a combination of a Real Number and an Imaginary Number. [1]\n",
    "\n",
    "![image](\\images\\complex-example.svg)\n",
    "\n",
    "   "
   ]
  },
  {
   "cell_type": "code",
   "execution_count": null,
   "metadata": {},
   "outputs": [],
   "source": [
    "print(\"3i is of type: \" + str(type(3j)))\n",
    "print(7 + 3j)"
   ]
  },
  {
   "cell_type": "markdown",
   "metadata": {},
   "source": [
    "   \n",
    "The \"unit\" imaginary number (like 1 for Real Numbers) is i, which is the square root of −1.   \n",
    "\n",
    "![image](\\images\\imaginary-square-root.svg)\n",
    "\n",
    "> **Except in Python, \"j\" is used instead of \"i\".**"
   ]
  },
  {
   "cell_type": "code",
   "execution_count": null,
   "metadata": {},
   "outputs": [],
   "source": [
    "1j * 1j == -1"
   ]
  },
  {
   "cell_type": "markdown",
   "metadata": {},
   "source": [
    "## Converting values between types\n",
    "\n",
    "Often you may need to convert from values from one type to another. For example, you may need to convert the values received from the input() function from string to an int or a float."
   ]
  },
  {
   "cell_type": "code",
   "execution_count": null,
   "metadata": {},
   "outputs": [],
   "source": [
    "user_number = input(\"Enter a number and I'll tell you if it is even or odd:\\n\")\n",
    "print(type(int(user_number)))\n"
   ]
  },
  {
   "cell_type": "markdown",
   "metadata": {},
   "source": [
    "## Mandelbrot set\n",
    "What exactly is a Mandelbrot set?\n",
    "The term Mandelbrot set is used to refer both to a general class of fractal sets and to a particular instance of such a set. In general, a Mandelbrot set marks the set of points in the complex plane such that the corresponding Julia set is connected and not computable. (source: mathworld.wolfram.net)\n",
    "\n",
    "![image](\\images\\220px-Mandelbrot_sequence_new.gif)"
   ]
  },
  {
   "cell_type": "code",
   "execution_count": null,
   "metadata": {},
   "outputs": [],
   "source": [
    "#Source: https://gist.github.com/jfpuget/60e07a82dece69b011bb -- Jean-François Puget¶\n",
    "\n",
    "import numpy as np\n",
    "from matplotlib import pyplot as plt\n",
    "from matplotlib import colors\n",
    "%matplotlib inline \n",
    "\n",
    "\n",
    "def mandelbrot_image(xmin,xmax,ymin,ymax,width=12,height=12,maxiter=80,cmap='hot'):\n",
    "    dpi = 72\n",
    "    img_width = dpi * width\n",
    "    img_height = dpi * height\n",
    "    x,y,z = mandelbrot_set(xmin,xmax,ymin,ymax,img_width,img_height,maxiter)\n",
    "    \n",
    "    fig, ax = plt.subplots(figsize=(width, height),dpi=72)\n",
    "    ticks = np.arange(0,img_width,3*dpi)\n",
    "    x_ticks = xmin + (xmax-xmin)*ticks/img_width\n",
    "    plt.xticks(ticks, x_ticks)\n",
    "    y_ticks = ymin + (ymax-ymin)*ticks/img_width\n",
    "    plt.yticks(ticks, y_ticks)\n",
    "    \n",
    "    norm = colors.PowerNorm(0.3)\n",
    "    ax.imshow(z.T,cmap=cmap,origin='lower',norm=norm)\n",
    "    \n",
    "def mandelbrot(c,maxiter):\n",
    "    z = c\n",
    "    for n in range(maxiter):\n",
    "        if abs(z) > 2:\n",
    "            return n\n",
    "        z = z*z + c\n",
    "    return 0\n",
    "\n",
    "def mandelbrot_set(xmin,xmax,ymin,ymax,width,height,maxiter):\n",
    "    r1 = np.linspace(xmin, xmax, width)\n",
    "    r2 = np.linspace(ymin, ymax, height)\n",
    "    n3 = np.empty((width,height))\n",
    "    for i in range(width):\n",
    "        for j in range(height):\n",
    "            n3[i,j] = mandelbrot(r1[i] + 1j*r2[j],maxiter)\n",
    "    return (r1,r2,n3)\n",
    "\n",
    "mandelbrot_image(-2.0,0.5,-1.25,1.25,maxiter=80,cmap='gnuplot2')"
   ]
  },
  {
   "cell_type": "markdown",
   "metadata": {},
   "source": [
    "## Order of Operations\n",
    "<a id=\"Setting_up_your_environment\"> </a>\n",
    "\n",
    "The order of evaluation of expressions with more than one operator follows *rules of precedence* -- PEMDAS\n",
    "\n",
    "* **Parentheses**\n",
    "* **Exponentiation**\n",
    "* **Multiplication and Division**\n",
    "* **Addition and Subraction**\n",
    "* **Left to Right** - operators with the same precedence are evaluated left to right"
   ]
  },
  {
   "cell_type": "code",
   "execution_count": null,
   "metadata": {},
   "outputs": [],
   "source": [
    "# Exponentiation, then Multiplication\n",
    "3*1**3"
   ]
  },
  {
   "cell_type": "markdown",
   "metadata": {
    "toc-hr-collapsed": true
   },
   "source": [
    "## Modulus operator\n",
    "<a id=\"modulus_operator\"> </a>\n",
    "\n",
    "In computing, the modulo operation finds the remainder after division of one number by another (sometimes called modulus). Given two positive numbers, a (the dividend) and n (the divisor), a modulo n (abbreviated as a mod n) is the remainder of the Euclidean division of a by n.\n"
   ]
  },
  {
   "cell_type": "code",
   "execution_count": null,
   "metadata": {},
   "outputs": [],
   "source": [
    "# Divide 7 by 3\n",
    "7/3"
   ]
  },
  {
   "cell_type": "code",
   "execution_count": null,
   "metadata": {},
   "outputs": [],
   "source": [
    "# Return the quotient\n",
    "7//3"
   ]
  },
  {
   "cell_type": "code",
   "execution_count": null,
   "metadata": {},
   "outputs": [],
   "source": [
    "# Return the remainder\n",
    "7 % 3"
   ]
  },
  {
   "cell_type": "markdown",
   "metadata": {
    "toc-hr-collapsed": true
   },
   "source": [
    "## Assignment vs. Comparison\n",
    "---\n",
    "### In Python, assignment of a value to a variable is accomplished using a single equal sign.  \n"
   ]
  },
  {
   "cell_type": "code",
   "execution_count": null,
   "metadata": {},
   "outputs": [],
   "source": [
    "x = 7\n",
    "print(x)\n",
    "x = 1000\n",
    "print(x)"
   ]
  },
  {
   "cell_type": "markdown",
   "metadata": {
    "toc-hr-collapsed": true
   },
   "source": [
    "### Comparison is performed using a double equal sign."
   ]
  },
  {
   "cell_type": "code",
   "execution_count": null,
   "metadata": {},
   "outputs": [],
   "source": [
    "# Must use a double equal sign to compare values\n",
    "if x == 7:\n",
    "    print(\"Lucky Seven\")\n",
    "else:\n",
    "    print(\"You lose!\")"
   ]
  },
  {
   "cell_type": "code",
   "execution_count": null,
   "metadata": {},
   "outputs": [],
   "source": [
    "# Error when adding string and integer\n",
    "userinput = \"5\"\n",
    "\n",
    "sum = 7 + int(userinput)\n",
    "print(sum)"
   ]
  },
  {
   "cell_type": "code",
   "execution_count": null,
   "metadata": {},
   "outputs": [],
   "source": [
    "sum = 7 + int(userinput)\n",
    "print(\"sum = {}\".format(sum))"
   ]
  },
  {
   "cell_type": "markdown",
   "metadata": {},
   "source": [
    "## Variable Scope"
   ]
  },
  {
   "cell_type": "markdown",
   "metadata": {},
   "source": [
    "Style guide - http://www.voidspace.org.uk/python/articles/python_style_guide.shtml\n"
   ]
  },
  {
   "cell_type": "markdown",
   "metadata": {},
   "source": [
    "[1]: Source: https://www.mathsisfun.com"
   ]
  },
  {
   "cell_type": "markdown",
   "metadata": {
    "toc-hr-collapsed": true
   },
   "source": [
    "# Conditional Execution\n",
    "\n",
    "In Python, use the if statement to perform decision-making by allowing conditional execution of a statement or group of statements based on the value of an expression.\n",
    "\n",
    "Remember that Python requires indentation to designate the start and end of code blocks. \n",
    "\n",
    "<condition> has a value of True or False\n",
    "\n",
    "```Python\n",
    "if <condition>:\n",
    "    <expression>\n",
    "    <expression>\n",
    "```    \n"
   ]
  },
  {
   "cell_type": "code",
   "execution_count": null,
   "metadata": {},
   "outputs": [],
   "source": [
    "CardTotal = 18\n",
    "if CardTotal > 21:\n",
    "    print(\"busted!\")\n",
    "deal_again = input(\"deal again?\")"
   ]
  },
  {
   "cell_type": "code",
   "execution_count": null,
   "metadata": {},
   "outputs": [],
   "source": []
  },
  {
   "cell_type": "code",
   "execution_count": null,
   "metadata": {},
   "outputs": [],
   "source": [
    "if element is None:\n",
    "    continue"
   ]
  },
  {
   "cell_type": "markdown",
   "metadata": {},
   "source": [
    "You can use an if statement to execute a set of statements based on whether the value of a variable is even or odd.\n",
    "\n",
    "![image](\\images\\if-then-elselogic.jpg)\n",
    "\n",
    "The basic if statement form:\n",
    "\n",
    "if expr: <br>\n",
    "    ''statement''"
   ]
  },
  {
   "cell_type": "code",
   "execution_count": null,
   "metadata": {},
   "outputs": [],
   "source": [
    "x = 9\n",
    "\n",
    "if x%2 == 0:\n",
    "    print('x is even')\n",
    "else:\n",
    "    print('x is odd')"
   ]
  },
  {
   "cell_type": "markdown",
   "metadata": {},
   "source": [
    "## Conditionals with multiple expressions\n"
   ]
  },
  {
   "cell_type": "code",
   "execution_count": null,
   "metadata": {},
   "outputs": [],
   "source": [
    "shave = True\n",
    "haircut = False\n",
    "\n",
    "if shave and haircut:\n",
    "    print(\"You know the secret knock!\")\n",
    "else:\n",
    "    print(\"You're not one of us.\")"
   ]
  },
  {
   "cell_type": "code",
   "execution_count": null,
   "metadata": {},
   "outputs": [],
   "source": [
    "shave = False\n",
    "haircut = False\n",
    "\n",
    "if shave or haircut:\n",
    "    print(\"You know the secret knock!\")\n",
    "else:\n",
    "    print(\"You're not one of us.\")"
   ]
  },
  {
   "cell_type": "code",
   "execution_count": null,
   "metadata": {},
   "outputs": [],
   "source": [
    "#BOTH statements must be true to satisfy the statement and print True\n",
    "if 1 < 10 and -2 > -7:\n",
    "    print(True)\n",
    "else:\n",
    "    print(False)"
   ]
  },
  {
   "cell_type": "code",
   "execution_count": null,
   "metadata": {},
   "outputs": [],
   "source": [
    "#Only ONE expressopm must be true to satisfy the statement and print True\n",
    "if 100 < 10 or -2 > -7:\n",
    "    print(True)\n",
    "else:\n",
    "    print(False)"
   ]
  },
  {
   "cell_type": "markdown",
   "metadata": {},
   "source": [
    "## Chained Conditionals\n",
    "\n",
    "If more then two possibilities exist, one way to programmatically express this is using elif."
   ]
  },
  {
   "cell_type": "code",
   "execution_count": null,
   "metadata": {},
   "outputs": [],
   "source": [
    "x = 2\n",
    "y = 3\n",
    "\n",
    "if x > y:\n",
    "    print(\"x is greater than y\")\n",
    "elif y > x:\n",
    "    print(\"y is greater than x\")\n",
    "else:\n",
    "    print(\"x and y are equal\")"
   ]
  },
  {
   "cell_type": "markdown",
   "metadata": {
    "toc-hr-collapsed": false
   },
   "source": [
    "## Nested Conditionals\n",
    "\n",
    "You can also nest one conditional inside another conditional. Consider the previous example:"
   ]
  },
  {
   "cell_type": "code",
   "execution_count": null,
   "metadata": {},
   "outputs": [],
   "source": [
    "if x == y:\n",
    "    print(\"x and y are equal\")\n",
    "else:\n",
    "    if x < y:\n",
    "        print(\"x is less than y\")\n",
    "    else:\n",
    "        print(\"x is greater than y\")"
   ]
  },
  {
   "cell_type": "markdown",
   "metadata": {},
   "source": [
    "> ### No Switch or Select Statement in Python\n",
    "> In some cases a dictionary structure could be useful to replace a switch statement. "
   ]
  },
  {
   "cell_type": "markdown",
   "metadata": {},
   "source": [
    "## Grouping comparison operators\n",
    "Comparison operators can be grouped."
   ]
  },
  {
   "cell_type": "code",
   "execution_count": null,
   "metadata": {},
   "outputs": [],
   "source": [
    "x = 111\n",
    "if 0 < x < 10:\n",
    "    print(\"x is a positive single-digit number\")\n",
    "elif x < 0:\n",
    "    print(\"x is a negative number\")\n",
    "elif x >= 10:\n",
    "    print(\"x is a positive two-digit number\")"
   ]
  },
  {
   "cell_type": "code",
   "execution_count": null,
   "metadata": {},
   "outputs": [],
   "source": [
    "x = 1\n",
    "y = 2\n",
    "z = 6\n",
    "\n",
    "# The entire expression must be true to print values\n",
    "if x < y < z: print(x); print(y); print(z)"
   ]
  },
  {
   "cell_type": "markdown",
   "metadata": {},
   "source": [
    "## Catching exceptions using try and except\n",
    "\n",
    "Robust programs anticipate and gracefully handle unexpected situations and errors. For example, when asking a user to input a number, a robust program gracefully handles unexpected or erroneous input. Another examples include attempting to open a file or connect to a database."
   ]
  },
  {
   "cell_type": "code",
   "execution_count": null,
   "metadata": {},
   "outputs": [],
   "source": [
    "#Source: https://www.pythoncentral.io/python-null-equivalent-none/\n",
    "database_connection = None\n",
    " \n",
    "# Try to connect (none of the variables for the connect have values...)\n",
    "try:\n",
    "    database = MyDatabase(db_host, db_user, db_password, db_database)\n",
    "    database_connection = database.connect()\n",
    "except:\n",
    "    print(\"no db connection\")\n",
    "    pass\n",
    " \n",
    "if database_connection is None:\n",
    "    print('The database could not connect')\n",
    "else:\n",
    "    print('The database could connect')"
   ]
  },
  {
   "cell_type": "markdown",
   "metadata": {},
   "source": [
    "## Operators and Operands\n",
    "<a id=\"operators_and_operands\"> </a>\n",
    "Operators are special symbols that represent computations like addition and multiplication. The values the operator is applied to are called operands.\n",
    "The operators +, -, *, /, and ** perform addition, subtraction, multiplication, division, and exponentiation, as in the following examples:\n"
   ]
  },
  {
   "cell_type": "code",
   "execution_count": null,
   "metadata": {},
   "outputs": [],
   "source": [
    "#Addition and subtraction\n",
    "20+33-10"
   ]
  },
  {
   "cell_type": "code",
   "execution_count": null,
   "metadata": {},
   "outputs": [],
   "source": [
    "# Five squared\n",
    "5**2"
   ]
  },
  {
   "cell_type": "code",
   "execution_count": null,
   "metadata": {},
   "outputs": [],
   "source": [
    "# Multiplication\n",
    "(3+2)*(9+2)"
   ]
  },
  {
   "cell_type": "code",
   "execution_count": null,
   "metadata": {},
   "outputs": [],
   "source": [
    "# Division\n",
    "100/25"
   ]
  },
  {
   "cell_type": "markdown",
   "metadata": {
    "toc-hr-collapsed": true
   },
   "source": [
    "# Iteration\n",
    "Computers are very good and doing repetitive tasks. You will use iteration for many operations in Python. For example, you may loop through records in a database or examine lines in text file. \n",
    "\n",
    "Two methods for iterating are the While statement and the For loop. "
   ]
  },
  {
   "cell_type": "markdown",
   "metadata": {},
   "source": [
    "## While statement\n",
    "\n",
    "Computers are well-suited to repeat operations very quickly. Use the While statement to repeat a series of steps until a condition is met. Use when the number of iterations is not known.\n",
    "\n",
    "```Python\n",
    "while <condition>:\n",
    "    <expression>\n",
    "    <expression>\n",
    "    ...\n",
    "```"
   ]
  },
  {
   "cell_type": "code",
   "execution_count": null,
   "metadata": {},
   "outputs": [],
   "source": [
    "n = 0\n",
    "while n < 7:\n",
    "    print(\"day \" + str(n))\n",
    "    n = n + 1"
   ]
  },
  {
   "cell_type": "markdown",
   "metadata": {
    "toc-hr-collapsed": true
   },
   "source": [
    "## For Loop\n",
    "Use the For Loop when you have a specific number of iterations or you are iterating through a collection of items (e.g., lines in a text file).\n",
    "\n",
    "```Python\n",
    "for <variable> in range(<value>):\n",
    "    <expression>\n",
    "    <expression>\n",
    "    ...\n",
    "```\n",
    "\n",
    "* On first loop, <variable> starts with smallest value\n",
    "* On each loop, <variable> is incremented (or decremented if negative step)\n",
    "* At <value> - 1, loop is complete"
   ]
  },
  {
   "cell_type": "markdown",
   "metadata": {},
   "source": [
    "### Range Function\n",
    "\n",
    "```Python\n",
    "range(start, stop, step)\n",
    "```\n",
    "Default values: start = 0, step = 1\n",
    "\n",
    "Range increments until value is stop - 1."
   ]
  },
  {
   "cell_type": "code",
   "execution_count": null,
   "metadata": {},
   "outputs": [],
   "source": [
    "# Range function (see \"Functions\" section for more information about functions)\n",
    "# range(start_value, end_value, step_value)\n",
    "\n",
    "for x in range(0,11,1):\n",
    "    print(x, end=\" \")"
   ]
  },
  {
   "cell_type": "code",
   "execution_count": null,
   "metadata": {},
   "outputs": [],
   "source": [
    "# To count down, set the step value to negative.\n",
    "for x in range(10,0,-1):\n",
    "    print(x, end=\" \")"
   ]
  },
  {
   "cell_type": "markdown",
   "metadata": {},
   "source": [
    "A counter variable can be used in either the For Loop or the While loop, but the counter variable must be initialized prior to its use."
   ]
  },
  {
   "cell_type": "code",
   "execution_count": null,
   "metadata": {},
   "outputs": [],
   "source": [
    "# Initialze a counter variable, z.\n",
    "z = 0\n",
    "\n",
    "#Loop ten times (1 through 10)\n",
    "for y in range(1,11):\n",
    "\n",
    "    #Increment z by 1 during each loop. \n",
    "    z += 1 # This is shorthand for z = z + 1\n",
    "    \n",
    "    print(z)"
   ]
  },
  {
   "cell_type": "code",
   "execution_count": null,
   "metadata": {},
   "outputs": [],
   "source": [
    "print(\"\\'\")"
   ]
  },
  {
   "cell_type": "code",
   "execution_count": null,
   "metadata": {},
   "outputs": [],
   "source": [
    "import os\n",
    "\n",
    "directory = \"c:\\\\\"\n",
    "\n",
    "files = os.listdir(directory)\n",
    "\n",
    "for file in files:\n",
    "    if file\n"
   ]
  },
  {
   "cell_type": "markdown",
   "metadata": {},
   "source": [
    "## break statement\n",
    "Use the Break statement to exit a loop. Break exits the current loop, so if you have a nested loop and wish to exit both, you'll need to provide two break statements, one for each loop."
   ]
  },
  {
   "cell_type": "code",
   "execution_count": null,
   "metadata": {},
   "outputs": [],
   "source": [
    "my_counter = 0\n",
    "\n",
    "for i in range(5,17,2):\n",
    "    my_counter += 1 # my_counter = my_counter + 1\n",
    "    if my_counter == 5:\n",
    "        break\n",
    "        my_counter +=1\n",
    "print(my_counter, i)"
   ]
  },
  {
   "cell_type": "markdown",
   "metadata": {
    "toc-hr-collapsed": true
   },
   "source": [
    "# Functions\n",
    "A function is a discrete set of instructions typically designed to receive one or more values and return a value. A function call receives values called \"arguments\" and it \"returns\" a value. "
   ]
  },
  {
   "cell_type": "markdown",
   "metadata": {},
   "source": [
    "## Built-in functions\n",
    "The print() function takes an argument and sends output to the console.\n",
    "\n",
    "The type() function takes a value or object and returns its type."
   ]
  },
  {
   "cell_type": "code",
   "execution_count": null,
   "metadata": {},
   "outputs": [],
   "source": [
    "# Print and Type functions \n",
    "\n",
    "print(type(3.141))"
   ]
  },
  {
   "cell_type": "code",
   "execution_count": null,
   "metadata": {},
   "outputs": [],
   "source": [
    "# Print the highest value letter\n",
    "print(max(\"Hello world\"))\n",
    "print(f\"w= {ord('w')}\")\n",
    "print(f\"o= {ord('o')}\")\n"
   ]
  },
  {
   "cell_type": "code",
   "execution_count": null,
   "metadata": {},
   "outputs": [],
   "source": [
    "# Display the lowest value\n",
    "min(\"Hello world\")"
   ]
  },
  {
   "cell_type": "code",
   "execution_count": null,
   "metadata": {},
   "outputs": [],
   "source": [
    "#Display the number of characters\n",
    "len('Hello world')"
   ]
  },
  {
   "cell_type": "markdown",
   "metadata": {},
   "source": [
    "## Type Converstion Functions\n",
    "\n",
    "Python includes functions to convert values from one data type to another. \n",
    "\n",
    "For example, when requesting a number value from a user you may need to convert the resulting string input to an number type such as int."
   ]
  },
  {
   "cell_type": "code",
   "execution_count": null,
   "metadata": {},
   "outputs": [],
   "source": [
    "# Input values are strings. Convert strings to appropriate number type, if necessary.\n",
    "# Enter decimal value....error.\n",
    "\n",
    "tirepressure = int(input(\"Input current tire pressure:\"))\n",
    "\n",
    "if tirepressure < 32:\n",
    "    print(\"Add air to tire.\")\n",
    "else:\n",
    "    print(f\"At {tirepressure} psi the tire does not require additional air pressure.\")"
   ]
  },
  {
   "cell_type": "markdown",
   "metadata": {
    "toc-hr-collapsed": false
   },
   "source": [
    "## Misc Functions\n",
    "Below are common functions and explanations of how they work and when you might use them."
   ]
  },
  {
   "cell_type": "markdown",
   "metadata": {},
   "source": [
    "### Generating random numbers\n",
    "To generate random numbers, use the random module. Note that this module is not designed for cryptographic use. "
   ]
  },
  {
   "cell_type": "code",
   "execution_count": null,
   "metadata": {},
   "outputs": [],
   "source": [
    "import random\n",
    "\n",
    "# Print 10 numbers between 1 and 100 (inclusive)\n",
    "for x in range(10):\n",
    "  print(x,random.randint(1,101))"
   ]
  },
  {
   "cell_type": "markdown",
   "metadata": {},
   "source": [
    "## Creating your own Functions\n",
    "Use the def keyword to define custom functions. Empty parentheses following the function name indicate the function takes no arguments."
   ]
  },
  {
   "cell_type": "code",
   "execution_count": null,
   "metadata": {},
   "outputs": [],
   "source": [
    "def print_lyrics():\n",
    "    \"\"\" Prints lumberjack lyrics. How cool! \"\"\"\n",
    "    print(\"I'm a lumberjack and I'm okay.\")\n",
    "    \n",
    "def repeat_lyrics():\n",
    "    print_lyrics()\n",
    "    print_lyrics()\n",
    "    \n",
    "repeat_lyrics()"
   ]
  },
  {
   "cell_type": "markdown",
   "metadata": {},
   "source": [
    "## Docstrings\n",
    "Docstrings (documentation strings) provide a helpful and convenient method of\n",
    "displaying documentation with Python modules, functions, classes, and methods. \n",
    "\n",
    "An object's docsting is defined by including a string constant as the first\n",
    "statement in the object's definition and can be viewed by calling help(function)."
   ]
  },
  {
   "cell_type": "code",
   "execution_count": null,
   "metadata": {},
   "outputs": [],
   "source": [
    "help(print_lyrics)"
   ]
  },
  {
   "cell_type": "markdown",
   "metadata": {
    "toc-hr-collapsed": true
   },
   "source": [
    "## Passing values\n",
    "Functions defined with arguments accept values. "
   ]
  },
  {
   "cell_type": "code",
   "execution_count": null,
   "metadata": {},
   "outputs": [],
   "source": [
    "def print_stuff(mystuff):\n",
    "    \"\"\" Prints the string passed to it. \"\"\"\n",
    "    print(mystuff)\n",
    "    \n",
    "newstuff = \"really cool stuff\"\n",
    "print_stuff(newstuff)"
   ]
  },
  {
   "cell_type": "markdown",
   "metadata": {},
   "source": [
    "### Optional arguments\n",
    "The parameter in the previous function is required. Attempting to run the function without the parameter results in an error.\n",
    "\n",
    "In addition to required positional arguments, Python allows optional arguments. All required positional arguments must precede optional arguments."
   ]
  },
  {
   "cell_type": "code",
   "execution_count": null,
   "metadata": {},
   "outputs": [],
   "source": [
    "# Optional arguments\n",
    "def print_stuff(my_stuff=\"no stuff\"):\n",
    "    print(my_stuff)\n",
    "    \n",
    "print_stuff()\n",
    "print_stuff(\"goodwill stuff\")"
   ]
  },
  {
   "cell_type": "code",
   "execution_count": null,
   "metadata": {},
   "outputs": [],
   "source": [
    "# Function using keyword and default arguments\n",
    "def calc_tip(amount, percentage = .15):\n",
    "    \"\"\" Calculate a tip based on an amount. 15% is default. \"\"\"\n",
    "    tip = amount * percentage\n",
    "    return tip\n",
    "\n",
    "print(calc_tip(10))\n",
    "\n",
    "print(calc_tip(10, percentage = .25))"
   ]
  },
  {
   "cell_type": "markdown",
   "metadata": {},
   "source": [
    "### Variable number of parameters\n",
    "The \\* symbol (by convention \\*args) enables a variable number of positional arguments to be passed to a function. \n",
    "\n",
    "The \\*\\* symbol (by convention \\*\\*kwargs) enables a variable number of keyword arguments to be passed to a function."
   ]
  },
  {
   "cell_type": "code",
   "execution_count": null,
   "metadata": {},
   "outputs": [],
   "source": [
    "# Passing a variable number of parameters\n",
    "def print_stuff(*args, **kwargs):\n",
    "    print(args)\n",
    "    print(kwargs)\n",
    "    \n",
    "print_stuff(\"pellets\")\n",
    "print_stuff(\"puppy food\",\"carpet cleaner\",default_currency=\"USD\")"
   ]
  },
  {
   "cell_type": "markdown",
   "metadata": {},
   "source": [
    "## Accessing functions in modules\n",
    "\n",
    "One of the strengths of the Python language is the large number of modules available to it. To add functionality to your program, you make modules available using the import keyword. Below we import the math module and the random module.\n"
   ]
  },
  {
   "cell_type": "code",
   "execution_count": null,
   "metadata": {},
   "outputs": [],
   "source": [
    "# Get colume of a sphere using radius (r)\n",
    "\n",
    "import math\n",
    "\n",
    "def get_sphere_volume(r):\n",
    "    \"\"\"Returns volume of a sphere given the radius (r).\"\"\"\n",
    "    \n",
    "    #Use the pi constant from the math module \n",
    "    volume = (4/3) * math.pi * r**3\n",
    "    return volume\n",
    "\n",
    "#Call the function to find the volume of a sphere with a radius of 2.\n",
    "get_sphere_volume(2)"
   ]
  },
  {
   "cell_type": "markdown",
   "metadata": {},
   "source": [
    "## What is the Dot Operator?\n",
    "Just about everything in Python is an object. The dot operator enables you to access attributes (statements) and methods (function) associated with the object. \n",
    "\n",
    "Press <TAB> after a dot to see a list of methods and properties associated with the object.\n",
    "\n",
    "In the following code, a dot operator is used to access the pi property of the math object:\n",
    "```Python\n",
    "<a_python_object.do_something()>\n",
    "- or -\n",
    "<a_python_object.access_an_attribute>\n",
    "\n",
    "# Attribute example:\n",
    "volume = (4/3) * math.pi * r**3\n",
    "\n",
    "# Method example:\n",
    "print(\"Hello\".upper())\n",
    "```"
   ]
  },
  {
   "cell_type": "code",
   "execution_count": null,
   "metadata": {},
   "outputs": [],
   "source": [
    "# Using the upper() method on a string via the dot operator\n",
    "print(\"Hello\".upper())"
   ]
  },
  {
   "cell_type": "code",
   "execution_count": null,
   "metadata": {},
   "outputs": [],
   "source": [
    "#What other functions are available in the math module? Use the dir() function to list a directory of math attributes.\n",
    "dir(math)"
   ]
  },
  {
   "cell_type": "markdown",
   "metadata": {},
   "source": [
    "## Void and Return Functions\n",
    "PY4E calls functions that return values \"fruitful.\" Functions that do not return values are void functions."
   ]
  },
  {
   "cell_type": "code",
   "execution_count": null,
   "metadata": {},
   "outputs": [],
   "source": [
    "def addtwo(a,b):\n",
    "    \"\"\" Returns the sum of two numbers.\"\"\"\n",
    "    added = a + b\n",
    "    return added\n",
    "\n",
    "x = addtwo(7,6)\n",
    "print(x)"
   ]
  },
  {
   "cell_type": "code",
   "execution_count": null,
   "metadata": {},
   "outputs": [],
   "source": [
    "help(addtwo)"
   ]
  },
  {
   "cell_type": "markdown",
   "metadata": {},
   "source": [
    "## Currency and date formatting\n",
    "Because currency and date formats vary by locale, a recommended way of formatting currency and dates is to use the locale module. This module accesses the locale of your current system and applies it to format values."
   ]
  },
  {
   "cell_type": "code",
   "execution_count": null,
   "metadata": {},
   "outputs": [],
   "source": [
    "import locale\n",
    "import datetime\n",
    "\n",
    "#Sets locale for all categories to the user's default setting\n",
    "locale.setlocale(locale.LC_ALL, '')\n",
    "\n",
    "#To add commas, set grouping = True\n",
    "print(locale.currency(100000.55977, grouping=True))\n",
    "\n",
    "today = datetime.date.today()\n",
    "print(today)"
   ]
  },
  {
   "cell_type": "code",
   "execution_count": null,
   "metadata": {},
   "outputs": [],
   "source": [
    "dir(datetime)"
   ]
  },
  {
   "cell_type": "code",
   "execution_count": null,
   "metadata": {},
   "outputs": [],
   "source": [
    "#Source: https://www.programiz.com/python-programming/datetime#datetime\n",
    "now = datetime.datetime.now() # current date and time\n",
    "\n",
    "year = now.strftime(\"%Y\")\n",
    "print(\"year:\", year)\n",
    "\n",
    "month = now.strftime(\"%m\")\n",
    "print(\"month:\", month)\n",
    "\n",
    "day = now.strftime(\"%d\")\n",
    "print(\"day:\", day)\n",
    "\n",
    "time = now.strftime(\"%H:%M:%S\")\n",
    "print(\"time:\", time)\n",
    "\n",
    "date_time = now.strftime(\"%m/%d/%Y, %H:%M:%S\")\n",
    "print(\"date and time:\",date_time)\t"
   ]
  },
  {
   "cell_type": "code",
   "execution_count": null,
   "metadata": {},
   "outputs": [],
   "source": [
    "#Source: https://www.programiz.com/python-programming/datetime#datetime\n",
    "\n",
    "from datetime import datetime, date\n",
    "\n",
    "t1 = date(year = 2018, month = 7, day = 12)\n",
    "t2 = date(year = 2017, month = 12, day = 23)\n",
    "t3 = t1 - t2\n",
    "print(\"t3 =\", t3)\n",
    "\n",
    "t4 = datetime(year = 2019, month = 1, day = 12, hour = 7, minute = 9, second = 33)\n",
    "t5 = datetime(year = 2019, month = 12, day = 25, hour = 5, minute = 55, second = 13)\n",
    "t6 = t5 - t4\n",
    "print(\"t6 =\", t6)\n",
    "\n",
    "print(\"type of t3 =\", type(t3)) \n",
    "print(\"type of t6 =\", type(t6))"
   ]
  },
  {
   "cell_type": "markdown",
   "metadata": {
    "toc-hr-collapsed": true
   },
   "source": [
    "# Data Structures\n",
    "sources: (W3Schools, RealPython.com)\n",
    "\n",
    "## What's a data structure?\n",
    "As its name implies, a data structure is a containerthat holds data. Just like some post office boxes hold packages and others hold letters, Python's built-in data structures have different purposes and uses. Use data structures to organize and perform operations on data. Python has the following built-in data structures: Lists, Dictionaries, Sets, and Tuples. Each container has different attributes and is used for a different purpose.\n",
    "\n",
    "<img src=\"images/post_office_boxes.jpg\" align=\"middle\">\n"
   ]
  },
  {
   "cell_type": "markdown",
   "metadata": {},
   "source": [
    "## Comparing Built-in Data Structures\n",
    "Below is a comparsion of four built-in data structures in Python. \n",
    "\n",
    "![](images/Structures.jpg)"
   ]
  },
  {
   "cell_type": "markdown",
   "metadata": {},
   "source": [
    "## Tuples\n",
    "What is the proper pronunication of \"tuple\"? Answer: either TEW-pull or Tupple (like the 'u' sound in pup). \n",
    "\n",
    "* Ordered sequence of elements\n",
    "* Tuples are immutable\n",
    "* Parentheses denote a tuple"
   ]
  },
  {
   "cell_type": "code",
   "execution_count": null,
   "metadata": {},
   "outputs": [],
   "source": [
    "# Create an empty tuple\n",
    "\n",
    "t = ()\n",
    "t = (4, \"hello\", True, 3.1)\n",
    "print(t[1])"
   ]
  },
  {
   "cell_type": "code",
   "execution_count": null,
   "metadata": {},
   "outputs": [],
   "source": [
    "# Concatenation with a tuple\n",
    "\n",
    "print(t)\n",
    "print(\"Concatenate '7'\")\n",
    "print((t) + (7,)) # Note the comma--the comma tells Python that this is a tuple and not an int"
   ]
  },
  {
   "cell_type": "code",
   "execution_count": null,
   "metadata": {},
   "outputs": [],
   "source": [
    "# Iterating a tuple\n",
    "for v in t:\n",
    "    print(v)"
   ]
  },
  {
   "cell_type": "code",
   "execution_count": null,
   "metadata": {},
   "outputs": [],
   "source": [
    "# zip function example\n",
    "\n",
    "s = ' abc'\n",
    "t = [0, 1, 2] \n",
    "zip(s, t)\n",
    "for pair in zip(s, t):\n",
    "    print(pair)"
   ]
  },
  {
   "cell_type": "code",
   "execution_count": null,
   "metadata": {},
   "outputs": [],
   "source": [
    "def tip_options(amount):\n",
    "    # Use a tuple to return more than one value\n",
    "    return(amount, amount*1.10, amount*1.15, amount*1.2)\n",
    "\n",
    "print(tip_options(30))\n",
    "print(type(tip_options(30)))"
   ]
  },
  {
   "cell_type": "code",
   "execution_count": null,
   "metadata": {},
   "outputs": [],
   "source": [
    "# Use a tuple to swap values\n",
    "y = 5\n",
    "x = 10\n",
    "print('x =', x, 'y =', y)\n",
    "(x, y) = (y, x)\n",
    "print('x =', x, 'y =', y)"
   ]
  },
  {
   "cell_type": "markdown",
   "metadata": {
    "toc-hr-collapsed": false
   },
   "source": [
    "## Lists\n",
    "\n",
    "A list is an ordered sequence of *items*. Lists are similar to arrays in other languages. One difference is that Lists can contain different types of data."
   ]
  },
  {
   "cell_type": "markdown",
   "metadata": {},
   "source": [
    "### Creating Lists\n",
    " \n",
    "Lists are created using several methods."
   ]
  },
  {
   "cell_type": "code",
   "execution_count": null,
   "metadata": {},
   "outputs": [],
   "source": [
    "#Use square brackets to make list\n",
    "\n",
    "my_list = [] # an empty list\n",
    "\n",
    "cities = [\"Dallas\",\"Chicago\",\"Miami\",\"Grand Rapids\" ]\n",
    "print(cities,\" is of type \", type(cities))\n",
    "\n",
    "#Ordered -- accessible via index\n",
    "print(cities[2])\n",
    "\n",
    "# Lists are not limited to containing only values of a single type\n",
    "# A list may contain objects such as another list \n",
    "my_list = [True, 0, \"Greg Bott\", 3.14159, [\"steak\",\"eggs\",\"donuts\"]]"
   ]
  },
  {
   "cell_type": "markdown",
   "metadata": {},
   "source": [
    "### Converting Lists to Strings and Back"
   ]
  },
  {
   "cell_type": "code",
   "execution_count": null,
   "metadata": {},
   "outputs": [],
   "source": [
    "states = \"Missouri, Alabama, Texas, Washington, Florida\"\n",
    "print(\"States is of \", type(states))\n",
    "\n",
    "states = states.split(\",\")\n",
    "print(states, \"this is of\",type(states))\n",
    "\n",
    "states = ','.join(states)\n",
    "print(states, \"this is of\",type(states))"
   ]
  },
  {
   "cell_type": "code",
   "execution_count": null,
   "metadata": {},
   "outputs": [],
   "source": [
    "# Another split() example.\n",
    "\n",
    "addr = 'monty@python.org'\n",
    "uname, domain = addr.split('@')\n",
    "split_email = addr.split('@' )\n",
    "print(f\"user name = {uname}\")\n",
    "print(f\"domain name = {domain}\")\n",
    "print(\"user name is of \", type(uname))\n",
    "print(\"split_email is of type\", type(split_email))\n",
    "print(\"element 0 in the list is \", split_email[0])"
   ]
  },
  {
   "cell_type": "markdown",
   "metadata": {},
   "source": [
    "### Lists are Mutable"
   ]
  },
  {
   "cell_type": "code",
   "execution_count": null,
   "metadata": {},
   "outputs": [],
   "source": [
    "print(cities)\n",
    "cities[2] = \"San Antonio\" # Replace the third entry ('Miami') with 'San Antonio'\n",
    "print(cities) # mutated list object"
   ]
  },
  {
   "cell_type": "markdown",
   "metadata": {},
   "source": [
    "### Adding items to a list\n",
    "```Python\n",
    "<list>.append(element)\n",
    "``` \n",
    "Use append to add elements to the end of a list. This operation *mutates* the list."
   ]
  },
  {
   "cell_type": "code",
   "execution_count": null,
   "metadata": {},
   "outputs": [],
   "source": [
    "# Use the Append method to add items within a list\n",
    "cities.append(\"Columbia\")\n",
    "print(cities)"
   ]
  },
  {
   "cell_type": "markdown",
   "metadata": {},
   "source": [
    "### Using List Comprehensions\n",
    "\n",
    "List comprehensions are a compact method to build lists using a single line of code. \n",
    "\n",
    "Basic syntax\n",
    "```python\n",
    "[ expr for item in iterable ]\n",
    "```\n",
    "\n",
    "Instead of:"
   ]
  },
  {
   "cell_type": "code",
   "execution_count": null,
   "metadata": {},
   "outputs": [],
   "source": [
    "# Iteration method to load a list\n",
    "L = []\n",
    "for n in range(12):\n",
    "    L.append(n ** 2)\n",
    "print(L)"
   ]
  },
  {
   "cell_type": "code",
   "execution_count": null,
   "metadata": {},
   "outputs": [],
   "source": [
    "# Loading items using a List Comprehension\n",
    "[n ** 2 for n in range(12)]"
   ]
  },
  {
   "cell_type": "markdown",
   "metadata": {},
   "source": [
    "### Removing Items from a List"
   ]
  },
  {
   "cell_type": "code",
   "execution_count": null,
   "metadata": {},
   "outputs": [],
   "source": [
    "# Remove elements by index\n",
    "t = ['a', 'b', 'c', 'd', 'e']\n",
    "del(t[1])\n",
    "print(t)"
   ]
  },
  {
   "cell_type": "code",
   "execution_count": null,
   "metadata": {},
   "outputs": [],
   "source": [
    "# Delete the last item on the list. Returns the item deleted. Mutates list.\n",
    "x = t.pop()\n",
    "\n",
    "print('Deleted ', x)\n",
    "print('New list is ', t)"
   ]
  },
  {
   "cell_type": "code",
   "execution_count": null,
   "metadata": {},
   "outputs": [],
   "source": [
    "# Remove specific element (e.g., remove 'Chicago'), mutates the list.\n",
    "print(cities)\n",
    "cities.remove('Chicago')\n",
    "print(cities)"
   ]
  },
  {
   "cell_type": "code",
   "execution_count": null,
   "metadata": {},
   "outputs": [],
   "source": [
    "# ERROR: If not in list, error.\n",
    "cities.remove('St. Louis')"
   ]
  },
  {
   "cell_type": "markdown",
   "metadata": {},
   "source": [
    "Be careful when removing items from a list. If you attempt to remove items while iterating over the same list, items may be skipped. "
   ]
  },
  {
   "cell_type": "code",
   "execution_count": null,
   "metadata": {},
   "outputs": [],
   "source": [
    "my_list = [1,2,3,4,5,7,8,9,10]\n",
    "print(my_list[6])"
   ]
  },
  {
   "cell_type": "code",
   "execution_count": null,
   "metadata": {},
   "outputs": [],
   "source": [
    "# The intent of this code is to remove numbers greater than 5 from my list.\n",
    "\n",
    "for item in my_list:\n",
    "    if item > 5:\n",
    "        my_list.remove(item)\n",
    "\n",
    "# ERROR: However, 7 and 9 remain because they were skipped as items were removed.\n",
    "print(my_list)"
   ]
  },
  {
   "cell_type": "markdown",
   "metadata": {},
   "source": [
    "One solution is to use a list comprehension."
   ]
  },
  {
   "cell_type": "code",
   "execution_count": null,
   "metadata": {},
   "outputs": [],
   "source": [
    "my_list = [1,2,3,4,5,6,7,8,9,10]\n",
    "\n",
    "# Only keep items in the list that are less than 6\n",
    "my_list = [item for item in my_list if item < 6]\n",
    "\n",
    "print(my_list)"
   ]
  },
  {
   "cell_type": "markdown",
   "metadata": {},
   "source": [
    "Another solution is to reverse the list. That way, if the last item (item 9) is deleted, it doesn't alter the indexes of the rest of the list."
   ]
  },
  {
   "cell_type": "code",
   "execution_count": null,
   "metadata": {},
   "outputs": [],
   "source": [
    "my_list = [1,2,3,4,5,6,7,8,9,10]\n",
    "\n",
    "# Reverse the list and delete items greater than 5\n",
    "for item in reversed(my_list):\n",
    "    if item > 5:\n",
    "        my_list.remove(item)\n",
    "        \n",
    "print(my_list)"
   ]
  },
  {
   "cell_type": "markdown",
   "metadata": {},
   "source": [
    "### Testing for membership\n",
    "\n",
    "Use the in keyword to test for list membership."
   ]
  },
  {
   "cell_type": "code",
   "execution_count": null,
   "metadata": {},
   "outputs": [],
   "source": [
    "print(\"Dallas\" in cities)\n",
    "print(\"Tuscaloosa\" in cities)"
   ]
  },
  {
   "cell_type": "markdown",
   "metadata": {},
   "source": [
    "### Iterating a list\n",
    "\n",
    "Use a for loop to iterate a list."
   ]
  },
  {
   "cell_type": "code",
   "execution_count": null,
   "metadata": {},
   "outputs": [],
   "source": [
    "# Loop through list\n",
    "for city in cities:\n",
    "    print(city)"
   ]
  },
  {
   "cell_type": "markdown",
   "metadata": {},
   "source": [
    "Use the len() function to determine how many items are in the list and use that within a range() function."
   ]
  },
  {
   "cell_type": "code",
   "execution_count": null,
   "metadata": {},
   "outputs": [],
   "source": [
    "for i in range(len(cities)):\n",
    "    print(cities[i],end=\" \")"
   ]
  },
  {
   "cell_type": "markdown",
   "metadata": {},
   "source": [
    "### List Concatenation\n"
   ]
  },
  {
   "cell_type": "code",
   "execution_count": null,
   "metadata": {},
   "outputs": [],
   "source": [
    "# Use the '+' operator to concatenate lists\n",
    "a = [1,2,3]\n",
    "b = [4,5,6]\n",
    "c = a + b # does not mutate 'a' or 'b'\n",
    "\n",
    "print(\"c = \", c)\n",
    "\n",
    "print(\"a = \", a)\n",
    "print(\"b = \", b)"
   ]
  },
  {
   "cell_type": "markdown",
   "metadata": {},
   "source": [
    "### Extending a list"
   ]
  },
  {
   "cell_type": "code",
   "execution_count": null,
   "metadata": {},
   "outputs": [],
   "source": [
    "print(\"list 'a' = \", a)\n",
    "print(\"list 'b' =\", b)\n",
    "\n",
    "a.extend(b) # This combines a and b, mutates a but not b\n",
    "\n",
    "print(\"list 'a' =\", a)\n",
    "print(\"list 'b' =\", b)\n",
    "print(c)"
   ]
  },
  {
   "cell_type": "code",
   "execution_count": null,
   "metadata": {},
   "outputs": [],
   "source": [
    "# Use the '*' operator to repeat items\n",
    "print(a * 3)"
   ]
  },
  {
   "cell_type": "markdown",
   "metadata": {},
   "source": [
    "### Slicing Lists\n",
    "You can return parts of a list using slicing operators. Other objects (e.g., strings and tuples) can also be sliced."
   ]
  },
  {
   "cell_type": "code",
   "execution_count": null,
   "metadata": {},
   "outputs": [],
   "source": [
    "# Slicing operations\n",
    "\n",
    "t = ['a', 'b','c','d','e','f','g']\n",
    "\n",
    "# return the 2nd and 3rd elements in t\n",
    "print(t[1:3])"
   ]
  },
  {
   "cell_type": "code",
   "execution_count": null,
   "metadata": {},
   "outputs": [],
   "source": [
    "# Omitting the first parameter tells the intepreter to start at the beginning\n",
    "print(t[:3])"
   ]
  },
  {
   "cell_type": "code",
   "execution_count": null,
   "metadata": {},
   "outputs": [],
   "source": [
    "# Omitting the second paramter tells the interpreter to continue to the end\n",
    "# start with the third element and return all elements to the end of the list\n",
    "print(t[3:])"
   ]
  },
  {
   "cell_type": "code",
   "execution_count": null,
   "metadata": {},
   "outputs": [],
   "source": [
    "# Get the last item\n",
    "print(\"Last item in the list = \", t[-1])"
   ]
  },
  {
   "cell_type": "code",
   "execution_count": null,
   "metadata": {},
   "outputs": [],
   "source": [
    "# Use Negative slicing to replace the last item in the ist\n",
    "t[-1] = 'watermelon'\n",
    "print(t)"
   ]
  },
  {
   "cell_type": "markdown",
   "metadata": {},
   "source": [
    "### Sorting Lists"
   ]
  },
  {
   "cell_type": "code",
   "execution_count": null,
   "metadata": {},
   "outputs": [],
   "source": [
    "# Use sorted() to display a sorted list but not mutate it.\n",
    "my_letters = ['n','r','y','x','a','w']\n",
    "\n",
    "print(\"sorted list = \", sorted(my_letters))\n",
    "print(\"my_letters = \", my_letters)"
   ]
  },
  {
   "cell_type": "code",
   "execution_count": null,
   "metadata": {},
   "outputs": [],
   "source": [
    "# Use the sort() method to sort the items in a list\n",
    "my_letters.sort()\n",
    "print(my_letters)"
   ]
  },
  {
   "cell_type": "code",
   "execution_count": null,
   "metadata": {},
   "outputs": [],
   "source": [
    "# Don't do this...sort() returns \"None\"\n",
    "my_letters = my_letters.sort() \n",
    "print(my_letters)"
   ]
  },
  {
   "cell_type": "markdown",
   "metadata": {},
   "source": [
    "### Use a list to return more than one value from a function"
   ]
  },
  {
   "cell_type": "code",
   "execution_count": null,
   "metadata": {},
   "outputs": [],
   "source": [
    "# Use a list to return more than one value from a function\n",
    "def tip_options(amount):\n",
    "    # Use a list to return three tipping options (10%, 15%, 20%)\n",
    "    return[amount, amount*1.10, amount*1.15, amount*1.2]\n",
    "\n",
    "print(tip_options(30))\n",
    "print(type(tip_options(30)))"
   ]
  },
  {
   "cell_type": "markdown",
   "metadata": {},
   "source": [
    "### Nested Lists"
   ]
  },
  {
   "cell_type": "code",
   "execution_count": null,
   "metadata": {},
   "outputs": [],
   "source": [
    "my_list = [['Ford','Chevrolet','Volkswagen'],\n",
    "           ['F150','Suburban','Passat'],\n",
    "           ['Big Bang Theory','Young Sheldon','Mindhunter']]\n",
    "\n",
    "print(my_list[0][1]) # row zero, item 2 (index 1)\n",
    "print(my_list[2][2]) # row two, item 3 (index 2)\n"
   ]
  },
  {
   "cell_type": "code",
   "execution_count": null,
   "metadata": {},
   "outputs": [],
   "source": [
    "# Use a list to swap values\n",
    "y = 5\n",
    "x = 10\n",
    "\n",
    "print('x =', x, 'y =', y)\n",
    "\n",
    "[x, y] = [y, x]\n",
    "\n",
    "print('x =', x, 'y =', y)"
   ]
  },
  {
   "cell_type": "markdown",
   "metadata": {
    "toc-hr-collapsed": true
   },
   "source": [
    "## Sets\n",
    "* Sets are unordered.\n",
    "* Set elements are unique. Duplicate elements are not allowed.\n",
    "* You may add or remove items from the set, but you cannot edit an item in a set.\n",
    "* Accessing items by index (e.g., myset[1]) is NOT supported.\n",
    "* Sets are denoted by curly braces.\n",
    "\n",
    "You can define a set using the set() function.\n",
    "```python\n",
    "x = set(<iter>)\n",
    "```"
   ]
  },
  {
   "cell_type": "code",
   "execution_count": null,
   "metadata": {},
   "outputs": [],
   "source": [
    "my_list = ['a','b',1, 'c', 1]\n",
    "set2 = set(my_list)\n",
    "print(set2)\n",
    "print(my_list)"
   ]
  },
  {
   "cell_type": "markdown",
   "metadata": {},
   "source": [
    "You can also create a set using curly braces {}."
   ]
  },
  {
   "cell_type": "code",
   "execution_count": null,
   "metadata": {},
   "outputs": [],
   "source": [
    "# Use curly braces to create a set\n",
    "my_set = {1,1, 6,7, 3, 5, 'red'}\n",
    "print(type(my_set))\n",
    "print(my_set)"
   ]
  },
  {
   "cell_type": "markdown",
   "metadata": {},
   "source": [
    "### Why do I care about sets?\n",
    "Sets in Python are the same as sets in mathematics. Sets contain a well-defined collection of distinct objects called elements. Using the set object enables you to perform set operations such as union and intersection.\n",
    "\n",
    "![](images/data_science_diagram.png)\n",
    "(image source: https://towardsdatascience.com)"
   ]
  },
  {
   "cell_type": "markdown",
   "metadata": {},
   "source": [
    "### Creating sets\n",
    "Use curly braces to denote a set. "
   ]
  },
  {
   "cell_type": "code",
   "execution_count": null,
   "metadata": {},
   "outputs": [],
   "source": [
    "# Persons with expertise in specific areas\n",
    "cs_expertise = {\"Bill\", \"Matt\", \"Alexandra\", \"Joe\", \"Dexter\"}\n",
    "stats_expertise = {\"Dexter\", \"Subha\", \"Brad\", \"Bruce\"}\n",
    "business_expertise = {\"Kay\",\"Jonathan\",\"Dexter\",\"Suzanne\", \"Matt\"}"
   ]
  },
  {
   "cell_type": "markdown",
   "metadata": {},
   "source": [
    "You can also use the set() method to create a set. The argument for the set method must be an iterable."
   ]
  },
  {
   "cell_type": "code",
   "execution_count": null,
   "metadata": {},
   "outputs": [],
   "source": [
    "#Use the set() method to create a set, parameter must be <iter> (an iterable --e.g., a list)\n",
    "my_set2 = set(['foo', 'bar', 3.141, 'bar'])\n",
    "print(my_set2)"
   ]
  },
  {
   "cell_type": "code",
   "execution_count": null,
   "metadata": {},
   "outputs": [],
   "source": [
    "#Error creating tropical_fruits set using set() contructor...why?\n",
    "tropical_fruits = set(\"Guava\", \"Dragon Fruit\", \"Banana\",\"Banana\")\n",
    "temperate_fruits = {\"Apple\", \"Peach\", \"Plum\"}\n",
    "\n",
    "all_fruit = tropical_fruits.union(temperate_fruits)\n",
    "print(all_fruit)"
   ]
  },
  {
   "cell_type": "code",
   "execution_count": null,
   "metadata": {},
   "outputs": [],
   "source": [
    "# Who might be suited for Data Science (intersection of three topics)\n",
    "data_scientists = cs_expertise.intersection(stats_expertise, business_expertise)\n",
    "print(data_scientists)"
   ]
  },
  {
   "cell_type": "code",
   "execution_count": null,
   "metadata": {},
   "outputs": [],
   "source": [
    "#Empty sets are evaluated as False\n",
    "loch_ness_monsters = set()\n",
    "print(\"The set of Loch Ness Monsters is \" + str(bool(loch_ness_monsters)))\n",
    "print()\n",
    "\n",
    "#You can add, update, and remove items, but you cannot change items in a set\n",
    "loch_ness_monsters.add(\"Marvin\")\n",
    "print(\"Added Marvin to monster set...\")\n",
    "print(\"The set of Loch Ness Monsters is \" + str(bool(loch_ness_monsters)), loch_ness_monsters)\n",
    "print(\"The length of the monster set is \" + str(len(loch_ness_monsters)))"
   ]
  },
  {
   "cell_type": "code",
   "execution_count": null,
   "metadata": {},
   "outputs": [],
   "source": [
    "# Reduce this list of grades to only have unique values\n",
    "grades = {81,100,81,89,76,94,93,86,75,88,96,76,87,90,81,78,99,83,94,75,83,92,96,81,99,89,99,98,100,95,84,94,97,100,92,97,98,92,95,88,90,98,87,86,95,86,84,91,87,88,83,89,84,98,75,90,100,79,83,94,89,93,84,83,94,84,93,97,75,81,91,84,78,89,96,97,99,90,98,83,93,96,98,91,77,98,97,76,98,75,89,92,81,83,84,82,94,89,77,96,94,100,86,79,87,78,83,86,89,99,77,96,88,91,86,89,99,82,83,92,91,84,83,76,89,90,82,75,84,83,81,96,87,90,82,93,76,86,100,81,88,100,94,84,99,77,91,92,98,88,90,83,88}\n",
    "print(grades)"
   ]
  },
  {
   "cell_type": "code",
   "execution_count": null,
   "metadata": {},
   "outputs": [],
   "source": [
    "c_and_higher = set(range(75,101))\n",
    "\n",
    "missing_grades = grades.symmetric_difference(c_and_higher)\n",
    "\n",
    "print(\"What grades are missing from 75-100?: \" + str(missing_grades))"
   ]
  },
  {
   "cell_type": "markdown",
   "metadata": {
    "toc-hr-collapsed": false
   },
   "source": [
    "## Dictionaries\n",
    "\n",
    "Think of dictionaries like a list, but with a flexible index. The List index must be an integer, but the index or keys used to associate values can be different types.\n",
    "\n",
    "Dictionaries are **unordered** and use key-value pairs to store and retrieve data. In other languages this structure might be called an *associative array*.\n",
    "\n"
   ]
  },
  {
   "cell_type": "markdown",
   "metadata": {},
   "source": [
    "### Creating dictionaries\n",
    "Use curly braces and a colon to indicate to the interpreter that you are creating a dictionary data structure."
   ]
  },
  {
   "cell_type": "code",
   "execution_count": null,
   "metadata": {},
   "outputs": [],
   "source": [
    "# The employee ID is associated with the employee name\n",
    "employees = {\"2334\":\"Greg Bott\", \"2335\":\"John Gilbert\", \"2336\":\"Bill Hampton\",\"2337\":\"Joe Odom\"}\n",
    "print(employees)"
   ]
  },
  {
   "cell_type": "code",
   "execution_count": null,
   "metadata": {},
   "outputs": [],
   "source": [
    "# Using the employee ID (key), display the name of the employee (value)\n",
    "print(employees[\"2334\"])"
   ]
  },
  {
   "cell_type": "code",
   "execution_count": null,
   "metadata": {},
   "outputs": [],
   "source": [
    "# Use a List within a dictionary (see Golf web-scraping example)\n",
    "make_model = {\"Ford\":[\"Mustang\",\"Explorer\",\"Focus\"],\"Volkswagen\":[\"Passat\",\"Jetta\",\"Beetle\"]}\n",
    "print(make_model[\"Ford\"])"
   ]
  },
  {
   "cell_type": "code",
   "execution_count": null,
   "metadata": {},
   "outputs": [],
   "source": [
    "# Create an empty dictionary\n",
    "person = {}\n",
    "\n",
    "#Display the type of the 'person' variable\n",
    "print(type(person))\n",
    "\n",
    "person['fname'] = 'Greg'\n",
    "person['lname'] = 'Bott'\n",
    "person['spouse'] = 'Amy'\n",
    "\n",
    "# Use a list as a value\n",
    "person['children'] = ['John Davis', 'Piper', 'Will', 'Truett']\n",
    "\n",
    "# Use a dictionary as a value\n",
    "person['pets'] = {'dog': 'Bama', 'cat': 'TJ'}\n",
    "\n",
    "print(person)"
   ]
  },
  {
   "cell_type": "code",
   "execution_count": null,
   "metadata": {},
   "outputs": [],
   "source": [
    "print(person['fname'])"
   ]
  },
  {
   "cell_type": "code",
   "execution_count": null,
   "metadata": {},
   "outputs": [],
   "source": [
    "# Replace values using a key\n",
    "person['pets'] = {'flying squirrel':'Rocky'}\n",
    "print(person)\n",
    "print(person['pets'])\n"
   ]
  },
  {
   "cell_type": "markdown",
   "metadata": {},
   "source": [
    "### Check for Values in a Dictionary\n",
    "\n",
    "To determine if a value is present within a key, us the *in* keyword."
   ]
  },
  {
   "cell_type": "code",
   "execution_count": null,
   "metadata": {},
   "outputs": [],
   "source": [
    "print(\"Focus\" in make_model[\"Ford\"])\n",
    "print(\"Explorer II\" in make_model[\"Ford\"])"
   ]
  },
  {
   "cell_type": "markdown",
   "metadata": {},
   "source": [
    "### Access Specific item in key value\n",
    "\n",
    "Individual values associated with a key may be accessed by an index value."
   ]
  },
  {
   "cell_type": "code",
   "execution_count": null,
   "metadata": {},
   "outputs": [],
   "source": [
    "# Print the third value associated with the Ford key.\n",
    "print(make_model['Ford'][2])"
   ]
  },
  {
   "cell_type": "markdown",
   "metadata": {},
   "source": [
    "### Check for Keys in a Dictionary"
   ]
  },
  {
   "cell_type": "code",
   "execution_count": null,
   "metadata": {},
   "outputs": [],
   "source": [
    "search_key = \"Focus\"\n",
    "if search_key in make_model:\n",
    "    print(f\"'{search_key}' key found in dictionary!\")\n",
    "else:\n",
    "    print(f\"'{search_key}' key NOT found in dictionary.\")"
   ]
  },
  {
   "cell_type": "markdown",
   "metadata": {},
   "source": [
    "### Attempting to Access Keys that Don't exist\n",
    "If you attempt to access a key that does not exist within the dictionary, Python will raise an exception\n"
   ]
  },
  {
   "cell_type": "code",
   "execution_count": null,
   "metadata": {},
   "outputs": [],
   "source": [
    "# ERROR: KeyError (key does not exist in the dictionary)\n",
    "print(person['fname'])\n",
    "print(person['ss_number'])"
   ]
  },
  {
   "cell_type": "markdown",
   "metadata": {},
   "source": [
    "### Using the get() method\n",
    "Use the get() method to access keys. Using get() avoids a KeyError if the desired key does not exist. Instead, Python returns the None value."
   ]
  },
  {
   "cell_type": "code",
   "execution_count": null,
   "metadata": {},
   "outputs": [],
   "source": [
    "print(person.get('fname'))\n",
    "print(person.get('ss_number'))"
   ]
  },
  {
   "cell_type": "code",
   "execution_count": null,
   "metadata": {},
   "outputs": [],
   "source": [
    "# You can also provide a default value if a key does not exist\n",
    "print(person.get('ss_number', 'no SS# provided'))"
   ]
  },
  {
   "cell_type": "markdown",
   "metadata": {},
   "source": [
    "### Using Update\n",
    "You can use the update method to replace multiple values in a dictionary and add new values.\n",
    "\n",
    "update() takes a dictionary as its parameter."
   ]
  },
  {
   "cell_type": "code",
   "execution_count": null,
   "metadata": {},
   "outputs": [],
   "source": [
    "person.update({'fname':'Gregory','ss_number':'123-45-6789'})\n",
    "print(person)"
   ]
  },
  {
   "cell_type": "markdown",
   "metadata": {},
   "source": [
    "### Removing an item from the dictionary\n",
    "You can use del or pop to remove items from a dictionary."
   ]
  },
  {
   "cell_type": "code",
   "execution_count": null,
   "metadata": {},
   "outputs": [],
   "source": [
    "del person['pets']\n",
    "print(person)"
   ]
  },
  {
   "cell_type": "code",
   "execution_count": null,
   "metadata": {},
   "outputs": [],
   "source": [
    "ss_number = person.pop('ss_number')\n",
    "print(ss_number)"
   ]
  },
  {
   "cell_type": "markdown",
   "metadata": {},
   "source": [
    "### Clear a dictionary\n",
    "Use the clear() method to empty the contents of a dictionary."
   ]
  },
  {
   "cell_type": "code",
   "execution_count": null,
   "metadata": {},
   "outputs": [],
   "source": [
    "print(person)\n",
    "person.clear()\n",
    "print(person)"
   ]
  },
  {
   "cell_type": "markdown",
   "metadata": {
    "toc-hr-collapsed": true
   },
   "source": [
    "# String Operations\n",
    "Text in Python is represented by a string. A string is a sequence of characters. It is a derived data type. Strings are immutable. This means that once defined, they cannot be changed.\n",
    "\n",
    "You can access characters one at a time using the bracket [] operator.\n",
    "\n",
    "You may use either single, double-quotes, or triple quotes. Use double or triple quotes when a string contains a single apostrophe, double apostrophe or both.\n"
   ]
  },
  {
   "cell_type": "markdown",
   "metadata": {
    "toc-hr-collapsed": true
   },
   "source": [
    "## Strings are immutable\n",
    "Like tuples strings cannot be changed."
   ]
  },
  {
   "cell_type": "markdown",
   "metadata": {
    "toc-hr-collapsed": true
   },
   "source": [
    "## Escape characters and raw strings\n",
    "Prefix a string with ‘r’ or ‘R’ to force Python to treat backslash (\\) as a literal character.\n",
    "E.g., Windows file paths\n",
    "\n",
    "| Escape Character | Prints as |\n",
    "|------------------|-----------|\n",
    "| \\\\' | Single quote\n",
    "| \\\\\" | Double quote\n",
    "| \\\\t | Tab\n",
    "| \\\\n | Newline (line break)\n",
    "| \\\\ | Backslash\n",
    "\n"
   ]
  },
  {
   "cell_type": "code",
   "execution_count": 1,
   "metadata": {},
   "outputs": [
    {
     "ename": "SyntaxError",
     "evalue": "(unicode error) 'unicodeescape' codec can't decode bytes in position 2-3: truncated \\uXXXX escape (<ipython-input-1-9266f4de9342>, line 2)",
     "output_type": "error",
     "traceback": [
      "\u001b[1;36m  File \u001b[1;32m\"<ipython-input-1-9266f4de9342>\"\u001b[1;36m, line \u001b[1;32m2\u001b[0m\n\u001b[1;33m    file_path = \"c:\\users\\gregb\\documents\\python_projects\"\u001b[0m\n\u001b[1;37m               ^\u001b[0m\n\u001b[1;31mSyntaxError\u001b[0m\u001b[1;31m:\u001b[0m (unicode error) 'unicodeescape' codec can't decode bytes in position 2-3: truncated \\uXXXX escape\n"
     ]
    }
   ],
   "source": [
    "# Error - unexpected escape characters\n",
    "file_path = \"c:\\users\\gregb\\documents\\python_projects\"\n",
    "print(file_path)"
   ]
  },
  {
   "cell_type": "code",
   "execution_count": 2,
   "metadata": {},
   "outputs": [
    {
     "name": "stdout",
     "output_type": "stream",
     "text": [
      "c:\\users\\gregb\\documents\\python_projects\n"
     ]
    }
   ],
   "source": [
    "# Escaping backslash for file name\n",
    "file_path = \"c:\\\\users\\\\gregb\\\\documents\\\\python_projects\"\n",
    "print(file_path)"
   ]
  },
  {
   "cell_type": "code",
   "execution_count": 3,
   "metadata": {},
   "outputs": [
    {
     "name": "stdout",
     "output_type": "stream",
     "text": [
      "c:\\users\\gregb\\documents\\python_projects\n"
     ]
    }
   ],
   "source": [
    "# Using raw string\n",
    "file_path = r\"c:\\users\\gregb\\documents\\python_projects\"\n",
    "print(file_path)"
   ]
  },
  {
   "cell_type": "markdown",
   "metadata": {
    "toc-hr-collapsed": true
   },
   "source": [
    "## Using single, double, and triple quotes"
   ]
  },
  {
   "cell_type": "code",
   "execution_count": 8,
   "metadata": {},
   "outputs": [
    {
     "name": "stdout",
     "output_type": "stream",
     "text": [
      "hello, world!\n",
      "Sell crazy someplace else. We're all stocked up here.\n",
      "Clamenza said, \"Leave the gun, take the cannoli.\" It's one of my 'fav' movie quotes.\n"
     ]
    }
   ],
   "source": [
    "#Double quotes specifies a string.\n",
    "statement = \"\"\"I'm a Python programmer.\"\"\"\n",
    "\n",
    "\n",
    "\n",
    "#Single quotes also specify a string. Triple quotes, too.\n",
    "howdy = 'hello, world!'\n",
    "print(howdy)\n",
    "\n",
    "#To print quotes, you canuse the escape character (\\)\n",
    "as_good_as_it_gets = 'Sell crazy someplace else. We\\'re all stocked up here.'\n",
    "print(as_good_as_it_gets)\n",
    "\n",
    "#Tripe quotes are helpful when you want to display single or double quotes within a string without using an escape character.\n",
    "cannoli = \"Clamenza said, \\\"Leave the gun, take the cannoli.\\\" It's one of my 'fav' movie quotes.\" \n",
    "print(cannoli)"
   ]
  },
  {
   "cell_type": "markdown",
   "metadata": {
    "toc-hr-collapsed": true
   },
   "source": [
    "## String Capitalization"
   ]
  },
  {
   "cell_type": "code",
   "execution_count": 9,
   "metadata": {},
   "outputs": [
    {
     "name": "stdout",
     "output_type": "stream",
     "text": [
      "Hello, world!\n"
     ]
    }
   ],
   "source": [
    "# Capitalize the first word\n",
    "print(howdy.capitalize())"
   ]
  },
  {
   "cell_type": "code",
   "execution_count": 10,
   "metadata": {},
   "outputs": [
    {
     "name": "stdout",
     "output_type": "stream",
     "text": [
      "Hello, World!\n",
      "This Is Title Case\n"
     ]
    }
   ],
   "source": [
    "# Capitalize each word\n",
    "print(howdy.title())\n",
    "print(\"this is title case\".title())"
   ]
  },
  {
   "cell_type": "code",
   "execution_count": 11,
   "metadata": {},
   "outputs": [
    {
     "name": "stdout",
     "output_type": "stream",
     "text": [
      "HELLO, WORLD!\n",
      "THIS IS ALL CAPPS\n",
      "That's my fav!\n"
     ]
    }
   ],
   "source": [
    "# Capitalize each word\n",
    "print(howdy.upper())\n",
    "print(\"this is all capps\".upper())\n",
    "\n",
    "#Use upper() to compare strings ignoring case\n",
    "myfavfruit = \"Kiwi\"\n",
    "\n",
    "if myfavfruit.upper() == \"KIWI\":\n",
    "    print(\"That's my fav!\")\n",
    "else:\n",
    "    print(\"Not my fav\")"
   ]
  },
  {
   "cell_type": "code",
   "execution_count": 12,
   "metadata": {},
   "outputs": [
    {
     "name": "stdout",
     "output_type": "stream",
     "text": [
      "the unofficial guide to ethical hacking\n"
     ]
    }
   ],
   "source": [
    "book_title = \"THE UNOFFICIAL GUIDE TO ETHICAL HACKING\"\n",
    "\n",
    "# Lowercase\n",
    "print(book_title.lower())"
   ]
  },
  {
   "cell_type": "code",
   "execution_count": 13,
   "metadata": {},
   "outputs": [
    {
     "name": "stdout",
     "output_type": "stream",
     "text": [
      "banana\n",
      "b\n",
      "ba\n"
     ]
    }
   ],
   "source": [
    "# Store the string \"banana\" in the favorite_fruit variable. \n",
    "favorite_fruit = \"banana\"\n",
    "\n",
    "# A string is essentially an array of characters and you may access them like you would an array.\n",
    "print(favorite_fruit)\n",
    "print(favorite_fruit[0])\n",
    "print(favorite_fruit[0:2])"
   ]
  },
  {
   "cell_type": "code",
   "execution_count": 14,
   "metadata": {},
   "outputs": [
    {
     "ename": "TypeError",
     "evalue": "'str' object does not support item assignment",
     "output_type": "error",
     "traceback": [
      "\u001b[1;31m---------------------------------------------------------------------------\u001b[0m",
      "\u001b[1;31mTypeError\u001b[0m                                 Traceback (most recent call last)",
      "\u001b[1;32m<ipython-input-14-e939096f27d0>\u001b[0m in \u001b[0;36m<module>\u001b[1;34m\u001b[0m\n\u001b[0;32m      1\u001b[0m \u001b[1;31m# Strings are immutable. Unlike a typical array, you may NOT modify the items (characters) in the array.\u001b[0m\u001b[1;33m\u001b[0m\u001b[1;33m\u001b[0m\u001b[1;33m\u001b[0m\u001b[0m\n\u001b[0;32m      2\u001b[0m \u001b[1;31m# Rather than changing the first letter from 'b' to 'B', this code results in an error.\u001b[0m\u001b[1;33m\u001b[0m\u001b[1;33m\u001b[0m\u001b[1;33m\u001b[0m\u001b[0m\n\u001b[1;32m----> 3\u001b[1;33m \u001b[0mfavorite_fruit\u001b[0m\u001b[1;33m[\u001b[0m\u001b[1;36m0\u001b[0m\u001b[1;33m]\u001b[0m \u001b[1;33m=\u001b[0m \u001b[1;34m'B'\u001b[0m\u001b[1;33m\u001b[0m\u001b[1;33m\u001b[0m\u001b[0m\n\u001b[0m",
      "\u001b[1;31mTypeError\u001b[0m: 'str' object does not support item assignment"
     ]
    }
   ],
   "source": [
    "# Strings are immutable. Unlike a typical array, you may NOT modify the items (characters) in the array.\n",
    "# Rather than changing the first letter from 'b' to 'B', this code results in an error.\n",
    "favorite_fruit[0] = 'B'"
   ]
  },
  {
   "cell_type": "code",
   "execution_count": 15,
   "metadata": {},
   "outputs": [
    {
     "name": "stdout",
     "output_type": "stream",
     "text": [
      "banana\n",
      "apple\n"
     ]
    }
   ],
   "source": [
    "print(favorite_fruit)\n",
    "\n",
    "# You can, however, replace the string value (e.g., \"banana\") with something else (e.g, \"apple\")\n",
    "favorite_fruit = \"apple\"\n",
    "\n",
    "print(favorite_fruit)"
   ]
  },
  {
   "cell_type": "markdown",
   "metadata": {},
   "source": [
    "## String Concatenation\n",
    "\n",
    "Use the '+' operator to join strings."
   ]
  },
  {
   "cell_type": "code",
   "execution_count": 16,
   "metadata": {},
   "outputs": [
    {
     "name": "stdout",
     "output_type": "stream",
     "text": [
      "Gregory J Bott, Ph.D.\n"
     ]
    }
   ],
   "source": [
    "first_name = \"Gregory\"\n",
    "middle_initial = \"J\"\n",
    "last_name = \"Bott\"\n",
    "\n",
    "full_name = first_name + \" \" + middle_initial + \" \" + last_name + \", Ph.D.\"\n",
    "print(full_name)"
   ]
  },
  {
   "cell_type": "markdown",
   "metadata": {},
   "source": [
    "## Removing white space\n",
    "A common task when working with data is to remove white space (spaces, tabs, newlines) from the beginning and end of a string. to remove white space use the **strip** method."
   ]
  },
  {
   "cell_type": "code",
   "execution_count": 17,
   "metadata": {},
   "outputs": [
    {
     "name": "stdout",
     "output_type": "stream",
     "text": [
      "\t\t\t 133422.88\n",
      "[end]\n",
      "133422.88[end]\n"
     ]
    }
   ],
   "source": [
    "# value is preceded by three tabs and followed by a line break\n",
    "data_column = \"\\t\\t\\t 133422.88\\n\"\n",
    "print(str(data_column) + \"[end]\")\n",
    "\n",
    "#tabs and the line break are stripped from the string\n",
    "print(data_column.strip() + \"[end]\")"
   ]
  },
  {
   "cell_type": "markdown",
   "metadata": {},
   "source": [
    "## Format Operator\n",
    "To substitute values from variables or functions into a string, use the *format operator* %. \n",
    "\n",
    "Do not confuse % with modulus operator. In the statement, 4 % 2 = 0 '%' is the modulus operator. \n",
    "\n",
    "Instead of using the % operator between integers as in the modulus operator, the *format operator* is used within a string.\n",
    "<br>%d = signed integer decimal\n",
    "<br>%s = string\n",
    "<br>%f = float\n",
    "\n",
    "For more conversion types go to https://docs.python.org/3/library/stdtypes.html#old-string-formatting"
   ]
  },
  {
   "cell_type": "code",
   "execution_count": null,
   "metadata": {},
   "outputs": [],
   "source": [
    "b_of_b_on_wall = 99\n",
    "beverage = \"beer\"\n",
    "\n",
    "for bottle_num in range(100,0,-1):\n",
    "    print(\"%d bottles of %s on the wall, %d bottles of %s.\" % (bottle_num, beverage, bottle_num, beverage))\n",
    "    print(\"Take one down and pass it around, %d bottles of %s on the wall.\" % (int(bottle_num)-1, beverage))\n",
    "    "
   ]
  },
  {
   "cell_type": "markdown",
   "metadata": {},
   "source": [
    "## Using str.format()\n",
    "The format operator is a good option, but when you have multiple placeholders in a string, code becomes less readable. \n",
    "\n",
    "One advantage of the str.format() method is that you can use the replacement fields in any order. Simply use their index values."
   ]
  },
  {
   "cell_type": "code",
   "execution_count": 19,
   "metadata": {},
   "outputs": [
    {
     "name": "stdout",
     "output_type": "stream",
     "text": [
      "Hello, Greg. You are 82.\n"
     ]
    }
   ],
   "source": [
    "name = \"Greg\"\n",
    "age = \"82\"\n",
    "\n",
    "print(\"Hello, {}. You are {}.\".format(name, age))"
   ]
  },
  {
   "cell_type": "code",
   "execution_count": 20,
   "metadata": {},
   "outputs": [
    {
     "name": "stdout",
     "output_type": "stream",
     "text": [
      "Hello, Greg. You are 82.\n"
     ]
    }
   ],
   "source": [
    "name = \"Greg\"\n",
    "age = \"82\"\n",
    "\n",
    "#Reference index to use out of sequence order.\n",
    "print(\"Hello, {1}. You are {0}.\".format(age, name))"
   ]
  },
  {
   "cell_type": "code",
   "execution_count": 21,
   "metadata": {},
   "outputs": [
    {
     "name": "stdout",
     "output_type": "stream",
     "text": [
      "Hello, Greg. You are 82.\n"
     ]
    }
   ],
   "source": [
    "# Use dictionary values\n",
    "person = {'name': 'Greg', 'age': 82}\n",
    "print(\"Hello, {name}. You are {age}.\".format(**person))"
   ]
  },
  {
   "cell_type": "markdown",
   "metadata": {},
   "source": [
    "## Using f-Strings\n",
    "Beginning with Python 3.6, you can use f-strings (\"formatting string literals\"). The syntax for f-Strings is similar to str.format() but results in more readable code."
   ]
  },
  {
   "cell_type": "code",
   "execution_count": null,
   "metadata": {},
   "outputs": [],
   "source": [
    "name = \"Greg\"\n",
    "age = \"82\"\n",
    "\n",
    "print(f\"Hello, {name}. You are {age}.\")"
   ]
  },
  {
   "cell_type": "markdown",
   "metadata": {},
   "source": [
    "## Splitting and Joining strings"
   ]
  },
  {
   "cell_type": "code",
   "execution_count": 22,
   "metadata": {},
   "outputs": [
    {
     "name": "stdout",
     "output_type": "stream",
     "text": [
      "original data:\n",
      "Quin J. Alford|Proin Company|Ap #664-5782 Felis St.|Butte|35565|MT|-72.72653, -167.07764|4716 4071 8086 1415|436|eu@pellentesque.net\n",
      "\n",
      "converted to a list: \n",
      "['Quin J. Alford', 'Proin Company', 'Ap #664-5782 Felis St.', 'Butte', '35565', 'MT', '-72.72653, -167.07764', '4716 4071 8086 1415', '436', 'eu@pellentesque.net']\n",
      "\n"
     ]
    }
   ],
   "source": [
    "# Below is a database record exported using the pipe symbol (\"|\") to seprate fields\n",
    "exported_record = \"Quin J. Alford|Proin Company|Ap #664-5782 Felis St.|Butte|35565|MT|-72.72653, -167.07764|4716 4071 8086 1415|436|eu@pellentesque.net\"\n",
    "print(\"original data:\")\n",
    "print(exported_record)\n",
    "print()\n",
    "\n",
    "#Split the data at each pipe symbol. The result of the split function is a Python list (essentially an array)\n",
    "exported_record = exported_record.split(\"|\")\n",
    "print(\"converted to a list: \")\n",
    "print(exported_record)\n",
    "print()"
   ]
  },
  {
   "cell_type": "code",
   "execution_count": 23,
   "metadata": {},
   "outputs": [
    {
     "name": "stdout",
     "output_type": "stream",
     "text": [
      "Name: Quin J. Alford    email: eu@pellentesque.net\n",
      "\n",
      "Quin J. Alford,Proin Company,Ap #664-5782 Felis St.,Butte,35565,MT,-72.72653, -167.07764,4716 4071 8086 1415,436,eu@pellentesque.net\n"
     ]
    }
   ],
   "source": [
    "#Print the first and last member of the list. Acess the first element (element 0), and the last element (-1).\n",
    "#The second to last element would be accessed using [-2].\n",
    "print(\"Name: \" + exported_record[0], \"   email: \" + exported_record[-1] +\"\\n\")\n",
    "\n",
    "#Join the list by comma and store in exported_record\n",
    "exported_record_csv = \",\".join(exported_record)\n",
    "print(exported_record_csv)"
   ]
  },
  {
   "cell_type": "markdown",
   "metadata": {},
   "source": [
    "## Find() method for strings"
   ]
  },
  {
   "cell_type": "code",
   "execution_count": 24,
   "metadata": {},
   "outputs": [
    {
     "name": "stdout",
     "output_type": "stream",
     "text": [
      "5\n"
     ]
    }
   ],
   "source": [
    "gburg_text = \"Four score and seven years ago our fathers brought forth on this continent, a new nation, conceived in Liberty, and dedicated to the proposition that all men are created equal.\"\n",
    "\n",
    "#Find first instance of a word, find(value, start default = 0, end default = end of string)\n",
    "find_pos = gburg_text.find(\"score\")\n",
    "print(find_pos)"
   ]
  },
  {
   "cell_type": "markdown",
   "metadata": {},
   "source": [
    "My name 205 is Greg 455 and please call me 5493. I can't gbott post my <at> email G m@il here. "
   ]
  },
  {
   "cell_type": "markdown",
   "metadata": {
    "toc-hr-collapsed": true
   },
   "source": [
    "# Regular Expressions\n",
    "RegEx or regular expressions is a sequence of characters that match other strings or sets of strings, using a specialized syntax pattern. Python has a built-in package called re, which can be used to work with regular expressions. To use the re package, import re."
   ]
  },
  {
   "cell_type": "markdown",
   "metadata": {},
   "source": [
    "## Raw Strings\n",
    "\n",
    "To avoid Python escaping the RegEx patterns, prefix the patter with 'r'."
   ]
  },
  {
   "cell_type": "markdown",
   "metadata": {},
   "source": [
    "## Regex Cheat Sheet\n",
    "\n",
    "source: https://regexone.com\n",
    "\n",
    "For an excellent interactive tutorial, go to https://regexone.com/lesson/introduction_abcs\n",
    "\n",
    "abc…\tLetters<br>\n",
    "123…\tDigits<br>\n",
    "\\d\tAny Digit<br>\n",
    "\\D\tAny Non-digit character<br>\n",
    ".\tAny Character<br>\n",
    "\\.\tPeriod<br>\n",
    "[abc]\tOnly a, b, or c<br>\n",
    "[^abc]\tNot a, b, nor c<br>\n",
    "[a-z]\tCharacters a to z<br>\n",
    "[0-9]\tNumbers 0 to 9<br>\n",
    "\\w\tAny Alphanumeric character<br>\n",
    "\\W\tAny Non-alphanumeric character<br>\n",
    "{m}\tm Repetitions<br>\n",
    "{m,n}\tm to n Repetitions<br>\n",
    "\\*\tZero or more repetitions<br>\n",
    "\\+\tOne or more repetitions<br>\n",
    "?\tOptional character<br>\n",
    "\\s\tAny Whitespace<br>\n",
    "\\S\tAny Non-whitespace character<br>\n",
    "^…$\tStarts and ends<br>\n",
    "(…)\tCapture Group<br>\n",
    "(a(bc))\tCapture Sub-group<br>\n",
    "(.*)\tCapture all<br>\n",
    "(abc|def)\tMatches abc or def<br>"
   ]
  },
  {
   "cell_type": "code",
   "execution_count": null,
   "metadata": {},
   "outputs": [],
   "source": [
    "# Import the built-in Regular Expressions package\n",
    "import re\n",
    "\n",
    "email_header = \"From stephen.marquard@uct.ac.za Sat Jan 5 09:14:16 2008 Return-Path: <postmaster@collab.sakaiproject.org> for <source@collab.sakaiproject.org>;Received: (from apache@localhost) Author:  stephen.marquard@uct.ac.za\"\n",
    "\n",
    "found_text = re.findall('\\d\\d:\\d\\d:\\d\\d', email_header)\n",
    "print(found_text)\n",
    "print(\"found text is of type\",type(found_text))\n",
    "\n",
    "author = re.findall('Author:\\s+\\S+', email_header)\n",
    "print(author)"
   ]
  },
  {
   "cell_type": "code",
   "execution_count": null,
   "metadata": {},
   "outputs": [],
   "source": [
    "mboxfile = open(\"mbox.txt\", \"r\")\n",
    "\n",
    "for line in mboxfile:\n",
    "    line = line.rstrip()\n",
    "    \n",
    "    # Search for lines that start with 'F', followed by 2 characters, followed by 'm:'\n",
    "    if re.search('F..m:', line):        \n",
    "        print(line)\n",
    "mboxfile.close()"
   ]
  },
  {
   "cell_type": "code",
   "execution_count": null,
   "metadata": {},
   "outputs": [],
   "source": [
    "# Store all email addresses into a list\n",
    "mboxfile = open(\"mbox.txt\", \"r\")\n",
    "all_emails_list = []\n",
    "for line in mboxfile:\n",
    "    line = line.rstrip()\n",
    "    x = re.findall('\\S+@\\S+\\.\\D\\D\\D', line)\n",
    "    if len(x) > 0:\n",
    "        all_emails_list.extend(x)\n",
    "print(all_emails_list)"
   ]
  },
  {
   "cell_type": "code",
   "execution_count": null,
   "metadata": {},
   "outputs": [],
   "source": [
    "mboxfile = open(\"mbox.txt\", \"r\")\n",
    "all_emails_list = []\n",
    "for line in mboxfile:\n",
    "    line = line.rstrip()\n",
    "    x = re.findall('rev=.....', line)\n",
    "    if len(x) > 0:\n",
    "        all_emails_list.extend(x)\n",
    "\n",
    "print(all_emails_list)\n",
    "all_revs_set = set(all_emails_list)\n",
    "print(len(all_revs_set))"
   ]
  },
  {
   "cell_type": "markdown",
   "metadata": {
    "toc-hr-collapsed": false
   },
   "source": [
    "# File Operations\n",
    "\n",
    "Use the open() function to read(r), append (a), or write (w) to a file. Opening a file returns a file handle, not the actual data in the file. After opening the file you can read or write to it. When you are finished with the file, ensure it is closed. Failing to close a file may lead to memory issues, inaccessible files, and possibly data loss."
   ]
  },
  {
   "cell_type": "code",
   "execution_count": 4,
   "metadata": {},
   "outputs": [
    {
     "name": "stdout",
     "output_type": "stream",
     "text": [
      "C:\\Users\\gregb\\Documents\\GitHub\\Python_For_Business_Students\n"
     ]
    }
   ],
   "source": [
    "# use the os module to access operating system information such as the current working directory (getcwd())\n",
    "import os\n",
    "\n",
    "# Create (or overwrite) a file\n",
    "# If no path is specified, the file will be created in the current working directory\n",
    "\n",
    "# If the file exists, opening with the \"w\" parameter overwrites the existing file. To avoid overwriting a file, open it with \"a\" (append).\n",
    "f = open(\"demofile.txt\", \"w\")\n",
    "\n",
    "f.write(\"This is the first line of the file.\\n\")\n",
    "\n",
    "# Be sure to close your file. Failure to do so will cause problems.\n",
    "f.close()\n",
    "\n",
    "# Get the current directory\n",
    "print(os.getcwd())"
   ]
  },
  {
   "cell_type": "markdown",
   "metadata": {},
   "source": [
    "## Using the With statement for opening files\n",
    "One advantage to using the With statement is that files you open using this method are automatically closed."
   ]
  },
  {
   "cell_type": "code",
   "execution_count": 5,
   "metadata": {},
   "outputs": [],
   "source": [
    "# Append the file\n",
    "with open(\"demofile.txt\", \"a\") as f:\n",
    "    f.write(\"This is the second line.\\n\")\n",
    "\n",
    "    # No need to explicitly close the file. Close() is automatically called."
   ]
  },
  {
   "cell_type": "markdown",
   "metadata": {
    "toc-hr-collapsed": false
   },
   "source": [
    "## Reading files\n",
    "There are several ways to read data from a file. Some of the methods to read a file include: reading a specified number of characters, reading line-by-line, or a reading number of lines."
   ]
  },
  {
   "cell_type": "markdown",
   "metadata": {},
   "source": [
    "### Reading an entire file"
   ]
  },
  {
   "cell_type": "code",
   "execution_count": 6,
   "metadata": {},
   "outputs": [
    {
     "name": "stdout",
     "output_type": "stream",
     "text": [
      "Address Delivered at the Dedication of the Cemetery at Gettysburg \n",
      "Abraham Lincoln \n",
      "November 19, 1863 \n",
      "Four score and seven years ago our fathers brought forth on this continent, a new nation, conceived in Liberty, and dedicated to the proposition that all men are created equal.\n",
      "\n",
      "Now we are engaged in a great civil war, testing whether that nation, or any nation so conceived and dedicated, can long endure. We are met on a great battle-field of that war. We have come to dedicate a portion of that field, as a final resting place for those who here gave their lives that that nation might live. It is altogether fitting and proper that we should do this.\n",
      "\n",
      "But, in a larger sense, we can not dedicate -- we can not consecrate -- we can not hallow -- this ground. The brave men, living and dead, who struggled here, have consecrated it, far above our poor power to add or detract. The world will little note, nor long remember what we say here, but it can never forget what they did here. It is for us the living, rather, to be dedicated here to the unfinished work which they who fought here have thus far so nobly advanced. It is rather for us to be here dedicated to the great task remaining before us -- that from these honored dead we take increased devotion to that cause for which they gave the last full measure of devotion -- that we here highly resolve that these dead shall not have died in vain -- that this nation, under God, shall have a new birth of freedom -- and that government of the people, by the people, for the people, shall not perish from the earth.\n"
     ]
    }
   ],
   "source": [
    "file_path = os.getcwd()\n",
    "file_abs = file_path + \"\\\\\"+\"gettysburg.txt\"\n",
    "with open(file_abs,\"r\") as fh_getty:\n",
    "    #read() will access the entire file. Not a good option for large files.\n",
    "    print(fh_getty.read())"
   ]
  },
  {
   "cell_type": "code",
   "execution_count": 7,
   "metadata": {},
   "outputs": [
    {
     "name": "stdout",
     "output_type": "stream",
     "text": [
      "Address Delivered at the Dedication of the Cemetery at Gettysburg \n",
      "Abraham Lincoln \n",
      "November 19, 186\n"
     ]
    }
   ],
   "source": [
    "with open(file_abs,\"r\") as fh_getty:\n",
    "    n = 100\n",
    "    #read() will access the entire file. Not a good option for large files.\n",
    "    print(fh_getty.read(n)) # Read the first n characters"
   ]
  },
  {
   "cell_type": "code",
   "execution_count": 8,
   "metadata": {},
   "outputs": [
    {
     "name": "stdout",
     "output_type": "stream",
     "text": [
      "Address Delivered at the Dedication of the Cemetery at Gettysburg \n",
      "\n",
      "Abraham Lincoln \n",
      "\n",
      "November 19, 1863 \n",
      "\n"
     ]
    }
   ],
   "source": [
    "with open(file_abs,\"r\") as fh_getty:    \n",
    "    #read() will access the entire file. Not a good option for large files.\n",
    "    print(fh_getty.readline()) # Read a line\n",
    "    print(fh_getty.readline()) # Read a line\n",
    "    print(fh_getty.readline()) # Read a line"
   ]
  },
  {
   "cell_type": "code",
   "execution_count": 9,
   "metadata": {},
   "outputs": [
    {
     "name": "stdout",
     "output_type": "stream",
     "text": [
      "Address Delivered at the Dedication of the Cemetery at Gettysburg \n",
      "\n"
     ]
    }
   ],
   "source": [
    "with open(\"gettysburg.txt\",\"r\") as fh_getty:    \n",
    "    #read() will access the entire file. Not a good option for large files.\n",
    "    x = fh_getty.readlines() # Read all lines with new line characters, separated by commas\n",
    "    print(x[0])"
   ]
  },
  {
   "cell_type": "code",
   "execution_count": 10,
   "metadata": {},
   "outputs": [
    {
     "name": "stdout",
     "output_type": "stream",
     "text": [
      "0: Address Delivered at the Dedication of the Cemetery at Gettysburg \n",
      "\n",
      "1: Abraham Lincoln \n",
      "\n",
      "2: November 19, 1863 \n",
      "\n",
      "3: Four score and seven years ago our fathers brought forth on this continent, a new nation, conceived in Liberty, and dedicated to the proposition that all men are created equal.\n",
      "\n",
      "4: \n",
      "\n",
      "5: Now we are engaged in a great civil war, testing whether that nation, or any nation so conceived and dedicated, can long endure. We are met on a great battle-field of that war. We have come to dedicate a portion of that field, as a final resting place for those who here gave their lives that that nation might live. It is altogether fitting and proper that we should do this.\n",
      "\n",
      "6: \n",
      "\n",
      "7: But, in a larger sense, we can not dedicate -- we can not consecrate -- we can not hallow -- this ground. The brave men, living and dead, who struggled here, have consecrated it, far above our poor power to add or detract. The world will little note, nor long remember what we say here, but it can never forget what they did here. It is for us the living, rather, to be dedicated here to the unfinished work which they who fought here have thus far so nobly advanced. It is rather for us to be here dedicated to the great task remaining before us -- that from these honored dead we take increased devotion to that cause for which they gave the last full measure of devotion -- that we here highly resolve that these dead shall not have died in vain -- that this nation, under God, shall have a new birth of freedom -- and that government of the people, by the people, for the people, shall not perish from the earth.\n"
     ]
    }
   ],
   "source": [
    "with open(\"gettysburg.txt\",\"r\") as fh_getty:\n",
    "    line_number = 0\n",
    "    for x in fh_getty: # \"x\" will represent a line\n",
    "        print(str(line_number) + \": \" + x)\n",
    "        line_number += 1"
   ]
  },
  {
   "cell_type": "code",
   "execution_count": 11,
   "metadata": {},
   "outputs": [
    {
     "name": "stdout",
     "output_type": "stream",
     "text": [
      "full_name -- email\n",
      "Leilani Cox -- feugiat@eget.org\n",
      "Quin J. Alford -- eu@pellentesque.net\n",
      "Samantha L. Cortez -- eget@at.net\n",
      "Olympia B. Henson -- Cras.sed.leo@ornare.com\n",
      "Josephine R. Richard -- fermentum.metus@erategetipsum.ca\n",
      "Christine Morris -- vel.sapien@ornareIn.ca\n",
      "Olympia L. Hayden -- neque@enimcommodohendrerit.org\n",
      "Lila Y. Lucas -- vestibulum@elitNulla.net\n",
      "Samson R. Walls -- Cum.sociis@pharetra.org\n",
      "Ross Q. Wright -- Donec.nibh@sed.org\n",
      "Ferdinand N. Simpson -- et@facilisisvitae.ca\n",
      "Geoffrey H. Atkins -- eu@idante.org\n",
      "Sigourney Padilla -- ante@sit.edu\n",
      "Nicole Flowers -- cursus.et@lorem.ca\n",
      "Curran Oneill -- tellus@egetlacus.ca\n",
      "Josiah R. Larsen -- senectus.et@lorem.net\n",
      "Germaine S. Simmons -- Donec@acfacilisisfacilisis.co.uk\n",
      "Kathleen Burke -- elit.dictum.eu@mauriserateget.net\n",
      "April Hendricks -- velit.Pellentesque.ultricies@consequatpurus.edu\n",
      "Graiden O. Sanders -- est.arcu@Aeneaneget.org\n",
      "Mikayla Hebert -- porttitor@accumsanconvallis.com\n",
      "Hector W. Townsend -- ullamcorper.nisl@imperdietdictum.edu\n",
      "Sigourney C. Johnston -- urna.Nullam.lobortis@Donec.edu\n",
      "Zachery Q. Barnes -- erat.eget.ipsum@imperdiet.org\n",
      "Cyrus N. Bailey -- sed.facilisis.vitae@egetlacusMauris.co.uk\n",
      "Mannix Z. Reed -- lacus@egestasAliquam.ca\n",
      "Ian H. Lee -- id.mollis.nec@euplacerateget.edu\n",
      "Stella Watkins -- malesuada.fringilla.est@feugiat.com\n",
      "Prescott K. Gordon -- nec.malesuada@eumetusIn.co.uk\n",
      "Gregory H. Emerson -- id.magna@sollicitudincommodo.net\n",
      "Sean H. Smith -- nibh.Donec@ridiculusmusDonec.edu\n",
      "McKenzie Hodge -- Nam.porttitor@at.org\n",
      "Violet Bradford -- aliquet.Proin@idmollis.edu\n",
      "Hedwig H. Dodson -- nulla@etnunc.ca\n",
      "Michael B. Gordon -- Aenean.eget.metus@semut.edu\n",
      "Stephen Sullivan -- placerat.velit@urnaconvallis.net\n",
      "Ishmael R. Mcdowell -- in.hendrerit@consectetueradipiscing.com\n",
      "Logan O. Sullivan -- feugiat.non.lobortis@sem.co.uk\n",
      "Eve Buckner -- aliquet.sem.ut@acnullaIn.net\n",
      "Britanni Rogers -- Donec.tincidunt.Donec@duisemperet.ca\n",
      "Maite T. Hartman -- arcu.ac@ametdapibus.com\n",
      "Emi Moore -- ac.mi@auctorquis.co.uk\n",
      "Idola Gilbert -- Etiam.ligula@nasceturridiculus.org\n",
      "Rebecca I. Hale -- vulputate@nisiMauris.com\n",
      "Nolan Huber -- turpis.Aliquam.adipiscing@euismod.com\n",
      "Gannon H. Raymond -- nascetur.ridiculus.mus@orci.org\n",
      "Linus A. Butler -- cursus@fermentum.org\n",
      "Hakeem Powers -- lacus.Etiam.bibendum@nostra.ca\n",
      "Berk I. Obrien -- rutrum.urna.nec@Incondimentum.com\n",
      "Cynthia Z. Hayden -- dolor.Fusce@malesuada.ca\n",
      "Bertha J. Burns -- Duis.risus@ridiculusmus.co.uk\n",
      "Ella H. Ayers -- lorem.sit.amet@augueid.edu\n",
      "Elizabeth P. Mcmahon -- litora@velvulputateeu.ca\n",
      "Hall Baird -- condimentum.eget@commodoat.ca\n",
      "Ralph F. Acosta -- consequat.lectus@magnaetipsum.ca\n",
      "Honorato R. Marshall -- gravida.sagittis.Duis@Integer.com\n",
      "Ahmed Mclaughlin -- nec.imperdiet.nec@Nullaeuneque.org\n",
      "Hamilton X. Mooney -- lobortis.ultrices@afacilisisnon.ca\n",
      "Dominic N. Burns -- blandit@aultricies.ca\n",
      "Jelani J. Gould -- dui.augue.eu@sit.com\n",
      "Chase D. Chavez -- egestas.hendrerit.neque@loremeu.ca\n",
      "Jada Z. Estes -- eu@primisinfaucibus.net\n",
      "India S. Dejesus -- pretium.et@pulvinararcu.co.uk\n",
      "Darius M. Kim -- tempus@pedeNuncsed.ca\n",
      "Noel Lamb -- Aenean@consequat.co.uk\n",
      "Kay M. Jensen -- magnis.dis.parturient@ac.com\n",
      "Owen Pearson -- lorem.eu@CrasinterdumNunc.net\n",
      "Theodore W. Alvarado -- orci.adipiscing@CuraeDonec.co.uk\n",
      "Graham Lawson -- morbi.tristique@ornare.net\n",
      "Stella Schneider -- justo.faucibus.lectus@variusultricesmauris.co.uk\n",
      "Christian Y. Marsh -- Duis@metusurna.com\n",
      "Heidi Whitfield -- parturient@sitametrisus.ca\n",
      "Rooney Stout -- ullamcorper.Duis@maurisa.com\n",
      "Giacomo Herrera -- posuere.vulputate@vitaealiquet.co.uk\n",
      "Prescott K. Bruce -- lobortis.augue.scelerisque@Nullaaliquet.ca\n",
      "Allistair Coffey -- sollicitudin.a@facilisis.ca\n",
      "Richard Knox -- magna@adipiscingfringilla.co.uk\n",
      "Rosalyn P. Young -- sagittis.semper@a.com\n",
      "Philip D. Paul -- Nunc.lectus.pede@sedliberoProin.org\n",
      "Germaine Henderson -- tellus.faucibus.leo@Donecat.com\n",
      "Zahir Pittman -- interdum.Curabitur@pede.com\n",
      "Brennan L. Knox -- id.libero@Nuncmaurissapien.com\n",
      "Cyrus Reyes -- ac@etrutrum.edu\n",
      "Tate H. Cardenas -- sit.amet@taciti.edu\n",
      "Randall P. Walters -- mollis.non@ultrices.edu\n",
      "Donovan K. Carrillo -- ipsum.non.arcu@gravida.com\n",
      "Brianna Short -- scelerisque@acsem.ca\n",
      "Myra V. Weeks -- condimentum@veliteusem.net\n",
      "Chiquita D. Knowles -- pede.Cum.sociis@magnis.edu\n",
      "Aaron E. Matthews -- Suspendisse.sagittis@Suspendisse.com\n",
      "Portia J. Best -- et.nunc.Quisque@elementumloremut.org\n",
      "Daryl Kelley -- commodo@Quisqueornare.edu\n",
      "Grady Q. Dominguez -- Proin@elitCurabitursed.net\n",
      "Lev H. Reyes -- ac@quis.edu\n",
      "Scarlett P. Nicholson -- nunc@Aliquam.co.uk\n",
      "Chava Simon -- sollicitudin@nunc.org\n",
      "Jana Landry -- Mauris.non.dui@egetipsumDonec.com\n",
      "Garrett L. Molina -- sit.amet.consectetuer@dis.org\n",
      "Darryl S. Wilkerson -- et.lacinia.vitae@sodalesnisi.ca\n",
      "Rhonda Z. Dillon -- adipiscing.elit@ut.ca\n"
     ]
    }
   ],
   "source": [
    "with open(\"fake_customer_list.txt\", \"r\") as fh_customers:\n",
    "\n",
    "    for line in fh_customers:\n",
    "        #print(line)\n",
    "        customer_list = line.strip().split(\"|\")\n",
    "        full_name = customer_list[0]\n",
    "        email = customer_list[-1]\n",
    "        print(full_name + \" -- \" + email)        "
   ]
  },
  {
   "cell_type": "code",
   "execution_count": 12,
   "metadata": {},
   "outputs": [
    {
     "name": "stdout",
     "output_type": "stream",
     "text": [
      "['.git', '.gitignore', '.ipynb_checkpoints', 'demofile.txt', 'fake_customer_list.txt', 'gettysburg.txt', 'images', 'people_data.csv', 'Python fundamentals.ipynb', 'Untitled1.ipynb', 'Untitled2.ipynb']\n"
     ]
    }
   ],
   "source": [
    "# List files in the current directory \n",
    "import os\n",
    "print(os.listdir(os.getcwd()))"
   ]
  },
  {
   "cell_type": "markdown",
   "metadata": {},
   "source": [
    "### Use the CSV module to read a file"
   ]
  },
  {
   "cell_type": "code",
   "execution_count": 16,
   "metadata": {},
   "outputs": [
    {
     "name": "stdout",
     "output_type": "stream",
     "text": [
      "[['ï»¿First Name', 'Last Name', 'Gender', 'Age', 'Email', 'Phone', 'Education', 'Occupation', 'Experience (Years)', 'Salary', 'Marital Status', 'Number of Children'], ['amy', 'moore', 'Female', '26', 'a.moore@randatmail.com', '177-8697-63', 'Bachelor', 'Astronomer', '11', '118590', 'Married', '4'], ['rosie', 'henderson', 'Female', '29', 'r.henderson@randatmail.com', '747-7768-48', 'Primary', 'Manager', '14', '42540', 'Single', '1'], ['garry', 'cooper', 'Male', '29', 'g.cooper@randatmail.com', '131-0615-33', 'Upper secondary', 'Agronomist', '11', '149123', 'Single', '3'], ['sarah', 'miller', 'Female', '27', 's.miller@randatmail.com', '811-2617-15', 'Primary', 'Pharmacist', '6', '97946', 'Single', '2'], ['rubie', 'sullivan', 'Female', '23', 'r.sullivan@randatmail.com', '543-4162-06', 'Bachelor', 'Engineer', '8', '78613', 'Married', '4'], ['fiona', 'williams', 'Female', '25', 'f.williams@randatmail.com', '807-4311-40', 'Doctoral', 'Lecturer', '7', '65368', 'Single', '5'], ['thomas', 'carter', 'Male', '24', 't.carter@randatmail.com', '281-1436-40', 'Bachelor', 'Veterinarian', '5', '64881', 'Single', '4'], ['sawyer', 'martin', 'Male', '20', 's.martin@randatmail.com', '905-3877-91', 'Upper secondary', 'Lawer', '7', '140405', 'Married', '0'], ['eleanor', 'robinson', 'Female', '20', 'e.robinson@randatmail.com', '049-5493-56', 'Primary', 'Scientist', '6', '194147', 'Married', '3'], ['adrianna', 'kelley', 'Female', '22', 'a.kelley@randatmail.com', '251-3368-86', 'Upper secondary', 'Actor', '0', '160569', 'Married', '1'], ['maximilian', 'gray', 'Male', '25', 'm.gray@randatmail.com', '976-1552-14', 'Lower secondary', 'Baker', '3', '80813', 'Married', '3'], ['miley', 'stewart', 'Female', '26', 'm.stewart@randatmail.com', '504-2889-84', 'Bachelor', 'Veterinarian', '5', '145033', 'Married', '4'], ['tiana', 'grant', 'Female', '19', 't.grant@randatmail.com', '326-8397-28', 'Bachelor', 'Economist', '3', '96135', 'Married', '5'], ['vincent', 'parker', 'Male', '30', 'v.parker@randatmail.com', '354-4888-28', 'Lower secondary', 'Salesman', '9', '170367', 'Single', '0'], ['edwin', 'roberts', 'Male', '26', 'e.roberts@randatmail.com', '593-4080-27', 'Doctoral', 'Fashion Designer', '7', '125753', 'Married', '2'], ['oscar', 'elliott', 'Male', '28', 'o.elliott@randatmail.com', '862-9748-49', 'Bachelor', 'Interpreter', '5', '74854', 'Single', '2'], ['eric', 'bailey', 'Male', '28', 'e.bailey@randatmail.com', '940-1010-90', 'Upper secondary', 'Interpreter', '3', '189933', 'Single', '1'], ['alexander', 'rogers', 'Male', '26', 'a.rogers@randatmail.com', '329-0405-60', 'Master', 'Programmer', '9', '119998', 'Single', '5'], ['richard', 'thompson', 'Male', '21', 'r.thompson@randatmail.com', '355-0318-95', 'Bachelor', 'Driver', '10', '104777', 'Single', '1'], ['alford', 'murphy', 'Male', '24', 'a.murphy@randatmail.com', '003-6561-34', 'Upper secondary', 'Fine Artist', '11', '137278', 'Single', '5'], ['david', 'murphy', 'Male', '21', 'd.murphy@randatmail.com', '894-1854-00', 'Lower secondary', 'Botanist', '9', '78710', 'Married', '5'], ['stella', 'barrett', 'Female', '19', 's.barrett@randatmail.com', '227-0986-74', 'Doctoral', 'Police Officer', '5', '53667', 'Married', '2'], ['lyndon', 'smith', 'Male', '21', 'l.smith@randatmail.com', '668-2436-53', 'Primary', 'Botanist', '0', '76830', 'Single', '2'], ['steven', 'carter', 'Male', '30', 's.carter@randatmail.com', '715-7201-49', 'Upper secondary', 'Botanist', '11', '93973', 'Married', '5'], ['preston', 'barnes', 'Male', '25', 'p.barnes@randatmail.com', '007-6829-81', 'Bachelor', 'Singer', '11', '177626', 'Single', '4'], ['william', 'walker', 'Male', '27', 'w.walker@randatmail.com', '154-7340-83', 'Bachelor', 'Singer', '5', '171551', 'Single', '3'], ['haris', 'evans', 'Male', '30', 'h.evans@randatmail.com', '971-9369-18', 'Bachelor', 'Composer', '10', '60692', 'Married', '4'], ['maria', 'moore', 'Female', '26', 'm.moore@randatmail.com', '456-2003-63', 'Doctoral', 'Singer', '2', '186484', 'Married', '0'], ['lydia', 'carter', 'Female', '29', 'l.carter@randatmail.com', '296-9654-47', 'Lower secondary', 'Medic', '4', '140228', 'Married', '1'], ['tony', 'scott', 'Male', '20', 't.scott@randatmail.com', '516-1118-94', 'Bachelor', 'Electrician', '7', '173792', 'Married', '4'], ['michael', 'campbell', 'Male', '18', 'm.campbell@randatmail.com', '678-3673-99', 'Primary', 'Lawer', '6', '81725', 'Married', '1'], ['jenna', 'robinson', 'Female', '21', 'j.robinson@randatmail.com', '484-8871-95', 'Master', 'Architect', '10', '44866', 'Single', '3'], ['kellan', 'perry', 'Male', '19', 'k.perry@randatmail.com', '007-7196-00', 'Doctoral', 'Accountant', '3', '146473', 'Married', '2'], ['paul', 'campbell', 'Male', '25', 'p.campbell@randatmail.com', '333-7643-81', 'Lower secondary', 'Accountant', '11', '178942', 'Married', '4'], ['owen', 'anderson', 'Male', '24', 'o.anderson@randatmail.com', '721-5432-57', 'Primary', 'Carpenter', '5', '184801', 'Single', '3'], ['camila', 'craig', 'Female', '18', 'c.craig@randatmail.com', '214-7433-34', 'Primary', 'Jeweller', '6', '137180', 'Married', '1'], ['luke', 'cooper', 'Male', '26', 'l.cooper@randatmail.com', '717-8884-75', 'Lower secondary', 'Geologist', '10', '133373', 'Married', '4'], ['frederick', 'martin', 'Male', '18', 'f.martin@randatmail.com', '293-2301-63', 'Primary', 'Interpreter', '6', '199056', 'Single', '2'], ['sabrina', 'wright', 'Female', '24', 's.wright@randatmail.com', '870-2143-99', 'Master', 'Police Officer', '7', '158787', 'Married', '3'], ['emma', 'owens', 'Female', '30', 'e.owens@randatmail.com', '668-1442-04', 'Bachelor', 'Graphic Designer', '14', '180887', 'Single', '2'], ['arnold', 'crawford', 'Male', '25', 'a.crawford@randatmail.com', '518-6820-22', 'Upper secondary', 'Physicist', '3', '126988', 'Single', '5'], ['alisa', 'cameron', 'Female', '30', 'a.cameron@randatmail.com', '178-7304-99', 'Lower secondary', 'Engineer', '7', '193299', 'Married', '3'], ['abraham', 'perry', 'Male', '19', 'a.perry@randatmail.com', '955-0868-57', 'Primary', 'Lecturer', '8', '81195', 'Single', '3'], ['ada', 'jones', 'Female', '23', 'a.jones@randatmail.com', '058-1497-41', 'Lower secondary', 'Architect', '8', '79967', 'Single', '2'], ['richard', 'smith', 'Male', '25', 'r.smith@randatmail.com', '181-8403-19', 'Lower secondary', 'Dancer', '9', '118813', 'Single', '2'], ['gianna', 'higgins', 'Female', '30', 'g.higgins@randatmail.com', '092-3915-89', 'Primary', 'Cook', '4', '50738', 'Single', '5'], ['wilson', 'richards', 'Male', '27', 'w.richards@randatmail.com', '082-5216-84', 'Lower secondary', 'Mathematician', '0', '133443', 'Married', '2'], ['abigail', 'casey', 'Female', '29', 'a.casey@randatmail.com', '909-9922-28', 'Master', 'Electrician', '14', '54132', 'Single', '4'], ['walter', 'richards', 'Male', '27', 'w.richards@randatmail.com', '435-1473-30', 'Bachelor', 'Lawer', '8', '197908', 'Single', '2'], ['michael', 'harper', 'Male', '22', 'm.harper@randatmail.com', '510-9134-25', 'Bachelor', 'Medic', '7', '81846', 'Single', '0'], ['kristian', 'andrews', 'Male', '29', 'k.andrews@randatmail.com', '426-0394-61', 'Master', 'Aeroplane Pilot', '7', '125381', 'Married', '2'], ['miley', 'lloyd', 'Female', '25', 'm.lloyd@randatmail.com', '169-8774-41', 'Upper secondary', 'Photographer', '1', '177842', 'Married', '4'], ['alan', 'smith', 'Male', '18', 'a.smith@randatmail.com', '011-3840-74', 'Doctoral', 'Social Worker', '4', '120348', 'Single', '0'], ['oliver', 'owens', 'Male', '18', 'o.owens@randatmail.com', '519-5455-38', 'Doctoral', 'Driver', '0', '108026', 'Single', '3'], ['mike', 'parker', 'Male', '26', 'm.parker@randatmail.com', '763-7838-50', 'Bachelor', 'Veterinarian', '2', '169948', 'Married', '0'], ['byron', 'adams', 'Male', '27', 'b.adams@randatmail.com', '384-5847-24', 'Lower secondary', 'Social Worker', '7', '108570', 'Married', '3'], ['spike', 'martin', 'Male', '26', 's.martin@randatmail.com', '331-3495-68', 'Bachelor', 'Teacher', '4', '154722', 'Single', '2'], ['miller', 'hall', 'Male', '28', 'm.hall@randatmail.com', '265-4711-85', 'Doctoral', 'Scientist', '11', '32846', 'Married', '1'], ['sofia', 'bailey', 'Female', '28', 's.bailey@randatmail.com', '475-8717-44', 'Bachelor', 'Carpenter', '3', '141442', 'Married', '5'], ['cherry', 'warren', 'Female', '23', 'c.warren@randatmail.com', '478-0776-13', 'Bachelor', 'Interior Designer', '10', '142614', 'Married', '2'], ['michelle', 'montgomery', 'Female', '23', 'm.montgomery@randatmail.com', '124-0365-04', 'Master', 'Lawer', '5', '95640', 'Married', '4'], ['garry', 'kelly', 'Male', '28', 'g.kelly@randatmail.com', '119-1538-59', 'Primary', 'Social Worker', '5', '136251', 'Married', '2'], ['lenny', 'moore', 'Male', '20', 'l.moore@randatmail.com', '641-6842-98', 'Primary', 'Social Worker', '1', '124513', 'Single', '2'], ['alfred', 'perry', 'Male', '22', 'a.perry@randatmail.com', '211-3813-78', 'Doctoral', 'Police Officer', '8', '108027', 'Single', '5'], ['arnold', 'stevens', 'Male', '25', 'a.stevens@randatmail.com', '121-2974-97', 'Bachelor', 'Auditor', '3', '86784', 'Single', '0'], ['lucas', 'anderson', 'Male', '27', 'l.anderson@randatmail.com', '720-7506-50', 'Upper secondary', 'Chemist', '11', '183757', 'Single', '0'], ['rubie', 'holmes', 'Female', '20', 'r.holmes@randatmail.com', '529-5398-39', 'Master', 'Chef', '1', '68102', 'Married', '2'], ['max', 'cunningham', 'Male', '21', 'm.cunningham@randatmail.com', '780-8051-64', 'Doctoral', 'Programmer', '10', '61703', 'Married', '2'], ['hailey', 'phillips', 'Female', '26', 'h.phillips@randatmail.com', '645-3524-23', 'Doctoral', 'Electrician', '10', '140481', 'Married', '1'], ['tyler', 'brooks', 'Male', '18', 't.brooks@randatmail.com', '983-2255-71', 'Master', 'Scientist', '7', '195949', 'Single', '1'], ['olivia', 'wilson', 'Female', '25', 'o.wilson@randatmail.com', '880-3110-76', 'Bachelor', 'Composer', '5', '174655', 'Married', '0'], ['julian', 'cole', 'Male', '25', 'j.cole@randatmail.com', '075-5393-86', 'Upper secondary', 'Chemist', '11', '88575', 'Married', '3'], ['alina', 'hawkins', 'Female', '29', 'a.hawkins@randatmail.com', '531-9494-52', 'Doctoral', 'Graphic Designer', '2', '81314', 'Single', '4'], ['sophia', 'casey', 'Female', '30', 's.casey@randatmail.com', '951-9691-95', 'Upper secondary', 'Geologist', '14', '63091', 'Single', '4'], ['julia', 'clark', 'Female', '26', 'j.clark@randatmail.com', '170-8895-18', 'Doctoral', 'Astronomer', '0', '64090', 'Married', '5'], ['victor', 'russell', 'Male', '23', 'v.russell@randatmail.com', '051-1151-04', 'Doctoral', 'Electrician', '1', '141276', 'Married', '5'], ['mike', 'morrison', 'Male', '30', 'm.morrison@randatmail.com', '999-4285-82', 'Doctoral', 'Manager', '8', '94263', 'Married', '2'], ['brad', 'wright', 'Male', '27', 'b.wright@randatmail.com', '679-1206-65', 'Master', 'Biochemist', '8', '45265', 'Married', '3'], ['martin', 'morrison', 'Male', '25', 'm.morrison@randatmail.com', '284-2781-20', 'Upper secondary', 'Journalist', '5', '58505', 'Married', '2'], ['harold', 'scott', 'Male', '24', 'h.scott@randatmail.com', '368-3430-96', 'Doctoral', 'Fashion Designer', '5', '107901', 'Married', '0'], ['isabella', 'ferguson', 'Female', '25', 'i.ferguson@randatmail.com', '112-9238-52', 'Primary', 'Journalist', '1', '89909', 'Married', '2'], ['rubie', 'cole', 'Female', '26', 'r.cole@randatmail.com', '730-7130-34', 'Primary', 'Baker', '5', '171734', 'Single', '5'], ['violet', 'foster', 'Female', '18', 'v.foster@randatmail.com', '923-6053-60', 'Master', 'Manager', '2', '180192', 'Married', '4'], ['byron', 'gibson', 'Male', '26', 'b.gibson@randatmail.com', '051-2067-16', 'Doctoral', 'Fashion Designer', '5', '123462', 'Single', '0'], ['emily', 'wells', 'Female', '28', 'e.wells@randatmail.com', '008-1492-38', 'Master', 'Florist', '1', '42418', 'Married', '5'], ['victoria', 'grant', 'Female', '21', 'v.grant@randatmail.com', '425-2690-87', 'Doctoral', 'Journalist', '1', '196967', 'Single', '1'], ['savana', 'lloyd', 'Female', '25', 's.lloyd@randatmail.com', '815-2225-60', 'Master', 'Composer', '9', '170735', 'Single', '1'], ['preston', 'cunningham', 'Male', '30', 'p.cunningham@randatmail.com', '711-0333-61', 'Primary', 'Graphic Designer', '12', '70804', 'Single', '4'], ['sabrina', 'kelley', 'Female', '20', 's.kelley@randatmail.com', '789-9188-02', 'Doctoral', 'Biochemist', '8', '41573', 'Married', '2'], ['olivia', 'chapman', 'Female', '29', 'o.chapman@randatmail.com', '141-3190-15', 'Bachelor', 'Journalist', '8', '129990', 'Married', '0'], ['tess', 'chapman', 'Female', '27', 't.chapman@randatmail.com', '570-2499-28', 'Upper secondary', 'Actor', '5', '110315', 'Married', '5'], ['anna', 'harper', 'Female', '19', 'a.harper@randatmail.com', '300-1139-07', 'Doctoral', 'Dancer', '0', '55028', 'Married', '4'], ['victor', 'stevens', 'Male', '28', 'v.stevens@randatmail.com', '387-4643-95', 'Bachelor', 'Biochemist', '2', '95134', 'Single', '5'], ['maximilian', 'allen', 'Male', '30', 'm.allen@randatmail.com', '451-3830-89', 'Bachelor', 'Mathematician', '9', '149360', 'Married', '0'], ['emily', 'bailey', 'Female', '20', 'e.bailey@randatmail.com', '290-0711-88', 'Doctoral', 'Economist', '9', '84585', 'Single', '1'], ['robert', 'bailey', 'Male', '21', 'r.bailey@randatmail.com', '793-0667-37', 'Lower secondary', 'Salesman', '1', '60713', 'Married', '2'], ['myra', 'barrett', 'Female', '19', 'm.barrett@randatmail.com', '327-1291-87', 'Master', 'Engineer', '7', '130894', 'Single', '5'], ['miller', 'davis', 'Male', '29', 'm.davis@randatmail.com', '976-8125-86', 'Lower secondary', 'Scientist', '6', '63247', 'Single', '4'], ['dominik', 'davis', 'Male', '18', 'd.davis@randatmail.com', '897-8054-17', 'Master', 'Meteorologist', '1', '179033', 'Married', '0'], ['sydney', 'douglas', 'Female', '18', 's.douglas@randatmail.com', '197-2305-29', 'Upper secondary', 'Police Officer', '9', '80548', 'Married', '4'], ['alexia', 'watson', 'Female', '19', 'a.watson@randatmail.com', '478-1134-19', 'Master', 'Scientist', '8', '71243', 'Married', '0'], ['julia', 'cameron', 'Female', '24', 'j.cameron@randatmail.com', '836-9057-41', 'Master', 'Historian', '10', '152112', 'Single', '1'], ['robert', 'edwards', 'Male', '21', 'r.edwards@randatmail.com', '913-0408-26', 'Upper secondary', 'Engineer', '8', '173872', 'Married', '2'], ['sarah', 'harrison', 'Female', '30', 's.harrison@randatmail.com', '722-5005-04', 'Upper secondary', 'Architect', '14', '154287', 'Married', '2'], ['sam', 'johnston', 'Male', '29', 's.johnston@randatmail.com', '028-0115-99', 'Primary', 'Accountant', '7', '51238', 'Single', '1'], ['michael', 'davis', 'Male', '22', 'm.davis@randatmail.com', '367-2578-83', 'Upper secondary', 'Hairdresser', '2', '57816', 'Married', '1'], ['emma', 'morgan', 'Female', '18', 'e.morgan@randatmail.com', '881-5268-25', 'Primary', 'Composer', '7', '126503', 'Single', '3'], ['naomi', 'turner', 'Female', '25', 'n.turner@randatmail.com', '413-9577-60', 'Lower secondary', 'Florist', '1', '107903', 'Single', '3'], ['wilson', 'bennett', 'Male', '18', 'w.bennett@randatmail.com', '189-9986-96', 'Primary', 'Botanist', '2', '31721', 'Married', '5'], ['kevin', 'parker', 'Male', '27', 'k.parker@randatmail.com', '135-1544-03', 'Bachelor', 'Baker', '7', '100097', 'Single', '5'], ['abigail', 'miller', 'Female', '27', 'a.miller@randatmail.com', '575-1165-72', 'Upper secondary', 'Scientist', '6', '139377', 'Single', '5'], ['penelope', 'allen', 'Female', '21', 'p.allen@randatmail.com', '211-4973-86', 'Lower secondary', 'Salesman', '6', '107372', 'Married', '2'], ['carl', 'brown', 'Male', '27', 'c.brown@randatmail.com', '913-1229-81', 'Bachelor', 'Dancer', '1', '50670', 'Single', '4'], ['rafael', 'morgan', 'Male', '22', 'r.morgan@randatmail.com', '131-7560-04', 'Upper secondary', 'Producer', '3', '184797', 'Married', '0'], ['jacob', 'cole', 'Male', '28', 'j.cole@randatmail.com', '322-9513-47', 'Lower secondary', 'Actor', '13', '41535', 'Single', '1'], ['tony', 'harper', 'Male', '22', 't.harper@randatmail.com', '711-1778-61', 'Primary', 'Interior Designer', '11', '144782', 'Married', '2'], ['nicole', 'harrison', 'Female', '25', 'n.harrison@randatmail.com', '130-9394-30', 'Doctoral', 'Producer', '0', '40607', 'Married', '0'], ['samantha', 'hunt', 'Female', '19', 's.hunt@randatmail.com', '183-9182-46', 'Upper secondary', 'Historian', '3', '144637', 'Single', '3'], ['rafael', 'campbell', 'Male', '25', 'r.campbell@randatmail.com', '584-5930-35', 'Primary', 'Architect', '11', '122540', 'Married', '4'], ['valeria', 'riley', 'Female', '28', 'v.riley@randatmail.com', '612-0256-16', 'Upper secondary', 'Salesman', '4', '64584', 'Married', '4'], ['harold', 'chapman', 'Male', '21', 'h.chapman@randatmail.com', '878-2453-79', 'Upper secondary', 'Auditor', '0', '61408', 'Single', '0'], ['deanna', 'lloyd', 'Female', '18', 'd.lloyd@randatmail.com', '247-2313-19', 'Lower secondary', 'Mechanic', '4', '55435', 'Single', '3'], ['rosie', 'mason', 'Female', '27', 'r.mason@randatmail.com', '823-1776-32', 'Upper secondary', 'Singer', '5', '161023', 'Single', '4'], ['sofia', 'carter', 'Female', '22', 's.carter@randatmail.com', '315-5085-12', 'Primary', 'Meteorologist', '11', '120815', 'Single', '1'], ['oliver', 'henderson', 'Male', '21', 'o.henderson@randatmail.com', '737-0605-49', 'Bachelor', 'Hairdresser', '6', '82005', 'Single', '1'], ['oliver', 'roberts', 'Male', '26', 'o.roberts@randatmail.com', '490-3920-67', 'Primary', 'Fashion Designer', '10', '135981', 'Married', '5'], ['gianna', 'gray', 'Female', '20', 'g.gray@randatmail.com', '773-5428-91', 'Master', 'Teacher', '6', '152489', 'Single', '1'], ['fiona', 'henderson', 'Female', '18', 'f.henderson@randatmail.com', '491-9262-32', 'Doctoral', 'Auditor', '8', '103921', 'Single', '2'], ['cadie', 'thomas', 'Female', '27', 'c.thomas@randatmail.com', '969-7325-98', 'Doctoral', 'Singer', '9', '164829', 'Married', '2'], ['emily', 'chapman', 'Female', '22', 'e.chapman@randatmail.com', '099-7704-94', 'Primary', 'Interior Designer', '7', '57626', 'Single', '3'], ['byron', 'cameron', 'Male', '22', 'b.cameron@randatmail.com', '785-5028-49', 'Master', 'Producer', '6', '37762', 'Single', '2'], ['elise', 'cunningham', 'Female', '20', 'e.cunningham@randatmail.com', '766-6574-16', 'Bachelor', 'Architect', '2', '129222', 'Married', '2'], ['richard', 'kelley', 'Male', '18', 'r.kelley@randatmail.com', '018-9300-79', 'Bachelor', 'Social Worker', '9', '142644', 'Single', '4'], ['samantha', 'elliott', 'Female', '27', 's.elliott@randatmail.com', '455-2624-01', 'Primary', 'Meteorologist', '7', '35602', 'Married', '5'], ['florrie', 'tucker', 'Female', '19', 'f.tucker@randatmail.com', '195-5912-47', 'Master', 'Cook', '9', '45985', 'Single', '5'], ['samantha', 'phillips', 'Female', '25', 's.phillips@randatmail.com', '139-3807-69', 'Lower secondary', 'Botanist', '11', '36479', 'Single', '5'], ['justin', 'douglas', 'Male', '20', 'j.douglas@randatmail.com', '621-3423-22', 'Lower secondary', 'Hairdresser', '7', '76312', 'Married', '0'], ['myra', 'davis', 'Female', '26', 'm.davis@randatmail.com', '935-8060-32', 'Bachelor', 'Hairdresser', '5', '41644', 'Single', '2'], ['henry', 'murray', 'Male', '30', 'h.murray@randatmail.com', '101-3043-08', 'Upper secondary', 'Astronomer', '4', '182250', 'Single', '3'], ['rafael', 'perkins', 'Male', '21', 'r.perkins@randatmail.com', '989-5303-81', 'Master', 'Fine Artist', '1', '184877', 'Single', '3'], ['paul', 'smith', 'Male', '18', 'p.smith@randatmail.com', '949-3730-19', 'Primary', 'Accountant', '5', '151610', 'Married', '2'], ['james', 'edwards', 'Male', '20', 'j.edwards@randatmail.com', '987-4498-83', 'Upper secondary', 'Geologist', '10', '73493', 'Single', '0'], ['alina', 'martin', 'Female', '22', 'a.martin@randatmail.com', '324-5000-25', 'Lower secondary', 'Astronomer', '5', '166753', 'Single', '2'], ['marcus', 'brown', 'Male', '27', 'm.brown@randatmail.com', '700-9109-00', 'Bachelor', 'Chef', '9', '105013', 'Single', '4'], ['alford', 'wells', 'Male', '28', 'a.wells@randatmail.com', '352-3345-85', 'Primary', 'Lecturer', '4', '150289', 'Single', '0'], ['jasmine', 'cole', 'Female', '29', 'j.cole@randatmail.com', '422-4780-08', 'Bachelor', 'Auditor', '6', '187741', 'Married', '5'], ['maddie', 'payne', 'Female', '22', 'm.payne@randatmail.com', '183-0834-64', 'Primary', 'Fine Artist', '6', '129198', 'Married', '5'], ['oscar', 'russell', 'Male', '30', 'o.russell@randatmail.com', '387-2552-65', 'Master', 'Firefighter', '1', '58245', 'Single', '3'], ['maddie', 'myers', 'Female', '28', 'm.myers@randatmail.com', '607-4771-59', 'Bachelor', 'Singer', '14', '168001', 'Married', '2'], ['george', 'allen', 'Male', '21', 'g.allen@randatmail.com', '519-5031-13', 'Lower secondary', 'Journalist', '10', '196808', 'Married', '1'], ['kristian', 'riley', 'Male', '22', 'k.riley@randatmail.com', '909-1395-68', 'Bachelor', 'Mathematician', '1', '67916', 'Single', '2'], ['agata', 'alexander', 'Female', '25', 'a.alexander@randatmail.com', '806-2398-53', 'Bachelor', 'Geologist', '2', '114157', 'Single', '1'], ['charlie', 'nelson', 'Male', '21', 'c.nelson@randatmail.com', '661-8488-06', 'Upper secondary', 'Chef', '2', '85430', 'Married', '3'], ['aida', 'thomas', 'Female', '20', 'a.thomas@randatmail.com', '137-1071-48', 'Lower secondary', 'Mechanic', '7', '133756', 'Single', '3'], ['charlie', 'morgan', 'Male', '25', 'c.morgan@randatmail.com', '591-8399-95', 'Upper secondary', 'Firefighter', '6', '196524', 'Single', '3'], ['kellan', 'parker', 'Male', '25', 'k.parker@randatmail.com', '202-9726-19', 'Primary', 'Auditor', '0', '66114', 'Single', '4'], ['kimberly', 'johnson', 'Female', '20', 'k.johnson@randatmail.com', '707-9204-48', 'Bachelor', 'Mathematician', '4', '160787', 'Single', '3'], ['reid', 'farrell', 'Male', '26', 'r.farrell@randatmail.com', '095-2027-86', 'Doctoral', 'Archeologist', '3', '82676', 'Single', '2'], ['aiden', 'jones', 'Male', '29', 'a.jones@randatmail.com', '920-9778-48', 'Primary', 'Lecturer', '7', '169038', 'Married', '2'], ['alen', 'foster', 'Male', '18', 'a.foster@randatmail.com', '797-0813-60', 'Lower secondary', 'Electrician', '0', '39170', 'Married', '4'], ['elise', 'hill', 'Female', '18', 'e.hill@randatmail.com', '266-5294-21', 'Lower secondary', 'Cook', '9', '106485', 'Married', '4'], ['tyler', 'bennett', 'Male', '22', 't.bennett@randatmail.com', '219-2450-97', 'Bachelor', 'Scientist', '3', '106119', 'Married', '5'], ['blake', 'montgomery', 'Male', '25', 'b.montgomery@randatmail.com', '757-2003-43', 'Lower secondary', 'Veterinarian', '8', '60296', 'Single', '5'], ['lucia', 'stewart', 'Female', '20', 'l.stewart@randatmail.com', '996-3704-20', 'Master', 'Pharmacist', '8', '106810', 'Married', '4'], ['amelia', 'mason', 'Female', '28', 'a.mason@randatmail.com', '505-6081-80', 'Upper secondary', 'Composer', '11', '53389', 'Married', '0'], ['chester', 'richardson', 'Male', '27', 'c.richardson@randatmail.com', '587-7143-08', 'Bachelor', 'Cook', '11', '193102', 'Married', '0'], ['gianna', 'taylor', 'Female', '19', 'g.taylor@randatmail.com', '407-9136-66', 'Doctoral', 'Baker', '1', '49380', 'Single', '0'], ['arthur', 'richards', 'Male', '28', 'a.richards@randatmail.com', '292-0356-03', 'Upper secondary', 'Manager', '4', '99047', 'Married', '1'], ['derek', 'ryan', 'Male', '19', 'd.ryan@randatmail.com', '857-0419-87', 'Bachelor', 'Economist', '3', '140516', 'Single', '4'], ['freddie', 'campbell', 'Male', '19', 'f.campbell@randatmail.com', '787-6934-88', 'Lower secondary', 'Hairdresser', '3', '99325', 'Married', '5'], ['ada', 'campbell', 'Female', '20', 'a.campbell@randatmail.com', '367-0388-30', 'Master', 'Lawer', '8', '191923', 'Single', '5'], ['lucia', 'parker', 'Female', '30', 'l.parker@randatmail.com', '066-0800-78', 'Lower secondary', 'Social Worker', '5', '49669', 'Married', '4'], ['abigail', 'robinson', 'Female', '26', 'a.robinson@randatmail.com', '521-0480-72', 'Primary', 'Hairdresser', '5', '45305', 'Single', '3'], ['thomas', 'baker', 'Male', '27', 't.baker@randatmail.com', '740-2820-87', 'Primary', 'Carpenter', '7', '195839', 'Single', '4'], ['eleanor', 'russell', 'Female', '29', 'e.russell@randatmail.com', '383-7318-08', 'Primary', 'Manager', '11', '161017', 'Married', '2'], ['adele', 'phillips', 'Female', '24', 'a.phillips@randatmail.com', '723-3607-46', 'Doctoral', 'Chemist', '10', '104926', 'Married', '1'], ['henry', 'morris', 'Male', '19', 'h.morris@randatmail.com', '556-0599-79', 'Doctoral', 'Photographer', '0', '48360', 'Single', '3'], ['sabrina', 'thomas', 'Female', '23', 's.thomas@randatmail.com', '198-1283-20', 'Primary', 'Mechanic', '11', '99768', 'Married', '0'], ['sydney', 'jones', 'Female', '24', 's.jones@randatmail.com', '385-8426-36', 'Master', 'Florist', '10', '127677', 'Single', '2'], ['harold', 'morrison', 'Male', '24', 'h.morrison@randatmail.com', '345-8420-04', 'Bachelor', 'Salesman', '0', '64462', 'Married', '3'], ['amanda', 'craig', 'Female', '29', 'a.craig@randatmail.com', '643-7548-00', 'Bachelor', 'Firefighter', '2', '168508', 'Single', '4'], ['agata', 'smith', 'Female', '21', 'a.smith@randatmail.com', '922-3260-73', 'Master', 'Producer', '1', '107243', 'Single', '5'], ['rafael', 'brooks', 'Male', '18', 'r.brooks@randatmail.com', '864-0193-52', 'Doctoral', 'Meteorologist', '2', '176550', 'Married', '5'], ['deanna', 'harrison', 'Female', '18', 'd.harrison@randatmail.com', '436-3477-53', 'Bachelor', 'Salesman', '7', '62257', 'Married', '3'], ['mike', 'richardson', 'Male', '29', 'm.richardson@randatmail.com', '392-0933-70', 'Bachelor', 'Astronomer', '0', '174184', 'Single', '4'], ['melanie', 'henderson', 'Female', '21', 'm.henderson@randatmail.com', '662-5167-51', 'Doctoral', 'Cook', '6', '173281', 'Married', '1'], ['jasmine', 'riley', 'Female', '27', 'j.riley@randatmail.com', '297-1885-76', 'Primary', 'Jeweller', '2', '65339', 'Single', '1'], ['charlotte', 'hall', 'Female', '23', 'c.hall@randatmail.com', '069-1842-43', 'Master', 'Electrician', '6', '120433', 'Single', '5'], ['darcy', 'lloyd', 'Female', '21', 'd.lloyd@randatmail.com', '721-5567-13', 'Lower secondary', 'Singer', '1', '140513', 'Married', '5'], ['james', 'west', 'Male', '19', 'j.west@randatmail.com', '498-5620-38', 'Primary', 'Engineer', '1', '43406', 'Married', '5'], ['caroline', 'johnston', 'Female', '27', 'c.johnston@randatmail.com', '921-1503-45', 'Master', 'Meteorologist', '3', '87611', 'Single', '1'], ['victor', 'cooper', 'Male', '22', 'v.cooper@randatmail.com', '546-5089-79', 'Lower secondary', 'Pharmacist', '7', '147835', 'Single', '1'], ['maria', 'kelley', 'Female', '19', 'm.kelley@randatmail.com', '225-1984-41', 'Lower secondary', 'Agronomist', '9', '158383', 'Single', '3'], ['ted', 'riley', 'Male', '18', 't.riley@randatmail.com', '405-3976-21', 'Bachelor', 'Driver', '9', '193155', 'Single', '3'], ['julia', 'rogers', 'Female', '18', 'j.rogers@randatmail.com', '038-4970-81', 'Upper secondary', 'Interpreter', '9', '140064', 'Married', '1'], ['lana', 'ellis', 'Female', '20', 'l.ellis@randatmail.com', '986-4830-56', 'Doctoral', 'Engineer', '5', '198642', 'Single', '2'], ['miller', 'lloyd', 'Male', '19', 'm.lloyd@randatmail.com', '685-5796-27', 'Master', 'Archeologist', '9', '162273', 'Single', '4'], ['spike', 'kelley', 'Male', '29', 's.kelley@randatmail.com', '533-2352-91', 'Primary', 'Medic', '14', '137587', 'Single', '0'], ['vanessa', 'hamilton', 'Female', '28', 'v.hamilton@randatmail.com', '592-7262-90', 'Upper secondary', 'Mechanic', '9', '67962', 'Married', '4'], ['savana', 'andrews', 'Female', '25', 's.andrews@randatmail.com', '870-9824-77', 'Doctoral', 'Cook', '11', '109137', 'Married', '1']]\n"
     ]
    }
   ],
   "source": [
    "import csv\n",
    "with open('people_data.csv', 'r') as f:\n",
    "    reader = csv.reader(f)\n",
    "    your_list = list(reader)\n",
    "print(your_list)"
   ]
  },
  {
   "cell_type": "markdown",
   "metadata": {},
   "source": [
    "## Writing to a File"
   ]
  },
  {
   "cell_type": "code",
   "execution_count": null,
   "metadata": {},
   "outputs": [],
   "source": [
    "cars = [\"Ford\",\"Volkswagen\",\"Chevy\"]\n",
    "cars_zipped = zip(cars,[\"Focus\", \"Passat\", \"Suburban\"])\n",
    "print(cars_zipped)\n",
    "car_list = list(cars_zipped)\n",
    "print(car_list[0][1])"
   ]
  },
  {
   "cell_type": "code",
   "execution_count": null,
   "metadata": {},
   "outputs": [],
   "source": [
    "with open('NewCar.txt', 'w+') as file_handle:\n",
    "    for line in car_list:\n",
    "        file_handle.write(line[0][0] + \" \" + line[0][1])\n",
    "\n",
    "with open('NewCar.txt', 'r') as file_handle:\n",
    "    for line in file_handle:\n",
    "        print(line)\n",
    "        \n",
    "with open('NewCar.txt', \"a+\") as fh:\n",
    "    fh.write(\"This line was appended to the file.\")\n",
    "\n",
    "with open('NewCar.txt', 'r') as file_handle:\n",
    "    for line in file_handle:\n",
    "        print(line)\n"
   ]
  },
  {
   "cell_type": "markdown",
   "metadata": {},
   "source": [
    "## Use Pandas to Read a file\n",
    "Although built-in file operations in Python may be useful for trivial matters, Pandas and Numpy are much more effective for reading, shaping, and analyzing data. Using these libraries is beyond the scope of this course, however, you should be aware of these libraries. See the Pandas notebook for more information."
   ]
  },
  {
   "cell_type": "code",
   "execution_count": 18,
   "metadata": {},
   "outputs": [
    {
     "data": {
      "text/html": [
       "<div>\n",
       "<style scoped>\n",
       "    .dataframe tbody tr th:only-of-type {\n",
       "        vertical-align: middle;\n",
       "    }\n",
       "\n",
       "    .dataframe tbody tr th {\n",
       "        vertical-align: top;\n",
       "    }\n",
       "\n",
       "    .dataframe thead th {\n",
       "        text-align: right;\n",
       "    }\n",
       "</style>\n",
       "<table border=\"1\" class=\"dataframe\">\n",
       "  <thead>\n",
       "    <tr style=\"text-align: right;\">\n",
       "      <th></th>\n",
       "      <th>First Name</th>\n",
       "      <th>Last Name</th>\n",
       "      <th>Gender</th>\n",
       "      <th>Age</th>\n",
       "      <th>Email</th>\n",
       "      <th>Phone</th>\n",
       "      <th>Education</th>\n",
       "      <th>Occupation</th>\n",
       "      <th>Experience (Years)</th>\n",
       "      <th>Salary</th>\n",
       "      <th>Marital Status</th>\n",
       "      <th>Number of Children</th>\n",
       "    </tr>\n",
       "  </thead>\n",
       "  <tbody>\n",
       "    <tr>\n",
       "      <th>0</th>\n",
       "      <td>amy</td>\n",
       "      <td>moore</td>\n",
       "      <td>Female</td>\n",
       "      <td>26</td>\n",
       "      <td>a.moore@randatmail.com</td>\n",
       "      <td>177-8697-63</td>\n",
       "      <td>Bachelor</td>\n",
       "      <td>Astronomer</td>\n",
       "      <td>11</td>\n",
       "      <td>118590</td>\n",
       "      <td>Married</td>\n",
       "      <td>4</td>\n",
       "    </tr>\n",
       "    <tr>\n",
       "      <th>1</th>\n",
       "      <td>rosie</td>\n",
       "      <td>henderson</td>\n",
       "      <td>Female</td>\n",
       "      <td>29</td>\n",
       "      <td>r.henderson@randatmail.com</td>\n",
       "      <td>747-7768-48</td>\n",
       "      <td>Primary</td>\n",
       "      <td>Manager</td>\n",
       "      <td>14</td>\n",
       "      <td>42540</td>\n",
       "      <td>Single</td>\n",
       "      <td>1</td>\n",
       "    </tr>\n",
       "    <tr>\n",
       "      <th>2</th>\n",
       "      <td>garry</td>\n",
       "      <td>cooper</td>\n",
       "      <td>Male</td>\n",
       "      <td>29</td>\n",
       "      <td>g.cooper@randatmail.com</td>\n",
       "      <td>131-0615-33</td>\n",
       "      <td>Upper secondary</td>\n",
       "      <td>Agronomist</td>\n",
       "      <td>11</td>\n",
       "      <td>149123</td>\n",
       "      <td>Single</td>\n",
       "      <td>3</td>\n",
       "    </tr>\n",
       "    <tr>\n",
       "      <th>3</th>\n",
       "      <td>sarah</td>\n",
       "      <td>miller</td>\n",
       "      <td>Female</td>\n",
       "      <td>27</td>\n",
       "      <td>s.miller@randatmail.com</td>\n",
       "      <td>811-2617-15</td>\n",
       "      <td>Primary</td>\n",
       "      <td>Pharmacist</td>\n",
       "      <td>6</td>\n",
       "      <td>97946</td>\n",
       "      <td>Single</td>\n",
       "      <td>2</td>\n",
       "    </tr>\n",
       "    <tr>\n",
       "      <th>4</th>\n",
       "      <td>rubie</td>\n",
       "      <td>sullivan</td>\n",
       "      <td>Female</td>\n",
       "      <td>23</td>\n",
       "      <td>r.sullivan@randatmail.com</td>\n",
       "      <td>543-4162-06</td>\n",
       "      <td>Bachelor</td>\n",
       "      <td>Engineer</td>\n",
       "      <td>8</td>\n",
       "      <td>78613</td>\n",
       "      <td>Married</td>\n",
       "      <td>4</td>\n",
       "    </tr>\n",
       "  </tbody>\n",
       "</table>\n",
       "</div>"
      ],
      "text/plain": [
       "  First Name  Last Name  Gender  Age                       Email        Phone  \\\n",
       "0        amy      moore  Female   26      a.moore@randatmail.com  177-8697-63   \n",
       "1      rosie  henderson  Female   29  r.henderson@randatmail.com  747-7768-48   \n",
       "2      garry     cooper    Male   29     g.cooper@randatmail.com  131-0615-33   \n",
       "3      sarah     miller  Female   27     s.miller@randatmail.com  811-2617-15   \n",
       "4      rubie   sullivan  Female   23   r.sullivan@randatmail.com  543-4162-06   \n",
       "\n",
       "         Education  Occupation  Experience (Years)  Salary Marital Status  \\\n",
       "0         Bachelor  Astronomer                  11  118590        Married   \n",
       "1          Primary     Manager                  14   42540         Single   \n",
       "2  Upper secondary  Agronomist                  11  149123         Single   \n",
       "3          Primary  Pharmacist                   6   97946         Single   \n",
       "4         Bachelor    Engineer                   8   78613        Married   \n",
       "\n",
       "   Number of Children  \n",
       "0                   4  \n",
       "1                   1  \n",
       "2                   3  \n",
       "3                   2  \n",
       "4                   4  "
      ]
     },
     "execution_count": 18,
     "metadata": {},
     "output_type": "execute_result"
    }
   ],
   "source": [
    "import pandas as pd\n",
    "\n",
    "df = pd.read_csv(\"people_data.csv\")\n",
    "df.head()"
   ]
  },
  {
   "cell_type": "code",
   "execution_count": null,
   "metadata": {},
   "outputs": [],
   "source": [
    "# Use the describe function to display descriptive statistics for numerical fields (even if that doesn't make sense...)\n",
    "df.describe()"
   ]
  }
 ],
 "metadata": {
  "kernelspec": {
   "display_name": "Python 3",
   "language": "python",
   "name": "python3"
  },
  "language_info": {
   "codemirror_mode": {
    "name": "ipython",
    "version": 3
   },
   "file_extension": ".py",
   "mimetype": "text/x-python",
   "name": "python",
   "nbconvert_exporter": "python",
   "pygments_lexer": "ipython3",
   "version": "3.7.1"
  },
  "toc-autonumbering": true,
  "toc-showcode": false,
  "toc-showmarkdowntxt": true
 },
 "nbformat": 4,
 "nbformat_minor": 2
}
