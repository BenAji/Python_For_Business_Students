{
 "cells": [
  {
   "cell_type": "markdown",
   "metadata": {
    "toc-hr-collapsed": true,
    "toc-nb-collapsed": true
   },
   "source": [
    "# Python Fundamentals\n",
    "\n",
    "Prepared by:Gregory J. Bott, Ph.D.\n",
    "(Sources: Dr. Nick Freeman, Python for Everyone, Charles Severance; A Whirlwind Tour of Python, Jake Vanderplas)"
   ]
  },
  {
   "cell_type": "markdown",
   "metadata": {},
   "source": [
    "## Why should a business student learn Python?\n",
    "\n",
    "Information is the lifeblood of <del>nearly</del> every organization. The purpose of this notebook is the help business students master the fundamental concepts and skills required to effectively use Python. Python skills are in high demand. One reason for this demand is Python's ability to efficiently acquire, manipulate, analyze and visual data. However, prior to performing data analytic tasks, business students must learn the fundamentals."
   ]
  },
  {
   "cell_type": "markdown",
   "metadata": {},
   "source": [
    "## Data Analysis is Part of *Every* Job\n",
    "It's not just data scientists or data analytics that need analysis skills. Nearly every job intersects with data. It's highly likely that even if your job doesn't have \"analyst\" or \"scientst\" in the title, you'll still benefit from understanding how to acquire, handle, manipulate, and report data.\n",
    "\n",
    "> ### Deloitte: \"...skills that were highly appreciated in Deloitte and projects were Java, Python/R...\"\n"
   ]
  },
  {
   "cell_type": "markdown",
   "metadata": {},
   "source": [
    "## Python skills are in high demand\n",
    "\n",
    "2018 Developer Survey by StackOverflow\n",
    "\n",
    "![](\\images\\2018MostWantedLanguages.jpg)\n",
    "\n",
    "TODO: Add Github stats showing Python as /#3 overall.\n",
    "\n",
    "[] task"
   ]
  },
  {
   "cell_type": "markdown",
   "metadata": {
    "toc-hr-collapsed": false
   },
   "source": [
    "## Programming Teaches Problem solving\n",
    "\n",
    "The ability to think critically and solve problems is a general life skill. Proble solving applies to the all facets of life. In this course you'll learn Python syntax and structures, but more importantly you'll learn to abstract a problem and code a solution. "
   ]
  },
  {
   "cell_type": "markdown",
   "metadata": {},
   "source": [
    "## Python is the new Excel\n",
    "Business rightly assume that you have solid Excel skills. However, the new expectation is that you already possess the skills necessary to handle data acquisition, analysis, and visualization. And alothough this can arguably still be done in Excel, Python's tools and libraries are exponentially more efficient. \n",
    "\n",
    "Python is the new Excel. (see https://www.fincad.com/blog/python-new-excel)"
   ]
  },
  {
   "cell_type": "markdown",
   "metadata": {
    "toc-hr-collapsed": false
   },
   "source": [
    "## About the Python language\n",
    "(Sources: Wikipedia, Dr. Nickolas K. Freeman)\n",
    "\n",
    ">Python is an interpreted high-level programming language for general-purpose programming. Created by Guido van Rossum and first released in 1991, Python has a design philosophy that emphasizes code readability, and a syntax that allows programmers to express concepts in fewer lines of code, notably using significant whitespace. It provides constructs that enable clear programming on both small and large scales.\n",
    "\n",
    ">Python is a multi-paradigm programming language. Object-oriented programming and structured programming are fully supported, and many of its features support functional programming and aspect-oriented programming (including by metaprogramming and metaobjects (magic methods)). Many other paradigms are supported via extensions, including design by contract and logic programming.\n",
    "\n",
    ">The language's core philosophy is summarized in the document The Zen of Python (PEP 20), which includes aphorisms such as:\n",
    "\n",
    "> - Beautiful is better than ugly\n",
    "> - Explicit is better than implicit\n",
    "> - Simple is better than complex\n",
    "> - Complex is better than complicated\n",
    "> - Readability counts\n",
    "\n",
    "> Rather than having all of its functionality built into its core, Python was designed to be highly extensible. This compact modularity has made it particularly popular as a means of adding programmable interfaces to existing applications. Van Rossum's vision of a small core language with a large standard library and easily extensible interpreter stemmed from his frustrations with ABC, another programming language that espoused the opposite approach.\n",
    "\n",
    "> While offering choice in coding methodology, the Python philosophy rejects exuberant syntax (such as that of Perl) in favor of a simpler, less-cluttered grammar. As Alex Martelli put it: \"To describe something as 'clever' is not considered a compliment in the Python culture.\" Python's philosophy rejects the Perl \"there is more than one way to do it\" approach to language design in favor of \"there should be one—and preferably only one—obvious way to do it\".\n",
    "\n",
    ">Python's developers strive to avoid premature optimization, and reject patches to non-critical parts of CPython that would offer marginal increases in speed at the cost of clarity. When speed is important, a Python programmer can move time-critical functions to extension modules written in languages such as C, or use PyPy, a just-in-time compiler. Cython is also available, which translates a Python script into C and makes direct C-level API calls into the Python interpreter.\n",
    "\n",
    ">An important goal of Python's developers is keeping it fun to use. This is reflected in the language's name—a tribute to the British comedy group Monty Python—and in occasionally playful approaches to tutorials and reference materials, such as examples that refer to spam and eggs (from a famous Monty Python sketch) instead of the standard foo and bar.\n",
    "\n",
    ">A common neologism in the Python community is *pythonic*, which can have a wide range of meanings related to program style. To say that code is pythonic is to say that it uses Python idioms well, that it is natural or shows fluency in the language, that it conforms with Python's minimalist philosophy and emphasis on readability. In contrast, code that is difficult to understand or reads like a rough transcription from another programming language is called unpythonic.\n",
    "\n",
    ">Users and admirers of Python, especially those considered knowledgeable or experienced, are often referred to as Pythonists, Pythonistas, and Pythoneers\n",
    "# What is a Program?\n",
    "\n",
    "> ## A program is a sequence of instructions that specified how to perform a computation. \n",
    "\n",
    "## Building Blocks of Nearly Every Language\n",
    "* **input** - get data--from user via keyboard, from sensors, from other programs, from databases, etc.\n",
    "* **output** - display results in the console on the screen, on paper, to another program, a web page, etc.\n",
    "* **math** - perform mathematical operations (addition, multiplication, etc.)\n",
    "* **conditional execution** - check for certain values or states and run the appropriate code\n",
    "* **repetition** - repeatedly perform some action a certain number of times"
   ]
  },
  {
   "cell_type": "markdown",
   "metadata": {},
   "source": [
    "### Python is interpreted, not compiled.\n",
    "Programming languages generally fall into one of two categories: Compiled or Interpreted. With a compiled language, code you enter is reduced to a set of machine-specific instructions before being saved as an executable file. With interpreted languages, the code is saved in the same format that you entered. Compiled programs generally run faster than interpreted ones because interpreted programs must be reduced to machine instructions at runtime. However, with an interpreted language you can do things that cannot be done in a compiled language. For example, interpreted programs can modify themselves by adding or changing functions at runtime. It is also usually easier to develop applications in an interpreted environment because you don't have to recompile your application each time you want to test a small section. (source: http://www.vanguardsw.com/dphelp4/dph00296.htm)\n",
    "<br>\n",
    "\n",
    "![image](images/python_interpreted.png)\n"
   ]
  },
  {
   "cell_type": "markdown",
   "metadata": {
    "toc-hr-collapsed": true,
    "toc-nb-collapsed": true
   },
   "source": [
    "# Setting Up Your Environment and Getting Started\n",
    "<a id=\"Setting_up_your_environment\"> </a>\n",
    "\n"
   ]
  },
  {
   "cell_type": "markdown",
   "metadata": {},
   "source": [
    "## Installing Anaconda\n",
    "Anaconda is a free and open-source distribution of the Python and R programming languages for scientific computing that aims to simplify package management and deployment. Package versions are managed by the package management system conda. (source: Wikipedia) The Spyder IDE is one of packages included in Anaconda.\n",
    "\n",
    "**Miniconda** provides the Python interpreter and the conda package manager. If you don't want the preinstalled packages that come with Anaconda, you can install Miniconda and install the packages you want yourself.\n"
   ]
  },
  {
   "cell_type": "markdown",
   "metadata": {},
   "source": [
    "## Starting Jupyter Lab\n",
    "\n",
    "If you wish to control the starting folder (home folder) of Jupyter Lab, then following these instructions.\n",
    "\n",
    "1. Open Anaconda Prompt\n",
    "2. Navigate to starting folder (e.g., cd G:).\n",
    "3. Type ```jupyter lab``` and press ENTER\n",
    "    * The Home Folder is the starting folder of the Anaconda prompt."
   ]
  },
  {
   "cell_type": "markdown",
   "metadata": {},
   "source": [
    "## Loading the TOC plugin for Jupyter Lab\n",
    "\n",
    "### Install dependencies\n",
    "1. Right-click the Anaconda prompt icon and then click Run as Administrator.\n",
    "2. In the console window, type the following commands:\n",
    "  * conda install nodejs\n",
    "  * pip install npm\n",
    "  * jupyter labextension install @jupyterlab/toc\n",
    "1. Then to start Jupyter Lab, type:\n",
    "  * jupyter lab --watch\n",
    "  \n",
    "  \n",
    "  (Source: https://github.com/jupyterlab/jupyterlab-toc)"
   ]
  },
  {
   "cell_type": "markdown",
   "metadata": {},
   "source": [
    "## Choosing a Python IDE\n",
    "\n",
    "### Jupyter Notebook and Jupyter Lab\n",
    "Jupyer Notebook and Lab are the best IDEs for learning and documenting Python code. They are also a solid method to provide Python code and results to non-Python programmers. We will make extensive use of Jupyter Lab in this course.\n",
    "\n",
    "### Spyder\n",
    "Spyder is a simple IDE that is useful for learning Python. It is included with the install of Anaconda and supported in this course. You may find Spyder the best choice for completing assignments. If an automatic grading environment is being used, you may find it faster to write, debug, and test code in Spyder and then paste it into the automatic grading environment.\n",
    "\n",
    "### VS Code\n",
    "Visual Studio Code is also available with Anaconda, though it is not installed by default. VS Code is perhaps the best overall choice for an IDE, however, Spyder offers a more straightforward initial user experience for the beginner. \n",
    "\n",
    "### Sublime Text\n",
    "A highly functional and extensible text editor often used by Pythonistas.\n",
    "\n",
    "### PyCharm\n",
    "If you would like an IDE with a deep feature set, Pycharm is a good choice. They offer special licensing for academia.\n",
    "\n",
    "You are welcome to use any of these IDEs for this class. You are also welcome to use a different IDE, but we cannot support all IDEs, so if you choose an IDE besides these two, we'll give you best effort support, but you may be on your own making a different IDE work."
   ]
  },
  {
   "cell_type": "markdown",
   "metadata": {},
   "source": [
    "## Why should a business student learn Python?\n",
    "\n",
    "### Data Analysis is Part of *Every* Job\n",
    "It's not just data scientists or data analytics that need analysis skills. Nearly every job intersects with data. It's highly likely that even if your job doesn't have \"analyst\" or \"scientst\" in the title, you'll still benefit from understanding how to acquire, handle, manipulate, and report data.\n",
    "\n",
    "> ### Deloitte: \"...skills that were highly appreciated in Deloitte and projects were Java, Python/R...\"\n",
    "\n"
   ]
  },
  {
   "cell_type": "markdown",
   "metadata": {},
   "source": [
    "## Python Coding basics\n"
   ]
  },
  {
   "cell_type": "markdown",
   "metadata": {},
   "source": [
    "### Indentation\n",
    "White space in many languages has little or no meaning. However, using Python, improper indentation will generate a syntax error:"
   ]
  },
  {
   "cell_type": "code",
   "execution_count": null,
   "metadata": {},
   "outputs": [],
   "source": [
    "# Error: statements following an if statement must be indented.\n",
    "if 4 > 1:\n",
    "    print(\"4 is greater than 1\")"
   ]
  },
  {
   "cell_type": "markdown",
   "metadata": {},
   "source": [
    "### Comments\n",
    "\n",
    "Make a habit of clearly commenting your code...even if the purpose of the code seems obvious. Even for code you have written yourself, it is often difficult to remember why you chose to implement something in a specific way. \n",
    "\n",
    "Start a comment using the hash (#) symbol "
   ]
  },
  {
   "cell_type": "markdown",
   "metadata": {
    "toc-hr-collapsed": true,
    "toc-nb-collapsed": true
   },
   "source": [
    "# Variables, Expressions, and Types\n",
    "\n",
    "Python is a *dynamically typed* language. A programming language is said to be dynamically typed, or just 'dynamic', when the majority of its type checking is performed at run-time as opposed to at compile-time.\n",
    "\n",
    "Python is also *strongly typed* as the interpreter keeps track of all variables types. Again, it's also very dynamic as it rarely uses what it knows to limit variable usage. In Python, it's the program's responsibility to use built-in functions like isinstance() and issubclass() to test variable types and correct usage. Python tries to stay out of your way while giving you all you need to implement strong type checking.\n",
    "\n",
    "The difference between a strongly typed language and a weakly typed language is basically that a strongly typed language checks the type of a variable before performing an operation on it, whereas a weakly typed language does not.\n",
    "[Source: Wiki.Python.org](https://wiki.python.org/moin/Why%20is%20Python%20a%20dynamic%20language%20and%20also%20a%20strongly%20typed%20language)"
   ]
  },
  {
   "cell_type": "code",
   "execution_count": null,
   "metadata": {},
   "outputs": [],
   "source": [
    "#Store a float in the variable a\n",
    "a = 3.141\n",
    "print(a, type(a))\n",
    "\n",
    "#Store a list in a\n",
    "a = [\"apple\", 3.141, \"banana\"]\n",
    "print(a, type(a))"
   ]
  },
  {
   "cell_type": "code",
   "execution_count": null,
   "metadata": {},
   "outputs": [],
   "source": [
    "#Store a string in a\n",
    "a = \"apple\"\n",
    "print(a, type(a))"
   ]
  },
  {
   "cell_type": "markdown",
   "metadata": {
    "toc-hr-collapsed": true,
    "toc-nb-collapsed": true
   },
   "source": [
    "## Variables in Python\n",
    "Variables store values. Variable names can be as long as you want, can contain letters and numbers, but must not begin with a number or be a Python keyword (e.g., true, for, from, lambda).\n",
    "\n",
    "> **Python is case-sensitive.** unit_cost is not the same as Unit_cost. \n",
    "\n",
    "By convention variable names are lower case and use the underscore character to separate words. \n",
    "\n",
    "earnings_after_tax <br>\n",
    "default_gateway"
   ]
  },
  {
   "cell_type": "code",
   "execution_count": null,
   "metadata": {},
   "outputs": [],
   "source": [
    "# Variables are case-sensitive --> Error\n",
    "Fruit = \"apple\"\n",
    "print(fruit)"
   ]
  },
  {
   "cell_type": "code",
   "execution_count": null,
   "metadata": {},
   "outputs": [],
   "source": [
    "# illegal -- must not start with a number\n",
    "76trombones = 0"
   ]
  },
  {
   "cell_type": "code",
   "execution_count": null,
   "metadata": {},
   "outputs": [],
   "source": [
    "although_difficult_to_use_this_is_a_valid_variable = 1"
   ]
  },
  {
   "cell_type": "markdown",
   "metadata": {
    "toc-hr-collapsed": true,
    "toc-nb-collapsed": true
   },
   "source": [
    "## Using Variables to Store User Input\n",
    "\n",
    "Use variables to store input from users. To get input from the user Python provides a built-in function **input** that captures input from keyboard as a string."
   ]
  },
  {
   "cell_type": "code",
   "execution_count": null,
   "metadata": {},
   "outputs": [],
   "source": [
    "# Get card total from user and store in CardTotal \n",
    "card_total = input(\"Card total?\")\n",
    "print(\"CardTotal type is: {}\".format(type(card_total)))"
   ]
  },
  {
   "cell_type": "code",
   "execution_count": null,
   "metadata": {},
   "outputs": [],
   "source": [
    "list = [\"hi\",6,7]\n",
    "print(type(list))"
   ]
  },
  {
   "cell_type": "markdown",
   "metadata": {},
   "source": [
    "### input() function\n",
    "Used to get data from the user. Always returns a string, so you must cast if you are working with numbers."
   ]
  },
  {
   "cell_type": "code",
   "execution_count": null,
   "metadata": {},
   "outputs": [],
   "source": [
    "type(card_total)"
   ]
  },
  {
   "cell_type": "code",
   "execution_count": null,
   "metadata": {},
   "outputs": [],
   "source": [
    "# Error -- CardTotal is str\n",
    "if card_total > 21:\n",
    "    print(\"Busted\")\n",
    "else:\n",
    "    print(\"Hit me\")"
   ]
  },
  {
   "cell_type": "markdown",
   "metadata": {},
   "source": [
    "### Comparison operators\n",
    "\n",
    "You are probably already familiar with the comparison operators.\n",
    "* x and y are variable names\n",
    "```Python\n",
    "x > y\n",
    "x >= y\n",
    "x < y\n",
    "x <= y\n",
    "x == y # Use double-equal to test for equality (single equal sign is for assignment), True if x is same as y\n",
    "x != y # test for inequality, True if x is different than y\n",
    "```"
   ]
  },
  {
   "cell_type": "code",
   "execution_count": null,
   "metadata": {},
   "outputs": [],
   "source": [
    "# Must cast to appropriate value type (int)\n",
    "if int(card_total) > 21:\n",
    "    print(\"Busted\")\n",
    "else:\n",
    "    print(\"Hit me\")"
   ]
  },
  {
   "cell_type": "code",
   "execution_count": null,
   "metadata": {},
   "outputs": [],
   "source": [
    "print(\"Hello\", \"how are you?\", card_total, sep=\" ---\") "
   ]
  },
  {
   "cell_type": "markdown",
   "metadata": {
    "toc-hr-collapsed": true,
    "toc-nb-collapsed": true
   },
   "source": [
    "## Basic Data Types in Python\n",
    "\n",
    "### Integers\n",
    "---\n",
    "A number with no fractional part. \n",
    "\n",
    "![image](\\images\\int-number-line.svg)\n",
    "\n",
    "#### Includes: \n",
    "* the counting numbers {1, 2, 3, ...}, \n",
    "* zero {0}, \n",
    "* and the negative of the counting numbers {-1, -2, -3, ...}\n",
    "\n",
    "We can write them all down like this: {..., -3, -2, -1, 0, 1, 2, 3, ...}\n",
    "\n",
    "Examples of integers: -16, -3, 0, 1, 198\n",
    "\n",
    "Integer size is limited only by your machine."
   ]
  },
  {
   "cell_type": "code",
   "execution_count": null,
   "metadata": {},
   "outputs": [],
   "source": [
    "bigInt = 1234568901234568901234568901234568901234564568901234568901234568901234568901234568901234568901234568900\n",
    "\n",
    "print(bigInt + 1)\n",
    "\n",
    "print(type(bigInt))"
   ]
  },
  {
   "cell_type": "markdown",
   "metadata": {},
   "source": [
    "### Float type\n",
    "* Platform dependent\n",
    "* Typically equivalent to IEEE754 64-bit C double\n",
    "* Smallest float is effectively 2.225 x 10^-308"
   ]
  },
  {
   "cell_type": "code",
   "execution_count": null,
   "metadata": {},
   "outputs": [],
   "source": [
    "type(1.0)"
   ]
  },
  {
   "cell_type": "code",
   "execution_count": null,
   "metadata": {},
   "outputs": [],
   "source": [
    "b = 2\n",
    "\n",
    "print(\"b = {} and is type {}\".format(b, type(b)))"
   ]
  },
  {
   "cell_type": "code",
   "execution_count": null,
   "metadata": {},
   "outputs": [],
   "source": [
    "b = 2 * 1.1\n",
    "\n",
    "print(\"b = {} and is type {}\".format(b, type(b)))"
   ]
  },
  {
   "cell_type": "markdown",
   "metadata": {},
   "source": [
    "### Boolean type\n",
    "---"
   ]
  },
  {
   "cell_type": "code",
   "execution_count": null,
   "metadata": {},
   "outputs": [],
   "source": [
    "is_fte = 1\n",
    "\n",
    "# Boolean values indicate True or False and must be title-case\n",
    "is_fte == True\n",
    "\n",
    "\n",
    "# Reminder: do comparisons with double = sign (x == 5)\n",
    "#    single = is assignment, let x = 5.\n",
    "is_fte == False\n"
   ]
  },
  {
   "cell_type": "code",
   "execution_count": null,
   "metadata": {},
   "outputs": [],
   "source": [
    "# Error = the boolean value must be capitalized (True, not true or TRUE)\n",
    "if is_fte == true:\n",
    "    print(\"Full-time\")"
   ]
  },
  {
   "cell_type": "markdown",
   "metadata": {},
   "source": [
    "Non-zero values evaluate to ```True``` while 0 (zero) evaluates to ```False```."
   ]
  },
  {
   "cell_type": "code",
   "execution_count": null,
   "metadata": {},
   "outputs": [],
   "source": [
    "hours_worked = 0\n",
    "#hours_worked = 37\n",
    "#hours_worked = 'yes'\n",
    "\n",
    "if hours_worked:\n",
    "    print(\"Need to calculate payroll.\")\n",
    "\n",
    "if not hours_worked:\n",
    "    print(\"No hours worked or invalid value.\")"
   ]
  },
  {
   "cell_type": "markdown",
   "metadata": {},
   "source": [
    "#### Logic Operators on boolean values\n",
    "a and b are boolean values\n",
    "\n",
    "```Python\n",
    "not a # True if a is False, False if a is True\n",
    "a and b # Both a and b must be True for statement to be True\n",
    "a or b # Either a or b must be True for statement to be True\n",
    "```"
   ]
  },
  {
   "cell_type": "markdown",
   "metadata": {},
   "source": [
    "### String Type\n",
    "A string is a sequence of characters. \n",
    "\n",
    "Values enclosed within quotation marks (single, double, or triple-double) are strings."
   ]
  },
  {
   "cell_type": "code",
   "execution_count": null,
   "metadata": {},
   "outputs": [],
   "source": [
    "s = 'Monty Python'"
   ]
  },
  {
   "cell_type": "code",
   "execution_count": null,
   "metadata": {},
   "outputs": [],
   "source": [
    "# use len() function to get the length of a string\n",
    "print(len(s))\n",
    "\n",
    "# Print part of a string, a slice\n",
    "print(s[0:5])\n",
    "\n",
    "print(s[6])"
   ]
  },
  {
   "cell_type": "code",
   "execution_count": null,
   "metadata": {},
   "outputs": [],
   "source": [
    "# Strings are immutable (Can't change 'Python' to 'Jython')\n",
    "s[6] = \"J\""
   ]
  },
  {
   "cell_type": "markdown",
   "metadata": {},
   "source": [
    "### None type\n",
    "\n",
    "The null keyword is available in languages such as C++ and Java. Null means empty. It is not equivalent to a zero-length string nor is it equivalent to zero (0). In Python, the None type  is the keyword equivalent to Null. None (the type) is not equivalent to the string, \"None\". In my humble opinion, None is more logical than null. None means the object is nothing, non-existent. \n",
    "\n",
    "#### Why use None?\n",
    "\n",
    "When instantiating (creating) an object, you may need to check to see if the instantiation was successful or not. If the creation of the new object failed, the object will return a None type.\n",
    "\n",
    "---"
   ]
  },
  {
   "cell_type": "code",
   "execution_count": null,
   "metadata": {},
   "outputs": [],
   "source": [
    "# None is not the \"None\" string. It is a class type.\n",
    "print(None == \"None\")\n",
    "print(type(None))"
   ]
  },
  {
   "cell_type": "code",
   "execution_count": null,
   "metadata": {},
   "outputs": [],
   "source": [
    "#Source: https://www.pythoncentral.io/python-null-equivalent-none/\n",
    "database_connection = None\n",
    " \n",
    "# Try to connect (none of the variables for the connect have values...)\n",
    "try:\n",
    "    database = MyDatabase(db_host, db_user, db_password, db_database)\n",
    "    database_connection = database.connect()\n",
    "except:\n",
    "    pass\n",
    " \n",
    "if database_connection is None:\n",
    "    print('The database could not connect')\n",
    "else:\n",
    "    print('The database could connect')"
   ]
  },
  {
   "cell_type": "markdown",
   "metadata": {},
   "source": [
    "### Complex numbers\n",
    "---\n",
    "A Complex Number is a combination of a Real Number and an Imaginary Number. [1]\n",
    "\n",
    "![image](\\images\\complex-example.svg)\n",
    "\n",
    "   "
   ]
  },
  {
   "cell_type": "code",
   "execution_count": null,
   "metadata": {},
   "outputs": [],
   "source": [
    "print(\"3i is of type: \" + str(type(3j)))\n",
    "print(7 + 3j)"
   ]
  },
  {
   "cell_type": "markdown",
   "metadata": {},
   "source": [
    "   \n",
    "The \"unit\" imaginary number (like 1 for Real Numbers) is i, which is the square root of −1.   \n",
    "\n",
    "![image](\\images\\imaginary-square-root.svg)\n",
    "\n",
    "> **Except in Python, \"j\" is used instead of \"i\".**"
   ]
  },
  {
   "cell_type": "code",
   "execution_count": null,
   "metadata": {},
   "outputs": [],
   "source": [
    "1j * 1j == -1"
   ]
  },
  {
   "cell_type": "markdown",
   "metadata": {
    "toc-hr-collapsed": true,
    "toc-nb-collapsed": true
   },
   "source": [
    "## Converting values between types\n",
    "\n",
    "Often you may need to convert from values from one type to another. For example, you may need to convert the values received from the input() function from string to an int or a float."
   ]
  },
  {
   "cell_type": "code",
   "execution_count": null,
   "metadata": {},
   "outputs": [],
   "source": [
    "user_number = input(\"Enter a number and I'll tell you if it is even or odd:\\n\")\n",
    "print(type(int(user_number)))\n"
   ]
  },
  {
   "cell_type": "code",
   "execution_count": null,
   "metadata": {},
   "outputs": [],
   "source": [
    "#Source: https://gist.github.com/jfpuget/60e07a82dece69b011bb -- Jean-François Puget¶\n",
    "\n",
    "import numpy as np\n",
    "from matplotlib import pyplot as plt\n",
    "from matplotlib import colors\n",
    "%matplotlib inline \n",
    "\n",
    "\n",
    "def mandelbrot_image(xmin,xmax,ymin,ymax,width=12,height=12,maxiter=80,cmap='hot'):\n",
    "    dpi = 72\n",
    "    img_width = dpi * width\n",
    "    img_height = dpi * height\n",
    "    x,y,z = mandelbrot_set(xmin,xmax,ymin,ymax,img_width,img_height,maxiter)\n",
    "    \n",
    "    fig, ax = plt.subplots(figsize=(width, height),dpi=72)\n",
    "    ticks = np.arange(0,img_width,3*dpi)\n",
    "    x_ticks = xmin + (xmax-xmin)*ticks/img_width\n",
    "    plt.xticks(ticks, x_ticks)\n",
    "    y_ticks = ymin + (ymax-ymin)*ticks/img_width\n",
    "    plt.yticks(ticks, y_ticks)\n",
    "    \n",
    "    norm = colors.PowerNorm(0.3)\n",
    "    ax.imshow(z.T,cmap=cmap,origin='lower',norm=norm)\n",
    "    \n",
    "def mandelbrot(c,maxiter):\n",
    "    z = c\n",
    "    for n in range(maxiter):\n",
    "        if abs(z) > 2:\n",
    "            return n\n",
    "        z = z*z + c\n",
    "    return 0\n",
    "\n",
    "def mandelbrot_set(xmin,xmax,ymin,ymax,width,height,maxiter):\n",
    "    r1 = np.linspace(xmin, xmax, width)\n",
    "    r2 = np.linspace(ymin, ymax, height)\n",
    "    n3 = np.empty((width,height))\n",
    "    for i in range(width):\n",
    "        for j in range(height):\n",
    "            n3[i,j] = mandelbrot(r1[i] + 1j*r2[j],maxiter)\n",
    "    return (r1,r2,n3)\n",
    "\n",
    "mandelbrot_image(-2.0,0.5,-1.25,1.25,maxiter=80,cmap='gnuplot2')"
   ]
  },
  {
   "cell_type": "markdown",
   "metadata": {},
   "source": [
    "## Order of Operations\n",
    "<a id=\"Setting_up_your_environment\"> </a>\n",
    "\n",
    "The order of evaluation of expressions with more than one operator follows *rules of precedence* -- PEMDAS\n",
    "\n",
    "* **Parentheses**\n",
    "* **Exponentiation**\n",
    "* **Multiplication and Division**\n",
    "* **Addition and Subraction**\n",
    "* **Left to Right** - operators with the same precedence are evaluated left to right"
   ]
  },
  {
   "cell_type": "code",
   "execution_count": null,
   "metadata": {},
   "outputs": [],
   "source": [
    "# Exponentiation, then Multiplication\n",
    "3*1**3"
   ]
  },
  {
   "cell_type": "markdown",
   "metadata": {},
   "source": [
    "## Operators"
   ]
  },
  {
   "cell_type": "markdown",
   "metadata": {},
   "source": [
    "### Modulus operator\n",
    "<a id=\"modulus_operator\"> </a>\n",
    "\n",
    "In computing, the modulo operation finds the remainder after division of one number by another (sometimes called modulus). Given two positive numbers, a (the dividend) and n (the divisor), a modulo n (abbreviated as a mod n) is the remainder of the Euclidean division of a by n.\n"
   ]
  },
  {
   "cell_type": "code",
   "execution_count": null,
   "metadata": {},
   "outputs": [],
   "source": [
    "# Divide 7 by 3\n",
    "7/3"
   ]
  },
  {
   "cell_type": "code",
   "execution_count": null,
   "metadata": {},
   "outputs": [],
   "source": [
    "# Return the quotient\n",
    "7//3"
   ]
  },
  {
   "cell_type": "code",
   "execution_count": null,
   "metadata": {},
   "outputs": [],
   "source": [
    "# Return the remainder\n",
    "7 % 3"
   ]
  },
  {
   "cell_type": "markdown",
   "metadata": {},
   "source": [
    "### Assignment vs. Comparison\n",
    "---\n",
    "### In Python, assignment of a value to a variable is accomplished using a single equal sign. Comparison is performed using a double equal sign.\n"
   ]
  },
  {
   "cell_type": "code",
   "execution_count": null,
   "metadata": {},
   "outputs": [],
   "source": [
    "x = 7\n",
    "print(x)\n",
    "x = 1000\n",
    "print(x)"
   ]
  },
  {
   "cell_type": "code",
   "execution_count": null,
   "metadata": {},
   "outputs": [],
   "source": []
  },
  {
   "cell_type": "code",
   "execution_count": null,
   "metadata": {},
   "outputs": [],
   "source": []
  },
  {
   "cell_type": "code",
   "execution_count": null,
   "metadata": {},
   "outputs": [],
   "source": []
  },
  {
   "cell_type": "code",
   "execution_count": null,
   "metadata": {},
   "outputs": [],
   "source": []
  },
  {
   "cell_type": "code",
   "execution_count": null,
   "metadata": {},
   "outputs": [],
   "source": [
    "# Must use a double equal sign to compare values\n",
    "if x == 7:\n",
    "    print(\"Lucky Seven\")\n",
    "else:\n",
    "    print(\"You lose!\")"
   ]
  },
  {
   "cell_type": "code",
   "execution_count": null,
   "metadata": {},
   "outputs": [],
   "source": [
    "# Error when adding string and integer\n",
    "userinput = \"5\"\n",
    "\n",
    "sum = 7 + int(userinput)\n",
    "print(sum)"
   ]
  },
  {
   "cell_type": "code",
   "execution_count": null,
   "metadata": {},
   "outputs": [],
   "source": [
    "sum = 7 + int(userinput)\n",
    "print(\"sum = {}\".format(sum))"
   ]
  },
  {
   "cell_type": "code",
   "execution_count": null,
   "metadata": {},
   "outputs": [],
   "source": []
  },
  {
   "cell_type": "markdown",
   "metadata": {},
   "source": [
    "[1]: Source: https://www.mathsisfun.com"
   ]
  },
  {
   "cell_type": "markdown",
   "metadata": {},
   "source": [
    "## Variable Scope - LEGB\n",
    "When using variables, you must understand its scope. By scope we are referring the visibility of variables--in which parts of your program can access or change the variable. For example, if a variable is global, every part of your program can access it. However, variables used within a function should generally not be available outside the function.\n",
    "\n",
    "Python looks for variables in this order:\n",
    "* Local\n",
    "* Enclosing\n",
    "* Global\n",
    "* Built-in"
   ]
  },
  {
   "cell_type": "code",
   "execution_count": 7,
   "metadata": {},
   "outputs": [
    {
     "name": "stdout",
     "output_type": "stream",
     "text": [
      "inside function scope\n",
      "outside of function\n"
     ]
    }
   ],
   "source": [
    "# Local scope\n",
    "\n",
    "y = \"outside of function\"\n",
    "\n",
    "def my_function():\n",
    "    y = \"inside function scope\" # y is local to function--not available after function ends\n",
    "    print(y)\n",
    "\n",
    "my_function()\n",
    "\n",
    "print(y) # Prints enclosed y variable"
   ]
  },
  {
   "cell_type": "markdown",
   "metadata": {
    "toc-hr-collapsed": true,
    "toc-nb-collapsed": true
   },
   "source": [
    "# Conditional Execution\n",
    "\n",
    "In Python, use the if statement to perform decision-making by allowing conditional execution of a statement or group of statements based on the value of an expression.\n",
    "\n",
    "Remember that Python requires indentation to designate the start and end of code blocks. \n",
    "\n",
    "<condition> has a value of True or False\n",
    "\n",
    "```Python\n",
    "if <condition>:\n",
    "    <expression>\n",
    "    <expression>\n",
    "``` "
   ]
  },
  {
   "cell_type": "code",
   "execution_count": null,
   "metadata": {},
   "outputs": [],
   "source": [
    "CardTotal = 22\n",
    "if CardTotal > 21:\n",
    "    print(\"busted!\")"
   ]
  },
  {
   "cell_type": "code",
   "execution_count": null,
   "metadata": {},
   "outputs": [],
   "source": [
    "deal_again = input(\"deal again?\")\n",
    "if deal_again == 'yes':\n",
    "    print(\"dealing again...\")\n",
    "    # code here that deals again..."
   ]
  },
  {
   "cell_type": "markdown",
   "metadata": {},
   "source": [
    "## Conditionals with multiple expressions\n",
    "The ```if``` statement may be follwed by an ```else``` clause. The ```else``` clause will only be excecuted when the ```if``` statement evaluates to ```False```."
   ]
  },
  {
   "cell_type": "markdown",
   "metadata": {},
   "source": [
    "You can use an ```if...else``` statement to execute a set of statements based on whether the value of a variable is even or odd.\n",
    "\n",
    "![image](\\images\\if-then-elselogic.jpg)\n",
    "\n",
    "The basic if statement form:\n",
    "\n",
    "```Python\n",
    "if expr:\n",
    "    ''statement''\n",
    "else:\n",
    "    ''statement''\n",
    "```"
   ]
  },
  {
   "cell_type": "code",
   "execution_count": null,
   "metadata": {},
   "outputs": [],
   "source": [
    "x = 9\n",
    "\n",
    "if x%2 == 0:\n",
    "    print('x is even')\n",
    "else:\n",
    "    print('x is odd')"
   ]
  },
  {
   "cell_type": "markdown",
   "metadata": {},
   "source": [
    "## Logical Operators"
   ]
  },
  {
   "cell_type": "code",
   "execution_count": null,
   "metadata": {},
   "outputs": [],
   "source": [
    "shave = True\n",
    "haircut = False\n",
    "\n",
    "if shave and haircut:\n",
    "    print(\"You know the secret knock!\")\n",
    "else:\n",
    "    print(\"You're not one of us.\")"
   ]
  },
  {
   "cell_type": "code",
   "execution_count": null,
   "metadata": {},
   "outputs": [],
   "source": [
    "shave = False\n",
    "haircut = True\n",
    "\n",
    "if shave or haircut:\n",
    "    print(\"You know the secret knock!\")\n",
    "else:\n",
    "    print(\"You're not one of us.\")"
   ]
  },
  {
   "cell_type": "code",
   "execution_count": null,
   "metadata": {},
   "outputs": [],
   "source": [
    "#BOTH statements must be true to satisfy the statement and print True\n",
    "if 1 < 10 and -2 > -7:\n",
    "    print(True)\n",
    "else:\n",
    "    print(False)"
   ]
  },
  {
   "cell_type": "code",
   "execution_count": null,
   "metadata": {},
   "outputs": [],
   "source": [
    "#Only ONE expressopm must be true to satisfy the statement and print True\n",
    "if 100 < 10 or -2 > -7:\n",
    "    print(True)\n",
    "else:\n",
    "    print(False)"
   ]
  },
  {
   "cell_type": "markdown",
   "metadata": {},
   "source": [
    "## Chained Conditionals\n",
    "\n",
    "If more then two possibilities exist, one way to programmatically express this is using elif."
   ]
  },
  {
   "cell_type": "code",
   "execution_count": null,
   "metadata": {},
   "outputs": [],
   "source": [
    "x = 5\n",
    "y = 5\n",
    "\n",
    "if x > y:\n",
    "    print(\"x is greater than y\")\n",
    "elif y > x:\n",
    "    print(\"y is greater than x\")\n",
    "else:\n",
    "    print(\"x and y are equal\")"
   ]
  },
  {
   "cell_type": "markdown",
   "metadata": {
    "toc-hr-collapsed": false
   },
   "source": [
    "## Nested Conditionals\n",
    "\n",
    "You can also nest one conditional inside another conditional. Consider the previous example:"
   ]
  },
  {
   "cell_type": "code",
   "execution_count": null,
   "metadata": {},
   "outputs": [],
   "source": [
    "x = 2\n",
    "y = 3\n",
    "\n",
    "if x == y:\n",
    "    print(\"x and y are equal\")\n",
    "else:\n",
    "    if x < y:\n",
    "        print(\"x is less than y\")\n",
    "    else:\n",
    "        print(\"x is greater than y\")"
   ]
  },
  {
   "cell_type": "markdown",
   "metadata": {},
   "source": [
    "## Grouping comparison operators\n",
    "Comparison operators can be grouped."
   ]
  },
  {
   "cell_type": "code",
   "execution_count": null,
   "metadata": {},
   "outputs": [],
   "source": [
    "x = 111\n",
    "if 0 < x < 10:\n",
    "    print(\"x is a positive single-digit number\")\n",
    "elif x < 0:\n",
    "    print(\"x is a negative number\")\n",
    "elif x >= 10:\n",
    "    print(\"x is a positive two-digit number\")"
   ]
  },
  {
   "cell_type": "code",
   "execution_count": null,
   "metadata": {},
   "outputs": [],
   "source": [
    "x = 1\n",
    "y = 2\n",
    "z = 6\n",
    "\n",
    "# The entire expression must be true to print values\n",
    "if x < y < z: print(x); print(y); print(z)"
   ]
  },
  {
   "cell_type": "markdown",
   "metadata": {},
   "source": [
    "## Operators and Operands\n",
    "<a id=\"operators_and_operands\"> </a>\n",
    "Operators are special symbols that represent computations like addition and multiplication. The values the operator is applied to are called operands.\n",
    "The operators +, -, *, /, and ** perform addition, subtraction, multiplication, division, and exponentiation, as in the following examples:\n"
   ]
  },
  {
   "cell_type": "code",
   "execution_count": null,
   "metadata": {},
   "outputs": [],
   "source": [
    "#Addition and subtraction\n",
    "20+33-10"
   ]
  },
  {
   "cell_type": "code",
   "execution_count": null,
   "metadata": {},
   "outputs": [],
   "source": [
    "# Five squared\n",
    "5**2"
   ]
  },
  {
   "cell_type": "code",
   "execution_count": null,
   "metadata": {},
   "outputs": [],
   "source": [
    "# Multiplication\n",
    "(3+2)*(9+2)"
   ]
  },
  {
   "cell_type": "code",
   "execution_count": null,
   "metadata": {},
   "outputs": [],
   "source": [
    "# Division\n",
    "100/25"
   ]
  },
  {
   "cell_type": "markdown",
   "metadata": {
    "toc-hr-collapsed": true,
    "toc-nb-collapsed": true
   },
   "source": [
    "# Iteration (looping)\n",
    "Computers are very good and doing repetitive tasks. You will use iteration for many operations in Python. For example, you may loop through records in a database or examine lines in text file. \n",
    "\n",
    "Two methods for iterating are the While statement and the For loop. "
   ]
  },
  {
   "cell_type": "markdown",
   "metadata": {},
   "source": [
    "## While statement\n",
    "\n",
    "Computers are well-suited to repeat operations very quickly. Use the While statement to repeat a series of steps until a condition is met. Use when the number of iterations is not known.\n",
    "\n",
    "```Python\n",
    "while <condition>:\n",
    "    <expression>\n",
    "    <expression>\n",
    "    ...\n",
    "```"
   ]
  },
  {
   "cell_type": "code",
   "execution_count": null,
   "metadata": {},
   "outputs": [],
   "source": [
    "n = 0\n",
    "while n < 7:\n",
    "    print(\"day \" + str(n))\n",
    "    n = n + 1"
   ]
  },
  {
   "cell_type": "markdown",
   "metadata": {},
   "source": [
    "## For Loop\n",
    "Use the For Loop when you have a specific number of iterations or you are iterating through a collection of items (e.g., lines in a text file).\n",
    "\n",
    "```Python\n",
    "for <variable> in range(<value>):\n",
    "    <expression>\n",
    "    <expression>\n",
    "    ...\n",
    "```\n",
    "\n",
    "* On first loop, <variable> starts with smallest value\n",
    "* On each loop, <variable> is incremented (or decremented if negative step)\n",
    "* At <value> - 1, loop is complete"
   ]
  },
  {
   "cell_type": "markdown",
   "metadata": {},
   "source": [
    "### Range Function\n",
    "\n",
    "```Python\n",
    "range(start, stop, step)\n",
    "```\n",
    "Default values: start = 0, step = 1\n",
    "\n",
    "Range increments until value is stop - 1."
   ]
  },
  {
   "cell_type": "code",
   "execution_count": null,
   "metadata": {},
   "outputs": [],
   "source": [
    "# Range function (see \"Functions\" section for more information about functions)\n",
    "# range(start_value, end_value, step_value)\n",
    "\n",
    "for x in range(11):\n",
    "    print(x, end=\" \")"
   ]
  },
  {
   "cell_type": "code",
   "execution_count": null,
   "metadata": {},
   "outputs": [],
   "source": [
    "# To count down, set the step value to negative.\n",
    "for x in range(10,0,-1):\n",
    "    print(x, end=\" \")"
   ]
  },
  {
   "cell_type": "markdown",
   "metadata": {},
   "source": [
    "A counter variable can be used in either the For Loop or the While loop, but the counter variable must be initialized prior to its use."
   ]
  },
  {
   "cell_type": "code",
   "execution_count": null,
   "metadata": {},
   "outputs": [],
   "source": [
    "# Initialze a counter variable, z.\n",
    "z = 0\n",
    "\n",
    "#Loop ten times (1 through 10)\n",
    "for y in range(1,11):\n",
    "\n",
    "    #Increment z by 1 during each loop. \n",
    "    z += 1 # This is shorthand for z = z + 1\n",
    "    \n",
    "    print(z, end=\" \")"
   ]
  },
  {
   "cell_type": "markdown",
   "metadata": {},
   "source": [
    "## Looping through items\n",
    "\n",
    "In addition to using the ```range()``` function or the ```while``` statement, you can also loop through a collection of objects such as the files in the working directory. Note that we do not need to obtain the number of items (files, in this case) present in the collection (folder). We simply ask Python to iterate through them."
   ]
  },
  {
   "cell_type": "code",
   "execution_count": null,
   "metadata": {},
   "outputs": [],
   "source": [
    "# Add the os module to our environment (covered later)\n",
    "import os\n",
    "\n",
    "# Get a list of all the files in the current folder and store them in the\n",
    "#   variable files\n",
    "files = os.listdir()\n",
    "\n",
    "for f in files:\n",
    "    print(f)"
   ]
  },
  {
   "cell_type": "code",
   "execution_count": 55,
   "metadata": {},
   "outputs": [
    {
     "name": "stdout",
     "output_type": "stream",
     "text": [
      "C:\\Users\\gregb\\Documents\\2019-01-31 Dell Exchange FedEx label laptop.pdf\n",
      "C:\\Users\\gregb\\Documents\\2020 Passat tag renewal notice.pdf\n",
      "C:\\Users\\gregb\\Documents\\2020 Python MSBA On-demand coding skills.pdf\n",
      "C:\\Users\\gregb\\Documents\\2020-02-04 511 Attendance and executive presence.pdf\n",
      "C:\\Users\\gregb\\Documents\\2020-03-12 IoT CandS paper notes\n",
      "C:\\Users\\gregb\\Documents\\Ashley Madison Hackers Speak Out_ 'Nobody Was Watching' - VICE.pdf\n",
      "C:\\Users\\gregb\\Documents\\CBAWin10_4.iso\n",
      "C:\\Users\\gregb\\Documents\\CBAWin10_4.mds\n",
      "C:\\Users\\gregb\\Documents\\Default.rdp\n",
      "C:\\Users\\gregb\\Documents\\desktop.ini\n",
      "C:\\Users\\gregb\\Documents\\email_credentials.json\n",
      "C:\\Users\\gregb\\Documents\\Farkle.ipynb\n",
      "C:\\Users\\gregb\\Documents\\jim_review.aux\n",
      "C:\\Users\\gregb\\Documents\\jim_review.log\n",
      "C:\\Users\\gregb\\Documents\\jim_review.pdf\n",
      "C:\\Users\\gregb\\Documents\\jim_review.synctex.gz\n",
      "C:\\Users\\gregb\\Documents\\jim_review.tex\n",
      "C:\\Users\\gregb\\Documents\\Michael Matthews ab workout.pdf\n",
      "C:\\Users\\gregb\\Documents\\Nick1-Request.ipynb\n",
      "C:\\Users\\gregb\\Documents\\Resignation differencing doc.docx\n",
      "C:\\Users\\gregb\\Documents\\rockpaper2.py\n",
      "C:\\Users\\gregb\\Documents\\Sports.pdf\n",
      "C:\\Users\\gregb\\Documents\\status_email.py\n",
      "C:\\Users\\gregb\\Documents\\Summer MIS 597-001 Python Data Acquisition syllabus.pdf\n",
      "C:\\Users\\gregb\\Documents\\Untitled.ipynb\n",
      "C:\\Users\\gregb\\Documents\\Untitled2.ipynb\n",
      "C:\\Users\\gregb\\Documents\\Wacom One Demo.pdf\n",
      "C:\\Users\\gregb\\Documents\\.ipynb_checkpoints\\Deleteme2-practice-checkpoint.ipynb\n",
      "C:\\Users\\gregb\\Documents\\.ipynb_checkpoints\\DeletemePractice-checkpoint.ipynb\n",
      "C:\\Users\\gregb\\Documents\\.ipynb_checkpoints\\Farkle-checkpoint.ipynb\n",
      "C:\\Users\\gregb\\Documents\\.ipynb_checkpoints\\Nick1-Request-checkpoint.ipynb\n",
      "C:\\Users\\gregb\\Documents\\.ipynb_checkpoints\\Untitled-checkpoint.ipynb\n",
      "C:\\Users\\gregb\\Documents\\.ipynb_checkpoints\\Untitled2-checkpoint.ipynb\n",
      "C:\\Users\\gregb\\Documents\\Calibre Books\\metadata.db\n",
      "C:\\Users\\gregb\\Documents\\Calibre Books\\metadata_db_prefs_backup.json\n",
      "C:\\Users\\gregb\\Documents\\Calibre Books\\John Schember\\Quick Start Guide (1)\\cover.jpg\n",
      "C:\\Users\\gregb\\Documents\\Calibre Books\\John Schember\\Quick Start Guide (1)\\metadata.opf\n",
      "C:\\Users\\gregb\\Documents\\Calibre Books\\John Schember\\Quick Start Guide (1)\\Quick Start Guide - John Schember.epub\n",
      "C:\\Users\\gregb\\Documents\\Calibre Books\\Unknown\\16583 (2)\\16583 - Unknown.otpub\n",
      "C:\\Users\\gregb\\Documents\\Calibre Books\\Unknown\\16583 (2)\\metadata.opf\n",
      "C:\\Users\\gregb\\Documents\\Camtasia\\Copying Lists.tscproj\n",
      "C:\\Users\\gregb\\Documents\\Camtasia\\GitBash.tscproj\n",
      "C:\\Users\\gregb\\Documents\\Camtasia\\Lists.tscproj\n",
      "C:\\Users\\gregb\\Documents\\Camtasia\\MIS 460-2020 Ch 3 Cryptography.trec\n",
      "C:\\Users\\gregb\\Documents\\Camtasia\\MIS501_Lists.trec\n",
      "C:\\Users\\gregb\\Documents\\Camtasia\\Rec 03-25-20.trec\n",
      "C:\\Users\\gregb\\Documents\\Camtasia\\Rec 03-25-20_001.trec\n",
      "C:\\Users\\gregb\\Documents\\Camtasia\\Rec 03-25-20_002.trec\n",
      "C:\\Users\\gregb\\Documents\\Camtasia\\Rec 03-25-20_003.trec\n",
      "C:\\Users\\gregb\\Documents\\Camtasia\\Rec 03-31-20.trec\n",
      "C:\\Users\\gregb\\Documents\\Camtasia\\Rec 03-31-20_001.trec\n",
      "C:\\Users\\gregb\\Documents\\Camtasia\\Rec 03-31-20_002.trec\n",
      "C:\\Users\\gregb\\Documents\\Camtasia\\Rec 04-05-20.trec\n",
      "C:\\Users\\gregb\\Documents\\Camtasia\\Rec 04-05-20_001.trec\n",
      "C:\\Users\\gregb\\Documents\\Camtasia\\Rec 04-10-20.trec\n",
      "C:\\Users\\gregb\\Documents\\Camtasia\\Rec 04-10-20_001.trec\n",
      "C:\\Users\\gregb\\Documents\\Camtasia\\Rec 04-10-20_002.trec\n",
      "C:\\Users\\gregb\\Documents\\Camtasia\\Rec 04-10-20_003.trec\n",
      "C:\\Users\\gregb\\Documents\\Camtasia\\Rec 04-10-20_004.trec\n",
      "C:\\Users\\gregb\\Documents\\Camtasia\\Rec 04-12-20.trec\n",
      "C:\\Users\\gregb\\Documents\\Camtasia\\Rec 04-12-20_001.trec\n",
      "C:\\Users\\gregb\\Documents\\Camtasia\\Rec 05-21-20.trec\n",
      "C:\\Users\\gregb\\Documents\\Camtasia\\Rec 05-26-20.trec\n",
      "C:\\Users\\gregb\\Documents\\Camtasia\\Rec 05-26-20_001.trec\n",
      "C:\\Users\\gregb\\Documents\\Camtasia\\Rec 05-26-20_002.trec\n",
      "C:\\Users\\gregb\\Documents\\Camtasia\\Rec 05-26-20_003.trec\n",
      "C:\\Users\\gregb\\Documents\\Camtasia\\Rec 05-26-20_004.trec\n",
      "C:\\Users\\gregb\\Documents\\Camtasia\\Rec 05-26-20_005.trec\n",
      "C:\\Users\\gregb\\Documents\\Camtasia\\Rec 05-26-20_006.trec\n",
      "C:\\Users\\gregb\\Documents\\Camtasia\\Rec 05-27-20.trec\n",
      "C:\\Users\\gregb\\Documents\\Camtasia\\Rec 05-27-20_001.trec\n",
      "C:\\Users\\gregb\\Documents\\Camtasia\\Rec 05-28-20.trec\n",
      "C:\\Users\\gregb\\Documents\\Camtasia\\Rec 05-28-20_001.trec\n",
      "C:\\Users\\gregb\\Documents\\Camtasia\\Rec 05-28-20_002.trec\n",
      "C:\\Users\\gregb\\Documents\\Camtasia\\Rec 05-28-20_003.trec\n",
      "C:\\Users\\gregb\\Documents\\Camtasia\\Rec 05-28-20_004.trec\n",
      "C:\\Users\\gregb\\Documents\\Camtasia\\Rec 05-28-20_005.trec\n",
      "C:\\Users\\gregb\\Documents\\Camtasia\\Rec 05-28-20_006.trec\n",
      "C:\\Users\\gregb\\Documents\\Camtasia\\Rec 05-28-20_007.trec\n",
      "C:\\Users\\gregb\\Documents\\Camtasia\\Rec 05-28-20_008.trec\n",
      "C:\\Users\\gregb\\Documents\\Camtasia\\Rec 05-28-20_009.trec\n",
      "C:\\Users\\gregb\\Documents\\Camtasia\\Rec 05-28-20_010.trec\n",
      "C:\\Users\\gregb\\Documents\\Camtasia\\Rec 05-28-20_011.trec\n",
      "C:\\Users\\gregb\\Documents\\Camtasia\\Rec 05-28-20_012.trec\n",
      "C:\\Users\\gregb\\Documents\\Camtasia\\Rec 05-28-20_013.trec\n",
      "C:\\Users\\gregb\\Documents\\Camtasia\\Rec 05-28-20_014.trec\n",
      "C:\\Users\\gregb\\Documents\\Camtasia\\Rec 05-28-20_015.trec\n",
      "C:\\Users\\gregb\\Documents\\Camtasia\\Rec 05-28-20_016.trec\n",
      "C:\\Users\\gregb\\Documents\\Camtasia\\Rec 05-28-20_017.trec\n",
      "C:\\Users\\gregb\\Documents\\Camtasia\\Rec 05-28-20_018.trec\n",
      "C:\\Users\\gregb\\Documents\\Camtasia\\Rec 05-28-20_019.trec\n",
      "C:\\Users\\gregb\\Documents\\Camtasia\\Rec 05-28-20_020.trec\n",
      "C:\\Users\\gregb\\Documents\\Camtasia\\Rec 05-28-20_021.trec\n",
      "C:\\Users\\gregb\\Documents\\Camtasia\\Rec 05-28-20_022.trec\n",
      "C:\\Users\\gregb\\Documents\\Camtasia\\Rec 05-29-20.trec\n",
      "C:\\Users\\gregb\\Documents\\Camtasia\\Rec 05-29-20_004.trec\n",
      "C:\\Users\\gregb\\Documents\\Camtasia\\Rec 06-01-20.trec\n",
      "C:\\Users\\gregb\\Documents\\Camtasia\\Rec 06-01-20_001.trec\n",
      "C:\\Users\\gregb\\Documents\\Camtasia\\Rec 06-01-20_002.trec\n",
      "C:\\Users\\gregb\\Documents\\Camtasia\\Rec 06-01-20_003.trec\n",
      "C:\\Users\\gregb\\Documents\\Camtasia\\Rec 06-01-20_004.trec\n",
      "C:\\Users\\gregb\\Documents\\Camtasia\\Rec 06-01-20_005.trec\n",
      "C:\\Users\\gregb\\Documents\\Camtasia\\Rec 06-01-20_006.trec\n",
      "C:\\Users\\gregb\\Documents\\Camtasia\\Rec 06-01-20_007.trec\n",
      "C:\\Users\\gregb\\Documents\\Camtasia\\Rec 06-01-20_008.trec\n",
      "C:\\Users\\gregb\\Documents\\Camtasia\\Rec 06-08-20.trec\n",
      "C:\\Users\\gregb\\Documents\\Camtasia\\Rec 06-08-20_001.trec\n",
      "C:\\Users\\gregb\\Documents\\Camtasia\\Rec 06-08-20_002.trec\n",
      "C:\\Users\\gregb\\Documents\\Camtasia\\Rec 06-08-20_003.trec\n",
      "C:\\Users\\gregb\\Documents\\Camtasia\\Rec 06-12-20.trec\n",
      "C:\\Users\\gregb\\Documents\\Camtasia\\Rec 06-12-20_001.trec\n",
      "C:\\Users\\gregb\\Documents\\Camtasia\\Rec 06-15-20.trec\n",
      "C:\\Users\\gregb\\Documents\\Camtasia\\Rec 06-15-20_001.trec\n",
      "C:\\Users\\gregb\\Documents\\Camtasia\\Rec 06-15-20_002.trec\n",
      "C:\\Users\\gregb\\Documents\\Camtasia\\Rec 06-15-20_003.trec\n",
      "C:\\Users\\gregb\\Documents\\Camtasia\\Rec 06-15-20_004.trec\n",
      "C:\\Users\\gregb\\Documents\\Camtasia\\Rec 06-19-20.trec\n",
      "C:\\Users\\gregb\\Documents\\Camtasia\\Rec 06-19-20_001.trec\n",
      "C:\\Users\\gregb\\Documents\\Camtasia\\Rec 06-19-20_002.trec\n",
      "C:\\Users\\gregb\\Documents\\Camtasia\\Rec 06-24-20.trec\n",
      "C:\\Users\\gregb\\Documents\\Camtasia\\Rec 06-24-20_001.trec\n",
      "C:\\Users\\gregb\\Documents\\Camtasia\\Rec 06-24-20_002.trec\n",
      "C:\\Users\\gregb\\Documents\\Camtasia\\Sets.tscproj\n",
      "C:\\Users\\gregb\\Documents\\Camtasia\\597\\How to use Jupyter Lab.mp4\n",
      "C:\\Users\\gregb\\Documents\\Camtasia\\597\\MIS 597 Overview.mp4\n",
      "C:\\Users\\gregb\\Documents\\Camtasia\\Copying Lists\\Copying Lists.mp4\n",
      "C:\\Users\\gregb\\Documents\\Camtasia\\Crypotgraphy Part 2\\597.tscproj\n",
      "C:\\Users\\gregb\\Documents\\Camtasia\\Crypotgraphy Part 2\\Chapter 9.mp4\n",
      "C:\\Users\\gregb\\Documents\\Camtasia\\Crypotgraphy Part 2\\Chapter 9.tscproj\n",
      "C:\\Users\\gregb\\Documents\\Camtasia\\Crypotgraphy Part 2\\Crypotgraphy Part 2.mp4\n",
      "C:\\Users\\gregb\\Documents\\Camtasia\\Crypotgraphy Part 2\\Crypotgraphy Part II.mp4\n",
      "C:\\Users\\gregb\\Documents\\Camtasia\\Crypotgraphy Part 2\\Cryptography Part 2.tscproj\n",
      "C:\\Users\\gregb\\Documents\\Camtasia\\Crypotgraphy Part 2\\File Operations.tscproj\n",
      "C:\\Users\\gregb\\Documents\\Camtasia\\Crypotgraphy Part 2\\Function Concepts.tscproj\n",
      "C:\\Users\\gregb\\Documents\\Camtasia\\Crypotgraphy Part 2\\GitHub-Cloning.tscproj\n",
      "C:\\Users\\gregb\\Documents\\Camtasia\\Crypotgraphy Part 2\\Lab 10 concepts.tscproj\n",
      "C:\\Users\\gregb\\Documents\\Camtasia\\Crypotgraphy Part 2\\lab 11.tscproj\n",
      "C:\\Users\\gregb\\Documents\\Camtasia\\Crypotgraphy Part 2\\M2-conditionals.tscproj\n",
      "C:\\Users\\gregb\\Documents\\Camtasia\\Crypotgraphy Part 2\\M2-looping.tscproj\n",
      "C:\\Users\\gregb\\Documents\\Camtasia\\Crypotgraphy Part 2\\String operations.tscproj\n",
      "C:\\Users\\gregb\\Documents\\Camtasia\\Crypotgraphy Part 2\\testBT.tscproj\n",
      "C:\\Users\\gregb\\Documents\\Camtasia\\Crypotgraphy Part 2\\Untitled Project.tscproj\n",
      "C:\\Users\\gregb\\Documents\\Camtasia\\Crypotgraphy Part 2\\Using Functions.tscproj\n",
      "C:\\Users\\gregb\\Documents\\Camtasia\\Crypotgraphy Part 2\\variables.tscproj\n",
      "C:\\Users\\gregb\\Documents\\Camtasia\\Custom Production Presets 19.0\\MP4 only (up to 1080p).xml\n",
      "C:\\Users\\gregb\\Documents\\Camtasia\\Custom Production Presets 19.0\\MP4 only (up to 480p).xml\n",
      "C:\\Users\\gregb\\Documents\\Camtasia\\Custom Production Presets 19.0\\MP4 only (up to 720p).xml\n",
      "C:\\Users\\gregb\\Documents\\Camtasia\\Custom Production Presets 19.0\\MP4 with Smart Player (up to 1080p).xml\n",
      "C:\\Users\\gregb\\Documents\\Camtasia\\Custom Production Presets 19.0\\MP4 with Smart Player (up to 480p).xml\n",
      "C:\\Users\\gregb\\Documents\\Camtasia\\Custom Production Presets 19.0\\MP4 with Smart Player (up to 720p).xml\n",
      "C:\\Users\\gregb\\Documents\\Camtasia\\File Operations\\File Operations.mp4\n",
      "C:\\Users\\gregb\\Documents\\Camtasia\\File Operations\\FirstFrame.png\n",
      "C:\\Users\\gregb\\Documents\\Camtasia\\Git Pull CL\\FirstFrame.png\n",
      "C:\\Users\\gregb\\Documents\\Camtasia\\Git Pull CL\\Git Pull CL.mp4\n",
      "C:\\Users\\gregb\\Documents\\Camtasia\\GitHub-Cloning and Fetching\\FirstFrame.png\n",
      "C:\\Users\\gregb\\Documents\\Camtasia\\GitHub-Cloning and Fetching\\GitHub-Cloning and Fetching.mp4\n",
      "C:\\Users\\gregb\\Documents\\Camtasia\\Iteration-Looping\\Iteration-Looping.mp4\n",
      "C:\\Users\\gregb\\Documents\\Camtasia\\lab 11\\lab 11.html\n",
      "C:\\Users\\gregb\\Documents\\Camtasia\\lab 11\\lab 11.mp4\n",
      "C:\\Users\\gregb\\Documents\\Camtasia\\lab 11\\lab 11_config.xml\n",
      "C:\\Users\\gregb\\Documents\\Camtasia\\lab 11\\lab 11_embed.css\n",
      "C:\\Users\\gregb\\Documents\\Camtasia\\lab 11\\lab 11_player.html\n",
      "C:\\Users\\gregb\\Documents\\Camtasia\\lab 11\\lab_11_First_Frame.png\n",
      "C:\\Users\\gregb\\Documents\\Camtasia\\lab 11\\scripts\\config_xml.js\n",
      "C:\\Users\\gregb\\Documents\\Camtasia\\lab 11\\scripts\\techsmith-smart-player.min.js\n",
      "C:\\Users\\gregb\\Documents\\Camtasia\\lab 11\\skins\\remix\\techsmith-smart-player.min.css\n",
      "C:\\Users\\gregb\\Documents\\Camtasia\\Lists\\Lists.mp4\n",
      "C:\\Users\\gregb\\Documents\\Camtasia\\M2-Conditionals\\FirstFrame.png\n",
      "C:\\Users\\gregb\\Documents\\Camtasia\\M2-Conditionals\\M2-conditionals.mp4\n",
      "C:\\Users\\gregb\\Documents\\Camtasia\\M2-looping\\FirstFrame.png\n",
      "C:\\Users\\gregb\\Documents\\Camtasia\\M2-looping\\M2-looping.mp4\n",
      "C:\\Users\\gregb\\Documents\\Camtasia\\M2-looping and iteration\\FirstFrame.png\n",
      "C:\\Users\\gregb\\Documents\\Camtasia\\M2-looping and iteration\\M2-looping and iteration.mp4\n",
      "C:\\Users\\gregb\\Documents\\Camtasia\\Python Function Concepts\\FirstFrame.png\n",
      "C:\\Users\\gregb\\Documents\\Camtasia\\Python Function Concepts\\Python Function Concepts.mp4\n",
      "C:\\Users\\gregb\\Documents\\Camtasia\\Sets\\M7 Sets.mp4\n",
      "C:\\Users\\gregb\\Documents\\Camtasia\\Stay current using GitHub\\FirstFrame.png\n",
      "C:\\Users\\gregb\\Documents\\Camtasia\\Stay current using GitHub\\Stay current using GitHub.mp4\n",
      "C:\\Users\\gregb\\Documents\\Camtasia\\String Operations\\FirstFrame.png\n",
      "C:\\Users\\gregb\\Documents\\Camtasia\\String Operations\\String Operations.mp4\n",
      "C:\\Users\\gregb\\Documents\\Camtasia\\Untitled Project\\Lab 10 Concepts.mp4\n",
      "C:\\Users\\gregb\\Documents\\Camtasia\\Untitled Project\\Untitled Project.html\n",
      "C:\\Users\\gregb\\Documents\\Camtasia\\Untitled Project\\Untitled Project_config.xml\n",
      "C:\\Users\\gregb\\Documents\\Camtasia\\Untitled Project\\Untitled Project_embed.css\n",
      "C:\\Users\\gregb\\Documents\\Camtasia\\Untitled Project\\Untitled Project_player.html\n",
      "C:\\Users\\gregb\\Documents\\Camtasia\\Untitled Project\\Untitled_Project_First_Frame.png\n",
      "C:\\Users\\gregb\\Documents\\Camtasia\\Untitled Project\\scripts\\config_xml.js\n",
      "C:\\Users\\gregb\\Documents\\Camtasia\\Untitled Project\\scripts\\techsmith-smart-player.min.js\n",
      "C:\\Users\\gregb\\Documents\\Camtasia\\Untitled Project\\skins\\remix\\techsmith-smart-player.min.css\n",
      "C:\\Users\\gregb\\Documents\\Camtasia\\Using Functions\\FirstFrame.png\n",
      "C:\\Users\\gregb\\Documents\\Camtasia\\Using Functions\\Using Functions.mp4\n",
      "C:\\Users\\gregb\\Documents\\Camtasia\\Variables, Expressions and Types\\FirstFrame.png\n",
      "C:\\Users\\gregb\\Documents\\Camtasia\\Variables, Expressions and Types\\Variables, Expressions and Types.mp4\n",
      "C:\\Users\\gregb\\Documents\\Camtasia\\Voice Narrations\\Narration 1.m4a\n",
      "C:\\Users\\gregb\\Documents\\Canon Fax Data\\gpfax.adr\n",
      "C:\\Users\\gregb\\Documents\\Canon Fax Data\\gpfax.idx\n",
      "C:\\Users\\gregb\\Documents\\Custom Office Templates\\Bott Class template.potx\n",
      "C:\\Users\\gregb\\Documents\\GitHub\\ht_data_acquisition.rar\n",
      "C:\\Users\\gregb\\Documents\\GitHub\\OLD-Python_For_Business_Students.rar\n",
      "C:\\Users\\gregb\\Documents\\GitHub\\Bott Study Bible\\Tufte book_1\\bibliography.bib\n",
      "C:\\Users\\gregb\\Documents\\GitHub\\Bott Study Bible\\Tufte book_1\\book_1_template.aux\n",
      "C:\\Users\\gregb\\Documents\\GitHub\\Bott Study Bible\\Tufte book_1\\book_1_template.bbl\n",
      "C:\\Users\\gregb\\Documents\\GitHub\\Bott Study Bible\\Tufte book_1\\book_1_template.idx\n",
      "C:\\Users\\gregb\\Documents\\GitHub\\Bott Study Bible\\Tufte book_1\\book_1_template.ind\n",
      "C:\\Users\\gregb\\Documents\\GitHub\\Bott Study Bible\\Tufte book_1\\book_1_template.lof\n",
      "C:\\Users\\gregb\\Documents\\GitHub\\Bott Study Bible\\Tufte book_1\\book_1_template.log\n",
      "C:\\Users\\gregb\\Documents\\GitHub\\Bott Study Bible\\Tufte book_1\\book_1_template.lot\n",
      "C:\\Users\\gregb\\Documents\\GitHub\\Bott Study Bible\\Tufte book_1\\book_1_template.out\n",
      "C:\\Users\\gregb\\Documents\\GitHub\\Bott Study Bible\\Tufte book_1\\book_1_template.pdf\n",
      "C:\\Users\\gregb\\Documents\\GitHub\\Bott Study Bible\\Tufte book_1\\book_1_template.synctex.gz\n",
      "C:\\Users\\gregb\\Documents\\GitHub\\Bott Study Bible\\Tufte book_1\\book_1_template.tex\n",
      "C:\\Users\\gregb\\Documents\\GitHub\\Bott Study Bible\\Tufte book_1\\book_1_template.toc\n",
      "C:\\Users\\gregb\\Documents\\GitHub\\Bott Study Bible\\Tufte book_1\\main.bbl\n",
      "C:\\Users\\gregb\\Documents\\GitHub\\Bott Study Bible\\Tufte book_1\\main.ind\n",
      "C:\\Users\\gregb\\Documents\\GitHub\\Bott Study Bible\\Tufte book_1\\main.tex\n",
      "C:\\Users\\gregb\\Documents\\GitHub\\Bott Study Bible\\Tufte book_1\\main.toc\n",
      "C:\\Users\\gregb\\Documents\\GitHub\\Bott Study Bible\\Tufte book_1\\tufte-book.cls\n",
      "C:\\Users\\gregb\\Documents\\GitHub\\Bott Study Bible\\Tufte book_1\\tufte-common.def\n",
      "C:\\Users\\gregb\\Documents\\GitHub\\Bott Study Bible\\Tufte book_1\\graphics\\be-contents.pdf\n",
      "C:\\Users\\gregb\\Documents\\GitHub\\Bott Study Bible\\Tufte book_1\\graphics\\be-title.pdf\n",
      "C:\\Users\\gregb\\Documents\\GitHub\\Bott Study Bible\\Tufte book_1\\graphics\\ei-contents.pdf\n",
      "C:\\Users\\gregb\\Documents\\GitHub\\Bott Study Bible\\Tufte book_1\\graphics\\ei-title.pdf\n",
      "C:\\Users\\gregb\\Documents\\GitHub\\Bott Study Bible\\Tufte book_1\\graphics\\helix.pdf\n",
      "C:\\Users\\gregb\\Documents\\GitHub\\Bott Study Bible\\Tufte book_1\\graphics\\hilbertcurves.pdf\n",
      "C:\\Users\\gregb\\Documents\\GitHub\\Bott Study Bible\\Tufte book_1\\graphics\\sine.pdf\n",
      "C:\\Users\\gregb\\Documents\\GitHub\\Bott Study Bible\\Tufte book_1\\graphics\\vdqi-contents.pdf\n",
      "C:\\Users\\gregb\\Documents\\GitHub\\Bott Study Bible\\Tufte book_1\\graphics\\vdqi-title.pdf\n",
      "C:\\Users\\gregb\\Documents\\GitHub\\Bott Study Bible\\Tufte book_1\\graphics\\ve-contents.pdf\n",
      "C:\\Users\\gregb\\Documents\\GitHub\\Bott Study Bible\\Tufte book_1\\graphics\\ve-title.pdf\n",
      "C:\\Users\\gregb\\Documents\\GitHub\\Bott-Research\\.gitattributes\n",
      "C:\\Users\\gregb\\Documents\\GitHub\\Bott-Research\\.gitignore\n",
      "C:\\Users\\gregb\\Documents\\GitHub\\Bott-Research\\Boston Housing.ipynb\n",
      "C:\\Users\\gregb\\Documents\\GitHub\\Bott-Research\\face_rec.zip\n",
      "C:\\Users\\gregb\\Documents\\GitHub\\Bott-Research\\.git\\COMMIT_EDITMSG\n",
      "C:\\Users\\gregb\\Documents\\GitHub\\Bott-Research\\.git\\config\n",
      "C:\\Users\\gregb\\Documents\\GitHub\\Bott-Research\\.git\\description\n",
      "C:\\Users\\gregb\\Documents\\GitHub\\Bott-Research\\.git\\FETCH_HEAD\n",
      "C:\\Users\\gregb\\Documents\\GitHub\\Bott-Research\\.git\\HEAD\n",
      "C:\\Users\\gregb\\Documents\\GitHub\\Bott-Research\\.git\\index\n",
      "C:\\Users\\gregb\\Documents\\GitHub\\Bott-Research\\.git\\ORIG_HEAD\n",
      "C:\\Users\\gregb\\Documents\\GitHub\\Bott-Research\\.git\\packed-refs\n",
      "C:\\Users\\gregb\\Documents\\GitHub\\Bott-Research\\.git\\hooks\\applypatch-msg.sample\n",
      "C:\\Users\\gregb\\Documents\\GitHub\\Bott-Research\\.git\\hooks\\commit-msg.sample\n",
      "C:\\Users\\gregb\\Documents\\GitHub\\Bott-Research\\.git\\hooks\\fsmonitor-watchman.sample\n",
      "C:\\Users\\gregb\\Documents\\GitHub\\Bott-Research\\.git\\hooks\\post-update.sample\n",
      "C:\\Users\\gregb\\Documents\\GitHub\\Bott-Research\\.git\\hooks\\pre-applypatch.sample\n",
      "C:\\Users\\gregb\\Documents\\GitHub\\Bott-Research\\.git\\hooks\\pre-commit.sample\n",
      "C:\\Users\\gregb\\Documents\\GitHub\\Bott-Research\\.git\\hooks\\pre-push.sample\n",
      "C:\\Users\\gregb\\Documents\\GitHub\\Bott-Research\\.git\\hooks\\pre-rebase.sample\n",
      "C:\\Users\\gregb\\Documents\\GitHub\\Bott-Research\\.git\\hooks\\pre-receive.sample\n",
      "C:\\Users\\gregb\\Documents\\GitHub\\Bott-Research\\.git\\hooks\\prepare-commit-msg.sample\n",
      "C:\\Users\\gregb\\Documents\\GitHub\\Bott-Research\\.git\\hooks\\update.sample\n",
      "C:\\Users\\gregb\\Documents\\GitHub\\Bott-Research\\.git\\info\\exclude\n",
      "C:\\Users\\gregb\\Documents\\GitHub\\Bott-Research\\.git\\logs\\HEAD\n",
      "C:\\Users\\gregb\\Documents\\GitHub\\Bott-Research\\.git\\logs\\refs\\heads\\master\n",
      "C:\\Users\\gregb\\Documents\\GitHub\\Bott-Research\\.git\\logs\\refs\\remotes\\origin\\HEAD\n",
      "C:\\Users\\gregb\\Documents\\GitHub\\Bott-Research\\.git\\logs\\refs\\remotes\\origin\\master\n",
      "C:\\Users\\gregb\\Documents\\GitHub\\Bott-Research\\.git\\objects\\03\\17f2ae951d4a2e4c224e84d3255505d94ef9af\n",
      "C:\\Users\\gregb\\Documents\\GitHub\\Bott-Research\\.git\\objects\\04\\dcc0b85381585a7e6ce09749f25e1ba9d440a7\n",
      "C:\\Users\\gregb\\Documents\\GitHub\\Bott-Research\\.git\\objects\\06\\1f3b4598cc80f6c6a4e9a67e45dd5cf647786f\n",
      "C:\\Users\\gregb\\Documents\\GitHub\\Bott-Research\\.git\\objects\\06\\37a088a01e8ddab3bf3fa98dbe804cbde1a0dc\n",
      "C:\\Users\\gregb\\Documents\\GitHub\\Bott-Research\\.git\\objects\\07\\13297454210d225afee8802522233a5ba83464\n",
      "C:\\Users\\gregb\\Documents\\GitHub\\Bott-Research\\.git\\objects\\08\\4ee503861261723fcbb992703090ab8303a66b\n",
      "C:\\Users\\gregb\\Documents\\GitHub\\Bott-Research\\.git\\objects\\09\\47f5e4ff33fd108b257f0a0d547ab82eb46e49\n",
      "C:\\Users\\gregb\\Documents\\GitHub\\Bott-Research\\.git\\objects\\0c\\9163e17f310d53a2e8d739c6282848e28cd2c9\n",
      "C:\\Users\\gregb\\Documents\\GitHub\\Bott-Research\\.git\\objects\\0c\\cf71bff20d339f3c499a5b6dd44db70d0aa0e0\n",
      "C:\\Users\\gregb\\Documents\\GitHub\\Bott-Research\\.git\\objects\\0e\\90a77ad518873cf6d045bd8adba231bc1d64df\n",
      "C:\\Users\\gregb\\Documents\\GitHub\\Bott-Research\\.git\\objects\\10\\123583982ecba23da531646c1ff6d15f78612e\n",
      "C:\\Users\\gregb\\Documents\\GitHub\\Bott-Research\\.git\\objects\\10\\d924d01ae226b8fb87fab83a95979470cd4649\n",
      "C:\\Users\\gregb\\Documents\\GitHub\\Bott-Research\\.git\\objects\\11\\632d4e1941511bacee099edd69367c16d5ee6c\n",
      "C:\\Users\\gregb\\Documents\\GitHub\\Bott-Research\\.git\\objects\\14\\e3f78cca210dbd650db1c94ffd279da252a92d\n",
      "C:\\Users\\gregb\\Documents\\GitHub\\Bott-Research\\.git\\objects\\1c\\7d77b498c44e7d17439a1168e74891c106ac84\n",
      "C:\\Users\\gregb\\Documents\\GitHub\\Bott-Research\\.git\\objects\\21\\ed3c2ea0ab862a733517a9ecf5f5dff9efdc55\n",
      "C:\\Users\\gregb\\Documents\\GitHub\\Bott-Research\\.git\\objects\\23\\49dc07e752d26f67050e9ed2153cc307a4531d\n",
      "C:\\Users\\gregb\\Documents\\GitHub\\Bott-Research\\.git\\objects\\23\\ec16bda6cba7853c6023bd1f65d7aaf2fef1ef\n",
      "C:\\Users\\gregb\\Documents\\GitHub\\Bott-Research\\.git\\objects\\24\\457dee2b82ba39916ea38d156353cbdb2aa782\n",
      "C:\\Users\\gregb\\Documents\\GitHub\\Bott-Research\\.git\\objects\\25\\c9bf9c12caeff5611c2c21a56807d5e0e1da25\n",
      "C:\\Users\\gregb\\Documents\\GitHub\\Bott-Research\\.git\\objects\\26\\b856d46fd05f90ce1c6f7fd40edc7f32b1fac3\n",
      "C:\\Users\\gregb\\Documents\\GitHub\\Bott-Research\\.git\\objects\\29\\1a91b9189b9a5febaf3dc4b6b2555ebfb5139c\n",
      "C:\\Users\\gregb\\Documents\\GitHub\\Bott-Research\\.git\\objects\\29\\48c2858a0bef9e3aaddd2ac9e431d4810bce37\n",
      "C:\\Users\\gregb\\Documents\\GitHub\\Bott-Research\\.git\\objects\\2c\\09275694583edc927c5258b3dd25d94f42b49d\n",
      "C:\\Users\\gregb\\Documents\\GitHub\\Bott-Research\\.git\\objects\\31\\c0cc64983524ae490520adc53ce3fabbcd07a1\n",
      "C:\\Users\\gregb\\Documents\\GitHub\\Bott-Research\\.git\\objects\\3a\\c4aebf6362d8d4380fbe16ce9ce40693b0419d\n",
      "C:\\Users\\gregb\\Documents\\GitHub\\Bott-Research\\.git\\objects\\3b\\220e29c3b50bbd427e153c0ca50d388e1162b8\n",
      "C:\\Users\\gregb\\Documents\\GitHub\\Bott-Research\\.git\\objects\\42\\6f896fae2a028992c38420da4fa364f434ed9b\n",
      "C:\\Users\\gregb\\Documents\\GitHub\\Bott-Research\\.git\\objects\\43\\76d41ba43ebbd378a202ea9e7cf2bf26c859e3\n",
      "C:\\Users\\gregb\\Documents\\GitHub\\Bott-Research\\.git\\objects\\45\\307d08ee39e07d9217b2ac1358732766963c95\n",
      "C:\\Users\\gregb\\Documents\\GitHub\\Bott-Research\\.git\\objects\\45\\82a7ffdde7288f0af85486412279d55e144222\n",
      "C:\\Users\\gregb\\Documents\\GitHub\\Bott-Research\\.git\\objects\\4a\\61fbf5085540083f1ebdcaf78bece5264b502d\n",
      "C:\\Users\\gregb\\Documents\\GitHub\\Bott-Research\\.git\\objects\\4f\\d92724d85515eb64a5262d040307633cae04d4\n",
      "C:\\Users\\gregb\\Documents\\GitHub\\Bott-Research\\.git\\objects\\57\\012427e7ac926ebef65047a5168cbb1c28aeaa\n",
      "C:\\Users\\gregb\\Documents\\GitHub\\Bott-Research\\.git\\objects\\58\\161637b3c7895db347a52d3d68d8e4045504fe\n",
      "C:\\Users\\gregb\\Documents\\GitHub\\Bott-Research\\.git\\objects\\59\\4a6efbd7486e972c5e4154986c224c9a4502c6\n",
      "C:\\Users\\gregb\\Documents\\GitHub\\Bott-Research\\.git\\objects\\59\\50e1b842d76b14083154e6c74d413d06b61954\n",
      "C:\\Users\\gregb\\Documents\\GitHub\\Bott-Research\\.git\\objects\\59\\bff28c75761cd92b9c16ee4cee4145297c83df\n",
      "C:\\Users\\gregb\\Documents\\GitHub\\Bott-Research\\.git\\objects\\5a\\d1a382c9b6360d2b413d3929a432e220c28afc\n",
      "C:\\Users\\gregb\\Documents\\GitHub\\Bott-Research\\.git\\objects\\5c\\117c9664b5771c743141eda4203c773d80f15d\n",
      "C:\\Users\\gregb\\Documents\\GitHub\\Bott-Research\\.git\\objects\\62\\64dbe4a5ce25af0346d8704e79cd71c8f929fb\n",
      "C:\\Users\\gregb\\Documents\\GitHub\\Bott-Research\\.git\\objects\\63\\571d9427e41f7c2baaa9bd6b1c262161b8ae13\n",
      "C:\\Users\\gregb\\Documents\\GitHub\\Bott-Research\\.git\\objects\\66\\5f25da498eeb42f2a38cd679d44fabd01b3f72\n",
      "C:\\Users\\gregb\\Documents\\GitHub\\Bott-Research\\.git\\objects\\6b\\9c9865cf3d52b2f1a1dfe461d1c0da77debe6f\n",
      "C:\\Users\\gregb\\Documents\\GitHub\\Bott-Research\\.git\\objects\\6d\\a8d505b60e94f80a19ecc70c7c394371d5e976\n",
      "C:\\Users\\gregb\\Documents\\GitHub\\Bott-Research\\.git\\objects\\71\\205568f5489f7313d82b1125d6268e3aa50c36\n",
      "C:\\Users\\gregb\\Documents\\GitHub\\Bott-Research\\.git\\objects\\72\\62dd7536d76b3a2fa64049daa2f48dd0cd6b87\n",
      "C:\\Users\\gregb\\Documents\\GitHub\\Bott-Research\\.git\\objects\\76\\7ec503c14ee7148806f2671249b806b4f0eccc\n",
      "C:\\Users\\gregb\\Documents\\GitHub\\Bott-Research\\.git\\objects\\76\\d5805d5aaaa7ebeed47b1746d45274ab57f95a\n",
      "C:\\Users\\gregb\\Documents\\GitHub\\Bott-Research\\.git\\objects\\77\\5a8bbb06a4eb5d023defbe6377541aba566199\n",
      "C:\\Users\\gregb\\Documents\\GitHub\\Bott-Research\\.git\\objects\\78\\35ac626e902d711ec2da1ee3d7190e4d1b336a\n",
      "C:\\Users\\gregb\\Documents\\GitHub\\Bott-Research\\.git\\objects\\7f\\ec51502cbc3200b3d0ffc6bbba1fe85e197f3d\n",
      "C:\\Users\\gregb\\Documents\\GitHub\\Bott-Research\\.git\\objects\\80\\36258dafed38ca27c9e1a010258f8e4631ccad\n",
      "C:\\Users\\gregb\\Documents\\GitHub\\Bott-Research\\.git\\objects\\82\\9358f59c4623d1187001e39866c20a43b32fb6\n",
      "C:\\Users\\gregb\\Documents\\GitHub\\Bott-Research\\.git\\objects\\8c\\12349353566909c71db728b1ad776a360b35ec\n",
      "C:\\Users\\gregb\\Documents\\GitHub\\Bott-Research\\.git\\objects\\8d\\2dfce57b37706e2256d5321726e5f51d04efcc\n",
      "C:\\Users\\gregb\\Documents\\GitHub\\Bott-Research\\.git\\objects\\90\\54a9b92aac18f6a6cdc9daf3eee66e0eb172f5\n",
      "C:\\Users\\gregb\\Documents\\GitHub\\Bott-Research\\.git\\objects\\90\\977aec9983e260f0d53ff613241309f40bc462\n",
      "C:\\Users\\gregb\\Documents\\GitHub\\Bott-Research\\.git\\objects\\92\\f6067e0f91ca6775436c33a4059e6ba2130cad\n",
      "C:\\Users\\gregb\\Documents\\GitHub\\Bott-Research\\.git\\objects\\9b\\9fa7527dfa1105c57d1ad51d8c0f4721dba220\n",
      "C:\\Users\\gregb\\Documents\\GitHub\\Bott-Research\\.git\\objects\\9e\\26dfeeb6e641a33dae4961196235bdb965b21b\n",
      "C:\\Users\\gregb\\Documents\\GitHub\\Bott-Research\\.git\\objects\\a1\\feffc926331a9b3219bae7d37b839e4875cf5c\n",
      "C:\\Users\\gregb\\Documents\\GitHub\\Bott-Research\\.git\\objects\\a2\\b7b766b62342668201d2c51f6b41ce0cafcca5\n",
      "C:\\Users\\gregb\\Documents\\GitHub\\Bott-Research\\.git\\objects\\a2\\db59b3f74dd858217e0c35f59b87d2879375cf\n",
      "C:\\Users\\gregb\\Documents\\GitHub\\Bott-Research\\.git\\objects\\a4\\54e6d6795b7b4065399917d6ac0034793b714a\n",
      "C:\\Users\\gregb\\Documents\\GitHub\\Bott-Research\\.git\\objects\\a9\\23a640440720f71cf8bf7afe3a6b544fe03b16\n",
      "C:\\Users\\gregb\\Documents\\GitHub\\Bott-Research\\.git\\objects\\ab\\e294ebe81d0259e4d475b8c0547a15054babcf\n",
      "C:\\Users\\gregb\\Documents\\GitHub\\Bott-Research\\.git\\objects\\ac\\1f7cbde58fe7a9d8315ccc6712a7b46bd55646\n",
      "C:\\Users\\gregb\\Documents\\GitHub\\Bott-Research\\.git\\objects\\ad\\6741ad44b5e46992bbce0cf13d90f966f3bafa\n",
      "C:\\Users\\gregb\\Documents\\GitHub\\Bott-Research\\.git\\objects\\ad\\a6403d6787a94b76f56934ffaf1576a58b1f20\n",
      "C:\\Users\\gregb\\Documents\\GitHub\\Bott-Research\\.git\\objects\\ae\\63fbd2642d54a2eace9cd25b8769e67188f432\n",
      "C:\\Users\\gregb\\Documents\\GitHub\\Bott-Research\\.git\\objects\\b3\\f5e6d77202f759930b5978e4bd5f195a99acb1\n",
      "C:\\Users\\gregb\\Documents\\GitHub\\Bott-Research\\.git\\objects\\b4\\c807455880c8113b6f0f251ad00f959350c16b\n",
      "C:\\Users\\gregb\\Documents\\GitHub\\Bott-Research\\.git\\objects\\b5\\edd210874befa0a374571424a0047f26a86c4e\n",
      "C:\\Users\\gregb\\Documents\\GitHub\\Bott-Research\\.git\\objects\\b8\\7017de99e53d2089a5b9804a2eee5fde084f8c\n",
      "C:\\Users\\gregb\\Documents\\GitHub\\Bott-Research\\.git\\objects\\bc\\1fef71e1f1d74461fabb1a0566edfa37064a3b\n",
      "C:\\Users\\gregb\\Documents\\GitHub\\Bott-Research\\.git\\objects\\c0\\b8f6f2ea263b25aa753d07788db1cfbff546ea\n",
      "C:\\Users\\gregb\\Documents\\GitHub\\Bott-Research\\.git\\objects\\c1\\d52b5c3b5daa8da7544001975d9f9fda70886d\n",
      "C:\\Users\\gregb\\Documents\\GitHub\\Bott-Research\\.git\\objects\\c4\\0ca82c9502bae6bc8ae64959662a9f9c9f85e4\n",
      "C:\\Users\\gregb\\Documents\\GitHub\\Bott-Research\\.git\\objects\\c5\\c2bef3906e6cc8284a9b07b7d4b80ffecdb188\n",
      "C:\\Users\\gregb\\Documents\\GitHub\\Bott-Research\\.git\\objects\\c9\\2498a238d3994ec6758fc1676d4eb3279ae118\n",
      "C:\\Users\\gregb\\Documents\\GitHub\\Bott-Research\\.git\\objects\\ca\\34a0a0f747f2ece210dc57be0d30c594c6e73e\n",
      "C:\\Users\\gregb\\Documents\\GitHub\\Bott-Research\\.git\\objects\\cf\\80dc82247f9b54091e6a4681b3f4f23e27873c\n",
      "C:\\Users\\gregb\\Documents\\GitHub\\Bott-Research\\.git\\objects\\d6\\45d9680a623a6cad6fd39f9daa59a0c1fff54a\n",
      "C:\\Users\\gregb\\Documents\\GitHub\\Bott-Research\\.git\\objects\\da\\f2be41715c871e73f3b924f16e7e5cd27ca287\n",
      "C:\\Users\\gregb\\Documents\\GitHub\\Bott-Research\\.git\\objects\\df\\a95edfc82068158b5c87007f29fb98015d6002\n",
      "C:\\Users\\gregb\\Documents\\GitHub\\Bott-Research\\.git\\objects\\e0\\3e7560ce0d47216c7d746828627c8c20800088\n",
      "C:\\Users\\gregb\\Documents\\GitHub\\Bott-Research\\.git\\objects\\e4\\5abbc6ecb32140b779ceea6c83751a12d5131e\n",
      "C:\\Users\\gregb\\Documents\\GitHub\\Bott-Research\\.git\\objects\\e4\\ee3aa7a963fc7c318ba72362272fd35f8fda15\n",
      "C:\\Users\\gregb\\Documents\\GitHub\\Bott-Research\\.git\\objects\\e7\\4532aa07619073f20236b8c2aca27c5770b523\n",
      "C:\\Users\\gregb\\Documents\\GitHub\\Bott-Research\\.git\\objects\\eb\\50b75ae4d3143944ceab027ab4dba229609132\n",
      "C:\\Users\\gregb\\Documents\\GitHub\\Bott-Research\\.git\\objects\\ef\\8b6a0a99f866c72884242eb1af72ed978776cc\n",
      "C:\\Users\\gregb\\Documents\\GitHub\\Bott-Research\\.git\\objects\\ef\\e20b1c496c2c03af3acfb5113d88ddfecc114e\n",
      "C:\\Users\\gregb\\Documents\\GitHub\\Bott-Research\\.git\\objects\\f3\\fab992d44f88f6dca6f14479ce26a751d5cec8\n",
      "C:\\Users\\gregb\\Documents\\GitHub\\Bott-Research\\.git\\objects\\f4\\5c89de1c20896619fb49a559e71bc01ad79283\n",
      "C:\\Users\\gregb\\Documents\\GitHub\\Bott-Research\\.git\\objects\\f4\\abf48518dd5940cb6bfbb5f3671c310e35e4f8\n",
      "C:\\Users\\gregb\\Documents\\GitHub\\Bott-Research\\.git\\objects\\f6\\2a682236ab432720bc92a223a1187a7e938ee9\n",
      "C:\\Users\\gregb\\Documents\\GitHub\\Bott-Research\\.git\\objects\\f9\\ba7066eeccf239335e6c2c31c8d2a2a6a89e70\n",
      "C:\\Users\\gregb\\Documents\\GitHub\\Bott-Research\\.git\\objects\\ff\\458204c2315b6c5f2b85fd9b1bde193d1433bd\n",
      "C:\\Users\\gregb\\Documents\\GitHub\\Bott-Research\\.git\\objects\\pack\\pack-5b56a976a676e82e11a521d503b72a48c6864319.idx\n",
      "C:\\Users\\gregb\\Documents\\GitHub\\Bott-Research\\.git\\objects\\pack\\pack-5b56a976a676e82e11a521d503b72a48c6864319.pack\n",
      "C:\\Users\\gregb\\Documents\\GitHub\\Bott-Research\\.git\\refs\\heads\\master\n",
      "C:\\Users\\gregb\\Documents\\GitHub\\Bott-Research\\.git\\refs\\remotes\\origin\\HEAD\n",
      "C:\\Users\\gregb\\Documents\\GitHub\\Bott-Research\\.git\\refs\\remotes\\origin\\master\n",
      "C:\\Users\\gregb\\Documents\\GitHub\\Bott-Research\\.ipynb_checkpoints\\Pic_Play-checkpoint.ipynb\n",
      "C:\\Users\\gregb\\Documents\\GitHub\\Bott-Research\\.ipynb_checkpoints\\skipthegames_working-checkpoint.ipynb\n",
      "C:\\Users\\gregb\\Documents\\GitHub\\Bott-Research\\.ipynb_checkpoints\\yesbackpage_scraping_complete-checkpoint.ipynb\n",
      "C:\\Users\\gregb\\Documents\\GitHub\\Bott-Research\\face_rec\\Alexa stats.ipynb\n",
      "C:\\Users\\gregb\\Documents\\GitHub\\Bott-Research\\face_rec\\Alexa stats2.ipynb\n",
      "C:\\Users\\gregb\\Documents\\GitHub\\Bott-Research\\face_rec\\AlexaRelatedSites.pdf\n",
      "C:\\Users\\gregb\\Documents\\GitHub\\Bott-Research\\face_rec\\AlexaRelatedSites.svg\n",
      "C:\\Users\\gregb\\Documents\\GitHub\\Bott-Research\\face_rec\\AlexaTotalReach.csv\n",
      "C:\\Users\\gregb\\Documents\\GitHub\\Bott-Research\\face_rec\\Encode_Faces.ipynb\n",
      "C:\\Users\\gregb\\Documents\\GitHub\\Bott-Research\\face_rec\\face_encoding.html\n",
      "C:\\Users\\gregb\\Documents\\GitHub\\Bott-Research\\face_rec\\face_rec.py\n",
      "C:\\Users\\gregb\\Documents\\GitHub\\Bott-Research\\face_rec\\Picture Encoding.ipynb\n",
      "C:\\Users\\gregb\\Documents\\GitHub\\Bott-Research\\face_rec\\Picture Hashing_Bott.ipynb\n",
      "C:\\Users\\gregb\\Documents\\GitHub\\Bott-Research\\face_rec\\pic_hash_dict.json\n",
      "C:\\Users\\gregb\\Documents\\GitHub\\Bott-Research\\face_rec\\POMS Cracking HT paper.ipynb\n",
      "C:\\Users\\gregb\\Documents\\GitHub\\Bott-Research\\face_rec\\processed_images.json\n",
      "C:\\Users\\gregb\\Documents\\GitHub\\Bott-Research\\face_rec\\RandomWalk.ipynb\n",
      "C:\\Users\\gregb\\Documents\\GitHub\\Bott-Research\\face_rec\\.ipynb_checkpoints\\Alexa stats-checkpoint.ipynb\n",
      "C:\\Users\\gregb\\Documents\\GitHub\\Bott-Research\\face_rec\\.ipynb_checkpoints\\AlexaRelatedSites-checkpoint.pdf\n",
      "C:\\Users\\gregb\\Documents\\GitHub\\Bott-Research\\face_rec\\.ipynb_checkpoints\\AlexaRelatedSites-checkpoint.svg\n",
      "C:\\Users\\gregb\\Documents\\GitHub\\Bott-Research\\face_rec\\.ipynb_checkpoints\\AlexaTotalReach-checkpoint.csv\n",
      "C:\\Users\\gregb\\Documents\\GitHub\\Bott-Research\\face_rec\\.ipynb_checkpoints\\Encode_Faces-checkpoint.ipynb\n",
      "C:\\Users\\gregb\\Documents\\GitHub\\Bott-Research\\face_rec\\.ipynb_checkpoints\\face_rec-checkpoint.py\n",
      "C:\\Users\\gregb\\Documents\\GitHub\\Bott-Research\\face_rec\\.ipynb_checkpoints\\face_recognition-checkpoint.ipynb\n",
      "C:\\Users\\gregb\\Documents\\GitHub\\Bott-Research\\face_rec\\.ipynb_checkpoints\\Picture Encoding-checkpoint.ipynb\n",
      "C:\\Users\\gregb\\Documents\\GitHub\\Bott-Research\\face_rec\\.ipynb_checkpoints\\Picture Hashing_Bott-checkpoint.ipynb\n",
      "C:\\Users\\gregb\\Documents\\GitHub\\Bott-Research\\face_rec\\.ipynb_checkpoints\\POMS Cracking HT paper-checkpoint.ipynb\n",
      "C:\\Users\\gregb\\Documents\\GitHub\\Bott-Research\\face_rec\\.ipynb_checkpoints\\RandomWalk-checkpoint.ipynb\n",
      "C:\\Users\\gregb\\Documents\\GitHub\\Bott-Research\\face_rec\\.ipynb_checkpoints\\Untitled-checkpoint.ipynb\n",
      "C:\\Users\\gregb\\Documents\\GitHub\\Bott-Research\\face_rec\\.ipynb_checkpoints\\View Encoded-checkpoint.ipynb\n",
      "C:\\Users\\gregb\\Documents\\GitHub\\Bott-Research\\face_rec\\.ipynb_checkpoints\\XPS15_1_Encode_Faces-checkpoint.ipynb\n",
      "C:\\Users\\gregb\\Documents\\GitHub\\Bott-Research\\face_rec\\.ipynb_checkpoints\\XPS15_2_Encode_Faces-checkpoint.ipynb\n",
      "C:\\Users\\gregb\\Documents\\GitHub\\Bott-Research\\face_rec\\.ipynb_checkpoints\\XPS15_3_Encode_Faces-checkpoint.ipynb\n",
      "C:\\Users\\gregb\\Documents\\GitHub\\Bott-Research\\face_rec\\.ipynb_checkpoints\\XPS15_4_Encode_Faces-checkpoint.ipynb\n",
      "C:\\Users\\gregb\\Documents\\GitHub\\Bott-Research\\face_rec\\zArchive\\2020-01-13 combined reach - Copy.csv\n",
      "C:\\Users\\gregb\\Documents\\GitHub\\Bott-Research\\face_rec\\zArchive\\2020-01-13 combined reach.csv\n",
      "C:\\Users\\gregb\\Documents\\GitHub\\Bott-Research\\face_rec\\zArchive\\AlexaFile1.csv\n",
      "C:\\Users\\gregb\\Documents\\GitHub\\Bott-Research\\face_rec\\zArchive\\AlexaFile2.csv\n",
      "C:\\Users\\gregb\\Documents\\GitHub\\Bott-Research\\face_rec\\zArchive\\AlexaFile3.csv\n",
      "C:\\Users\\gregb\\Documents\\GitHub\\Bott-Research\\face_rec\\zArchive\\AlexaFile4.csv\n",
      "C:\\Users\\gregb\\Documents\\GitHub\\Bott-Research\\face_rec\\zArchive\\AlexaFile5.csv\n",
      "C:\\Users\\gregb\\Documents\\GitHub\\Bott-Research\\face_rec\\zArchive\\AlexaFile6.csv\n",
      "C:\\Users\\gregb\\Documents\\GitHub\\Bott-Research\\face_rec\\zArchive\\AlexaFile7.csv\n",
      "C:\\Users\\gregb\\Documents\\GitHub\\Bott-Research\\face_rec\\zArchive\\AlexaFile8.csv\n",
      "C:\\Users\\gregb\\Documents\\GitHub\\Bott-Research\\face_rec\\zArchive\\AlexaTotalReach-wAM.csv\n",
      "C:\\Users\\gregb\\Documents\\GitHub\\Bott-Research\\face_rec\\zArchive\\conceptual_face_recognition.ipynb\n",
      "C:\\Users\\gregb\\Documents\\GitHub\\Bott-Research\\face_rec\\zArchive\\DSC_4591.JPG\n",
      "C:\\Users\\gregb\\Documents\\GitHub\\Bott-Research\\face_rec\\zArchive\\global_rank.csv\n",
      "C:\\Users\\gregb\\Documents\\GitHub\\Bott-Research\\face_rec\\zArchive\\OLDtraffic.csv\n",
      "C:\\Users\\gregb\\Documents\\GitHub\\Bott-Research\\face_rec\\zArchive\\OLDtraffic_rank.csv\n",
      "C:\\Users\\gregb\\Documents\\GitHub\\Bott-Research\\face_rec\\zArchive\\page_views.csv\n",
      "C:\\Users\\gregb\\Documents\\GitHub\\Bott-Research\\face_rec\\zArchive\\processed_encoded_images.json\n",
      "C:\\Users\\gregb\\Documents\\GitHub\\Bott-Research\\face_rec\\zArchive\\requirements-info.txt\n",
      "C:\\Users\\gregb\\Documents\\GitHub\\Bott-Research\\face_rec\\zArchive\\requirements.txt\n",
      "C:\\Users\\gregb\\Documents\\GitHub\\Bott-Research\\face_rec\\zArchive\\test.jpg\n",
      "C:\\Users\\gregb\\Documents\\GitHub\\Bott-Research\\face_rec\\zArchive\\test2png.png\n",
      "C:\\Users\\gregb\\Documents\\GitHub\\Bott-Research\\face_rec\\zArchive\\Untitled.ipynb\n",
      "C:\\Users\\gregb\\Documents\\GitHub\\Bott-Research\\face_rec\\zArchive\\View Encoded.ipynb\n",
      "C:\\Users\\gregb\\Documents\\GitHub\\Bott-Research\\face_rec\\zArchive\\XPS15_1_Encode_Faces.ipynb\n",
      "C:\\Users\\gregb\\Documents\\GitHub\\Bott-Research\\face_rec\\zArchive\\XPS15_2_Encode_Faces.ipynb\n",
      "C:\\Users\\gregb\\Documents\\GitHub\\Bott-Research\\face_rec\\zArchive\\XPS15_3_Encode_Faces.ipynb\n",
      "C:\\Users\\gregb\\Documents\\GitHub\\Bott-Research\\face_rec\\zArchive\\XPS15_4_Encode_Faces.ipynb\n",
      "C:\\Users\\gregb\\Documents\\GitHub\\Bott-Research\\Misc\\chinook.db\n",
      "C:\\Users\\gregb\\Documents\\GitHub\\Bott-Research\\Misc\\client_secrets.json\n",
      "C:\\Users\\gregb\\Documents\\GitHub\\Bott-Research\\Misc\\credentials.json\n",
      "C:\\Users\\gregb\\Documents\\GitHub\\Bott-Research\\Misc\\Database programming (2).ipynb\n",
      "C:\\Users\\gregb\\Documents\\GitHub\\Bott-Research\\Misc\\Database programming.ipynb\n",
      "C:\\Users\\gregb\\Documents\\GitHub\\Bott-Research\\Misc\\Exceptions.ipynb\n",
      "C:\\Users\\gregb\\Documents\\GitHub\\Bott-Research\\Misc\\Gapminder Exercises.ipynb\n",
      "C:\\Users\\gregb\\Documents\\GitHub\\Bott-Research\\Misc\\GoogleDriveDeleteFiles.ipynb\n",
      "C:\\Users\\gregb\\Documents\\GitHub\\Bott-Research\\Misc\\Matplotlib Fundamentals.ipynb\n",
      "C:\\Users\\gregb\\Documents\\GitHub\\Bott-Research\\Misc\\music.sqlite\n",
      "C:\\Users\\gregb\\Documents\\GitHub\\Bott-Research\\Misc\\pydrive-practice1.ipynb\n",
      "C:\\Users\\gregb\\Documents\\GitHub\\Bott-Research\\Misc\\RESTAPI.ipynb\n",
      "C:\\Users\\gregb\\Documents\\GitHub\\Bott-Research\\Misc\\Selenium.ipynb\n",
      "C:\\Users\\gregb\\Documents\\GitHub\\Bott-Research\\Misc\\Sending Email (2).ipynb\n",
      "C:\\Users\\gregb\\Documents\\GitHub\\Bott-Research\\Misc\\Sending Email.ipynb\n",
      "C:\\Users\\gregb\\Documents\\GitHub\\Bott-Research\\Misc\\SQL_Alchemy_ORM.ipynb\n",
      "C:\\Users\\gregb\\Documents\\GitHub\\Bott-Research\\Misc\\Tips Exercises.ipynb\n",
      "C:\\Users\\gregb\\Documents\\GitHub\\Bott-Research\\Misc\\token.pickle\n",
      "C:\\Users\\gregb\\Documents\\GitHub\\Bott-Research\\Misc\\Untitled.ipynb\n",
      "C:\\Users\\gregb\\Documents\\GitHub\\Bott-Research\\Misc\\Untitled1.ipynb\n",
      "C:\\Users\\gregb\\Documents\\GitHub\\Bott-Research\\Misc\\Untitled2.ipynb\n",
      "C:\\Users\\gregb\\Documents\\GitHub\\Bott-Research\\Misc\\Web scraping-bs4.ipynb\n",
      "C:\\Users\\gregb\\Documents\\GitHub\\Bott-Research\\Misc\\Word_Cloud.ipynb\n",
      "C:\\Users\\gregb\\Documents\\GitHub\\Bott-Research\\Misc\\.ipynb_checkpoints\\Database programming-checkpoint.ipynb\n",
      "C:\\Users\\gregb\\Documents\\GitHub\\Bott-Research\\Misc\\.ipynb_checkpoints\\GoogleDriveDeleteFiles-checkpoint.ipynb\n",
      "C:\\Users\\gregb\\Documents\\GitHub\\Bott-Research\\Misc\\.ipynb_checkpoints\\pydrive-practice1-checkpoint.ipynb\n",
      "C:\\Users\\gregb\\Documents\\GitHub\\Bott-Research\\Misc\\.ipynb_checkpoints\\Sending Email-checkpoint.ipynb\n",
      "C:\\Users\\gregb\\Documents\\GitHub\\Bott-Research\\Misc\\.ipynb_checkpoints\\SQL_Alchemy_ORM-checkpoint.ipynb\n",
      "C:\\Users\\gregb\\Documents\\GitHub\\Bott-Research\\Misc\\.ipynb_checkpoints\\Untitled-checkpoint.ipynb\n",
      "C:\\Users\\gregb\\Documents\\GitHub\\Bott-Research\\Misc\\.ipynb_checkpoints\\Untitled1-checkpoint.ipynb\n",
      "C:\\Users\\gregb\\Documents\\GitHub\\Bott-Research\\Misc\\.ipynb_checkpoints\\Untitled2-checkpoint.ipynb\n",
      "C:\\Users\\gregb\\Documents\\GitHub\\Bott-Research\\privacy_grief\\mapped_data.csv\n",
      "C:\\Users\\gregb\\Documents\\GitHub\\Bott-Research\\privacy_grief\\Mapping.ipynb\n",
      "C:\\Users\\gregb\\Documents\\GitHub\\Bott-Research\\privacy_grief\\quotes.csv\n",
      "C:\\Users\\gregb\\Documents\\GitHub\\Bott-Research\\privacy_grief\\template.zip\n",
      "C:\\Users\\gregb\\Documents\\GitHub\\Bott-Research\\privacy_grief\\Twitter StreamListener.ipynb\n",
      "C:\\Users\\gregb\\Documents\\GitHub\\Bott-Research\\privacy_grief\\word_list.csv\n",
      "C:\\Users\\gregb\\Documents\\GitHub\\Bott-Research\\privacy_grief\\.ipynb_checkpoints\\Mapping-checkpoint.ipynb\n",
      "C:\\Users\\gregb\\Documents\\GitHub\\Bott-Research\\privacy_grief\\.ipynb_checkpoints\\Twitter StreamListener-checkpoint.ipynb\n",
      "C:\\Users\\gregb\\Documents\\GitHub\\Bott-Research\\resignation\\Untitled.ipynb\n",
      "C:\\Users\\gregb\\Documents\\GitHub\\Bott-Research\\resignation\\.ipynb_checkpoints\\Untitled-checkpoint.ipynb\n",
      "C:\\Users\\gregb\\Documents\\GitHub\\Bott-Research\\teaching_prep\\Alt Email sending.ipynb\n",
      "C:\\Users\\gregb\\Documents\\GitHub\\Bott-Research\\teaching_prep\\Class roster scraping.ipynb\n",
      "C:\\Users\\gregb\\Documents\\GitHub\\Bott-Research\\teaching_prep\\geckodriver.log\n",
      "C:\\Users\\gregb\\Documents\\GitHub\\Bott-Research\\teaching_prep\\GMailSupport.ipynb\n",
      "C:\\Users\\gregb\\Documents\\GitHub\\Bott-Research\\teaching_prep\\Play2084-answer.ipynb\n",
      "C:\\Users\\gregb\\Documents\\GitHub\\Bott-Research\\teaching_prep\\Play2084-assignment.ipynb\n",
      "C:\\Users\\gregb\\Documents\\GitHub\\Bott-Research\\teaching_prep\\Selenium.ipynb\n",
      "C:\\Users\\gregb\\Documents\\GitHub\\Bott-Research\\teaching_prep\\SeleniumSupport.ipynb\n",
      "C:\\Users\\gregb\\Documents\\GitHub\\Bott-Research\\teaching_prep\\Sending Email.ipynb\n",
      "C:\\Users\\gregb\\Documents\\GitHub\\Bott-Research\\teaching_prep\\ua_bwlkvcros.view_big_img\n",
      "C:\\Users\\gregb\\Documents\\GitHub\\Bott-Research\\teaching_prep\\ua_bwlkvcros.view_img\n",
      "C:\\Users\\gregb\\Documents\\GitHub\\Bott-Research\\teaching_prep\\.ipynb_checkpoints\\Alt Email sending-checkpoint.ipynb\n",
      "C:\\Users\\gregb\\Documents\\GitHub\\Bott-Research\\teaching_prep\\.ipynb_checkpoints\\Class roster scraping-checkpoint.ipynb\n",
      "C:\\Users\\gregb\\Documents\\GitHub\\Bott-Research\\teaching_prep\\.ipynb_checkpoints\\GMailSupport-checkpoint.ipynb\n",
      "C:\\Users\\gregb\\Documents\\GitHub\\Bott-Research\\teaching_prep\\.ipynb_checkpoints\\Play2084-answer-checkpoint.ipynb\n",
      "C:\\Users\\gregb\\Documents\\GitHub\\Bott-Research\\teaching_prep\\.ipynb_checkpoints\\Selenium-checkpoint.ipynb\n",
      "C:\\Users\\gregb\\Documents\\GitHub\\Bott-Research\\teaching_prep\\.ipynb_checkpoints\\Sending Email-checkpoint.ipynb\n",
      "C:\\Users\\gregb\\Documents\\GitHub\\Bott-Research\\temp_other\\Data_Aggregation.ipynb\n",
      "C:\\Users\\gregb\\Documents\\GitHub\\Bott-Research\\temp_other\\DupeFinder.ipynb\n",
      "C:\\Users\\gregb\\Documents\\GitHub\\Bott-Research\\temp_other\\Multiprocessing.ipynb\n",
      "C:\\Users\\gregb\\Documents\\GitHub\\Bott-Research\\temp_other\\Opening Zipped Files.ipynb\n",
      "C:\\Users\\gregb\\Documents\\GitHub\\Bott-Research\\temp_other\\Picture Hashing.ipynb\n",
      "C:\\Users\\gregb\\Documents\\GitHub\\Bott-Research\\temp_other\\Pic_Play.ipynb\n",
      "C:\\Users\\gregb\\Documents\\GitHub\\Bott-Research\\temp_other\\SkipTheGames_Altair.ipynb\n",
      "C:\\Users\\gregb\\Documents\\GitHub\\Bott-Research\\temp_other\\SkipTheGames_Analysis_Clean.ipynb\n",
      "C:\\Users\\gregb\\Documents\\GitHub\\Bott-Research\\temp_other\\SkipTheGames_Analysis_Start.ipynb\n",
      "C:\\Users\\gregb\\Documents\\GitHub\\Bott-Research\\temp_other\\skipthegames_working.ipynb\n",
      "C:\\Users\\gregb\\Documents\\GitHub\\Bott-Research\\temp_other\\yesbackpage_scraping_complete.ipynb\n",
      "C:\\Users\\gregb\\Documents\\GitHub\\Bott-Research\\temp_other\\.ipynb_checkpoints\\DupeFinder-checkpoint.ipynb\n",
      "C:\\Users\\gregb\\Documents\\GitHub\\Bott-Research\\temp_other\\.ipynb_checkpoints\\Multiprocessing-checkpoint.ipynb\n",
      "C:\\Users\\gregb\\Documents\\GitHub\\geneve_1564\\.travis.yml\n",
      "C:\\Users\\gregb\\Documents\\GitHub\\geneve_1564\\D.png\n",
      "C:\\Users\\gregb\\Documents\\GitHub\\geneve_1564\\geneve_1564.tex\n",
      "C:\\Users\\gregb\\Documents\\GitHub\\geneve_1564\\geneve_1564_modern.tex\n",
      "C:\\Users\\gregb\\Documents\\GitHub\\geneve_1564\\lettrine.cfg\n",
      "C:\\Users\\gregb\\Documents\\GitHub\\geneve_1564\\LICENSE\n",
      "C:\\Users\\gregb\\Documents\\GitHub\\geneve_1564\\Makefile\n",
      "C:\\Users\\gregb\\Documents\\GitHub\\geneve_1564\\mt-EBGaramond.cfg\n",
      "C:\\Users\\gregb\\Documents\\GitHub\\geneve_1564\\README.md\n",
      "C:\\Users\\gregb\\Documents\\GitHub\\geneve_1564\\.git\\config\n",
      "C:\\Users\\gregb\\Documents\\GitHub\\geneve_1564\\.git\\description\n",
      "C:\\Users\\gregb\\Documents\\GitHub\\geneve_1564\\.git\\FETCH_HEAD\n",
      "C:\\Users\\gregb\\Documents\\GitHub\\geneve_1564\\.git\\HEAD\n",
      "C:\\Users\\gregb\\Documents\\GitHub\\geneve_1564\\.git\\index\n",
      "C:\\Users\\gregb\\Documents\\GitHub\\geneve_1564\\.git\\packed-refs\n",
      "C:\\Users\\gregb\\Documents\\GitHub\\geneve_1564\\.git\\hooks\\applypatch-msg.sample\n",
      "C:\\Users\\gregb\\Documents\\GitHub\\geneve_1564\\.git\\hooks\\commit-msg.sample\n",
      "C:\\Users\\gregb\\Documents\\GitHub\\geneve_1564\\.git\\hooks\\fsmonitor-watchman.sample\n",
      "C:\\Users\\gregb\\Documents\\GitHub\\geneve_1564\\.git\\hooks\\post-update.sample\n",
      "C:\\Users\\gregb\\Documents\\GitHub\\geneve_1564\\.git\\hooks\\pre-applypatch.sample\n",
      "C:\\Users\\gregb\\Documents\\GitHub\\geneve_1564\\.git\\hooks\\pre-commit.sample\n",
      "C:\\Users\\gregb\\Documents\\GitHub\\geneve_1564\\.git\\hooks\\pre-push.sample\n",
      "C:\\Users\\gregb\\Documents\\GitHub\\geneve_1564\\.git\\hooks\\pre-rebase.sample\n",
      "C:\\Users\\gregb\\Documents\\GitHub\\geneve_1564\\.git\\hooks\\pre-receive.sample\n",
      "C:\\Users\\gregb\\Documents\\GitHub\\geneve_1564\\.git\\hooks\\prepare-commit-msg.sample\n",
      "C:\\Users\\gregb\\Documents\\GitHub\\geneve_1564\\.git\\hooks\\update.sample\n",
      "C:\\Users\\gregb\\Documents\\GitHub\\geneve_1564\\.git\\info\\exclude\n",
      "C:\\Users\\gregb\\Documents\\GitHub\\geneve_1564\\.git\\logs\\HEAD\n",
      "C:\\Users\\gregb\\Documents\\GitHub\\geneve_1564\\.git\\logs\\refs\\heads\\master\n",
      "C:\\Users\\gregb\\Documents\\GitHub\\geneve_1564\\.git\\logs\\refs\\remotes\\origin\\HEAD\n",
      "C:\\Users\\gregb\\Documents\\GitHub\\geneve_1564\\.git\\objects\\pack\\pack-6e507ea1513060afbb8c498eb26b89c5cd93b8f0.idx\n",
      "C:\\Users\\gregb\\Documents\\GitHub\\geneve_1564\\.git\\objects\\pack\\pack-6e507ea1513060afbb8c498eb26b89c5cd93b8f0.pack\n",
      "C:\\Users\\gregb\\Documents\\GitHub\\geneve_1564\\.git\\refs\\heads\\master\n",
      "C:\\Users\\gregb\\Documents\\GitHub\\geneve_1564\\.git\\refs\\remotes\\origin\\HEAD\n",
      "C:\\Users\\gregb\\Documents\\GitHub\\geneve_1564\\.github\\FUNDING.yml\n",
      "C:\\Users\\gregb\\Documents\\GitHub\\geneve_1564\\fonts\\EBGaramond-Initials.otf\n",
      "C:\\Users\\gregb\\Documents\\GitHub\\geneve_1564\\fonts\\EBGaramond-InitialsF1.otf\n",
      "C:\\Users\\gregb\\Documents\\GitHub\\geneve_1564\\fonts\\EBGaramond-InitialsF2.otf\n",
      "C:\\Users\\gregb\\Documents\\GitHub\\geneve_1564\\fonts\\EBGaramond08-Italic.otf\n",
      "C:\\Users\\gregb\\Documents\\GitHub\\geneve_1564\\fonts\\EBGaramond08-Regular.otf\n",
      "C:\\Users\\gregb\\Documents\\GitHub\\geneve_1564\\fonts\\EBGaramond08-SC.otf\n",
      "C:\\Users\\gregb\\Documents\\GitHub\\geneve_1564\\fonts\\EBGaramond12-AllSC.otf\n",
      "C:\\Users\\gregb\\Documents\\GitHub\\geneve_1564\\fonts\\EBGaramond12-Bold.otf\n",
      "C:\\Users\\gregb\\Documents\\GitHub\\geneve_1564\\fonts\\EBGaramond12-Italic.otf\n",
      "C:\\Users\\gregb\\Documents\\GitHub\\geneve_1564\\fonts\\EBGaramond12-Regular.otf\n",
      "C:\\Users\\gregb\\Documents\\GitHub\\geneve_1564\\fonts\\EBGaramond12-SC.otf\n",
      "C:\\Users\\gregb\\Documents\\GitHub\\geneve_1564\\images\\D.png\n",
      "C:\\Users\\gregb\\Documents\\GitHub\\geneve_1564\\images\\D_big.png\n",
      "C:\\Users\\gregb\\Documents\\GitHub\\geneve_1564\\images\\D_big_vectorized.png\n",
      "C:\\Users\\gregb\\Documents\\GitHub\\geneve_1564\\images\\D_big_vectorized.svg\n",
      "C:\\Users\\gregb\\Documents\\GitHub\\geneve_1564\\images\\D_big_vectorized_cleaned.png\n",
      "C:\\Users\\gregb\\Documents\\GitHub\\geneve_1564\\images\\D_vectorized.svg\n",
      "C:\\Users\\gregb\\Documents\\GitHub\\geneve_1564\\images\\genese_heading.pdf\n",
      "C:\\Users\\gregb\\Documents\\GitHub\\geneve_1564\\livres\\genese.tex\n",
      "C:\\Users\\gregb\\Documents\\GitHub\\geneve_1564\\livres\\genese\\chapitre1.tex\n",
      "C:\\Users\\gregb\\Documents\\GitHub\\geneve_1564\\livres\\genese\\chapitre2.tex\n",
      "C:\\Users\\gregb\\Documents\\GitHub\\geneve_1564\\livres\\genese\\intro.tex\n",
      "C:\\Users\\gregb\\Documents\\GitHub\\MSBA501\\README.md\n",
      "C:\\Users\\gregb\\Documents\\GitHub\\MSBA501\\.git\\config\n",
      "C:\\Users\\gregb\\Documents\\GitHub\\MSBA501\\.git\\description\n",
      "C:\\Users\\gregb\\Documents\\GitHub\\MSBA501\\.git\\FETCH_HEAD\n",
      "C:\\Users\\gregb\\Documents\\GitHub\\MSBA501\\.git\\HEAD\n",
      "C:\\Users\\gregb\\Documents\\GitHub\\MSBA501\\.git\\index\n",
      "C:\\Users\\gregb\\Documents\\GitHub\\MSBA501\\.git\\packed-refs\n",
      "C:\\Users\\gregb\\Documents\\GitHub\\MSBA501\\.git\\hooks\\applypatch-msg.sample\n",
      "C:\\Users\\gregb\\Documents\\GitHub\\MSBA501\\.git\\hooks\\commit-msg.sample\n",
      "C:\\Users\\gregb\\Documents\\GitHub\\MSBA501\\.git\\hooks\\fsmonitor-watchman.sample\n",
      "C:\\Users\\gregb\\Documents\\GitHub\\MSBA501\\.git\\hooks\\post-update.sample\n",
      "C:\\Users\\gregb\\Documents\\GitHub\\MSBA501\\.git\\hooks\\pre-applypatch.sample\n",
      "C:\\Users\\gregb\\Documents\\GitHub\\MSBA501\\.git\\hooks\\pre-commit.sample\n",
      "C:\\Users\\gregb\\Documents\\GitHub\\MSBA501\\.git\\hooks\\pre-push.sample\n",
      "C:\\Users\\gregb\\Documents\\GitHub\\MSBA501\\.git\\hooks\\pre-rebase.sample\n",
      "C:\\Users\\gregb\\Documents\\GitHub\\MSBA501\\.git\\hooks\\pre-receive.sample\n",
      "C:\\Users\\gregb\\Documents\\GitHub\\MSBA501\\.git\\hooks\\prepare-commit-msg.sample\n",
      "C:\\Users\\gregb\\Documents\\GitHub\\MSBA501\\.git\\hooks\\update.sample\n",
      "C:\\Users\\gregb\\Documents\\GitHub\\MSBA501\\.git\\info\\exclude\n",
      "C:\\Users\\gregb\\Documents\\GitHub\\MSBA501\\.git\\logs\\HEAD\n",
      "C:\\Users\\gregb\\Documents\\GitHub\\MSBA501\\.git\\logs\\refs\\heads\\master\n",
      "C:\\Users\\gregb\\Documents\\GitHub\\MSBA501\\.git\\logs\\refs\\remotes\\origin\\HEAD\n",
      "C:\\Users\\gregb\\Documents\\GitHub\\MSBA501\\.git\\objects\\pack\\pack-6b97baefd9dd54964ddd1fcce2897cb0501441d2.idx\n",
      "C:\\Users\\gregb\\Documents\\GitHub\\MSBA501\\.git\\objects\\pack\\pack-6b97baefd9dd54964ddd1fcce2897cb0501441d2.pack\n",
      "C:\\Users\\gregb\\Documents\\GitHub\\MSBA501\\.git\\refs\\heads\\master\n",
      "C:\\Users\\gregb\\Documents\\GitHub\\MSBA501\\.git\\refs\\remotes\\origin\\HEAD\n",
      "C:\\Users\\gregb\\Documents\\GitHub\\MSBA501\\Fundamentals Workbooks\\Matplotlib Fundamentals.ipynb\n",
      "C:\\Users\\gregb\\Documents\\GitHub\\MSBA501\\Fundamentals Workbooks\\Numpy Fundamentals.ipynb\n",
      "C:\\Users\\gregb\\Documents\\GitHub\\MSBA501\\Fundamentals Workbooks\\Pandas Fundamentals.ipynb\n",
      "C:\\Users\\gregb\\Documents\\GitHub\\MSBA501\\Fundamentals Workbooks\\Python Fundamentals.ipynb\n",
      "C:\\Users\\gregb\\Documents\\GitHub\\MSBA501\\Fundamentals Workbooks\\.ipynb_checkpoints\\Matplotlib Fundamentals-checkpoint.ipynb\n",
      "C:\\Users\\gregb\\Documents\\GitHub\\MSBA501\\Fundamentals Workbooks\\.ipynb_checkpoints\\Numpy Fundamentals-checkpoint.ipynb\n",
      "C:\\Users\\gregb\\Documents\\GitHub\\MSBA501\\Fundamentals Workbooks\\.ipynb_checkpoints\\Python Fundamentals-checkpoint.ipynb\n",
      "C:\\Users\\gregb\\Documents\\GitHub\\MSBA501\\Matplotlib\\EOD-AAPL.csv\n",
      "C:\\Users\\gregb\\Documents\\GitHub\\MSBA501\\Matplotlib\\Matplotlib Assignment.ipynb\n",
      "C:\\Users\\gregb\\Documents\\GitHub\\MSBA501\\Matplotlib\\.ipynb_checkpoints\\EOD-AAPL-checkpoint.csv\n",
      "C:\\Users\\gregb\\Documents\\GitHub\\MSBA501\\Matplotlib\\.ipynb_checkpoints\\Matplotlib Assignment-checkpoint.ipynb\n",
      "C:\\Users\\gregb\\Documents\\GitHub\\MSBA501\\Matplotlib\\.ipynb_checkpoints\\NYPD_Arrests_Data__Historic_-checkpoint.csv\n",
      "C:\\Users\\gregb\\Documents\\GitHub\\MSBA501\\Numpy\\.gitkeep\n",
      "C:\\Users\\gregb\\Documents\\GitHub\\MSBA501\\Numpy\\Numpy project ideas.ipynb\n",
      "C:\\Users\\gregb\\Documents\\GitHub\\MSBA501\\Numpy\\population.txt\n",
      "C:\\Users\\gregb\\Documents\\GitHub\\MSBA501\\Numpy\\Tesla_Stock-Copy1.csv\n",
      "C:\\Users\\gregb\\Documents\\GitHub\\MSBA501\\Pandas\\EOD-AAPL.csv\n",
      "C:\\Users\\gregb\\Documents\\GitHub\\MSBA501\\Pandas\\EOD-CSCO.csv\n",
      "C:\\Users\\gregb\\Documents\\GitHub\\MSBA501\\Pandas\\EOD-INTC.csv\n",
      "C:\\Users\\gregb\\Documents\\GitHub\\MSBA501\\Pandas\\EOD-MSFT.csv\n",
      "C:\\Users\\gregb\\Documents\\GitHub\\MSBA501\\Pandas\\Pandas Project.ipynb\n",
      "C:\\Users\\gregb\\Documents\\GitHub\\MSBA501\\Trend_Detection\\Automating_Time_Series_Trend_Detection.ipynb\n",
      "C:\\Users\\gregb\\Documents\\GitHub\\MSBA501\\Trend_Detection\\data_large\\Product_1.csv\n",
      "C:\\Users\\gregb\\Documents\\GitHub\\MSBA501\\Trend_Detection\\data_large\\Product_10.csv\n",
      "C:\\Users\\gregb\\Documents\\GitHub\\MSBA501\\Trend_Detection\\data_large\\Product_100.csv\n",
      "C:\\Users\\gregb\\Documents\\GitHub\\MSBA501\\Trend_Detection\\data_large\\Product_11.csv\n",
      "C:\\Users\\gregb\\Documents\\GitHub\\MSBA501\\Trend_Detection\\data_large\\Product_12.csv\n",
      "C:\\Users\\gregb\\Documents\\GitHub\\MSBA501\\Trend_Detection\\data_large\\Product_13.csv\n",
      "C:\\Users\\gregb\\Documents\\GitHub\\MSBA501\\Trend_Detection\\data_large\\Product_14.csv\n",
      "C:\\Users\\gregb\\Documents\\GitHub\\MSBA501\\Trend_Detection\\data_large\\Product_15.csv\n",
      "C:\\Users\\gregb\\Documents\\GitHub\\MSBA501\\Trend_Detection\\data_large\\Product_16.csv\n",
      "C:\\Users\\gregb\\Documents\\GitHub\\MSBA501\\Trend_Detection\\data_large\\Product_17.csv\n",
      "C:\\Users\\gregb\\Documents\\GitHub\\MSBA501\\Trend_Detection\\data_large\\Product_18.csv\n",
      "C:\\Users\\gregb\\Documents\\GitHub\\MSBA501\\Trend_Detection\\data_large\\Product_19.csv\n",
      "C:\\Users\\gregb\\Documents\\GitHub\\MSBA501\\Trend_Detection\\data_large\\Product_2.csv\n",
      "C:\\Users\\gregb\\Documents\\GitHub\\MSBA501\\Trend_Detection\\data_large\\Product_20.csv\n",
      "C:\\Users\\gregb\\Documents\\GitHub\\MSBA501\\Trend_Detection\\data_large\\Product_21.csv\n",
      "C:\\Users\\gregb\\Documents\\GitHub\\MSBA501\\Trend_Detection\\data_large\\Product_22.csv\n",
      "C:\\Users\\gregb\\Documents\\GitHub\\MSBA501\\Trend_Detection\\data_large\\Product_23.csv\n",
      "C:\\Users\\gregb\\Documents\\GitHub\\MSBA501\\Trend_Detection\\data_large\\Product_24.csv\n",
      "C:\\Users\\gregb\\Documents\\GitHub\\MSBA501\\Trend_Detection\\data_large\\Product_25.csv\n",
      "C:\\Users\\gregb\\Documents\\GitHub\\MSBA501\\Trend_Detection\\data_large\\Product_26.csv\n",
      "C:\\Users\\gregb\\Documents\\GitHub\\MSBA501\\Trend_Detection\\data_large\\Product_27.csv\n",
      "C:\\Users\\gregb\\Documents\\GitHub\\MSBA501\\Trend_Detection\\data_large\\Product_28.csv\n",
      "C:\\Users\\gregb\\Documents\\GitHub\\MSBA501\\Trend_Detection\\data_large\\Product_29.csv\n",
      "C:\\Users\\gregb\\Documents\\GitHub\\MSBA501\\Trend_Detection\\data_large\\Product_3.csv\n",
      "C:\\Users\\gregb\\Documents\\GitHub\\MSBA501\\Trend_Detection\\data_large\\Product_30.csv\n",
      "C:\\Users\\gregb\\Documents\\GitHub\\MSBA501\\Trend_Detection\\data_large\\Product_31.csv\n",
      "C:\\Users\\gregb\\Documents\\GitHub\\MSBA501\\Trend_Detection\\data_large\\Product_32.csv\n",
      "C:\\Users\\gregb\\Documents\\GitHub\\MSBA501\\Trend_Detection\\data_large\\Product_33.csv\n",
      "C:\\Users\\gregb\\Documents\\GitHub\\MSBA501\\Trend_Detection\\data_large\\Product_34.csv\n",
      "C:\\Users\\gregb\\Documents\\GitHub\\MSBA501\\Trend_Detection\\data_large\\Product_35.csv\n",
      "C:\\Users\\gregb\\Documents\\GitHub\\MSBA501\\Trend_Detection\\data_large\\Product_36.csv\n",
      "C:\\Users\\gregb\\Documents\\GitHub\\MSBA501\\Trend_Detection\\data_large\\Product_37.csv\n",
      "C:\\Users\\gregb\\Documents\\GitHub\\MSBA501\\Trend_Detection\\data_large\\Product_38.csv\n",
      "C:\\Users\\gregb\\Documents\\GitHub\\MSBA501\\Trend_Detection\\data_large\\Product_39.csv\n",
      "C:\\Users\\gregb\\Documents\\GitHub\\MSBA501\\Trend_Detection\\data_large\\Product_4.csv\n",
      "C:\\Users\\gregb\\Documents\\GitHub\\MSBA501\\Trend_Detection\\data_large\\Product_40.csv\n",
      "C:\\Users\\gregb\\Documents\\GitHub\\MSBA501\\Trend_Detection\\data_large\\Product_41.csv\n",
      "C:\\Users\\gregb\\Documents\\GitHub\\MSBA501\\Trend_Detection\\data_large\\Product_42.csv\n",
      "C:\\Users\\gregb\\Documents\\GitHub\\MSBA501\\Trend_Detection\\data_large\\Product_43.csv\n",
      "C:\\Users\\gregb\\Documents\\GitHub\\MSBA501\\Trend_Detection\\data_large\\Product_44.csv\n",
      "C:\\Users\\gregb\\Documents\\GitHub\\MSBA501\\Trend_Detection\\data_large\\Product_45.csv\n",
      "C:\\Users\\gregb\\Documents\\GitHub\\MSBA501\\Trend_Detection\\data_large\\Product_46.csv\n",
      "C:\\Users\\gregb\\Documents\\GitHub\\MSBA501\\Trend_Detection\\data_large\\Product_47.csv\n",
      "C:\\Users\\gregb\\Documents\\GitHub\\MSBA501\\Trend_Detection\\data_large\\Product_48.csv\n",
      "C:\\Users\\gregb\\Documents\\GitHub\\MSBA501\\Trend_Detection\\data_large\\Product_49.csv\n",
      "C:\\Users\\gregb\\Documents\\GitHub\\MSBA501\\Trend_Detection\\data_large\\Product_5.csv\n",
      "C:\\Users\\gregb\\Documents\\GitHub\\MSBA501\\Trend_Detection\\data_large\\Product_50.csv\n",
      "C:\\Users\\gregb\\Documents\\GitHub\\MSBA501\\Trend_Detection\\data_large\\Product_51.csv\n",
      "C:\\Users\\gregb\\Documents\\GitHub\\MSBA501\\Trend_Detection\\data_large\\Product_52.csv\n",
      "C:\\Users\\gregb\\Documents\\GitHub\\MSBA501\\Trend_Detection\\data_large\\Product_53.csv\n",
      "C:\\Users\\gregb\\Documents\\GitHub\\MSBA501\\Trend_Detection\\data_large\\Product_54.csv\n",
      "C:\\Users\\gregb\\Documents\\GitHub\\MSBA501\\Trend_Detection\\data_large\\Product_55.csv\n",
      "C:\\Users\\gregb\\Documents\\GitHub\\MSBA501\\Trend_Detection\\data_large\\Product_56.csv\n",
      "C:\\Users\\gregb\\Documents\\GitHub\\MSBA501\\Trend_Detection\\data_large\\Product_57.csv\n",
      "C:\\Users\\gregb\\Documents\\GitHub\\MSBA501\\Trend_Detection\\data_large\\Product_58.csv\n",
      "C:\\Users\\gregb\\Documents\\GitHub\\MSBA501\\Trend_Detection\\data_large\\Product_59.csv\n",
      "C:\\Users\\gregb\\Documents\\GitHub\\MSBA501\\Trend_Detection\\data_large\\Product_6.csv\n",
      "C:\\Users\\gregb\\Documents\\GitHub\\MSBA501\\Trend_Detection\\data_large\\Product_60.csv\n",
      "C:\\Users\\gregb\\Documents\\GitHub\\MSBA501\\Trend_Detection\\data_large\\Product_61.csv\n",
      "C:\\Users\\gregb\\Documents\\GitHub\\MSBA501\\Trend_Detection\\data_large\\Product_62.csv\n",
      "C:\\Users\\gregb\\Documents\\GitHub\\MSBA501\\Trend_Detection\\data_large\\Product_63.csv\n",
      "C:\\Users\\gregb\\Documents\\GitHub\\MSBA501\\Trend_Detection\\data_large\\Product_64.csv\n",
      "C:\\Users\\gregb\\Documents\\GitHub\\MSBA501\\Trend_Detection\\data_large\\Product_65.csv\n",
      "C:\\Users\\gregb\\Documents\\GitHub\\MSBA501\\Trend_Detection\\data_large\\Product_66.csv\n",
      "C:\\Users\\gregb\\Documents\\GitHub\\MSBA501\\Trend_Detection\\data_large\\Product_67.csv\n",
      "C:\\Users\\gregb\\Documents\\GitHub\\MSBA501\\Trend_Detection\\data_large\\Product_68.csv\n",
      "C:\\Users\\gregb\\Documents\\GitHub\\MSBA501\\Trend_Detection\\data_large\\Product_69.csv\n",
      "C:\\Users\\gregb\\Documents\\GitHub\\MSBA501\\Trend_Detection\\data_large\\Product_7.csv\n",
      "C:\\Users\\gregb\\Documents\\GitHub\\MSBA501\\Trend_Detection\\data_large\\Product_70.csv\n",
      "C:\\Users\\gregb\\Documents\\GitHub\\MSBA501\\Trend_Detection\\data_large\\Product_71.csv\n",
      "C:\\Users\\gregb\\Documents\\GitHub\\MSBA501\\Trend_Detection\\data_large\\Product_72.csv\n",
      "C:\\Users\\gregb\\Documents\\GitHub\\MSBA501\\Trend_Detection\\data_large\\Product_73.csv\n",
      "C:\\Users\\gregb\\Documents\\GitHub\\MSBA501\\Trend_Detection\\data_large\\Product_74.csv\n",
      "C:\\Users\\gregb\\Documents\\GitHub\\MSBA501\\Trend_Detection\\data_large\\Product_75.csv\n",
      "C:\\Users\\gregb\\Documents\\GitHub\\MSBA501\\Trend_Detection\\data_large\\Product_76.csv\n",
      "C:\\Users\\gregb\\Documents\\GitHub\\MSBA501\\Trend_Detection\\data_large\\Product_77.csv\n",
      "C:\\Users\\gregb\\Documents\\GitHub\\MSBA501\\Trend_Detection\\data_large\\Product_78.csv\n",
      "C:\\Users\\gregb\\Documents\\GitHub\\MSBA501\\Trend_Detection\\data_large\\Product_79.csv\n",
      "C:\\Users\\gregb\\Documents\\GitHub\\MSBA501\\Trend_Detection\\data_large\\Product_8.csv\n",
      "C:\\Users\\gregb\\Documents\\GitHub\\MSBA501\\Trend_Detection\\data_large\\Product_80.csv\n",
      "C:\\Users\\gregb\\Documents\\GitHub\\MSBA501\\Trend_Detection\\data_large\\Product_81.csv\n",
      "C:\\Users\\gregb\\Documents\\GitHub\\MSBA501\\Trend_Detection\\data_large\\Product_82.csv\n",
      "C:\\Users\\gregb\\Documents\\GitHub\\MSBA501\\Trend_Detection\\data_large\\Product_83.csv\n",
      "C:\\Users\\gregb\\Documents\\GitHub\\MSBA501\\Trend_Detection\\data_large\\Product_84.csv\n",
      "C:\\Users\\gregb\\Documents\\GitHub\\MSBA501\\Trend_Detection\\data_large\\Product_85.csv\n",
      "C:\\Users\\gregb\\Documents\\GitHub\\MSBA501\\Trend_Detection\\data_large\\Product_86.csv\n",
      "C:\\Users\\gregb\\Documents\\GitHub\\MSBA501\\Trend_Detection\\data_large\\Product_87.csv\n",
      "C:\\Users\\gregb\\Documents\\GitHub\\MSBA501\\Trend_Detection\\data_large\\Product_88.csv\n",
      "C:\\Users\\gregb\\Documents\\GitHub\\MSBA501\\Trend_Detection\\data_large\\Product_89.csv\n",
      "C:\\Users\\gregb\\Documents\\GitHub\\MSBA501\\Trend_Detection\\data_large\\Product_9.csv\n",
      "C:\\Users\\gregb\\Documents\\GitHub\\MSBA501\\Trend_Detection\\data_large\\Product_90.csv\n",
      "C:\\Users\\gregb\\Documents\\GitHub\\MSBA501\\Trend_Detection\\data_large\\Product_91.csv\n",
      "C:\\Users\\gregb\\Documents\\GitHub\\MSBA501\\Trend_Detection\\data_large\\Product_92.csv\n",
      "C:\\Users\\gregb\\Documents\\GitHub\\MSBA501\\Trend_Detection\\data_large\\Product_93.csv\n",
      "C:\\Users\\gregb\\Documents\\GitHub\\MSBA501\\Trend_Detection\\data_large\\Product_94.csv\n",
      "C:\\Users\\gregb\\Documents\\GitHub\\MSBA501\\Trend_Detection\\data_large\\Product_95.csv\n",
      "C:\\Users\\gregb\\Documents\\GitHub\\MSBA501\\Trend_Detection\\data_large\\Product_96.csv\n",
      "C:\\Users\\gregb\\Documents\\GitHub\\MSBA501\\Trend_Detection\\data_large\\Product_97.csv\n",
      "C:\\Users\\gregb\\Documents\\GitHub\\MSBA501\\Trend_Detection\\data_large\\Product_98.csv\n",
      "C:\\Users\\gregb\\Documents\\GitHub\\MSBA501\\Trend_Detection\\data_large\\Product_99.csv\n",
      "C:\\Users\\gregb\\Documents\\GitHub\\MSBA501\\Trend_Detection\\data_small\\Product_1.csv\n",
      "C:\\Users\\gregb\\Documents\\GitHub\\MSBA501\\Trend_Detection\\data_small\\Product_10.csv\n",
      "C:\\Users\\gregb\\Documents\\GitHub\\MSBA501\\Trend_Detection\\data_small\\Product_2.csv\n",
      "C:\\Users\\gregb\\Documents\\GitHub\\MSBA501\\Trend_Detection\\data_small\\Product_3.csv\n",
      "C:\\Users\\gregb\\Documents\\GitHub\\MSBA501\\Trend_Detection\\data_small\\Product_4.csv\n",
      "C:\\Users\\gregb\\Documents\\GitHub\\MSBA501\\Trend_Detection\\data_small\\Product_5.csv\n",
      "C:\\Users\\gregb\\Documents\\GitHub\\MSBA501\\Trend_Detection\\data_small\\Product_6.csv\n",
      "C:\\Users\\gregb\\Documents\\GitHub\\MSBA501\\Trend_Detection\\data_small\\Product_7.csv\n",
      "C:\\Users\\gregb\\Documents\\GitHub\\MSBA501\\Trend_Detection\\data_small\\Product_8.csv\n",
      "C:\\Users\\gregb\\Documents\\GitHub\\MSBA501\\Trend_Detection\\data_small\\Product_9.csv\n",
      "C:\\Users\\gregb\\Documents\\GitHub\\Python_For_Business_Students\\.gitignore\n",
      "C:\\Users\\gregb\\Documents\\GitHub\\Python_For_Business_Students\\angie.xlsx\n",
      "C:\\Users\\gregb\\Documents\\GitHub\\Python_For_Business_Students\\AngieVenmoPmts.ipynb\n",
      "C:\\Users\\gregb\\Documents\\GitHub\\Python_For_Business_Students\\demofile.txt\n",
      "C:\\Users\\gregb\\Documents\\GitHub\\Python_For_Business_Students\\generate_quote_files.ipynb\n",
      "C:\\Users\\gregb\\Documents\\GitHub\\Python_For_Business_Students\\Numpy Fundamentals.ipynb\n",
      "C:\\Users\\gregb\\Documents\\GitHub\\Python_For_Business_Students\\Pandas_Fundamentals.ipynb\n",
      "C:\\Users\\gregb\\Documents\\GitHub\\Python_For_Business_Students\\Python fundamentals.ipynb\n",
      "C:\\Users\\gregb\\Documents\\GitHub\\Python_For_Business_Students\\README.md\n",
      "C:\\Users\\gregb\\Documents\\GitHub\\Python_For_Business_Students\\requirements.txt\n",
      "C:\\Users\\gregb\\Documents\\GitHub\\Python_For_Business_Students\\SQL_Alchemy_ORM.ipynb\n",
      "C:\\Users\\gregb\\Documents\\GitHub\\Python_For_Business_Students\\Untitled1.ipynb\n",
      "C:\\Users\\gregb\\Documents\\GitHub\\Python_For_Business_Students\\.git\\COMMIT_EDITMSG\n",
      "C:\\Users\\gregb\\Documents\\GitHub\\Python_For_Business_Students\\.git\\config\n",
      "C:\\Users\\gregb\\Documents\\GitHub\\Python_For_Business_Students\\.git\\description\n",
      "C:\\Users\\gregb\\Documents\\GitHub\\Python_For_Business_Students\\.git\\FETCH_HEAD\n",
      "C:\\Users\\gregb\\Documents\\GitHub\\Python_For_Business_Students\\.git\\HEAD\n",
      "C:\\Users\\gregb\\Documents\\GitHub\\Python_For_Business_Students\\.git\\index\n",
      "C:\\Users\\gregb\\Documents\\GitHub\\Python_For_Business_Students\\.git\\packed-refs\n",
      "C:\\Users\\gregb\\Documents\\GitHub\\Python_For_Business_Students\\.git\\hooks\\applypatch-msg.sample\n",
      "C:\\Users\\gregb\\Documents\\GitHub\\Python_For_Business_Students\\.git\\hooks\\commit-msg.sample\n",
      "C:\\Users\\gregb\\Documents\\GitHub\\Python_For_Business_Students\\.git\\hooks\\fsmonitor-watchman.sample\n",
      "C:\\Users\\gregb\\Documents\\GitHub\\Python_For_Business_Students\\.git\\hooks\\post-update.sample\n",
      "C:\\Users\\gregb\\Documents\\GitHub\\Python_For_Business_Students\\.git\\hooks\\pre-applypatch.sample\n",
      "C:\\Users\\gregb\\Documents\\GitHub\\Python_For_Business_Students\\.git\\hooks\\pre-commit.sample\n",
      "C:\\Users\\gregb\\Documents\\GitHub\\Python_For_Business_Students\\.git\\hooks\\pre-push.sample\n",
      "C:\\Users\\gregb\\Documents\\GitHub\\Python_For_Business_Students\\.git\\hooks\\pre-rebase.sample\n",
      "C:\\Users\\gregb\\Documents\\GitHub\\Python_For_Business_Students\\.git\\hooks\\pre-receive.sample\n",
      "C:\\Users\\gregb\\Documents\\GitHub\\Python_For_Business_Students\\.git\\hooks\\prepare-commit-msg.sample\n",
      "C:\\Users\\gregb\\Documents\\GitHub\\Python_For_Business_Students\\.git\\hooks\\update.sample\n",
      "C:\\Users\\gregb\\Documents\\GitHub\\Python_For_Business_Students\\.git\\info\\exclude\n",
      "C:\\Users\\gregb\\Documents\\GitHub\\Python_For_Business_Students\\.git\\logs\\HEAD\n",
      "C:\\Users\\gregb\\Documents\\GitHub\\Python_For_Business_Students\\.git\\logs\\refs\\heads\\master\n",
      "C:\\Users\\gregb\\Documents\\GitHub\\Python_For_Business_Students\\.git\\logs\\refs\\remotes\\origin\\HEAD\n",
      "C:\\Users\\gregb\\Documents\\GitHub\\Python_For_Business_Students\\.git\\logs\\refs\\remotes\\origin\\master\n",
      "C:\\Users\\gregb\\Documents\\GitHub\\Python_For_Business_Students\\.git\\objects\\04\\9b3fc9a5cafe4b10900bd3685f9d13e9a6b2ff\n",
      "C:\\Users\\gregb\\Documents\\GitHub\\Python_For_Business_Students\\.git\\objects\\05\\43c1bb217682c2f82c9aaca3c13b77ae4bb19a\n",
      "C:\\Users\\gregb\\Documents\\GitHub\\Python_For_Business_Students\\.git\\objects\\09\\a389b4c0ef55a04f9bff38ef61fc900386e415\n",
      "C:\\Users\\gregb\\Documents\\GitHub\\Python_For_Business_Students\\.git\\objects\\10\\abd9a7a58c3ae5d41598888a601389cd7c7824\n",
      "C:\\Users\\gregb\\Documents\\GitHub\\Python_For_Business_Students\\.git\\objects\\44\\be525add26b2ca977f724673caf41de5898184\n",
      "C:\\Users\\gregb\\Documents\\GitHub\\Python_For_Business_Students\\.git\\objects\\52\\1e5076c31a5c6a6e5779ac5807b51707b07552\n",
      "C:\\Users\\gregb\\Documents\\GitHub\\Python_For_Business_Students\\.git\\objects\\54\\4ac9b77e21fde9da255707c56b5fa4ca3858e2\n",
      "C:\\Users\\gregb\\Documents\\GitHub\\Python_For_Business_Students\\.git\\objects\\63\\5e9b2627762832945dea3bc240d7292df06100\n",
      "C:\\Users\\gregb\\Documents\\GitHub\\Python_For_Business_Students\\.git\\objects\\67\\74885ee6257106a6afc6b9d3a5261fe62a0796\n",
      "C:\\Users\\gregb\\Documents\\GitHub\\Python_For_Business_Students\\.git\\objects\\7a\\3173f32cd94efc328afcb9e4465ccb32dbd87f\n",
      "C:\\Users\\gregb\\Documents\\GitHub\\Python_For_Business_Students\\.git\\objects\\83\\aeb7cd6136ab19b75e1b83fe1ca9118a9d65ca\n",
      "C:\\Users\\gregb\\Documents\\GitHub\\Python_For_Business_Students\\.git\\objects\\a6\\5085bc7787c5720f1e682539d9129e572b7dc0\n",
      "C:\\Users\\gregb\\Documents\\GitHub\\Python_For_Business_Students\\.git\\objects\\b2\\bd0801bade6626ecffe85adf2c554bfa9d4dc6\n",
      "C:\\Users\\gregb\\Documents\\GitHub\\Python_For_Business_Students\\.git\\objects\\bc\\27187a282c94525b48139fa1a6b83abbc3c4ce\n",
      "C:\\Users\\gregb\\Documents\\GitHub\\Python_For_Business_Students\\.git\\objects\\c7\\c8d4eb8e5adcba88011ef2a15f71a5fa83b76b\n",
      "C:\\Users\\gregb\\Documents\\GitHub\\Python_For_Business_Students\\.git\\objects\\cb\\6726088d558650155bce63561bccbba700b6f6\n",
      "C:\\Users\\gregb\\Documents\\GitHub\\Python_For_Business_Students\\.git\\objects\\e1\\36dbfb6224bdf77f7542e0c3ed76c549a10dd3\n",
      "C:\\Users\\gregb\\Documents\\GitHub\\Python_For_Business_Students\\.git\\objects\\e1\\a2ad054802b14dd79aa88bd9ec28566838fb84\n",
      "C:\\Users\\gregb\\Documents\\GitHub\\Python_For_Business_Students\\.git\\objects\\pack\\pack-48b40b204a46a85e519b0918780e8528d7b82698.idx\n",
      "C:\\Users\\gregb\\Documents\\GitHub\\Python_For_Business_Students\\.git\\objects\\pack\\pack-48b40b204a46a85e519b0918780e8528d7b82698.pack\n",
      "C:\\Users\\gregb\\Documents\\GitHub\\Python_For_Business_Students\\.git\\refs\\heads\\master\n",
      "C:\\Users\\gregb\\Documents\\GitHub\\Python_For_Business_Students\\.git\\refs\\remotes\\origin\\HEAD\n",
      "C:\\Users\\gregb\\Documents\\GitHub\\Python_For_Business_Students\\.git\\refs\\remotes\\origin\\master\n",
      "C:\\Users\\gregb\\Documents\\GitHub\\Python_For_Business_Students\\.ipynb_checkpoints\\AngieVenmoPmts-checkpoint.ipynb\n",
      "C:\\Users\\gregb\\Documents\\GitHub\\Python_For_Business_Students\\.ipynb_checkpoints\\Database programming-checkpoint.ipynb\n",
      "C:\\Users\\gregb\\Documents\\GitHub\\Python_For_Business_Students\\.ipynb_checkpoints\\Exceptions-checkpoint.ipynb\n",
      "C:\\Users\\gregb\\Documents\\GitHub\\Python_For_Business_Students\\.ipynb_checkpoints\\generate_quote_files-checkpoint.ipynb\n",
      "C:\\Users\\gregb\\Documents\\GitHub\\Python_For_Business_Students\\.ipynb_checkpoints\\Matplotlib Fundamentals-checkpoint.ipynb\n",
      "C:\\Users\\gregb\\Documents\\GitHub\\Python_For_Business_Students\\.ipynb_checkpoints\\Numpy Fundamentals-checkpoint.ipynb\n",
      "C:\\Users\\gregb\\Documents\\GitHub\\Python_For_Business_Students\\.ipynb_checkpoints\\Pandas_Fundamentals-checkpoint.ipynb\n",
      "C:\\Users\\gregb\\Documents\\GitHub\\Python_For_Business_Students\\.ipynb_checkpoints\\Pandas_Fundamentals1-checkpoint.ipynb\n",
      "C:\\Users\\gregb\\Documents\\GitHub\\Python_For_Business_Students\\.ipynb_checkpoints\\Python fundamentals-checkpoint.ipynb\n",
      "C:\\Users\\gregb\\Documents\\GitHub\\Python_For_Business_Students\\.ipynb_checkpoints\\RESTAPI-checkpoint.ipynb\n",
      "C:\\Users\\gregb\\Documents\\GitHub\\Python_For_Business_Students\\.ipynb_checkpoints\\Selenium-checkpoint.ipynb\n",
      "C:\\Users\\gregb\\Documents\\GitHub\\Python_For_Business_Students\\.ipynb_checkpoints\\SQL_Alchemy_ORM-checkpoint.ipynb\n",
      "C:\\Users\\gregb\\Documents\\GitHub\\Python_For_Business_Students\\.ipynb_checkpoints\\Untitled1-checkpoint.ipynb\n",
      "C:\\Users\\gregb\\Documents\\GitHub\\Python_For_Business_Students\\.ipynb_checkpoints\\Web scraping-bs4-checkpoint.ipynb\n",
      "C:\\Users\\gregb\\Documents\\GitHub\\Python_For_Business_Students\\.ipynb_checkpoints\\Word_Cloud-checkpoint.ipynb\n",
      "C:\\Users\\gregb\\Documents\\GitHub\\Python_For_Business_Students\\files\\2017_instacart_products.csv\n",
      "C:\\Users\\gregb\\Documents\\GitHub\\Python_For_Business_Students\\files\\boston_house_prices.csv\n",
      "C:\\Users\\gregb\\Documents\\GitHub\\Python_For_Business_Students\\files\\demofile.txt\n",
      "C:\\Users\\gregb\\Documents\\GitHub\\Python_For_Business_Students\\files\\fake_customer_list.txt\n",
      "C:\\Users\\gregb\\Documents\\GitHub\\Python_For_Business_Students\\files\\gapminder.tsv\n",
      "C:\\Users\\gregb\\Documents\\GitHub\\Python_For_Business_Students\\files\\gettysburg.txt\n",
      "C:\\Users\\gregb\\Documents\\GitHub\\Python_For_Business_Students\\files\\lyricsonly.csv\n",
      "C:\\Users\\gregb\\Documents\\GitHub\\Python_For_Business_Students\\files\\lyricsonly2M.csv\n",
      "C:\\Users\\gregb\\Documents\\GitHub\\Python_For_Business_Students\\files\\music.sqlite\n",
      "C:\\Users\\gregb\\Documents\\GitHub\\Python_For_Business_Students\\files\\NewCar.txt\n",
      "C:\\Users\\gregb\\Documents\\GitHub\\Python_For_Business_Students\\files\\Seattle2014.csv\n",
      "C:\\Users\\gregb\\Documents\\GitHub\\Python_For_Business_Students\\files\\.ipynb_checkpoints\\2017_instacart_products-checkpoint.csv\n",
      "C:\\Users\\gregb\\Documents\\GitHub\\Python_For_Business_Students\\files\\.ipynb_checkpoints\\lyricsonly-checkpoint.csv\n",
      "C:\\Users\\gregb\\Documents\\GitHub\\Python_For_Business_Students\\images\\2018MostWantedLanguages.jpg\n",
      "C:\\Users\\gregb\\Documents\\GitHub\\Python_For_Business_Students\\images\\220px-Mandelbrot_sequence_new.gif\n",
      "C:\\Users\\gregb\\Documents\\GitHub\\Python_For_Business_Students\\images\\arch.svg\n",
      "C:\\Users\\gregb\\Documents\\GitHub\\Python_For_Business_Students\\images\\Compiled_vs_interpreted.png\n",
      "C:\\Users\\gregb\\Documents\\GitHub\\Python_For_Business_Students\\images\\complex-example.svg\n",
      "C:\\Users\\gregb\\Documents\\GitHub\\Python_For_Business_Students\\images\\ComplieGraphic2.jpg\n",
      "C:\\Users\\gregb\\Documents\\GitHub\\Python_For_Business_Students\\images\\data_science_diagram.png\n",
      "C:\\Users\\gregb\\Documents\\GitHub\\Python_For_Business_Students\\images\\GoogleAPIAllSet.jpg\n",
      "C:\\Users\\gregb\\Documents\\GitHub\\Python_For_Business_Students\\images\\hardwareArchitecture.png\n",
      "C:\\Users\\gregb\\Documents\\GitHub\\Python_For_Business_Students\\images\\ico_evaluate_msg.png\n",
      "C:\\Users\\gregb\\Documents\\GitHub\\Python_For_Business_Students\\images\\if-then-elselogic.jpg\n",
      "C:\\Users\\gregb\\Documents\\GitHub\\Python_For_Business_Students\\images\\imaginary-square-root.svg\n",
      "C:\\Users\\gregb\\Documents\\GitHub\\Python_For_Business_Students\\images\\int-number-line.svg\n",
      "C:\\Users\\gregb\\Documents\\GitHub\\Python_For_Business_Students\\images\\InterpretedPython2.gif\n",
      "C:\\Users\\gregb\\Documents\\GitHub\\Python_For_Business_Students\\images\\JupyterAsteriskExecuting.jpg\n",
      "C:\\Users\\gregb\\Documents\\GitHub\\Python_For_Business_Students\\images\\jupyter_kernel.png\n",
      "C:\\Users\\gregb\\Documents\\GitHub\\Python_For_Business_Students\\images\\Kernel_Layout.svg\n",
      "C:\\Users\\gregb\\Documents\\GitHub\\Python_For_Business_Students\\images\\post_office_boxes.jpg\n",
      "C:\\Users\\gregb\\Documents\\GitHub\\Python_For_Business_Students\\images\\python_interpreted.png\n",
      "C:\\Users\\gregb\\Documents\\GitHub\\Python_For_Business_Students\\images\\structures.jpg\n",
      "C:\\Users\\gregb\\Documents\\GitHub\\Python_For_Business_Students\\images\\.ipynb_checkpoints\\arch-checkpoint.svg\n",
      "C:\\Users\\gregb\\Documents\\GitHub\\Python_For_Business_Students\\images\\.ipynb_checkpoints\\ComplieGraphic-checkpoint.jpg\n",
      "C:\\Users\\gregb\\Documents\\GitHub\\Python_For_Business_Students\\images_numpy\\array6x6.jpg\n",
      "C:\\Users\\gregb\\Documents\\GitHub\\Python_For_Business_Students\\images_SQL_Alchemy_ORM\\ORM-Mappers.jpg\n",
      "C:\\Users\\gregb\\Documents\\GitHub\\Python_For_Business_Students\\images_SQL_Alchemy_ORM\\Simple_ORM.png\n",
      "C:\\Users\\gregb\\Documents\\GitHub\\Python_For_Business_Students\\images_SQL_Alchemy_ORM\\sqla_arch_small.png\n",
      "C:\\Users\\gregb\\Documents\\GitHub\\Web_Scraping_Workshop\\LICENSE\n",
      "C:\\Users\\gregb\\Documents\\GitHub\\Web_Scraping_Workshop\\Part1_Web_API_Requests.ipynb\n",
      "C:\\Users\\gregb\\Documents\\GitHub\\Web_Scraping_Workshop\\Part2_HTML_Parsing_BeautifulSoup.ipynb\n",
      "C:\\Users\\gregb\\Documents\\GitHub\\Web_Scraping_Workshop\\README.md\n",
      "C:\\Users\\gregb\\Documents\\GitHub\\Web_Scraping_Workshop\\WS1_Slides.pptx\n",
      "C:\\Users\\gregb\\Documents\\GitHub\\Web_Scraping_Workshop\\.git\\config\n",
      "C:\\Users\\gregb\\Documents\\GitHub\\Web_Scraping_Workshop\\.git\\description\n",
      "C:\\Users\\gregb\\Documents\\GitHub\\Web_Scraping_Workshop\\.git\\FETCH_HEAD\n",
      "C:\\Users\\gregb\\Documents\\GitHub\\Web_Scraping_Workshop\\.git\\HEAD\n",
      "C:\\Users\\gregb\\Documents\\GitHub\\Web_Scraping_Workshop\\.git\\index\n",
      "C:\\Users\\gregb\\Documents\\GitHub\\Web_Scraping_Workshop\\.git\\packed-refs\n",
      "C:\\Users\\gregb\\Documents\\GitHub\\Web_Scraping_Workshop\\.git\\hooks\\applypatch-msg.sample\n",
      "C:\\Users\\gregb\\Documents\\GitHub\\Web_Scraping_Workshop\\.git\\hooks\\commit-msg.sample\n",
      "C:\\Users\\gregb\\Documents\\GitHub\\Web_Scraping_Workshop\\.git\\hooks\\fsmonitor-watchman.sample\n",
      "C:\\Users\\gregb\\Documents\\GitHub\\Web_Scraping_Workshop\\.git\\hooks\\post-update.sample\n",
      "C:\\Users\\gregb\\Documents\\GitHub\\Web_Scraping_Workshop\\.git\\hooks\\pre-applypatch.sample\n",
      "C:\\Users\\gregb\\Documents\\GitHub\\Web_Scraping_Workshop\\.git\\hooks\\pre-commit.sample\n",
      "C:\\Users\\gregb\\Documents\\GitHub\\Web_Scraping_Workshop\\.git\\hooks\\pre-push.sample\n",
      "C:\\Users\\gregb\\Documents\\GitHub\\Web_Scraping_Workshop\\.git\\hooks\\pre-rebase.sample\n",
      "C:\\Users\\gregb\\Documents\\GitHub\\Web_Scraping_Workshop\\.git\\hooks\\pre-receive.sample\n",
      "C:\\Users\\gregb\\Documents\\GitHub\\Web_Scraping_Workshop\\.git\\hooks\\prepare-commit-msg.sample\n",
      "C:\\Users\\gregb\\Documents\\GitHub\\Web_Scraping_Workshop\\.git\\hooks\\update.sample\n",
      "C:\\Users\\gregb\\Documents\\GitHub\\Web_Scraping_Workshop\\.git\\info\\exclude\n",
      "C:\\Users\\gregb\\Documents\\GitHub\\Web_Scraping_Workshop\\.git\\logs\\HEAD\n",
      "C:\\Users\\gregb\\Documents\\GitHub\\Web_Scraping_Workshop\\.git\\logs\\refs\\heads\\master\n",
      "C:\\Users\\gregb\\Documents\\GitHub\\Web_Scraping_Workshop\\.git\\logs\\refs\\remotes\\origin\\HEAD\n",
      "C:\\Users\\gregb\\Documents\\GitHub\\Web_Scraping_Workshop\\.git\\logs\\refs\\remotes\\upstream\\master\n",
      "C:\\Users\\gregb\\Documents\\GitHub\\Web_Scraping_Workshop\\.git\\objects\\1b\\8030c1431a7211a33e94be97e1f2d959bbcbf1\n",
      "C:\\Users\\gregb\\Documents\\GitHub\\Web_Scraping_Workshop\\.git\\objects\\4e\\0f2ee20c64f050f1afbd3e777b7540c677c686\n",
      "C:\\Users\\gregb\\Documents\\GitHub\\Web_Scraping_Workshop\\.git\\objects\\98\\cbae5a3ccb57e06e31889e37b5507c40fefba2\n",
      "C:\\Users\\gregb\\Documents\\GitHub\\Web_Scraping_Workshop\\.git\\objects\\pack\\pack-8f2bea7a4688f9fe7164cca2749ec364844e2510.idx\n",
      "C:\\Users\\gregb\\Documents\\GitHub\\Web_Scraping_Workshop\\.git\\objects\\pack\\pack-8f2bea7a4688f9fe7164cca2749ec364844e2510.pack\n",
      "C:\\Users\\gregb\\Documents\\GitHub\\Web_Scraping_Workshop\\.git\\refs\\heads\\master\n",
      "C:\\Users\\gregb\\Documents\\GitHub\\Web_Scraping_Workshop\\.git\\refs\\remotes\\origin\\HEAD\n",
      "C:\\Users\\gregb\\Documents\\GitHub\\Web_Scraping_Workshop\\.git\\refs\\remotes\\upstream\\master\n",
      "C:\\Users\\gregb\\Documents\\GitHub\\Web_Scraping_Workshop\\.ipynb_checkpoints\\Part1_Web_API_Requests-checkpoint.ipynb\n",
      "C:\\Users\\gregb\\Documents\\My Digital Editions\\NASB 1977 - New American Standard Bible.epub\n",
      "C:\\Users\\gregb\\Documents\\My Digital Editions\\welcome.epub\n",
      "C:\\Users\\gregb\\Documents\\My Digital Editions\\Annotations\\NASB 1977 - New American Standard Bible.epub.annot\n",
      "C:\\Users\\gregb\\Documents\\My Digital Editions\\Annotations\\welcome.epub.annot\n",
      "C:\\Users\\gregb\\Documents\\My Digital Editions\\Manifest\\NASB 1977 - New American Standard Bible.epub.xml\n",
      "C:\\Users\\gregb\\Documents\\My Digital Editions\\Manifest\\welcome.epub.xml\n",
      "C:\\Users\\gregb\\Documents\\My Digital Editions\\Tags\\borrowed.xml\n",
      "C:\\Users\\gregb\\Documents\\My Digital Editions\\Tags\\purchased.xml\n",
      "C:\\Users\\gregb\\Documents\\My Digital Editions\\Thumbnails\\NASB 1977 - New American Standard Bible.epub.png\n",
      "C:\\Users\\gregb\\Documents\\My Digital Editions\\Thumbnails\\welcome.epub.png\n",
      "C:\\Users\\gregb\\Documents\\My Kindle Content\\book_asset.db\n",
      "C:\\Users\\gregb\\Documents\\My Kindle Content\\PSNL!KCSSGurupaUS!bG9hbi1jcmVhdGVkP2lkPUEzMVI4UFE2TUZHNjIxJm1hcmtldHBsYWNlPUFUVlBES0lLWDBERVImYXNpbj1CMDc1SERZMllC_PSNL.azw\n",
      "C:\\Users\\gregb\\Documents\\My Kindle Content\\PSNL!KCSSGurupaUS!bG9hbi1jcmVhdGVkP2lkPUEzMVI4UFE2TUZHNjIxJm1hcmtldHBsYWNlPUFUVlBES0lLWDBERVImYXNpbj1CMDc1SERZMllC_PSNL.mbp\n",
      "C:\\Users\\gregb\\Documents\\My Kindle Content\\B003ODIZL6_EBOK\\B003ODIZL6_EBOK.azw\n",
      "C:\\Users\\gregb\\Documents\\My Kindle Content\\B003ODIZL6_EBOK\\B003ODIZL6_EBOK.mbp\n",
      "C:\\Users\\gregb\\Documents\\My Kindle Content\\B003ODIZL6_EBOK\\B003ODIZL6_EBOK.phl\n",
      "C:\\Users\\gregb\\Documents\\My Kindle Content\\B006XF5BTG_EBOK\\amzn1.drm-voucher.v1.d00278f9-6b19-4caf-b91c-219e6f8b7396.voucher\n",
      "C:\\Users\\gregb\\Documents\\My Kindle Content\\B006XF5BTG_EBOK\\B006XF5BTG_EBOK.apnx\n",
      "C:\\Users\\gregb\\Documents\\My Kindle Content\\B006XF5BTG_EBOK\\B006XF5BTG_EBOK.azw\n",
      "C:\\Users\\gregb\\Documents\\My Kindle Content\\B006XF5BTG_EBOK\\B006XF5BTG_EBOK.mbpV2\n",
      "C:\\Users\\gregb\\Documents\\My Kindle Content\\B006XF5BTG_EBOK\\B006XF5BTG_EBOK.phl\n",
      "C:\\Users\\gregb\\Documents\\My Kindle Content\\B006XF5BTG_EBOK\\CR!FVTZMY0ANX17H20EX92ZPH8GQ9DZ.azw.res\n",
      "C:\\Users\\gregb\\Documents\\My Kindle Content\\B006XF5BTG_EBOK\\CR!P1ZKYB3F311K79JSD2HQSKZT8DN8.azw.res\n",
      "C:\\Users\\gregb\\Documents\\My Kindle Content\\B006XF5BTG_EBOK\\CR!Q4G5GWY3856Q37NDH76QKAHM8QQN.azw.res\n",
      "C:\\Users\\gregb\\Documents\\My Kindle Content\\B006XF5BTG_EBOK\\CR!RWG23FDTGX40XFG4Y190FAP9NF0Q.azw.res\n",
      "C:\\Users\\gregb\\Documents\\My Kindle Content\\B006XF5BTG_EBOK\\CR!ZJ198H24P142K55VTKNPRG46AQQ6.azw.md\n",
      "C:\\Users\\gregb\\Documents\\My Kindle Content\\B01BO6QMDW_EBOK\\amzn1.drm-voucher.v1.0e3038fc-d8f7-4700-b3b8-84dcf045b312.voucher\n",
      "C:\\Users\\gregb\\Documents\\My Kindle Content\\B01BO6QMDW_EBOK\\B01BO6QMDW_EBOK.azw\n",
      "C:\\Users\\gregb\\Documents\\My Kindle Content\\B01BO6QMDW_EBOK\\B01BO6QMDW_EBOK.lpr\n",
      "C:\\Users\\gregb\\Documents\\My Kindle Content\\B01BO6QMDW_EBOK\\B01BO6QMDW_EBOK.mbpV2\n",
      "C:\\Users\\gregb\\Documents\\My Kindle Content\\B01BO6QMDW_EBOK\\B01BO6QMDW_EBOK.phl\n",
      "C:\\Users\\gregb\\Documents\\My Kindle Content\\B01BO6QMDW_EBOK\\CR!6EK7DAP9S938SANQS0NEAAEZBCFB.azw.res\n",
      "C:\\Users\\gregb\\Documents\\My Kindle Content\\B01BO6QMDW_EBOK\\CR!D3QRVFXJJH72S61JK0XH8KMAKX3G.azw.res\n",
      "C:\\Users\\gregb\\Documents\\My Kindle Content\\B01BO6QMDW_EBOK\\CR!E3PQFZVY0D27SFZBFJWRWXFBTNRC.azw.res\n",
      "C:\\Users\\gregb\\Documents\\My Kindle Content\\B01BO6QMDW_EBOK\\CR!E56H5V02250WKAR5ED2RKX7ZQBSN.azw.res\n",
      "C:\\Users\\gregb\\Documents\\My Kindle Content\\B01BO6QMDW_EBOK\\CR!TNAA0BDXEH4XZ8WR9BYYXS57QG5S.azw.md\n",
      "C:\\Users\\gregb\\Documents\\My Kindle Content\\B01M0QFVHL_EBOK\\amzn1.drm-voucher.v1.72172921-f333-4a69-bcc3-e5a98be0c21e.voucher\n",
      "C:\\Users\\gregb\\Documents\\My Kindle Content\\B01M0QFVHL_EBOK\\B01M0QFVHL_EBOK.azw\n",
      "C:\\Users\\gregb\\Documents\\My Kindle Content\\B01M0QFVHL_EBOK\\B01M0QFVHL_EBOK.mbpV2\n",
      "C:\\Users\\gregb\\Documents\\My Kindle Content\\B01M0QFVHL_EBOK\\B01M0QFVHL_EBOK.phl\n",
      "C:\\Users\\gregb\\Documents\\My Kindle Content\\B01M0QFVHL_EBOK\\CR!VRM85CTSAS3ZX49QFFJAV6HK7MXF.azw.md\n",
      "C:\\Users\\gregb\\Documents\\My Kindle Content\\B071V89LZ7_EBOK\\amzn1.drm-voucher.v1.55f4e735-6b13-45fc-9489-114e6eebc77b.voucher\n",
      "C:\\Users\\gregb\\Documents\\My Kindle Content\\B071V89LZ7_EBOK\\B071V89LZ7_EBOK.azw\n",
      "C:\\Users\\gregb\\Documents\\My Kindle Content\\B071V89LZ7_EBOK\\B071V89LZ7_EBOK.mbpV2\n",
      "C:\\Users\\gregb\\Documents\\My Kindle Content\\B071V89LZ7_EBOK\\CR!37RN2036VS2Y5BS17XBPVBCE7RQF.azw.res\n",
      "C:\\Users\\gregb\\Documents\\My Kindle Content\\B071V89LZ7_EBOK\\CR!B1NGCEMMCN509CRNE12Q5QZW5Q5J.azw.res\n",
      "C:\\Users\\gregb\\Documents\\My Kindle Content\\B071V89LZ7_EBOK\\CR!X5ZJJZ6VV52NKCAN89ZK9C72PN80.azw.md\n",
      "C:\\Users\\gregb\\Documents\\My Kindle Content\\B07PPX4Z86_EBOK\\amzn1.drm-voucher.v1.8acbcec6-97ea-492a-a421-4d43878edb1e.voucher\n",
      "C:\\Users\\gregb\\Documents\\My Kindle Content\\B07PPX4Z86_EBOK\\B07PPX4Z86_EBOK.apnx\n",
      "C:\\Users\\gregb\\Documents\\My Kindle Content\\B07PPX4Z86_EBOK\\B07PPX4Z86_EBOK.azw\n",
      "C:\\Users\\gregb\\Documents\\My Kindle Content\\B07PPX4Z86_EBOK\\B07PPX4Z86_EBOK.lpr\n",
      "C:\\Users\\gregb\\Documents\\My Kindle Content\\B07PPX4Z86_EBOK\\B07PPX4Z86_EBOK.mbpV2\n",
      "C:\\Users\\gregb\\Documents\\My Kindle Content\\B07PPX4Z86_EBOK\\B07PPX4Z86_EBOK.phl\n",
      "C:\\Users\\gregb\\Documents\\My Kindle Content\\B07PPX4Z86_EBOK\\CR!0B91A88ZTH7036TDJNFBFR33PX2Z.azw.res\n",
      "C:\\Users\\gregb\\Documents\\My Kindle Content\\B07PPX4Z86_EBOK\\CR!4H3CYXHH010M75ZKPM21W1CY4Q89.azw.md\n",
      "C:\\Users\\gregb\\Documents\\Python Scripts\\2020-04-02 Romance scams backup\n",
      "C:\\Users\\gregb\\Documents\\Python Scripts\\InstaCart misc.ipynb\n",
      "C:\\Users\\gregb\\Documents\\Python Scripts\\M8-A1 Using Dictionaries.ipynb\n",
      "C:\\Users\\gregb\\Documents\\Python Scripts\\Untitled.ipynb\n",
      "C:\\Users\\gregb\\Documents\\Python Scripts\\Untitled1.ipynb\n",
      "C:\\Users\\gregb\\Documents\\Python Scripts\\.ipynb_checkpoints\\InstaCart misc-checkpoint.ipynb\n",
      "C:\\Users\\gregb\\Documents\\Python Scripts\\.ipynb_checkpoints\\M8-A1 Using Dictionaries-checkpoint.ipynb\n",
      "C:\\Users\\gregb\\Documents\\Python Scripts\\.ipynb_checkpoints\\Untitled-checkpoint.ipynb\n",
      "C:\\Users\\gregb\\Documents\\Python Scripts\\.ipynb_checkpoints\\Untitled1-checkpoint.ipynb\n",
      "C:\\Users\\gregb\\Documents\\Python Scripts\\Untitled Folder\\Untitled.ipynb\n",
      "C:\\Users\\gregb\\Documents\\Python Scripts\\Untitled Folder\\.ipynb_checkpoints\\Untitled-checkpoint.ipynb\n",
      "C:\\Users\\gregb\\Documents\\Remote Assistance Logs\\12384320200504.xml\n",
      "C:\\Users\\gregb\\Documents\\Respondus Projects\\agentid.tbn\n",
      "C:\\Users\\gregb\\Documents\\Snagit\\EditorOverview.snag\n",
      "C:\\Users\\gregb\\Documents\\Snagit\\TemplateOnboarding.snag\n",
      "C:\\Users\\gregb\\Documents\\Zoom\\2020-06-11 14.00.40 MIS 501 97584943544\\audio_only.m4a\n",
      "C:\\Users\\gregb\\Documents\\Zoom\\2020-06-11 14.00.40 MIS 501 97584943544\\chat.txt\n",
      "C:\\Users\\gregb\\Documents\\Zoom\\2020-06-11 14.00.40 MIS 501 97584943544\\playback.m3u\n",
      "C:\\Users\\gregb\\Documents\\Zoom\\2020-06-11 14.00.40 MIS 501 97584943544\\zoom_0.mp4\n",
      "C:\\Users\\gregb\\Documents\\Zoom\\2020-06-25 14.40.51 MIS 501 97584943544\\audio_only.m4a\n",
      "C:\\Users\\gregb\\Documents\\Zoom\\2020-06-25 14.40.51 MIS 501 97584943544\\playback.m3u\n",
      "C:\\Users\\gregb\\Documents\\Zoom\\2020-06-25 14.40.51 MIS 501 97584943544\\zoom_0.mp4\n"
     ]
    }
   ],
   "source": [
    "# Traverse the directory hierarchy in the user's Documents folder and \n",
    "#   Display the full path of each file\n",
    "\n",
    "# Start in this folder\n",
    "root_folder = os.path.expanduser('~\\Documents')\n",
    "\n",
    "# Return the path, folders, and files in the hierarchy\n",
    "for root, dirs, files in os.walk(root_folder):\n",
    "    for name in files:\n",
    "        print(os.path.join(root, name))"
   ]
  },
  {
   "cell_type": "code",
   "execution_count": 54,
   "metadata": {},
   "outputs": [
    {
     "data": {
      "text/plain": [
       "'C:\\\\Users\\\\gregb\\\\Documents'"
      ]
     },
     "execution_count": 54,
     "metadata": {},
     "output_type": "execute_result"
    }
   ],
   "source": [
    "os.path.expanduser('~\\Documents')"
   ]
  },
  {
   "cell_type": "markdown",
   "metadata": {},
   "source": [
    "## Break statement\n",
    "Use the ```break``` statement to exit a loop. Break exits the current loop, so if you have a nested loop and wish to exit both, you'll need to provide two break statements, one for each loop."
   ]
  },
  {
   "cell_type": "code",
   "execution_count": null,
   "metadata": {},
   "outputs": [],
   "source": [
    "total_loops = 0\n",
    "for x in range(1,101):    \n",
    "    for y in range(1,6):\n",
    "        total_loops = total_loops + 1\n",
    "        if y == 5:\n",
    "            break\n",
    "print(x,y, \"total loops = \", total_loops)"
   ]
  },
  {
   "cell_type": "code",
   "execution_count": null,
   "metadata": {},
   "outputs": [],
   "source": []
  },
  {
   "cell_type": "code",
   "execution_count": null,
   "metadata": {},
   "outputs": [],
   "source": [
    "database = MyDatabase(db_host, db_user, db_password, db_database)\n",
    "database_connection = database.connect()"
   ]
  },
  {
   "cell_type": "code",
   "execution_count": null,
   "metadata": {},
   "outputs": [],
   "source": [
    "#Source: https://www.pythoncentral.io/python-null-equivalent-none/\n",
    "database_connection = None\n",
    " \n",
    "# Try to connect (none of the variables for the connect have values...)\n",
    "try:\n",
    "    database = MyDatabase(db_host, db_user, db_password, db_database)\n",
    "    database_connection = database.connect()\n",
    "except:\n",
    "    print(\"no db connection\")\n",
    "    pass\n",
    " \n",
    "if database_connection is None:\n",
    "    print('The database could not connect')\n",
    "else:\n",
    "    print('The database could connect')"
   ]
  },
  {
   "cell_type": "markdown",
   "metadata": {
    "toc-hr-collapsed": true,
    "toc-nb-collapsed": true
   },
   "source": [
    "# Functions\n",
    "A *function* is a discrete set of instructions typically designed to receive one or more values and return a value. A function call receives values called *arguments* or *parameters* and it typically *returns* a value or object.\n"
   ]
  },
  {
   "cell_type": "markdown",
   "metadata": {},
   "source": [
    "## Built-in functions\n",
    "For example, the print() function takes an argument and sends output to the console."
   ]
  },
  {
   "cell_type": "markdown",
   "metadata": {},
   "source": [
    "### Print() and Input()\n",
    "The ```print()``` function displays messages and is sometimes used as simple debugging method. \n",
    "\n",
    "The print function underwent major changes from Python 2 to Python 3 and is written differently depending on the version. Python 2 omits the parentheses (e.g., ```print a```) while Python 3 requires them (e.g., ```print(a)``` ).\n",
    "\n",
    "Calling the print function without an argument results in a blank line."
   ]
  },
  {
   "cell_type": "code",
   "execution_count": null,
   "metadata": {},
   "outputs": [],
   "source": [
    "print()"
   ]
  },
  {
   "cell_type": "markdown",
   "metadata": {},
   "source": [
    "You will often print string literals such as:"
   ]
  },
  {
   "cell_type": "code",
   "execution_count": null,
   "metadata": {},
   "outputs": [],
   "source": [
    "print(\"Data loading complete.\")"
   ]
  },
  {
   "cell_type": "markdown",
   "metadata": {},
   "source": [
    "Or using a variable:"
   ]
  },
  {
   "cell_type": "code",
   "execution_count": null,
   "metadata": {},
   "outputs": [],
   "source": [
    "a = 'apple'\n",
    "print(a)"
   ]
  },
  {
   "cell_type": "code",
   "execution_count": null,
   "metadata": {},
   "outputs": [],
   "source": [
    "print(\"The print() function did this.\")"
   ]
  },
  {
   "cell_type": "markdown",
   "metadata": {},
   "source": [
    "The ```print()``` function also takes parameters such as the ```sep``` and ```end``` parameters, which overrides the default separator with the specified separator and the end of line character."
   ]
  },
  {
   "cell_type": "code",
   "execution_count": 2,
   "metadata": {},
   "outputs": [
    {
     "name": "stdout",
     "output_type": "stream",
     "text": [
      "Item 1|Item 2\n",
      "This is on the same line.\n"
     ]
    }
   ],
   "source": [
    "print(\"Item 1\",\"Item 2\", sep=\"|\")\n",
    "print(\"This is on\", end=\" \")\n",
    "print(\"the same line.\")"
   ]
  },
  {
   "cell_type": "markdown",
   "metadata": {},
   "source": [
    "The type() function takes a value or object and returns its type."
   ]
  },
  {
   "cell_type": "code",
   "execution_count": null,
   "metadata": {},
   "outputs": [],
   "source": [
    "# Print and Type functions \n",
    "print(type(3.141))"
   ]
  },
  {
   "cell_type": "code",
   "execution_count": 1,
   "metadata": {},
   "outputs": [
    {
     "name": "stdout",
     "output_type": "stream",
     "text": [
      "10\n"
     ]
    }
   ],
   "source": [
    "# Print the highest value using the max() function. This is a function within a function.\n",
    "print(max(1,10,3,4,5))"
   ]
  },
  {
   "cell_type": "code",
   "execution_count": 11,
   "metadata": {},
   "outputs": [
    {
     "name": "stdout",
     "output_type": "stream",
     "text": [
      "z\n",
      "banana\n"
     ]
    }
   ],
   "source": [
    "# Print the longest word. Note that the len function is applied to each item \n",
    "#   in the list and the high number is returned.\n",
    "words = ['apple', 'court', 'banana','z'] # words is a list. See Data Structures.\n",
    "print(max(words))\n",
    "print(max(words, key=len))"
   ]
  },
  {
   "cell_type": "code",
   "execution_count": null,
   "metadata": {},
   "outputs": [],
   "source": [
    "#Display the number of characters (including the white space) in \"Hello, world!\"\n",
    "len('Hello, world!')"
   ]
  },
  {
   "cell_type": "markdown",
   "metadata": {},
   "source": [
    "## Type Converstion Functions\n",
    "\n",
    "Python includes functions to convert values from one data type to another. \n",
    "\n",
    "For example, when requesting a number value from a user you may need to convert the resulting string input to an number type such as int."
   ]
  },
  {
   "cell_type": "code",
   "execution_count": null,
   "metadata": {},
   "outputs": [],
   "source": [
    "# Input values are strings. Convert strings to appropriate number type, if necessary.\n",
    "# Enter decimal value....error.\n",
    "\n",
    "tirepressure = int(input(\"Input current tire pressure:\"))\n",
    "\n",
    "if tirepressure < 32:\n",
    "    print(\"Add air to tire.\")\n",
    "else:\n",
    "    print(f\"At {tirepressure} psi the tire does not require additional air pressure.\")"
   ]
  },
  {
   "cell_type": "markdown",
   "metadata": {
    "toc-hr-collapsed": false
   },
   "source": [
    "## Misc Functions\n",
    "Below are common functions and explanations of how they work and when you might use them."
   ]
  },
  {
   "cell_type": "markdown",
   "metadata": {},
   "source": [
    "## Accessing functions in modules\n",
    "\n",
    "One of the strengths of the Python language is the large number of modules available to it. To add functionality to your program, you make modules available using the import keyword. Below we import the math module and the random module.\n"
   ]
  },
  {
   "cell_type": "code",
   "execution_count": null,
   "metadata": {},
   "outputs": [],
   "source": [
    "# Get colume of a sphere using radius (r)\n",
    "\n",
    "import math\n",
    "\n",
    "def get_sphere_volume(r):\n",
    "    \"\"\"Returns volume of a sphere given the radius (r).\"\"\"\n",
    "    \n",
    "    #Use the pi constant from the math module \n",
    "    volume = (4/3) * math.pi * r**3\n",
    "    return volume\n",
    "\n",
    "#Call the function to find the volume of a sphere with a radius of 2.\n",
    "get_sphere_volume(2)"
   ]
  },
  {
   "cell_type": "markdown",
   "metadata": {},
   "source": [
    "### Generating random numbers\n",
    "To generate random numbers, use the random module. Note that this module is not designed for cryptographic use. "
   ]
  },
  {
   "cell_type": "code",
   "execution_count": null,
   "metadata": {},
   "outputs": [],
   "source": [
    "# NameError if random module is not imported\n",
    "#import random\n",
    "\n",
    "# Print 10 numbers between 1 and 100 (inclusive)\n",
    "for x in range(10):\n",
    "  print(x,random.randint(1,101))"
   ]
  },
  {
   "cell_type": "markdown",
   "metadata": {},
   "source": [
    "## Creating your own Functions\n",
    "Use the def keyword to define custom functions. Empty parentheses following the function name indicate the function takes no arguments."
   ]
  },
  {
   "cell_type": "code",
   "execution_count": null,
   "metadata": {},
   "outputs": [],
   "source": [
    "def print_lyrics():\n",
    "    \"\"\" Prints lumberjack lyrics. How cool! \"\"\"\n",
    "    print(\"I'm a lumberjack and I'm okay.\")\n",
    "    \n",
    "def repeat_lyrics():\n",
    "    print_lyrics()\n",
    "    print_lyrics()\n",
    "    \n",
    "repeat_lyrics()"
   ]
  },
  {
   "cell_type": "markdown",
   "metadata": {},
   "source": [
    "## Docstrings\n",
    "Docstrings (documentation strings) provide a helpful and convenient method of\n",
    "displaying documentation with Python modules, functions, classes, and methods. \n",
    "\n",
    "An object's docsting is defined by including a string constant as the first\n",
    "statement in the object's definition and can be viewed by calling help(function)."
   ]
  },
  {
   "cell_type": "code",
   "execution_count": null,
   "metadata": {},
   "outputs": [],
   "source": [
    "help(print_lyrics)"
   ]
  },
  {
   "cell_type": "markdown",
   "metadata": {},
   "source": [
    "## Passing values\n",
    "Functions defined with arguments accept values. "
   ]
  },
  {
   "cell_type": "code",
   "execution_count": null,
   "metadata": {},
   "outputs": [],
   "source": [
    "def print_stuff(mystuff):\n",
    "    \"\"\" Prints the string passed to it. \"\"\"\n",
    "    print(mystuff)\n",
    "    \n",
    "newstuff = \"really cool stuff\"\n",
    "print_stuff(newstuff)"
   ]
  },
  {
   "cell_type": "markdown",
   "metadata": {},
   "source": [
    "### Optional arguments\n",
    "The parameter in the previous function is required. Attempting to run the function without the parameter results in an error.\n",
    "\n",
    "In addition to required positional arguments, Python allows optional arguments. All required positional arguments must precede optional arguments."
   ]
  },
  {
   "cell_type": "code",
   "execution_count": null,
   "metadata": {},
   "outputs": [],
   "source": [
    "# Optional arguments\n",
    "def print_stuff(my_stuff=\"no stuff\"):\n",
    "    print(my_stuff)\n",
    "    \n",
    "print_stuff()\n",
    "print_stuff(\"goodwill stuff\")"
   ]
  },
  {
   "cell_type": "code",
   "execution_count": null,
   "metadata": {},
   "outputs": [],
   "source": [
    "20%10"
   ]
  },
  {
   "cell_type": "code",
   "execution_count": null,
   "metadata": {},
   "outputs": [],
   "source": [
    "# Function using keyword and default arguments\n",
    "def calc_tip(amount, percentage = .15):\n",
    "    \"\"\" Calculate a tip based on an amount. 15% is default. \"\"\"\n",
    "    tip = amount * percentage\n",
    "    return tip\n",
    "\n",
    "print(calc_tip(10))\n",
    "\n",
    "print(calc_tip(10, percentage = .25))"
   ]
  },
  {
   "cell_type": "markdown",
   "metadata": {},
   "source": [
    "### \\*args and \\*\\*kwargs\n",
    "The \\* symbol (by convention \\*args) enables a variable number of positional arguments to be passed to a function. "
   ]
  },
  {
   "cell_type": "code",
   "execution_count": null,
   "metadata": {},
   "outputs": [],
   "source": [
    "# Passing a variable number of parameters\n",
    "def print_grades(*args):\n",
    "    number_of_grades = len(args)\n",
    "    sum_of_grades = sum(args)\n",
    "    avg_grade = sum_of_grades/number_of_grades\n",
    "    print(args)\n",
    "    print(f\"Average grade = {avg_grade}\")\n",
    "    \n",
    "print_grades(88,99,56,100,92)\n",
    "print_grades(88,82,99,97,89,100,84,96,92,92,90)"
   ]
  },
  {
   "cell_type": "markdown",
   "metadata": {},
   "source": [
    "Using ```*args``` is by convention, not by requirement. You can use whatever name makes the most sense to you."
   ]
  },
  {
   "cell_type": "code",
   "execution_count": null,
   "metadata": {},
   "outputs": [],
   "source": [
    "# Passing a variable number of parameters\n",
    "def print_grades(*grades):\n",
    "    number_of_grades = len(grades)\n",
    "    sum_of_grades = sum(grades)\n",
    "    avg_grade = sum_of_grades/number_of_grades\n",
    "    print(grades)\n",
    "    print(f\"Average grade = {avg_grade}\")\n",
    "    \n",
    "print_grades(88,99,56,100,92)\n",
    "print_grades(88,82,99,97,89,100,84,96,92,92,90)"
   ]
  },
  {
   "cell_type": "code",
   "execution_count": null,
   "metadata": {},
   "outputs": [],
   "source": [
    "# Passing a variable number of parameters and iterating through them\n",
    "def print_grades(*grades):\n",
    "    for grade in grades:\n",
    "        if grade == 100:\n",
    "            print(\"Wow, a perfect score!!\")\n",
    "    \n",
    "print_grades(88,99,56,100,92)\n",
    "print_grades(88,82,99,97,89,100,84,96,92,92,90)"
   ]
  },
  {
   "cell_type": "code",
   "execution_count": null,
   "metadata": {},
   "outputs": [],
   "source": [
    "# Passing a variable number of parameters and iterating through them\n",
    "def print_grades(*grades):\n",
    "    for grade in grades:\n",
    "        print(grade)\n",
    "\n",
    "# Pass grades via a function    \n",
    "print_grades(88,99,56,100,92)\n",
    "\n",
    "# Get input from the user\n",
    "grades = input(\"Enter grades separated by a comma:\")\n",
    "\n",
    "# Split the input by comma delimiter (results in a list)\n",
    "grades = grades.split(',')\n",
    "\n",
    "# Pass using the unpack operator\n",
    "print_grades(*grades)"
   ]
  },
  {
   "cell_type": "markdown",
   "metadata": {},
   "source": [
    "### Using **kwargs\n",
    "The \\*\\* symbol (by convention \\*\\*kwargs) enables a variable number of keyword arguments to be passed to a function."
   ]
  },
  {
   "cell_type": "code",
   "execution_count": null,
   "metadata": {},
   "outputs": [],
   "source": [
    "# Passing a variable number of parameters\n",
    "def show_grades(**kwargs):\n",
    "    \n",
    "    print(f\"kwargs = {kwargs}\")\n",
    "    \n",
    "    print(\"Student - Grade\")\n",
    "    for key, value in kwargs.items():\n",
    "        print(f\"{key} - {value}\")\n",
    "    print() #blank line\n",
    "\n",
    "show_grades(Alice=88,Joe=99,Jevontae=56,Subha=100,Kelly=92)\n",
    "show_grades(Stewart=100,Mark=105,Joe=95,Eric=75)"
   ]
  },
  {
   "cell_type": "markdown",
   "metadata": {},
   "source": [
    "## What is the Dot Operator?\n",
    "Just about everything in Python is an object. The dot operator enables you to access attributes (statements) and methods (function) associated with the object. \n",
    "\n",
    "Press <TAB> after a dot to see a list of methods and properties associated with the object.\n",
    "\n",
    "In the following code, a dot operator is used to access the pi property of the math object:\n",
    "```Python\n",
    "<a_python_object.do_something()>\n",
    "- or -\n",
    "<a_python_object.access_an_attribute>\n",
    "\n",
    "# Attribute example:\n",
    "volume = (4/3) * math.pi * r**3\n",
    "\n",
    "# Method example:\n",
    "print(\"Hello\".upper())\n",
    "```"
   ]
  },
  {
   "cell_type": "code",
   "execution_count": null,
   "metadata": {},
   "outputs": [],
   "source": [
    "import math\n",
    "\n",
    "r =5\n",
    "volume = (4/3) * math.pi * r**3\n",
    "\n",
    "print(f\"volume = {volume}\")"
   ]
  },
  {
   "cell_type": "code",
   "execution_count": null,
   "metadata": {},
   "outputs": [],
   "source": [
    "# Using the upper() method on a string via the dot operator\n",
    "print(\"Hello!\".upper())"
   ]
  },
  {
   "cell_type": "code",
   "execution_count": null,
   "metadata": {},
   "outputs": [],
   "source": [
    "#What other functions are available in the math module? Use the dir() function to list a directory of math attributes.\n",
    "dir(math)"
   ]
  },
  {
   "cell_type": "markdown",
   "metadata": {},
   "source": [
    "## Void and Return Functions\n",
    "PY4E calls functions that return values \"fruitful.\" Functions that do not return values are void functions."
   ]
  },
  {
   "cell_type": "code",
   "execution_count": null,
   "metadata": {},
   "outputs": [],
   "source": [
    "def addtwo(a,b):\n",
    "    \"\"\" Returns the sum of two numbers.\"\"\"\n",
    "    added = a + b\n",
    "    return added\n",
    "\n",
    "z = addtwo(1,2) * 10\n",
    "print(\"hi\")"
   ]
  },
  {
   "cell_type": "code",
   "execution_count": null,
   "metadata": {},
   "outputs": [],
   "source": [
    "print(z)"
   ]
  },
  {
   "cell_type": "code",
   "execution_count": null,
   "metadata": {},
   "outputs": [],
   "source": [
    "print(addtwo(3,5))"
   ]
  },
  {
   "cell_type": "markdown",
   "metadata": {},
   "source": [
    "## Currency and date formatting\n",
    "Because currency and date formats vary by locale, a recommended way of formatting currency and dates is to use the locale module. This module accesses the locale of your current system and applies it to format values."
   ]
  },
  {
   "cell_type": "code",
   "execution_count": null,
   "metadata": {},
   "outputs": [],
   "source": [
    "import locale\n",
    "import datetime\n",
    "\n",
    "#Sets locale for all categories to the user's default setting\n",
    "locale.setlocale(locale.LC_ALL, '')\n",
    "\n",
    "#To add commas, set grouping = True\n",
    "print(locale.currency(100000.55977, grouping=True))\n",
    "\n",
    "today = datetime.date.today()\n",
    "print(today)"
   ]
  },
  {
   "cell_type": "code",
   "execution_count": null,
   "metadata": {},
   "outputs": [],
   "source": [
    "dir(datetime)"
   ]
  },
  {
   "cell_type": "code",
   "execution_count": null,
   "metadata": {},
   "outputs": [],
   "source": [
    "#Source: https://www.programiz.com/python-programming/datetime#datetime\n",
    "now = datetime.datetime.now() # current date and time\n",
    "\n",
    "year = now.strftime(\"%Y\")\n",
    "print(\"year:\", year)\n",
    "\n",
    "month = now.strftime(\"%m\")\n",
    "print(\"month:\", month)\n",
    "\n",
    "day = now.strftime(\"%d\")\n",
    "print(\"day:\", day)\n",
    "\n",
    "time = now.strftime(\"%H:%M:%S\")\n",
    "print(\"time:\", time)\n",
    "\n",
    "date_time = now.strftime(\"%m/%d/%Y, %H:%M:%S\")\n",
    "print(\"date and time:\",date_time)\t"
   ]
  },
  {
   "cell_type": "code",
   "execution_count": null,
   "metadata": {},
   "outputs": [],
   "source": [
    "#Source: https://www.programiz.com/python-programming/datetime#datetime\n",
    "\n",
    "from datetime import datetime, date\n",
    "\n",
    "t1 = date(year = 2018, month = 7, day = 12)\n",
    "t2 = date(year = 2017, month = 12, day = 23)\n",
    "t3 = t1 - t2\n",
    "print(\"t3 =\", t3)\n",
    "\n",
    "t4 = datetime(year = 2019, month = 1, day = 12, hour = 7, minute = 9, second = 33)\n",
    "t5 = datetime(year = 2019, month = 12, day = 25, hour = 5, minute = 55, second = 13)\n",
    "t6 = t5 - t4\n",
    "print(\"t6 =\", t6)\n",
    "\n",
    "print(\"type of t3 =\", type(t3)) \n",
    "print(\"type of t6 =\", type(t6))"
   ]
  },
  {
   "cell_type": "markdown",
   "metadata": {
    "toc-hr-collapsed": true,
    "toc-nb-collapsed": true
   },
   "source": [
    "# File Operations\n",
    "\n",
    "Use the open() function to read(r), append (a), or write (w) to a file. Opening a file returns a file handle, not the actual data in the file. After opening the file you can read or write to it. When you are finished with the file, ensure it is closed. Failing to close a file may lead to memory issues, inaccessible files, and possibly data loss."
   ]
  },
  {
   "cell_type": "code",
   "execution_count": null,
   "metadata": {},
   "outputs": [],
   "source": [
    "# use the os module to access operating system information such as the current working directory (getcwd())\n",
    "import os\n",
    "\n",
    "# Create (or overwrite) a file\n",
    "# If no path is specified, the file will be created in the current working directory\n",
    "\n",
    "# If the file exists, opening with the \"w\" parameter will overwrite a file of the same name\n",
    "#   if present in the same folder. To append instead of overwriting, use the \"a\" mode.\n",
    "f = open(\"demofile.txt\", \"w\")\n",
    "\n",
    "f.write(\"This is the first line of the file.\\n\")\n",
    "\n",
    "# Be sure to close your file. Failure to do so will cause problems.\n",
    "f.close()\n",
    "\n",
    "# Get the current directory\n",
    "print(os.getcwd())"
   ]
  },
  {
   "cell_type": "markdown",
   "metadata": {},
   "source": [
    "## Using the With statement for opening files\n",
    "One advantage to using the With statement is that files you open using this method are automatically closed."
   ]
  },
  {
   "cell_type": "code",
   "execution_count": null,
   "metadata": {},
   "outputs": [],
   "source": [
    "# Append the file\n",
    "with open(\"demofile.txt\", \"a\") as f:\n",
    "    f.write(\"This is the second line.\\n\")\n",
    "\n",
    "    # No need to explicitly close the file. Close() is automatically called."
   ]
  },
  {
   "cell_type": "markdown",
   "metadata": {
    "toc-hr-collapsed": false
   },
   "source": [
    "## Reading files\n",
    "There are several ways to read data from a file. Some of the methods to read a file include: reading a specified number of characters, reading line-by-line, or a reading number of lines."
   ]
  },
  {
   "cell_type": "markdown",
   "metadata": {},
   "source": [
    "### Reading an entire file"
   ]
  },
  {
   "cell_type": "code",
   "execution_count": null,
   "metadata": {},
   "outputs": [],
   "source": [
    "file_path = os.getcwd() + \"\\\\files\"\n",
    "file_abs = file_path + \"\\\\\"+\"gettysburg.txt\"\n",
    "with open(file_abs,\"r\") as fh_getty:\n",
    "    #read() will access the entire file. Not a good option for large files.\n",
    "    print(fh_getty.read())"
   ]
  },
  {
   "cell_type": "code",
   "execution_count": null,
   "metadata": {},
   "outputs": [],
   "source": [
    "with open(file_abs,\"r\") as fh_getty:\n",
    "    n = 100\n",
    "    #read() will access the entire file. Not a good option for large files.\n",
    "    print(fh_getty.read(n)) # Read the first n characters"
   ]
  },
  {
   "cell_type": "code",
   "execution_count": null,
   "metadata": {},
   "outputs": [],
   "source": [
    "with open(file_abs,\"r\") as fh_getty:    \n",
    "    #read() will access the entire file. Not a good option for large files.\n",
    "    print(fh_getty.readline()) # Read a line\n",
    "    print(fh_getty.readline()) # Read a line\n",
    "    print(fh_getty.readline()) # Read a line"
   ]
  },
  {
   "cell_type": "code",
   "execution_count": null,
   "metadata": {},
   "outputs": [],
   "source": [
    "with open(file_abs,\"r\") as fh_getty:    \n",
    "    #read() will access the entire file. Not a good option for large files.\n",
    "    x = fh_getty.readlines() # Read all lines with new line characters, separated by commas\n",
    "    print(x[0])"
   ]
  },
  {
   "cell_type": "code",
   "execution_count": null,
   "metadata": {},
   "outputs": [],
   "source": [
    "with open(file_abs,\"r\") as fh_getty:\n",
    "    line_number = 0\n",
    "    for x in fh_getty: # \"x\" will represent a line\n",
    "        print(str(line_number) + \": \" + x)\n",
    "        line_number += 1"
   ]
  },
  {
   "cell_type": "code",
   "execution_count": null,
   "metadata": {},
   "outputs": [],
   "source": [
    "with open(\".\\\\files\\\\fake_customer_list.txt\", \"r\") as fh_customers:\n",
    "\n",
    "    for line in fh_customers:\n",
    "        #print(line)\n",
    "        customer_list = line.strip().split(\"|\")\n",
    "        full_name = customer_list[0]\n",
    "        email = customer_list[-1]\n",
    "        print(full_name + \" -- \" + email)        "
   ]
  },
  {
   "cell_type": "code",
   "execution_count": null,
   "metadata": {},
   "outputs": [],
   "source": [
    "# List files in the current directory \n",
    "import os\n",
    "print(os.listdir(os.getcwd()))"
   ]
  },
  {
   "cell_type": "markdown",
   "metadata": {},
   "source": [
    "### Use the CSV module to read a file"
   ]
  },
  {
   "cell_type": "code",
   "execution_count": null,
   "metadata": {},
   "outputs": [],
   "source": [
    "import csv\n",
    "with open('.\\\\files\\\\lyricsonly2M.csv', 'r') as f:\n",
    "    reader = csv.reader(f)\n",
    "    your_list = list(reader)"
   ]
  },
  {
   "cell_type": "code",
   "execution_count": null,
   "metadata": {},
   "outputs": [],
   "source": [
    "print(your_list)"
   ]
  },
  {
   "cell_type": "code",
   "execution_count": null,
   "metadata": {},
   "outputs": [],
   "source": [
    "len(your_list)"
   ]
  },
  {
   "cell_type": "code",
   "execution_count": null,
   "metadata": {},
   "outputs": [],
   "source": [
    "import pandas as pd\n",
    "df_lyrics = pd.DataFrame(your_list, columns=your_list[0])"
   ]
  },
  {
   "cell_type": "code",
   "execution_count": null,
   "metadata": {},
   "outputs": [],
   "source": [
    "print(df_lyrics.shape)\n",
    "with pd.option_context('display.max_seq_items', None):\n",
    "    print(df_lyrics.head(5000))\n"
   ]
  },
  {
   "cell_type": "code",
   "execution_count": null,
   "metadata": {},
   "outputs": [],
   "source": [
    "print(your_list[0])"
   ]
  },
  {
   "cell_type": "markdown",
   "metadata": {},
   "source": [
    "## Writing to a File"
   ]
  },
  {
   "cell_type": "code",
   "execution_count": null,
   "metadata": {},
   "outputs": [],
   "source": [
    "import os\n",
    "with open('notebook_list.txt','w') as f:\n",
    "    for root, dirs, files in os.walk(\"C:\\\\Users\\\\gregb\\\\documents\", topdown=False):\n",
    "        for name in files:\n",
    "          if name.endswith('.ipynb'):\n",
    "                print(\"writing...\",os.path.join(root, name))\n",
    "                f.write(os.path.join(root, name)+\"\\n\")"
   ]
  },
  {
   "cell_type": "markdown",
   "metadata": {},
   "source": [
    "## Use Pandas to Read a file\n",
    "Although built-in file operations in Python may be useful for trivial matters, Pandas and Numpy are much more effective for reading, shaping, and analyzing data. Using these libraries is beyond the scope of this course, however, you should be aware of these libraries. See the Pandas notebook for more information."
   ]
  },
  {
   "cell_type": "code",
   "execution_count": null,
   "metadata": {},
   "outputs": [],
   "source": [
    "import pandas as pd\n",
    "\n",
    "df = pd.read_csv(\".\\\\files\\\\2017_instacart_products.csv\")\n",
    "df.head()"
   ]
  },
  {
   "cell_type": "code",
   "execution_count": null,
   "metadata": {},
   "outputs": [],
   "source": [
    "# Use the describe function to display descriptive statistics for numerical fields (even if that doesn't make sense...)\n",
    "df.describe()"
   ]
  },
  {
   "cell_type": "markdown",
   "metadata": {
    "toc-hr-collapsed": true,
    "toc-nb-collapsed": true
   },
   "source": [
    "# String Operations\n",
    "Text in Python is represented by a string. A string is an immutable array of unicode characters. This means that once defined, they cannot be changed. You can access (but not change) characters one at a time using the bracket [] operator."
   ]
  },
  {
   "cell_type": "markdown",
   "metadata": {},
   "source": [
    "## Strings are arrays\n",
    "Because strings are stored as an array, you may access characters using array notation."
   ]
  },
  {
   "cell_type": "code",
   "execution_count": null,
   "metadata": {},
   "outputs": [],
   "source": [
    "x = 'Guardians of the Galaxy Vol. 1'\n",
    "print(x[0:6]) # Print the first six characters"
   ]
  },
  {
   "cell_type": "code",
   "execution_count": null,
   "metadata": {},
   "outputs": [],
   "source": [
    "print(x[-5:]) # Print the last 5 characters"
   ]
  },
  {
   "cell_type": "markdown",
   "metadata": {},
   "source": [
    "## Strings are immutable\n",
    "Like tuples strings cannot be changed."
   ]
  },
  {
   "cell_type": "code",
   "execution_count": null,
   "metadata": {},
   "outputs": [],
   "source": [
    "# Error: Strings are immutable\n",
    "print(x[29])\n",
    "x[29] = '2' # Change Vol. 1 to Vol. 2"
   ]
  },
  {
   "cell_type": "code",
   "execution_count": null,
   "metadata": {},
   "outputs": [],
   "source": [
    "# Instead of attempting to change the array, reassign the variable to the new value\n",
    "x = \"Guardians of the Galaxy Vol. 2\""
   ]
  },
  {
   "cell_type": "markdown",
   "metadata": {},
   "source": [
    "## Escape characters and raw strings\n",
    "Prefix a string with ‘r’ or ‘R’ to force Python to treat backslash (\\) as a literal character.\n",
    "E.g., Windows file paths\n",
    "\n",
    "| Escape Character | Prints as |\n",
    "|------------------|-----------|\n",
    "| \\\\' | Single quote\n",
    "| \\\\\" | Double quote\n",
    "| \\\\t | Tab\n",
    "| \\\\n | Newline (line break)\n",
    "| \\\\ | Backslash\n",
    "\n"
   ]
  },
  {
   "cell_type": "code",
   "execution_count": null,
   "metadata": {},
   "outputs": [],
   "source": [
    "# Error - unexpected escape characters\n",
    "file_path = \"c:\\users\\gregb\\documents\\python_projects\"\n",
    "print(file_path)"
   ]
  },
  {
   "cell_type": "code",
   "execution_count": null,
   "metadata": {},
   "outputs": [],
   "source": [
    "# Escaping backslash for file name\n",
    "file_path = \"c:\\\\users\\\\gregb\\\\documents\\\\python_projects\"\n",
    "print(file_path)"
   ]
  },
  {
   "cell_type": "code",
   "execution_count": null,
   "metadata": {},
   "outputs": [],
   "source": [
    "# Using raw string\n",
    "file_path = r\"c:\\users\\gregb\\documents\\python_projects\"\n",
    "print(file_path)"
   ]
  },
  {
   "cell_type": "markdown",
   "metadata": {},
   "source": [
    "## Using single, double, and triple quotes\n",
    "You may use either single, double, or triple quotes. Use double or triple quotes when a string contains a single apostrophe, double apostrophe or both."
   ]
  },
  {
   "cell_type": "code",
   "execution_count": null,
   "metadata": {},
   "outputs": [],
   "source": [
    "#Double quotes specifies a string.\n",
    "statement = \"\"\"I'm a Python programmer.\"\"\"\n",
    "\n",
    "\n",
    "\n",
    "#Single quotes also specify a string. Triple quotes, too.\n",
    "howdy = 'hello, world!'\n",
    "print(howdy)\n",
    "\n",
    "#To print quotes, you canuse the escape character (\\)\n",
    "as_good_as_it_gets = 'Sell crazy someplace else. We\\'re all stocked up here.'\n",
    "print(as_good_as_it_gets)\n",
    "\n",
    "#Tripe quotes are helpful when you want to display single or double quotes within a string without using an escape character.\n",
    "cannoli = \"Clamenza said, \\\"Leave the gun, take the cannoli.\\\" It's one of my 'fav' movie quotes.\" \n",
    "print(cannoli)"
   ]
  },
  {
   "cell_type": "markdown",
   "metadata": {},
   "source": [
    "## String Capitalization"
   ]
  },
  {
   "cell_type": "code",
   "execution_count": null,
   "metadata": {},
   "outputs": [],
   "source": [
    "# Capitalize the first word\n",
    "print(howdy.capitalize())"
   ]
  },
  {
   "cell_type": "code",
   "execution_count": null,
   "metadata": {},
   "outputs": [],
   "source": [
    "# Capitalize each word\n",
    "print(howdy.title())\n",
    "print(\"this is title case\".title())"
   ]
  },
  {
   "cell_type": "code",
   "execution_count": null,
   "metadata": {},
   "outputs": [],
   "source": [
    "# Capitalize each word\n",
    "print(howdy.upper())\n",
    "print(\"this is all capps\".upper())\n",
    "\n",
    "#Use upper() to compare strings ignoring case\n",
    "myfavfruit = \"Kiwi\"\n",
    "\n",
    "if myfavfruit.upper() == \"KIWI\":\n",
    "    print(\"That's my fav!\")\n",
    "else:\n",
    "    print(\"Not my fav\")"
   ]
  },
  {
   "cell_type": "code",
   "execution_count": null,
   "metadata": {},
   "outputs": [],
   "source": [
    "book_title = \"THE UNOFFICIAL GUIDE TO ETHICAL HACKING\"\n",
    "\n",
    "# Lowercase\n",
    "print(book_title.lower())"
   ]
  },
  {
   "cell_type": "code",
   "execution_count": null,
   "metadata": {},
   "outputs": [],
   "source": [
    "# Store the string \"banana\" in the favorite_fruit variable. \n",
    "favorite_fruit = \"banana\"\n",
    "\n",
    "# A string is essentially an array of characters and you may access them like you would an array.\n",
    "print(favorite_fruit)\n",
    "print(favorite_fruit[0])\n",
    "print(favorite_fruit[0:2])"
   ]
  },
  {
   "cell_type": "code",
   "execution_count": null,
   "metadata": {},
   "outputs": [],
   "source": [
    "# Strings are immutable. Unlike a typical array, you may NOT modify the items (characters) in the array.\n",
    "# Rather than changing the first letter from 'b' to 'B', this code results in an error.\n",
    "favorite_fruit[0] = 'B'"
   ]
  },
  {
   "cell_type": "code",
   "execution_count": null,
   "metadata": {},
   "outputs": [],
   "source": [
    "print(favorite_fruit)\n",
    "\n",
    "# You can, however, replace the string value (e.g., \"banana\") with something else (e.g, \"apple\")\n",
    "favorite_fruit = \"apple\"\n",
    "\n",
    "print(favorite_fruit)"
   ]
  },
  {
   "cell_type": "markdown",
   "metadata": {},
   "source": [
    "## String Concatenation\n",
    "\n",
    "Use the '+' operator to join strings."
   ]
  },
  {
   "cell_type": "code",
   "execution_count": null,
   "metadata": {},
   "outputs": [],
   "source": [
    "first_name = \"Gregory\"\n",
    "middle_initial = \"J\"\n",
    "last_name = \"Bott\"\n",
    "\n",
    "full_name = first_name + \" \" + middle_initial + \" \" + last_name + \", Ph.D.\"\n",
    "print(full_name)"
   ]
  },
  {
   "cell_type": "markdown",
   "metadata": {},
   "source": [
    "## Removing white space\n",
    "A common task when working with data is to remove white space (spaces, tabs, newlines) from the beginning and end of a string. to remove white space use the **strip** method."
   ]
  },
  {
   "cell_type": "code",
   "execution_count": null,
   "metadata": {},
   "outputs": [],
   "source": [
    "# value is preceded by three tabs and followed by a line break\n",
    "data_column = \"\\t\\t\\t 133422.88\\n\"\n",
    "print(str(data_column) + \"[end]\")\n",
    "\n",
    "#tabs and the line break are stripped from the string\n",
    "print(data_column.strip() + \"[end]\")"
   ]
  },
  {
   "cell_type": "markdown",
   "metadata": {},
   "source": [
    "## Format Operator\n",
    "To substitute values from variables or functions into a string, use the *format operator* %. \n",
    "\n",
    "Do not confuse % with modulus operator. In the statement, 4 % 2 = 0 '%' is the modulus operator. \n",
    "\n",
    "Instead of using the % operator between integers as in the modulus operator, the *format operator* is used within a string.\n",
    "<br>%d = signed integer decimal\n",
    "<br>%s = string\n",
    "<br>%f = float\n",
    "\n",
    "For more conversion types go to https://docs.python.org/3/library/stdtypes.html#old-string-formatting"
   ]
  },
  {
   "cell_type": "code",
   "execution_count": null,
   "metadata": {},
   "outputs": [],
   "source": [
    "b_of_b_on_wall = 99\n",
    "beverage = \"beer\"\n",
    "\n",
    "for bottle_num in range(100,0,-1):\n",
    "    print(\"%d bottles of %s on the wall, %d bottles of %s.\" % (bottle_num, beverage, bottle_num, beverage))\n",
    "    print(\"Take one down and pass it around, %d bottles of %s on the wall.\" % (int(bottle_num)-1, beverage))\n",
    "    "
   ]
  },
  {
   "cell_type": "markdown",
   "metadata": {},
   "source": [
    "## Using str.format()\n",
    "The format operator is a good option, but when you have multiple placeholders in a string, code becomes less readable. \n",
    "\n",
    "One advantage of the str.format() method is that you can use the replacement fields in any order. Simply use their index values."
   ]
  },
  {
   "cell_type": "code",
   "execution_count": null,
   "metadata": {},
   "outputs": [],
   "source": [
    "name = \"Greg\"\n",
    "age = \"82\"\n",
    "\n",
    "print(\"Hello, {}. You are {}.\".format(name, age))"
   ]
  },
  {
   "cell_type": "code",
   "execution_count": null,
   "metadata": {},
   "outputs": [],
   "source": [
    "name = \"Greg\"\n",
    "age = \"82\"\n",
    "\n",
    "#Reference index to use out of sequence order.\n",
    "print(\"Hello, {1}. You are {0}.\".format(age, name))"
   ]
  },
  {
   "cell_type": "code",
   "execution_count": null,
   "metadata": {},
   "outputs": [],
   "source": [
    "# Use dictionary values\n",
    "person = {'name': 'Greg', 'age': 82}\n",
    "print(\"Hello, {name}. You are {age}.\".format(**person))"
   ]
  },
  {
   "cell_type": "markdown",
   "metadata": {},
   "source": [
    "## Using f-Strings\n",
    "Beginning with Python 3.6, you can use f-strings (\"formatting string literals\"). The syntax for f-Strings is similar to str.format() but results in more readable code."
   ]
  },
  {
   "cell_type": "code",
   "execution_count": null,
   "metadata": {},
   "outputs": [],
   "source": [
    "name = \"Greg\"\n",
    "age = \"82\"\n",
    "\n",
    "print(f\"Hello, {name}. You are {age}.\")"
   ]
  },
  {
   "cell_type": "markdown",
   "metadata": {},
   "source": [
    "## Splitting and Joining strings"
   ]
  },
  {
   "cell_type": "code",
   "execution_count": null,
   "metadata": {},
   "outputs": [],
   "source": [
    "# Below is a database record exported using the pipe symbol (\"|\") to seprate fields\n",
    "exported_record = \"Quin J. Alford|Proin Company|Ap #664-5782 Felis St.|Butte|35565|MT|-72.72653, -167.07764|4716 4071 8086 1415|436|eu@pellentesque.net\"\n",
    "print(\"original data:\")\n",
    "print(exported_record)\n",
    "print()\n",
    "\n",
    "#Split the data at each pipe symbol. The result of the split function is a Python list (essentially an array)\n",
    "exported_record = exported_record.split(\"|\")\n",
    "print(\"converted to a list: \")\n",
    "print(exported_record)\n",
    "print()"
   ]
  },
  {
   "cell_type": "code",
   "execution_count": null,
   "metadata": {},
   "outputs": [],
   "source": [
    "#Print the first and last member of the list. Acess the first element (element 0), and the last element (-1).\n",
    "#The second to last element would be accessed using [-2].\n",
    "print(\"Name: \" + exported_record[0], \"   email: \" + exported_record[-1] +\"\\n\")\n",
    "\n",
    "#Join the list by comma and store in exported_record\n",
    "exported_record_csv = \",\".join(exported_record)\n",
    "print(exported_record_csv)"
   ]
  },
  {
   "cell_type": "markdown",
   "metadata": {},
   "source": [
    "## Find() method for strings"
   ]
  },
  {
   "cell_type": "code",
   "execution_count": null,
   "metadata": {},
   "outputs": [],
   "source": [
    "gburg_text = \"Four score and seven years ago our fathers brought forth on this continent, a new nation, conceived in Liberty, and dedicated to the proposition that all men are created equal.\"\n",
    "\n",
    "#Find first instance of a word, find(value, start default = 0, end default = end of string)\n",
    "find_pos = gburg_text.find(\"score\")\n",
    "print(find_pos)"
   ]
  },
  {
   "cell_type": "markdown",
   "metadata": {
    "toc-hr-collapsed": true,
    "toc-nb-collapsed": true
   },
   "source": [
    "# Working with Dates\n",
    "\n",
    "In Python, a date is not a data type. Use the datetime module to work with dates as date objects."
   ]
  },
  {
   "cell_type": "code",
   "execution_count": null,
   "metadata": {},
   "outputs": [],
   "source": [
    "import datetime\n",
    "\n",
    "datetime_obj = datetime.datetime.now()\n",
    "print(datetime_obj)"
   ]
  },
  {
   "cell_type": "markdown",
   "metadata": {
    "toc-hr-collapsed": true,
    "toc-nb-collapsed": true
   },
   "source": [
    "# Handling Exceptions\n",
    "\n",
    "Robust programs anticipate and gracefully handle unexpected situations and errors. For example, when asking a user to input a number, a robust program gracefully handles unexpected or erroneous input. Another examples include attempting to open a file or connect to a database."
   ]
  },
  {
   "cell_type": "markdown",
   "metadata": {},
   "source": [
    "# Data Structures\n"
   ]
  },
  {
   "cell_type": "markdown",
   "metadata": {},
   "source": [
    "## What's a data structure?\n",
    "As its name implies, a data structure is a containerthat holds data. Just like some post office boxes hold packages and others hold letters, Python's built-in data structures have different purposes and uses. Use data structures to organize and perform operations on data. Python has the following built-in data structures: Lists, Dictionaries, Sets, and Tuples. Each container has different attributes and is used for a different purpose.\n",
    "\n",
    "sources: (W3Schools, RealPython.com)\n",
    "\n",
    "<img src=\"images/post_office_boxes.jpg\" align=\"middle\">"
   ]
  },
  {
   "cell_type": "markdown",
   "metadata": {},
   "source": [
    "## Comparing Built-in Data Structures\n",
    "Below is a comparsion of four built-in data structures in Python. \n",
    "\n",
    "![](images/Structures.jpg)"
   ]
  },
  {
   "cell_type": "markdown",
   "metadata": {},
   "source": [
    "## Tuples\n",
    "What is the proper pronunication of \"tuple\"? Answer: either TEW-pull or Tupple (like the 'u' sound in pup). \n",
    "\n",
    "* Ordered sequence of elements\n",
    "* Tuples are immutable\n",
    "* Parentheses denote a tuple"
   ]
  },
  {
   "cell_type": "code",
   "execution_count": null,
   "metadata": {},
   "outputs": [],
   "source": [
    "# Create an empty tuple\n",
    "\n",
    "t = ()\n",
    "t = (4, \"hello\", True, 3.1)\n",
    "print(t[1])"
   ]
  },
  {
   "cell_type": "code",
   "execution_count": null,
   "metadata": {},
   "outputs": [],
   "source": [
    "# Concatenation with a tuple\n",
    "\n",
    "print(t)\n",
    "print(\"Concatenate '7'\")\n",
    "print((t) + (7,)) # Note the comma--the comma tells Python that this is a tuple and not an int"
   ]
  },
  {
   "cell_type": "code",
   "execution_count": null,
   "metadata": {},
   "outputs": [],
   "source": [
    "# Iterating a tuple\n",
    "for v in t:\n",
    "    print(v)"
   ]
  },
  {
   "cell_type": "code",
   "execution_count": null,
   "metadata": {},
   "outputs": [],
   "source": [
    "# zip function example\n",
    "\n",
    "s = ' abc'\n",
    "t = [0, 1, 2] \n",
    "zip(s, t)\n",
    "for pair in zip(s, t):\n",
    "    print(pair)"
   ]
  },
  {
   "cell_type": "code",
   "execution_count": null,
   "metadata": {},
   "outputs": [],
   "source": [
    "def tip_options(amount):\n",
    "    # Use a tuple to return more than one value\n",
    "    return(amount, amount*1.10, amount*1.15, amount*1.2)\n",
    "\n",
    "print(tip_options(30))\n",
    "print(type(tip_options(30)))"
   ]
  },
  {
   "cell_type": "code",
   "execution_count": null,
   "metadata": {},
   "outputs": [],
   "source": [
    "# Use a tuple to swap values\n",
    "y = 5\n",
    "x = 10\n",
    "print('x =', x, 'y =', y)\n",
    "(x, y) = (y, x)\n",
    "print('x =', x, 'y =', y)"
   ]
  },
  {
   "cell_type": "markdown",
   "metadata": {
    "toc-hr-collapsed": true,
    "toc-nb-collapsed": true
   },
   "source": [
    "## Lists\n",
    "\n",
    "A list is an ordered sequence of *items*. Lists are similar to arrays in other languages. One difference is that Lists can contain different types of data."
   ]
  },
  {
   "cell_type": "markdown",
   "metadata": {},
   "source": [
    "### Creating Lists\n",
    " \n",
    "Lists are created using several methods."
   ]
  },
  {
   "cell_type": "code",
   "execution_count": 6,
   "metadata": {},
   "outputs": [],
   "source": [
    "#Use square brackets to make list\n",
    "\n",
    "cities = [] # an empty list"
   ]
  },
  {
   "cell_type": "code",
   "execution_count": 7,
   "metadata": {},
   "outputs": [
    {
     "name": "stdout",
     "output_type": "stream",
     "text": [
      "[]\n"
     ]
    }
   ],
   "source": [
    "print(cities)"
   ]
  },
  {
   "cell_type": "code",
   "execution_count": 22,
   "metadata": {},
   "outputs": [
    {
     "name": "stdout",
     "output_type": "stream",
     "text": [
      "['Dallas', 'Chicago', 'Miami', 'Grand Rapids']  is of type  <class 'list'>\n"
     ]
    }
   ],
   "source": [
    "cities = [\"Dallas\",\"Chicago\",\"Miami\",\"Grand Rapids\" ]\n",
    "print(cities,\" is of type \", type(cities))"
   ]
  },
  {
   "cell_type": "code",
   "execution_count": 23,
   "metadata": {},
   "outputs": [
    {
     "data": {
      "text/plain": [
       "4"
      ]
     },
     "execution_count": 23,
     "metadata": {},
     "output_type": "execute_result"
    }
   ],
   "source": [
    "# Get the length of your list using the len() function\n",
    "len(cities)"
   ]
  },
  {
   "cell_type": "code",
   "execution_count": 24,
   "metadata": {},
   "outputs": [
    {
     "name": "stdout",
     "output_type": "stream",
     "text": [
      "Miami\n"
     ]
    }
   ],
   "source": [
    "#Ordered -- accessible via index\n",
    "print(cities[2]) # Print the third item in a list"
   ]
  },
  {
   "cell_type": "code",
   "execution_count": 25,
   "metadata": {},
   "outputs": [
    {
     "name": "stdout",
     "output_type": "stream",
     "text": [
      "Grand Rapids\n"
     ]
    }
   ],
   "source": [
    "print(cities[-1]) # Print the last item in a list"
   ]
  },
  {
   "cell_type": "code",
   "execution_count": 26,
   "metadata": {},
   "outputs": [
    {
     "name": "stdout",
     "output_type": "stream",
     "text": [
      "['Chicago', 'Miami']\n"
     ]
    }
   ],
   "source": [
    "print(cities[1:3]) # print the second and third items. Second value is not inclusive."
   ]
  },
  {
   "cell_type": "code",
   "execution_count": 27,
   "metadata": {},
   "outputs": [
    {
     "name": "stdout",
     "output_type": "stream",
     "text": [
      "['Chicago', 'Miami', 'Grand Rapids']\n"
     ]
    }
   ],
   "source": [
    "print(cities[1:]) # print the second item through the end of the list."
   ]
  },
  {
   "cell_type": "code",
   "execution_count": 28,
   "metadata": {},
   "outputs": [
    {
     "name": "stdout",
     "output_type": "stream",
     "text": [
      "[True, 0, 'Greg Bott', 3.14159, ['steak', 'eggs', 'donuts']]\n"
     ]
    }
   ],
   "source": [
    "# Lists are not limited to containing only values of a single type\n",
    "# A list may contain objects such as another list \n",
    "my_list = [True, 0, \"Greg Bott\", 3.14159, [\"steak\",\"eggs\",\"donuts\"]]\n",
    "print(my_list)"
   ]
  },
  {
   "cell_type": "code",
   "execution_count": 29,
   "metadata": {},
   "outputs": [],
   "source": [
    "def my_function(my_parameter):\n",
    "    pass\n",
    "my_function(0)"
   ]
  },
  {
   "cell_type": "markdown",
   "metadata": {},
   "source": [
    "### Lists are Mutable"
   ]
  },
  {
   "cell_type": "code",
   "execution_count": 30,
   "metadata": {},
   "outputs": [
    {
     "name": "stdout",
     "output_type": "stream",
     "text": [
      "['Dallas', 'Chicago', 'Miami', 'Grand Rapids']\n",
      "['Dallas', 'Chicago', 'San Antonio', 'Grand Rapids']\n"
     ]
    }
   ],
   "source": [
    "print(cities)\n",
    "cities[2] = \"San Antonio\" # Replace the third entry ('Miami') with 'San Antonio'\n",
    "print(cities) # mutated list object"
   ]
  },
  {
   "cell_type": "markdown",
   "metadata": {},
   "source": [
    "### Adding items to a list\n",
    "```Python\n",
    "<list>.append(element)\n",
    "``` \n",
    "Use append to add elements to the end of a list. This operation *mutates* the list."
   ]
  },
  {
   "cell_type": "code",
   "execution_count": 31,
   "metadata": {},
   "outputs": [
    {
     "name": "stdout",
     "output_type": "stream",
     "text": [
      "['Dallas', 'Chicago', 'San Antonio', 'Grand Rapids']\n",
      "['Dallas', 'Austin', 'Chicago', 'San Antonio', 'Grand Rapids']\n"
     ]
    }
   ],
   "source": [
    "# Use insert() to add an item to specific location in the list. \n",
    "print(cities)\n",
    "cities.insert(1, 'Austin') # Insert Austin in the second position\n",
    "print(cities)"
   ]
  },
  {
   "cell_type": "code",
   "execution_count": 39,
   "metadata": {},
   "outputs": [
    {
     "name": "stdout",
     "output_type": "stream",
     "text": [
      "['Dallas', 'Austin', 'Chicago', 'Miami', 'Grand Rapids', 'Columbia', 'St. Louis', 'Tempe', 'Atlanta', 'Columbia']\n",
      "['Dallas', 'Austin', 'Chicago', 'Miami', 'Grand Rapids', 'Columbia', 'St. Louis', 'Tempe', 'Atlanta', 'Columbia', ('St. Louis', 'Tempe', 'Atlanta')]\n"
     ]
    }
   ],
   "source": [
    "# Use the append() method to add an item to the list\n",
    "cities.append(\"Columbia\")\n",
    "print(cities)\n",
    "\n",
    "# Using append() to add multiple items results in a list within a list\n",
    "more_cities = ['St. Louis', 'Tempe', 'Atlanta']\n",
    "\n",
    "# append() accepts only 1 argument (an interable)\n",
    "cities.append(('St. Louis', 'Tempe', 'Atlanta')) \n",
    "print(cities)"
   ]
  },
  {
   "cell_type": "code",
   "execution_count": 33,
   "metadata": {},
   "outputs": [],
   "source": [
    "# Reset the list to the original cities\n",
    "cities = ['Dallas', 'Austin', 'Chicago', 'Miami', 'Grand Rapids', 'Columbia']"
   ]
  },
  {
   "cell_type": "code",
   "execution_count": 34,
   "metadata": {},
   "outputs": [
    {
     "name": "stdout",
     "output_type": "stream",
     "text": [
      "['Dallas', 'Austin', 'Chicago', 'Miami', 'Grand Rapids', 'Columbia', 'St. Louis', 'Tempe', 'Atlanta']\n"
     ]
    }
   ],
   "source": [
    "more_cities = ['St. Louis', 'Tempe', 'Atlanta']\n",
    "\n",
    "# Use extend() when you want to add multiple values to a list\n",
    "cities.extend(more_cities)\n",
    "print(cities)"
   ]
  },
  {
   "cell_type": "markdown",
   "metadata": {},
   "source": [
    "### Copying a list\n",
    "If you use the following expression to create a new list, what you have is two references to a single object, NOT two lists.\n",
    "```Python\n",
    "list_a = list_b\n",
    "```"
   ]
  },
  {
   "cell_type": "code",
   "execution_count": 3,
   "metadata": {},
   "outputs": [
    {
     "name": "stdout",
     "output_type": "stream",
     "text": [
      "a= [1, 2, 3, 4, 5]\n",
      "b= [1, 2, 3, 4, 5]\n"
     ]
    }
   ],
   "source": [
    "list_a = [1,2,3,4,5]\n",
    "\n",
    "list_b = list_a\n",
    "print(\"a=\",list_a)\n",
    "print(\"b=\",list_b)"
   ]
  },
  {
   "cell_type": "code",
   "execution_count": 4,
   "metadata": {},
   "outputs": [
    {
     "name": "stdout",
     "output_type": "stream",
     "text": [
      "a= ['Protein bar', 2, 3, 4, 5]\n",
      "b= ['Protein bar', 2, 3, 4, 5]\n"
     ]
    }
   ],
   "source": [
    "# Change ONLY list_b\n",
    "list_a[0] = 'Protein bar'\n",
    "print(\"a=\",list_a)\n",
    "print(\"b=\",list_b)"
   ]
  },
  {
   "cell_type": "code",
   "execution_count": 7,
   "metadata": {},
   "outputs": [
    {
     "name": "stdout",
     "output_type": "stream",
     "text": [
      "a= [1, 2, 3, 4, 5]\n",
      "b= [1, 2, 3, 4, 5]\n"
     ]
    }
   ],
   "source": [
    "list_a = [1,2,3,4,5]\n",
    "\n",
    "# To make a *copy* of the object instead of referencing the same object, use copy()\n",
    "list_b = list_a.copy()\n",
    "print(\"a=\",list_a)\n",
    "print(\"b=\",list_b)"
   ]
  },
  {
   "cell_type": "code",
   "execution_count": 8,
   "metadata": {},
   "outputs": [
    {
     "name": "stdout",
     "output_type": "stream",
     "text": [
      "a= ['Protein bar', 2, 3, 4, 5]\n",
      "b= [1, 2, 3, 4, 5]\n"
     ]
    }
   ],
   "source": [
    "# Change ONLY list_b\n",
    "list_a[0] = 'Protein bar'\n",
    "print(\"a=\",list_a)\n",
    "print(\"b=\",list_b)"
   ]
  },
  {
   "cell_type": "markdown",
   "metadata": {},
   "source": [
    "### Converting Lists to Strings and Back\n",
    "Using the split() function to separate a string using a delimter (e.g., a comma) creates a list object."
   ]
  },
  {
   "cell_type": "code",
   "execution_count": 36,
   "metadata": {},
   "outputs": [
    {
     "name": "stdout",
     "output_type": "stream",
     "text": [
      "States is of  <class 'str'>\n",
      "['Missouri', ' Alabama', ' Texas', ' Washington', ' Florida'] this is of <class 'list'>\n"
     ]
    }
   ],
   "source": [
    "states = \"Missouri, Alabama, Texas, Washington, Florida\"\n",
    "print(\"States is of \", type(states))\n",
    "\n",
    "states = states.split(\",\")\n",
    "print(states, \"this is of\",type(states))"
   ]
  },
  {
   "cell_type": "code",
   "execution_count": 37,
   "metadata": {},
   "outputs": [
    {
     "name": "stdout",
     "output_type": "stream",
     "text": [
      " Texas\n"
     ]
    }
   ],
   "source": [
    "print(states[2])"
   ]
  },
  {
   "cell_type": "code",
   "execution_count": 35,
   "metadata": {},
   "outputs": [
    {
     "name": "stdout",
     "output_type": "stream",
     "text": [
      "States is of  <class 'str'>\n",
      "['Missouri', ' Alabama', ' Texas', ' Washington', ' Florida'] this is of <class 'list'>\n",
      "Missouri, Alabama, Texas, Washington, Florida this is of <class 'str'>\n"
     ]
    }
   ],
   "source": [
    "states = ','.join(states)\n",
    "print(states, \"this is of\",type(states))"
   ]
  },
  {
   "cell_type": "code",
   "execution_count": null,
   "metadata": {},
   "outputs": [],
   "source": [
    "# Remember that you may split on any character.\n",
    "#   Here is an example of splitting an email address\n",
    "#   into the user name (string prior to the '@' symbol)\n",
    "#   and the domain (the part following the '@' symbol.')\n",
    "\n",
    "addr = 'monty@python.org'\n",
    "uname, domain = addr.split('@')\n",
    "split_email = addr.split('@' )\n",
    "print(f\"user name = {uname}\")\n",
    "print(f\"domain name = {domain}\")"
   ]
  },
  {
   "cell_type": "markdown",
   "metadata": {},
   "source": [
    "### Using List Comprehensions\n",
    "\n",
    "List comprehensions are a compact method to build lists using a single line of code. \n",
    "\n",
    "Basic syntax\n",
    "```python\n",
    "[ expr for item in iterable ]\n",
    "```\n",
    "\n",
    "Instead of:"
   ]
  },
  {
   "cell_type": "code",
   "execution_count": 40,
   "metadata": {},
   "outputs": [
    {
     "name": "stdout",
     "output_type": "stream",
     "text": [
      "[0, 1, 4, 9, 16, 25, 36, 49, 64, 81, 100, 121]\n"
     ]
    }
   ],
   "source": [
    "# Iteration method to load a list\n",
    "L = []\n",
    "for n in range(12):\n",
    "    L.append(n ** 2)\n",
    "print(L)"
   ]
  },
  {
   "cell_type": "code",
   "execution_count": 43,
   "metadata": {},
   "outputs": [
    {
     "name": "stdout",
     "output_type": "stream",
     "text": [
      "[0, 1, 4, 9, 16, 25, 36, 49, 64, 81, 100, 121]\n"
     ]
    }
   ],
   "source": [
    "# Loading items using a List Comprehension\n",
    "L = [n ** 2 for n in range(12)]\n",
    "print(L)"
   ]
  },
  {
   "cell_type": "markdown",
   "metadata": {},
   "source": [
    "### Removing Items from a List"
   ]
  },
  {
   "cell_type": "code",
   "execution_count": null,
   "metadata": {},
   "outputs": [],
   "source": [
    "# Remove elements by index\n",
    "t = ['a', 'b', 'c', 'd', 'e']\n",
    "del(t[1])\n",
    "print(t)"
   ]
  },
  {
   "cell_type": "code",
   "execution_count": null,
   "metadata": {},
   "outputs": [],
   "source": [
    "# Delete the last item on the list. Returns the item deleted. Mutates list.\n",
    "x = t.pop()\n",
    "\n",
    "print('Deleted ', x)\n",
    "print('New list is ', t)"
   ]
  },
  {
   "cell_type": "code",
   "execution_count": null,
   "metadata": {},
   "outputs": [],
   "source": [
    "# Remove specific element (e.g., remove 'Chicago'), mutates the list.\n",
    "print(cities)\n",
    "cities.remove('Chicago')\n",
    "print(cities)"
   ]
  },
  {
   "cell_type": "code",
   "execution_count": null,
   "metadata": {},
   "outputs": [],
   "source": [
    "# ERROR: If not in list, error.\n",
    "cities.remove('St. Louis')"
   ]
  },
  {
   "cell_type": "markdown",
   "metadata": {},
   "source": [
    "Be careful when removing items from a list. If you attempt to remove items while iterating over the same list, items may be skipped. "
   ]
  },
  {
   "cell_type": "code",
   "execution_count": null,
   "metadata": {},
   "outputs": [],
   "source": [
    "my_list = [1,2,3,4,5,7,8,9,10]\n",
    "print(my_list[6])"
   ]
  },
  {
   "cell_type": "code",
   "execution_count": null,
   "metadata": {},
   "outputs": [],
   "source": [
    "# The intent of this code is to remove numbers greater than 5 from my list.\n",
    "\n",
    "for item in my_list:\n",
    "    if item > 5:\n",
    "        my_list.remove(item)\n",
    "\n",
    "# ERROR: However, 7 and 9 remain because they were skipped as items were removed.\n",
    "print(my_list)"
   ]
  },
  {
   "cell_type": "markdown",
   "metadata": {},
   "source": [
    "One solution is to use a list comprehension."
   ]
  },
  {
   "cell_type": "code",
   "execution_count": null,
   "metadata": {},
   "outputs": [],
   "source": [
    "my_list = [1,2,3,4,5,6,7,8,9,10]\n",
    "\n",
    "# Only keep items in the list that are less than 6\n",
    "my_list = [item for item in my_list if item < 6]\n",
    "\n",
    "print(my_list)"
   ]
  },
  {
   "cell_type": "markdown",
   "metadata": {},
   "source": [
    "Another solution is to reverse the list. That way, if the last item (item 9) is deleted, it doesn't alter the indexes of the rest of the list."
   ]
  },
  {
   "cell_type": "code",
   "execution_count": null,
   "metadata": {},
   "outputs": [],
   "source": [
    "my_list = [1,2,3,4,5,6,7,8,9,10]\n",
    "\n",
    "# Reverse the list and delete items greater than 5\n",
    "for item in reversed(my_list):\n",
    "    if item > 5:\n",
    "        my_list.remove(item)\n",
    "        \n",
    "print(my_list)"
   ]
  },
  {
   "cell_type": "markdown",
   "metadata": {},
   "source": [
    "### Testing for membership\n",
    "\n",
    "Use the in keyword to test for list membership."
   ]
  },
  {
   "cell_type": "code",
   "execution_count": null,
   "metadata": {},
   "outputs": [],
   "source": [
    "print(\"Dallas\" in cities)\n",
    "print(\"Tuscaloosa\" in cities)"
   ]
  },
  {
   "cell_type": "markdown",
   "metadata": {},
   "source": [
    "### Iterating a list\n",
    "\n",
    "Use a for loop to iterate a list."
   ]
  },
  {
   "cell_type": "code",
   "execution_count": null,
   "metadata": {},
   "outputs": [],
   "source": [
    "# Loop through list\n",
    "for city in cities:\n",
    "    print(city)"
   ]
  },
  {
   "cell_type": "markdown",
   "metadata": {},
   "source": [
    "Use the len() function to determine how many items are in the list and use that within a range() function."
   ]
  },
  {
   "cell_type": "code",
   "execution_count": null,
   "metadata": {},
   "outputs": [],
   "source": [
    "for i in range(len(cities)):\n",
    "    print(cities[i],end=\" \")"
   ]
  },
  {
   "cell_type": "markdown",
   "metadata": {},
   "source": [
    "### List Concatenation\n"
   ]
  },
  {
   "cell_type": "code",
   "execution_count": null,
   "metadata": {},
   "outputs": [],
   "source": [
    "# Use the '+' operator to concatenate lists\n",
    "a = [1,2,3]\n",
    "b = [4,5,6]\n",
    "c = a + b # does not mutate 'a' or 'b'\n",
    "\n",
    "print(\"c = \", c)\n",
    "\n",
    "print(\"a = \", a)\n",
    "print(\"b = \", b)"
   ]
  },
  {
   "cell_type": "markdown",
   "metadata": {},
   "source": [
    "### Extending a list"
   ]
  },
  {
   "cell_type": "code",
   "execution_count": null,
   "metadata": {},
   "outputs": [],
   "source": [
    "print(\"list 'a' = \", a)\n",
    "print(\"list 'b' =\", b)\n",
    "\n",
    "a.extend(b) # This combines a and b, mutates a but not b\n",
    "\n",
    "print(\"list 'a' =\", a)\n",
    "print(\"list 'b' =\", b)\n",
    "print(c)"
   ]
  },
  {
   "cell_type": "code",
   "execution_count": null,
   "metadata": {},
   "outputs": [],
   "source": [
    "# Use the '*' operator to repeat items\n",
    "print(a * 3)"
   ]
  },
  {
   "cell_type": "markdown",
   "metadata": {},
   "source": [
    "### Slicing Lists\n",
    "You can return parts of a list using slicing operators. Other objects (e.g., strings and tuples) can also be sliced."
   ]
  },
  {
   "cell_type": "code",
   "execution_count": null,
   "metadata": {},
   "outputs": [],
   "source": [
    "# Slicing operations\n",
    "\n",
    "t = ['a', 'b','c','d','e','f','g']\n",
    "\n",
    "# return the 2nd and 3rd elements in t\n",
    "print(t[1:3])"
   ]
  },
  {
   "cell_type": "code",
   "execution_count": null,
   "metadata": {},
   "outputs": [],
   "source": [
    "# Omitting the first parameter tells the intepreter to start at the beginning\n",
    "print(t[:3])"
   ]
  },
  {
   "cell_type": "code",
   "execution_count": null,
   "metadata": {},
   "outputs": [],
   "source": [
    "# Omitting the second paramter tells the interpreter to continue to the end\n",
    "# start with the third element and return all elements to the end of the list\n",
    "print(t[3:])"
   ]
  },
  {
   "cell_type": "code",
   "execution_count": null,
   "metadata": {},
   "outputs": [],
   "source": [
    "# Get the last item\n",
    "print(\"Last item in the list = \", t[-1])"
   ]
  },
  {
   "cell_type": "code",
   "execution_count": null,
   "metadata": {},
   "outputs": [],
   "source": [
    "# Use Negative slicing to replace the last item in the ist\n",
    "t[-1] = 'watermelon'\n",
    "print(t)"
   ]
  },
  {
   "cell_type": "markdown",
   "metadata": {},
   "source": [
    "### Sorting Lists"
   ]
  },
  {
   "cell_type": "code",
   "execution_count": null,
   "metadata": {},
   "outputs": [],
   "source": [
    "# Use sorted() to display a sorted list but not mutate it.\n",
    "my_letters = ['n','r','y','x','a','w']\n",
    "\n",
    "print(\"sorted list = \", sorted(my_letters))\n",
    "print(\"my_letters = \", my_letters)"
   ]
  },
  {
   "cell_type": "code",
   "execution_count": null,
   "metadata": {},
   "outputs": [],
   "source": [
    "# Use the sort() method to sort the items in a list\n",
    "my_letters.sort()\n",
    "print(my_letters)"
   ]
  },
  {
   "cell_type": "code",
   "execution_count": null,
   "metadata": {},
   "outputs": [],
   "source": [
    "# Don't do this...sort() returns \"None\"\n",
    "my_letters = my_letters.sort() \n",
    "print(my_letters)"
   ]
  },
  {
   "cell_type": "code",
   "execution_count": null,
   "metadata": {},
   "outputs": [],
   "source": [
    "# Reverse a list\n",
    "my_letters.sort(reverse=True)\n",
    "print(my_letters)"
   ]
  },
  {
   "cell_type": "markdown",
   "metadata": {},
   "source": [
    "### Use a list to return more than one value from a function"
   ]
  },
  {
   "cell_type": "code",
   "execution_count": null,
   "metadata": {},
   "outputs": [],
   "source": [
    "# Use a list to return more than one value from a function\n",
    "def tip_options(amount):\n",
    "    # Use a list to return three tipping options (10%, 15%, 20%)\n",
    "    return[amount, amount*1.10, amount*1.15, amount*1.2]\n",
    "\n",
    "print(tip_options(30))\n",
    "print(type(tip_options(30)))"
   ]
  },
  {
   "cell_type": "markdown",
   "metadata": {},
   "source": [
    "### Working With Nested Lists"
   ]
  },
  {
   "cell_type": "code",
   "execution_count": null,
   "metadata": {},
   "outputs": [],
   "source": [
    "my_list = [['Ford','Chevrolet','Volkswagen'],\n",
    "           ['F150','Suburban','Passat'],\n",
    "           ['Big Bang Theory','Young Sheldon','Mindhunter']]\n",
    "\n",
    "print(my_list[0][1]) # row zero, item 2 (index 1)\n",
    "print(my_list[2][2]) # row two, item 3 (index 2)\n"
   ]
  },
  {
   "cell_type": "code",
   "execution_count": null,
   "metadata": {},
   "outputs": [],
   "source": [
    "# Use a list to swap values\n",
    "y = 5\n",
    "x = 10\n",
    "\n",
    "print('x =', x, 'y =', y)\n",
    "\n",
    "[x, y] = [y, x]\n",
    "\n",
    "print('x =', x, 'y =', y)"
   ]
  },
  {
   "cell_type": "markdown",
   "metadata": {
    "toc-hr-collapsed": true,
    "toc-nb-collapsed": true
   },
   "source": [
    "## Sets\n",
    "* Sets are unordered.\n",
    "* Set elements are unique. Duplicate elements are not allowed.\n",
    "* You may add or remove items from the set, but you cannot edit an item in a set.\n",
    "* Accessing items by index (e.g., myset[1]) is NOT supported.\n",
    "* Sets are denoted by curly braces.\n",
    "* Membership tests are more efficient using sets than lists or tuples.\n",
    "\n",
    "You can define a set using the set() function.b\n",
    "```python\n",
    "x = set(<iter>)\n",
    "```"
   ]
  },
  {
   "cell_type": "code",
   "execution_count": 4,
   "metadata": {},
   "outputs": [
    {
     "name": "stdout",
     "output_type": "stream",
     "text": [
      "{'a', 1, 'b', 'c'}\n",
      "['a', 'b', 1, 'c', 1]\n"
     ]
    }
   ],
   "source": [
    "my_list = ['a','b',1, 'c', 1]\n",
    "set2 = set(my_list)\n",
    "print(set2)\n",
    "print(my_list)"
   ]
  },
  {
   "cell_type": "markdown",
   "metadata": {},
   "source": [
    "You can also create a set using curly braces {}. However, you cannot create an empty set using a pair of curly braces like you can for a list."
   ]
  },
  {
   "cell_type": "code",
   "execution_count": 16,
   "metadata": {},
   "outputs": [
    {
     "name": "stdout",
     "output_type": "stream",
     "text": [
      "<class 'dict'>\n",
      "<class 'set'>\n"
     ]
    }
   ],
   "source": [
    "# INCORRECT\n",
    "my_set = {}  # <-- results in a dictionary, NOT a set\n",
    "print(type(my_set))\n",
    "\n",
    "# Instead use the set constructor\n",
    "my_set = set()\n",
    "print(type(my_set))"
   ]
  },
  {
   "cell_type": "code",
   "execution_count": null,
   "metadata": {},
   "outputs": [],
   "source": [
    "# Use curly braces to create a set\n",
    "my_set = {1,1, 6,7, 3, 5,5,5,5,5, 'red'}\n",
    "print(type(my_set))\n",
    "print(my_set)"
   ]
  },
  {
   "cell_type": "markdown",
   "metadata": {},
   "source": [
    "### Why do I care about sets?\n",
    "Sets in Python provide the same benefits as sets in mathematics. Sets contain a well-defined collection of distinct objects called elements. Using the set object enables you to efficiently perform set operations such as union and intersection.\n",
    "\n",
    "![](images/data_science_diagram.png) <br>\n",
    "(image source: https://towardsdatascience.com)"
   ]
  },
  {
   "cell_type": "markdown",
   "metadata": {},
   "source": [
    "### Creating sets\n",
    "Use curly braces to denote a set or use the set() constructor. If you use set(), you must provide an iterable as the argument."
   ]
  },
  {
   "cell_type": "code",
   "execution_count": 19,
   "metadata": {},
   "outputs": [],
   "source": [
    "# Persons with expertise in specific areas\n",
    "cs_expertise = {\"Bill\", \"Matt\", \"Alexandra\", \"Joe\", \"Dexter\"}\n",
    "stats_expertise = set([\"Dexter\", \"Subha\", \"Brad\", \"Bruce\"])\n",
    "business_expertise = {\"Kay\",\"Jonathan\",\"Dexter\",\"Suzanne\", \"Matt\"}"
   ]
  },
  {
   "cell_type": "markdown",
   "metadata": {},
   "source": [
    "You can also use the set() method to create a set. The argument for the set method must be an iterable."
   ]
  },
  {
   "cell_type": "code",
   "execution_count": null,
   "metadata": {},
   "outputs": [],
   "source": [
    "#Use the set() method to create a set, parameter must be <iter> (an iterable --e.g., a list)\n",
    "my_set2 = set(['foo', 'bar', 3.141, 'bar'])\n",
    "print(my_set2)"
   ]
  },
  {
   "cell_type": "code",
   "execution_count": null,
   "metadata": {},
   "outputs": [],
   "source": [
    "#Error creating tropical_fruits set using set() contructor...why?\n",
    "tropical_fruits = set(\"Guava\", \"Dragon Fruit\", \"Banana\",\"Banana\")\n",
    "temperate_fruits = {\"Apple\", \"Peach\", \"Plum\"}\n",
    "\n",
    "all_fruit = tropical_fruits.union(temperate_fruits)\n",
    "print(all_fruit)"
   ]
  },
  {
   "cell_type": "code",
   "execution_count": null,
   "metadata": {},
   "outputs": [],
   "source": [
    "# Who might be suited for Data Science (intersection of three topics)\n",
    "data_scientists = cs_expertise.intersection(stats_expertise, business_expertise)\n",
    "print(data_scientists)"
   ]
  },
  {
   "cell_type": "code",
   "execution_count": null,
   "metadata": {},
   "outputs": [],
   "source": [
    "#Empty sets are evaluated as False\n",
    "loch_ness_monsters = set()\n",
    "print(\"The set of Loch Ness Monsters is \" + str(bool(loch_ness_monsters)))\n",
    "print()\n",
    "\n",
    "#You can add, update, and remove items, but you cannot change items in a set\n",
    "loch_ness_monsters.add(\"Marvin\")\n",
    "print(\"Added Marvin to monster set...\")\n",
    "print(\"The set of Loch Ness Monsters is \" + str(bool(loch_ness_monsters)), loch_ness_monsters)\n",
    "print(\"The length of the monster set is \" + str(len(loch_ness_monsters)))"
   ]
  },
  {
   "cell_type": "code",
   "execution_count": null,
   "metadata": {},
   "outputs": [],
   "source": [
    "# Reduce this list of grades to only have unique values\n",
    "grades = {81,100,81,89,76,94,93,86,75,88,96,76,87,90,81,78,99,83,94,75,83,92,96,81,99,89,99,98,100,95,84,94,97,100,92,97,98,92,95,88,90,98,87,86,95,86,84,91,87,88,83,89,84,98,75,90,100,79,83,94,89,93,84,83,94,84,93,97,75,81,91,84,78,89,96,97,99,90,98,83,93,96,98,91,77,98,97,76,98,75,89,92,81,83,84,82,94,89,77,96,94,100,86,79,87,78,83,86,89,99,77,96,88,91,86,89,99,82,83,92,91,84,83,76,89,90,82,75,84,83,81,96,87,90,82,93,76,86,100,81,88,100,94,84,99,77,91,92,98,88,90,83,88}\n",
    "print(grades)"
   ]
  },
  {
   "cell_type": "code",
   "execution_count": null,
   "metadata": {},
   "outputs": [],
   "source": [
    "c_and_higher = set(range(75,101))\n",
    "\n",
    "missing_grades = grades.symmetric_difference(c_and_higher)\n",
    "\n",
    "print(\"What grades are missing from 75-100?: \" + str(missing_grades))"
   ]
  },
  {
   "cell_type": "markdown",
   "metadata": {},
   "source": [
    "## Dictionaries\n",
    "\n",
    "Think of dictionaries like a list, but with a flexible index. The List index must be an integer, but the index or keys used to associate values can be any immutable data type.\n",
    "\n",
    "Dictionaries are **unordered** and use key-value pairs to store and retrieve data. In other languages this structure might be called an *associative array*.\n"
   ]
  },
  {
   "cell_type": "markdown",
   "metadata": {},
   "source": [
    "### Creating dictionaries\n",
    "Use curly braces and a colon to indicate to the interpreter that you are creating a dictionary data structure. A key can be any immutable data type.\n",
    "\n",
    "Pretty Print is a module that displays dictionaries in a more human-readable format."
   ]
  },
  {
   "cell_type": "code",
   "execution_count": 36,
   "metadata": {},
   "outputs": [
    {
     "name": "stdout",
     "output_type": "stream",
     "text": [
      "{'2334': 'Greg Bott',\n",
      " '2335': 'John Gilbert',\n",
      " '2336': 'Bill Hampton',\n",
      " '2337': 'Joe Odom'}\n"
     ]
    }
   ],
   "source": [
    "import pprint as pp\n",
    "\n",
    "# The employee ID is associated with the employee name\n",
    "employees = {\"2334\":\"Greg Bott\", \"2335\":\"John Gilbert\", \"2336\":\"Bill Hampton\",\"2337\":\"Joe Odom\"}\n",
    "pp.pprint(employees)"
   ]
  },
  {
   "cell_type": "code",
   "execution_count": 42,
   "metadata": {},
   "outputs": [
    {
     "name": "stdout",
     "output_type": "stream",
     "text": [
      "<class 'dict'>\n",
      "{1000: {'children': ['John Davis', 'Piper', 'Will', 'Truett'],\n",
      "        'first_name': 'Greg',\n",
      "        'last_name': 'Bott',\n",
      "        'pets': {'Bama': 'dog', 'TJ': 'cat'},\n",
      "        'spouse': 'Amy'},\n",
      " 1001: {'children': ['CK', 'Alan', 'Devin', 'Tom'],\n",
      "        'first_name': 'Joe',\n",
      "        'last_name': 'Devlin',\n",
      "        'pets': {'Hammer': 'turtle', 'Orangey': 'gold fish'},\n",
      "        'spouse': 'Suzanne'}}\n"
     ]
    }
   ],
   "source": [
    "# Create an empty dictionary\n",
    "person = {}\n",
    "\n",
    "#Display the type of the 'person' variable\n",
    "print(type(person))\n",
    "\n",
    "\n",
    "person[1000] = {'first_name':'Greg', 'last_name':'Bott', 'spouse':'Amy', 'children':['John Davis', 'Piper', 'Will', 'Truett'], 'pets':{'Bama':'dog', 'TJ':'cat'}}\n",
    "person[1001] = {'first_name':'Joe', 'last_name':'Devlin', 'spouse':'Suzanne', 'children':['CK', 'Alan', 'Devin', 'Tom'], 'pets':{'Orangey':'gold fish', 'Hammer':'turtle'}}\n",
    "\n",
    "pp.pprint(person)"
   ]
  },
  {
   "cell_type": "markdown",
   "metadata": {},
   "source": [
    "## Accessing data in a dictionary\n",
    "Use ```dict[key]``` to return the value from the key-value pair. If the value doesn't exist, an exception is thrown. Use the get() method to retrieve keys and handle missing keys more gracefully.\n",
    "\n",
    "You can also use ```keys()``` to list the keys in your dictionaries, ```values``` to access the values of the key-value pair or ```items()``` to access both."
   ]
  },
  {
   "cell_type": "code",
   "execution_count": 46,
   "metadata": {},
   "outputs": [
    {
     "name": "stdout",
     "output_type": "stream",
     "text": [
      "Greg Bott\n"
     ]
    }
   ],
   "source": [
    "# Using the employee ID (key), display the name of the employee (value)\n",
    "print(employees[\"2334\"])"
   ]
  },
  {
   "cell_type": "code",
   "execution_count": 56,
   "metadata": {},
   "outputs": [
    {
     "name": "stdout",
     "output_type": "stream",
     "text": [
      "Joe\n"
     ]
    }
   ],
   "source": [
    "# Print the first_name attribute of the person 1001 key.\n",
    "print(person[1001]['first_name'])"
   ]
  },
  {
   "cell_type": "markdown",
   "metadata": {},
   "source": [
    "### Using the get() method\n",
    "Use the get() method to access keys. Using get() avoids a KeyError if the desired key does not exist. Instead, Python returns the None value."
   ]
  },
  {
   "cell_type": "code",
   "execution_count": 39,
   "metadata": {},
   "outputs": [
    {
     "name": "stdout",
     "output_type": "stream",
     "text": [
      "Greg Bott\n",
      "None\n"
     ]
    }
   ],
   "source": [
    "print(employees.get(\"2334\"))\n",
    "print(employees.get(\"9999\"))"
   ]
  },
  {
   "cell_type": "code",
   "execution_count": 38,
   "metadata": {},
   "outputs": [
    {
     "name": "stdout",
     "output_type": "stream",
     "text": [
      "no SS# provided\n"
     ]
    }
   ],
   "source": [
    "# You can also provide a default value if a key does not exist\n",
    "print(employees.get('ss_number', 'no SS# provided'))"
   ]
  },
  {
   "cell_type": "code",
   "execution_count": 4,
   "metadata": {},
   "outputs": [
    {
     "name": "stdout",
     "output_type": "stream",
     "text": [
      "['Mustang', 'Explorer', 'Focus']\n"
     ]
    }
   ],
   "source": [
    "# Use a List as values a dictionary\n",
    "make_model = {\"Ford\":[\"Mustang\",\"Explorer\",\"Focus\"],\"Volkswagen\":[\"Passat\",\"Jetta\",\"Beetle\"]}\n",
    "print(make_model[\"Ford\"])"
   ]
  },
  {
   "cell_type": "code",
   "execution_count": 6,
   "metadata": {},
   "outputs": [
    {
     "name": "stdout",
     "output_type": "stream",
     "text": [
      "Greg\n"
     ]
    }
   ],
   "source": [
    "print(person[1000]['first_name'])"
   ]
  },
  {
   "cell_type": "code",
   "execution_count": 7,
   "metadata": {},
   "outputs": [
    {
     "name": "stdout",
     "output_type": "stream",
     "text": [
      "{'children': ['CK', 'Alan', 'Devin', 'Tom'],\n",
      " 'first_name': 'Joe',\n",
      " 'last_name': 'Devlin',\n",
      " 'pets': {'Hammer': 'turtle', 'Orangey': 'gold fish'},\n",
      " 'spouse': 'Suzanne'}\n",
      "{'children': ['CK', 'Alan', 'Devin', 'Tom'],\n",
      " 'first_name': 'Joe',\n",
      " 'last_name': 'Devlin',\n",
      " 'pets': {'flying squirrel': 'Rocky'},\n",
      " 'spouse': 'Suzanne'}\n"
     ]
    }
   ],
   "source": [
    "# Replace values using a key\n",
    "pp.pprint(person[1001])\n",
    "person[1001]['pets'] = {'flying squirrel':'Rocky'}\n",
    "pp.pprint(person[1001])"
   ]
  },
  {
   "cell_type": "markdown",
   "metadata": {},
   "source": [
    "### Using a loop to examine a dictionary\n",
    "Although looping through a dictionary fails to take advantage the speed of a dictionary, sometimes you may find it useful. Remember that dictionaries contain a key / value pair and that you must loop through them differently than you would a list."
   ]
  },
  {
   "cell_type": "code",
   "execution_count": 50,
   "metadata": {},
   "outputs": [
    {
     "name": "stdout",
     "output_type": "stream",
     "text": [
      "2334\n",
      "2335\n",
      "2336\n",
      "2337\n"
     ]
    }
   ],
   "source": [
    "# Attempting to interate through a dictionary as you would a list \n",
    "#   will yield only the keys\n",
    "for x in employees:\n",
    "    print(x)"
   ]
  },
  {
   "cell_type": "code",
   "execution_count": 52,
   "metadata": {},
   "outputs": [
    {
     "name": "stdout",
     "output_type": "stream",
     "text": [
      "2334 Greg Bott\n",
      "2335 John Gilbert\n",
      "2336 Bill Hampton\n",
      "2337 Joe Odom\n"
     ]
    }
   ],
   "source": [
    "# Instead, use the items() method to return both the key and the value\n",
    "for x, y in employees.items(): # x = key; y = value\n",
    "    print(x,y) "
   ]
  },
  {
   "cell_type": "markdown",
   "metadata": {},
   "source": [
    "### Using a loop to add values to a dictionary.\n",
    "So far we have manually added items to a dictionary. Most often you will add items progamatically (e.g., using a loop) rather than manually. Below is part of the code I use find duplicate files using an MD5 hash. A hash is a one-way algorithm applied to an object that results in a fixed-length string that uniquely identifies that object.\n",
    "\n",
    "We'll use the os module to access the file system and the hashlib to apply the MD5 algorithm to the files and then store them in a dictionary using the MD5 value as the key."
   ]
  },
  {
   "cell_type": "code",
   "execution_count": 8,
   "metadata": {},
   "outputs": [
    {
     "name": "stdout",
     "output_type": "stream",
     "text": [
      "{'074ee8153a07221487e17c000e4ebdcc': 'SQL_Alchemy_ORM.ipynb',\n",
      " '16ca058e744f4ba3ec97c3643c879e0f': 'demofile.txt',\n",
      " '327cba190668447db87feb5f6785aec9': 'requirements.txt',\n",
      " '32b361cef0bafefc9583625d63c3e0ec': 'Untitled1.ipynb',\n",
      " '511d0afe87de9f411a04d8130e5c9ae3': 'Python fundamentals.ipynb',\n",
      " '56cf96edab6a534d05beb7790247666d': 'Pandas_Fundamentals.ipynb',\n",
      " '666fa5b761b9bd19c780ef3af27774eb': 'Numpy Fundamentals.ipynb',\n",
      " '750f62e8b5cce295a6621795b9cd41d6': 'README.md',\n",
      " 'af3d09004a3c9e832f0f59733e1058a6': '.gitignore',\n",
      " 'c78bf211e7cbbced3ded56b2ad71e218': 'angie.xlsx',\n",
      " 'd67a1bfecd5b02e57e35474cdcd345db': 'AngieVenmoPmts.ipynb'}\n"
     ]
    }
   ],
   "source": [
    "import os\n",
    "import hashlib\n",
    "import pprint as pp\n",
    "\n",
    "# Create a blank dictionary\n",
    "os_files = {}\n",
    "\n",
    "# Hash Function\n",
    "def hashfile(path, blocksize=65536):\n",
    "    file_to_hash = open(path, 'rb')\n",
    "    hasher = hashlib.md5()\n",
    "    buf = file_to_hash.read(blocksize)\n",
    "    while len(buf) > 0:\n",
    "        hasher.update(buf)\n",
    "        buf = file_to_hash.read(blocksize)\n",
    "    file_to_hash.close()\n",
    "    return hasher.hexdigest()\n",
    "\n",
    "for file in os.listdir():\n",
    "    # Use error handling to avoid file permission issues\n",
    "    try:\n",
    "        # Use the hash value returned from the hashfile() function as the key and append the file name to it.\n",
    "        os_files[hashfile(file)] = file\n",
    "    except:\n",
    "        pass\n",
    "    \n",
    "# Display the Dictionary\n",
    "pp.pprint(os_files)"
   ]
  },
  {
   "cell_type": "markdown",
   "metadata": {},
   "source": [
    "### Check for Values in a Dictionary\n",
    "\n",
    "To determine if a value is present within a key, us the *in* keyword."
   ]
  },
  {
   "cell_type": "code",
   "execution_count": 9,
   "metadata": {},
   "outputs": [
    {
     "name": "stdout",
     "output_type": "stream",
     "text": [
      "True\n",
      "False\n"
     ]
    }
   ],
   "source": [
    "print(\"Focus\" in make_model[\"Ford\"])\n",
    "print(\"Explorer II\" in make_model[\"Ford\"])"
   ]
  },
  {
   "cell_type": "markdown",
   "metadata": {},
   "source": [
    "### Access Specific item in key value\n",
    "\n",
    "Individual values associated with a key may be accessed by an index value."
   ]
  },
  {
   "cell_type": "code",
   "execution_count": null,
   "metadata": {},
   "outputs": [],
   "source": [
    "# Print the third value associated with the Ford key.\n",
    "print(make_model['Ford'][2])"
   ]
  },
  {
   "cell_type": "markdown",
   "metadata": {},
   "source": [
    "### Check for Keys in a Dictionary"
   ]
  },
  {
   "cell_type": "code",
   "execution_count": null,
   "metadata": {},
   "outputs": [],
   "source": [
    "search_key = \"Focus\"\n",
    "if search_key in make_model:\n",
    "    print(f\"'{search_key}' key found in dictionary!\")\n",
    "else:\n",
    "    print(f\"'{search_key}' key NOT found in dictionary.\")"
   ]
  },
  {
   "cell_type": "markdown",
   "metadata": {},
   "source": [
    "### Attempting to Access Keys that Don't exist\n",
    "If you attempt to access a key that does not exist within the dictionary, Python will raise an exception\n"
   ]
  },
  {
   "cell_type": "code",
   "execution_count": 70,
   "metadata": {},
   "outputs": [],
   "source": [
    "\n",
    "person[1000] = {'first_name':'Greg', 'last_name':'Bott', 'spouse':'Amy', 'children':['John Davis', 'Piper', 'Will', 'Truett'], 'pets':{'Bama':'dog', 'TJ':'cat'}}\n",
    "person[1001] = {'first_name':'Joe', 'last_name':'Devlin', 'spouse':'Suzanne', 'children':['CK', 'Alan', 'Devin', 'Tom'], 'pets':{'Orangey':'gold fish', 'Hammer':'turtle'}}\n"
   ]
  },
  {
   "cell_type": "code",
   "execution_count": 23,
   "metadata": {},
   "outputs": [
    {
     "ename": "KeyError",
     "evalue": "'fname'",
     "output_type": "error",
     "traceback": [
      "\u001b[1;31m---------------------------------------------------------------------------\u001b[0m",
      "\u001b[1;31mKeyError\u001b[0m                                  Traceback (most recent call last)",
      "\u001b[1;32m<ipython-input-23-762aa3317490>\u001b[0m in \u001b[0;36m<module>\u001b[1;34m\u001b[0m\n\u001b[0;32m      1\u001b[0m \u001b[1;31m# ERROR: KeyError (key does not exist in the dictionary)\u001b[0m\u001b[1;33m\u001b[0m\u001b[1;33m\u001b[0m\u001b[1;33m\u001b[0m\u001b[0m\n\u001b[1;32m----> 2\u001b[1;33m \u001b[0mprint\u001b[0m\u001b[1;33m(\u001b[0m\u001b[0mperson\u001b[0m\u001b[1;33m[\u001b[0m\u001b[1;34m'fname'\u001b[0m\u001b[1;33m]\u001b[0m\u001b[1;33m)\u001b[0m\u001b[1;33m\u001b[0m\u001b[1;33m\u001b[0m\u001b[0m\n\u001b[0m\u001b[0;32m      3\u001b[0m \u001b[0mprint\u001b[0m\u001b[1;33m(\u001b[0m\u001b[0mperson\u001b[0m\u001b[1;33m[\u001b[0m\u001b[1;34m'ss_number'\u001b[0m\u001b[1;33m]\u001b[0m\u001b[1;33m)\u001b[0m\u001b[1;33m\u001b[0m\u001b[1;33m\u001b[0m\u001b[0m\n",
      "\u001b[1;31mKeyError\u001b[0m: 'fname'"
     ]
    }
   ],
   "source": [
    "# ERROR: KeyError (key does not exist in the dictionary)\n",
    "print(person['fname'])\n",
    "print(person['ss_number'])"
   ]
  },
  {
   "cell_type": "markdown",
   "metadata": {},
   "source": [
    "### Updating dictionary values\n",
    "Assigning a value to an existing key/value pair will replace the value.\n",
    "\n",
    "You can also use the update method to replace multiple values in a dictionary and add new values.\n",
    "\n",
    "```update()``` takes a dictionary as its parameter."
   ]
  },
  {
   "cell_type": "raw",
   "metadata": {},
   "source": [
    "pp.pprint(person)"
   ]
  },
  {
   "cell_type": "code",
   "execution_count": 34,
   "metadata": {},
   "outputs": [
    {
     "name": "stdout",
     "output_type": "stream",
     "text": [
      "{1000: {'children': ['John Davis', 'Piper', 'Will', 'Truett'],\n",
      "        'first_name': 'Gregory',\n",
      "        'last_name': 'Bott',\n",
      "        'middle': 'Hamilton',\n",
      "        'pets': {'Bama': 'dog', 'TJ': 'cat'},\n",
      "        'spouse': 'Amy',\n",
      "        'ss_number': '123-45-6789'},\n",
      " 1001: {'children': ['CK', 'Alan', 'Devin', 'Tom'],\n",
      "        'first_name': 'Joe',\n",
      "        'last_name': 'Devlin',\n",
      "        'pets': {'Hammer': 'turtle', 'Orangey': 'gold fish'},\n",
      "        'spouse': 'Suzanne'}}\n"
     ]
    }
   ],
   "source": [
    "person[1000].update({'first_name':'Gregory','ss_number':'123-45-6789','middle':'Hamilton'})\n",
    "pp.pprint(person)"
   ]
  },
  {
   "cell_type": "code",
   "execution_count": 72,
   "metadata": {},
   "outputs": [
    {
     "name": "stdout",
     "output_type": "stream",
     "text": [
      "{'children': ['CK', 'Alan', 'Devin', 'Tom', 'Sally'],\n",
      " 'first_name': 'Joe',\n",
      " 'last_name': 'Devlin',\n",
      " 'pets': {'Hammer': 'turtle', 'Orangey': 'gold fish'},\n",
      " 'spouse': 'Suzanne'}\n"
     ]
    }
   ],
   "source": [
    "# Use the append() method of a key to append a value\n",
    "#   Here we are adding Sally to Joe Devlin's children\n",
    "person[1001]['children'].append('Sally')\n",
    "pp.pprint(person[1001])"
   ]
  },
  {
   "cell_type": "markdown",
   "metadata": {},
   "source": [
    "### Removing an item from the dictionary\n",
    "You can use del or pop to remove items from a dictionary. Just as in a list, ```pop``` returns the value deleted that you can store in a variable."
   ]
  },
  {
   "cell_type": "code",
   "execution_count": null,
   "metadata": {},
   "outputs": [],
   "source": [
    "del person['pets']\n",
    "print(person)"
   ]
  },
  {
   "cell_type": "code",
   "execution_count": null,
   "metadata": {},
   "outputs": [],
   "source": [
    "print(person)\n",
    "ss_number = person.pop('ss_number')\n",
    "print(ss_number)"
   ]
  },
  {
   "cell_type": "markdown",
   "metadata": {},
   "source": [
    "### Clear a dictionary\n",
    "Use the clear() method to empty the contents of a dictionary."
   ]
  },
  {
   "cell_type": "code",
   "execution_count": null,
   "metadata": {},
   "outputs": [],
   "source": [
    "print(person)\n",
    "person.clear()\n",
    "print(person)"
   ]
  },
  {
   "cell_type": "markdown",
   "metadata": {
    "toc-hr-collapsed": true,
    "toc-nb-collapsed": true
   },
   "source": [
    "# Regular Expressions\n",
    "RegEx or regular expressions is a sequence of characters that match other strings or sets of strings, using a specialized syntax pattern. Python has a built-in package called re, which can be used to work with regular expressions. To use the re package, import re."
   ]
  },
  {
   "cell_type": "markdown",
   "metadata": {},
   "source": [
    "## Raw Strings\n",
    "\n",
    "To avoid Python escaping the RegEx patterns, prefix the patter with 'r'."
   ]
  },
  {
   "cell_type": "markdown",
   "metadata": {},
   "source": [
    "## Regex Cheat Sheet\n",
    "\n",
    "source: https://regexone.com\n",
    "\n",
    "For an excellent interactive tutorial, go to https://regexone.com/lesson/introduction_abcs\n",
    "\n",
    "To test and learn more about RegEx, https://regexr.com/ is also a helpful site.\n",
    "\n",
    "abc…\tLetters<br>\n",
    "123…\tDigits<br>\n",
    "\\d\tAny Digit<br>\n",
    "\\D\tAny Non-digit character<br>\n",
    ".\tAny Character<br>\n",
    "\\.\tPeriod<br>\n",
    "[abc]\tOnly a, b, or c<br>\n",
    "[^abc]\tNot a, b, nor c<br>\n",
    "[a-z]\tCharacters a to z<br>\n",
    "[0-9]\tNumbers 0 to 9<br>\n",
    "\\w\tAny Alphanumeric character<br>\n",
    "\\W\tAny Non-alphanumeric character<br>\n",
    "{m}\tm Repetitions<br>\n",
    "{m,n}\tm to n Repetitions<br>\n",
    "\\*\tZero or more repetitions<br>\n",
    "\\+\tOne or more repetitions<br>\n",
    "?\tOptional character<br>\n",
    "\\s\tAny Whitespace<br>\n",
    "\\S\tAny Non-whitespace character<br>\n",
    "^…$\tStarts and ends<br>\n",
    "(…)\tCapture Group<br>\n",
    "(a(bc))\tCapture Sub-group<br>\n",
    "(.*)\tCapture all<br>\n",
    "(abc|def)\tMatches abc or def<br>"
   ]
  },
  {
   "cell_type": "code",
   "execution_count": null,
   "metadata": {},
   "outputs": [],
   "source": [
    "# Import the built-in Regular Expressions package\n",
    "import re\n",
    "\n",
    "email_header = \"From stephen.marquard@uct.ac.za Sat Jan 5 09:14:16 2008 Return-Path: <postmaster@collab.sakaiproject.org> for <source@collab.sakaiproject.org>;Received: (from apache@localhost) Author:  stephen.marquard@uct.ac.za\"\n",
    "\n",
    "found_text = re.findall('\\d\\d:\\d\\d:\\d\\d', email_header)\n",
    "print(found_text)\n",
    "print(\"found text is of type\",type(found_text))\n",
    "\n",
    "author = re.findall('Author:\\s+\\S+', email_header)\n",
    "print(author)"
   ]
  },
  {
   "cell_type": "code",
   "execution_count": null,
   "metadata": {},
   "outputs": [],
   "source": [
    "mboxfile = open(\"mbox.txt\", \"r\")\n",
    "\n",
    "for line in mboxfile:\n",
    "    line = line.rstrip()\n",
    "    \n",
    "    # Search for lines that start with 'F', followed by 2 characters, followed by 'm:'\n",
    "    if re.search('F..m:', line):        \n",
    "        print(line)\n",
    "mboxfile.close()"
   ]
  },
  {
   "cell_type": "code",
   "execution_count": null,
   "metadata": {},
   "outputs": [],
   "source": [
    "# Store all email addresses into a list\n",
    "mboxfile = open(\"mbox.txt\", \"r\")\n",
    "all_emails_list = []\n",
    "for line in mboxfile:\n",
    "    line = line.rstrip()\n",
    "    x = re.findall('\\S+@\\S+\\.\\D\\D\\D', line)\n",
    "    if len(x) > 0:\n",
    "        all_emails_list.extend(x)\n",
    "print(all_emails_list)"
   ]
  },
  {
   "cell_type": "code",
   "execution_count": null,
   "metadata": {},
   "outputs": [],
   "source": [
    "mboxfile = open(\"mbox.txt\", \"r\")\n",
    "all_emails_list = []\n",
    "for line in mboxfile:\n",
    "    line = line.rstrip()\n",
    "    x = re.findall('rev=.....', line)\n",
    "    if len(x) > 0:\n",
    "        all_emails_list.extend(x)\n",
    "\n",
    "print(all_emails_list)\n",
    "all_revs_set = set(all_emails_list)\n",
    "print(len(all_revs_set))"
   ]
  }
 ],
 "metadata": {
  "kernelspec": {
   "display_name": "Python 3",
   "language": "python",
   "name": "python3"
  },
  "language_info": {
   "codemirror_mode": {
    "name": "ipython",
    "version": 3
   },
   "file_extension": ".py",
   "mimetype": "text/x-python",
   "name": "python",
   "nbconvert_exporter": "python",
   "pygments_lexer": "ipython3",
   "version": "3.7.6"
  },
  "toc-autonumbering": true,
  "toc-showcode": false,
  "toc-showmarkdowntxt": true,
  "toc-showtags": false
 },
 "nbformat": 4,
 "nbformat_minor": 4
}
