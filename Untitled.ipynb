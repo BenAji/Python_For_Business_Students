{
 "cells": [
  {
   "cell_type": "markdown",
   "metadata": {},
   "source": [
    "## Working with JSON\n",
    "First, how is JSON pronounced? Some pronounce as 'Jason', as in Jason Bourne. I prefer Jay-sahn, but feel free to pronounce it however you like.\n",
    "\n",
    "JSON stands for Java Script Object Notation and is an efficient format for storing and transporting data. JSON is often the preferred format for sending data to, and receiving data from, a web server.\n",
    "\n",
    "JSON are very similar in format to Python with a few exceptions. Boolean values are lowercase instead of title case, instead of None, JSON uses null. All keys are strings and values can be  strings, numbers, NULL, lists, or JSON. \n",
    "\n",
    "Python provides a JSON module in the standard library.\n",
    "\n",
    "When JSON is converted to a dictionary (or from a dictionary to JSON), the following is observed:\n",
    "\n",
    "\n",
    "| Python      | JSON   |\n",
    "|-------------|--------|\n",
    "| dict        | object |\n",
    "| list, tuple | array  |\n",
    "| str         | string |\n",
    "| int, long, float | number |\n",
    "| True | true |\n",
    "| False | false |\n",
    "| None | null |"
   ]
  },
  {
   "cell_type": "code",
   "execution_count": 18,
   "metadata": {},
   "outputs": [
    {
     "name": "stdout",
     "output_type": "stream",
     "text": [
      "This is the first line of the file.\n",
      "\n",
      "asedf\n",
      "\n",
      "a\n",
      "\n",
      "dsfa\n",
      "\n",
      "sdf\n",
      "\n",
      "adf\n",
      "\n",
      "a\n",
      "\n",
      "dfa\n",
      "\n",
      "sg\n",
      "\n",
      "adg\n",
      "\n",
      "5\n"
     ]
    }
   ],
   "source": [
    "with open(\"demofile.txt\", 'r') as file:\n",
    "    for x in range(0,10):\n",
    "        print(file.readline())\n",
    "with open(\"demofile.txt\", 'r') as file2:\n",
    "    lines_in_files = len(file.readlines())\n",
    "    print(lines_in_files)\n",
    "    "
   ]
  },
  {
   "cell_type": "code",
   "execution_count": null,
   "metadata": {},
   "outputs": [],
   "source": []
  },
  {
   "cell_type": "code",
   "execution_count": 1,
   "metadata": {},
   "outputs": [],
   "source": [
    "# json is part of the standard library, so no need to install anything\n",
    "import json\n"
   ]
  },
  {
   "cell_type": "code",
   "execution_count": 22,
   "metadata": {},
   "outputs": [
    {
     "ename": "NameError",
     "evalue": "name 'sample_json' is not defined",
     "output_type": "error",
     "traceback": [
      "\u001b[1;31m---------------------------------------------------------------------------\u001b[0m",
      "\u001b[1;31mNameError\u001b[0m                                 Traceback (most recent call last)",
      "\u001b[1;32m<ipython-input-22-d3a95dd808fc>\u001b[0m in \u001b[0;36m<module>\u001b[1;34m\u001b[0m\n\u001b[0;32m      1\u001b[0m \u001b[1;31m# To load JSON data from a string use json.loads(s) (the 's' in loads is for string)\u001b[0m\u001b[1;33m\u001b[0m\u001b[1;33m\u001b[0m\u001b[1;33m\u001b[0m\u001b[0m\n\u001b[1;32m----> 2\u001b[1;33m \u001b[0mquiz\u001b[0m \u001b[1;33m=\u001b[0m \u001b[0mjson\u001b[0m\u001b[1;33m.\u001b[0m\u001b[0mloads\u001b[0m\u001b[1;33m(\u001b[0m\u001b[0msample_json\u001b[0m\u001b[1;33m)\u001b[0m\u001b[1;33m\u001b[0m\u001b[1;33m\u001b[0m\u001b[0m\n\u001b[0m",
      "\u001b[1;31mNameError\u001b[0m: name 'sample_json' is not defined"
     ]
    }
   ],
   "source": [
    "# To load JSON data from a string use json.loads(s) (the 's' in loads is for string)\n",
    "quiz = json.loads(sample_json)"
   ]
  },
  {
   "cell_type": "code",
   "execution_count": 21,
   "metadata": {},
   "outputs": [
    {
     "name": "stdout",
     "output_type": "stream",
     "text": [
      "This dataset contains the spirits purchase information of Iowa Class “E” liquor licensees by product and date of purchase from January 1, 2014 to current.  The dataset can be used to analyze total spirits sales in Iowa of individual products at the store level.\n"
     ]
    }
   ],
   "source": [
    "# To load JSON data from a file using json.load(f)\n",
    "\n",
    "with open(r'files\\IA_liquor_metadata.json', encoding='utf-8') as f:\n",
    "    json_metadata = json.load(f)\n",
    "print(json_metadata['description'])"
   ]
  },
  {
   "cell_type": "code",
   "execution_count": null,
   "metadata": {},
   "outputs": [],
   "source": [
    "# To write data to a JSON file, use json.dump(f)"
   ]
  }
 ],
 "metadata": {
  "kernelspec": {
   "display_name": "Python 3",
   "language": "python",
   "name": "python3"
  },
  "language_info": {
   "codemirror_mode": {
    "name": "ipython",
    "version": 3
   },
   "file_extension": ".py",
   "mimetype": "text/x-python",
   "name": "python",
   "nbconvert_exporter": "python",
   "pygments_lexer": "ipython3",
   "version": "3.7.6"
  }
 },
 "nbformat": 4,
 "nbformat_minor": 4
}
