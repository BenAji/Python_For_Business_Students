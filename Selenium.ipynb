{
 "cells": [
  {
   "cell_type": "markdown",
   "metadata": {},
   "source": [
    "# Using Selenium to Control the Browser\n",
    "Use ```selenium``` in combination with a browser driver to control a browser. This combination of driver and Selenium is one method to test web browsers and also helpful when it is difficult or impossible to scrape data using only Beautiful soup and requests."
   ]
  },
  {
   "cell_type": "markdown",
   "metadata": {},
   "source": [
    "## Get Selenium-Controlled Instance of Chrome Browser\n",
    "Below is an example of how you would programmatically send login information to MyBama.\n",
    "\n",
    "First, find copy the url and then import web driver, start an instance of Chrome and then pass the URL using the ```get``` method."
   ]
  },
  {
   "cell_type": "code",
   "execution_count": 19,
   "metadata": {},
   "outputs": [],
   "source": [
    "from selenium import webdriver\n",
    "browser = webdriver.Chrome()\n",
    "browser.get('https://login.ua.edu/cas/login?service=https%3A%2F%2Fmybama.ua.edu%2Fc%2Fportal%2Flogin')"
   ]
  },
  {
   "cell_type": "markdown",
   "metadata": {},
   "source": [
    "## Locate the target elements\n",
    "To log into MyBama you'll need to enter an ID and password. Use the Inspect Element of your browser to locate the specific element that provides the input box for ID and password. \n",
    "\n",
    "For example, drill down the hierarchy until only the myBama ID box is highlighted when you are mousing over its corresponding element.\n",
    "```HTML\n",
    "<input class=\"required\" id=\"username\" size=\"25\" tabindex=\"1\" type=\"text\" accesskey=\"u\" autocomplete=\"off\" \n",
    "       autocorrect=\"off\" autocapitalize=\"off\" spellcheck=\"false\" name=\"username\" value=\"\">\n",
    "```\n",
    "Notice the tag name (input) and the id (username). We can use these to uniquely locate the form box and place a value inside of it.\n",
    "\n",
    "However, before we locate that exact tag, let's look at some methods to find elements."
   ]
  },
  {
   "cell_type": "markdown",
   "metadata": {},
   "source": [
    "# Finding Elements on the Page\n",
    "WebDriver objects provide two primary methods for locating elements.\n",
    "1. find_element (singular)\n",
    "2. find_elements (plural)\n",
    "\n",
    "Using the singular option returns the *first* element on the page. Using the plural option returns a list of WebElement_* objects.\n",
    "\n",
    "For example, using the myBama login page, we can locate the following."
   ]
  },
  {
   "cell_type": "code",
   "execution_count": 20,
   "metadata": {},
   "outputs": [
    {
     "name": "stdout",
     "output_type": "stream",
     "text": [
      "\n"
     ]
    }
   ],
   "source": [
    "# Locate the first div tag and print the div tag id\n",
    "print(browser.find_element_by_tag_name('div').get_attribute(\"id\"))"
   ]
  },
  {
   "cell_type": "code",
   "execution_count": 21,
   "metadata": {},
   "outputs": [
    {
     "name": "stdout",
     "output_type": "stream",
     "text": [
      "username\n"
     ]
    }
   ],
   "source": [
    "# Locate the first input tag and print the tag id\n",
    "print(browser.find_element_by_tag_name('input').get_attribute(\"id\"))"
   ]
  },
  {
   "cell_type": "code",
   "execution_count": null,
   "metadata": {},
   "outputs": [],
   "source": [
    "# Locate all div tags and put them in a list then print the text attribute\n",
    "div_tags = browser.find_elements_by_tag_name('div')\n",
    "for tag in div_tags:\n",
    "    print(tag.text, sep=\" \")"
   ]
  },
  {
   "cell_type": "markdown",
   "metadata": {},
   "source": [
    "### Find Elements using CSS Selector\n",
    "You can also use the CSS selector notation to locate elements. One way to obtain the CSS selector is to use the Inspect feature of your browser, point to Copy and then choose Selector or CSS selector (depending on which browser you are using)."
   ]
  },
  {
   "cell_type": "code",
   "execution_count": 23,
   "metadata": {},
   "outputs": [
    {
     "name": "stdout",
     "output_type": "stream",
     "text": [
      "password\n"
     ]
    }
   ],
   "source": [
    "print(browser.find_element_by_css_selector('#password').get_attribute(\"name\"))"
   ]
  },
  {
   "cell_type": "markdown",
   "metadata": {},
   "source": [
    "## Find element by ID"
   ]
  },
  {
   "cell_type": "code",
   "execution_count": 24,
   "metadata": {},
   "outputs": [
    {
     "name": "stdout",
     "output_type": "stream",
     "text": [
      "password\n"
     ]
    }
   ],
   "source": [
    "print(browser.find_element_by_id('password').get_attribute(\"name\"))"
   ]
  },
  {
   "cell_type": "markdown",
   "metadata": {},
   "source": [
    "## Find Elements by Link and partial Link"
   ]
  },
  {
   "cell_type": "code",
   "execution_count": null,
   "metadata": {},
   "outputs": [],
   "source": [
    "links = browser.find_elements_by_partial_link_text('Student')\n",
    "for link in links:\n",
    "    print(link.text)"
   ]
  },
  {
   "cell_type": "markdown",
   "metadata": {},
   "source": [
    "## Exceptions when locating Elements\n",
    "If you attempt to locate an element that does not exist, Python will raise a ```NoSuchElementException``` error. To trap that error, first import it from selenium.common.exceptions and then use a try...except block. You could also trap it generically, of course (e.g., just a try...except block without using NoSuchElementException)."
   ]
  },
  {
   "cell_type": "code",
   "execution_count": null,
   "metadata": {},
   "outputs": [],
   "source": [
    "print(browser.find_element_by_id('duo_password').get_attribute(\"name\"))"
   ]
  },
  {
   "cell_type": "code",
   "execution_count": null,
   "metadata": {},
   "outputs": [],
   "source": [
    "from selenium.common.exceptions import NoSuchElementException\n",
    "\n",
    "try:\n",
    "    print(browser.find_element_by_id('duo_password').get_attribute(\"name\"))\n",
    "except NoSuchElementException as no_element_err:\n",
    "    print(no_element_err)\n",
    "    "
   ]
  },
  {
   "cell_type": "code",
   "execution_count": null,
   "metadata": {},
   "outputs": [],
   "source": [
    "import json\n",
    "with open('info.json', 'r') as filehandle:\n",
    "    credentials = json.load(filehandle)"
   ]
  },
  {
   "cell_type": "markdown",
   "metadata": {},
   "source": [
    "## Check if an element is visible\n",
    "For elements that are present on the page, you can check whether or not they are displayed to the user. Note that if you attempt to check if a non-existent element is displayed, you'll still raise a NoSuchElementException error."
   ]
  },
  {
   "cell_type": "code",
   "execution_count": null,
   "metadata": {},
   "outputs": [],
   "source": [
    "browser.find_element_by_id('password').is_displayed()"
   ]
  },
  {
   "cell_type": "markdown",
   "metadata": {},
   "source": [
    "# Clicking WebElement objects\n",
    "WebElement objects returned from the find_element_* and find_elements_* methods have a click() method that simulates a mouse click on that element. For example, we can click the LOGIN button prior to providing credentials to test how it responds."
   ]
  },
  {
   "cell_type": "code",
   "execution_count": null,
   "metadata": {},
   "outputs": [],
   "source": [
    "browser.find_element_by_css_selector('#fm1 > section.row.btn-row > input.btn.btn-submit.btn-block').click()"
   ]
  },
  {
   "cell_type": "markdown",
   "metadata": {},
   "source": [
    "# Filling Out and Submitting Forms\n",
    "To send text to input elements on a form, first find the element then invoke the send_keys method passing the text you want to enter into the form field."
   ]
  },
  {
   "cell_type": "code",
   "execution_count": 29,
   "metadata": {},
   "outputs": [],
   "source": [
    "browser.find_element_by_id('username').clear()"
   ]
  },
  {
   "cell_type": "code",
   "execution_count": 25,
   "metadata": {},
   "outputs": [],
   "source": [
    "browser.find_element_by_id('username').send_keys('gjbott')"
   ]
  },
  {
   "cell_type": "code",
   "execution_count": null,
   "metadata": {},
   "outputs": [],
   "source": [
    "browser.find_element_by_id('username').clear()"
   ]
  },
  {
   "cell_type": "code",
   "execution_count": 28,
   "metadata": {},
   "outputs": [],
   "source": [
    "browser.find_element_by_id('username').send_keys('hello')\n",
    "browser.find_element_by_id('password').send_keys(credentials['Password'])"
   ]
  },
  {
   "cell_type": "markdown",
   "metadata": {},
   "source": [
    "# Log In to MyBama using Selenium\n",
    "So if we put all this together, we can use selenium to log into MyBama."
   ]
  },
  {
   "cell_type": "code",
   "execution_count": null,
   "metadata": {},
   "outputs": [],
   "source": [
    "browser."
   ]
  },
  {
   "cell_type": "code",
   "execution_count": null,
   "metadata": {},
   "outputs": [],
   "source": [
    "import time\n",
    "browser.find_element_by_name('submit').click()\n",
    "time.sleep(15)"
   ]
  },
  {
   "cell_type": "markdown",
   "metadata": {},
   "source": [
    "# Sending Special Keys\n",
    "Selenium also supports sending special keys such as directional keys (UP, DOWN, RIGHT, LEFT), as well as the ESCAPE, DELETE, TAB, BACK_SPACE, HOME, END, PAGE_DOWN, and PAGE_UP keys."
   ]
  },
  {
   "cell_type": "code",
   "execution_count": null,
   "metadata": {},
   "outputs": [],
   "source": [
    "# First, get an element on the page\n",
    "from selenium.webdriver.common.keys import Keys\n",
    "htmlElem = browser.find_element_by_tag_name('html')\n",
    "htmlElem.send_keys(Keys.END)"
   ]
  },
  {
   "cell_type": "markdown",
   "metadata": {},
   "source": [
    "# Delaying actions\n",
    "Automated actions happen very quickly. Sometimes too quickly for a browser to handle. There are several methods to force your browser to wait. One simple method is to sleep for X number of seconds."
   ]
  },
  {
   "cell_type": "code",
   "execution_count": null,
   "metadata": {},
   "outputs": [],
   "source": [
    "import time\n",
    "htmlElem.send_keys(Keys.HOME)\n",
    "time.sleep(2) # Wait 2 seconds\n",
    "htmlElem.send_keys(Keys.END)"
   ]
  },
  {
   "cell_type": "markdown",
   "metadata": {},
   "source": [
    "## Clicking Browser Buttons\n",
    "You may also want to use the standard Back, Forward, Refresh and Quit buttons on a browser."
   ]
  },
  {
   "cell_type": "code",
   "execution_count": null,
   "metadata": {},
   "outputs": [],
   "source": [
    "# Find and click on the libary link\n",
    "library_link = browser.find_element_by_link_text('Library')\n",
    "library_link.click()"
   ]
  },
  {
   "cell_type": "code",
   "execution_count": null,
   "metadata": {},
   "outputs": [],
   "source": [
    "# Go back\n",
    "browser.back()"
   ]
  },
  {
   "cell_type": "code",
   "execution_count": null,
   "metadata": {},
   "outputs": [],
   "source": []
  }
 ],
 "metadata": {
  "kernelspec": {
   "display_name": "Python 3",
   "language": "python",
   "name": "python3"
  },
  "language_info": {
   "codemirror_mode": {
    "name": "ipython",
    "version": 3
   },
   "file_extension": ".py",
   "mimetype": "text/x-python",
   "name": "python",
   "nbconvert_exporter": "python",
   "pygments_lexer": "ipython3",
   "version": "3.9.5"
  }
 },
 "nbformat": 4,
 "nbformat_minor": 4
}
