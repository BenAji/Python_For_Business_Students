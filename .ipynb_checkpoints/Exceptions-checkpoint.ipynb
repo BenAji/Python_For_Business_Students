{
 "cells": [
  {
   "cell_type": "markdown",
   "metadata": {},
   "source": [
    "# Exception handling and Debugging\n",
    "As you progress in your programming skills, you will create errors that are more difficult to find. Understanding how to use the debugging tools and methods can significantly reduce the amount of time you spend fixing your code."
   ]
  },
  {
   "cell_type": "markdown",
   "metadata": {},
   "source": [
    "# Types of Errors\n",
    "There are three broad categories of programming errors.\n",
    "1. Syntax Errors\n",
    "2. Runtime Errors\n",
    "3. Logic Errors"
   ]
  },
  {
   "cell_type": "markdown",
   "metadata": {},
   "source": [
    "## Syntax Errors\n",
    "A syntax error is an error in the syntax of a sequence of characters in a program. It also applies to the English language.\n",
    "\n",
    ">*hit boy ball the the* <- correct words, syntax error.\n",
    ">\n",
    ">*The ball the boy hit.* <- correct syntax, but possibly wrong subject.\n",
    ">\n",
    ">*The boy hit the ball.* <- correct\n",
    "\n",
    "Syntax matters in English and it matters in programming."
   ]
  },
  {
   "cell_type": "code",
   "execution_count": null,
   "metadata": {},
   "outputs": [],
   "source": [
    "# ERROR: Syntax problem\n",
    "print(\"hi')"
   ]
  },
  {
   "cell_type": "code",
   "execution_count": null,
   "metadata": {},
   "outputs": [],
   "source": [
    "# No error handling results in unexpected termination of a program. \n",
    "x = int(input(\"Enter number\"))\n",
    "y = int(input(\"Enter another number\"))\n",
    "print(\"answer:\" + \" \" + x/y)\n",
    "print(\"Can't divide by zero!\")"
   ]
  },
  {
   "cell_type": "code",
   "execution_count": null,
   "metadata": {},
   "outputs": [],
   "source": [
    "# A non-specific except statement handles the error, but does not\n",
    "#   help the user resolve the problem.\n",
    "x = input(\"Enter number\")\n",
    "y = input(\"Enter another number\")\n",
    "\n",
    "try:\n",
    "    print(\"answer:\",int(x)/int(y))\n",
    "except:\n",
    "    print(\"Error! But no indication of what to do to fix it!\")"
   ]
  },
  {
   "cell_type": "code",
   "execution_count": 1,
   "metadata": {},
   "outputs": [
    {
     "name": "stdin",
     "output_type": "stream",
     "text": [
      "Enter number r\n",
      "Enter another number 5\n"
     ]
    },
    {
     "ename": "ValueError",
     "evalue": "invalid literal for int() with base 10: 'r'",
     "output_type": "error",
     "traceback": [
      "\u001b[1;31m---------------------------------------------------------------------------\u001b[0m",
      "\u001b[1;31mValueError\u001b[0m                                Traceback (most recent call last)",
      "\u001b[1;32m<ipython-input-1-0ef8a75d42e9>\u001b[0m in \u001b[0;36m<module>\u001b[1;34m\u001b[0m\n\u001b[0;32m      5\u001b[0m \u001b[1;33m\u001b[0m\u001b[0m\n\u001b[0;32m      6\u001b[0m \u001b[1;32mtry\u001b[0m\u001b[1;33m:\u001b[0m\u001b[1;33m\u001b[0m\u001b[1;33m\u001b[0m\u001b[0m\n\u001b[1;32m----> 7\u001b[1;33m     \u001b[0mprint\u001b[0m\u001b[1;33m(\u001b[0m\u001b[1;34m\"answer:\"\u001b[0m\u001b[1;33m,\u001b[0m\u001b[0mint\u001b[0m\u001b[1;33m(\u001b[0m\u001b[0mx\u001b[0m\u001b[1;33m)\u001b[0m\u001b[1;33m/\u001b[0m\u001b[0mint\u001b[0m\u001b[1;33m(\u001b[0m\u001b[0my\u001b[0m\u001b[1;33m)\u001b[0m\u001b[1;33m)\u001b[0m\u001b[1;33m\u001b[0m\u001b[1;33m\u001b[0m\u001b[0m\n\u001b[0m\u001b[0;32m      8\u001b[0m \u001b[1;32mexcept\u001b[0m \u001b[0mZeroDivisionError\u001b[0m\u001b[1;33m:\u001b[0m\u001b[1;33m\u001b[0m\u001b[1;33m\u001b[0m\u001b[0m\n\u001b[0;32m      9\u001b[0m     \u001b[0mprint\u001b[0m\u001b[1;33m(\u001b[0m\u001b[1;34m\"Can't divide by zero!\"\u001b[0m\u001b[1;33m)\u001b[0m\u001b[1;33m\u001b[0m\u001b[1;33m\u001b[0m\u001b[0m\n",
      "\u001b[1;31mValueError\u001b[0m: invalid literal for int() with base 10: 'r'"
     ]
    }
   ],
   "source": [
    "# Catch the exception and instruct the user (i.e., \"Don't divide by zero.\")\n",
    "# If an exception occurs that isn't caught, program will crash (e.g., a ValueError)\n",
    "x = input(\"Enter number\")\n",
    "y = input(\"Enter another number\")\n",
    "\n",
    "try:\n",
    "    print(\"answer:\",int(x)/int(y))\n",
    "except ZeroDivisionError:\n",
    "    print(\"Can't divide by zero!\")"
   ]
  },
  {
   "cell_type": "code",
   "execution_count": null,
   "metadata": {},
   "outputs": [],
   "source": [
    "x = input(\"Enter number\")\n",
    "y = input(\"Enter another number\")\n",
    "\n",
    "try:\n",
    "    print(\"answer:\",int(x)/int(y))\n",
    "except ZeroDivisionError:\n",
    "    print(\"Can't divide by zero!\")\n",
    "except ValueError:\n",
    "    print(\"Value Error -- maybe you entered a non-number?\")"
   ]
  },
  {
   "cell_type": "markdown",
   "metadata": {},
   "source": [
    "## Runtime Errors\n",
    "A run-time error happens when Python understands your instructions, but cannot execute them when the program is run."
   ]
  },
  {
   "cell_type": "code",
   "execution_count": 11,
   "metadata": {},
   "outputs": [
    {
     "ename": "FileNotFoundError",
     "evalue": "[Errno 2] No such file or directory: \"lincoln's speech.txt\"",
     "output_type": "error",
     "traceback": [
      "\u001b[1;31m---------------------------------------------------------------------------\u001b[0m",
      "\u001b[1;31mFileNotFoundError\u001b[0m                         Traceback (most recent call last)",
      "\u001b[1;32m<ipython-input-11-c75a18ed14d0>\u001b[0m in \u001b[0;36m<module>\u001b[1;34m\u001b[0m\n\u001b[0;32m      3\u001b[0m \u001b[1;33m\u001b[0m\u001b[0m\n\u001b[0;32m      4\u001b[0m \u001b[1;31m# Runtime error if file does not exist\u001b[0m\u001b[1;33m\u001b[0m\u001b[1;33m\u001b[0m\u001b[1;33m\u001b[0m\u001b[0m\n\u001b[1;32m----> 5\u001b[1;33m \u001b[0mfile_content\u001b[0m \u001b[1;33m=\u001b[0m \u001b[0mopen\u001b[0m\u001b[1;33m(\u001b[0m\u001b[0mmy_file\u001b[0m\u001b[1;33m,\u001b[0m \u001b[1;34m'r'\u001b[0m\u001b[1;33m)\u001b[0m\u001b[1;33m\u001b[0m\u001b[1;33m\u001b[0m\u001b[0m\n\u001b[0m\u001b[0;32m      6\u001b[0m \u001b[0mprint\u001b[0m\u001b[1;33m(\u001b[0m\u001b[0mfile_content\u001b[0m\u001b[1;33m.\u001b[0m\u001b[0mread\u001b[0m\u001b[1;33m(\u001b[0m\u001b[1;33m)\u001b[0m\u001b[1;33m)\u001b[0m\u001b[1;33m\u001b[0m\u001b[1;33m\u001b[0m\u001b[0m\n",
      "\u001b[1;31mFileNotFoundError\u001b[0m: [Errno 2] No such file or directory: \"lincoln's speech.txt\""
     ]
    }
   ],
   "source": [
    "# The next line is syntactically and logically correct.\n",
    "my_file = \"lincoln's speech.txt\"\n",
    "#my_file = \"gettysburg.txt\"\n",
    "\n",
    "# Runtime error if file does not exist\n",
    "file_content = open(my_file, 'r')\n",
    "print(file_content.read())"
   ]
  },
  {
   "cell_type": "markdown",
   "metadata": {},
   "source": [
    "## Logic Errors\n",
    "Logic errors generally do not produce an error message because they do not violate Python syntax. Conseqauently, they are often more difficult to find."
   ]
  },
  {
   "cell_type": "code",
   "execution_count": 6,
   "metadata": {},
   "outputs": [
    {
     "name": "stdout",
     "output_type": "stream",
     "text": [
      "401.5\n"
     ]
    }
   ],
   "source": [
    "# Example of a logic error\n",
    "\n",
    "grades_average = 88 + 87 + 80 + 100 + 93 / 2\n",
    "print(grades_average)"
   ]
  },
  {
   "cell_type": "markdown",
   "metadata": {},
   "source": [
    "# Raising Exceptions\n",
    "Python raises exceptions when it encounters an error (e.g., ValueError, TypeError, etc.). You can also raise exceptions to handle custom errors in your programs."
   ]
  },
  {
   "cell_type": "code",
   "execution_count": null,
   "metadata": {},
   "outputs": [],
   "source": [
    "# boxPrint (Source: ATBS, p. 216)\n",
    "\n",
    "def boxPrint(symbol, width, height):\n",
    "    if len(symbol) != 1:\n",
    "        raise Exception('Symbol must be a single character string.')\n",
    "    if width <=2:\n",
    "        raise Exception('Width must be greater than 2.')\n",
    "    if height <=2:\n",
    "        raise Exception('Height must be greater than 2.')\n",
    "    print(symbol * width)\n",
    "    for i in range(height - 2):\n",
    "        print(symbol + (' ' * (width - 2)) + symbol)\n",
    "    print(symbol * width)\n",
    "    \n",
    "for sym, w, h in (('*', 4, 4), ('0', 20, 5), ('x', 1, 3), ('ZZ', 3, 3), ('^',45,5)):\n",
    "    try:\n",
    "        boxPrint(sym, w, h)\n",
    "    except Exception as err:\n",
    "        print('An exception happened: ' + str(err))"
   ]
  },
  {
   "cell_type": "markdown",
   "metadata": {},
   "source": [
    "# Using Assertion Statements\n",
    "What's the problem with this code?"
   ]
  },
  {
   "cell_type": "code",
   "execution_count": 3,
   "metadata": {},
   "outputs": [
    {
     "name": "stdout",
     "output_type": "stream",
     "text": [
      "{'ns': 'red', 'ew': 'yellow'}\n",
      "{'ns': 'green', 'ew': 'red'}\n"
     ]
    }
   ],
   "source": [
    "# Source: ATBS, p. 220\n",
    "\n",
    "# The stoplight at MacFarland and 15th Street\n",
    "MacFarland = {'ns': 'red', 'ew': 'yellow'}\n",
    "\n",
    "\n",
    "def switchLights(intersection):\n",
    "    ''' Changes traffic lights from green to yellow, yellow to red \n",
    "        and red to Green. Accepts a dictionary with ns (north-south) and \n",
    "        ew (east-west) light states (red, green, yellow).'''\n",
    "    \n",
    "    for key in intersection.keys():\n",
    "        if intersection[key] == 'green':\n",
    "            intersection[key] = 'yellow'\n",
    "        elif intersection[key] == 'yellow':\n",
    "            intersection[key] = 'red'\n",
    "        elif intersection[key] == 'red':\n",
    "            intersection[key] = 'green'\n",
    "\n",
    "# Print current light state\n",
    "print(MacFarland)\n",
    "\n",
    "# Cycle the lights\n",
    "switchLights(MacFarland)\n",
    "\n",
    "# Print current light state\n",
    "print(MacFarland)"
   ]
  },
  {
   "cell_type": "code",
   "execution_count": 2,
   "metadata": {},
   "outputs": [
    {
     "name": "stdout",
     "output_type": "stream",
     "text": [
      "{'ns': 'green', 'ew': 'red'}\n",
      "{'ns': 'yellow', 'ew': 'green'}\n"
     ]
    }
   ],
   "source": [
    "# Cycle the lights\n",
    "switchLights(MacFarland)\n",
    "\n",
    "# Print current light state\n",
    "print(MacFarland)"
   ]
  },
  {
   "cell_type": "markdown",
   "metadata": {},
   "source": [
    "\n",
    "The problem is that no light is red!!\n",
    "\n",
    "Your program must prevent this situation from happening."
   ]
  },
  {
   "cell_type": "code",
   "execution_count": 5,
   "metadata": {},
   "outputs": [
    {
     "name": "stdout",
     "output_type": "stream",
     "text": [
      "{'ns': 'red', 'ew': 'yellow'}\n",
      "{'ns': 'green', 'ew': 'red'}\n"
     ]
    },
    {
     "ename": "AssertionError",
     "evalue": "Neither light is red!{'ns': 'yellow', 'ew': 'green'}",
     "output_type": "error",
     "traceback": [
      "\u001b[1;31m---------------------------------------------------------------------------\u001b[0m",
      "\u001b[1;31mAssertionError\u001b[0m                            Traceback (most recent call last)",
      "\u001b[1;32m<ipython-input-5-111f2bb4d330>\u001b[0m in \u001b[0;36m<module>\u001b[1;34m\u001b[0m\n\u001b[0;32m     29\u001b[0m \u001b[1;33m\u001b[0m\u001b[0m\n\u001b[0;32m     30\u001b[0m \u001b[1;31m# Cycle the lights\u001b[0m\u001b[1;33m\u001b[0m\u001b[1;33m\u001b[0m\u001b[1;33m\u001b[0m\u001b[0m\n\u001b[1;32m---> 31\u001b[1;33m \u001b[0mswitchLights\u001b[0m\u001b[1;33m(\u001b[0m\u001b[0mMacFarland\u001b[0m\u001b[1;33m)\u001b[0m\u001b[1;33m\u001b[0m\u001b[1;33m\u001b[0m\u001b[0m\n\u001b[0m\u001b[0;32m     32\u001b[0m \u001b[1;33m\u001b[0m\u001b[0m\n\u001b[0;32m     33\u001b[0m \u001b[1;31m# Print current light state\u001b[0m\u001b[1;33m\u001b[0m\u001b[1;33m\u001b[0m\u001b[1;33m\u001b[0m\u001b[0m\n",
      "\u001b[1;32m<ipython-input-5-111f2bb4d330>\u001b[0m in \u001b[0;36mswitchLights\u001b[1;34m(intersection)\u001b[0m\n\u001b[0;32m     17\u001b[0m         \u001b[1;32melif\u001b[0m \u001b[0mintersection\u001b[0m\u001b[1;33m[\u001b[0m\u001b[0mkey\u001b[0m\u001b[1;33m]\u001b[0m \u001b[1;33m==\u001b[0m \u001b[1;34m'red'\u001b[0m\u001b[1;33m:\u001b[0m\u001b[1;33m\u001b[0m\u001b[1;33m\u001b[0m\u001b[0m\n\u001b[0;32m     18\u001b[0m             \u001b[0mintersection\u001b[0m\u001b[1;33m[\u001b[0m\u001b[0mkey\u001b[0m\u001b[1;33m]\u001b[0m \u001b[1;33m=\u001b[0m \u001b[1;34m'green'\u001b[0m\u001b[1;33m\u001b[0m\u001b[1;33m\u001b[0m\u001b[0m\n\u001b[1;32m---> 19\u001b[1;33m     \u001b[1;32massert\u001b[0m \u001b[1;34m'red'\u001b[0m \u001b[1;32min\u001b[0m \u001b[0mintersection\u001b[0m\u001b[1;33m.\u001b[0m\u001b[0mvalues\u001b[0m\u001b[1;33m(\u001b[0m\u001b[1;33m)\u001b[0m\u001b[1;33m,\u001b[0m \u001b[1;34m'Neither light is red!'\u001b[0m \u001b[1;33m+\u001b[0m \u001b[0mstr\u001b[0m\u001b[1;33m(\u001b[0m\u001b[0mintersection\u001b[0m\u001b[1;33m)\u001b[0m\u001b[1;33m\u001b[0m\u001b[1;33m\u001b[0m\u001b[0m\n\u001b[0m\u001b[0;32m     20\u001b[0m \u001b[1;33m\u001b[0m\u001b[0m\n\u001b[0;32m     21\u001b[0m \u001b[1;31m# Print current light state\u001b[0m\u001b[1;33m\u001b[0m\u001b[1;33m\u001b[0m\u001b[1;33m\u001b[0m\u001b[0m\n",
      "\u001b[1;31mAssertionError\u001b[0m: Neither light is red!{'ns': 'yellow', 'ew': 'green'}"
     ]
    }
   ],
   "source": [
    "# Source: ATBS, p. 220\n",
    "\n",
    "# The stoplight at MacFarland and 15th Street\n",
    "MacFarland = {'ns': 'red', 'ew': 'yellow'}\n",
    "\n",
    "\n",
    "def switchLights(intersection):\n",
    "    ''' Changes traffic lights from green to yellow, yellow to red \n",
    "        and red to Green. Accepts a dictionary with ns (north-south) and \n",
    "        ew (east-west) light states (red, green, yellow).'''\n",
    "    \n",
    "    for key in intersection.keys():\n",
    "        if intersection[key] == 'green':\n",
    "            intersection[key] = 'yellow'\n",
    "        elif intersection[key] == 'yellow':\n",
    "            intersection[key] = 'red'\n",
    "        elif intersection[key] == 'red':\n",
    "            intersection[key] = 'green'\n",
    "    assert 'red' in intersection.values(), 'Neither light is red!' + str(intersection)\n",
    "    \n",
    "# Print current light state\n",
    "print(MacFarland)\n",
    "\n",
    "# Cycle the lights\n",
    "switchLights(MacFarland)\n",
    "\n",
    "# Print current light state\n",
    "print(MacFarland)\n",
    "\n",
    "# Cycle the lights\n",
    "switchLights(MacFarland)\n",
    "\n",
    "# Print current light state\n",
    "print(MacFarland)"
   ]
  },
  {
   "cell_type": "markdown",
   "metadata": {},
   "source": [
    "\n",
    "The previous example triggers the assertation statement and results in an AssertionError, which is good. However, the program simply exits ungracefully and does nothing to resolve the issue.\n",
    "\n",
    "How could you improve this program to respond more effectively to an Assertion error. What should the traffic lights do if this situation occurs? "
   ]
  }
 ],
 "metadata": {
  "kernelspec": {
   "display_name": "Python 3",
   "language": "python",
   "name": "python3"
  },
  "language_info": {
   "codemirror_mode": {
    "name": "ipython",
    "version": 3
   },
   "file_extension": ".py",
   "mimetype": "text/x-python",
   "name": "python",
   "nbconvert_exporter": "python",
   "pygments_lexer": "ipython3",
   "version": "3.7.1"
  }
 },
 "nbformat": 4,
 "nbformat_minor": 2
}
