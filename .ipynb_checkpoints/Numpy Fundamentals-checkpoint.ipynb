{
 "cells": [
  {
   "cell_type": "markdown",
   "metadata": {
    "toc-hr-collapsed": true
   },
   "source": [
    "# Getting started with NumPy\n",
    "Prepared by: Gregory J. Bott, Ph.D.\n",
    "\n",
    "This notebook provides an introduction to the `numpy` package. The content borrows heavily from multiple sources:\n",
    "* (one of our textbooks) The book *Data Science Handbook*, which was written by Jake VanderPlas available at https://jakevdp.github.io/PythonDataScienceHandbook/ (accessed 12/17/2019).\n",
    "* Content from Dr. Nick Freeman (https://github.com/nkfreeman/Python_Tutorials)\n",
    "* SciPy 2018 Conference session: Intro to Numerical Computing with NumPy by Alex Chabot-Leclerc (https://www.youtube.com/watch?v=V0D2mhVt7NE&list=PL2fyLI4jtOlCvb6QchwsZ0xm51PP5G0wf&index=17&t=147s)\n",
    "\n",
    "NumPy (short for <em>**Num**erical **Py**thon</em>) provides efficient storage and manipulation of numerical arrays, which makes NumPy an integral package for scientific computing. Its origins can be traced back to two other specialized packages for calculating arrays: Numeric and Numarray. The Numpy library, first released in 2006 (1.0 version) is the unification of these two libraries. It is highly efficient handling multidimensional and large arrays and offers a large number of functions to manipulate arrays and perform mathematical calculations."
   ]
  },
  {
   "cell_type": "markdown",
   "metadata": {
    "toc-hr-collapsed": true
   },
   "source": [
    "## Installing the TOC extension\n",
    "This notebook is best viewed using Jupyter Lab with the JupyterLab-TOC extension for navigation. \n",
    "\n",
    "1. Right-click the Anaconda prompt icon and then click Run as Administrator.\n",
    "2. In the console window, type the following commands:\n",
    "  * conda udpate conda\n",
    "  * conda install nodejs\n",
    "  * pip install npm\n",
    "  * jupyter labextension install @jupyterlab/toc\n",
    "3. Then to start Jupyter Lab, type:\n",
    "  * jupyter lab --watch\n",
    "   \n",
    "  (Source: https://github.com/jupyterlab/jupyterlab-toc)"
   ]
  },
  {
   "cell_type": "markdown",
   "metadata": {
    "toc-hr-collapsed": false
   },
   "source": [
    "## The NumPy package\n",
    "NumPy is a foundational Python library written using Python and C that provides fast, efficient support for multi-dimensional arrays, mathemetical functions, slicing and selection capabilities, and broadcasting functions. It is available as a standalone . part of the Anaconda distribution. \n",
    "\n",
    "To determine whether the library has already been installed, run one of the following commands in the shell:\n",
    "\n",
    "* conda list\n",
    "* pip list\n",
    "\n",
    "..or via Magic command within a Jupyter notebook:\n",
    " \n",
    " ```python\n",
    "%conda list\n",
    "```"
   ]
  },
  {
   "cell_type": "code",
   "execution_count": null,
   "metadata": {},
   "outputs": [],
   "source": [
    "%conda list"
   ]
  },
  {
   "cell_type": "code",
   "execution_count": null,
   "metadata": {
    "toc-hr-collapsed": false
   },
   "outputs": [],
   "source": [
    "import numpy as np\n",
    "np.version.version"
   ]
  },
  {
   "cell_type": "markdown",
   "metadata": {
    "toc-hr-collapsed": true
   },
   "source": [
    "## Installing NumPy\n",
    "If numpy is not installed use either of the following to install the library:\n",
    "```python\n",
    "conda install numpy\n",
    "pip install numpy\n",
    "```\n",
    "Then import the library. Although you can use a different variable, by convention, NumPy is imported as 'np'.\n",
    "```python\n",
    "import numpy as np\n",
    "```"
   ]
  },
  {
   "cell_type": "markdown",
   "metadata": {},
   "source": [
    "## Importing NumPy\n",
    "\n",
    "If numpy is not installed use either of the following to install the library:\n",
    "```python\n",
    "conda install numpy\n",
    "pip install numpy\n",
    "```\n",
    "\n",
    "Users can import available packages and modules using Python's `import` statement. Two forms of import expressions are commonly used.\n",
    "1. The first common import expression takes the form **import mypackage as mp**. This statement imports a package named *mypackage*, and assigns it to the alias *mp*. Suppose that *mypackage* contains the definition for a function named *myfunction*. If this were true, we would call *myfunction* using the syntax `mp.myfunction(*args)`, where `*args` is a placeholder for any function arguments.<br>\n",
    "\n",
    "2. The second common import expression takes the form **from mypackage import mysubmodule**. This statement imports a specific submodule from a package named *mypackage*. Since there is no alias, this type of import will bring in the functions specified in the submodule as they are writtin. For example, if the submodule *mysubmodule* includes a function called *myfunction*, we would call *myfunction* using the syntax `myfunction(*args)`, where `*args` is a placeholder for any function arguments.\n",
    "\n",
    "<div class=\"alert alert-block alert-danger\">\n",
    "    <b>Name conflicts with <i>from - import</i> approach:</b> When using the <i>from - import</i> approach sepcified in bullet 2, it is important to make sure that method names in package or module you are importing do not conflict with names defined in the importing code. For example, if we import a submodule named *mysubmodule* that includes a function called *myfunction*, but we also have a function named *myfunction* in the importing code, there will be a naming conflict.\n",
    "</div>\n",
    "\n",
    "The following code block uses the *import - as* approach to import NumPy. The alias *np* is a standard convention."
   ]
  },
  {
   "cell_type": "code",
   "execution_count": null,
   "metadata": {},
   "outputs": [],
   "source": [
    "import numpy as np"
   ]
  },
  {
   "cell_type": "markdown",
   "metadata": {
    "toc-hr-collapsed": true
   },
   "source": [
    "# Why use NumPy?\n",
    "Before we look at specific details of the NumPy package, it is important to understand its motivation. NumPy was developed to support scientific computations via the efficient implementation of a multi-dimensional array. In addition to an efficient array implementation, NumPy also includes functions for performing operations on NumPy arrays that are optimized for computational efficeincy. The following code block illustrate the substantial increase in efficiency that NumPy provides in comparison to a standard Python list. Specifically, the example considers the task of adding two vectors of a specified size using both standard Python lists and NumPy arrays. The time of the addition, and the size of the resulting objects are reported for comparison purposes."
   ]
  },
  {
   "cell_type": "markdown",
   "metadata": {},
   "source": [
    "> <div class=\"alert alert-block alert-info\">\n",
    "    <b>The <i>del()</i> function:</b> The <i>del()</i> function is a Python method that deletes a created object from memory. For example, <i>del(my_var)</i> deletes a Python variable named <i>my_var</i>, freeing any computer memory that was being used to store the variable. The <i>del(my_var)</i> can take multiple arguments. For example, <i>del(my_var1, my_var2)</i> deletes the Python variables named <i>my_var1</i> and <i>my_var2</i>. If you pass an argument to <i>del(my_var)</i> that does not correspond to an existing Python object, an error will be raised.\n",
    "</div>\n",
    "\n",
    ">The **np.arange()** function is an array creation routine that creates an instance of an ndarray with evenly spaced values. It takes the form:\n",
    "```Python\n",
    "numpy.arange([start, ]stop, [step, ], dtype=None)\n",
    "```"
   ]
  },
  {
   "cell_type": "code",
   "execution_count": null,
   "metadata": {},
   "outputs": [],
   "source": [
    "import time\n",
    "import sys\n",
    "import matplotlib.pyplot as plt\n",
    " \n",
    "# 10 Million\n",
    "SIZE = 10000000\n",
    "\n",
    "list1 = range(SIZE)\n",
    "list2 = range(SIZE)\n",
    "\n",
    "start = time.time()\n",
    "\n",
    "#Loop through every item in the array and 'zip' them together\n",
    "result = [(x+y) for x,y in zip(list1,list2)]\n",
    "list_time = (time.time() - start)*1000\n",
    "#print(\"Using Python lists, the addition took\",(time.time() - start)*1000,\"milliseconds.\")\n",
    "print(f\"Using Python lists, the addition took {list_time:.0f} milliseconds.\")\n",
    "print(\"The size of the result object based on Python lists is\",sys.getsizeof(result),\"bytes.\\n\")\n",
    "\n",
    "del(list1, list2, result)\n",
    "\n",
    "nparray1 = np.arange(SIZE)\n",
    "nparray2 = np.arange(SIZE)\n",
    "start = time.time()\n",
    "\n",
    "# No need to loop through every item using NumPy. Simply use the '+' operator.\n",
    "result = nparray1 + nparray2\n",
    "array_time = (time.time() - start)*1000\n",
    "print(f\"Using NumPy arrays, the addition took {array_time:.0f} milliseconds.\")\n",
    "#print(\"Using NumPy arrays, the addition took\",(time.time() - start)*1000,\"milliseconds.\")\n",
    "print(\"The size of the result object based on NumPy arrays is\",sys.getsizeof(result),\"bytes.\\n\")\n",
    "\n",
    "del(nparray1, nparray2, result)\n",
    "\n",
    "objects = ('ndarray', 'list')\n",
    "y_pos = np.arange(len(objects))\n",
    "performance = [array_time, list_time]\n",
    "\n",
    "plt.barh(y_pos, performance, align='center', alpha=.9, height=.6)\n",
    "plt.yticks(y_pos, objects)\n",
    "plt.xlabel('milliseconds')\n",
    "plt.title('Speed (shorter is faster)')\n",
    "\n",
    "plt.show()"
   ]
  },
  {
   "cell_type": "markdown",
   "metadata": {},
   "source": [
    "In addition to demonstrating the substantial performance gains offered by NumPy, the previous code block also illsutrates some of the subtle differences of working with Python lists versus NumPy arrays.\n",
    "\n",
    "- The `time.time()` function, from the `time` module, returns the current system time. Saving the value of the current time in a variable `start` and then computing the difference `time.time() - start` returns the seconds elapsing between the two calls to `time.time()` in seconds. Multiplying by 1000 converts the elapsed time to milliseconds. Another option capture the elapsed time for a line of code within an IPython notebook is to use the magic command `%timeit`.\n",
    "\n",
    "\n",
    "- When working with Python lists, the `range()` function returns a sequence of integers starting at zero and ending at the argument passed to `range()`. In our example, we pass a variable `SIZE` to the `range()` function. Thus, the sequence stored in the list is 0, 1, ..., `SIZE`-2, `SIZE`-1.\n",
    "\n",
    "\n",
    "- When working with NumPy arrays, the `np.arange()` function returns a sequence of integers starting at zero and ending at the argument passed to `np.arange()`. In our example, we pass a variable `SIZE` to the `np.arange()` function. Thus, the sequence stored in the NumPy array is 0, 1, ..., `SIZE`-2, `SIZE`-1.\n",
    "\n",
    "\n",
    "- The `sys.getsizeof()` function, from the `sys` library, returns the size of an object in bytes.\n",
    "\n",
    "\n",
    "- When working with Python lists, the `zip()` function essentially combines two or more list objects (like zipping up a jacket) and allows element-wise operations to be performed.\n",
    "\n",
    "\n",
    "- When working with NumPy arrays, there is no need to *zip* arrays. Instead, element-wise operations are performed using standard mathematical operators."
   ]
  },
  {
   "cell_type": "markdown",
   "metadata": {},
   "source": [
    "### Jupyter's timeit Magic Command\n",
    "<div class=\"alert alert-block alert-info\">\n",
    "    <b>Jupyter's <i>timeit</i> magic command:</b> Another approach for timing operations that is <b>specific to Jupyter notebooks</b> is the <i>timeit</i> magic command. This command can be used with syntax that follows the form <b>%timeit [-n &lt;N&gt; -r &lt;R&gt; [-t|-c] -q -p &lt;P&gt; -o]</b>, where\n",
    "\n",
    "<li> -n &lt;N&gt;: specifies to execute the given statement &lt;N&gt; times in a loop. If <N> is not provided, <N> is determined so as to get sufficient accuracy.</li>\n",
    "\n",
    "<li> -r &lt;R&gt;: specifies the number of repeats &lt;R&gt;, each consisting of &lt;N&gt; loops, and take the best result. Default: 7</li>\n",
    "\n",
    "<li> -t: specifies to use time.time to measure the time, which is the default on Unix. This function measures wall time, i.e., elapsed real time.</li>\n",
    "\n",
    "<li> -c: specifies to use time.clock to measure the time, which is the default on Windows and measures wall time. On Unix, resource.getrusage is used instead and returns the CPU user time.</li>\n",
    "\n",
    "<li> -p &lt;P&gt;: specifies to use a precision of &lt;P&gt; digits to display the timing result. Default: 3</li>\n",
    "\n",
    "<li> -q: specifies quiet calculation, where no results are printed.\n",
    "</div>\n",
    "\n",
    "The following block performs a the timing check using the `timeit` magic command, with 5 repeats of 10 executions. Note that by performing the calcuations multiple times, the `timeit` magic is able to provide estimates of the variability in computational time."
   ]
  },
  {
   "cell_type": "code",
   "execution_count": null,
   "metadata": {},
   "outputs": [],
   "source": [
    "import matplotlib.pyplot as plt; plt.rcdefaults()\n",
    "SIZE = 100000\n",
    "\n",
    "list1 = range(SIZE)\n",
    "list2 = range(SIZE)\n",
    "\n",
    "print(\"Time statistics for Python lists:\")\n",
    "%timeit -n 10 -r 5 [(x+y) for x,y in zip(list1,list2)]\n",
    "\n",
    "del(list1,list2)\n",
    "\n",
    "nparray1 = np.arange(SIZE)\n",
    "nparray2 = np.arange(SIZE)\n",
    "\n",
    "print(\"\\nTime statistics for NumPy arrays (micro seconds = milli/1000):\")\n",
    "%timeit -n 10 -r 5 nparray1 + nparray2\n",
    "\n",
    "del(nparray1, nparray2)"
   ]
  },
  {
   "cell_type": "markdown",
   "metadata": {},
   "source": [
    "## How to find useful NumPy objects\n",
    "NumPy contains hundreds objects providing powerful options for the data scientiest. Use the lookfor() function to search by docstring keywords (all words must be present, but can be in any order). For example, if your solution requires taking the standard deviation, use the lookfor() function to display all NumPy objects that have the key words \"standard deviation\" in their docstring."
   ]
  },
  {
   "cell_type": "code",
   "execution_count": null,
   "metadata": {},
   "outputs": [],
   "source": [
    "# Using the lookfor() function to find functions related to standard deviation (if error, run again)\n",
    "import numpy as np\n",
    "np.lookfor(\"standard deviation\")"
   ]
  },
  {
   "cell_type": "markdown",
   "metadata": {},
   "source": [
    "## Getting help\n",
    "Remember that help is available via the help() function. Also remember that you must provide the proper context."
   ]
  },
  {
   "cell_type": "code",
   "execution_count": null,
   "metadata": {},
   "outputs": [],
   "source": [
    "# ERROR - no contxt\n",
    "help(linspace)"
   ]
  },
  {
   "cell_type": "code",
   "execution_count": null,
   "metadata": {},
   "outputs": [],
   "source": [
    "help(np.linspace)"
   ]
  },
  {
   "cell_type": "markdown",
   "metadata": {
    "toc-hr-collapsed": false
   },
   "source": [
    "# The basics of NumPy arrays\n",
    "The core object in the NumPy library is the ndarray (n-dimensional array) object. In this section we'll examine data types, how to create arrays, learn about the basic attributes of arrays, how to access elements within an array, and then how to slice, reshap, concatenate, and split arrays. "
   ]
  },
  {
   "cell_type": "markdown",
   "metadata": {},
   "source": [
    "## NumPy data types\n",
    "In contrast to Python lists where items of different types are acceptable members, each value in a NumPy array must be the same type. Mixing types (e.g., a float with integers) will result in an upcast of the array (e.g., to float64 instead of an int).\n",
    "\n",
    "<table style=\"border-collapse: collapse;border-top: 0.5pt solid ; border-bottom: 0.5pt solid ; border-left: 0.5pt solid ; border-right: 0.5pt solid ; \"><colgroup><col class=\"tcol1 align-left\"><col class=\"tcol2 align-left\"></colgroup><thead><tr><th style=\"border-right: 0.5pt solid ; border-bottom: 0.5pt solid ; text-align: left;\"><p class=\"SimplePara\">Data Type</p></th><th style=\"border-bottom: 0.5pt solid ; text-align: left;\"><p class=\"SimplePara\">Description</p></th></tr></thead><tbody><tr><td style=\"border-right: 0.5pt solid ; border-bottom: 0.5pt solid ; text-align: left;\"><p class=\"SimplePara\">\n",
    "                          <span class=\"EmphasisFontCategoryNonProportional \">bool_</span>\n",
    "                        </p></td><td style=\"border-bottom: 0.5pt solid ; text-align: left;\"><p class=\"SimplePara\">Boolean (true or false) stored as a byte</p></td></tr><tr><td style=\"border-right: 0.5pt solid ; border-bottom: 0.5pt solid ; text-align: left;\"><p class=\"SimplePara\">\n",
    "                          <span class=\"EmphasisFontCategoryNonProportional \">int_</span>\n",
    "                        </p></td><td style=\"border-bottom: 0.5pt solid ; text-align: left;\"><p class=\"SimplePara\">Default integer type (same as C long; normally either <span class=\"EmphasisFontCategoryNonProportional \">int64</span> or <span class=\"EmphasisFontCategoryNonProportional \">int32</span>)</p></td></tr><tr><td style=\"border-right: 0.5pt solid ; border-bottom: 0.5pt solid ; text-align: left;\"><p class=\"SimplePara\">\n",
    "                          <span class=\"EmphasisFontCategoryNonProportional \">intc</span>\n",
    "                        </p></td><td style=\"border-bottom: 0.5pt solid ; text-align: left;\"><p class=\"SimplePara\">Identical to C int (normally <span class=\"EmphasisFontCategoryNonProportional \">int32</span> or <span class=\"EmphasisFontCategoryNonProportional \">int64</span>)</p></td></tr><tr><td style=\"border-right: 0.5pt solid ; border-bottom: 0.5pt solid ; text-align: left;\"><p class=\"SimplePara\">\n",
    "                          <span class=\"EmphasisFontCategoryNonProportional \">intp</span>\n",
    "                        </p></td><td style=\"border-bottom: 0.5pt solid ; text-align: left;\"><p class=\"SimplePara\">Integer used for indexing (same as C <span class=\"EmphasisFontCategoryNonProportional \">size_t</span>; normally either <span class=\"EmphasisFontCategoryNonProportional \">int32</span> or <span class=\"EmphasisFontCategoryNonProportional \">int64</span>)</p></td></tr><tr><td style=\"border-right: 0.5pt solid ; border-bottom: 0.5pt solid ; text-align: left;\"><p class=\"SimplePara\">\n",
    "                          <span class=\"EmphasisFontCategoryNonProportional \">int8</span>\n",
    "                        </p></td><td style=\"border-bottom: 0.5pt solid ; text-align: left;\"><p class=\"SimplePara\">Byte (–128 to 127)</p></td></tr><tr><td style=\"border-right: 0.5pt solid ; border-bottom: 0.5pt solid ; text-align: left;\"><p class=\"SimplePara\">\n",
    "                          <span class=\"EmphasisFontCategoryNonProportional \">int16</span>\n",
    "                        </p></td><td style=\"border-bottom: 0.5pt solid ; text-align: left;\"><p class=\"SimplePara\">Integer (–32768 to 32767)</p></td></tr><tr><td style=\"border-right: 0.5pt solid ; border-bottom: 0.5pt solid ; text-align: left;\"><p class=\"SimplePara\">\n",
    "                          <span class=\"EmphasisFontCategoryNonProportional \">int32</span>\n",
    "                        </p></td><td style=\"border-bottom: 0.5pt solid ; text-align: left;\"><p class=\"SimplePara\">Integer (–2147483648 to 2147483647)</p></td></tr><tr><td style=\"border-right: 0.5pt solid ; border-bottom: 0.5pt solid ; text-align: left;\"><p class=\"SimplePara\">\n",
    "                          <span class=\"EmphasisFontCategoryNonProportional \">int64</span>\n",
    "                        </p></td><td style=\"border-bottom: 0.5pt solid ; text-align: left;\"><p class=\"SimplePara\">Integer (–9223372036854775808 to 9223372036854775807)</p></td></tr><tr><td style=\"border-right: 0.5pt solid ; border-bottom: 0.5pt solid ; text-align: left;\"><p class=\"SimplePara\">\n",
    "                          <span class=\"EmphasisFontCategoryNonProportional \">uint8</span>\n",
    "                        </p></td><td style=\"border-bottom: 0.5pt solid ; text-align: left;\"><p class=\"SimplePara\">Unsigned integer (0 to 255)</p></td></tr><tr><td style=\"border-right: 0.5pt solid ; border-bottom: 0.5pt solid ; text-align: left;\"><p class=\"SimplePara\">\n",
    "                          <span class=\"EmphasisFontCategoryNonProportional \">uint16</span>\n",
    "                        </p></td><td style=\"border-bottom: 0.5pt solid ; text-align: left;\"><p class=\"SimplePara\">Unsigned integer (0 to 65535)</p></td></tr><tr><td style=\"border-right: 0.5pt solid ; border-bottom: 0.5pt solid ; text-align: left;\"><p class=\"SimplePara\">\n",
    "                          <span class=\"EmphasisFontCategoryNonProportional \">uint32</span>\n",
    "                        </p></td><td style=\"border-bottom: 0.5pt solid ; text-align: left;\"><p class=\"SimplePara\">Unsigned integer (0 to 4294967295)</p></td></tr><tr><td style=\"border-right: 0.5pt solid ; border-bottom: 0.5pt solid ; text-align: left;\"><p class=\"SimplePara\">\n",
    "                          <span class=\"EmphasisFontCategoryNonProportional \">uint64</span>\n",
    "                        </p></td><td style=\"border-bottom: 0.5pt solid ; text-align: left;\"><p class=\"SimplePara\">Unsigned integer (0 to 18446744073709551615)</p></td></tr><tr><td style=\"border-right: 0.5pt solid ; border-bottom: 0.5pt solid ; text-align: left;\"><p class=\"SimplePara\">\n",
    "                          <span class=\"EmphasisFontCategoryNonProportional \">float_</span>\n",
    "                        </p></td><td style=\"border-bottom: 0.5pt solid ; text-align: left;\"><p class=\"SimplePara\">Shorthand for <span class=\"EmphasisFontCategoryNonProportional \">float64</span></p></td></tr><tr><td style=\"border-right: 0.5pt solid ; border-bottom: 0.5pt solid ; text-align: left;\"><p class=\"SimplePara\">\n",
    "                          <span class=\"EmphasisFontCategoryNonProportional \">float16</span>\n",
    "                        </p></td><td style=\"border-bottom: 0.5pt solid ; text-align: left;\"><p class=\"SimplePara\">Half precision float: sign bit, 5-bit exponent, 10-bit mantissa</p></td></tr><tr><td style=\"border-right: 0.5pt solid ; border-bottom: 0.5pt solid ; text-align: left;\"><p class=\"SimplePara\">\n",
    "                          <span class=\"EmphasisFontCategoryNonProportional \">float32</span>\n",
    "                        </p></td><td style=\"border-bottom: 0.5pt solid ; text-align: left;\"><p class=\"SimplePara\">Single precision float: sign bit, 8-bit exponent, 23-bit mantissa</p></td></tr><tr><td style=\"border-right: 0.5pt solid ; border-bottom: 0.5pt solid ; text-align: left;\"><p class=\"SimplePara\">\n",
    "                          <span class=\"EmphasisFontCategoryNonProportional \">float64</span>\n",
    "                        </p></td><td style=\"border-bottom: 0.5pt solid ; text-align: left;\"><p class=\"SimplePara\">Double precision float: sign bit, 11-bit exponent, 52-bit mantissa</p></td></tr><tr><td style=\"border-right: 0.5pt solid ; border-bottom: 0.5pt solid ; text-align: left;\"><p class=\"SimplePara\">\n",
    "                          <span class=\"EmphasisFontCategoryNonProportional \">complex_</span>\n",
    "                        </p></td><td style=\"border-bottom: 0.5pt solid ; text-align: left;\"><p class=\"SimplePara\">Shorthand for complex128</p></td></tr><tr><td style=\"border-right: 0.5pt solid ; border-bottom: 0.5pt solid ; text-align: left;\"><p class=\"SimplePara\">\n",
    "                          <span class=\"EmphasisFontCategoryNonProportional \">complex64</span>\n",
    "                        </p></td>\n",
    "    <td style=\"border-bottom: 0.5pt solid ; text-align: left;\"><p class=\"SimplePara\">Complex number, represented by two 32-bit floats (real and imaginary components)</p></td></tr><tr><td style=\"border-right: 0.5pt solid ; text-align: left;\"><p class=\"SimplePara\">\n",
    "                          <span class=\"EmphasisFontCategoryNonProportional \">complex128</span>\n",
    "                        </p></td><td style=\"text-align: left;\"><p class=\"SimplePara\">Complex number, represented by two 64-bit floats (real and imaginary components)"
   ]
  },
  {
   "cell_type": "markdown",
   "metadata": {
    "toc-hr-collapsed": true
   },
   "source": [
    "## Creating arrays using Python structures\n",
    "There are many different ways to create NumPy arrays. "
   ]
  },
  {
   "cell_type": "markdown",
   "metadata": {},
   "source": [
    "### The array method"
   ]
  },
  {
   "cell_type": "code",
   "execution_count": null,
   "metadata": {},
   "outputs": [],
   "source": [
    "import numpy as np\n",
    "# Using a list to create a one-dimensional (1-d) array\n",
    "array_1 = np.array([5, 10, 15, 20])\n",
    "print(array_1)"
   ]
  },
  {
   "cell_type": "code",
   "execution_count": null,
   "metadata": {},
   "outputs": [],
   "source": [
    "# The type of array is a NumPy N-Dimensional array\n",
    "type(array_1)"
   ]
  },
  {
   "cell_type": "code",
   "execution_count": null,
   "metadata": {},
   "outputs": [],
   "source": [
    "# Display data type (varies by system)\n",
    "print(array_1.dtype)"
   ]
  },
  {
   "cell_type": "code",
   "execution_count": null,
   "metadata": {},
   "outputs": [],
   "source": [
    "# If any member is a float, the array will be upcast (float64, system-dependent)\n",
    "array_3 = np.array([1, 2.0, 3, 4])\n",
    "print(array_3.dtype)"
   ]
  },
  {
   "cell_type": "code",
   "execution_count": null,
   "metadata": {},
   "outputs": [],
   "source": [
    "array_2 = np.array([1, 3, 7, 9])\n",
    "\n",
    "print(\"Addition:\")\n",
    "print(array_1, \"+\", array_2)\n",
    "print(array_1 + array_2)"
   ]
  },
  {
   "cell_type": "code",
   "execution_count": null,
   "metadata": {},
   "outputs": [],
   "source": [
    "# Works with all other operators (multiplication, division, exponentiation, etc.)\n",
    "print(array_1, \"*\", array_2)\n",
    "print(array_1 * array_2)"
   ]
  },
  {
   "cell_type": "code",
   "execution_count": null,
   "metadata": {},
   "outputs": [],
   "source": [
    "# Display the length of the array \n",
    "#   along each dimension\n",
    "print(array_1.ndim)\n",
    "print(array_1.shape)"
   ]
  },
  {
   "cell_type": "code",
   "execution_count": null,
   "metadata": {},
   "outputs": [],
   "source": [
    "b = np.array([1.0, 2, 3])\n",
    "print(type(b), b.dtype)"
   ]
  },
  {
   "cell_type": "code",
   "execution_count": null,
   "metadata": {},
   "outputs": [],
   "source": [
    "c = np.array([\"apple\", 1, True])\n",
    "print(type(c), c.dtype)"
   ]
  },
  {
   "cell_type": "markdown",
   "metadata": {},
   "source": [
    "### The arange() Method\n",
    "The **np.arange()** function is a commonly-used array creation routine that creates an instance of an ndarray with evenly spaced values. It takes the form:\n",
    "```Python\n",
    "numpy.arange([start, ]stop, [step, ], dtype=None)\n",
    "```\n",
    "1. **start** is the first value in the array (optional)\n",
    "2. **stop** is the last value in the array (required)\n",
    "3. **step** defines the incremental difference between each consecutive number in the range (optional, default is 1)\n",
    "4. **dytpe** specifies the output array data type"
   ]
  },
  {
   "cell_type": "code",
   "execution_count": null,
   "metadata": {},
   "outputs": [],
   "source": [
    "# Create an array: start = 0 (default), stop = 10, step = 1 (default)\n",
    "my_array = np.arange(10)\n",
    "print(my_array)"
   ]
  },
  {
   "cell_type": "code",
   "execution_count": null,
   "metadata": {},
   "outputs": [],
   "source": [
    "# Create an array of even numbers 2 to 100\n",
    "my_array = np.arange(2, 101, 2)\n",
    "print(my_array)"
   ]
  },
  {
   "cell_type": "markdown",
   "metadata": {},
   "source": [
    "### Creating 2-d arrays\n",
    "The basic unit of memory in NumPy is a Row. Shape is referenced like this: (row, column). So a 2 x 4 array has 2 rows and four columns.\n",
    "\n",
    "> Note the additional set of square brackets. The array function expects a single iterator as an argument. Passing multiple objects will raise an exception.\n",
    "\n",
    "Although arrays are often created via reading from disk or other function, they can also be created manually using a list of lists."
   ]
  },
  {
   "cell_type": "code",
   "execution_count": null,
   "metadata": {},
   "outputs": [],
   "source": [
    "# ERROR: Why?\n",
    "array_2 = np.array([1,2,3,4],\n",
    "                   [5,6,7,8])\n",
    "print(array_2)\n",
    "print(f\"The type of this array is {type(array_2)} and its number of dimensions is {array_2.ndim}.\")\n",
    "print(f\"The shape of this array is {array_2.shape}\")"
   ]
  },
  {
   "cell_type": "code",
   "execution_count": null,
   "metadata": {},
   "outputs": [],
   "source": [
    "# Using a list of lists to creating a two-dimensional (2-d) array\n",
    "array_2 = np.array([[1,2,3,4],\n",
    "                    [5,6,7,8]])\n",
    "print(array_2)\n",
    "print(f\"The type of this array is {type(array_2)} and its number of dimensions is {array_2.ndim}.\")\n",
    "print(f\"The shape of this array is {array_2.shape}\")"
   ]
  },
  {
   "cell_type": "code",
   "execution_count": null,
   "metadata": {},
   "outputs": [],
   "source": [
    "# Use arange() to create a 2D (10 x 6) array 0 to 295\n",
    "array_50 = np.arange(0,300,5).reshape(10,6)\n",
    "print(array_50)"
   ]
  },
  {
   "cell_type": "markdown",
   "metadata": {
    "toc-hr-collapsed": true
   },
   "source": [
    "## Creating arrays using functions\n"
   ]
  },
  {
   "cell_type": "code",
   "execution_count": null,
   "metadata": {},
   "outputs": [],
   "source": [
    "import numpy as np"
   ]
  },
  {
   "cell_type": "markdown",
   "metadata": {},
   "source": [
    "### Zeroes Function"
   ]
  },
  {
   "cell_type": "code",
   "execution_count": null,
   "metadata": {},
   "outputs": [],
   "source": [
    "# Creating a two-dimensional (2-d) array of size 4 x 5 (rows X columns)\n",
    "# that is filled with zeros\n",
    "np.zeros((4,5))"
   ]
  },
  {
   "cell_type": "markdown",
   "metadata": {},
   "source": [
    "### Ones Function"
   ]
  },
  {
   "cell_type": "code",
   "execution_count": null,
   "metadata": {},
   "outputs": [],
   "source": [
    "# Creating a two-dimensional (2-d) array of size 3 x 4 (rows X columns)\n",
    "# that is filled with ones\n",
    "np.ones((3,4))"
   ]
  },
  {
   "cell_type": "markdown",
   "metadata": {},
   "source": [
    "### Identity Matrix"
   ]
  },
  {
   "cell_type": "code",
   "execution_count": null,
   "metadata": {},
   "outputs": [],
   "source": [
    "# Creating a two-dimensional 5 x 5 identity matrix\n",
    "identity_matrix = np.eye(5)\n",
    "random_2 = np.arange(10, size=(5,5),dtype=float)\n",
    "print(random_2)\n",
    "print(np.dot(random_2,identity_matrix))"
   ]
  },
  {
   "cell_type": "markdown",
   "metadata": {},
   "source": [
    "### Random Number Generator"
   ]
  },
  {
   "cell_type": "code",
   "execution_count": null,
   "metadata": {},
   "outputs": [],
   "source": [
    "# Create 1-, 2-, and 3-dimensionsl random arrays using NumPy's random number generator.\n",
    "\n",
    "np.random.seed(0) # use seed() to produce the same numbers each time\n",
    "\n",
    "# Generate a one-dimensional array between 2 and 9 with six elements\n",
    "random_1 = np.random.randint(2, 10, size=6)\n",
    "print(\"One-dimensional random array:\")\n",
    "print(random_1)\n",
    "\n",
    "# Generate a two-dimensional (3 x 4) array (0 to 9)\n",
    "random_2 = np.random.randint(10, size=(3,4))\n",
    "print(\"\\nTwo-dimensional random array:\")\n",
    "print(random_2)\n",
    "\n",
    "# Generate a three-dimensional (3 x 4 x 5) array (0 to 9)\n",
    "random_3 = np.random.randint(10, size=(3,4,5))\n",
    "print(\"\\nThree-dimensional random array:\")\n",
    "print(random_3)"
   ]
  },
  {
   "cell_type": "code",
   "execution_count": null,
   "metadata": {},
   "outputs": [],
   "source": []
  },
  {
   "cell_type": "code",
   "execution_count": null,
   "metadata": {},
   "outputs": [],
   "source": [
    "# Creating a two-dimensional 5 x 3 matrix filled with\n",
    "# values randomly drawn from a continuous uniform distribution\n",
    "# that ranges from 0.0 to 100.0\n",
    "np.random.uniform(low = 0.0, high = 100.0, size = (5, 3))"
   ]
  },
  {
   "cell_type": "code",
   "execution_count": null,
   "metadata": {},
   "outputs": [],
   "source": [
    "# Creating a two-dimensional 3 x 3 matrix filled with\n",
    "# values randomly drawn from a normal distribution with\n",
    "# a mean of 10.0 and standard deviation of 2.0 \n",
    "np.random.normal(loc = 10.0, scale = 2.0, size = (3,3))"
   ]
  },
  {
   "cell_type": "markdown",
   "metadata": {},
   "source": [
    "### The linspace Method\n",
    "Use the linspace method to create equally spaced elements in an array. The method commonly takes three arguments: start, stop, and num. Num is the number of evenly spaced numbers to create within the start and stop range.\n",
    "```Python\n",
    "# linspace(start_index, stop_index, num)\n",
    "my_array = np.linspace(1, 10, 40)\n",
    "```"
   ]
  },
  {
   "cell_type": "code",
   "execution_count": null,
   "metadata": {},
   "outputs": [],
   "source": [
    "my_array = np.linspace(1, 12, 40, endpoint=False)\n",
    "print(my_array)"
   ]
  },
  {
   "cell_type": "markdown",
   "metadata": {},
   "source": [
    "## NumPy Array attributes\n",
    "In this section we'll discuss useful array attributes."
   ]
  },
  {
   "cell_type": "code",
   "execution_count": 11,
   "metadata": {},
   "outputs": [
    {
     "name": "stdout",
     "output_type": "stream",
     "text": [
      "[ True False False  True  True] \n",
      "\n",
      "Shape = (5,)\n",
      "Dimensions = 1\n",
      "Size = 5\n",
      "Item size = 1\n",
      "Bytes = 5\n"
     ]
    }
   ],
   "source": [
    "array_1 = np.array([True, False, False, True, True])\n",
    "print(array_1, \"\\n\")\n",
    "# Display the number of dimensions, size, shape, number of bytes\n",
    "print(f\"Shape = {array_1.shape}\")\n",
    "print(f\"Dimensions = {array_1.ndim}\")\n",
    "print(f\"Size = {array_1.size}\")\n",
    "print(f\"Item size = {array_1.itemsize}\")\n",
    "print(f\"Bytes = {array_1.nbytes}\")"
   ]
  },
  {
   "cell_type": "code",
   "execution_count": null,
   "metadata": {},
   "outputs": [],
   "source": [
    "# Display the number of dimensions, size, shape, number of bytes\n",
    "print(array_2, \"\\n\")\n",
    "print(f\"Shape = {array_2.shape}\")\n",
    "print(f\"Dimensions = {array_2.ndim}\")\n",
    "print(f\"Size = {array_2.size}\")\n",
    "print(f\"Item size = {array_2.itemsize}\")\n",
    "print(f\"Bytes = {array_2.nbytes}\")"
   ]
  },
  {
   "cell_type": "code",
   "execution_count": null,
   "metadata": {},
   "outputs": [],
   "source": [
    "exam_scores = np.array([[\"exam1\",\"exam2\",\"exam3\"],[99.5,100,67]])\n",
    "print(exam_scores,\"\\n\")\n",
    "print(f\"Shape = {exam_scores.shape}\")\n",
    "print(f\"Dimensions = {exam_scores.ndim}\")\n",
    "print(f\"Size = {exam_scores.size}\")\n",
    "print(f\"Item size = {exam_scores.itemsize}\")\n",
    "print(f\"Bytes = {exam_scores.nbytes}\")"
   ]
  },
  {
   "cell_type": "markdown",
   "metadata": {},
   "source": [
    "## Array indexing: Acessing single elements\n",
    "\n",
    "Arrays are zero-based. "
   ]
  },
  {
   "cell_type": "code",
   "execution_count": 3,
   "metadata": {},
   "outputs": [
    {
     "name": "stdout",
     "output_type": "stream",
     "text": [
      "The first element is 1\n"
     ]
    }
   ],
   "source": [
    "my_array = np.array([1,2,4,6,8,100,])\n",
    "\n",
    "# arrays are zero-based\n",
    "print(f\"The first element is {my_array[0]}\")\n"
   ]
  },
  {
   "cell_type": "markdown",
   "metadata": {},
   "source": [
    "Like lists, dictionaries, and arrays in Python, NumPy arrays are mutable."
   ]
  },
  {
   "cell_type": "code",
   "execution_count": 4,
   "metadata": {},
   "outputs": [
    {
     "name": "stdout",
     "output_type": "stream",
     "text": [
      "Current value of element 5 = 100\n",
      "New value of element 5 = 10\n"
     ]
    }
   ],
   "source": [
    "# Change my_array[5] to \"10\"\n",
    "print(f\"Current value of element 5 = {my_array[5]}\")\n",
    "my_array[5] = 10\n",
    "print(f\"New value of element 5 = {my_array[5]}\")"
   ]
  },
  {
   "cell_type": "markdown",
   "metadata": {},
   "source": [
    "### Type Coercion\n",
    "Beware of type coercion--adding a float into an integer array truncates the decimal part. The float 2.5 becomes the integer 2."
   ]
  },
  {
   "cell_type": "code",
   "execution_count": 1,
   "metadata": {},
   "outputs": [
    {
     "name": "stdout",
     "output_type": "stream",
     "text": [
      "[0 2 1]\n"
     ]
    }
   ],
   "source": [
    "import numpy as np\n",
    "a = np.array([0,0,1])\n",
    "a[1] = 2.5\n",
    "print(a)"
   ]
  },
  {
   "cell_type": "code",
   "execution_count": 10,
   "metadata": {},
   "outputs": [
    {
     "name": "stdout",
     "output_type": "stream",
     "text": [
      "3.1\n"
     ]
    }
   ],
   "source": [
    "array_example = np.array([2, 3.1, 90])\n",
    "array_example.dtype\n",
    "print(array_example[1])"
   ]
  },
  {
   "cell_type": "markdown",
   "metadata": {},
   "source": [
    "### Deleting Portions of Arrays"
   ]
  },
  {
   "cell_type": "code",
   "execution_count": 12,
   "metadata": {},
   "outputs": [
    {
     "name": "stdout",
     "output_type": "stream",
     "text": [
      "[ 3  2  4  6  8 10]\n"
     ]
    }
   ],
   "source": [
    "my_array [0] = 3.141\n",
    "print(my_array)"
   ]
  },
  {
   "cell_type": "code",
   "execution_count": 13,
   "metadata": {},
   "outputs": [
    {
     "name": "stdout",
     "output_type": "stream",
     "text": [
      "[[ 0  1  2  3  4  5  6  7  8  9]\n",
      " [10 11 12 13 14 15 16 17 18 19]\n",
      " [20 21 22 23 24 25 26 27 28 29]\n",
      " [30 31 32 33 34 35 36 37 38 39]\n",
      " [40 41 42 43 44 45 46 47 48 49]\n",
      " [50 51 52 53 54 55 56 57 58 59]]\n",
      "\n",
      "[[ 0  1  2  3  4  5]\n",
      " [10 11 12 13 14 15]\n",
      " [20 21 22 23 24 25]\n",
      " [30 31 32 33 34 35]\n",
      " [40 41 42 43 44 45]\n",
      " [50 51 52 53 54 55]]\n"
     ]
    }
   ],
   "source": [
    "# Create an array 0 to 59 and shape it into 6 rows by 10 columns\n",
    "a = np.arange(0,60).reshape(6,10)\n",
    "print(a)\n",
    "print()\n",
    "# Delete the last four columns (6 through 9) (see Array Slicing)\n",
    "a = np.delete(a,a[:,6:])\n",
    "print(a.reshape(6,6))"
   ]
  },
  {
   "cell_type": "markdown",
   "metadata": {},
   "source": [
    "## Array slicing: Accessing subarrays\n",
    "```Python\n",
    "var[lower:upper:step]\n",
    "```\n",
    "Slicing an array extracts a subset of an array by specifying a lower bound, upper bound and (optionally) a step value. As in the Range (and ARange) functions the lower bound element is included in the result set, but the upper boudn value is not."
   ]
  },
  {
   "cell_type": "code",
   "execution_count": 14,
   "metadata": {},
   "outputs": [
    {
     "name": "stdout",
     "output_type": "stream",
     "text": [
      "[0 1 2 3 4]\n"
     ]
    }
   ],
   "source": [
    "# Print slice of first five elements (0 - 4)\n",
    "my_array = np.array([0,1,2,3,4,5,6,7,8,9])\n",
    "new_array = my_array[0:5] # The 5th element is 25\n",
    "print(new_array)"
   ]
  },
  {
   "cell_type": "code",
   "execution_count": 15,
   "metadata": {},
   "outputs": [
    {
     "data": {
      "text/plain": [
       "9"
      ]
     },
     "execution_count": 15,
     "metadata": {},
     "output_type": "execute_result"
    }
   ],
   "source": [
    "# Index of last element\n",
    "my_array[-1]"
   ]
  },
  {
   "cell_type": "code",
   "execution_count": 16,
   "metadata": {},
   "outputs": [
    {
     "data": {
      "text/plain": [
       "array([8, 9])"
      ]
     },
     "execution_count": 16,
     "metadata": {},
     "output_type": "execute_result"
    }
   ],
   "source": [
    "# Display the last two elements\n",
    "my_array[-2:]"
   ]
  },
  {
   "cell_type": "code",
   "execution_count": 17,
   "metadata": {},
   "outputs": [
    {
     "data": {
      "text/plain": [
       "array([0, 2, 4, 6, 8])"
      ]
     },
     "execution_count": 17,
     "metadata": {},
     "output_type": "execute_result"
    }
   ],
   "source": [
    "# Display every other element\n",
    "# ::step\n",
    "my_array[::2]"
   ]
  },
  {
   "cell_type": "markdown",
   "metadata": {},
   "source": [
    "### Slicing 2D Array"
   ]
  },
  {
   "cell_type": "code",
   "execution_count": 18,
   "metadata": {},
   "outputs": [
    {
     "name": "stdout",
     "output_type": "stream",
     "text": [
      "[ 0  1  2  3  4  5 10 11 12 13 14 15 20 21 22 23 24 25 30 31 32 33 34 35\n",
      " 40 41 42 43 44 45 50 51 52 53 54 55]\n",
      "Reshape array into 6 x 6\n",
      "[[ 0  1  2  3  4  5]\n",
      " [10 11 12 13 14 15]\n",
      " [20 21 22 23 24 25]\n",
      " [30 31 32 33 34 35]\n",
      " [40 41 42 43 44 45]\n",
      " [50 51 52 53 54 55]]\n"
     ]
    }
   ],
   "source": [
    "# 2D array from Deletion example\n",
    "print(a)\n",
    "print(\"Reshape array into 6 x 6\")\n",
    "a = a.reshape(6,6)\n",
    "print(a)"
   ]
  },
  {
   "cell_type": "markdown",
   "metadata": {},
   "source": [
    "![image](images_numpy/array6x6.jpg)"
   ]
  },
  {
   "cell_type": "code",
   "execution_count": 19,
   "metadata": {},
   "outputs": [
    {
     "name": "stdout",
     "output_type": "stream",
     "text": [
      "yellow = [3 4]\n"
     ]
    }
   ],
   "source": [
    "# First row = 0, show elements 3 up to 5, but not including 5\n",
    "yellow = a[0, 3:5]\n",
    "print(\"yellow =\", yellow)"
   ]
  },
  {
   "cell_type": "code",
   "execution_count": 20,
   "metadata": {},
   "outputs": [
    {
     "name": "stdout",
     "output_type": "stream",
     "text": [
      "red =  [ 2 12 22 32 42 52]\n"
     ]
    }
   ],
   "source": [
    "# include all rows (\":\"), limit to column 2\n",
    "red = a[:, 2]\n",
    "print(\"red = \", red)"
   ]
  },
  {
   "cell_type": "code",
   "execution_count": 21,
   "metadata": {},
   "outputs": [
    {
     "name": "stdout",
     "output_type": "stream",
     "text": [
      "dark blue =  [[20 22 24]\n",
      " [40 42 44]]\n"
     ]
    }
   ],
   "source": [
    "# start at row 2 and step 2\n",
    "# then start at column 0 and step 2\n",
    "dark_blue = a[2::2, ::2]\n",
    "print(\"dark blue = \", dark_blue)"
   ]
  },
  {
   "cell_type": "code",
   "execution_count": 22,
   "metadata": {},
   "outputs": [
    {
     "name": "stdout",
     "output_type": "stream",
     "text": [
      "blue = [[44 45]\n",
      " [54 55]]\n"
     ]
    }
   ],
   "source": [
    "# start at 4th row and go to 4th column\n",
    "blue = a[4:, 4:]\n",
    "print(\"blue =\", blue)\n"
   ]
  },
  {
   "cell_type": "code",
   "execution_count": 2,
   "metadata": {},
   "outputs": [
    {
     "ename": "SyntaxError",
     "evalue": "invalid syntax (<ipython-input-2-91502322e7f4>, line 1)",
     "output_type": "error",
     "traceback": [
      "\u001b[1;36m  File \u001b[1;32m\"<ipython-input-2-91502322e7f4>\"\u001b[1;36m, line \u001b[1;32m1\u001b[0m\n\u001b[1;33m    inport numpy as np\u001b[0m\n\u001b[1;37m               ^\u001b[0m\n\u001b[1;31mSyntaxError\u001b[0m\u001b[1;31m:\u001b[0m invalid syntax\n"
     ]
    }
   ],
   "source": [
    "import numpy as np\n",
    "class_array = np.arrange(0,25).reshape(5.5)\n",
    "print(class_array)"
   ]
  },
  {
   "cell_type": "markdown",
   "metadata": {},
   "source": [
    "## Transposing Arrays\n",
    "Use T to transpose arrays. Transpose swaps the order of the axes."
   ]
  },
  {
   "cell_type": "code",
   "execution_count": null,
   "metadata": {},
   "outputs": [],
   "source": [
    "# orignal array\n",
    "print(random_3.shape)\n",
    "print(random_3)\n",
    "\n",
    "#Transpose array\n",
    "print(random_3.T.shape)\n",
    "print(random_3.T)"
   ]
  },
  {
   "cell_type": "markdown",
   "metadata": {
    "toc-hr-collapsed": true
   },
   "source": [
    "# Array computation: NumPy Ufuncs\n",
    "\n",
    "For a list of available universal functions follow the link below:\n",
    "https://docs.scipy.org/doc/numpy/reference/ufuncs.html#available-ufuncs"
   ]
  },
  {
   "cell_type": "code",
   "execution_count": null,
   "metadata": {},
   "outputs": [],
   "source": [
    "https://docs.scipy.org/doc/numpy/reference/ufuncs.html#available-ufuncs# Display documentation for a specific ufunc (e.g., sine)\n",
    "np.info(np.sin)"
   ]
  },
  {
   "cell_type": "markdown",
   "metadata": {},
   "source": [
    "## Ufunc example - Sine"
   ]
  },
  {
   "cell_type": "code",
   "execution_count": null,
   "metadata": {},
   "outputs": [],
   "source": [
    "import matplotlib.pylab as plt\n",
    "\n",
    "np.sin(np.array((0., 30., 45., 60., 90.)) * np.pi / 180. )\n",
    "\n",
    "x = np.linspace(-np.pi, np.pi, 201)\n",
    "plt.plot(x, np.sin(x))\n",
    "plt.xlabel('Angle [rad]')\n",
    "plt.ylabel('sin(x)')\n",
    "plt.axis('tight')\n",
    "plt.show()"
   ]
  },
  {
   "cell_type": "markdown",
   "metadata": {
    "toc-hr-collapsed": true
   },
   "source": [
    "# Aggregations"
   ]
  },
  {
   "cell_type": "markdown",
   "metadata": {},
   "source": [
    "In addition to performing computations on each element of an array, NumPy also allows users to perform aggregations accross all elements and to perform computations along a particular array *axis*. Before continuing, it is important to understand exactly what is meant by an *array axis*.\n",
    "\n",
    "In NumPy, *axes* are defined for arrays with more than one dimension. For example, a 2-dimensional array has two axes: the first running vertically downwards across rows (axis 0), and the second running horizontally across columns (axis 1). Another way to think about this is if I have an **m *x* n** array, where $m$ is the number of rows and $n$ the number of columns, the first axis, axis 0, runs across the $m$ rows and the second axis, axis 1, runs across the $n$ columns. \n",
    "\n",
    "Using this concept of array axes, we can do computations across rows and columns of arrays. The following code blocks provide examples."
   ]
  },
  {
   "cell_type": "code",
   "execution_count": null,
   "metadata": {},
   "outputs": [],
   "source": [
    "import numpy as np\n",
    "\n",
    "# Create a two-dimensional 3 x 5 array with values drawn\n",
    "# from discrete uniform distribution ranging from 1 to 10.\n",
    "\n",
    "my_array1 = np.random.randint(low = 1, high = 10, size = (3, 5))\n",
    "my_array1"
   ]
  },
  {
   "cell_type": "code",
   "execution_count": null,
   "metadata": {},
   "outputs": [],
   "source": [
    "# Sum all array values\n",
    "np.sum(my_array1)"
   ]
  },
  {
   "cell_type": "code",
   "execution_count": null,
   "metadata": {},
   "outputs": [],
   "source": [
    "# Sum the values in each column (collapse the rows)\n",
    "# Note that we need to sum the values down\n",
    "# each column, or axis 0\n",
    "np.sum(my_array1, axis = 0)"
   ]
  },
  {
   "cell_type": "code",
   "execution_count": null,
   "metadata": {},
   "outputs": [],
   "source": [
    "sum(my_array1)"
   ]
  },
  {
   "cell_type": "code",
   "execution_count": null,
   "metadata": {},
   "outputs": [],
   "source": [
    "# Collapses the columns\n",
    "# Note that we need to sum the values across\n",
    "# each row, or axis 1\n",
    "np.sum(my_array1, axis = 1)"
   ]
  },
  {
   "cell_type": "code",
   "execution_count": null,
   "metadata": {},
   "outputs": [],
   "source": [
    "# Find the maximum value in each row\n",
    "np.max(my_array1, axis = 1)"
   ]
  },
  {
   "cell_type": "code",
   "execution_count": null,
   "metadata": {},
   "outputs": [],
   "source": [
    "# Find the index of the maximum value in each row\n",
    "# Note that indexing starts at 0!\n",
    "np.argmax(my_array1, axis = 1)"
   ]
  },
  {
   "cell_type": "markdown",
   "metadata": {},
   "source": [
    "NumPy provides many other aggregation functions, but we won't discuss them in detail here. Additionally, most aggregates have a ``NaN``-safe counterpart that computes the result while ignoring missing values, which are marked by the special IEEE floating-point ``NaN`` value. \n",
    "\n",
    "The following table provides a list of useful aggregation functions available in NumPy:\n",
    "\n",
    "|Function Name      |   NaN-safe Version  | Description                                   |\n",
    "|-------------------|---------------------|-----------------------------------------------|\n",
    "| ``np.sum``        | ``np.nansum``       | Compute sum of elements                       |\n",
    "| ``np.prod``       | ``np.nanprod``      | Compute product of elements                   |\n",
    "| ``np.mean``       | ``np.nanmean``      | Compute mean of elements                      |\n",
    "| ``np.std``        | ``np.nanstd``       | Compute standard deviation                    |\n",
    "| ``np.var``        | ``np.nanvar``       | Compute variance                              |\n",
    "| ``np.min``        | ``np.nanmin``       | Find minimum value                            |\n",
    "| ``np.max``        | ``np.nanmax``       | Find maximum value                            |\n",
    "| ``np.argmin``     | ``np.nanargmin``    | Find index of minimum value                   |\n",
    "| ``np.argmax``     | ``np.nanargmax``    | Find index of maximum value                   |\n",
    "| ``np.median``     | ``np.nanmedian``    | Compute median of elements                    |\n",
    "| ``np.percentile`` | ``np.nanpercentile``| Compute rank-based statistics of elements     |\n",
    "| ``np.any``        | N/A                 | Evaluate whether any elements are true        |\n",
    "| ``np.all``        | N/A                 | Evaluate whether all elements are true        |\n"
   ]
  },
  {
   "cell_type": "markdown",
   "metadata": {
    "toc-hr-collapsed": true
   },
   "source": [
    "# Broadcasting"
   ]
  },
  {
   "cell_type": "markdown",
   "metadata": {},
   "source": [
    "Earlier, when we looked at basic NumPy array computations, we consider arrays that were all the same size. However, there are cases where we may wish to perfrom operations involving arrays that are not equivalently sized. In such cases, *array broadcasting* is helpful. Consider the following example.\n",
    "> Broadcasting is simply a set of rules for applying binary ufuncs (addition, subtraction, multiplication, etc.) on arrays of different sizes. (Vanderplas, p. 63)"
   ]
  },
  {
   "cell_type": "code",
   "execution_count": null,
   "metadata": {},
   "outputs": [],
   "source": [
    "import numpy as np\n",
    "my_array= np.array([0, 1, 2])\n",
    "\n",
    "print(f'my_array is {my_array}')\n",
    "print(f'my_array + 1 is {my_array + 5}')"
   ]
  },
  {
   "cell_type": "code",
   "execution_count": null,
   "metadata": {},
   "outputs": [],
   "source": [
    "my_array.shape"
   ]
  },
  {
   "cell_type": "markdown",
   "metadata": {},
   "source": [
    "When we look at the previous example, it is very clear that a value of 1 is added to each element of `my_array`. However, `my_array` is an array of length 3, whereas the value 1 is essentially an array of length 1. Thus, NumPy is actually broadcasting the value 1 to the array `[1, 1, 1]` and then adding this broadcasted array to the `my_array` object."
   ]
  },
  {
   "cell_type": "markdown",
   "metadata": {
    "toc-hr-collapsed": true
   },
   "source": [
    "## Rules of broadcasting\n",
    "Broadcasting in NumPy follows a strict set of rules to determine the interaction between two arrays:\n",
    "\n",
    "- **Rule 1**: If the two arrays differ in their number of dimensions, the shape of the one with fewer dimensions is padded with ones on its leading (left) side.\n",
    "- **Rule 2**: If the shape of the two arrays does not match in any dimension, the array with shape equal to 1 in that dimension is stretched to match the other shape.\n",
    "- **Rule 3**: If in any dimension the sizes disagree and neither is equal to 1, an error is raised. (VanderPlas, p. 65)\n",
    "\n",
    "The following examples aim to make these rules clear."
   ]
  },
  {
   "cell_type": "markdown",
   "metadata": {},
   "source": [
    "### Broadcasting example 1\n",
    "\n",
    "Let's consider adding a 2D array and a 1D array."
   ]
  },
  {
   "cell_type": "code",
   "execution_count": null,
   "metadata": {},
   "outputs": [],
   "source": [
    "my_1D_array = np.array([0, 1, 2])\n",
    "print(f'my_1D_array is {my_1D_array}\\n')\n",
    "\n",
    "my_2D_array = np.ones((3,3))\n",
    "print(f'my_2D_array is\\n {my_2D_array}')"
   ]
  },
  {
   "cell_type": "markdown",
   "metadata": {},
   "source": [
    "The shape of `my_1D_array` is (3,) and the shape of `my_2D_array` is (3, 3). Thus, according to the first broadcasting rule, we need to pad the one with the smallest dimension (`my_1D_array`) on the left with ones. This padding is  referring to the array dimension, so `my_1D_array` will be transformed to shape (1, 3).\n",
    "\n",
    "Next, we look at rule 2, and note that the shape of the two arrays does not match in the first dimension. Specifically, `my_1D_array` is (1, 3) and `my_2D_array` is (3, 3). Thus, we stretch the first dimension of `my_1D_array` to get a (3, 3) array.\n",
    "\n",
    "We can now add the arrays together."
   ]
  },
  {
   "cell_type": "code",
   "execution_count": null,
   "metadata": {},
   "outputs": [],
   "source": [
    "my_1D_array + my_2D_array"
   ]
  },
  {
   "cell_type": "code",
   "execution_count": null,
   "metadata": {},
   "outputs": [],
   "source": [
    "del(my_1D_array, my_2D_array)"
   ]
  },
  {
   "cell_type": "markdown",
   "metadata": {},
   "source": [
    "### Broadcasting example 2"
   ]
  },
  {
   "cell_type": "code",
   "execution_count": null,
   "metadata": {},
   "outputs": [],
   "source": [
    "my_vert_1D_array = np.arange(3).reshape((3,1))\n",
    "print(my_vert_1D_array)"
   ]
  },
  {
   "cell_type": "code",
   "execution_count": null,
   "metadata": {},
   "outputs": [],
   "source": [
    "my_horiz_1D_array = np.arange(3)\n",
    "print(my_horiz_1D_array)"
   ]
  },
  {
   "cell_type": "code",
   "execution_count": null,
   "metadata": {},
   "outputs": [],
   "source": [
    "# Add arrays together\n",
    "print(my_vert_1D_array + my_horiz_1D_array)"
   ]
  },
  {
   "cell_type": "markdown",
   "metadata": {},
   "source": [
    "### Broadcasting example 3\n",
    "\n",
    "We will now slightly modify the previous example to illustrate a situation that will result in an error."
   ]
  },
  {
   "cell_type": "code",
   "execution_count": null,
   "metadata": {},
   "outputs": [],
   "source": [
    "my_1D_array = np.array([1, 2, 3])\n",
    "print(f'my_1D_array is {my_1D_array}\\n')\n",
    "\n",
    "my_2D_array = np.array([[1,1],\n",
    "                        [2,2],\n",
    "                        [3,3]])\n",
    "print(f'my_2D_array is\\n {my_2D_array}')"
   ]
  },
  {
   "cell_type": "markdown",
   "metadata": {},
   "source": [
    "The shape of `my_1D_array` is (3,) and the shape of `my_2D_array` is (3, 2). Thus, according to the first broadcasting rule, we need to pad the one with the smallest dimension (`my_1D_array`) on the left with ones. This padding is  referring to the array dimension, so `my_1D_array` will be transformed to shape (1, 3).\n",
    "\n",
    "Next, we look at rule two, and note that the shape of the two arrays does not match in the first dimension. Specifically, `my_1D_array` is (1, 3) and `my_2D_array` is (3, 2). Thus, we stretch the first dimension of `my_1D_array` to get a (3, 3) array.\n",
    "\n",
    "Now, we reach rule three with arrays of size (3, 3) (`my_1D_array`) and (3, 2) (`my_2D_array`). Since the shapes differ, an error will be raised."
   ]
  },
  {
   "cell_type": "code",
   "execution_count": null,
   "metadata": {},
   "outputs": [],
   "source": [
    "# Error - shapes differ\n",
    "my_1D_array + my_2D_array"
   ]
  },
  {
   "cell_type": "code",
   "execution_count": null,
   "metadata": {},
   "outputs": [],
   "source": [
    "del(my_1D_array, my_2D_array)"
   ]
  },
  {
   "cell_type": "markdown",
   "metadata": {},
   "source": [
    "### Indexing NumPy Arrays\n",
    "<a id=\"Array_Indexing\"> </a>\n",
    "\n",
    "This subsection looks at how to access elements of a NumPy arrays, which is very similar to how we access elements of lists. The following code block shows basic methods that can be used to access elements or portions of a NumPy array. It is important to keep in mind that Python and NumPy both consider 0 to be the first index."
   ]
  },
  {
   "cell_type": "code",
   "execution_count": null,
   "metadata": {},
   "outputs": [],
   "source": [
    "# Create a 3 x 4 array using values samples from a \n",
    "# standard normal distribution (i.e., mean = 0 and standard\n",
    "# deviation = 1)\n",
    "my_array = np.random.normal(size = (3,4))\n",
    "\n",
    "print(f'my_array is\\n {my_array}\\n')\n",
    "\n",
    "print(f'The first element of the second row of my_array is {my_array[1,0]}\\n')\n",
    "\n",
    "print(f'The first row of my_array is {my_array[0,:]}\\n')\n",
    "\n",
    "print(f'The first column of my_array is {my_array[:,0]}\\n')"
   ]
  },
  {
   "cell_type": "code",
   "execution_count": null,
   "metadata": {},
   "outputs": [],
   "source": []
  },
  {
   "cell_type": "markdown",
   "metadata": {
    "toc-hr-collapsed": true
   },
   "source": [
    "# Comparisons, masks, and boolean logic"
   ]
  },
  {
   "cell_type": "markdown",
   "metadata": {
    "toc-hr-collapsed": true
   },
   "source": [
    "# Fancy indexing"
   ]
  },
  {
   "cell_type": "markdown",
   "metadata": {
    "toc-hr-collapsed": true
   },
   "source": [
    "# Sorting arrays"
   ]
  },
  {
   "cell_type": "code",
   "execution_count": null,
   "metadata": {},
   "outputs": [],
   "source": [
    "import pandas as pd\n",
    "import os\n",
    "       "
   ]
  },
  {
   "cell_type": "code",
   "execution_count": null,
   "metadata": {},
   "outputs": [],
   "source": [
    "pd.read_csv(compression='gzip')"
   ]
  },
  {
   "cell_type": "code",
   "execution_count": null,
   "metadata": {},
   "outputs": [],
   "source": [
    "import wordlist\n",
    "\n",
    "generator = wordlist.Generator('charset')\n",
    "for each in generator.generate_with_pattern('@@@@@@'):\n",
    "    print(each)"
   ]
  },
  {
   "cell_type": "code",
   "execution_count": null,
   "metadata": {},
   "outputs": [],
   "source": [
    "pd.read_csv(\"C:\\\\Users\\\\gregb\\\\Downloads\\\\words\\\\words.txt\", delimiter='@')"
   ]
  },
  {
   "cell_type": "code",
   "execution_count": null,
   "metadata": {},
   "outputs": [],
   "source": [
    "np.arange((3,3))\n"
   ]
  },
  {
   "cell_type": "code",
   "execution_count": null,
   "metadata": {},
   "outputs": [],
   "source": [
    "np.ones((3,3)) + np.arange((3))"
   ]
  },
  {
   "cell_type": "code",
   "execution_count": null,
   "metadata": {},
   "outputs": [],
   "source": [
    "test_array = np.arange(3,3)\n",
    "test_array.shape"
   ]
  },
  {
   "cell_type": "code",
   "execution_count": null,
   "metadata": {},
   "outputs": [],
   "source": [
    "class MyStuff(object):\n",
    "    \n",
    "    def __init__(self):\n",
    "        self.tangerine = \"And now a thousand years between\"\n",
    "        \n",
    "    def apple(self):\n",
    "        print(\"I AM CLASSY APPLES!\")"
   ]
  },
  {
   "cell_type": "code",
   "execution_count": null,
   "metadata": {},
   "outputs": [],
   "source": [
    "thing = MyStuff()\n",
    "thing.apple()\n",
    "print(thing.apple())"
   ]
  },
  {
   "cell_type": "code",
   "execution_count": null,
   "metadata": {},
   "outputs": [],
   "source": []
  },
  {
   "cell_type": "code",
   "execution_count": null,
   "metadata": {},
   "outputs": [],
   "source": [
    "import numpy as np\n",
    "d = np.arange(10,370,10)\n",
    "print(d)"
   ]
  },
  {
   "cell_type": "code",
   "execution_count": null,
   "metadata": {},
   "outputs": [],
   "source": [
    "d.reshape(6,6)"
   ]
  },
  {
   "cell_type": "code",
   "execution_count": null,
   "metadata": {},
   "outputs": [],
   "source": [
    "area_codes = [314,573,512,205,325]\n",
    "ac = np.array(area_codes, dtype='str')\n",
    "print(ac)"
   ]
  }
 ],
 "metadata": {
  "kernelspec": {
   "display_name": "Python 3",
   "language": "python",
   "name": "python3"
  },
  "language_info": {
   "codemirror_mode": {
    "name": "ipython",
    "version": 3
   },
   "file_extension": ".py",
   "mimetype": "text/x-python",
   "name": "python",
   "nbconvert_exporter": "python",
   "pygments_lexer": "ipython3",
   "version": "3.7.1"
  },
  "toc-autonumbering": true,
  "toc-showcode": false,
  "toc-showmarkdowntxt": false
 },
 "nbformat": 4,
 "nbformat_minor": 2
}
