{
 "cells": [
  {
   "cell_type": "markdown",
   "metadata": {},
   "source": [
    "# Using the Simple Mail Transfer Protocol\n",
    "\n",
    "What is a protocol?\n",
    "\n",
    "One definition is \"the official procedure or system of rules governing affairs of state or diplomatic occasions.\" How you should greet, speak to, appraoch, etc., a head of state has rules. Do you shake hands? Are you expected to bow? Who speaks first? How do you address them?\n",
    "\n",
    "Similarly, SMTP (and other protocols) have rules for engagement, communication, and termination.\n",
    "\n",
    "You can use telnet to communicate with an SMTP server. Below are the statements to send to an SMTP server to send an email. \n",
    "\n",
    "```\n",
    "ehlo bottinc.com\n",
    "mail from:<the_real_donald@whitehouse.gov>\n",
    "rcpt to:<gjbott@cba.ua.edu>\n",
    "data\n",
    "This is a test, please do not respond\n",
    ".\n",
    "quit\n",
    "```"
   ]
  },
  {
   "cell_type": "markdown",
   "metadata": {},
   "source": [
    "# Using Python to Send Email\n",
    "In many situations you may need to programmatically send an email using Python. For example, you are running a Python program that may take hours and you want to ensure that it is still running. You could instruct Python to send you an email whenever the program encounters an exception or when the program successfully completes.\n",
    "\n",
    "To send an email, you will use the Simple Mail Transport Protocol (SMTP). There are multiple libraries available in Python to work with email. One library is ```smtplib```.\n",
    "\n",
    "To use ```smtplib``` you must import it."
   ]
  },
  {
   "cell_type": "code",
   "execution_count": null,
   "metadata": {},
   "outputs": [],
   "source": [
    "import smtplib"
   ]
  },
  {
   "cell_type": "markdown",
   "metadata": {},
   "source": [
    "Then specify the SMTP server you will be using. For this example, we will use an internal server at UA. \n",
    "\n",
    "Please be the good Internet citizen that you are and do not abuse access to this email server. :) \n",
    "\n",
    "Remember that your access to the UA network is directly associated with your NetID and consequently your name and student account."
   ]
  },
  {
   "cell_type": "code",
   "execution_count": null,
   "metadata": {},
   "outputs": [],
   "source": [
    "smtp_server = smtplib.SMTP('mx1.ua.edu')"
   ]
  },
  {
   "cell_type": "markdown",
   "metadata": {},
   "source": [
    "### Say EHLO!\n",
    "Once you've connected to the SMTP server, say 'hello' issuing the EHLO command. This will typically result in a header response from the email server. Sometimes connection and security information will be provided to help the connection process (e.g., instructions to use Transport Layer Security, TLS)."
   ]
  },
  {
   "cell_type": "code",
   "execution_count": null,
   "metadata": {},
   "outputs": [],
   "source": [
    "smtp_server.ehlo()"
   ]
  },
  {
   "cell_type": "markdown",
   "metadata": {},
   "source": [
    "Specify the sender and receiver(s)"
   ]
  },
  {
   "cell_type": "code",
   "execution_count": null,
   "metadata": {},
   "outputs": [],
   "source": [
    "sender = 'gjbott@ua.edu'\n",
    "receivers = ['gregbott@gmail.com','gregbott@hotmail.com']"
   ]
  },
  {
   "cell_type": "code",
   "execution_count": null,
   "metadata": {},
   "outputs": [],
   "source": [
    "message = \"\"\"From: From Gregory Bott <gjbott@ua.edu>\n",
    "To: Gregory Bott <gregbott@gmail.com>\n",
    "Subject: SMTP e-mail test 1411\n",
    "\n",
    "This is a test e-mail message.\n",
    "\"\"\"\n",
    "\n",
    "try:\n",
    "    smtpObj = smtplib.SMTP('mx2.ua.edu')    \n",
    "    smtpObj.sendmail(sender, receivers, message)         \n",
    "    print(\"Successfully sent email\")\n",
    "except:\n",
    "    print(\"Error: unable to send email\")"
   ]
  },
  {
   "cell_type": "markdown",
   "metadata": {},
   "source": [
    "## Sending mail using GMail\n",
    "To use Gmail to send email you may need to perform additional steps. \n",
    "\n",
    "Nearly all SMTP servers will have a security protocol configured (typically TLS or SSL). By convention, TLS uses port 587 and SSL uses port 465. Below is an example of how to send email over SSL using Gmail.\n",
    "\n",
    "Also note that if you are using 2FA (two-factor authentication), you will need to create an application password using Google Security for your account. "
   ]
  },
  {
   "cell_type": "code",
   "execution_count": null,
   "metadata": {},
   "outputs": [],
   "source": [
    "import smtplib\n",
    "\n",
    "gmail_user = 'gregbott@gmail.com'\n",
    "gmail_password = bott_secret_password\n",
    "\n",
    "sent_from = gmail_user\n",
    "to = ['gjbott@cba.ua.edu']\n",
    "subject = 'Web-scraping finished!!'\n",
    "\n",
    "body = \"\"\"From: From Dr. Gregory Bott <gregbott@gmail.com>\\nTo: G Money <gjbott@cba.ua.edu>\n",
    "Subject: Python is the new Excel!!!\\n\\nThis is a test e-mail message.\n",
    "\"\"\"\n",
    "\n",
    "try:\n",
    "    server = smtplib.SMTP_SSL('smtp.gmail.com', 465)\n",
    "    server.ehlo()\n",
    "    server.login(gmail_user, gmail_password)\n",
    "    server.sendmail(sent_from, to, body)\n",
    "    server.close()\n",
    "\n",
    "    print('Email sent!')\n",
    "except:\n",
    "    print('Something went wrong...')"
   ]
  }
 ],
 "metadata": {
  "kernelspec": {
   "display_name": "Python 3",
   "language": "python",
   "name": "python3"
  },
  "language_info": {
   "codemirror_mode": {
    "name": "ipython",
    "version": 3
   },
   "file_extension": ".py",
   "mimetype": "text/x-python",
   "name": "python",
   "nbconvert_exporter": "python",
   "pygments_lexer": "ipython3",
   "version": "3.7.3"
  }
 },
 "nbformat": 4,
 "nbformat_minor": 2
}
