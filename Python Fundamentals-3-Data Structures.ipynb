{
 "cells": [
  {
   "cell_type": "markdown",
   "metadata": {
    "toc-hr-collapsed": true
   },
   "source": [
    "# Data Structures\n"
   ]
  },
  {
   "cell_type": "markdown",
   "metadata": {},
   "source": [
    "## What's a data structure?\n",
    "As its name implies, a data structure is a containerthat holds data. Just like some post office boxes hold packages and others hold letters, Python's built-in data structures have different purposes and uses. Use data structures to organize and perform operations on data. Python has the following built-in data structures: Lists, Dictionaries, Sets, and Tuples. Each container has different attributes and is used for a different purpose.\n",
    "\n",
    "sources: (W3Schools, RealPython.com)\n",
    "\n",
    "<img src=\"images/post_office_boxes.jpg\" align=\"middle\">"
   ]
  },
  {
   "cell_type": "markdown",
   "metadata": {
    "toc-nb-collapsed": true
   },
   "source": [
    "## Comparing Built-in Data Structures\n",
    "Below is a comparsion of four built-in data structures in Python. \n",
    "\n",
    "![](images/Structures.jpg)"
   ]
  },
  {
   "cell_type": "markdown",
   "metadata": {
    "toc-nb-collapsed": true
   },
   "source": [
    "# Tuples\n",
    "What is the proper pronunication of \"tuple\"? Answer: either TEW-pull or Tupple (like the 'u' sound in pup). \n",
    "\n",
    "* Ordered sequence of elements\n",
    "* Tuples are immutable\n",
    "* Parentheses denote a tuple"
   ]
  },
  {
   "cell_type": "code",
   "execution_count": 2,
   "metadata": {},
   "outputs": [
    {
     "name": "stdout",
     "output_type": "stream",
     "text": [
      "3.1\n"
     ]
    }
   ],
   "source": [
    "# Create an empty tuple\n",
    "\n",
    "t = ()\n",
    "t = (4, \"hello\", True, 3.1)\n",
    "print(t[3])"
   ]
  },
  {
   "cell_type": "code",
   "execution_count": 3,
   "metadata": {},
   "outputs": [
    {
     "name": "stdout",
     "output_type": "stream",
     "text": [
      "(4, 'hello', True, 3.1)\n",
      "Concatenate '7'\n",
      "(4, 'hello', True, 3.1, 7)\n"
     ]
    }
   ],
   "source": [
    "# Concatenation with a tuple\n",
    "\n",
    "print(t)\n",
    "print(\"Concatenate '7'\")\n",
    "print((t) + (7,)) # Note the comma--the comma tells Python that this is a tuple and not an int"
   ]
  },
  {
   "cell_type": "code",
   "execution_count": 4,
   "metadata": {},
   "outputs": [
    {
     "name": "stdout",
     "output_type": "stream",
     "text": [
      "4\n",
      "hello\n",
      "True\n",
      "3.1\n"
     ]
    }
   ],
   "source": [
    "# Iterating a tuple\n",
    "for v in t:\n",
    "    print(v)"
   ]
  },
  {
   "cell_type": "code",
   "execution_count": 1,
   "metadata": {},
   "outputs": [
    {
     "name": "stdout",
     "output_type": "stream",
     "text": [
      "('apple', 0)\n",
      "('banana', 1)\n",
      "('pear', 2)\n"
     ]
    }
   ],
   "source": [
    "# zip function example\n",
    "\n",
    "s = 'apple','banana','pear'\n",
    "t = [0, 1, 2] \n",
    "zip(s, t)\n",
    "for pair in zip(s, t):\n",
    "    print(pair)"
   ]
  },
  {
   "cell_type": "code",
   "execution_count": 2,
   "metadata": {},
   "outputs": [
    {
     "data": {
      "text/plain": [
       "tuple"
      ]
     },
     "execution_count": 2,
     "metadata": {},
     "output_type": "execute_result"
    }
   ],
   "source": [
    "type(s)"
   ]
  },
  {
   "cell_type": "code",
   "execution_count": 3,
   "metadata": {},
   "outputs": [
    {
     "name": "stdout",
     "output_type": "stream",
     "text": [
      "(30, 33.0, 34.5, 36.0)\n",
      "<class 'tuple'>\n"
     ]
    }
   ],
   "source": [
    "def tip_options(amount):\n",
    "    # Use a tuple to return more than one value\n",
    "    return(amount, amount*1.10, amount*1.15, amount*1.2)\n",
    "\n",
    "print(tip_options(30))\n",
    "print(type(tip_options(30)))"
   ]
  },
  {
   "cell_type": "code",
   "execution_count": 4,
   "metadata": {},
   "outputs": [
    {
     "name": "stdout",
     "output_type": "stream",
     "text": [
      "x = 10 y = 5\n",
      "x = 5 y = 10\n"
     ]
    }
   ],
   "source": [
    "# Use a tuple to swap values\n",
    "y = 5\n",
    "x = 10\n",
    "print('x =', x, 'y =', y)\n",
    "(x, y) = (y, x)\n",
    "print('x =', x, 'y =', y)"
   ]
  },
  {
   "cell_type": "markdown",
   "metadata": {
    "toc-nb-collapsed": true
   },
   "source": [
    "# Lists\n",
    "\n",
    "A list is an ordered sequence of *items*. Lists are similar to arrays in other languages. One difference is that Lists can contain different types of data."
   ]
  },
  {
   "cell_type": "markdown",
   "metadata": {},
   "source": [
    "## Creating Lists\n",
    " \n",
    "Lists are created using several methods."
   ]
  },
  {
   "cell_type": "code",
   "execution_count": 3,
   "metadata": {},
   "outputs": [],
   "source": [
    "#Use square brackets to make list\n",
    "\n",
    "cities = [] # an empty list"
   ]
  },
  {
   "cell_type": "code",
   "execution_count": 4,
   "metadata": {},
   "outputs": [
    {
     "name": "stdout",
     "output_type": "stream",
     "text": [
      "[]\n"
     ]
    }
   ],
   "source": [
    "print(cities)"
   ]
  },
  {
   "cell_type": "code",
   "execution_count": 5,
   "metadata": {},
   "outputs": [
    {
     "name": "stdout",
     "output_type": "stream",
     "text": [
      "['Dallas', 'Chicago', 'Miami', 'Grand Rapids']  is of type  <class 'list'>\n"
     ]
    }
   ],
   "source": [
    "cities = [\"Dallas\",\"Chicago\",\"Miami\",\"Grand Rapids\" ]\n",
    "print(cities,\" is of type \", type(cities))"
   ]
  },
  {
   "cell_type": "code",
   "execution_count": 6,
   "metadata": {},
   "outputs": [
    {
     "data": {
      "text/plain": [
       "4"
      ]
     },
     "execution_count": 6,
     "metadata": {},
     "output_type": "execute_result"
    }
   ],
   "source": [
    "# Get the length of your list using the len() function\n",
    "len(cities)"
   ]
  },
  {
   "cell_type": "code",
   "execution_count": 8,
   "metadata": {},
   "outputs": [
    {
     "name": "stdout",
     "output_type": "stream",
     "text": [
      "Miami\n"
     ]
    }
   ],
   "source": [
    "#Ordered -- accessible via index\n",
    "print(cities[2]) # Print the third item in a list"
   ]
  },
  {
   "cell_type": "code",
   "execution_count": 11,
   "metadata": {},
   "outputs": [
    {
     "name": "stdout",
     "output_type": "stream",
     "text": [
      "Grand Rapids\n"
     ]
    }
   ],
   "source": [
    "print(cities[-1]) # Print the last item in a list"
   ]
  },
  {
   "cell_type": "code",
   "execution_count": 12,
   "metadata": {},
   "outputs": [
    {
     "name": "stdout",
     "output_type": "stream",
     "text": [
      "['Chicago', 'Miami']\n"
     ]
    }
   ],
   "source": [
    "print(cities[1:3]) # print the second and third items. Second value is not inclusive."
   ]
  },
  {
   "cell_type": "code",
   "execution_count": 13,
   "metadata": {},
   "outputs": [
    {
     "name": "stdout",
     "output_type": "stream",
     "text": [
      "['Chicago', 'Miami', 'Grand Rapids']\n"
     ]
    }
   ],
   "source": [
    "print(cities[1:]) # print the second item through the end of the list."
   ]
  },
  {
   "cell_type": "code",
   "execution_count": 14,
   "metadata": {},
   "outputs": [
    {
     "name": "stdout",
     "output_type": "stream",
     "text": [
      "[True, 0, 'Greg Bott', 3.14159, ['steak', 'eggs', 'donuts']]\n"
     ]
    }
   ],
   "source": [
    "# Lists are not limited to containing only values of a single type\n",
    "# A list may contain objects such as another list \n",
    "my_list = [True, 0, \"Greg Bott\", 3.14159, [\"steak\",\"eggs\",\"donuts\"]]\n",
    "print(my_list)"
   ]
  },
  {
   "cell_type": "markdown",
   "metadata": {},
   "source": [
    "## Lists are Mutable"
   ]
  },
  {
   "cell_type": "code",
   "execution_count": 22,
   "metadata": {},
   "outputs": [
    {
     "name": "stdout",
     "output_type": "stream",
     "text": [
      "['Dallas', 'Chicago', 'Miami', 'Grand Rapids']\n",
      "['Dallas', 'Chicago', 'San Antonio', 'Grand Rapids']\n"
     ]
    }
   ],
   "source": [
    "print(cities)\n",
    "cities[2] = \"San Antonio\" # Replace the third entry ('Miami') with 'San Antonio'\n",
    "print(cities) # mutated list object"
   ]
  },
  {
   "cell_type": "markdown",
   "metadata": {},
   "source": [
    "## Adding items to a list\n",
    "* Use append to add elements to the end of a list. This operation *mutates* the list.\n",
    "```Python\n",
    "<list>.append(element)\n",
    "``` \n",
    "\n",
    "Combine lists using the extend() function or + operator\n",
    "```Python\n",
    "<list>.extend(element)\n",
    "\n",
    "<list> + <list>\n",
    "``` \n",
    "\n",
    "Insert an item at specified index location using insert().\n",
    "\n"
   ]
  },
  {
   "cell_type": "code",
   "execution_count": 23,
   "metadata": {},
   "outputs": [
    {
     "name": "stdout",
     "output_type": "stream",
     "text": [
      "['Dallas', 'Chicago', 'San Antonio', 'Grand Rapids']\n",
      "Adding Columbia...\n",
      "['Dallas', 'Chicago', 'San Antonio', 'Grand Rapids', 'Columbia']\n"
     ]
    }
   ],
   "source": [
    "# Use the append() method to add an item to the list\n",
    "print(cities)\n",
    "print('Adding Columbia...')\n",
    "cities.append(\"Columbia\")\n",
    "print(cities)"
   ]
  },
  {
   "cell_type": "code",
   "execution_count": 24,
   "metadata": {},
   "outputs": [
    {
     "name": "stdout",
     "output_type": "stream",
     "text": [
      "['Dallas', 'Chicago', 'San Antonio', 'Grand Rapids', 'Columbia', ['St. Louis', 'Tempe', 'Atlanta']]\n"
     ]
    }
   ],
   "source": [
    "# Using append() to add multiple items results in a list within a list\n",
    "more_cities = ['St. Louis', 'Tempe', 'Atlanta']\n",
    "\n",
    "# append() accepts only 1 argument (an interable)\n",
    "cities.append(more_cities) \n",
    "print(cities)"
   ]
  },
  {
   "cell_type": "code",
   "execution_count": 25,
   "metadata": {},
   "outputs": [
    {
     "data": {
      "text/plain": [
       "'St. Louis'"
      ]
     },
     "execution_count": 25,
     "metadata": {},
     "output_type": "execute_result"
    }
   ],
   "source": [
    "cities[5][0]"
   ]
  },
  {
   "cell_type": "code",
   "execution_count": 31,
   "metadata": {},
   "outputs": [
    {
     "name": "stdout",
     "output_type": "stream",
     "text": [
      "['Dallas', ['Austin', 'Boise'], 'Austin', 'Chicago', 'Miami', 'Grand Rapids', 'Columbia', 'St. Louis', 'Tempe', 'Atlanta']\n",
      "['Dallas', 'Austin', ['Austin', 'Boise'], 'Austin', 'Chicago', 'Miami', 'Grand Rapids', 'Columbia', 'St. Louis', 'Tempe', 'Atlanta']\n"
     ]
    }
   ],
   "source": [
    "# Use insert() to add an item to specific location in the list. \n",
    "print(cities)\n",
    "cities.insert(1, 'Austin') # Insert Austin in the second position\n",
    "print(cities)"
   ]
  },
  {
   "cell_type": "code",
   "execution_count": 32,
   "metadata": {},
   "outputs": [],
   "source": [
    "# Reset the list to the original cities\n",
    "cities = ['Dallas', 'Austin', 'Chicago', 'Miami', 'Grand Rapids', 'Columbia']"
   ]
  },
  {
   "cell_type": "code",
   "execution_count": 33,
   "metadata": {},
   "outputs": [
    {
     "name": "stdout",
     "output_type": "stream",
     "text": [
      "['Dallas', 'Austin', 'Chicago', 'Miami', 'Grand Rapids', 'Columbia', 'St. Louis', 'Tempe', 'Atlanta']\n"
     ]
    }
   ],
   "source": [
    "more_cities = ['St. Louis', 'Tempe', 'Atlanta']\n",
    "\n",
    "# Use extend() when you want to add multiple values to a list\n",
    "cities.extend(more_cities)\n",
    "print(cities)"
   ]
  },
  {
   "cell_type": "markdown",
   "metadata": {},
   "source": [
    "## Copying a list\n",
    "If you use the following expression to create a new list, what you have is two references to a single object, NOT two lists.\n",
    "```Python\n",
    "list_a = list_b\n",
    "```"
   ]
  },
  {
   "cell_type": "code",
   "execution_count": 34,
   "metadata": {},
   "outputs": [
    {
     "name": "stdout",
     "output_type": "stream",
     "text": [
      "a= [1, 2, 3, 4, 5]\n",
      "b= [1, 2, 3, 4, 5]\n"
     ]
    }
   ],
   "source": [
    "list_a = [1,2,3,4,5]\n",
    "\n",
    "list_b = list_a\n",
    "print(\"a=\",list_a)\n",
    "print(\"b=\",list_b)"
   ]
  },
  {
   "cell_type": "code",
   "execution_count": 35,
   "metadata": {},
   "outputs": [
    {
     "name": "stdout",
     "output_type": "stream",
     "text": [
      "a= ['Protein bar', 2, 3, 4, 5]\n",
      "b= ['Protein bar', 2, 3, 4, 5]\n"
     ]
    }
   ],
   "source": [
    "# Change ONLY list_b\n",
    "list_b[0] = 'Protein bar'\n",
    "print(\"a=\",list_a)\n",
    "print(\"b=\",list_b)"
   ]
  },
  {
   "cell_type": "markdown",
   "metadata": {},
   "source": [
    "Even though I did not change list a, changing list b also changed list a because the two lists are not two separate objects. They are two references pointing to the same object."
   ]
  },
  {
   "cell_type": "code",
   "execution_count": 36,
   "metadata": {},
   "outputs": [
    {
     "name": "stdout",
     "output_type": "stream",
     "text": [
      "a= [1, 2, 3, 4, 5]\n",
      "b= [1, 2, 3, 4, 5]\n"
     ]
    }
   ],
   "source": [
    "list_a = [1,2,3,4,5]\n",
    "\n",
    "# To make a *copy* of the object instead of referencing the same object, use copy()\n",
    "list_b = list_a.copy()\n",
    "print(\"a=\",list_a)\n",
    "print(\"b=\",list_b)"
   ]
  },
  {
   "cell_type": "code",
   "execution_count": 37,
   "metadata": {},
   "outputs": [
    {
     "name": "stdout",
     "output_type": "stream",
     "text": [
      "a= [1, 2, 3, 4, 5]\n",
      "b= ['Protein bar', 2, 3, 4, 5]\n"
     ]
    }
   ],
   "source": [
    "# Change ONLY list_b\n",
    "list_b[0] = 'Protein bar'\n",
    "print(\"a=\",list_a)\n",
    "print(\"b=\",list_b)"
   ]
  },
  {
   "cell_type": "markdown",
   "metadata": {},
   "source": [
    "This time, list a did not change. Now we have TWO separate objects. Therefore, changing list b does not affect list a and vice versa."
   ]
  },
  {
   "cell_type": "markdown",
   "metadata": {},
   "source": [
    "## Converting Lists to Strings and Back\n",
    "Using the split() function to separate a string using a delimter (e.g., a comma) creates a list object."
   ]
  },
  {
   "cell_type": "code",
   "execution_count": 43,
   "metadata": {},
   "outputs": [
    {
     "name": "stdout",
     "output_type": "stream",
     "text": [
      "States is of  <class 'str'>\n",
      "['Missouri', ' Alabama', ' Texas', ' Washington', ' Florida'] this is of <class 'list'>\n"
     ]
    }
   ],
   "source": [
    "states = \"Missouri, Alabama, Texas, Washington, Florida\"\n",
    "print(\"States is of \", type(states))\n",
    "\n",
    "states = states.split(\",\")\n",
    "print(states, \"this is of\",type(states))"
   ]
  },
  {
   "cell_type": "code",
   "execution_count": 44,
   "metadata": {},
   "outputs": [
    {
     "name": "stdout",
     "output_type": "stream",
     "text": [
      " Texas\n"
     ]
    }
   ],
   "source": [
    "print(states[2])"
   ]
  },
  {
   "cell_type": "code",
   "execution_count": 45,
   "metadata": {},
   "outputs": [
    {
     "name": "stdout",
     "output_type": "stream",
     "text": [
      "Missouri, Alabama, Texas, Washington, Florida this is of <class 'str'>\n"
     ]
    }
   ],
   "source": [
    "states = ','.join(states)\n",
    "print(states, \"this is of\",type(states))"
   ]
  },
  {
   "cell_type": "code",
   "execution_count": 47,
   "metadata": {},
   "outputs": [
    {
     "name": "stdout",
     "output_type": "stream",
     "text": [
      "user name = monty\n",
      "domain name = python.org\n",
      "['monty', 'python.org']\n"
     ]
    }
   ],
   "source": [
    "# Remember that you may split on any character.\n",
    "#   Here is an example of splitting an email address\n",
    "#   into the user name (string prior to the '@' symbol)\n",
    "#   and the domain (the part following the '@' symbol.')\n",
    "\n",
    "addr = 'monty@python.org'\n",
    "uname, domain = addr.split('@')\n",
    "split_email = addr.split('@' )\n",
    "print(f\"user name = {uname}\")\n",
    "print(f\"domain name = {domain}\")\n",
    "print(split_email)"
   ]
  },
  {
   "cell_type": "markdown",
   "metadata": {},
   "source": [
    "## Using List Comprehensions\n",
    "\n",
    "List comprehensions are a compact method to build lists using a single line of code.\n",
    "\n",
    "Basic syntax\n",
    "```python\n",
    "[ expr for item in iterable ]\n",
    "```\n",
    "\n",
    "Instead of:"
   ]
  },
  {
   "cell_type": "code",
   "execution_count": 49,
   "metadata": {},
   "outputs": [
    {
     "name": "stdout",
     "output_type": "stream",
     "text": [
      "[0, 1, 4, 9, 16, 25, 36, 49, 64, 81, 100, 121]\n"
     ]
    }
   ],
   "source": [
    "# Iteration method to load a list\n",
    "L = []\n",
    "for n in range(0,12):\n",
    "    L.append(n ** 2)\n",
    "print(L)"
   ]
  },
  {
   "cell_type": "code",
   "execution_count": 50,
   "metadata": {},
   "outputs": [
    {
     "name": "stdout",
     "output_type": "stream",
     "text": [
      "[0, 1, 4, 9, 16, 25, 36, 49, 64, 81, 100, 121]\n"
     ]
    }
   ],
   "source": [
    "# Loading items using a List Comprehension\n",
    "L = [n ** 2 for n in range(12)]\n",
    "print(L)"
   ]
  },
  {
   "cell_type": "markdown",
   "metadata": {},
   "source": [
    "## Removing Items from a List"
   ]
  },
  {
   "cell_type": "code",
   "execution_count": 58,
   "metadata": {},
   "outputs": [
    {
     "ename": "TypeError",
     "evalue": "list indices must be integers or slices, not str",
     "output_type": "error",
     "traceback": [
      "\u001b[1;31m---------------------------------------------------------------------------\u001b[0m",
      "\u001b[1;31mTypeError\u001b[0m                                 Traceback (most recent call last)",
      "\u001b[1;32m<ipython-input-58-e4a221b98452>\u001b[0m in \u001b[0;36m<module>\u001b[1;34m\u001b[0m\n\u001b[0;32m      1\u001b[0m \u001b[1;31m# Remove elements by index\u001b[0m\u001b[1;33m\u001b[0m\u001b[1;33m\u001b[0m\u001b[1;33m\u001b[0m\u001b[0m\n\u001b[0;32m      2\u001b[0m \u001b[0mt\u001b[0m \u001b[1;33m=\u001b[0m \u001b[1;33m[\u001b[0m\u001b[1;34m'a'\u001b[0m\u001b[1;33m,\u001b[0m \u001b[1;34m'b'\u001b[0m\u001b[1;33m,\u001b[0m \u001b[1;34m'c'\u001b[0m\u001b[1;33m,\u001b[0m \u001b[1;34m'd'\u001b[0m\u001b[1;33m,\u001b[0m \u001b[1;34m'e'\u001b[0m\u001b[1;33m]\u001b[0m\u001b[1;33m\u001b[0m\u001b[1;33m\u001b[0m\u001b[0m\n\u001b[1;32m----> 3\u001b[1;33m \u001b[1;32mdel\u001b[0m\u001b[1;33m(\u001b[0m\u001b[0mt\u001b[0m\u001b[1;33m[\u001b[0m\u001b[1;34m'c'\u001b[0m\u001b[1;33m]\u001b[0m\u001b[1;33m)\u001b[0m\u001b[1;33m\u001b[0m\u001b[1;33m\u001b[0m\u001b[0m\n\u001b[0m\u001b[0;32m      4\u001b[0m \u001b[0mprint\u001b[0m\u001b[1;33m(\u001b[0m\u001b[0mt\u001b[0m\u001b[1;33m)\u001b[0m\u001b[1;33m\u001b[0m\u001b[1;33m\u001b[0m\u001b[0m\n",
      "\u001b[1;31mTypeError\u001b[0m: list indices must be integers or slices, not str"
     ]
    }
   ],
   "source": [
    "# Remove elements by index\n",
    "t = ['a', 'b', 'c', 'd', 'e']\n",
    "del(t[1])\n",
    "print(t)"
   ]
  },
  {
   "cell_type": "code",
   "execution_count": 63,
   "metadata": {},
   "outputs": [
    {
     "name": "stdout",
     "output_type": "stream",
     "text": [
      "Deleted  e\n",
      "New list is  ['a', 'b', 'c', 'd']\n"
     ]
    }
   ],
   "source": [
    "# Delete the last item on the list. Returns the item deleted. Mutates list.\n",
    "x = t.pop()\n",
    "\n",
    "print('Deleted ', x)\n",
    "print('New list is ', t)"
   ]
  },
  {
   "cell_type": "code",
   "execution_count": 60,
   "metadata": {},
   "outputs": [],
   "source": [
    "# Remove specific element (e.g., remove 'Chicago'), mutates the list.\n",
    "print(cities)\n",
    "\n",
    "cities.remove('Chicago')\n",
    "print(cities)"
   ]
  },
  {
   "cell_type": "code",
   "execution_count": 56,
   "metadata": {},
   "outputs": [
    {
     "ename": "ValueError",
     "evalue": "list.remove(x): x not in list",
     "output_type": "error",
     "traceback": [
      "\u001b[1;31m---------------------------------------------------------------------------\u001b[0m",
      "\u001b[1;31mValueError\u001b[0m                                Traceback (most recent call last)",
      "\u001b[1;32m<ipython-input-56-87c2893e477d>\u001b[0m in \u001b[0;36m<module>\u001b[1;34m\u001b[0m\n\u001b[0;32m      1\u001b[0m \u001b[1;31m# ERROR: If not in list, error.\u001b[0m\u001b[1;33m\u001b[0m\u001b[1;33m\u001b[0m\u001b[1;33m\u001b[0m\u001b[0m\n\u001b[1;32m----> 2\u001b[1;33m \u001b[0mcities\u001b[0m\u001b[1;33m.\u001b[0m\u001b[0mremove\u001b[0m\u001b[1;33m(\u001b[0m\u001b[1;34m'St. Louis'\u001b[0m\u001b[1;33m)\u001b[0m\u001b[1;33m\u001b[0m\u001b[1;33m\u001b[0m\u001b[0m\n\u001b[0m",
      "\u001b[1;31mValueError\u001b[0m: list.remove(x): x not in list"
     ]
    }
   ],
   "source": [
    "# ERROR: If not in list, error.\n",
    "cities.remove('St. Louis')"
   ]
  },
  {
   "cell_type": "markdown",
   "metadata": {},
   "source": [
    "Be careful when removing items from a list. If you attempt to remove items while iterating over the same list, items may be skipped. "
   ]
  },
  {
   "cell_type": "code",
   "execution_count": 65,
   "metadata": {},
   "outputs": [],
   "source": [
    "my_list = [1,2,3,4,5,6,7,8,9,10]"
   ]
  },
  {
   "cell_type": "code",
   "execution_count": 66,
   "metadata": {},
   "outputs": [
    {
     "name": "stdout",
     "output_type": "stream",
     "text": [
      "[1, 2, 3, 4, 5, 7, 9]\n"
     ]
    }
   ],
   "source": [
    "# The intent of this code is to remove numbers greater than 5 from my list.\n",
    "\n",
    "for item in my_list:\n",
    "    if item > 5:\n",
    "        my_list.remove(item)\n",
    "\n",
    "# ERROR: However, 7 and 9 remain because they were skipped as items were removed.\n",
    "print(my_list)"
   ]
  },
  {
   "cell_type": "markdown",
   "metadata": {},
   "source": [
    "One solution is to use a list comprehension."
   ]
  },
  {
   "cell_type": "code",
   "execution_count": 67,
   "metadata": {},
   "outputs": [
    {
     "name": "stdout",
     "output_type": "stream",
     "text": [
      "[1, 2, 3, 4, 5]\n"
     ]
    }
   ],
   "source": [
    "my_list = [1,2,3,4,5,6,7,8,9,10]\n",
    "\n",
    "# Only keep items in the list that are less than 6\n",
    "my_list = [item for item in my_list if item < 6]\n",
    "\n",
    "print(my_list)"
   ]
  },
  {
   "cell_type": "markdown",
   "metadata": {},
   "source": [
    "Another solution is to reverse the list. That way, if the last item (item 9) is deleted, it doesn't alter the indexes of the rest of the list."
   ]
  },
  {
   "cell_type": "code",
   "execution_count": 68,
   "metadata": {},
   "outputs": [
    {
     "name": "stdout",
     "output_type": "stream",
     "text": [
      "[1, 2, 3, 4, 5]\n"
     ]
    }
   ],
   "source": [
    "my_list = [1,2,3,4,5,6,7,8,9,10]\n",
    "\n",
    "# Reverse the list and delete items greater than 5\n",
    "for item in reversed(my_list):\n",
    "    if item > 5:\n",
    "        my_list.remove(item)\n",
    "        \n",
    "print(my_list)"
   ]
  },
  {
   "cell_type": "markdown",
   "metadata": {},
   "source": [
    "## Testing for membership\n",
    "\n",
    "Use the in keyword to test for list membership."
   ]
  },
  {
   "cell_type": "code",
   "execution_count": 69,
   "metadata": {},
   "outputs": [
    {
     "name": "stdout",
     "output_type": "stream",
     "text": [
      "['Dallas', 'Austin', 'Grand Rapids', 'Columbia', 'Tempe', 'Atlanta']\n",
      "True\n",
      "False\n"
     ]
    }
   ],
   "source": [
    "print(cities)\n",
    "print(\"Dallas\" in cities)\n",
    "print(\"Tuscaloosa\" in cities)"
   ]
  },
  {
   "cell_type": "markdown",
   "metadata": {},
   "source": [
    "## Iterating a list\n",
    "\n",
    "Use a for loop to iterate a list."
   ]
  },
  {
   "cell_type": "code",
   "execution_count": 72,
   "metadata": {},
   "outputs": [
    {
     "name": "stdout",
     "output_type": "stream",
     "text": [
      "Dallas\n",
      "Austin\n",
      "Grand Rapids\n",
      "Columbia\n",
      "Tempe\n",
      "Atlanta\n"
     ]
    }
   ],
   "source": [
    "# Loop through list\n",
    "for city in cities:\n",
    "    print(city)"
   ]
  },
  {
   "cell_type": "markdown",
   "metadata": {},
   "source": [
    "Use the len() function to determine how many items are in the list and use that within a range() function."
   ]
  },
  {
   "cell_type": "code",
   "execution_count": 73,
   "metadata": {},
   "outputs": [
    {
     "name": "stdout",
     "output_type": "stream",
     "text": [
      "Dallas Austin Grand Rapids Columbia Tempe Atlanta "
     ]
    }
   ],
   "source": [
    "for i in range(len(cities)):\n",
    "    print(cities[i],end=\" \")"
   ]
  },
  {
   "cell_type": "markdown",
   "metadata": {},
   "source": [
    "## List Concatenation\n"
   ]
  },
  {
   "cell_type": "code",
   "execution_count": 74,
   "metadata": {},
   "outputs": [
    {
     "name": "stdout",
     "output_type": "stream",
     "text": [
      "c =  [1, 2, 3, 4, 5, 6]\n",
      "a =  [1, 2, 3]\n",
      "b =  [4, 5, 6]\n"
     ]
    }
   ],
   "source": [
    "# Use the '+' operator to concatenate lists\n",
    "a = [1,2,3]\n",
    "b = [4,5,6]\n",
    "c = a + b # does not mutate 'a' or 'b'\n",
    "\n",
    "print(\"c = \", c)\n",
    "\n",
    "print(\"a = \", a)\n",
    "print(\"b = \", b)"
   ]
  },
  {
   "cell_type": "markdown",
   "metadata": {},
   "source": [
    "## Extending a list"
   ]
  },
  {
   "cell_type": "code",
   "execution_count": 75,
   "metadata": {},
   "outputs": [
    {
     "name": "stdout",
     "output_type": "stream",
     "text": [
      "list 'a' =  [1, 2, 3]\n",
      "list 'b' = [4, 5, 6]\n",
      "list 'a' = [1, 2, 3, 4, 5, 6]\n",
      "list 'b' = [4, 5, 6]\n",
      "[1, 2, 3, 4, 5, 6]\n"
     ]
    }
   ],
   "source": [
    "print(\"list 'a' = \", a)\n",
    "print(\"list 'b' =\", b)\n",
    "\n",
    "a.extend(b) # This combines a and b, mutates a but not b\n",
    "\n",
    "print(\"list 'a' =\", a)\n",
    "print(\"list 'b' =\", b)\n",
    "print(c)"
   ]
  },
  {
   "cell_type": "code",
   "execution_count": 76,
   "metadata": {},
   "outputs": [
    {
     "name": "stdout",
     "output_type": "stream",
     "text": [
      "[1, 2, 3, 4, 5, 6, 1, 2, 3, 4, 5, 6, 1, 2, 3, 4, 5, 6]\n"
     ]
    }
   ],
   "source": [
    "# Use the '*' operator to repeat items\n",
    "print(a * 3)"
   ]
  },
  {
   "cell_type": "markdown",
   "metadata": {},
   "source": [
    "##Slicing Lists\n",
    "You can return parts of a list using slicing operators. Other objects (e.g., strings and tuples) can also be sliced."
   ]
  },
  {
   "cell_type": "code",
   "execution_count": 77,
   "metadata": {},
   "outputs": [
    {
     "name": "stdout",
     "output_type": "stream",
     "text": [
      "['b', 'c']\n"
     ]
    }
   ],
   "source": [
    "# Slicing operations\n",
    "\n",
    "t = ['a', 'b','c','d','e','f','g']\n",
    "\n",
    "# return the 2nd and 3rd elements in t\n",
    "print(t[1:3])"
   ]
  },
  {
   "cell_type": "code",
   "execution_count": 78,
   "metadata": {},
   "outputs": [
    {
     "name": "stdout",
     "output_type": "stream",
     "text": [
      "['a', 'b', 'c']\n"
     ]
    }
   ],
   "source": [
    "# Omitting the first parameter tells the intepreter to start at the beginning\n",
    "print(t[:3])"
   ]
  },
  {
   "cell_type": "code",
   "execution_count": 79,
   "metadata": {},
   "outputs": [
    {
     "name": "stdout",
     "output_type": "stream",
     "text": [
      "['d', 'e', 'f', 'g']\n"
     ]
    }
   ],
   "source": [
    "# Omitting the second paramter tells the interpreter to continue to the end\n",
    "# start with the third element and return all elements to the end of the list\n",
    "print(t[3:])"
   ]
  },
  {
   "cell_type": "code",
   "execution_count": 81,
   "metadata": {},
   "outputs": [
    {
     "name": "stdout",
     "output_type": "stream",
     "text": [
      "Last item in the list =  f\n"
     ]
    }
   ],
   "source": [
    "# Get the last item\n",
    "print(\"Last item in the list = \", t[-1])"
   ]
  },
  {
   "cell_type": "code",
   "execution_count": 82,
   "metadata": {},
   "outputs": [
    {
     "name": "stdout",
     "output_type": "stream",
     "text": [
      "['a', 'b', 'c', 'd', 'e', 'f', 'watermelon']\n"
     ]
    }
   ],
   "source": [
    "# Use Negative slicing to replace the last item in the ist\n",
    "t[-1] = 'watermelon'\n",
    "print(t)"
   ]
  },
  {
   "cell_type": "markdown",
   "metadata": {},
   "source": [
    "## Sorting Lists"
   ]
  },
  {
   "cell_type": "code",
   "execution_count": 87,
   "metadata": {},
   "outputs": [
    {
     "name": "stdout",
     "output_type": "stream",
     "text": [
      "sorted list =  ['a', 'n', 'r', 'w', 'x', 'y']\n",
      "my_letters =  ['n', 'r', 'y', 'x', 'a', 'w']\n"
     ]
    }
   ],
   "source": [
    "# Use sorted() to display a sorted list but not mutate it.\n",
    "my_letters = ['n','r','y','x','a','w']\n",
    "\n",
    "print(\"sorted list = \", sorted(my_letters))\n",
    "print(\"my_letters = \", my_letters)"
   ]
  },
  {
   "cell_type": "code",
   "execution_count": 84,
   "metadata": {},
   "outputs": [
    {
     "name": "stdout",
     "output_type": "stream",
     "text": [
      "['a', 'n', 'r', 'w', 'x', 'y']\n"
     ]
    }
   ],
   "source": [
    "# Use the sort() method to sort the items in a list\n",
    "my_letters.sort()\n",
    "print(my_letters)"
   ]
  },
  {
   "cell_type": "code",
   "execution_count": 85,
   "metadata": {},
   "outputs": [
    {
     "name": "stdout",
     "output_type": "stream",
     "text": [
      "None\n"
     ]
    }
   ],
   "source": [
    "# Don't do this...sort() returns \"None\"\n",
    "my_letters = my_letters.sort() \n",
    "print(my_letters)"
   ]
  },
  {
   "cell_type": "code",
   "execution_count": 88,
   "metadata": {},
   "outputs": [
    {
     "name": "stdout",
     "output_type": "stream",
     "text": [
      "['y', 'x', 'w', 'r', 'n', 'a']\n"
     ]
    }
   ],
   "source": [
    "# Reverse a list\n",
    "my_letters.sort(reverse=True)\n",
    "print(my_letters)"
   ]
  },
  {
   "cell_type": "markdown",
   "metadata": {},
   "source": [
    "## Use a list to return more than one value from a function"
   ]
  },
  {
   "cell_type": "code",
   "execution_count": 89,
   "metadata": {},
   "outputs": [
    {
     "name": "stdout",
     "output_type": "stream",
     "text": [
      "[30, 33.0, 34.5, 36.0]\n",
      "<class 'list'>\n"
     ]
    }
   ],
   "source": [
    "# Use a list to return more than one value from a function\n",
    "def tip_options(amount):\n",
    "    # Use a list to return three tipping options (10%, 15%, 20%)\n",
    "    return[amount, amount*1.10, amount*1.15, amount*1.2]\n",
    "\n",
    "print(tip_options(30))\n",
    "print(type(tip_options(30)))"
   ]
  },
  {
   "cell_type": "markdown",
   "metadata": {},
   "source": [
    "## Working With Nested Lists"
   ]
  },
  {
   "cell_type": "code",
   "execution_count": 90,
   "metadata": {},
   "outputs": [
    {
     "name": "stdout",
     "output_type": "stream",
     "text": [
      "Chevrolet\n",
      "Mindhunter\n"
     ]
    }
   ],
   "source": [
    "my_list = [['Ford','Chevrolet','Volkswagen'],\n",
    "           ['F150','Suburban','Passat'],\n",
    "           ['Big Bang Theory','Young Sheldon','Mindhunter']]\n",
    "\n",
    "print(my_list[0][1]) # row zero, item 2 (index 1)\n",
    "print(my_list[2][2]) # row 3, item 3 (index 2)\n"
   ]
  },
  {
   "cell_type": "code",
   "execution_count": 91,
   "metadata": {},
   "outputs": [
    {
     "name": "stdout",
     "output_type": "stream",
     "text": [
      "x = 10 y = 5\n",
      "x = 5 y = 10\n"
     ]
    }
   ],
   "source": [
    "# Use a list to swap values\n",
    "y = 5\n",
    "x = 10\n",
    "\n",
    "print('x =', x, 'y =', y)\n",
    "\n",
    "[x, y] = [y, x]\n",
    "\n",
    "print('x =', x, 'y =', y)"
   ]
  },
  {
   "cell_type": "markdown",
   "metadata": {
    "toc-nb-collapsed": true
   },
   "source": [
    "# Sets\n",
    "* Sets are unordered.\n",
    "* Set elements are unique. Duplicate elements are not allowed.\n",
    "* You may add or remove items from the set, but you cannot edit an item in a set.\n",
    "* Accessing items by index (e.g., myset[1]) is NOT supported.\n",
    "* Sets are denoted by curly braces.\n",
    "* Membership tests are more efficient using sets than lists or tuples.\n",
    "\n",
    "You can define a set using the set() function.b\n",
    "```python\n",
    "x = set(<iter>)\n",
    "```"
   ]
  },
  {
   "cell_type": "code",
   "execution_count": 93,
   "metadata": {
    "jupyter": {
     "source_hidden": true
    }
   },
   "outputs": [
    {
     "name": "stdout",
     "output_type": "stream",
     "text": [
      "{'b', 1, 'a', 'c'}\n",
      "['a', 'b', 1, 'c', 1]\n"
     ]
    }
   ],
   "source": [
    "my_list = ['a','b',1, 'c', 1]\n",
    "set2 = set(my_list)\n",
    "print(set2)\n",
    "print(my_list)"
   ]
  },
  {
   "cell_type": "markdown",
   "metadata": {},
   "source": [
    "You can also create a set using curly braces {}. However, you cannot create an empty set using a pair of curly braces like you can for a list."
   ]
  },
  {
   "cell_type": "code",
   "execution_count": 94,
   "metadata": {},
   "outputs": [
    {
     "name": "stdout",
     "output_type": "stream",
     "text": [
      "<class 'dict'>\n",
      "<class 'set'>\n"
     ]
    }
   ],
   "source": [
    "# INCORRECT\n",
    "my_set = {}  # <-- results in a dictionary, NOT a set\n",
    "print(type(my_set))\n",
    "\n",
    "# Instead use the set constructor\n",
    "my_set = set()\n",
    "print(type(my_set))"
   ]
  },
  {
   "cell_type": "code",
   "execution_count": 95,
   "metadata": {},
   "outputs": [
    {
     "name": "stdout",
     "output_type": "stream",
     "text": [
      "<class 'set'>\n",
      "{1, 3, 5, 6, 7, 'red'}\n"
     ]
    }
   ],
   "source": [
    "# Use curly braces to create a set\n",
    "my_set = {1,1, 6,7, 3, 5,5,5,5,5, 'red'}\n",
    "print(type(my_set))\n",
    "print(my_set)"
   ]
  },
  {
   "cell_type": "code",
   "execution_count": null,
   "metadata": {},
   "outputs": [],
   "source": [
    "# Error - sets are unordered and not accessible by subscript\n",
    "my_set[0]"
   ]
  },
  {
   "cell_type": "markdown",
   "metadata": {},
   "source": [
    "## Why do I care about sets?\n",
    "Sets in Python provide the same benefits as sets in mathematics. Sets contain a well-defined collection of distinct objects called elements. Using the set object enables you to efficiently perform set operations such as union and intersection.\n",
    "\n",
    "![](images/data_science_diagram.png) <br>\n",
    "(image source: https://towardsdatascience.com)"
   ]
  },
  {
   "cell_type": "markdown",
   "metadata": {},
   "source": [
    "## Creating sets\n",
    "Use curly braces to denote a set or use the set() constructor. If you use set(), you must provide an iterable as the argument."
   ]
  },
  {
   "cell_type": "code",
   "execution_count": 96,
   "metadata": {},
   "outputs": [],
   "source": [
    "# Persons with expertise in specific areas\n",
    "cs_expertise = {\"Bill\", \"Matt\", \"Alexandra\", \"Joe\", \"Dexter\"}\n",
    "stats_expertise = set([\"Dexter\", \"Subha\", \"Brad\", \"Bruce\"])\n",
    "business_expertise = {\"Kay\",\"Jonathan\",\"Dexter\",\"Suzanne\", \"Matt\"}"
   ]
  },
  {
   "cell_type": "markdown",
   "metadata": {},
   "source": [
    "You can also use the set() method to create a set. The argument for the set method must be an iterable."
   ]
  },
  {
   "cell_type": "code",
   "execution_count": null,
   "metadata": {},
   "outputs": [],
   "source": [
    "#Use the set() method to create a set, parameter must be <iter> (an iterable --e.g., a list)\n",
    "my_set2 = set(['foo', 'bar', 3.141, 'bar'])\n",
    "print(my_set2)"
   ]
  },
  {
   "cell_type": "code",
   "execution_count": null,
   "metadata": {},
   "outputs": [],
   "source": [
    "#Error creating tropical_fruits set using set() contructor...why?\n",
    "tropical_fruits = set(\"Guava\", \"Dragon Fruit\", \"Banana\",\"Banana\")\n",
    "temperate_fruits = {\"Apple\", \"Peach\", \"Plum\"}\n",
    "\n",
    "all_fruit = tropical_fruits.union(temperate_fruits)\n",
    "print(all_fruit)"
   ]
  },
  {
   "cell_type": "code",
   "execution_count": 97,
   "metadata": {},
   "outputs": [
    {
     "name": "stdout",
     "output_type": "stream",
     "text": [
      "{'Dexter'}\n"
     ]
    }
   ],
   "source": [
    "# Who might be suited for Data Science (intersection of three topics)\n",
    "data_scientists = cs_expertise.intersection(stats_expertise, business_expertise)\n",
    "print(data_scientists)"
   ]
  },
  {
   "cell_type": "code",
   "execution_count": 98,
   "metadata": {},
   "outputs": [
    {
     "name": "stdout",
     "output_type": "stream",
     "text": [
      "The set of Loch Ness Monsters is False\n",
      "\n",
      "Added Marvin to monster set...\n",
      "The set of Loch Ness Monsters is True {'Marvin'}\n",
      "The length of the monster set is 1\n"
     ]
    }
   ],
   "source": [
    "#Empty sets are evaluated as False\n",
    "loch_ness_monsters = set()\n",
    "print(\"The set of Loch Ness Monsters is \" + str(bool(loch_ness_monsters)))\n",
    "print()\n",
    "\n",
    "#You can add, update, and remove items, but you cannot change items in a set\n",
    "loch_ness_monsters.add(\"Marvin\")\n",
    "print(\"Added Marvin to monster set...\")\n",
    "print(\"The set of Loch Ness Monsters is \" + str(bool(loch_ness_monsters)), loch_ness_monsters)\n",
    "print(\"The length of the monster set is \" + str(len(loch_ness_monsters)))"
   ]
  },
  {
   "cell_type": "code",
   "execution_count": 100,
   "metadata": {},
   "outputs": [
    {
     "name": "stdout",
     "output_type": "stream",
     "text": [
      "{75, 76, 77, 78, 79, 81, 82, 83, 84, 86, 87, 88, 89, 90, 91, 92, 93, 94, 95, 96, 97, 98, 99, 100}\n"
     ]
    }
   ],
   "source": [
    "# Reduce this list of grades to only have unique values\n",
    "grades = {81,100,81,89,99,99,99,76,94,93,86,75,88,96,76,87,90,81,78,99,83,94,75,83,92,96,81,99,89,99,98,100,95,84,94,97,100,92,97,98,92,95,88,90,98,87,86,95,86,84,91,87,88,83,89,84,98,75,90,100,79,83,94,89,93,84,83,94,84,93,97,75,81,91,84,78,89,96,97,99,90,98,83,93,96,98,91,77,98,97,76,98,75,89,92,81,83,84,82,94,89,77,96,94,100,86,79,87,78,83,86,89,99,77,96,88,91,86,89,99,82,83,92,91,84,83,76,89,90,82,75,84,83,81,96,87,90,82,93,76,86,100,81,88,100,94,84,99,77,91,92,98,88,90,83,88}\n",
    "print(grades)"
   ]
  },
  {
   "cell_type": "code",
   "execution_count": null,
   "metadata": {},
   "outputs": [],
   "source": [
    "c_and_higher = set(range(75,101))\n",
    "\n",
    "missing_grades = grades.symmetric_difference(c_and_higher)\n",
    "\n",
    "print(\"What grades are missing from 75-100?: \" + str(missing_grades))"
   ]
  },
  {
   "cell_type": "markdown",
   "metadata": {},
   "source": [
    "# Dictionaries\n",
    "\n",
    "Think of dictionaries like a list, but with a flexible index. The List index must be an integer, but the index or keys used to associate values can be any immutable data type.\n",
    "\n",
    "Dictionaries are **unordered** and use key-value pairs to store and retrieve data. In other languages this structure might be called an *associative array*.\n"
   ]
  },
  {
   "cell_type": "markdown",
   "metadata": {},
   "source": [
    "## Creating dictionaries\n",
    "Use curly braces and a colon to indicate to the interpreter that you are creating a dictionary data structure. A key can be any immutable data type.\n",
    "\n",
    "Pretty Print is a module that displays dictionaries in a more human-readable format."
   ]
  },
  {
   "cell_type": "code",
   "execution_count": null,
   "metadata": {},
   "outputs": [],
   "source": [
    "import pprint as pp\n",
    "import pathlib\n",
    "import json"
   ]
  },
  {
   "cell_type": "code",
   "execution_count": null,
   "metadata": {},
   "outputs": [],
   "source": [
    "# The employee ID is associated with the employee name\n",
    "employees = {\"2334\":\"Greg Bott\", \"2335\":\"John Gilbert\", \"2336\":\"Bill Hampton\",\"2337\":\"Joe Odom\"}\n",
    "pp.pprint(employees)"
   ]
  },
  {
   "cell_type": "code",
   "execution_count": null,
   "metadata": {},
   "outputs": [],
   "source": [
    "# Create an empty dictionary\n",
    "person = {}\n",
    "\n",
    "#Display the type of the 'person' variable\n",
    "print(type(person))\n",
    "\n",
    "\n",
    "person[1000] = {'first_name':'Greg', 'last_name':'Bott', 'spouse':'Amy', 'children':['John Davis', 'Piper', 'Will', 'Truett'], 'pets':{'Bama':'dog', 'TJ':'cat'}}\n",
    "person[1001] = {'first_name':'Joe', 'last_name':'Devlin', 'spouse':'Suzanne', 'children':['CK', 'Alan', 'Devin', 'Tom'], 'pets':{'Orangey':'gold fish', 'Hammer':'turtle'}}\n",
    "\n",
    "pp.pprint(person)"
   ]
  },
  {
   "cell_type": "markdown",
   "metadata": {},
   "source": [
    "### Creating a dictionary from a JSON file"
   ]
  },
  {
   "cell_type": "code",
   "execution_count": null,
   "metadata": {},
   "outputs": [],
   "source": [
    "# create Path object for file path\n",
    "fb_game_path = pathlib.Path('files', '2017_Alabama_v_LSU.json')\n",
    "\n",
    "if fb_game_path.exists():\n",
    "    # open the data filepath\n",
    "    with open(fb_game_path, 'r') as fp:\n",
    "\n",
    "        # read the bytes from the datafile\n",
    "        json_bytes = fp.read()\n",
    "\n",
    "        # decode the bytes to utf-8\n",
    "        #json_str = json_bytes.decode('utf-8')\n",
    "\n",
    "        # load the decoded bytes as JSON\n",
    "        game_data = json.loads(json_bytes)\n",
    "        \n",
    "        print(f'The game file includes {len(game_data)} records.')\n",
    "else:\n",
    "    print('{fb_game_path.name} does not exist')"
   ]
  },
  {
   "cell_type": "code",
   "execution_count": null,
   "metadata": {},
   "outputs": [],
   "source": [
    "for drive in game_data['drives']['previous']:\n",
    "    print(drive['displayResult'])"
   ]
  },
  {
   "cell_type": "code",
   "execution_count": null,
   "metadata": {},
   "outputs": [],
   "source": [
    "list(game_data.items())[:10]"
   ]
  },
  {
   "cell_type": "code",
   "execution_count": null,
   "metadata": {},
   "outputs": [],
   "source": [
    "for drive in game_data['drives']['previous']:\n",
    "    for play in drive['plays']:\n",
    "        print(play['text'])"
   ]
  },
  {
   "cell_type": "markdown",
   "metadata": {},
   "source": [
    "## Accessing data in a dictionary\n",
    "Use ```dict[key]``` to return the value from the key-value pair. If the value doesn't exist, an exception is thrown. Use the get() method to retrieve keys and handle missing keys more gracefully.\n",
    "\n",
    "You can also use ```keys()``` to list the keys in your dictionaries, ```values``` to access the values of the key-value pair or ```items()``` to access both."
   ]
  },
  {
   "cell_type": "code",
   "execution_count": null,
   "metadata": {},
   "outputs": [],
   "source": [
    "# Using the employee ID (key), display the name of the employee (value)\n",
    "print(employees[\"2334\"])"
   ]
  },
  {
   "cell_type": "code",
   "execution_count": null,
   "metadata": {},
   "outputs": [],
   "source": [
    "# Print the first_name attribute of the person 1001 key.\n",
    "print(person[1001]['first_name'])"
   ]
  },
  {
   "cell_type": "markdown",
   "metadata": {},
   "source": [
    "### Using the get() method\n",
    "Use the get() method to access keys. Using get() avoids a KeyError if the desired key does not exist. Instead, Python returns the None value."
   ]
  },
  {
   "cell_type": "code",
   "execution_count": null,
   "metadata": {},
   "outputs": [],
   "source": [
    "print(employees.get(\"2334\"))\n",
    "print(employees.get(\"9999\"))"
   ]
  },
  {
   "cell_type": "code",
   "execution_count": null,
   "metadata": {},
   "outputs": [],
   "source": [
    "# You can also provide a default value if a key does not exist\n",
    "print(employees.get('ss_number', 'no SS# provided'))"
   ]
  },
  {
   "cell_type": "code",
   "execution_count": null,
   "metadata": {},
   "outputs": [],
   "source": [
    "# Use a List as values a dictionary\n",
    "make_model = {\"Ford\":[\"Mustang\",\"Explorer\",\"Focus\"],\"Volkswagen\":[\"Passat\",\"Jetta\",\"Beetle\"]}\n",
    "print(make_model[\"Ford\"])"
   ]
  },
  {
   "cell_type": "code",
   "execution_count": null,
   "metadata": {},
   "outputs": [],
   "source": [
    "print(person[1000]['first_name'])"
   ]
  },
  {
   "cell_type": "code",
   "execution_count": null,
   "metadata": {},
   "outputs": [],
   "source": [
    "# Replace values using a key\n",
    "pp.pprint(person[1001])\n",
    "person[1001]['pets'] = {'flying squirrel':'Rocky'}\n",
    "pp.pprint(person[1001])"
   ]
  },
  {
   "cell_type": "markdown",
   "metadata": {},
   "source": [
    "### Using a loop to examine a dictionary\n",
    "Although looping through a dictionary fails to take advantage the speed of a dictionary, sometimes you may find it useful. Remember that dictionaries contain a key / value pair and that you must loop through them differently than you would a list."
   ]
  },
  {
   "cell_type": "code",
   "execution_count": null,
   "metadata": {},
   "outputs": [],
   "source": [
    "# Attempting to interate through a dictionary as you would a list \n",
    "#   will yield only the keys\n",
    "for x in employees:\n",
    "    print(x)"
   ]
  },
  {
   "cell_type": "code",
   "execution_count": null,
   "metadata": {},
   "outputs": [],
   "source": [
    "# Instead, use the items() method to return both the key and the value\n",
    "for x, y in employees.items(): # x = key; y = value\n",
    "    print(x,y) "
   ]
  },
  {
   "cell_type": "markdown",
   "metadata": {},
   "source": [
    "### Using a loop to add values to a dictionary.\n",
    "So far we have manually added items to a dictionary. Most often you will add items progamatically (e.g., using a loop) rather than manually. Below is part of the code I use find duplicate files using an MD5 hash. A hash is a one-way algorithm applied to an object that results in a fixed-length string that uniquely identifies that object.\n",
    "\n",
    "We'll use the os module to access the file system and the hashlib to apply the MD5 algorithm to the files and then store them in a dictionary using the MD5 value as the key."
   ]
  },
  {
   "cell_type": "code",
   "execution_count": null,
   "metadata": {},
   "outputs": [],
   "source": [
    "import os\n",
    "import hashlib\n",
    "import pprint as pp\n",
    "\n",
    "# Create a blank dictionary\n",
    "os_files = {}\n",
    "\n",
    "# Hash Function\n",
    "def hashfile(path, blocksize=65536):\n",
    "    file_to_hash = open(path, 'rb')\n",
    "    hasher = hashlib.md5()\n",
    "    buf = file_to_hash.read(blocksize)\n",
    "    while len(buf) > 0:\n",
    "        hasher.update(buf)\n",
    "        buf = file_to_hash.read(blocksize)\n",
    "    file_to_hash.close()\n",
    "    return hasher.hexdigest()\n",
    "\n",
    "for file in os.listdir():\n",
    "    # Use error handling to avoid file permission issues\n",
    "    try:\n",
    "        # Use the hash value returned from the hashfile() function as the key and append the file name to it.\n",
    "        os_files[hashfile(file)] = file\n",
    "    except:\n",
    "        pass\n",
    "    \n",
    "# Display the Dictionary\n",
    "pp.pprint(os_files)"
   ]
  },
  {
   "cell_type": "markdown",
   "metadata": {},
   "source": [
    "### Check for Values in a Dictionary\n",
    "\n",
    "To determine if a value is present within a key, us the *in* keyword."
   ]
  },
  {
   "cell_type": "code",
   "execution_count": null,
   "metadata": {},
   "outputs": [],
   "source": [
    "print(\"Focus\" in make_model[\"Ford\"])\n",
    "print(\"Explorer II\" in make_model[\"Ford\"])"
   ]
  },
  {
   "cell_type": "markdown",
   "metadata": {},
   "source": [
    "### Access Specific item in key value\n",
    "\n",
    "Individual values associated with a key may be accessed by an index value."
   ]
  },
  {
   "cell_type": "code",
   "execution_count": null,
   "metadata": {},
   "outputs": [],
   "source": [
    "# Print the third value associated with the Ford key.\n",
    "print(make_model['Ford'][2])"
   ]
  },
  {
   "cell_type": "markdown",
   "metadata": {},
   "source": [
    "### Check for Keys in a Dictionary"
   ]
  },
  {
   "cell_type": "code",
   "execution_count": null,
   "metadata": {},
   "outputs": [],
   "source": [
    "search_key = \"Focus\"\n",
    "if search_key in make_model:\n",
    "    print(f\"'{search_key}' key found in dictionary!\")\n",
    "else:\n",
    "    print(f\"'{search_key}' key NOT found in dictionary.\")"
   ]
  },
  {
   "cell_type": "markdown",
   "metadata": {},
   "source": [
    "### Attempting to Access Keys that Don't exist\n",
    "If you attempt to access a key that does not exist within the dictionary, Python will raise an exception\n"
   ]
  },
  {
   "cell_type": "code",
   "execution_count": null,
   "metadata": {},
   "outputs": [],
   "source": [
    "\n",
    "person[1000] = {'first_name':'Greg', 'last_name':'Bott', 'spouse':'Amy', 'children':['John Davis', 'Piper', 'Will', 'Truett'], 'pets':{'Bama':'dog', 'TJ':'cat'}}\n",
    "person[1001] = {'first_name':'Joe', 'last_name':'Devlin', 'spouse':'Suzanne', 'children':['CK', 'Alan', 'Devin', 'Tom'], 'pets':{'Orangey':'gold fish', 'Hammer':'turtle'}}\n"
   ]
  },
  {
   "cell_type": "code",
   "execution_count": null,
   "metadata": {},
   "outputs": [],
   "source": [
    "# ERROR: KeyError (key does not exist in the dictionary)\n",
    "print(person['fname'])\n",
    "print(person['ss_number'])"
   ]
  },
  {
   "cell_type": "markdown",
   "metadata": {},
   "source": [
    "### Updating dictionary values\n",
    "Assigning a value to an existing key/value pair will replace the value.\n",
    "\n",
    "You can also use the update method to replace multiple values in a dictionary and add new values.\n",
    "\n",
    "```update()``` takes a dictionary as its parameter."
   ]
  },
  {
   "cell_type": "raw",
   "metadata": {},
   "source": [
    "pp.pprint(person)"
   ]
  },
  {
   "cell_type": "code",
   "execution_count": null,
   "metadata": {},
   "outputs": [],
   "source": [
    "person[1000].update({'first_name':'Gregory','ss_number':'123-45-6789','middle':'Hamilton'})\n",
    "pp.pprint(person)"
   ]
  },
  {
   "cell_type": "code",
   "execution_count": null,
   "metadata": {},
   "outputs": [],
   "source": [
    "# Use the append() method of a key to append a value\n",
    "#   Here we are adding Sally to Joe Devlin's children\n",
    "person[1001]['children'].append('Sally')\n",
    "pp.pprint(person[1001])"
   ]
  },
  {
   "cell_type": "markdown",
   "metadata": {},
   "source": [
    "### Removing an item from the dictionary\n",
    "You can use del or pop to remove items from a dictionary. Just as in a list, ```pop``` returns the value deleted that you can store in a variable."
   ]
  },
  {
   "cell_type": "code",
   "execution_count": null,
   "metadata": {},
   "outputs": [],
   "source": [
    "del person['pets']\n",
    "print(person)"
   ]
  },
  {
   "cell_type": "code",
   "execution_count": null,
   "metadata": {},
   "outputs": [],
   "source": [
    "print(person)\n",
    "ss_number = person.pop('ss_number')\n",
    "print(ss_number)"
   ]
  },
  {
   "cell_type": "markdown",
   "metadata": {},
   "source": [
    "### Clear a dictionary\n",
    "Use the clear() method to empty the contents of a dictionary."
   ]
  },
  {
   "cell_type": "code",
   "execution_count": null,
   "metadata": {},
   "outputs": [],
   "source": [
    "print(person)\n",
    "person.clear()\n",
    "print(person)"
   ]
  },
  {
   "cell_type": "markdown",
   "metadata": {},
   "source": [
    "# Regular Expressions\n",
    "RegEx or regular expressions is a sequence of characters that match other strings or sets of strings, using a specialized syntax pattern. Python has a built-in package called re, which can be used to work with regular expressions. To use the re package, import re."
   ]
  },
  {
   "cell_type": "markdown",
   "metadata": {},
   "source": [
    "## Raw Strings\n",
    "\n",
    "To avoid Python escaping the RegEx patterns, prefix the patter with 'r'."
   ]
  },
  {
   "cell_type": "markdown",
   "metadata": {},
   "source": [
    "## Regex Cheat Sheet\n",
    "\n",
    "source: https://regexone.com\n",
    "\n",
    "For an excellent interactive tutorial, go to https://regexone.com/lesson/introduction_abcs\n",
    "\n",
    "To test and learn more about RegEx, https://regexr.com/ is also a helpful site.\n",
    "\n",
    "abc…\tLetters<br>\n",
    "123…\tDigits<br>\n",
    "\\d\tAny Digit<br>\n",
    "\\D\tAny Non-digit character<br>\n",
    ".\tAny Character<br>\n",
    "\\.\tPeriod<br>\n",
    "[abc]\tOnly a, b, or c<br>\n",
    "[^abc]\tNot a, b, nor c<br>\n",
    "[a-z]\tCharacters a to z<br>\n",
    "[0-9]\tNumbers 0 to 9<br>\n",
    "\\w\tAny Alphanumeric character<br>\n",
    "\\W\tAny Non-alphanumeric character<br>\n",
    "{m}\tm Repetitions<br>\n",
    "{m,n}\tm to n Repetitions<br>\n",
    "\\*\tZero or more repetitions<br>\n",
    "\\+\tOne or more repetitions<br>\n",
    "?\tOptional character<br>\n",
    "\\s\tAny Whitespace<br>\n",
    "\\S\tAny Non-whitespace character<br>\n",
    "^…$\tStarts and ends<br>\n",
    "(…)\tCapture Group<br>\n",
    "(a(bc))\tCapture Sub-group<br>\n",
    "(.*)\tCapture all<br>\n",
    "(abc|def)\tMatches abc or def<br>"
   ]
  },
  {
   "cell_type": "code",
   "execution_count": null,
   "metadata": {},
   "outputs": [],
   "source": [
    "# Import the built-in Regular Expressions package\n",
    "import re\n",
    "import pprint as pp\n",
    "\n",
    "email_header = \"From stephen.marquard@uct.ac.za Sat Jan 5 09:14:16 2008 Return-Path: <postmaster@collab.sakaiproject.org> for <source@collab.sakaiproject.org>;Received: (from apache@localhost) Author:  stephen.marquard@uct.ac.za\"\n",
    "\n",
    "found_text = re.findall('\\d\\d:\\d\\d:\\d\\d', email_header)\n",
    "print(found_text)\n",
    "print(\"found text is of type\",type(found_text))\n",
    "\n",
    "author = re.findall('Author:\\s+\\S+', email_header)\n",
    "print(author)"
   ]
  },
  {
   "cell_type": "code",
   "execution_count": null,
   "metadata": {},
   "outputs": [],
   "source": [
    "mboxfile = open(\"files\\\\mbox-short.txt\", \"r\")\n",
    "\n",
    "for line in mboxfile:\n",
    "    line = line.rstrip()\n",
    "    \n",
    "    # Search for lines that start with 'F', followed by 2 characters, followed by 'm:'\n",
    "    if re.search('F..m:', line):        \n",
    "        print(line)\n",
    "mboxfile.close()"
   ]
  },
  {
   "cell_type": "code",
   "execution_count": null,
   "metadata": {},
   "outputs": [],
   "source": [
    "# Store all email addresses into a list (deep treatment of finding emails usign Regex: https://www.regular-expressions.info/email.html)\n",
    "mboxfile = open(\"files\\\\mbox-short.txt\", \"r\")\n",
    "all_emails_list = []\n",
    "for line in mboxfile:\n",
    "    line = line.rstrip()\n",
    "    x = re.findall('\\S+@\\S+\\.\\D\\D\\D', line)\n",
    "    #x = re.findall('[A-Za-z0-9._%+-]+@(?:[A-Za-z0-9-]+\\.)+[A-Za-z]{2,}', line)\n",
    "    if len(x) > 0:\n",
    "        all_emails_list.extend(x)\n",
    "print(len(all_emails_list))\n",
    "pp.pprint(all_emails_list) # Many duplicate emails\n"
   ]
  },
  {
   "cell_type": "code",
   "execution_count": null,
   "metadata": {},
   "outputs": [],
   "source": [
    "mboxfile = open(\"files\\\\mbox-short.txt\", \"r\")\n",
    "all_emails_list = []\n",
    "for line in mboxfile:\n",
    "    line = line.rstrip()\n",
    "    x = re.findall('rev=.....', line)\n",
    "    if len(x) > 0:\n",
    "        all_emails_list.extend(x)\n",
    "\n",
    "print(all_emails_list)\n",
    "all_revs_set = set(all_emails_list)\n",
    "print(len(all_revs_set))"
   ]
  },
  {
   "cell_type": "code",
   "execution_count": null,
   "metadata": {},
   "outputs": [],
   "source": []
  }
 ],
 "metadata": {
  "kernelspec": {
   "display_name": "Python 3",
   "language": "python",
   "name": "python3"
  },
  "language_info": {
   "codemirror_mode": {
    "name": "ipython",
    "version": 3
   },
   "file_extension": ".py",
   "mimetype": "text/x-python",
   "name": "python",
   "nbconvert_exporter": "python",
   "pygments_lexer": "ipython3",
   "version": "3.8.5"
  }
 },
 "nbformat": 4,
 "nbformat_minor": 4
}
