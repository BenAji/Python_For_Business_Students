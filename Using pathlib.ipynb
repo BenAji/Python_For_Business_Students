{
 "cells": [
  {
   "cell_type": "markdown",
   "metadata": {},
   "source": [
    "# Using pathlib\n",
    "You will often need to read and write to files. Accessing file paths can be tricky--especially if you or your users use different file systems. The following works well on Windows, but not on Mac or Linux:\n",
    "\n",
    "```Python\n",
    "file_path = 'data\\\\myfile.txt'\n",
    "```\n",
    "\n",
    "Mac and Linux use a forward slash (/) to separate files from folders while Windows uses a backslash (\\).\n",
    "\n",
    "You may also need to loading data from a single file or recursively loading data from multiple files below a top-level directory. The pathlib module provides glob and rglob to help select files within a path or within sub-directories below a path.\n",
    "\n",
    "First, let's see how to create and use a path object."
   ]
  },
  {
   "cell_type": "code",
   "execution_count": null,
   "metadata": {},
   "outputs": [],
   "source": [
    "import pathlib\n",
    "import pandas as pd"
   ]
  },
  {
   "cell_type": "code",
   "execution_count": null,
   "metadata": {},
   "outputs": [],
   "source": [
    "# Create a path object to the Microsoft_Store.csv file located in the files folder\n",
    "ms_file = pathlib.Path('files', 'Microsoft_Store.csv')"
   ]
  },
  {
   "cell_type": "code",
   "execution_count": null,
   "metadata": {},
   "outputs": [],
   "source": [
    "# Use the path object to load the CSV file into a DataFrame\n",
    "ms_df = pd.read_csv(ms_file)\n",
    "ms_df.head()"
   ]
  },
  {
   "cell_type": "code",
   "execution_count": null,
   "metadata": {},
   "outputs": [],
   "source": [
    "all_json_files = pathlib.Path('c:/bts/2017 Alabama football JSON').rglob('*/full/*json')"
   ]
  },
  {
   "cell_type": "code",
   "execution_count": null,
   "metadata": {},
   "outputs": [],
   "source": [
    "for file in all_json_files:\n",
    "    print(file.parent)\n",
    "    print(\"   \", file.name)"
   ]
  }
 ],
 "metadata": {
  "kernelspec": {
   "display_name": "Python 3",
   "language": "python",
   "name": "python3"
  },
  "language_info": {
   "codemirror_mode": {
    "name": "ipython",
    "version": 3
   },
   "file_extension": ".py",
   "mimetype": "text/x-python",
   "name": "python",
   "nbconvert_exporter": "python",
   "pygments_lexer": "ipython3",
   "version": "3.8.5"
  }
 },
 "nbformat": 4,
 "nbformat_minor": 4
}
