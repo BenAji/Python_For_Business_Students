{
 "cells": [
  {
   "cell_type": "markdown",
   "metadata": {},
   "source": [
    "# Using pathlib\n",
    "You will often need to read and write to files. Accessing file paths can be tricky--especially if you or your users use different file systems. The following works well on Windows, but not on Mac or Linux:\n",
    "\n",
    "```Python\n",
    "file_path = 'data\\\\myfile.txt'\n",
    "```\n",
    "\n",
    "Mac and Linux use a forward slash (/) to separate files from folders while Windows uses a backslash (\\).\n",
    "\n",
    "You may also need to loading data from a single file or recursively loading data from multiple files below a top-level directory. The pathlib module provides glob and rglob to help select files within a path or within sub-directories below a path.\n",
    "\n",
    "First, let's see how to create and use a path object."
   ]
  },
  {
   "cell_type": "code",
   "execution_count": null,
   "metadata": {},
   "outputs": [],
   "source": [
    "import pathlib\n",
    "import pandas as pd"
   ]
  },
  {
   "cell_type": "code",
   "execution_count": null,
   "metadata": {},
   "outputs": [],
   "source": [
    "# Create a path object to the Microsoft_Store.csv file located in the files folder\n",
    "ms_file = pathlib.Path('files', 'Microsoft_Store.csv')"
   ]
  },
  {
   "cell_type": "code",
   "execution_count": null,
   "metadata": {},
   "outputs": [],
   "source": [
    "# Use CWD and \"/\" to create a platform-independent path to a file\n",
    "ms_file2 = pathlib.Path.cwd() / 'files' / 'Microsoft_Store.csv'\n",
    "ms_file2.name"
   ]
  },
  {
   "cell_type": "code",
   "execution_count": null,
   "metadata": {},
   "outputs": [],
   "source": [
    "# Use the path object to load the CSV file into a DataFrame\n",
    "ms_df = pd.read_csv(ms_file)\n",
    "ms_df.head(10)"
   ]
  },
  {
   "cell_type": "code",
   "execution_count": null,
   "metadata": {},
   "outputs": [],
   "source": [
    "all_json_files = pathlib.Path('/home/gjbott/Dropbox/research/github/mis501/2017 Alabama football JSON/').rglob('*/full/*json')"
   ]
  },
  {
   "cell_type": "code",
   "execution_count": null,
   "metadata": {},
   "outputs": [],
   "source": [
    "for file in all_json_files:\n",
    "    print(file.parent)\n",
    "    print(\"   \", file.name)"
   ]
  },
  {
   "cell_type": "code",
   "execution_count": null,
   "metadata": {},
   "outputs": [],
   "source": []
  }
 ],
 "metadata": {
  "kernelspec": {
   "display_name": "Python 3",
   "language": "python",
   "name": "python3"
  },
  "language_info": {
   "codemirror_mode": {
    "name": "ipython",
    "version": 3
   },
   "file_extension": ".py",
   "mimetype": "text/x-python",
   "name": "python",
   "nbconvert_exporter": "python",
   "pygments_lexer": "ipython3",
   "version": "3.9.4"
  }
 },
 "nbformat": 4,
 "nbformat_minor": 4
}
