{
 "cells": [
  {
   "cell_type": "markdown",
   "metadata": {},
   "source": [
    "# Using pathlib\n",
    "You will often need to read and write to files. Accessing file paths can be tricky--especially if you or your users use different file systems. The following works well on Windows, but not on Mac or Linux:\n",
    "\n",
    "```Python\n",
    "file_path = 'data\\\\myfile.txt'\n",
    "```\n",
    "\n",
    "Mac and Linux use a forward slash (/) to separate files from folders while Windows uses a backslash (\\).\n",
    "\n",
    "You may also need to loading data from a single file or recursively loading data from multiple files below a top-level directory. The pathlib module provides glob and rglob to help select files within a path or within sub-directories below a path.\n",
    "\n",
    "First, let's see how to create and use a path object."
   ]
  },
  {
   "cell_type": "code",
   "execution_count": 1,
   "metadata": {},
   "outputs": [],
   "source": [
    "import pathlib\n",
    "import pandas as pd"
   ]
  },
  {
   "cell_type": "code",
   "execution_count": 2,
   "metadata": {},
   "outputs": [],
   "source": [
    "# Create a path object to the Microsoft_Store.csv file located in the files folder\n",
    "ms_file = pathlib.Path('files', 'Microsoft_Store.csv')"
   ]
  },
  {
   "cell_type": "code",
   "execution_count": 3,
   "metadata": {},
   "outputs": [
    {
     "data": {
      "text/html": [
       "<div>\n",
       "<style scoped>\n",
       "    .dataframe tbody tr th:only-of-type {\n",
       "        vertical-align: middle;\n",
       "    }\n",
       "\n",
       "    .dataframe tbody tr th {\n",
       "        vertical-align: top;\n",
       "    }\n",
       "\n",
       "    .dataframe thead th {\n",
       "        text-align: right;\n",
       "    }\n",
       "</style>\n",
       "<table border=\"1\" class=\"dataframe\">\n",
       "  <thead>\n",
       "    <tr style=\"text-align: right;\">\n",
       "      <th></th>\n",
       "      <th>Name</th>\n",
       "      <th>Rating</th>\n",
       "      <th>No of people Rated</th>\n",
       "      <th>Category</th>\n",
       "      <th>Date</th>\n",
       "      <th>Price</th>\n",
       "    </tr>\n",
       "  </thead>\n",
       "  <tbody>\n",
       "    <tr>\n",
       "      <th>0</th>\n",
       "      <td>Dynamic Reader</td>\n",
       "      <td>3.5</td>\n",
       "      <td>268</td>\n",
       "      <td>Books</td>\n",
       "      <td>07-01-2014</td>\n",
       "      <td>Free</td>\n",
       "    </tr>\n",
       "    <tr>\n",
       "      <th>1</th>\n",
       "      <td>Chemistry, Organic Chemistry and Biochemistry-...</td>\n",
       "      <td>3.0</td>\n",
       "      <td>627</td>\n",
       "      <td>Books</td>\n",
       "      <td>08-01-2014</td>\n",
       "      <td>Free</td>\n",
       "    </tr>\n",
       "    <tr>\n",
       "      <th>2</th>\n",
       "      <td>BookViewer</td>\n",
       "      <td>3.5</td>\n",
       "      <td>593</td>\n",
       "      <td>Books</td>\n",
       "      <td>29-02-2016</td>\n",
       "      <td>Free</td>\n",
       "    </tr>\n",
       "    <tr>\n",
       "      <th>3</th>\n",
       "      <td>Brick Instructions</td>\n",
       "      <td>3.5</td>\n",
       "      <td>684</td>\n",
       "      <td>Books</td>\n",
       "      <td>30-01-2018</td>\n",
       "      <td>Free</td>\n",
       "    </tr>\n",
       "    <tr>\n",
       "      <th>4</th>\n",
       "      <td>Introduction to Python Programming by GoLearni...</td>\n",
       "      <td>2.0</td>\n",
       "      <td>634</td>\n",
       "      <td>Books</td>\n",
       "      <td>30-01-2018</td>\n",
       "      <td>Free</td>\n",
       "    </tr>\n",
       "  </tbody>\n",
       "</table>\n",
       "</div>"
      ],
      "text/plain": [
       "                                                Name  Rating  \\\n",
       "0                                     Dynamic Reader     3.5   \n",
       "1  Chemistry, Organic Chemistry and Biochemistry-...     3.0   \n",
       "2                                         BookViewer     3.5   \n",
       "3                                 Brick Instructions     3.5   \n",
       "4  Introduction to Python Programming by GoLearni...     2.0   \n",
       "\n",
       "   No of people Rated Category        Date Price  \n",
       "0                 268    Books  07-01-2014  Free  \n",
       "1                 627    Books  08-01-2014  Free  \n",
       "2                 593    Books  29-02-2016  Free  \n",
       "3                 684    Books  30-01-2018  Free  \n",
       "4                 634    Books  30-01-2018  Free  "
      ]
     },
     "execution_count": 3,
     "metadata": {},
     "output_type": "execute_result"
    }
   ],
   "source": [
    "# Use the path object to load the CSV file into a DataFrame\n",
    "ms_df = pd.read_csv(ms_file)\n",
    "ms_df.head()"
   ]
  },
  {
   "cell_type": "code",
   "execution_count": 7,
   "metadata": {},
   "outputs": [],
   "source": [
    "all_xlsx_files = pathlib.Path('files').rglob('*xlsx')"
   ]
  },
  {
   "cell_type": "code",
   "execution_count": 8,
   "metadata": {},
   "outputs": [
    {
     "name": "stdout",
     "output_type": "stream",
     "text": [
      "2010_msstore.xlsx\n",
      "2011_msstore.xlsx\n",
      "2012_msstore.xlsx\n"
     ]
    }
   ],
   "source": [
    "for file in all_xlsx_files:\n",
    "    print(file.name)"
   ]
  },
  {
   "cell_type": "code",
   "execution_count": null,
   "metadata": {},
   "outputs": [],
   "source": []
  }
 ],
 "metadata": {
  "kernelspec": {
   "display_name": "Python 3",
   "language": "python",
   "name": "python3"
  },
  "language_info": {
   "codemirror_mode": {
    "name": "ipython",
    "version": 3
   },
   "file_extension": ".py",
   "mimetype": "text/x-python",
   "name": "python",
   "nbconvert_exporter": "python",
   "pygments_lexer": "ipython3",
   "version": "3.8.5"
  }
 },
 "nbformat": 4,
 "nbformat_minor": 4
}
