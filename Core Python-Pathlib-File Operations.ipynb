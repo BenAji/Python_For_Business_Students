{
 "cells": [
  {
   "cell_type": "markdown",
   "id": "3ef3e539-efbb-40d7-988e-22a02729cb4c",
   "metadata": {
    "toc-hr-collapsed": true,
    "toc-nb-collapsed": true
   },
   "source": [
    "# File Operations\n",
    "\n",
    "Use the open() function to read(r), append (a), or write (w) to a file. Opening a file returns a file handle, not the actual data in the file. After opening the file you can read or write to it. When you are finished with the file, ensure it is closed. Failing to close a file may lead to memory issues, inaccessible files, and possibly data loss."
   ]
  },
  {
   "cell_type": "code",
   "execution_count": null,
   "id": "e00aec72-3087-429e-b1d0-43898ef9a20b",
   "metadata": {},
   "outputs": [],
   "source": [
    "%cat demofile.txt"
   ]
  },
  {
   "cell_type": "code",
   "execution_count": null,
   "id": "c91497ec-2156-4c81-8b67-9ab1075d093f",
   "metadata": {},
   "outputs": [],
   "source": [
    "# use the os module to access operating system information such as the current working directory (getcwd())\n",
    "import os\n",
    "\n",
    "# Create (or overwrite) a file\n",
    "# If no path is specified, the file will be created in the current working directory\n",
    "\n",
    "# If the file exists, opening with the \"w\" parameter will overwrite a file of the same name\n",
    "#   if present in the same folder. To append instead of overwriting, use the \"a\" mode.\n",
    "f = open(\"demofile.txt\", \"w\")\n",
    "\n",
    "f.write(\"This is the first line of the file.\\n\")\n",
    "\n",
    "# Be sure to close your file. Failure to do so will cause problems.\n",
    "f.close()\n",
    "\n",
    "# Get the current directory\n",
    "print(os.getcwd())"
   ]
  },
  {
   "cell_type": "markdown",
   "id": "eef4b3f2-e744-4ab5-ac0c-fc99bbaa36d7",
   "metadata": {},
   "source": [
    "## Using the With statement for opening files\n",
    "One advantage to using the With statement is that files you open using this method are automatically closed."
   ]
  },
  {
   "cell_type": "code",
   "execution_count": null,
   "id": "c50d4006-987e-4946-bb19-7f3bb544cd43",
   "metadata": {},
   "outputs": [],
   "source": [
    "# Append the file\n",
    "with open(\"demofile.txt\", \"a\") as f:\n",
    "    f.write(\"This is the second line.\\n\")\n",
    "\n",
    "    # No need to explicitly close the file. Close() is automatically called."
   ]
  },
  {
   "cell_type": "code",
   "execution_count": null,
   "id": "1b6c62e8-e4e5-4e34-8903-fc4360c9db31",
   "metadata": {},
   "outputs": [],
   "source": [
    "%cat demofile.txt"
   ]
  },
  {
   "cell_type": "markdown",
   "id": "312245e3-d3c6-497f-aa45-b49268020870",
   "metadata": {
    "toc-hr-collapsed": false
   },
   "source": [
    "## Reading files\n",
    "There are several ways to read data from a file. Some of the methods to read a file include: reading a specified number of characters, reading line-by-line, or a reading number of lines."
   ]
  },
  {
   "cell_type": "markdown",
   "id": "59801196-4cda-471f-addc-063317638ebd",
   "metadata": {},
   "source": [
    "### Reading an entire file"
   ]
  },
  {
   "cell_type": "code",
   "execution_count": null,
   "id": "8e0e0a1d-1d19-44d9-a1a2-399268824227",
   "metadata": {},
   "outputs": [],
   "source": [
    "import pathlib\n",
    "file_path = pathlib.Path('files/gettysburg.txt')\n",
    "with open(file_path,\"r\") as fh_getty:\n",
    "    #read() will access the entire file. Not a good option for large files.\n",
    "    print(fh_getty.read())"
   ]
  },
  {
   "cell_type": "code",
   "execution_count": null,
   "id": "df300607-8866-4e54-b45b-a0b4d73546b4",
   "metadata": {},
   "outputs": [],
   "source": [
    "with open(file_path,\"r\") as fh_getty:\n",
    "    n = 100\n",
    "    #read() will access the entire file. Not a good option for large files.\n",
    "    print(fh_getty.read(n)) # Read the first n characters"
   ]
  },
  {
   "cell_type": "code",
   "execution_count": null,
   "id": "495b5c99-23fb-40ee-860f-e0ffdd4febc6",
   "metadata": {},
   "outputs": [],
   "source": [
    "with open(file_path,\"r\") as fh_getty:    \n",
    "    #read() will access the entire file. Not a good option for large files.\n",
    "    print(fh_getty.readline()) # Read a line\n",
    "    print(fh_getty.readline()) # Read a line\n",
    "    print(fh_getty.readline()) # Read a line"
   ]
  },
  {
   "cell_type": "code",
   "execution_count": null,
   "id": "98b35c34-56ad-4698-8c2a-0e287fb82ebb",
   "metadata": {},
   "outputs": [],
   "source": [
    "with open(file_path,\"r\") as fh_getty:    \n",
    "    #read() will access the entire file. Not a good option for large files.\n",
    "    x = fh_getty.readlines() # Read all lines with new line characters, separated by commas\n",
    "    print(x[5])"
   ]
  },
  {
   "cell_type": "code",
   "execution_count": null,
   "id": "79d16ab3-f5df-408a-9684-d116f0bdad6f",
   "metadata": {},
   "outputs": [],
   "source": [
    "with open(file_path,\"r\") as fh_getty:\n",
    "    line_number = 0\n",
    "    for x in fh_getty: # \"x\" will represent a line\n",
    "        print(str(line_number) + \": \" + x)\n",
    "        line_number += 1"
   ]
  },
  {
   "cell_type": "code",
   "execution_count": null,
   "id": "304f0b61-25ba-4501-afc1-5d8ae8a09276",
   "metadata": {},
   "outputs": [],
   "source": [
    "customer_file = pathlib.Path(r'files/fake_customer_list.txt')\n",
    "with open(customer_file, 'r') as fh_customers:\n",
    "\n",
    "    for line in fh_customers:\n",
    "        #print(line)\n",
    "        customer_list = line.strip().split(\"|\")\n",
    "        full_name = customer_list[0]\n",
    "        email = customer_list[-1]\n",
    "        print(full_name + \" -- \" + email)        "
   ]
  },
  {
   "cell_type": "code",
   "execution_count": null,
   "id": "4049cd31-7069-4c8c-bb68-4a1e1b155c04",
   "metadata": {},
   "outputs": [],
   "source": [
    "# List files in the current directory \n",
    "import os\n",
    "import pprint as pp # 'pretty prints' the output in a column\n",
    "pp.pprint(os.listdir(os.getcwd()))"
   ]
  },
  {
   "cell_type": "code",
   "execution_count": null,
   "id": "31f72199-6c63-48a5-8222-36cf592c85e5",
   "metadata": {},
   "outputs": [],
   "source": [
    "# 'Magic' command to list files in current directory\n",
    "%ls"
   ]
  },
  {
   "cell_type": "markdown",
   "id": "e6a01674-c93b-4365-9b9a-2694513b6b00",
   "metadata": {},
   "source": [
    "### Use the CSV module to read a file"
   ]
  },
  {
   "cell_type": "code",
   "execution_count": null,
   "id": "a9856175-0fa4-4be9-a419-ae83b72f2a76",
   "metadata": {},
   "outputs": [],
   "source": [
    "import csv\n",
    "with open('./files/lyricsonly2M.csv', 'r') as f:\n",
    "    reader = csv.reader(f)\n",
    "    your_list = list(reader)"
   ]
  },
  {
   "cell_type": "code",
   "execution_count": null,
   "id": "f6ac2985-9b42-4309-8a04-e2d21d4cd9c2",
   "metadata": {},
   "outputs": [],
   "source": [
    "pp.pprint(your_list[:99])"
   ]
  },
  {
   "cell_type": "code",
   "execution_count": null,
   "id": "271c076a-3809-4c5e-be83-75f6abbbf1c3",
   "metadata": {},
   "outputs": [],
   "source": [
    "len(your_list)"
   ]
  },
  {
   "cell_type": "code",
   "execution_count": null,
   "id": "d777fc49-1107-42ef-bdb7-409a10eab950",
   "metadata": {},
   "outputs": [],
   "source": [
    "import pandas as pd\n",
    "df_lyrics = pd.DataFrame(your_list, columns=your_list[0])"
   ]
  },
  {
   "cell_type": "code",
   "execution_count": null,
   "id": "5424ae7e-2ad0-4ed2-92d7-795b5440d579",
   "metadata": {},
   "outputs": [],
   "source": [
    "print(df_lyrics.shape)\n",
    "with pd.option_context('display.max_seq_items', None):\n",
    "    print(df_lyrics.head(5000))\n"
   ]
  },
  {
   "cell_type": "code",
   "execution_count": null,
   "id": "adbc576d-b2ff-479c-98ef-86bc2cd7b5bb",
   "metadata": {},
   "outputs": [],
   "source": [
    "print(your_list[0])"
   ]
  },
  {
   "cell_type": "markdown",
   "id": "1c583410-3795-4882-93a9-5e05fe507f7e",
   "metadata": {},
   "source": [
    "## Writing to a File"
   ]
  },
  {
   "cell_type": "code",
   "execution_count": null,
   "id": "1f65513b-5840-4c51-bc0a-a71a75c8021b",
   "metadata": {},
   "outputs": [],
   "source": [
    "import os\n",
    "with open('notebook_list.txt','w') as f:\n",
    "    for root, dirs, files in os.walk(\"~\", topdown=False):\n",
    "        for name in files:\n",
    "            if name.endswith('.ipynb'):\n",
    "                print(\"writing...\",os.path.join(root, name))\n",
    "                f.write(os.path.join(root, name)+\"\\n\")"
   ]
  },
  {
   "cell_type": "markdown",
   "id": "cad66349-5b60-4e7e-8e5c-ed9b9ebf0c38",
   "metadata": {},
   "source": [
    "## Use Pandas to Read a file\n",
    "Although built-in file operations in Python may be useful for trivial matters, Pandas and Numpy are much more effective for reading, shaping, and analyzing data. Using these libraries is beyond the scope of this course, however, you should be aware of these libraries. See the Pandas notebook for more information."
   ]
  },
  {
   "cell_type": "code",
   "execution_count": null,
   "id": "160a1d70-d15b-4487-a7cb-1ddef18e87e1",
   "metadata": {},
   "outputs": [],
   "source": [
    "import pandas as pd\n",
    "\n",
    "df = pd.read_csv(\".\\\\files\\\\2017_instacart_products.csv\")\n",
    "df.head()"
   ]
  },
  {
   "cell_type": "code",
   "execution_count": null,
   "id": "721e8bf2-78fe-4e49-b115-2e2aac8a6b2d",
   "metadata": {},
   "outputs": [],
   "source": [
    "# Use the describe function to display descriptive statistics for numerical fields (even if that doesn't make sense...)\n",
    "df.describe()"
   ]
  }
 ],
 "metadata": {
  "kernelspec": {
   "display_name": "Python 3 (ipykernel)",
   "language": "python",
   "name": "python3"
  },
  "language_info": {
   "codemirror_mode": {
    "name": "ipython",
    "version": 3
   },
   "file_extension": ".py",
   "mimetype": "text/x-python",
   "name": "python",
   "nbconvert_exporter": "python",
   "pygments_lexer": "ipython3",
   "version": "3.9.7"
  }
 },
 "nbformat": 4,
 "nbformat_minor": 5
}
