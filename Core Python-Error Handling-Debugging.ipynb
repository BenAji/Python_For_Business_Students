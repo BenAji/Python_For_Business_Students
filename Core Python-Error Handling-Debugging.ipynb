{
 "cells": [
  {
   "cell_type": "markdown",
   "id": "224eb927-af85-467b-91f6-f4e1aca11eb2",
   "metadata": {
    "tags": [],
    "toc-hr-collapsed": true,
    "toc-nb-collapsed": true
   },
   "source": [
    "# Error Handling\n",
    "\n",
    "Types of errors:\n",
    "1. Syntatical\n",
    "2. Logical\n",
    "3. Runtime\n",
    "\n",
    "Robust programs anticipate and gracefully handle unexpected situations and errors. For example, when asking a user to input a number, a robust program gracefully handles unexpected or erroneous input. Another examples include attempting to open a file or connect to a database. When the interpreter encounters an error, execution stops and an Exception object is accessible.\n",
    "\n",
    "```Python\n",
    "try:\n",
    "    <code>\n",
    "except Exception:\n",
    "    pass\n",
    "else:\n",
    "    pass\n",
    "finally:\n",
    "    pass\n",
    "```\n",
    "\n",
    "Error handling enables the developer to gracefully respond to exceptions in code. Without error handling, users will be confronted with error output they may not understand and that stops execution. \n",
    "\n",
    "Instead, use error handling to communicate resolution steps to the user and continue execution or exit gracefully.\n",
    "\n",
    "The ```pass``` statement is a null statement. It does nothing and is discarded by the interpreter. "
   ]
  },
  {
   "cell_type": "code",
   "execution_count": null,
   "id": "5400c07d-2959-4a63-8410-eecd63f6f64d",
   "metadata": {},
   "outputs": [],
   "source": [
    "# Syntatical error\n",
    "print('Hello, world)"
   ]
  },
  {
   "cell_type": "code",
   "execution_count": null,
   "id": "ce514e3f-f5cc-4ea5-8015-9345167a07eb",
   "metadata": {},
   "outputs": [],
   "source": [
    "# Error: File Does not exist\n",
    "with open(\"demo_file.txt\", 'r') as f:\n",
    "    f.read()"
   ]
  },
  {
   "cell_type": "markdown",
   "id": "fefd2f75-2cc1-44bf-9cd3-5ae630ec860e",
   "metadata": {},
   "source": [
    "## Using Try...Except"
   ]
  },
  {
   "cell_type": "code",
   "execution_count": null,
   "id": "366dd9ca-6e77-495a-9a3d-67a317a4f0ea",
   "metadata": {},
   "outputs": [],
   "source": [
    "# Wrap error-prone code in try...except blocks\n",
    "try:\n",
    "    with open(\"does_not_exist.txt\", 'r') as f:\n",
    "        f.read()\n",
    "    print('line after open file')\n",
    "except FileNotFoundError as e:\n",
    "    print(\"File not found.\")\n"
   ]
  },
  {
   "cell_type": "code",
   "execution_count": null,
   "id": "7dcb2ce4-3fdf-4512-a4cd-02a3cbce7293",
   "metadata": {},
   "outputs": [],
   "source": [
    "# Wrap error-prone code in try...except blocks\n",
    "try:\n",
    "    # 5/0    \n",
    "    # with open(\"notyourfile.txt\", 'r') as f:\n",
    "    #     text = f.read()\n",
    "    # print(text)\n",
    "    print('hi')\n",
    "except FileNotFoundError as e:\n",
    "    print(\"File not found.\")\n",
    "except ZeroDivisionError as e:\n",
    "    print(\"Attempting to divide by zero!\")\n",
    "except Exception as e:\n",
    "    print(\"some other kind of error:\", e)\n",
    "else:\n",
    "    print(\"ran without exception\")\n",
    "finally:\n",
    "    print('do logging here')\n"
   ]
  },
  {
   "cell_type": "code",
   "execution_count": null,
   "id": "098558a2-3dc8-410e-8521-cc18d839a936",
   "metadata": {},
   "outputs": [],
   "source": [
    "# To take specific actions, place the type of error after the except statement.\n",
    "#   This block will only catch FileNotFound errors\n",
    "try:\n",
    "    with open(\"demofile.txt\", 'r') as f:\n",
    "        f.read()\n",
    "    #newfile = myfile\n",
    "except FileNotFoundError as e:\n",
    "    print(e, \"Please input the correct path and file name.\")"
   ]
  },
  {
   "cell_type": "markdown",
   "id": "84c4295c-9039-4300-82a0-f217d3fea186",
   "metadata": {},
   "source": [
    "When handling multiple exceptions, sort your exception handling with the most specific at the top and the more general towards the bottom. Otherwise, the specific exceptions will never be caught."
   ]
  },
  {
   "cell_type": "code",
   "execution_count": null,
   "id": "7f8bf451-b3ca-481d-b67a-7efbf4074c28",
   "metadata": {},
   "outputs": [],
   "source": [
    "# Use as many except statements as needed\n",
    "try:\n",
    "    with open(\"demofile.txt\", 'r') as f:\n",
    "        f.read()\n",
    "    newfile = myfile\n",
    "except FileNotFoundError as e:\n",
    "    print(e, \"Please input the correct path and file name.\") # Help users understand how to resolve the error\n",
    "except NameError as e:\n",
    "    print(e)"
   ]
  },
  {
   "cell_type": "markdown",
   "id": "4e20496d-9041-47c3-ad9d-54a88db71461",
   "metadata": {},
   "source": [
    "## Using Else and Finally\n",
    "Use the ```else``` clause to run code if NO errors are thrown.\n",
    "Code in the ```finally``` block always runs--irrespective of whether an exception was caught."
   ]
  },
  {
   "cell_type": "code",
   "execution_count": null,
   "id": "13fe2b53-6f8c-48a4-b6ec-10dbae028baa",
   "metadata": {},
   "outputs": [],
   "source": [
    "try:\n",
    "    with open(\"demofile.txt\", 'r') as f:\n",
    "        f.read()\n",
    "    newfile = \"\"\n",
    "except FileNotFoundError as e:\n",
    "    print(e, \"Please input the correct path and file name.\") # Help users understand how to resolve the error\n",
    "except NameError as e:\n",
    "    print(e)\n",
    "else:\n",
    "    print(\"No exceptions thrown.\")\n",
    "finally:\n",
    "    print(\"Opening file process completed.\")"
   ]
  },
  {
   "cell_type": "code",
   "execution_count": null,
   "id": "414d6fe7-dc6e-4470-b902-1c1183c2658b",
   "metadata": {},
   "outputs": [],
   "source": [
    "# You can also raise errors manually (outside try-except)\n",
    "\n",
    "x = \"hello\"\n",
    "\n",
    "if not type(x) is int:\n",
    "  raise TypeError(\"Only integers are allowed\") "
   ]
  },
  {
   "cell_type": "code",
   "execution_count": null,
   "id": "2fba5106-2458-43ae-bd2a-67903f9fbf2d",
   "metadata": {},
   "outputs": [],
   "source": [
    "# Manually raising an error inside try..except\n",
    "try:\n",
    "    if not type(x) is int:\n",
    "        raise TypeError(\"Only integers are allowed\") \n",
    "except Exception as e:\n",
    "    print(e)"
   ]
  }
 ],
 "metadata": {
  "kernelspec": {
   "display_name": "Python 3 (ipykernel)",
   "language": "python",
   "name": "python3"
  },
  "language_info": {
   "codemirror_mode": {
    "name": "ipython",
    "version": 3
   },
   "file_extension": ".py",
   "mimetype": "text/x-python",
   "name": "python",
   "nbconvert_exporter": "python",
   "pygments_lexer": "ipython3",
   "version": "3.9.7"
  }
 },
 "nbformat": 4,
 "nbformat_minor": 5
}
