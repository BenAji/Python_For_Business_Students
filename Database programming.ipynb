{
 "cells": [
  {
   "cell_type": "markdown",
   "metadata": {},
   "source": [
    "# Using Databases and SQLite\n",
    "\n",
    "Helpful tools: \n",
    "* SQLite Studio (multi-platform)\n",
    "https://sqlitestudio.pl/index.rvt?act=download\n",
    "\n",
    "* SQL Browser\n",
    "https://sqlitebrowser.org/\n",
    "\n",
    "Link to helpful SQL commands: \n",
    "https://www.w3schools.com/sql/sql_syntax.asp\n"
   ]
  },
  {
   "cell_type": "code",
   "execution_count": 2,
   "metadata": {},
   "outputs": [],
   "source": [
    "# Creates a SQLite database called music.sqlite\n",
    "import sqlite3\n",
    "conn = sqlite3.connect('music.sqlite') \n",
    "cur = conn.cursor()\n",
    "\n",
    "# Delete Tracks table (if exists), then create a table with two fields (title and plays)\n",
    "cur.execute('DROP TABLE IF EXISTS Tracks') \n",
    "cur.execute('CREATE TABLE Tracks (title TEXT, plays INTEGER)') \n",
    "conn.close()"
   ]
  },
  {
   "cell_type": "code",
   "execution_count": 3,
   "metadata": {},
   "outputs": [
    {
     "name": "stdout",
     "output_type": "stream",
     "text": [
      " Volume in drive C is Acer\n",
      " Volume Serial Number is 98BA-95A2\n",
      "\n",
      " Directory of C:\\Users\\gregb\\Documents\\GitHub\\Python_For_Business_Students\n",
      "\n",
      "10/03/2019  10:36 AM    <DIR>          .\n",
      "10/03/2019  10:36 AM    <DIR>          ..\n",
      "09/19/2019  08:38 AM               444 .gitignore\n",
      "10/03/2019  09:08 AM    <DIR>          .ipynb_checkpoints\n",
      "10/03/2019  10:36 AM             4,589 Database programming.ipynb\n",
      "09/19/2019  09:59 AM                26 demofile.txt\n",
      "10/01/2019  09:34 AM            15,292 Exceptions.ipynb\n",
      "09/19/2019  08:42 AM            15,384 fake_customer_list.txt\n",
      "09/19/2019  08:42 AM             1,582 gettysburg.txt\n",
      "07/02/2019  05:07 PM             3,331 ico_evaluate_msg.png\n",
      "09/12/2019  09:32 AM    <DIR>          images\n",
      "10/03/2019  09:08 AM    <DIR>          images_SQL_Alchemy_ORM\n",
      "10/03/2019  10:36 AM             8,192 music.sqlite\n",
      "09/19/2019  10:11 AM                44 NewCar.txt\n",
      "09/17/2019  09:11 AM            20,009 people_data.csv\n",
      "10/03/2019  09:08 AM           129,329 Python fundamentals.ipynb\n",
      "09/09/2019  11:12 AM             1,641 SQL_Alchemy_ORM.ipynb\n",
      "10/01/2019  09:34 AM            11,431 Untitled1.ipynb\n",
      "              13 File(s)        211,294 bytes\n",
      "               5 Dir(s)  73,222,836,224 bytes free\n"
     ]
    }
   ],
   "source": [
    "%ls"
   ]
  },
  {
   "cell_type": "code",
   "execution_count": 4,
   "metadata": {},
   "outputs": [
    {
     "name": "stdout",
     "output_type": "stream",
     "text": [
      "Tracks:\n",
      "('Thunderstruck', 20)\n",
      "('My Way', 15)\n",
      "('Who can it be now?', 55)\n",
      "('Party on Fifth Ave.', 80)\n"
     ]
    }
   ],
   "source": [
    "conn = sqlite3.connect('music.sqlite') \n",
    "\n",
    "# Get a \"file handle\" to the database\n",
    "cur = conn.cursor()\n",
    "\n",
    "# Create two new records in the Tracks table\n",
    "cur.execute('INSERT INTO Tracks (title, plays) VALUES (?, ?)', ('Thunderstruck', 20))\n",
    "cur.execute('INSERT INTO Tracks (title, plays) VALUES (?, ?)', ('My Way', 15))\n",
    "cur.execute('INSERT INTO Tracks (title, plays) VALUES (?, ?)', ('Who can it be now?', 55))\n",
    "cur.execute('INSERT INTO Tracks (title, plays) VALUES (?, ?)', ('Party on Fifth Ave.', 80))\n",
    "\n",
    "# \"Save\" the records\n",
    "conn.commit()\n",
    "\n",
    "print('Tracks:') \n",
    "\n",
    "# Return all records (title, plays fields) from Tracks table into the cursor\n",
    "cur.execute('SELECT title, plays FROM Tracks') \n",
    "\n",
    "# iterate through the rows\n",
    "for row in cur:\n",
    "    print(row)\n",
    "\n",
    "# Delete all rows with values in the plays field that are less than 100\n",
    "cur.execute('DELETE FROM Tracks WHERE plays > 100') \n",
    "conn.commit()\n",
    "\n",
    "# Remove the cursor object from memory\n",
    "cur.close()"
   ]
  },
  {
   "cell_type": "code",
   "execution_count": null,
   "metadata": {},
   "outputs": [],
   "source": []
  }
 ],
 "metadata": {
  "kernelspec": {
   "display_name": "Python 3",
   "language": "python",
   "name": "python3"
  },
  "language_info": {
   "codemirror_mode": {
    "name": "ipython",
    "version": 3
   },
   "file_extension": ".py",
   "mimetype": "text/x-python",
   "name": "python",
   "nbconvert_exporter": "python",
   "pygments_lexer": "ipython3",
   "version": "3.7.1"
  }
 },
 "nbformat": 4,
 "nbformat_minor": 2
}
